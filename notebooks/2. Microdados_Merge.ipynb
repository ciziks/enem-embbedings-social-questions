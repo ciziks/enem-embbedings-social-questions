{
 "cells": [
  {
   "cell_type": "markdown",
   "metadata": {},
   "source": [
    "## 2. Cruzamento dos Dados (Enunciado Questões + Microdados)\n",
    "\n",
    "* **Input**: Local do CSV de Questões Extraídas + Local do CSV de Microdados\n",
    "\n",
    "* **Output**: CSV com as colunas -> *numero_questao*, *enunciado*, *alternativas*, *nu_param_B* e *gabarito*"
   ]
  },
  {
   "cell_type": "code",
   "execution_count": 1,
   "metadata": {},
   "outputs": [],
   "source": [
    "import pandas as pd"
   ]
  },
  {
   "cell_type": "code",
   "execution_count": 31,
   "metadata": {},
   "outputs": [],
   "source": [
    "# Definição de Variáveis de Input e Output\n",
    "year = \"2021\"\n",
    "\n",
    "question_path = f\"../data/extracted_questions/enem_{year}.csv\"\n",
    "microdados_path = f\"../data/microdados/microdados_{year}.csv\"\n",
    "output_path = f\"../data/merged_data/enem_{year}.csv\""
   ]
  },
  {
   "cell_type": "code",
   "execution_count": 32,
   "metadata": {},
   "outputs": [],
   "source": [
    "# Ler o CSV extraído do PDF (resultado de Text_Extraction.ipynb)\n",
    "df_questions = pd.read_csv(question_path, encoding=\"utf-8\", quotechar='\"')\n",
    "\n",
    "# Ler o CSV de microdados\n",
    "df_microdados = pd.read_csv(microdados_path, delimiter=\";\", encoding=\"latin1\")"
   ]
  },
  {
   "cell_type": "code",
   "execution_count": 33,
   "metadata": {},
   "outputs": [],
   "source": [
    "# Filtrando os microdados para SG_AREA 'CH', TX_COR 'AZUL' e CO_PROVA 'X'\n",
    "# ATENÇÃO: O Código da Prova para a Aplicação Regular muda a cada ano\n",
    "df_microdados_filtrado = df_microdados[\n",
    "    (df_microdados[\"SG_AREA\"] == \"CH\")  # Ciência Humanas\n",
    "    & (df_microdados[\"TX_COR\"].str.upper() == \"AZUL\")  # Apenas caderno azul\n",
    "]\n",
    "\n",
    "# Determinar o menor valor de CO_PROVA encontrado\n",
    "menor_co_prova = int(df_microdados_filtrado[\"CO_PROVA\"].min())\n",
    "\n",
    "# Filtrar novamente considerando apenas o menor CO_PROVA\n",
    "df_microdados_filtrado = df_microdados_filtrado[\n",
    "    df_microdados_filtrado[\"CO_PROVA\"] == menor_co_prova\n",
    "]\n",
    "\n",
    "# Selecionar apenas as colunas de interesse dos microdados\n",
    "df_microdados_sel = df_microdados_filtrado[\n",
    "    [\"CO_POSICAO\", \"NU_PARAM_B\", \"TX_GABARITO\"]\n",
    "].copy()"
   ]
  },
  {
   "cell_type": "code",
   "execution_count": 34,
   "metadata": {},
   "outputs": [],
   "source": [
    "# Certificar que os tipos das chaves de junção são compatíveis\n",
    "df_questions[\"numero_questao\"] = df_questions[\"numero_questao\"].astype(str)\n",
    "df_microdados_sel[\"CO_POSICAO\"] = df_microdados_sel[\"CO_POSICAO\"].astype(str)\n",
    "\n",
    "# Fazer o cruzamento usando o número da questão (numero_questao e CO_POSICAO)\n",
    "df_merged = pd.merge(\n",
    "    df_questions,\n",
    "    df_microdados_sel,\n",
    "    left_on=\"numero_questao\",\n",
    "    right_on=\"CO_POSICAO\",\n",
    "    how=\"left\",\n",
    ")"
   ]
  },
  {
   "cell_type": "code",
   "execution_count": 35,
   "metadata": {},
   "outputs": [
    {
     "name": "stdout",
     "output_type": "stream",
     "text": [
      "Merge concluído.\n"
     ]
    }
   ],
   "source": [
    "# Remover a coluna CO_POSICAO (redundante)\n",
    "df_merged.drop(columns=[\"CO_POSICAO\"], inplace=True)\n",
    "\n",
    "# Renomeando colunas\n",
    "df_merged.rename(columns={\n",
    "    \"NU_PARAM_B\": \"nu_param_B\",\n",
    "    \"TX_GABARITO\": \"gabarito\"\n",
    "}, inplace=True)\n",
    "\n",
    "\n",
    "# Salvando DF resultante\n",
    "df_merged.to_csv(output_path, index=False, encoding=\"utf-8\")\n",
    "\n",
    "print(\"Merge concluído.\")"
   ]
  },
  {
   "cell_type": "code",
   "execution_count": 36,
   "metadata": {},
   "outputs": [
    {
     "data": {
      "text/html": [
       "<div>\n",
       "<style scoped>\n",
       "    .dataframe tbody tr th:only-of-type {\n",
       "        vertical-align: middle;\n",
       "    }\n",
       "\n",
       "    .dataframe tbody tr th {\n",
       "        vertical-align: top;\n",
       "    }\n",
       "\n",
       "    .dataframe thead th {\n",
       "        text-align: right;\n",
       "    }\n",
       "</style>\n",
       "<table border=\"1\" class=\"dataframe\">\n",
       "  <thead>\n",
       "    <tr style=\"text-align: right;\">\n",
       "      <th></th>\n",
       "      <th>numero_questao</th>\n",
       "      <th>enunciado</th>\n",
       "      <th>alternativas</th>\n",
       "      <th>nu_param_B</th>\n",
       "      <th>gabarito</th>\n",
       "    </tr>\n",
       "  </thead>\n",
       "  <tbody>\n",
       "    <tr>\n",
       "      <th>0</th>\n",
       "      <td>46</td>\n",
       "      <td>Seu turno de trabalho acabou, você já está em ...</td>\n",
       "      <td>A: proteção da vida privada.; B: ampliação de ...</td>\n",
       "      <td>0.59033</td>\n",
       "      <td>B</td>\n",
       "    </tr>\n",
       "    <tr>\n",
       "      <th>1</th>\n",
       "      <td>47</td>\n",
       "      <td>Quando a taxa de remuneração do capital excede...</td>\n",
       "      <td>A: ideologia do mérito.; B: direito de nascime...</td>\n",
       "      <td>1.33796</td>\n",
       "      <td>A</td>\n",
       "    </tr>\n",
       "    <tr>\n",
       "      <th>2</th>\n",
       "      <td>48</td>\n",
       "      <td>Atualmente, o Programa de Melhoramento \"Uvas d...</td>\n",
       "      <td>A: espécies nativas ameaçadas.; B: cadeias eco...</td>\n",
       "      <td>1.61961</td>\n",
       "      <td>D</td>\n",
       "    </tr>\n",
       "    <tr>\n",
       "      <th>3</th>\n",
       "      <td>49</td>\n",
       "      <td>TEXTO I\\nPortadoras de mensagem espiritual do ...</td>\n",
       "      <td>A: ampliação do comércio de imagens sacras.; B...</td>\n",
       "      <td>0.38656</td>\n",
       "      <td>C</td>\n",
       "    </tr>\n",
       "    <tr>\n",
       "      <th>4</th>\n",
       "      <td>50</td>\n",
       "      <td>TEXTO I\\nEm 2016, foram gerados 44,7 milhões d...</td>\n",
       "      <td>A: Exercício pleno da cidadania.; B: Divisão i...</td>\n",
       "      <td>1.67763</td>\n",
       "      <td>B</td>\n",
       "    </tr>\n",
       "  </tbody>\n",
       "</table>\n",
       "</div>"
      ],
      "text/plain": [
       "   numero_questao                                          enunciado  \\\n",
       "0              46  Seu turno de trabalho acabou, você já está em ...   \n",
       "1              47  Quando a taxa de remuneração do capital excede...   \n",
       "2              48  Atualmente, o Programa de Melhoramento \"Uvas d...   \n",
       "3              49  TEXTO I\\nPortadoras de mensagem espiritual do ...   \n",
       "4              50  TEXTO I\\nEm 2016, foram gerados 44,7 milhões d...   \n",
       "\n",
       "                                        alternativas  nu_param_B gabarito  \n",
       "0  A: proteção da vida privada.; B: ampliação de ...     0.59033        B  \n",
       "1  A: ideologia do mérito.; B: direito de nascime...     1.33796        A  \n",
       "2  A: espécies nativas ameaçadas.; B: cadeias eco...     1.61961        D  \n",
       "3  A: ampliação do comércio de imagens sacras.; B...     0.38656        C  \n",
       "4  A: Exercício pleno da cidadania.; B: Divisão i...     1.67763        B  "
      ]
     },
     "execution_count": 36,
     "metadata": {},
     "output_type": "execute_result"
    }
   ],
   "source": [
    "df = pd.read_csv(output_path)\n",
    "df.head()"
   ]
  },
  {
   "cell_type": "code",
   "execution_count": null,
   "metadata": {},
   "outputs": [],
   "source": []
  }
 ],
 "metadata": {
  "kernelspec": {
   "display_name": "Python 3 (ipykernel)",
   "language": "python",
   "name": "python3"
  },
  "language_info": {
   "codemirror_mode": {
    "name": "ipython",
    "version": 3
   },
   "file_extension": ".py",
   "mimetype": "text/x-python",
   "name": "python",
   "nbconvert_exporter": "python",
   "pygments_lexer": "ipython3",
   "version": "3.9.12"
  },
  "vscode": {
   "interpreter": {
    "hash": "916dbcbb3f70747c44a77c7bcd40155683ae19c65e1c03b4aa3499c5328201f1"
   }
  }
 },
 "nbformat": 4,
 "nbformat_minor": 2
}
