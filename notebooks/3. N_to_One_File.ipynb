{
 "cells": [
  {
   "cell_type": "markdown",
   "metadata": {},
   "source": [
    "## 3. Salvando Dados Cruzados \n",
    "\n",
    "* **Input**: Pasta contendo os dados já cruzados (microdados + texto)\n",
    "\n",
    "* **Output**: CSV completo com as colunas -> *numero_questao*, *enunciado*, *alternativas*,*nu_param_B*, *gabarito* e *ano*"
   ]
  },
  {
   "cell_type": "code",
   "execution_count": 1,
   "metadata": {},
   "outputs": [],
   "source": [
    "import os\n",
    "import pandas as pd\n",
    "import glob"
   ]
  },
  {
   "cell_type": "code",
   "execution_count": 2,
   "metadata": {},
   "outputs": [],
   "source": [
    "# Pastas contendo os dados cruzados\n",
    "folder_path = '../data/merged_data'\n",
    "output_file = '../data/full_enem_data.csv'"
   ]
  },
  {
   "cell_type": "code",
   "execution_count": 3,
   "metadata": {},
   "outputs": [
    {
     "name": "stdout",
     "output_type": "stream",
     "text": [
      "Merged CSV saved as ../data/full_enem_data.csv\n"
     ]
    }
   ],
   "source": [
    "# Coletar todos os arquivos .csv\n",
    "csv_files = glob.glob(os.path.join(folder_path, 'enem_*.csv'))\n",
    "\n",
    "dfs = []\n",
    "for file in csv_files:\n",
    "    # Extrair ano do nome do arquivo\n",
    "    filename = os.path.basename(file)\n",
    "    ano = filename.split('_')[1].split('.')[0] \n",
    "\n",
    "    df = pd.read_csv(file)\n",
    "    \n",
    "    # Adicionar nova coluna com ano\n",
    "    df['ano'] = ano\n",
    "\n",
    "    dfs.append(df)\n",
    "\n",
    "merged_df = pd.concat(dfs, ignore_index=True)\n",
    "\n",
    "# Salvar arquivo único\n",
    "merged_df.to_csv(output_file, index=False)\n",
    "\n",
    "print(f'Merged CSV saved as {output_file}')\n"
   ]
  },
  {
   "cell_type": "code",
   "execution_count": null,
   "metadata": {},
   "outputs": [],
   "source": []
  }
 ],
 "metadata": {
  "kernelspec": {
   "display_name": "Python 3 (ipykernel)",
   "language": "python",
   "name": "python3"
  },
  "language_info": {
   "codemirror_mode": {
    "name": "ipython",
    "version": 3
   },
   "file_extension": ".py",
   "mimetype": "text/x-python",
   "name": "python",
   "nbconvert_exporter": "python",
   "pygments_lexer": "ipython3",
   "version": "3.9.12"
  }
 },
 "nbformat": 4,
 "nbformat_minor": 2
}
