{
 "cells": [
  {
   "cell_type": "markdown",
   "metadata": {
    "id": "sifnSuHj0A11"
   },
   "source": [
    "# 6. Modelos de Regressão\n"
   ]
  },
  {
   "cell_type": "markdown",
   "metadata": {
    "id": "5T8z-sZV0ABt"
   },
   "source": [
    "Este notebook explora diferentes modelos de regressão para análise de dados, incluindo Regressão Linear e Lasso, utilizando técnicas de pré-processamento como transformação Box-Cox e seleção de variáveis. O objetivo é avaliar o desempenho dos modelos em termos de métricas como RMSE e R², tanto nos datasets completos quanto após a remoção de outliers das questões do Enem (vetorizadas).\n"
   ]
  },
  {
   "cell_type": "code",
   "execution_count": 96,
   "metadata": {
    "id": "_6w21yiNqr3R"
   },
   "outputs": [],
   "source": [
    "# Importando Dependências para Modelos de Regressão\n",
    "import pandas as pd\n",
    "import numpy as np\n",
    "from scipy import stats\n",
    "import statsmodels.api as sm\n",
    "\n",
    "from sklearn.model_selection import train_test_split\n",
    "from sklearn.metrics import root_mean_squared_error\n",
    "from sklearn.linear_model import LassoCV"
   ]
  },
  {
   "cell_type": "code",
   "execution_count": 97,
   "metadata": {
    "id": "_hnPhtdhq8zZ"
   },
   "outputs": [
    {
     "data": {
      "text/html": [
       "<div>\n",
       "<style scoped>\n",
       "    .dataframe tbody tr th:only-of-type {\n",
       "        vertical-align: middle;\n",
       "    }\n",
       "\n",
       "    .dataframe tbody tr th {\n",
       "        vertical-align: top;\n",
       "    }\n",
       "\n",
       "    .dataframe thead th {\n",
       "        text-align: right;\n",
       "    }\n",
       "</style>\n",
       "<table border=\"1\" class=\"dataframe\">\n",
       "  <thead>\n",
       "    <tr style=\"text-align: right;\">\n",
       "      <th></th>\n",
       "      <th>numero_questao</th>\n",
       "      <th>gabarito</th>\n",
       "      <th>NU_PARAM_A</th>\n",
       "      <th>nu_param_B</th>\n",
       "      <th>NU_PARAM_C</th>\n",
       "      <th>ANO</th>\n",
       "      <th>enunciado</th>\n",
       "      <th>alternativas</th>\n",
       "      <th>gabarito_texto</th>\n",
       "      <th>distratores</th>\n",
       "      <th>...</th>\n",
       "      <th>enunciado_embbedings_word2vec_50</th>\n",
       "      <th>gabarito_embbedings_word2vec_50</th>\n",
       "      <th>distratores_embbedings_word2vec_50</th>\n",
       "      <th>similaridade_enunciado_gabarito_50</th>\n",
       "      <th>similaridade_enunciado_distratores_50</th>\n",
       "      <th>similaridade_gabarito_distratores_50</th>\n",
       "      <th>resposta_llama</th>\n",
       "      <th>acerto_llamma</th>\n",
       "      <th>resposta_deepseek</th>\n",
       "      <th>acerto_deepseek</th>\n",
       "    </tr>\n",
       "  </thead>\n",
       "  <tbody>\n",
       "    <tr>\n",
       "      <th>0</th>\n",
       "      <td>1</td>\n",
       "      <td>C</td>\n",
       "      <td>3.43894</td>\n",
       "      <td>0.97831</td>\n",
       "      <td>0.10855</td>\n",
       "      <td>2017</td>\n",
       "      <td>No império africano do Mali, no século XIV, To...</td>\n",
       "      <td>A:  isolamento geográﬁco do Saara ocidental; B...</td>\n",
       "      <td>posição relativa nas redes de circulação</td>\n",
       "      <td>isolamento geográﬁco do Saara ocidental; explo...</td>\n",
       "      <td>...</td>\n",
       "      <td>[0.09772969, 0.013166125, -0.032748703, 0.0580...</td>\n",
       "      <td>[-0.04434625, 0.2105245, -0.18144351, 0.030336...</td>\n",
       "      <td>[0.12940213, 0.22066694, 0.0586984, 0.03139533...</td>\n",
       "      <td>0.251504</td>\n",
       "      <td>0.736054</td>\n",
       "      <td>0.426387</td>\n",
       "      <td>C</td>\n",
       "      <td>True</td>\n",
       "      <td>C</td>\n",
       "      <td>True</td>\n",
       "    </tr>\n",
       "    <tr>\n",
       "      <th>1</th>\n",
       "      <td>2</td>\n",
       "      <td>D</td>\n",
       "      <td>3.00837</td>\n",
       "      <td>0.49169</td>\n",
       "      <td>0.13877</td>\n",
       "      <td>2017</td>\n",
       "      <td>Após a Declaração Universal dos Direitos Human...</td>\n",
       "      <td>A:  ataque feito pelos japoneses à base milita...</td>\n",
       "      <td>execução de judeus e eslavos presos em guetos ...</td>\n",
       "      <td>ataque feito pelos japoneses à base militar am...</td>\n",
       "      <td>...</td>\n",
       "      <td>[-0.018823402, 0.07832528, -0.016192827, 0.027...</td>\n",
       "      <td>[0.21008351, 0.5248949, 0.03625112, 0.01772637...</td>\n",
       "      <td>[0.078055575, 0.19092263, -0.0076030395, -0.03...</td>\n",
       "      <td>0.634785</td>\n",
       "      <td>0.504648</td>\n",
       "      <td>0.587013</td>\n",
       "      <td>D</td>\n",
       "      <td>True</td>\n",
       "      <td>D</td>\n",
       "      <td>True</td>\n",
       "    </tr>\n",
       "    <tr>\n",
       "      <th>2</th>\n",
       "      <td>3</td>\n",
       "      <td>D</td>\n",
       "      <td>0.60432</td>\n",
       "      <td>3.25992</td>\n",
       "      <td>0.08798</td>\n",
       "      <td>2017</td>\n",
       "      <td>A moralidade, Bentham exortava, não é uma ques...</td>\n",
       "      <td>A:  fundamentação cientíﬁca de viés positivist...</td>\n",
       "      <td>racionalidade de caráter pragmático</td>\n",
       "      <td>fundamentação cientíﬁca de viés positivista; c...</td>\n",
       "      <td>...</td>\n",
       "      <td>[-0.013062097, 0.038470805, -0.020605344, 0.05...</td>\n",
       "      <td>[0.16413634, -0.035050992, 0.08454134, 0.23227...</td>\n",
       "      <td>[0.1313074, 0.058539692, 0.0961813, 0.17813754...</td>\n",
       "      <td>0.655402</td>\n",
       "      <td>0.634760</td>\n",
       "      <td>0.763059</td>\n",
       "      <td>D</td>\n",
       "      <td>True</td>\n",
       "      <td>D</td>\n",
       "      <td>True</td>\n",
       "    </tr>\n",
       "    <tr>\n",
       "      <th>3</th>\n",
       "      <td>4</td>\n",
       "      <td>E</td>\n",
       "      <td>1.85031</td>\n",
       "      <td>0.57925</td>\n",
       "      <td>0.11344</td>\n",
       "      <td>2017</td>\n",
       "      <td>Fala-se muito nos dias de hoje em direitos do ...</td>\n",
       "      <td>A: modernização da educação escolar; B: atuali...</td>\n",
       "      <td>universalização do princípio da igualdade civil</td>\n",
       "      <td>modernização da educação escolar; atualização ...</td>\n",
       "      <td>...</td>\n",
       "      <td>[-0.042833664, -0.01434522, -0.002431296, 0.01...</td>\n",
       "      <td>[0.102909006, 0.06116425, -0.13846825, 0.33034...</td>\n",
       "      <td>[0.11364358, 0.071867414, 0.046681672, 0.18046...</td>\n",
       "      <td>0.485125</td>\n",
       "      <td>0.628863</td>\n",
       "      <td>0.766145</td>\n",
       "      <td>E</td>\n",
       "      <td>True</td>\n",
       "      <td>E</td>\n",
       "      <td>True</td>\n",
       "    </tr>\n",
       "    <tr>\n",
       "      <th>4</th>\n",
       "      <td>5</td>\n",
       "      <td>C</td>\n",
       "      <td>2.46290</td>\n",
       "      <td>0.76307</td>\n",
       "      <td>0.17672</td>\n",
       "      <td>2017</td>\n",
       "      <td>Na Constituição da República Federativa do Bra...</td>\n",
       "      <td>A:  etnia e miscigenação racial; B:  sociedade...</td>\n",
       "      <td>espaço e sobrevivência cultural</td>\n",
       "      <td>etnia e miscigenação racial; sociedade e igual...</td>\n",
       "      <td>...</td>\n",
       "      <td>[0.010493249, 0.11095436, 0.017243173, 0.05319...</td>\n",
       "      <td>[0.267512, -0.081234336, 0.08019033, 0.1294613...</td>\n",
       "      <td>[0.13863416, 0.16260158, -0.0043905806, 0.2472...</td>\n",
       "      <td>0.559584</td>\n",
       "      <td>0.707497</td>\n",
       "      <td>0.692311</td>\n",
       "      <td>C</td>\n",
       "      <td>True</td>\n",
       "      <td>C</td>\n",
       "      <td>True</td>\n",
       "    </tr>\n",
       "  </tbody>\n",
       "</table>\n",
       "<p>5 rows × 36 columns</p>\n",
       "</div>"
      ],
      "text/plain": [
       "   numero_questao gabarito  NU_PARAM_A  nu_param_B  NU_PARAM_C   ANO  \\\n",
       "0               1        C     3.43894     0.97831     0.10855  2017   \n",
       "1               2        D     3.00837     0.49169     0.13877  2017   \n",
       "2               3        D     0.60432     3.25992     0.08798  2017   \n",
       "3               4        E     1.85031     0.57925     0.11344  2017   \n",
       "4               5        C     2.46290     0.76307     0.17672  2017   \n",
       "\n",
       "                                           enunciado  \\\n",
       "0  No império africano do Mali, no século XIV, To...   \n",
       "1  Após a Declaração Universal dos Direitos Human...   \n",
       "2  A moralidade, Bentham exortava, não é uma ques...   \n",
       "3  Fala-se muito nos dias de hoje em direitos do ...   \n",
       "4  Na Constituição da República Federativa do Bra...   \n",
       "\n",
       "                                        alternativas  \\\n",
       "0  A:  isolamento geográﬁco do Saara ocidental; B...   \n",
       "1  A:  ataque feito pelos japoneses à base milita...   \n",
       "2  A:  fundamentação cientíﬁca de viés positivist...   \n",
       "3  A: modernização da educação escolar; B: atuali...   \n",
       "4  A:  etnia e miscigenação racial; B:  sociedade...   \n",
       "\n",
       "                                      gabarito_texto  \\\n",
       "0           posição relativa nas redes de circulação   \n",
       "1  execução de judeus e eslavos presos em guetos ...   \n",
       "2                racionalidade de caráter pragmático   \n",
       "3    universalização do princípio da igualdade civil   \n",
       "4                    espaço e sobrevivência cultural   \n",
       "\n",
       "                                         distratores  ...  \\\n",
       "0  isolamento geográﬁco do Saara ocidental; explo...  ...   \n",
       "1  ataque feito pelos japoneses à base militar am...  ...   \n",
       "2  fundamentação cientíﬁca de viés positivista; c...  ...   \n",
       "3  modernização da educação escolar; atualização ...  ...   \n",
       "4  etnia e miscigenação racial; sociedade e igual...  ...   \n",
       "\n",
       "                    enunciado_embbedings_word2vec_50  \\\n",
       "0  [0.09772969, 0.013166125, -0.032748703, 0.0580...   \n",
       "1  [-0.018823402, 0.07832528, -0.016192827, 0.027...   \n",
       "2  [-0.013062097, 0.038470805, -0.020605344, 0.05...   \n",
       "3  [-0.042833664, -0.01434522, -0.002431296, 0.01...   \n",
       "4  [0.010493249, 0.11095436, 0.017243173, 0.05319...   \n",
       "\n",
       "                     gabarito_embbedings_word2vec_50  \\\n",
       "0  [-0.04434625, 0.2105245, -0.18144351, 0.030336...   \n",
       "1  [0.21008351, 0.5248949, 0.03625112, 0.01772637...   \n",
       "2  [0.16413634, -0.035050992, 0.08454134, 0.23227...   \n",
       "3  [0.102909006, 0.06116425, -0.13846825, 0.33034...   \n",
       "4  [0.267512, -0.081234336, 0.08019033, 0.1294613...   \n",
       "\n",
       "                  distratores_embbedings_word2vec_50  \\\n",
       "0  [0.12940213, 0.22066694, 0.0586984, 0.03139533...   \n",
       "1  [0.078055575, 0.19092263, -0.0076030395, -0.03...   \n",
       "2  [0.1313074, 0.058539692, 0.0961813, 0.17813754...   \n",
       "3  [0.11364358, 0.071867414, 0.046681672, 0.18046...   \n",
       "4  [0.13863416, 0.16260158, -0.0043905806, 0.2472...   \n",
       "\n",
       "  similaridade_enunciado_gabarito_50 similaridade_enunciado_distratores_50  \\\n",
       "0                           0.251504                              0.736054   \n",
       "1                           0.634785                              0.504648   \n",
       "2                           0.655402                              0.634760   \n",
       "3                           0.485125                              0.628863   \n",
       "4                           0.559584                              0.707497   \n",
       "\n",
       "  similaridade_gabarito_distratores_50 resposta_llama  acerto_llamma  \\\n",
       "0                             0.426387              C           True   \n",
       "1                             0.587013              D           True   \n",
       "2                             0.763059              D           True   \n",
       "3                             0.766145              E           True   \n",
       "4                             0.692311              C           True   \n",
       "\n",
       "   resposta_deepseek  acerto_deepseek  \n",
       "0                  C             True  \n",
       "1                  D             True  \n",
       "2                  D             True  \n",
       "3                  E             True  \n",
       "4                  C             True  \n",
       "\n",
       "[5 rows x 36 columns]"
      ]
     },
     "execution_count": 97,
     "metadata": {},
     "output_type": "execute_result"
    }
   ],
   "source": [
    "# Leitura dos dados\n",
    "enem_data = pd.read_pickle(\"../data/final/enem_data_final.pkl\")\n",
    "enem_data.head()"
   ]
  },
  {
   "cell_type": "code",
   "execution_count": 98,
   "metadata": {},
   "outputs": [],
   "source": [
    "enem_data = enem_data[enem_data[\"nu_param_B\"].notna()]"
   ]
  },
  {
   "cell_type": "code",
   "execution_count": 99,
   "metadata": {},
   "outputs": [
    {
     "data": {
      "text/plain": [
       "0.23648179"
      ]
     },
     "execution_count": 99,
     "metadata": {},
     "output_type": "execute_result"
    }
   ],
   "source": [
    "enem_data[\"similaridade_enunciado_gabarito_100\"][0]"
   ]
  },
  {
   "cell_type": "markdown",
   "metadata": {
    "id": "9yDKd1I7nlzI"
   },
   "source": [
    "---\n",
    "\n",
    "## 6.1. Embeddings de 300 Dimensões\n"
   ]
  },
  {
   "cell_type": "code",
   "execution_count": 100,
   "metadata": {
    "id": "nqP2q7UJwiIy"
   },
   "outputs": [],
   "source": [
    "# Coletando os dados\n",
    "X_300 = [\n",
    "    np.array(embedding) for embedding in enem_data[\"enunciado_embbedings_word2vec_300\"]\n",
    "]  # Somente Embeddings 300\n",
    "\n",
    "y_300 = enem_data[\"nu_param_B\"]  # Parâmetro de Dificuldade (B)"
   ]
  },
  {
   "cell_type": "code",
   "execution_count": 101,
   "metadata": {
    "colab": {
     "base_uri": "https://localhost:8080/"
    },
    "id": "xNHc_uJjtwNE",
    "outputId": "37cfa564-e733-4ead-c9be-5dd387d0c6f4"
   },
   "outputs": [
    {
     "name": "stdout",
     "output_type": "stream",
     "text": [
      "0.6304389864783265\n"
     ]
    }
   ],
   "source": [
    "# Aplicando Transformações\n",
    "add_list = [(y_300.min() * (-1)) + 1] * len(y_300)\n",
    "y_300 = y_300 + add_list\n",
    "\n",
    "# Aplicando Box-Cox\n",
    "y_300, best_lambda = stats.boxcox(y_300)\n",
    "print(best_lambda)"
   ]
  },
  {
   "cell_type": "markdown",
   "metadata": {
    "id": "6uh5vrIBPNVq"
   },
   "source": [
    "### 6.1.1. Regressão Linear\n"
   ]
  },
  {
   "cell_type": "code",
   "execution_count": 102,
   "metadata": {
    "id": "NNt-aXkwuDJ3"
   },
   "outputs": [],
   "source": [
    "# Separando em conjunto de treino e teste\n",
    "X_train_300, X_test_300, y_train_300, y_test_300 = train_test_split(\n",
    "    X_300, y_300, test_size=0.3, random_state=42\n",
    ")"
   ]
  },
  {
   "cell_type": "code",
   "execution_count": 103,
   "metadata": {
    "id": "pMpG0hp4uXBT"
   },
   "outputs": [],
   "source": [
    "# Adicionando constante\n",
    "X_train_300 = sm.add_constant(X_train_300)\n",
    "X_test_300 = sm.add_constant(X_test_300)"
   ]
  },
  {
   "cell_type": "code",
   "execution_count": 104,
   "metadata": {
    "id": "dWMA06PvUH2h"
   },
   "outputs": [],
   "source": [
    "# Criando o modelo e realizando predição\n",
    "linear_model_300 = sm.OLS(y_train_300, X_train_300).fit()\n",
    "prediction_linear_model_300 = linear_model_300.predict(X_test_300)"
   ]
  },
  {
   "cell_type": "code",
   "execution_count": 105,
   "metadata": {
    "colab": {
     "base_uri": "https://localhost:8080/"
    },
    "id": "KGLZb7OVXEat",
    "outputId": "da533f15-e011-46f8-ca87-164c6164593e"
   },
   "outputs": [
    {
     "name": "stdout",
     "output_type": "stream",
     "text": [
      "RMSE:  0.7720791146717553\n"
     ]
    }
   ],
   "source": [
    "# Cálculo do RMSE\n",
    "rmse_300 = root_mean_squared_error(y_test_300, prediction_linear_model_300)\n",
    "print(\"RMSE: \", rmse_300)"
   ]
  },
  {
   "cell_type": "code",
   "execution_count": 106,
   "metadata": {
    "colab": {
     "base_uri": "https://localhost:8080/"
    },
    "id": "0B3Z6oieuaoY",
    "outputId": "0c4a5c5a-8908-4d5e-ff7f-e7c239b5290a"
   },
   "outputs": [
    {
     "name": "stderr",
     "output_type": "stream",
     "text": [
      "/home/alesouza/.cache/pypoetry/virtualenvs/projeto-enem-YISx0mk8-py3.11/lib/python3.11/site-packages/statsmodels/regression/linear_model.py:1795: RuntimeWarning: divide by zero encountered in divide\n",
      "  return 1 - (np.divide(self.nobs - self.k_constant, self.df_resid)\n",
      "/home/alesouza/.cache/pypoetry/virtualenvs/projeto-enem-YISx0mk8-py3.11/lib/python3.11/site-packages/statsmodels/regression/linear_model.py:1795: RuntimeWarning: invalid value encountered in scalar multiply\n",
      "  return 1 - (np.divide(self.nobs - self.k_constant, self.df_resid)\n",
      "/home/alesouza/.cache/pypoetry/virtualenvs/projeto-enem-YISx0mk8-py3.11/lib/python3.11/site-packages/statsmodels/regression/linear_model.py:1717: RuntimeWarning: divide by zero encountered in scalar divide\n",
      "  return np.dot(wresid, wresid) / self.df_resid\n"
     ]
    },
    {
     "name": "stdout",
     "output_type": "stream",
     "text": [
      "                            OLS Regression Results                            \n",
      "==============================================================================\n",
      "Dep. Variable:                      y   R-squared:                       1.000\n",
      "Model:                            OLS   Adj. R-squared:                    nan\n",
      "Method:                 Least Squares   F-statistic:                       nan\n",
      "Date:                Sun, 15 Jun 2025   Prob (F-statistic):                nan\n",
      "Time:                        17:26:44   Log-Likelihood:                 5970.9\n",
      "No. Observations:                 186   AIC:                        -1.157e+04\n",
      "Df Residuals:                       0   BIC:                        -1.097e+04\n",
      "Df Model:                         185                                         \n",
      "Covariance Type:            nonrobust                                         \n",
      "==============================================================================\n",
      "                 coef    std err          t      P>|t|      [0.025      0.975]\n",
      "------------------------------------------------------------------------------\n",
      "const          1.2107        inf          0        nan         nan         nan\n",
      "x1             1.4942        inf          0        nan         nan         nan\n",
      "x2            -2.2785        inf         -0        nan         nan         nan\n",
      "x3            -0.3112        inf         -0        nan         nan         nan\n",
      "x4            -0.8035        inf         -0        nan         nan         nan\n",
      "x5            -0.5786        inf         -0        nan         nan         nan\n",
      "x6            -0.1143        inf         -0        nan         nan         nan\n",
      "x7            -0.6930        inf         -0        nan         nan         nan\n",
      "x8             0.9262        inf          0        nan         nan         nan\n",
      "x9             1.6654        inf          0        nan         nan         nan\n",
      "x10            1.8377        inf          0        nan         nan         nan\n",
      "x11            0.0256        inf          0        nan         nan         nan\n",
      "x12           -1.0080        inf         -0        nan         nan         nan\n",
      "x13           -1.0288        inf         -0        nan         nan         nan\n",
      "x14           -1.5918        inf         -0        nan         nan         nan\n",
      "x15            1.9312        inf          0        nan         nan         nan\n",
      "x16            0.2249        inf          0        nan         nan         nan\n",
      "x17            0.4318        inf          0        nan         nan         nan\n",
      "x18            1.4265        inf          0        nan         nan         nan\n",
      "x19            1.2474        inf          0        nan         nan         nan\n",
      "x20            0.5519        inf          0        nan         nan         nan\n",
      "x21            1.5964        inf          0        nan         nan         nan\n",
      "x22           -0.1756        inf         -0        nan         nan         nan\n",
      "x23            0.2543        inf          0        nan         nan         nan\n",
      "x24            2.8483        inf          0        nan         nan         nan\n",
      "x25            0.9964        inf          0        nan         nan         nan\n",
      "x26            3.9202        inf          0        nan         nan         nan\n",
      "x27            0.8838        inf          0        nan         nan         nan\n",
      "x28           -0.9819        inf         -0        nan         nan         nan\n",
      "x29           -0.4578        inf         -0        nan         nan         nan\n",
      "x30            0.4137        inf          0        nan         nan         nan\n",
      "x31            2.6831        inf          0        nan         nan         nan\n",
      "x32           -1.2821        inf         -0        nan         nan         nan\n",
      "x33           -0.1415        inf         -0        nan         nan         nan\n",
      "x34            0.7824        inf          0        nan         nan         nan\n",
      "x35            0.8622        inf          0        nan         nan         nan\n",
      "x36            2.0189        inf          0        nan         nan         nan\n",
      "x37            0.5178        inf          0        nan         nan         nan\n",
      "x38            1.6255        inf          0        nan         nan         nan\n",
      "x39            1.6152        inf          0        nan         nan         nan\n",
      "x40            0.9785        inf          0        nan         nan         nan\n",
      "x41           -0.4754        inf         -0        nan         nan         nan\n",
      "x42           -1.8352        inf         -0        nan         nan         nan\n",
      "x43            2.0556        inf          0        nan         nan         nan\n",
      "x44           -0.8705        inf         -0        nan         nan         nan\n",
      "x45            0.2941        inf          0        nan         nan         nan\n",
      "x46            0.1199        inf          0        nan         nan         nan\n",
      "x47            1.6911        inf          0        nan         nan         nan\n",
      "x48           -0.0247        inf         -0        nan         nan         nan\n",
      "x49           -2.4716        inf         -0        nan         nan         nan\n",
      "x50            0.1980        inf          0        nan         nan         nan\n",
      "x51            1.8404        inf          0        nan         nan         nan\n",
      "x52           -0.0591        inf         -0        nan         nan         nan\n",
      "x53           -2.2195        inf         -0        nan         nan         nan\n",
      "x54            1.9562        inf          0        nan         nan         nan\n",
      "x55            0.5109        inf          0        nan         nan         nan\n",
      "x56           -0.3468        inf         -0        nan         nan         nan\n",
      "x57            0.2032        inf          0        nan         nan         nan\n",
      "x58           -0.3739        inf         -0        nan         nan         nan\n",
      "x59            0.4906        inf          0        nan         nan         nan\n",
      "x60            0.0256        inf          0        nan         nan         nan\n",
      "x61            1.7397        inf          0        nan         nan         nan\n",
      "x62            0.7386        inf          0        nan         nan         nan\n",
      "x63            0.1613        inf          0        nan         nan         nan\n",
      "x64            1.3930        inf          0        nan         nan         nan\n",
      "x65           -1.6001        inf         -0        nan         nan         nan\n",
      "x66            0.7257        inf          0        nan         nan         nan\n",
      "x67           -1.1896        inf         -0        nan         nan         nan\n",
      "x68            1.2870        inf          0        nan         nan         nan\n",
      "x69            0.9779        inf          0        nan         nan         nan\n",
      "x70           -2.0969        inf         -0        nan         nan         nan\n",
      "x71           -0.4895        inf         -0        nan         nan         nan\n",
      "x72           -0.1572        inf         -0        nan         nan         nan\n",
      "x73           -1.4299        inf         -0        nan         nan         nan\n",
      "x74            0.3804        inf          0        nan         nan         nan\n",
      "x75           -0.7933        inf         -0        nan         nan         nan\n",
      "x76           -2.6431        inf         -0        nan         nan         nan\n",
      "x77           -0.4541        inf         -0        nan         nan         nan\n",
      "x78           -0.3100        inf         -0        nan         nan         nan\n",
      "x79           -0.0364        inf         -0        nan         nan         nan\n",
      "x80            0.4520        inf          0        nan         nan         nan\n",
      "x81            0.8385        inf          0        nan         nan         nan\n",
      "x82           -1.7163        inf         -0        nan         nan         nan\n",
      "x83           -0.2964        inf         -0        nan         nan         nan\n",
      "x84            0.3602        inf          0        nan         nan         nan\n",
      "x85           -0.6011        inf         -0        nan         nan         nan\n",
      "x86           -3.2160        inf         -0        nan         nan         nan\n",
      "x87            2.9361        inf          0        nan         nan         nan\n",
      "x88            2.3743        inf          0        nan         nan         nan\n",
      "x89            1.0925        inf          0        nan         nan         nan\n",
      "x90           -1.0983        inf         -0        nan         nan         nan\n",
      "x91            2.1382        inf          0        nan         nan         nan\n",
      "x92            1.5821        inf          0        nan         nan         nan\n",
      "x93           -0.0808        inf         -0        nan         nan         nan\n",
      "x94            0.8575        inf          0        nan         nan         nan\n",
      "x95            1.2957        inf          0        nan         nan         nan\n",
      "x96           -2.2041        inf         -0        nan         nan         nan\n",
      "x97           -0.9021        inf         -0        nan         nan         nan\n",
      "x98            0.4175        inf          0        nan         nan         nan\n",
      "x99           -0.1065        inf         -0        nan         nan         nan\n",
      "x100          -0.5587        inf         -0        nan         nan         nan\n",
      "x101          -1.2957        inf         -0        nan         nan         nan\n",
      "x102          -1.1314        inf         -0        nan         nan         nan\n",
      "x103          -0.2157        inf         -0        nan         nan         nan\n",
      "x104           1.5824        inf          0        nan         nan         nan\n",
      "x105          -2.4501        inf         -0        nan         nan         nan\n",
      "x106          -0.5050        inf         -0        nan         nan         nan\n",
      "x107          -0.2668        inf         -0        nan         nan         nan\n",
      "x108          -2.1743        inf         -0        nan         nan         nan\n",
      "x109           0.0633        inf          0        nan         nan         nan\n",
      "x110          -0.3030        inf         -0        nan         nan         nan\n",
      "x111           0.4135        inf          0        nan         nan         nan\n",
      "x112          -1.4925        inf         -0        nan         nan         nan\n",
      "x113          -1.2709        inf         -0        nan         nan         nan\n",
      "x114          -0.0085        inf         -0        nan         nan         nan\n",
      "x115          -1.1385        inf         -0        nan         nan         nan\n",
      "x116          -0.2859        inf         -0        nan         nan         nan\n",
      "x117           0.1605        inf          0        nan         nan         nan\n",
      "x118          -0.9694        inf         -0        nan         nan         nan\n",
      "x119           2.5120        inf          0        nan         nan         nan\n",
      "x120           1.0497        inf          0        nan         nan         nan\n",
      "x121           0.1554        inf          0        nan         nan         nan\n",
      "x122           0.7370        inf          0        nan         nan         nan\n",
      "x123          -2.0796        inf         -0        nan         nan         nan\n",
      "x124           0.1888        inf          0        nan         nan         nan\n",
      "x125          -0.6551        inf         -0        nan         nan         nan\n",
      "x126          -0.0116        inf         -0        nan         nan         nan\n",
      "x127          -0.5196        inf         -0        nan         nan         nan\n",
      "x128           0.2582        inf          0        nan         nan         nan\n",
      "x129          -0.9809        inf         -0        nan         nan         nan\n",
      "x130           0.9199        inf          0        nan         nan         nan\n",
      "x131           0.5665        inf          0        nan         nan         nan\n",
      "x132           1.1764        inf          0        nan         nan         nan\n",
      "x133          -2.5261        inf         -0        nan         nan         nan\n",
      "x134          -0.2207        inf         -0        nan         nan         nan\n",
      "x135           0.3304        inf          0        nan         nan         nan\n",
      "x136          -0.3986        inf         -0        nan         nan         nan\n",
      "x137           0.9823        inf          0        nan         nan         nan\n",
      "x138          -1.7830        inf         -0        nan         nan         nan\n",
      "x139           1.2449        inf          0        nan         nan         nan\n",
      "x140          -1.8936        inf         -0        nan         nan         nan\n",
      "x141          -0.3724        inf         -0        nan         nan         nan\n",
      "x142           0.7044        inf          0        nan         nan         nan\n",
      "x143          -3.3769        inf         -0        nan         nan         nan\n",
      "x144          -1.4379        inf         -0        nan         nan         nan\n",
      "x145           0.2645        inf          0        nan         nan         nan\n",
      "x146           1.4711        inf          0        nan         nan         nan\n",
      "x147           0.5760        inf          0        nan         nan         nan\n",
      "x148          -0.9670        inf         -0        nan         nan         nan\n",
      "x149          -0.4158        inf         -0        nan         nan         nan\n",
      "x150          -0.3467        inf         -0        nan         nan         nan\n",
      "x151           1.1859        inf          0        nan         nan         nan\n",
      "x152           1.0244        inf          0        nan         nan         nan\n",
      "x153          -1.0456        inf         -0        nan         nan         nan\n",
      "x154          -2.1747        inf         -0        nan         nan         nan\n",
      "x155           1.2769        inf          0        nan         nan         nan\n",
      "x156          -0.4671        inf         -0        nan         nan         nan\n",
      "x157          -0.0502        inf         -0        nan         nan         nan\n",
      "x158          -1.0893        inf         -0        nan         nan         nan\n",
      "x159          -0.9207        inf         -0        nan         nan         nan\n",
      "x160           0.2842        inf          0        nan         nan         nan\n",
      "x161          -0.6560        inf         -0        nan         nan         nan\n",
      "x162          -0.9940        inf         -0        nan         nan         nan\n",
      "x163           0.5812        inf          0        nan         nan         nan\n",
      "x164           1.9074        inf          0        nan         nan         nan\n",
      "x165          -0.3060        inf         -0        nan         nan         nan\n",
      "x166           0.8097        inf          0        nan         nan         nan\n",
      "x167           0.1517        inf          0        nan         nan         nan\n",
      "x168           0.8547        inf          0        nan         nan         nan\n",
      "x169          -0.8266        inf         -0        nan         nan         nan\n",
      "x170           0.0666        inf          0        nan         nan         nan\n",
      "x171           2.0316        inf          0        nan         nan         nan\n",
      "x172           1.1830        inf          0        nan         nan         nan\n",
      "x173           0.8867        inf          0        nan         nan         nan\n",
      "x174           1.6147        inf          0        nan         nan         nan\n",
      "x175           2.3161        inf          0        nan         nan         nan\n",
      "x176          -2.0640        inf         -0        nan         nan         nan\n",
      "x177          -2.0538        inf         -0        nan         nan         nan\n",
      "x178          -0.9320        inf         -0        nan         nan         nan\n",
      "x179           1.6875        inf          0        nan         nan         nan\n",
      "x180          -0.0781        inf         -0        nan         nan         nan\n",
      "x181           1.2640        inf          0        nan         nan         nan\n",
      "x182           0.1413        inf          0        nan         nan         nan\n",
      "x183          -1.6656        inf         -0        nan         nan         nan\n",
      "x184          -2.0740        inf         -0        nan         nan         nan\n",
      "x185          -0.7637        inf         -0        nan         nan         nan\n",
      "x186           0.2700        inf          0        nan         nan         nan\n",
      "x187           0.1418        inf          0        nan         nan         nan\n",
      "x188          -0.9760        inf         -0        nan         nan         nan\n",
      "x189          -2.5565        inf         -0        nan         nan         nan\n",
      "x190           0.3010        inf          0        nan         nan         nan\n",
      "x191          -1.2409        inf         -0        nan         nan         nan\n",
      "x192          -0.1312        inf         -0        nan         nan         nan\n",
      "x193          -1.5920        inf         -0        nan         nan         nan\n",
      "x194          -1.3671        inf         -0        nan         nan         nan\n",
      "x195           0.8766        inf          0        nan         nan         nan\n",
      "x196           0.8734        inf          0        nan         nan         nan\n",
      "x197          -0.0883        inf         -0        nan         nan         nan\n",
      "x198           1.3913        inf          0        nan         nan         nan\n",
      "x199           2.5289        inf          0        nan         nan         nan\n",
      "x200          -0.5808        inf         -0        nan         nan         nan\n",
      "x201           0.3375        inf          0        nan         nan         nan\n",
      "x202          -0.6839        inf         -0        nan         nan         nan\n",
      "x203           1.0773        inf          0        nan         nan         nan\n",
      "x204           1.9397        inf          0        nan         nan         nan\n",
      "x205           1.4091        inf          0        nan         nan         nan\n",
      "x206          -1.6730        inf         -0        nan         nan         nan\n",
      "x207          -0.1064        inf         -0        nan         nan         nan\n",
      "x208           1.4356        inf          0        nan         nan         nan\n",
      "x209          -0.8714        inf         -0        nan         nan         nan\n",
      "x210          -1.5490        inf         -0        nan         nan         nan\n",
      "x211           1.4647        inf          0        nan         nan         nan\n",
      "x212          -0.0959        inf         -0        nan         nan         nan\n",
      "x213           0.4483        inf          0        nan         nan         nan\n",
      "x214          -0.9956        inf         -0        nan         nan         nan\n",
      "x215           0.2370        inf          0        nan         nan         nan\n",
      "x216           1.8191        inf          0        nan         nan         nan\n",
      "x217           0.5990        inf          0        nan         nan         nan\n",
      "x218           0.3101        inf          0        nan         nan         nan\n",
      "x219          -1.6731        inf         -0        nan         nan         nan\n",
      "x220          -2.2933        inf         -0        nan         nan         nan\n",
      "x221          -0.7273        inf         -0        nan         nan         nan\n",
      "x222          -0.3060        inf         -0        nan         nan         nan\n",
      "x223          -0.2934        inf         -0        nan         nan         nan\n",
      "x224           1.3877        inf          0        nan         nan         nan\n",
      "x225           0.0699        inf          0        nan         nan         nan\n",
      "x226          -0.6234        inf         -0        nan         nan         nan\n",
      "x227           0.5471        inf          0        nan         nan         nan\n",
      "x228          -0.1719        inf         -0        nan         nan         nan\n",
      "x229           0.1205        inf          0        nan         nan         nan\n",
      "x230           0.8551        inf          0        nan         nan         nan\n",
      "x231           1.9955        inf          0        nan         nan         nan\n",
      "x232          -0.3679        inf         -0        nan         nan         nan\n",
      "x233          -2.8692        inf         -0        nan         nan         nan\n",
      "x234           0.0594        inf          0        nan         nan         nan\n",
      "x235           1.9100        inf          0        nan         nan         nan\n",
      "x236           0.5982        inf          0        nan         nan         nan\n",
      "x237          -2.0686        inf         -0        nan         nan         nan\n",
      "x238          -1.7528        inf         -0        nan         nan         nan\n",
      "x239           0.1655        inf          0        nan         nan         nan\n",
      "x240           0.5169        inf          0        nan         nan         nan\n",
      "x241          -1.8362        inf         -0        nan         nan         nan\n",
      "x242          -2.4165        inf         -0        nan         nan         nan\n",
      "x243          -1.7753        inf         -0        nan         nan         nan\n",
      "x244           0.6356        inf          0        nan         nan         nan\n",
      "x245           0.9911        inf          0        nan         nan         nan\n",
      "x246           0.9653        inf          0        nan         nan         nan\n",
      "x247           0.6624        inf          0        nan         nan         nan\n",
      "x248          -0.3629        inf         -0        nan         nan         nan\n",
      "x249           1.2172        inf          0        nan         nan         nan\n",
      "x250           1.3943        inf          0        nan         nan         nan\n",
      "x251          -0.0232        inf         -0        nan         nan         nan\n",
      "x252          -1.5128        inf         -0        nan         nan         nan\n",
      "x253          -0.6307        inf         -0        nan         nan         nan\n",
      "x254           0.3736        inf          0        nan         nan         nan\n",
      "x255           0.1833        inf          0        nan         nan         nan\n",
      "x256          -0.1468        inf         -0        nan         nan         nan\n",
      "x257          -1.1890        inf         -0        nan         nan         nan\n",
      "x258           1.3857        inf          0        nan         nan         nan\n",
      "x259           0.5668        inf          0        nan         nan         nan\n",
      "x260          -0.3634        inf         -0        nan         nan         nan\n",
      "x261           1.0398        inf          0        nan         nan         nan\n",
      "x262          -0.9771        inf         -0        nan         nan         nan\n",
      "x263          -0.3640        inf         -0        nan         nan         nan\n",
      "x264           1.1279        inf          0        nan         nan         nan\n",
      "x265           2.2973        inf          0        nan         nan         nan\n",
      "x266           1.1215        inf          0        nan         nan         nan\n",
      "x267           1.4023        inf          0        nan         nan         nan\n",
      "x268          -0.6084        inf         -0        nan         nan         nan\n",
      "x269           0.4356        inf          0        nan         nan         nan\n",
      "x270          -2.1713        inf         -0        nan         nan         nan\n",
      "x271           0.0217        inf          0        nan         nan         nan\n",
      "x272          -1.3883        inf         -0        nan         nan         nan\n",
      "x273          -0.3095        inf         -0        nan         nan         nan\n",
      "x274          -1.0508        inf         -0        nan         nan         nan\n",
      "x275          -1.2639        inf         -0        nan         nan         nan\n",
      "x276           0.3193        inf          0        nan         nan         nan\n",
      "x277           1.0492        inf          0        nan         nan         nan\n",
      "x278          -0.3771        inf         -0        nan         nan         nan\n",
      "x279          -1.9356        inf         -0        nan         nan         nan\n",
      "x280           1.5278        inf          0        nan         nan         nan\n",
      "x281           0.5953        inf          0        nan         nan         nan\n",
      "x282          -0.1295        inf         -0        nan         nan         nan\n",
      "x283           1.7451        inf          0        nan         nan         nan\n",
      "x284          -1.0535        inf         -0        nan         nan         nan\n",
      "x285           0.5707        inf          0        nan         nan         nan\n",
      "x286          -0.6454        inf         -0        nan         nan         nan\n",
      "x287          -1.2238        inf         -0        nan         nan         nan\n",
      "x288           0.1470        inf          0        nan         nan         nan\n",
      "x289           0.6658        inf          0        nan         nan         nan\n",
      "x290          -1.2708        inf         -0        nan         nan         nan\n",
      "x291           2.1154        inf          0        nan         nan         nan\n",
      "x292          -1.2727        inf         -0        nan         nan         nan\n",
      "x293          -0.7765        inf         -0        nan         nan         nan\n",
      "x294          -0.9919        inf         -0        nan         nan         nan\n",
      "x295          -1.1764        inf         -0        nan         nan         nan\n",
      "x296           0.2768        inf          0        nan         nan         nan\n",
      "x297           0.7448        inf          0        nan         nan         nan\n",
      "x298           0.2371        inf          0        nan         nan         nan\n",
      "x299           1.1401        inf          0        nan         nan         nan\n",
      "x300          -0.2214        inf         -0        nan         nan         nan\n",
      "==============================================================================\n",
      "Omnibus:                        2.807   Durbin-Watson:                   1.966\n",
      "Prob(Omnibus):                  0.246   Jarque-Bera (JB):                2.942\n",
      "Skew:                          -0.038   Prob(JB):                        0.230\n",
      "Kurtosis:                       3.611   Cond. No.                         179.\n",
      "==============================================================================\n",
      "\n",
      "Notes:\n",
      "[1] Standard Errors assume that the covariance matrix of the errors is correctly specified.\n",
      "[2] The input rank is higher than the number of observations.\n"
     ]
    }
   ],
   "source": [
    "# Visualização do modelo e resultados\n",
    "print(linear_model_300.summary(alpha=0.05))"
   ]
  },
  {
   "cell_type": "markdown",
   "metadata": {
    "id": "6edr9mQUVh3I"
   },
   "source": [
    "### 6.1.2. Regressão Lasso\n"
   ]
  },
  {
   "cell_type": "code",
   "execution_count": 107,
   "metadata": {
    "id": "xELarPZWARUM"
   },
   "outputs": [],
   "source": [
    "# Separando em conjunto de treino e teste\n",
    "X_train_300_lasso, X_test_300_lasso, y_train_300_lasso, y_test_300_lasso = (\n",
    "    train_test_split(X_300, y_300, test_size=0.3, random_state=42)\n",
    ")"
   ]
  },
  {
   "cell_type": "code",
   "execution_count": 108,
   "metadata": {
    "colab": {
     "base_uri": "https://localhost:8080/"
    },
    "id": "cZXzijAqAulu",
    "outputId": "7d3f9c03-0fe9-40b9-971c-6e953b56d4e0"
   },
   "outputs": [
    {
     "name": "stdout",
     "output_type": "stream",
     "text": [
      "Melhor R2 Score: 0.5344153222227536\n",
      "Melhor Alpha: 0.001\n",
      "RMSE com o alpha escolhido: 0.5177163330655292\n"
     ]
    }
   ],
   "source": [
    "lasso_model_300 = LassoCV(alphas=[0.0001, 0.001, 0.01, 0.1, 1, 10], random_state=0).fit(\n",
    "    X_train_300_lasso, y_train_300_lasso\n",
    ")\n",
    "pred_lasso_model_300 = lasso_model_300.predict(X_test_300_lasso)\n",
    "\n",
    "print(\"Melhor R2 Score:\", lasso_model_300.score(X_train_300_lasso, y_train_300_lasso))\n",
    "print(\"Melhor Alpha:\", lasso_model_300.alpha_)\n",
    "print(\n",
    "    \"RMSE com o alpha escolhido:\",\n",
    "    root_mean_squared_error(y_test_300_lasso, pred_lasso_model_300),\n",
    ")"
   ]
  },
  {
   "cell_type": "markdown",
   "metadata": {
    "id": "ymuphfwXPQq1"
   },
   "source": [
    "### 6.1.3. Regressões com Corte (-3,3)\n"
   ]
  },
  {
   "cell_type": "code",
   "execution_count": 109,
   "metadata": {
    "id": "wKhN77GlQFq7"
   },
   "outputs": [
    {
     "data": {
      "text/plain": [
       "count    263.000000\n",
       "mean       1.075595\n",
       "std        0.661348\n",
       "min       -0.726450\n",
       "25%        0.612925\n",
       "50%        1.051180\n",
       "75%        1.535350\n",
       "max        2.802770\n",
       "Name: nu_param_B, dtype: float64"
      ]
     },
     "execution_count": 109,
     "metadata": {},
     "output_type": "execute_result"
    }
   ],
   "source": [
    "# Aplicando corte de dificuldade sugerido pelo artigo motivador (-3, 3)\n",
    "enem_filtered = enem_data.copy()\n",
    "\n",
    "enem_filtered = enem_filtered[\n",
    "    (enem_filtered[\"nu_param_B\"] >= -3) & (enem_filtered[\"nu_param_B\"] <= 3)\n",
    "]\n",
    "enem_filtered[\"nu_param_B\"].describe()"
   ]
  },
  {
   "cell_type": "code",
   "execution_count": 110,
   "metadata": {
    "id": "GKo9iv3cPUOx"
   },
   "outputs": [],
   "source": [
    "# Coletando os dados\n",
    "X_300_filtered = [\n",
    "    np.array(embedding)\n",
    "    for embedding in enem_filtered[\"enunciado_embbedings_word2vec_300\"]\n",
    "]\n",
    "y_300_filtered = enem_filtered[\"nu_param_B\"]"
   ]
  },
  {
   "cell_type": "code",
   "execution_count": 111,
   "metadata": {
    "colab": {
     "base_uri": "https://localhost:8080/"
    },
    "id": "1zSIVR6VQEZ8",
    "outputId": "5f14863d-5b54-4001-9a24-84eb1d000776"
   },
   "outputs": [
    {
     "name": "stdout",
     "output_type": "stream",
     "text": [
      "0.9332701631134968\n"
     ]
    }
   ],
   "source": [
    "# Aplicando Transformações\n",
    "add_list = [(y_300_filtered.min() * (-1)) + 1] * len(y_300_filtered)\n",
    "y_300_filtered = y_300_filtered + add_list\n",
    "\n",
    "# Aplicando Boxcox\n",
    "y_300_filtered, best_lambda = stats.boxcox(y_300_filtered)\n",
    "print(best_lambda)"
   ]
  },
  {
   "cell_type": "markdown",
   "metadata": {},
   "source": [
    "### 6.1.3.A) Regressão Linear\n"
   ]
  },
  {
   "cell_type": "code",
   "execution_count": 112,
   "metadata": {
    "id": "W8FOsJOBRoe3"
   },
   "outputs": [],
   "source": [
    "# Dividindo os dados em treino e teste\n",
    "X_train_300_filtered, X_test_300_filtered, y_train_300_filtered, y_test_300_filtered = (\n",
    "    train_test_split(X_300_filtered, y_300_filtered, test_size=0.3, random_state=42)\n",
    ")"
   ]
  },
  {
   "cell_type": "code",
   "execution_count": 113,
   "metadata": {
    "id": "9P30xp6VRs_j"
   },
   "outputs": [],
   "source": [
    "# Adicionando constante\n",
    "X_train_300_filtered = sm.add_constant(X_train_300_filtered)\n",
    "X_test_300_filtered = sm.add_constant(X_test_300_filtered)"
   ]
  },
  {
   "cell_type": "code",
   "execution_count": 114,
   "metadata": {
    "id": "L1sR1TjVrGxk"
   },
   "outputs": [],
   "source": [
    "# Criando o modelo e realizando a predição\n",
    "linear_model_300_filtered = sm.OLS(y_train_300_filtered, X_train_300_filtered).fit()\n",
    "pred_linear_model_300_filtered = linear_model_300_filtered.predict(X_test_300_filtered)"
   ]
  },
  {
   "cell_type": "code",
   "execution_count": 115,
   "metadata": {
    "colab": {
     "base_uri": "https://localhost:8080/"
    },
    "id": "wCFhymqgRvn8",
    "outputId": "1fbc8a0e-12fc-4a0b-9a7a-28dd2a41222d"
   },
   "outputs": [
    {
     "name": "stdout",
     "output_type": "stream",
     "text": [
      "RMSE: 1.2188517275533708\n"
     ]
    }
   ],
   "source": [
    "# Cálculo do RMSE\n",
    "rms = root_mean_squared_error(y_test_300_filtered, pred_linear_model_300_filtered)\n",
    "print(\"RMSE:\", rms)"
   ]
  },
  {
   "cell_type": "code",
   "execution_count": 116,
   "metadata": {
    "colab": {
     "base_uri": "https://localhost:8080/"
    },
    "id": "5ZdKgcfgR9U3",
    "outputId": "a58e5f03-19b5-4b79-96df-3d5992daebf0"
   },
   "outputs": [
    {
     "name": "stderr",
     "output_type": "stream",
     "text": [
      "/home/alesouza/.cache/pypoetry/virtualenvs/projeto-enem-YISx0mk8-py3.11/lib/python3.11/site-packages/statsmodels/regression/linear_model.py:1795: RuntimeWarning: divide by zero encountered in divide\n",
      "  return 1 - (np.divide(self.nobs - self.k_constant, self.df_resid)\n",
      "/home/alesouza/.cache/pypoetry/virtualenvs/projeto-enem-YISx0mk8-py3.11/lib/python3.11/site-packages/statsmodels/regression/linear_model.py:1795: RuntimeWarning: invalid value encountered in scalar multiply\n",
      "  return 1 - (np.divide(self.nobs - self.k_constant, self.df_resid)\n",
      "/home/alesouza/.cache/pypoetry/virtualenvs/projeto-enem-YISx0mk8-py3.11/lib/python3.11/site-packages/statsmodels/regression/linear_model.py:1717: RuntimeWarning: divide by zero encountered in scalar divide\n",
      "  return np.dot(wresid, wresid) / self.df_resid\n"
     ]
    },
    {
     "name": "stdout",
     "output_type": "stream",
     "text": [
      "                            OLS Regression Results                            \n",
      "==============================================================================\n",
      "Dep. Variable:                      y   R-squared:                       1.000\n",
      "Model:                            OLS   Adj. R-squared:                    nan\n",
      "Method:                 Least Squares   F-statistic:                       nan\n",
      "Date:                Sun, 15 Jun 2025   Prob (F-statistic):                nan\n",
      "Time:                        17:26:45   Log-Likelihood:                 5833.8\n",
      "No. Observations:                 184   AIC:                        -1.130e+04\n",
      "Df Residuals:                       0   BIC:                        -1.071e+04\n",
      "Df Model:                         183                                         \n",
      "Covariance Type:            nonrobust                                         \n",
      "==============================================================================\n",
      "                 coef    std err          t      P>|t|      [0.025      0.975]\n",
      "------------------------------------------------------------------------------\n",
      "const          2.4067        inf          0        nan         nan         nan\n",
      "x1            -0.5864        inf         -0        nan         nan         nan\n",
      "x2            -2.9283        inf         -0        nan         nan         nan\n",
      "x3            -0.9290        inf         -0        nan         nan         nan\n",
      "x4             2.8863        inf          0        nan         nan         nan\n",
      "x5             0.6334        inf          0        nan         nan         nan\n",
      "x6            -0.7807        inf         -0        nan         nan         nan\n",
      "x7            -1.9453        inf         -0        nan         nan         nan\n",
      "x8             0.2597        inf          0        nan         nan         nan\n",
      "x9            -0.3324        inf         -0        nan         nan         nan\n",
      "x10            1.1327        inf          0        nan         nan         nan\n",
      "x11           -2.7629        inf         -0        nan         nan         nan\n",
      "x12            0.1551        inf          0        nan         nan         nan\n",
      "x13           -3.0734        inf         -0        nan         nan         nan\n",
      "x14           -2.1671        inf         -0        nan         nan         nan\n",
      "x15            1.6496        inf          0        nan         nan         nan\n",
      "x16           -0.9866        inf         -0        nan         nan         nan\n",
      "x17            3.6311        inf          0        nan         nan         nan\n",
      "x18            0.1246        inf          0        nan         nan         nan\n",
      "x19            2.3699        inf          0        nan         nan         nan\n",
      "x20           -1.6199        inf         -0        nan         nan         nan\n",
      "x21            1.5345        inf          0        nan         nan         nan\n",
      "x22            0.0468        inf          0        nan         nan         nan\n",
      "x23            1.2978        inf          0        nan         nan         nan\n",
      "x24            5.4899        inf          0        nan         nan         nan\n",
      "x25            4.8152        inf          0        nan         nan         nan\n",
      "x26            4.2594        inf          0        nan         nan         nan\n",
      "x27           -0.4234        inf         -0        nan         nan         nan\n",
      "x28            4.0184        inf          0        nan         nan         nan\n",
      "x29           -3.2476        inf         -0        nan         nan         nan\n",
      "x30           -0.2332        inf         -0        nan         nan         nan\n",
      "x31           -0.4360        inf         -0        nan         nan         nan\n",
      "x32           -5.7051        inf         -0        nan         nan         nan\n",
      "x33           -3.2408        inf         -0        nan         nan         nan\n",
      "x34           -0.4181        inf         -0        nan         nan         nan\n",
      "x35            1.2655        inf          0        nan         nan         nan\n",
      "x36            0.1911        inf          0        nan         nan         nan\n",
      "x37            3.6015        inf          0        nan         nan         nan\n",
      "x38           -0.3065        inf         -0        nan         nan         nan\n",
      "x39            0.9606        inf          0        nan         nan         nan\n",
      "x40            0.2425        inf          0        nan         nan         nan\n",
      "x41           -0.2324        inf         -0        nan         nan         nan\n",
      "x42           -3.1719        inf         -0        nan         nan         nan\n",
      "x43            2.0780        inf          0        nan         nan         nan\n",
      "x44           -0.0504        inf         -0        nan         nan         nan\n",
      "x45           -0.6492        inf         -0        nan         nan         nan\n",
      "x46           -1.4466        inf         -0        nan         nan         nan\n",
      "x47            0.8481        inf          0        nan         nan         nan\n",
      "x48           -0.1269        inf         -0        nan         nan         nan\n",
      "x49           -0.8482        inf         -0        nan         nan         nan\n",
      "x50           -2.6909        inf         -0        nan         nan         nan\n",
      "x51           -2.6055        inf         -0        nan         nan         nan\n",
      "x52            1.3557        inf          0        nan         nan         nan\n",
      "x53            0.9646        inf          0        nan         nan         nan\n",
      "x54            1.7486        inf          0        nan         nan         nan\n",
      "x55           -0.6967        inf         -0        nan         nan         nan\n",
      "x56           -0.3504        inf         -0        nan         nan         nan\n",
      "x57           -1.0156        inf         -0        nan         nan         nan\n",
      "x58            1.6062        inf          0        nan         nan         nan\n",
      "x59            1.9899        inf          0        nan         nan         nan\n",
      "x60            0.2648        inf          0        nan         nan         nan\n",
      "x61           -0.1528        inf         -0        nan         nan         nan\n",
      "x62            0.5460        inf          0        nan         nan         nan\n",
      "x63            1.5048        inf          0        nan         nan         nan\n",
      "x64            2.0092        inf          0        nan         nan         nan\n",
      "x65           -1.0558        inf         -0        nan         nan         nan\n",
      "x66           -0.9954        inf         -0        nan         nan         nan\n",
      "x67           -2.3256        inf         -0        nan         nan         nan\n",
      "x68            2.3106        inf          0        nan         nan         nan\n",
      "x69            2.7636        inf          0        nan         nan         nan\n",
      "x70            0.1204        inf          0        nan         nan         nan\n",
      "x71           -1.2128        inf         -0        nan         nan         nan\n",
      "x72           -3.2024        inf         -0        nan         nan         nan\n",
      "x73           -1.4652        inf         -0        nan         nan         nan\n",
      "x74           -0.5883        inf         -0        nan         nan         nan\n",
      "x75            0.9763        inf          0        nan         nan         nan\n",
      "x76            3.1437        inf          0        nan         nan         nan\n",
      "x77           -1.4634        inf         -0        nan         nan         nan\n",
      "x78           -0.4531        inf         -0        nan         nan         nan\n",
      "x79           -3.4894        inf         -0        nan         nan         nan\n",
      "x80            0.6707        inf          0        nan         nan         nan\n",
      "x81            2.2188        inf          0        nan         nan         nan\n",
      "x82            0.2768        inf          0        nan         nan         nan\n",
      "x83            0.2286        inf          0        nan         nan         nan\n",
      "x84           -4.8438        inf         -0        nan         nan         nan\n",
      "x85            0.9413        inf          0        nan         nan         nan\n",
      "x86           -2.0144        inf         -0        nan         nan         nan\n",
      "x87            3.6895        inf          0        nan         nan         nan\n",
      "x88            0.3118        inf          0        nan         nan         nan\n",
      "x89            1.6536        inf          0        nan         nan         nan\n",
      "x90           -0.5598        inf         -0        nan         nan         nan\n",
      "x91            0.0548        inf          0        nan         nan         nan\n",
      "x92            0.6655        inf          0        nan         nan         nan\n",
      "x93            2.5004        inf          0        nan         nan         nan\n",
      "x94            1.9780        inf          0        nan         nan         nan\n",
      "x95            1.3220        inf          0        nan         nan         nan\n",
      "x96           -1.3116        inf         -0        nan         nan         nan\n",
      "x97            0.9212        inf          0        nan         nan         nan\n",
      "x98            0.9017        inf          0        nan         nan         nan\n",
      "x99            0.7020        inf          0        nan         nan         nan\n",
      "x100          -0.6424        inf         -0        nan         nan         nan\n",
      "x101          -2.3880        inf         -0        nan         nan         nan\n",
      "x102          -0.1234        inf         -0        nan         nan         nan\n",
      "x103           2.5337        inf          0        nan         nan         nan\n",
      "x104           1.8674        inf          0        nan         nan         nan\n",
      "x105           0.3708        inf          0        nan         nan         nan\n",
      "x106           1.4884        inf          0        nan         nan         nan\n",
      "x107           1.9961        inf          0        nan         nan         nan\n",
      "x108          -3.3744        inf         -0        nan         nan         nan\n",
      "x109          -1.8931        inf         -0        nan         nan         nan\n",
      "x110          -1.9155        inf         -0        nan         nan         nan\n",
      "x111           3.0037        inf          0        nan         nan         nan\n",
      "x112          -3.9640        inf         -0        nan         nan         nan\n",
      "x113           2.2858        inf          0        nan         nan         nan\n",
      "x114           2.9720        inf          0        nan         nan         nan\n",
      "x115           3.2503        inf          0        nan         nan         nan\n",
      "x116          -0.4585        inf         -0        nan         nan         nan\n",
      "x117          -2.0419        inf         -0        nan         nan         nan\n",
      "x118           1.7115        inf          0        nan         nan         nan\n",
      "x119           1.4187        inf          0        nan         nan         nan\n",
      "x120          -1.1715        inf         -0        nan         nan         nan\n",
      "x121          -4.3915        inf         -0        nan         nan         nan\n",
      "x122           3.9750        inf          0        nan         nan         nan\n",
      "x123          -3.1569        inf         -0        nan         nan         nan\n",
      "x124           0.5940        inf          0        nan         nan         nan\n",
      "x125          -0.1543        inf         -0        nan         nan         nan\n",
      "x126           2.4575        inf          0        nan         nan         nan\n",
      "x127           0.6503        inf          0        nan         nan         nan\n",
      "x128           0.4434        inf          0        nan         nan         nan\n",
      "x129           0.2090        inf          0        nan         nan         nan\n",
      "x130           1.7018        inf          0        nan         nan         nan\n",
      "x131           1.2160        inf          0        nan         nan         nan\n",
      "x132           0.3662        inf          0        nan         nan         nan\n",
      "x133          -3.3367        inf         -0        nan         nan         nan\n",
      "x134          -0.5555        inf         -0        nan         nan         nan\n",
      "x135          -0.2646        inf         -0        nan         nan         nan\n",
      "x136           1.0758        inf          0        nan         nan         nan\n",
      "x137          -1.0609        inf         -0        nan         nan         nan\n",
      "x138           0.7852        inf          0        nan         nan         nan\n",
      "x139          -2.4017        inf         -0        nan         nan         nan\n",
      "x140          -3.0971        inf         -0        nan         nan         nan\n",
      "x141          -1.4512        inf         -0        nan         nan         nan\n",
      "x142           2.2101        inf          0        nan         nan         nan\n",
      "x143          -3.8798        inf         -0        nan         nan         nan\n",
      "x144          -3.3278        inf         -0        nan         nan         nan\n",
      "x145           0.4671        inf          0        nan         nan         nan\n",
      "x146          -0.7582        inf         -0        nan         nan         nan\n",
      "x147           2.2880        inf          0        nan         nan         nan\n",
      "x148          -1.2908        inf         -0        nan         nan         nan\n",
      "x149          -0.0198        inf         -0        nan         nan         nan\n",
      "x150           0.8356        inf          0        nan         nan         nan\n",
      "x151           0.9783        inf          0        nan         nan         nan\n",
      "x152           0.2585        inf          0        nan         nan         nan\n",
      "x153           0.1709        inf          0        nan         nan         nan\n",
      "x154           1.8755        inf          0        nan         nan         nan\n",
      "x155          -3.3288        inf         -0        nan         nan         nan\n",
      "x156           0.6069        inf          0        nan         nan         nan\n",
      "x157           0.9226        inf          0        nan         nan         nan\n",
      "x158          -3.1229        inf         -0        nan         nan         nan\n",
      "x159          -1.9563        inf         -0        nan         nan         nan\n",
      "x160          -0.9201        inf         -0        nan         nan         nan\n",
      "x161          -1.3046        inf         -0        nan         nan         nan\n",
      "x162          -2.6190        inf         -0        nan         nan         nan\n",
      "x163           4.5733        inf          0        nan         nan         nan\n",
      "x164           2.6250        inf          0        nan         nan         nan\n",
      "x165          -0.7672        inf         -0        nan         nan         nan\n",
      "x166           0.1967        inf          0        nan         nan         nan\n",
      "x167          -1.4593        inf         -0        nan         nan         nan\n",
      "x168          -0.4609        inf         -0        nan         nan         nan\n",
      "x169           0.1466        inf          0        nan         nan         nan\n",
      "x170          -2.5871        inf         -0        nan         nan         nan\n",
      "x171           2.9982        inf          0        nan         nan         nan\n",
      "x172          -0.6706        inf         -0        nan         nan         nan\n",
      "x173          -2.4565        inf         -0        nan         nan         nan\n",
      "x174          -0.8946        inf         -0        nan         nan         nan\n",
      "x175           3.3899        inf          0        nan         nan         nan\n",
      "x176          -2.9389        inf         -0        nan         nan         nan\n",
      "x177          -0.7559        inf         -0        nan         nan         nan\n",
      "x178          -1.8556        inf         -0        nan         nan         nan\n",
      "x179           2.2992        inf          0        nan         nan         nan\n",
      "x180          -3.1548        inf         -0        nan         nan         nan\n",
      "x181           3.0624        inf          0        nan         nan         nan\n",
      "x182           0.6847        inf          0        nan         nan         nan\n",
      "x183          -1.3267        inf         -0        nan         nan         nan\n",
      "x184          -4.1341        inf         -0        nan         nan         nan\n",
      "x185          -1.9798        inf         -0        nan         nan         nan\n",
      "x186           1.6198        inf          0        nan         nan         nan\n",
      "x187           1.7066        inf          0        nan         nan         nan\n",
      "x188           1.9179        inf          0        nan         nan         nan\n",
      "x189          -2.5774        inf         -0        nan         nan         nan\n",
      "x190          -0.6794        inf         -0        nan         nan         nan\n",
      "x191          -5.4161        inf         -0        nan         nan         nan\n",
      "x192          -0.3560        inf         -0        nan         nan         nan\n",
      "x193           0.7898        inf          0        nan         nan         nan\n",
      "x194          -1.9735        inf         -0        nan         nan         nan\n",
      "x195           1.8765        inf          0        nan         nan         nan\n",
      "x196          -0.0997        inf         -0        nan         nan         nan\n",
      "x197           0.6639        inf          0        nan         nan         nan\n",
      "x198          -0.4303        inf         -0        nan         nan         nan\n",
      "x199           0.7766        inf          0        nan         nan         nan\n",
      "x200           1.0069        inf          0        nan         nan         nan\n",
      "x201          -2.6738        inf         -0        nan         nan         nan\n",
      "x202           1.1159        inf          0        nan         nan         nan\n",
      "x203          -2.2197        inf         -0        nan         nan         nan\n",
      "x204          -1.0455        inf         -0        nan         nan         nan\n",
      "x205           1.7579        inf          0        nan         nan         nan\n",
      "x206          -2.1390        inf         -0        nan         nan         nan\n",
      "x207           3.1026        inf          0        nan         nan         nan\n",
      "x208           0.1472        inf          0        nan         nan         nan\n",
      "x209          -0.9072        inf         -0        nan         nan         nan\n",
      "x210          -0.6875        inf         -0        nan         nan         nan\n",
      "x211          -2.3279        inf         -0        nan         nan         nan\n",
      "x212           2.3662        inf          0        nan         nan         nan\n",
      "x213          -1.6529        inf         -0        nan         nan         nan\n",
      "x214          -0.3759        inf         -0        nan         nan         nan\n",
      "x215          -1.5568        inf         -0        nan         nan         nan\n",
      "x216          -0.4305        inf         -0        nan         nan         nan\n",
      "x217          -0.2946        inf         -0        nan         nan         nan\n",
      "x218           1.0431        inf          0        nan         nan         nan\n",
      "x219          -2.1280        inf         -0        nan         nan         nan\n",
      "x220           0.1122        inf          0        nan         nan         nan\n",
      "x221          -0.8276        inf         -0        nan         nan         nan\n",
      "x222           0.0782        inf          0        nan         nan         nan\n",
      "x223          -2.1324        inf         -0        nan         nan         nan\n",
      "x224           1.8721        inf          0        nan         nan         nan\n",
      "x225          -1.9172        inf         -0        nan         nan         nan\n",
      "x226           1.4091        inf          0        nan         nan         nan\n",
      "x227           2.3150        inf          0        nan         nan         nan\n",
      "x228          -2.5242        inf         -0        nan         nan         nan\n",
      "x229          -2.3953        inf         -0        nan         nan         nan\n",
      "x230           1.0639        inf          0        nan         nan         nan\n",
      "x231           3.5071        inf          0        nan         nan         nan\n",
      "x232          -1.0348        inf         -0        nan         nan         nan\n",
      "x233          -1.0028        inf         -0        nan         nan         nan\n",
      "x234           2.3360        inf          0        nan         nan         nan\n",
      "x235          -0.6603        inf         -0        nan         nan         nan\n",
      "x236           0.5193        inf          0        nan         nan         nan\n",
      "x237           1.0534        inf          0        nan         nan         nan\n",
      "x238          -1.6037        inf         -0        nan         nan         nan\n",
      "x239           2.2405        inf          0        nan         nan         nan\n",
      "x240          -0.4834        inf         -0        nan         nan         nan\n",
      "x241          -0.0144        inf         -0        nan         nan         nan\n",
      "x242          -4.2549        inf         -0        nan         nan         nan\n",
      "x243          -2.5449        inf         -0        nan         nan         nan\n",
      "x244           0.2339        inf          0        nan         nan         nan\n",
      "x245           1.8872        inf          0        nan         nan         nan\n",
      "x246           0.9257        inf          0        nan         nan         nan\n",
      "x247          -0.5513        inf         -0        nan         nan         nan\n",
      "x248          -2.8403        inf         -0        nan         nan         nan\n",
      "x249           0.1038        inf          0        nan         nan         nan\n",
      "x250           2.9497        inf          0        nan         nan         nan\n",
      "x251           0.4488        inf          0        nan         nan         nan\n",
      "x252          -0.2902        inf         -0        nan         nan         nan\n",
      "x253           1.3889        inf          0        nan         nan         nan\n",
      "x254           1.6235        inf          0        nan         nan         nan\n",
      "x255          -2.4936        inf         -0        nan         nan         nan\n",
      "x256          -0.4542        inf         -0        nan         nan         nan\n",
      "x257           1.7795        inf          0        nan         nan         nan\n",
      "x258           2.9925        inf          0        nan         nan         nan\n",
      "x259           3.3112        inf          0        nan         nan         nan\n",
      "x260          -1.7417        inf         -0        nan         nan         nan\n",
      "x261           0.1857        inf          0        nan         nan         nan\n",
      "x262           0.9442        inf          0        nan         nan         nan\n",
      "x263          -2.6862        inf         -0        nan         nan         nan\n",
      "x264          -0.5407        inf         -0        nan         nan         nan\n",
      "x265           2.5107        inf          0        nan         nan         nan\n",
      "x266           2.0669        inf          0        nan         nan         nan\n",
      "x267           1.8701        inf          0        nan         nan         nan\n",
      "x268           1.1513        inf          0        nan         nan         nan\n",
      "x269           0.1926        inf          0        nan         nan         nan\n",
      "x270          -2.4288        inf         -0        nan         nan         nan\n",
      "x271           1.1778        inf          0        nan         nan         nan\n",
      "x272          -3.0390        inf         -0        nan         nan         nan\n",
      "x273           1.3172        inf          0        nan         nan         nan\n",
      "x274          -2.7965        inf         -0        nan         nan         nan\n",
      "x275          -0.3120        inf         -0        nan         nan         nan\n",
      "x276          -3.8635        inf         -0        nan         nan         nan\n",
      "x277           0.0524        inf          0        nan         nan         nan\n",
      "x278          -0.5767        inf         -0        nan         nan         nan\n",
      "x279          -4.0533        inf         -0        nan         nan         nan\n",
      "x280           1.7591        inf          0        nan         nan         nan\n",
      "x281           1.1217        inf          0        nan         nan         nan\n",
      "x282          -0.3851        inf         -0        nan         nan         nan\n",
      "x283           2.4021        inf          0        nan         nan         nan\n",
      "x284           0.5417        inf          0        nan         nan         nan\n",
      "x285           3.1307        inf          0        nan         nan         nan\n",
      "x286          -2.8384        inf         -0        nan         nan         nan\n",
      "x287          -2.1884        inf         -0        nan         nan         nan\n",
      "x288          -1.1660        inf         -0        nan         nan         nan\n",
      "x289           1.4043        inf          0        nan         nan         nan\n",
      "x290          -2.4309        inf         -0        nan         nan         nan\n",
      "x291          -2.3198        inf         -0        nan         nan         nan\n",
      "x292           0.0909        inf          0        nan         nan         nan\n",
      "x293          -2.3370        inf         -0        nan         nan         nan\n",
      "x294           0.0039        inf          0        nan         nan         nan\n",
      "x295          -1.4805        inf         -0        nan         nan         nan\n",
      "x296           2.0381        inf          0        nan         nan         nan\n",
      "x297          -0.8955        inf         -0        nan         nan         nan\n",
      "x298           0.2181        inf          0        nan         nan         nan\n",
      "x299           3.8925        inf          0        nan         nan         nan\n",
      "x300           0.1562        inf          0        nan         nan         nan\n",
      "==============================================================================\n",
      "Omnibus:                        1.562   Durbin-Watson:                   1.826\n",
      "Prob(Omnibus):                  0.458   Jarque-Bera (JB):                1.343\n",
      "Skew:                           0.029   Prob(JB):                        0.511\n",
      "Kurtosis:                       2.586   Cond. No.                         205.\n",
      "==============================================================================\n",
      "\n",
      "Notes:\n",
      "[1] Standard Errors assume that the covariance matrix of the errors is correctly specified.\n",
      "[2] The input rank is higher than the number of observations.\n"
     ]
    }
   ],
   "source": [
    "print(linear_model_300_filtered.summary(alpha=0.05))"
   ]
  },
  {
   "cell_type": "markdown",
   "metadata": {},
   "source": [
    "### 6.1.3.B) Regressão Lasso\n"
   ]
  },
  {
   "cell_type": "code",
   "execution_count": 117,
   "metadata": {},
   "outputs": [],
   "source": [
    "# Dividindo os dados em treino e teste\n",
    "(\n",
    "    X_train_300_filtered_lasso,\n",
    "    X_test_300_filtered_lasso,\n",
    "    y_train_300_filtered_lasso,\n",
    "    y_test_300_filtered_lasso,\n",
    ") = train_test_split(X_300_filtered, y_300_filtered, test_size=0.3, random_state=42)"
   ]
  },
  {
   "cell_type": "code",
   "execution_count": 118,
   "metadata": {},
   "outputs": [
    {
     "name": "stdout",
     "output_type": "stream",
     "text": [
      "Melhor R2 score: 0.5662683125013057\n",
      "Melhor Alpha: 0.001\n",
      "RMSE com o Alpha escolhido: 0.6342396428478064\n"
     ]
    }
   ],
   "source": [
    "lasso_model_300_filtered = LassoCV(\n",
    "    alphas=[0.0001, 0.001, 0.01, 0.1, 1, 10, 100], random_state=0, tol=0.1\n",
    ").fit(X_train_300_filtered_lasso, y_train_300_filtered_lasso)\n",
    "\n",
    "pred_300_lasso_filtered = lasso_model_300_filtered.predict(X_test_300_filtered_lasso)\n",
    "\n",
    "print(\n",
    "    \"Melhor R2 score:\",\n",
    "    lasso_model_300_filtered.score(\n",
    "        X_train_300_filtered_lasso, y_train_300_filtered_lasso\n",
    "    ),\n",
    ")\n",
    "print(\"Melhor Alpha:\", lasso_model_300_filtered.alpha_)\n",
    "print(\n",
    "    \"RMSE com o Alpha escolhido:\",\n",
    "    root_mean_squared_error(y_test_300_filtered_lasso, pred_300_lasso_filtered),\n",
    ")"
   ]
  },
  {
   "cell_type": "markdown",
   "metadata": {},
   "source": [
    "### 6.1.4. LLM & Similaridade Features\n"
   ]
  },
  {
   "cell_type": "code",
   "execution_count": 119,
   "metadata": {},
   "outputs": [],
   "source": [
    "# Coletando os dados\n",
    "y_300_all_features = enem_data[\"nu_param_B\"]\n",
    "X_300_all_features = [\n",
    "    np.concatenate(\n",
    "        [\n",
    "            np.array(embedding),\n",
    "            [\n",
    "                acerto_deepseek,\n",
    "                acerto_llamma,\n",
    "                similaridade_enunciado_gabarito_300,\n",
    "                similaridade_enunciado_distratores_300,\n",
    "                similaridade_gabarito_distratores_300,\n",
    "            ],\n",
    "        ]\n",
    "    )\n",
    "    for acerto_deepseek, acerto_llamma, embedding, similaridade_enunciado_gabarito_300, similaridade_enunciado_distratores_300, similaridade_gabarito_distratores_300 in zip(\n",
    "        enem_data[\"acerto_deepseek\"],\n",
    "        enem_data[\"acerto_llamma\"],\n",
    "        enem_data[\"enunciado_embbedings_word2vec_300\"],\n",
    "        enem_data[\"similaridade_enunciado_gabarito_300\"],\n",
    "        enem_data[\"similaridade_enunciado_distratores_300\"],\n",
    "        enem_data[\"similaridade_gabarito_distratores_300\"],\n",
    "    )\n",
    "]"
   ]
  },
  {
   "cell_type": "code",
   "execution_count": 120,
   "metadata": {},
   "outputs": [
    {
     "name": "stdout",
     "output_type": "stream",
     "text": [
      "0.6304389864783265\n"
     ]
    }
   ],
   "source": [
    "# Aplicando Transformações\n",
    "add_list = [(y_300_all_features.min() * (-1)) + 1] * len(y_300_all_features)\n",
    "y_300_all_features = y_300_all_features + add_list\n",
    "\n",
    "# Aplicando Boxcox\n",
    "y_300_all_features, best_lambda = stats.boxcox(y_300_all_features)\n",
    "print(best_lambda)"
   ]
  },
  {
   "cell_type": "markdown",
   "metadata": {},
   "source": [
    "### 6.1.4.A) Regressão linear\n"
   ]
  },
  {
   "cell_type": "code",
   "execution_count": 121,
   "metadata": {},
   "outputs": [],
   "source": [
    "# Separando em conjunto de treino e teste\n",
    "\n",
    "(\n",
    "    X_train_300_all_features,\n",
    "    X_test_300_all_features,\n",
    "    y_train_300_all_features,\n",
    "    y_test_300_all_features,\n",
    ") = train_test_split(\n",
    "    X_300_all_features, y_300_all_features, test_size=0.3, random_state=42\n",
    ")"
   ]
  },
  {
   "cell_type": "code",
   "execution_count": 122,
   "metadata": {},
   "outputs": [],
   "source": [
    "# Adicionando constante\n",
    "X_train_300_all_features = sm.add_constant(X_train_300_all_features)\n",
    "X_test_300_all_features = sm.add_constant(X_test_300_all_features)"
   ]
  },
  {
   "cell_type": "code",
   "execution_count": 123,
   "metadata": {},
   "outputs": [],
   "source": [
    "# Criando o modelo e realizando predição\n",
    "linear_model_300_all_features = sm.OLS(\n",
    "    y_train_300_all_features, X_train_300_all_features\n",
    ").fit()\n",
    "pred_linear_model_300_all_features = linear_model_300_all_features.predict(\n",
    "    X_test_300_all_features\n",
    ")"
   ]
  },
  {
   "cell_type": "code",
   "execution_count": 124,
   "metadata": {},
   "outputs": [
    {
     "name": "stdout",
     "output_type": "stream",
     "text": [
      "RMSE 0.7478685280228781\n"
     ]
    }
   ],
   "source": [
    "# Cálculo do RMSE\n",
    "rms = root_mean_squared_error(y_test_300_all_features, pred_linear_model_300_all_features)\n",
    "print(\"RMSE\", rms)"
   ]
  },
  {
   "cell_type": "code",
   "execution_count": 125,
   "metadata": {},
   "outputs": [
    {
     "name": "stdout",
     "output_type": "stream",
     "text": [
      "                            OLS Regression Results                            \n",
      "==============================================================================\n",
      "Dep. Variable:                      y   R-squared:                       1.000\n",
      "Model:                            OLS   Adj. R-squared:                    nan\n",
      "Method:                 Least Squares   F-statistic:                       nan\n",
      "Date:                Sun, 15 Jun 2025   Prob (F-statistic):                nan\n",
      "Time:                        17:26:48   Log-Likelihood:                 5886.8\n",
      "No. Observations:                 186   AIC:                        -1.140e+04\n",
      "Df Residuals:                       0   BIC:                        -1.080e+04\n",
      "Df Model:                         185                                         \n",
      "Covariance Type:            nonrobust                                         \n",
      "==============================================================================\n",
      "                 coef    std err          t      P>|t|      [0.025      0.975]\n",
      "------------------------------------------------------------------------------\n",
      "const          1.0449        inf          0        nan         nan         nan\n",
      "x1             1.1411        inf          0        nan         nan         nan\n",
      "x2            -2.1774        inf         -0        nan         nan         nan\n",
      "x3            -0.3456        inf         -0        nan         nan         nan\n",
      "x4            -1.0563        inf         -0        nan         nan         nan\n",
      "x5            -0.3806        inf         -0        nan         nan         nan\n",
      "x6            -0.4776        inf         -0        nan         nan         nan\n",
      "x7            -1.1140        inf         -0        nan         nan         nan\n",
      "x8             0.7127        inf          0        nan         nan         nan\n",
      "x9             1.6394        inf          0        nan         nan         nan\n",
      "x10            1.5694        inf          0        nan         nan         nan\n",
      "x11           -0.1286        inf         -0        nan         nan         nan\n",
      "x12           -0.9844        inf         -0        nan         nan         nan\n",
      "x13           -0.6941        inf         -0        nan         nan         nan\n",
      "x14           -1.4302        inf         -0        nan         nan         nan\n",
      "x15            2.0431        inf          0        nan         nan         nan\n",
      "x16            0.1149        inf          0        nan         nan         nan\n",
      "x17            0.4984        inf          0        nan         nan         nan\n",
      "x18            1.7423        inf          0        nan         nan         nan\n",
      "x19            1.3000        inf          0        nan         nan         nan\n",
      "x20            0.6790        inf          0        nan         nan         nan\n",
      "x21            1.6231        inf          0        nan         nan         nan\n",
      "x22           -0.3538        inf         -0        nan         nan         nan\n",
      "x23            0.4125        inf          0        nan         nan         nan\n",
      "x24            3.0903        inf          0        nan         nan         nan\n",
      "x25            1.1729        inf          0        nan         nan         nan\n",
      "x26            3.8733        inf          0        nan         nan         nan\n",
      "x27            0.9397        inf          0        nan         nan         nan\n",
      "x28           -0.7926        inf         -0        nan         nan         nan\n",
      "x29           -0.6470        inf         -0        nan         nan         nan\n",
      "x30            0.3264        inf          0        nan         nan         nan\n",
      "x31            2.6983        inf          0        nan         nan         nan\n",
      "x32           -1.0208        inf         -0        nan         nan         nan\n",
      "x33           -0.3876        inf         -0        nan         nan         nan\n",
      "x34            1.1925        inf          0        nan         nan         nan\n",
      "x35            0.7955        inf          0        nan         nan         nan\n",
      "x36            1.5621        inf          0        nan         nan         nan\n",
      "x37            0.3911        inf          0        nan         nan         nan\n",
      "x38            1.7854        inf          0        nan         nan         nan\n",
      "x39            1.3972        inf          0        nan         nan         nan\n",
      "x40            0.9600        inf          0        nan         nan         nan\n",
      "x41           -0.4468        inf         -0        nan         nan         nan\n",
      "x42           -1.8149        inf         -0        nan         nan         nan\n",
      "x43            1.7678        inf          0        nan         nan         nan\n",
      "x44           -0.6864        inf         -0        nan         nan         nan\n",
      "x45            0.2607        inf          0        nan         nan         nan\n",
      "x46            0.0304        inf          0        nan         nan         nan\n",
      "x47            1.6511        inf          0        nan         nan         nan\n",
      "x48           -0.0120        inf         -0        nan         nan         nan\n",
      "x49           -2.6245        inf         -0        nan         nan         nan\n",
      "x50            0.4884        inf          0        nan         nan         nan\n",
      "x51            1.8552        inf          0        nan         nan         nan\n",
      "x52            0.1195        inf          0        nan         nan         nan\n",
      "x53           -2.3701        inf         -0        nan         nan         nan\n",
      "x54            1.7831        inf          0        nan         nan         nan\n",
      "x55            0.3507        inf          0        nan         nan         nan\n",
      "x56           -0.1271        inf         -0        nan         nan         nan\n",
      "x57            0.2565        inf          0        nan         nan         nan\n",
      "x58            0.0377        inf          0        nan         nan         nan\n",
      "x59            0.4874        inf          0        nan         nan         nan\n",
      "x60           -0.1384        inf         -0        nan         nan         nan\n",
      "x61            1.5701        inf          0        nan         nan         nan\n",
      "x62            0.6888        inf          0        nan         nan         nan\n",
      "x63            0.1102        inf          0        nan         nan         nan\n",
      "x64            1.3580        inf          0        nan         nan         nan\n",
      "x65           -1.5471        inf         -0        nan         nan         nan\n",
      "x66            0.6694        inf          0        nan         nan         nan\n",
      "x67           -1.3580        inf         -0        nan         nan         nan\n",
      "x68            1.4500        inf          0        nan         nan         nan\n",
      "x69            0.9186        inf          0        nan         nan         nan\n",
      "x70           -1.9811        inf         -0        nan         nan         nan\n",
      "x71           -0.4723        inf         -0        nan         nan         nan\n",
      "x72            0.0185        inf          0        nan         nan         nan\n",
      "x73           -1.4636        inf         -0        nan         nan         nan\n",
      "x74            0.3160        inf          0        nan         nan         nan\n",
      "x75           -1.0136        inf         -0        nan         nan         nan\n",
      "x76           -2.8068        inf         -0        nan         nan         nan\n",
      "x77           -0.6136        inf         -0        nan         nan         nan\n",
      "x78           -0.0576        inf         -0        nan         nan         nan\n",
      "x79            0.0192        inf          0        nan         nan         nan\n",
      "x80            0.4199        inf          0        nan         nan         nan\n",
      "x81            0.4755        inf          0        nan         nan         nan\n",
      "x82           -1.5012        inf         -0        nan         nan         nan\n",
      "x83           -0.3936        inf         -0        nan         nan         nan\n",
      "x84           -0.0103        inf         -0        nan         nan         nan\n",
      "x85           -0.5947        inf         -0        nan         nan         nan\n",
      "x86           -3.0574        inf         -0        nan         nan         nan\n",
      "x87            3.0284        inf          0        nan         nan         nan\n",
      "x88            2.3197        inf          0        nan         nan         nan\n",
      "x89            0.9674        inf          0        nan         nan         nan\n",
      "x90           -1.1368        inf         -0        nan         nan         nan\n",
      "x91            2.2548        inf          0        nan         nan         nan\n",
      "x92            1.6121        inf          0        nan         nan         nan\n",
      "x93            0.2271        inf          0        nan         nan         nan\n",
      "x94            0.7942        inf          0        nan         nan         nan\n",
      "x95            1.3014        inf          0        nan         nan         nan\n",
      "x96           -2.3140        inf         -0        nan         nan         nan\n",
      "x97           -0.7712        inf         -0        nan         nan         nan\n",
      "x98            0.1018        inf          0        nan         nan         nan\n",
      "x99            0.1489        inf          0        nan         nan         nan\n",
      "x100          -0.5398        inf         -0        nan         nan         nan\n",
      "x101          -0.6535        inf         -0        nan         nan         nan\n",
      "x102          -0.9153        inf         -0        nan         nan         nan\n",
      "x103          -0.6728        inf         -0        nan         nan         nan\n",
      "x104           1.1648        inf          0        nan         nan         nan\n",
      "x105          -2.1343        inf         -0        nan         nan         nan\n",
      "x106          -0.4196        inf         -0        nan         nan         nan\n",
      "x107          -0.2432        inf         -0        nan         nan         nan\n",
      "x108          -2.4233        inf         -0        nan         nan         nan\n",
      "x109           0.0498        inf          0        nan         nan         nan\n",
      "x110           0.0979        inf          0        nan         nan         nan\n",
      "x111           0.5494        inf          0        nan         nan         nan\n",
      "x112          -1.6755        inf         -0        nan         nan         nan\n",
      "x113          -1.3291        inf         -0        nan         nan         nan\n",
      "x114          -0.2984        inf         -0        nan         nan         nan\n",
      "x115          -0.8373        inf         -0        nan         nan         nan\n",
      "x116          -0.3562        inf         -0        nan         nan         nan\n",
      "x117           0.7181        inf          0        nan         nan         nan\n",
      "x118          -0.9404        inf         -0        nan         nan         nan\n",
      "x119           2.4028        inf          0        nan         nan         nan\n",
      "x120           0.9989        inf          0        nan         nan         nan\n",
      "x121          -0.3430        inf         -0        nan         nan         nan\n",
      "x122           0.9976        inf          0        nan         nan         nan\n",
      "x123          -2.0684        inf         -0        nan         nan         nan\n",
      "x124           0.2311        inf          0        nan         nan         nan\n",
      "x125          -0.6071        inf         -0        nan         nan         nan\n",
      "x126           0.3274        inf          0        nan         nan         nan\n",
      "x127          -0.0523        inf         -0        nan         nan         nan\n",
      "x128           0.2313        inf          0        nan         nan         nan\n",
      "x129          -1.4717        inf         -0        nan         nan         nan\n",
      "x130           0.6587        inf          0        nan         nan         nan\n",
      "x131           0.5350        inf          0        nan         nan         nan\n",
      "x132           1.3537        inf          0        nan         nan         nan\n",
      "x133          -2.3729        inf         -0        nan         nan         nan\n",
      "x134          -0.1510        inf         -0        nan         nan         nan\n",
      "x135           0.5439        inf          0        nan         nan         nan\n",
      "x136          -0.4609        inf         -0        nan         nan         nan\n",
      "x137           0.8432        inf          0        nan         nan         nan\n",
      "x138          -1.8693        inf         -0        nan         nan         nan\n",
      "x139           1.4222        inf          0        nan         nan         nan\n",
      "x140          -1.9530        inf         -0        nan         nan         nan\n",
      "x141          -0.1939        inf         -0        nan         nan         nan\n",
      "x142           0.7581        inf          0        nan         nan         nan\n",
      "x143          -3.2721        inf         -0        nan         nan         nan\n",
      "x144          -1.1834        inf         -0        nan         nan         nan\n",
      "x145          -0.1056        inf         -0        nan         nan         nan\n",
      "x146           1.5295        inf          0        nan         nan         nan\n",
      "x147           0.5343        inf          0        nan         nan         nan\n",
      "x148          -0.6562        inf         -0        nan         nan         nan\n",
      "x149          -0.0284        inf         -0        nan         nan         nan\n",
      "x150          -0.4303        inf         -0        nan         nan         nan\n",
      "x151           1.1685        inf          0        nan         nan         nan\n",
      "x152           0.7657        inf          0        nan         nan         nan\n",
      "x153          -0.5849        inf         -0        nan         nan         nan\n",
      "x154          -2.6827        inf         -0        nan         nan         nan\n",
      "x155           1.2285        inf          0        nan         nan         nan\n",
      "x156          -0.5174        inf         -0        nan         nan         nan\n",
      "x157          -0.1356        inf         -0        nan         nan         nan\n",
      "x158          -0.8923        inf         -0        nan         nan         nan\n",
      "x159          -0.7765        inf         -0        nan         nan         nan\n",
      "x160           0.2250        inf          0        nan         nan         nan\n",
      "x161          -0.6812        inf         -0        nan         nan         nan\n",
      "x162          -0.9884        inf         -0        nan         nan         nan\n",
      "x163           0.6799        inf          0        nan         nan         nan\n",
      "x164           1.8747        inf          0        nan         nan         nan\n",
      "x165          -0.3982        inf         -0        nan         nan         nan\n",
      "x166           0.6154        inf          0        nan         nan         nan\n",
      "x167           0.3765        inf          0        nan         nan         nan\n",
      "x168           0.4437        inf          0        nan         nan         nan\n",
      "x169          -1.0446        inf         -0        nan         nan         nan\n",
      "x170           0.3339        inf          0        nan         nan         nan\n",
      "x171           1.7165        inf          0        nan         nan         nan\n",
      "x172           1.2053        inf          0        nan         nan         nan\n",
      "x173           1.2256        inf          0        nan         nan         nan\n",
      "x174           1.7011        inf          0        nan         nan         nan\n",
      "x175           1.8486        inf          0        nan         nan         nan\n",
      "x176          -2.0879        inf         -0        nan         nan         nan\n",
      "x177          -1.9034        inf         -0        nan         nan         nan\n",
      "x178          -1.0597        inf         -0        nan         nan         nan\n",
      "x179           1.3331        inf          0        nan         nan         nan\n",
      "x180          -0.1409        inf         -0        nan         nan         nan\n",
      "x181           1.3133        inf          0        nan         nan         nan\n",
      "x182           0.0128        inf          0        nan         nan         nan\n",
      "x183          -1.6169        inf         -0        nan         nan         nan\n",
      "x184          -1.8038        inf         -0        nan         nan         nan\n",
      "x185          -0.2591        inf         -0        nan         nan         nan\n",
      "x186           0.3459        inf          0        nan         nan         nan\n",
      "x187           0.2146        inf          0        nan         nan         nan\n",
      "x188          -1.1058        inf         -0        nan         nan         nan\n",
      "x189          -2.3700        inf         -0        nan         nan         nan\n",
      "x190           0.5645        inf          0        nan         nan         nan\n",
      "x191          -1.2241        inf         -0        nan         nan         nan\n",
      "x192          -0.2054        inf         -0        nan         nan         nan\n",
      "x193          -1.4273        inf         -0        nan         nan         nan\n",
      "x194          -1.2259        inf         -0        nan         nan         nan\n",
      "x195           0.6625        inf          0        nan         nan         nan\n",
      "x196           1.0712        inf          0        nan         nan         nan\n",
      "x197           0.0937        inf          0        nan         nan         nan\n",
      "x198           1.4842        inf          0        nan         nan         nan\n",
      "x199           2.2601        inf          0        nan         nan         nan\n",
      "x200          -0.3225        inf         -0        nan         nan         nan\n",
      "x201           0.1698        inf          0        nan         nan         nan\n",
      "x202          -0.5617        inf         -0        nan         nan         nan\n",
      "x203           1.3359        inf          0        nan         nan         nan\n",
      "x204           1.4966        inf          0        nan         nan         nan\n",
      "x205           1.5163        inf          0        nan         nan         nan\n",
      "x206          -1.3407        inf         -0        nan         nan         nan\n",
      "x207          -0.3344        inf         -0        nan         nan         nan\n",
      "x208           1.2508        inf          0        nan         nan         nan\n",
      "x209          -1.3258        inf         -0        nan         nan         nan\n",
      "x210          -1.6092        inf         -0        nan         nan         nan\n",
      "x211           1.5510        inf          0        nan         nan         nan\n",
      "x212           0.1470        inf          0        nan         nan         nan\n",
      "x213           0.5080        inf          0        nan         nan         nan\n",
      "x214          -0.6004        inf         -0        nan         nan         nan\n",
      "x215           0.0169        inf          0        nan         nan         nan\n",
      "x216           1.8161        inf          0        nan         nan         nan\n",
      "x217           0.9662        inf          0        nan         nan         nan\n",
      "x218           0.0349        inf          0        nan         nan         nan\n",
      "x219          -1.6154        inf         -0        nan         nan         nan\n",
      "x220          -2.3436        inf         -0        nan         nan         nan\n",
      "x221          -0.6969        inf         -0        nan         nan         nan\n",
      "x222          -0.2557        inf         -0        nan         nan         nan\n",
      "x223          -0.0522        inf         -0        nan         nan         nan\n",
      "x224           1.4402        inf          0        nan         nan         nan\n",
      "x225          -0.0568        inf         -0        nan         nan         nan\n",
      "x226          -0.6023        inf         -0        nan         nan         nan\n",
      "x227           0.6849        inf          0        nan         nan         nan\n",
      "x228          -0.1311        inf         -0        nan         nan         nan\n",
      "x229           0.3392        inf          0        nan         nan         nan\n",
      "x230           0.7949        inf          0        nan         nan         nan\n",
      "x231           2.0883        inf          0        nan         nan         nan\n",
      "x232          -0.0201        inf         -0        nan         nan         nan\n",
      "x233          -2.6248        inf         -0        nan         nan         nan\n",
      "x234           0.0567        inf          0        nan         nan         nan\n",
      "x235           1.5008        inf          0        nan         nan         nan\n",
      "x236           0.8237        inf          0        nan         nan         nan\n",
      "x237          -2.3343        inf         -0        nan         nan         nan\n",
      "x238          -1.6156        inf         -0        nan         nan         nan\n",
      "x239           0.4863        inf          0        nan         nan         nan\n",
      "x240           0.5847        inf          0        nan         nan         nan\n",
      "x241          -1.1635        inf         -0        nan         nan         nan\n",
      "x242          -2.6005        inf         -0        nan         nan         nan\n",
      "x243          -1.8001        inf         -0        nan         nan         nan\n",
      "x244           0.3897        inf          0        nan         nan         nan\n",
      "x245           0.6664        inf          0        nan         nan         nan\n",
      "x246           0.8435        inf          0        nan         nan         nan\n",
      "x247           0.5178        inf          0        nan         nan         nan\n",
      "x248          -0.0198        inf         -0        nan         nan         nan\n",
      "x249           1.3950        inf          0        nan         nan         nan\n",
      "x250           1.3315        inf          0        nan         nan         nan\n",
      "x251           0.0867        inf          0        nan         nan         nan\n",
      "x252          -1.6092        inf         -0        nan         nan         nan\n",
      "x253          -0.6821        inf         -0        nan         nan         nan\n",
      "x254           0.4838        inf          0        nan         nan         nan\n",
      "x255           0.3010        inf          0        nan         nan         nan\n",
      "x256          -0.2583        inf         -0        nan         nan         nan\n",
      "x257          -1.4694        inf         -0        nan         nan         nan\n",
      "x258           1.3711        inf          0        nan         nan         nan\n",
      "x259           0.1375        inf          0        nan         nan         nan\n",
      "x260          -0.2987        inf         -0        nan         nan         nan\n",
      "x261           0.6868        inf          0        nan         nan         nan\n",
      "x262          -0.5681        inf         -0        nan         nan         nan\n",
      "x263          -0.3914        inf         -0        nan         nan         nan\n",
      "x264           0.9987        inf          0        nan         nan         nan\n",
      "x265           2.4129        inf          0        nan         nan         nan\n",
      "x266           0.9442        inf          0        nan         nan         nan\n",
      "x267           1.3729        inf          0        nan         nan         nan\n",
      "x268          -0.5667        inf         -0        nan         nan         nan\n",
      "x269           0.6983        inf          0        nan         nan         nan\n",
      "x270          -2.4328        inf         -0        nan         nan         nan\n",
      "x271           0.7217        inf          0        nan         nan         nan\n",
      "x272          -0.9358        inf         -0        nan         nan         nan\n",
      "x273          -0.0913        inf         -0        nan         nan         nan\n",
      "x274          -0.7972        inf         -0        nan         nan         nan\n",
      "x275          -0.7687        inf         -0        nan         nan         nan\n",
      "x276           0.2621        inf          0        nan         nan         nan\n",
      "x277           0.8904        inf          0        nan         nan         nan\n",
      "x278          -0.1598        inf         -0        nan         nan         nan\n",
      "x279          -1.5669        inf         -0        nan         nan         nan\n",
      "x280           1.4015        inf          0        nan         nan         nan\n",
      "x281           0.6265        inf          0        nan         nan         nan\n",
      "x282           0.2195        inf          0        nan         nan         nan\n",
      "x283           2.1619        inf          0        nan         nan         nan\n",
      "x284          -1.0323        inf         -0        nan         nan         nan\n",
      "x285           0.5695        inf          0        nan         nan         nan\n",
      "x286          -0.8788        inf         -0        nan         nan         nan\n",
      "x287          -1.3458        inf         -0        nan         nan         nan\n",
      "x288          -0.1401        inf         -0        nan         nan         nan\n",
      "x289           0.8836        inf          0        nan         nan         nan\n",
      "x290          -1.5508        inf         -0        nan         nan         nan\n",
      "x291           2.1911        inf          0        nan         nan         nan\n",
      "x292          -1.2238        inf         -0        nan         nan         nan\n",
      "x293          -0.8690        inf         -0        nan         nan         nan\n",
      "x294          -1.2777        inf         -0        nan         nan         nan\n",
      "x295          -0.9932        inf         -0        nan         nan         nan\n",
      "x296           0.3203        inf          0        nan         nan         nan\n",
      "x297           0.6055        inf          0        nan         nan         nan\n",
      "x298          -0.1693        inf         -0        nan         nan         nan\n",
      "x299           1.1566        inf          0        nan         nan         nan\n",
      "x300          -0.0772        inf         -0        nan         nan         nan\n",
      "x301           0.0414        inf          0        nan         nan         nan\n",
      "x302          -0.0705        inf         -0        nan         nan         nan\n",
      "x303           0.5690        inf          0        nan         nan         nan\n",
      "x304           0.1818        inf          0        nan         nan         nan\n",
      "x305          -0.3728        inf         -0        nan         nan         nan\n",
      "==============================================================================\n",
      "Omnibus:                       36.647   Durbin-Watson:                   0.935\n",
      "Prob(Omnibus):                  0.000   Jarque-Bera (JB):              110.861\n",
      "Skew:                           0.766   Prob(JB):                     8.45e-25\n",
      "Kurtosis:                       6.458   Cond. No.                         266.\n",
      "==============================================================================\n",
      "\n",
      "Notes:\n",
      "[1] Standard Errors assume that the covariance matrix of the errors is correctly specified.\n",
      "[2] The input rank is higher than the number of observations.\n"
     ]
    },
    {
     "name": "stderr",
     "output_type": "stream",
     "text": [
      "/home/alesouza/.cache/pypoetry/virtualenvs/projeto-enem-YISx0mk8-py3.11/lib/python3.11/site-packages/statsmodels/regression/linear_model.py:1795: RuntimeWarning: divide by zero encountered in divide\n",
      "  return 1 - (np.divide(self.nobs - self.k_constant, self.df_resid)\n",
      "/home/alesouza/.cache/pypoetry/virtualenvs/projeto-enem-YISx0mk8-py3.11/lib/python3.11/site-packages/statsmodels/regression/linear_model.py:1795: RuntimeWarning: invalid value encountered in scalar multiply\n",
      "  return 1 - (np.divide(self.nobs - self.k_constant, self.df_resid)\n",
      "/home/alesouza/.cache/pypoetry/virtualenvs/projeto-enem-YISx0mk8-py3.11/lib/python3.11/site-packages/statsmodels/regression/linear_model.py:1717: RuntimeWarning: divide by zero encountered in scalar divide\n",
      "  return np.dot(wresid, wresid) / self.df_resid\n"
     ]
    }
   ],
   "source": [
    "print(linear_model_300_all_features.summary(alpha=0.05))"
   ]
  },
  {
   "cell_type": "markdown",
   "metadata": {},
   "source": [
    "### 6.1.4.B) Lasso\n"
   ]
  },
  {
   "cell_type": "code",
   "execution_count": 126,
   "metadata": {},
   "outputs": [],
   "source": [
    "# Separando em conjunto de treino e teste\n",
    "(\n",
    "    X_train_300_lasso_all_features,\n",
    "    X_test_300_lasso_all_features,\n",
    "    y_train_300_lasso_all_features,\n",
    "    y_test_300_lasso_all_features,\n",
    ") = train_test_split(\n",
    "    X_300_all_features, y_300_all_features, test_size=0.3, random_state=42\n",
    ")"
   ]
  },
  {
   "cell_type": "code",
   "execution_count": 127,
   "metadata": {},
   "outputs": [
    {
     "name": "stdout",
     "output_type": "stream",
     "text": [
      "melhor r2 score: 0.547574748756191\n",
      "melhor alpha: 0.001\n",
      "RMSE com o alpha escolhido: 0.48813975574107166\n"
     ]
    }
   ],
   "source": [
    "lasso_model_all_features_300 = LassoCV(\n",
    "    alphas=[0.0001, 0.001, 0.01, 0.1, 1, 10], random_state=0\n",
    ").fit(X_train_300_lasso_all_features, y_train_300_lasso_all_features)\n",
    "\n",
    "pred_300_lasso_all_features = lasso_model_all_features_300.predict(\n",
    "    X_test_300_lasso_all_features\n",
    ")\n",
    "\n",
    "print(\n",
    "    \"melhor r2 score:\",\n",
    "    lasso_model_all_features_300.score(\n",
    "        X_train_300_lasso_all_features, y_train_300_lasso_all_features\n",
    "    ),\n",
    ")\n",
    "print(\"melhor alpha:\", lasso_model_all_features_300.alpha_)\n",
    "print(\n",
    "    \"RMSE com o alpha escolhido:\",\n",
    "    root_mean_squared_error(y_test_300_lasso_all_features, pred_300_lasso_all_features),\n",
    ")"
   ]
  },
  {
   "cell_type": "markdown",
   "metadata": {},
   "source": [
    "---\n",
    "\n",
    "## 6.2. Embeddings de 100 Dimensões\n"
   ]
  },
  {
   "cell_type": "code",
   "execution_count": 128,
   "metadata": {},
   "outputs": [],
   "source": [
    "# Coletando os dados\n",
    "X_100 = [\n",
    "    np.array(embedding) for embedding in enem_data[\"enunciado_embbedings_word2vec_100\"]\n",
    "]  # Somente Embeddings\n",
    "\n",
    "y_100 = enem_data[\"nu_param_B\"]  # Parâmetro de Dificuldade (B)"
   ]
  },
  {
   "cell_type": "code",
   "execution_count": 129,
   "metadata": {},
   "outputs": [
    {
     "name": "stdout",
     "output_type": "stream",
     "text": [
      "0.6304389864783265\n"
     ]
    }
   ],
   "source": [
    "# Aplicando Transformações\n",
    "add_list = [(y_100.min() * (-1)) + 1] * len(y_100)\n",
    "y_100 = y_100 + add_list\n",
    "\n",
    "# Aplicando Box-Cox\n",
    "y_100, best_lambda = stats.boxcox(y_100)\n",
    "print(best_lambda)"
   ]
  },
  {
   "cell_type": "markdown",
   "metadata": {},
   "source": [
    "### 6.2.1. Regressão Linear\n"
   ]
  },
  {
   "cell_type": "code",
   "execution_count": 130,
   "metadata": {},
   "outputs": [],
   "source": [
    "# Separando em conjunto de treino e teste\n",
    "X_train_100, X_test_100, y_train_100, y_test_100 = train_test_split(\n",
    "    X_100, y_100, test_size=0.3, random_state=42\n",
    ")"
   ]
  },
  {
   "cell_type": "code",
   "execution_count": 131,
   "metadata": {},
   "outputs": [],
   "source": [
    "# Adicionando constante\n",
    "X_train_100 = sm.add_constant(X_train_100)\n",
    "X_test_100 = sm.add_constant(X_test_100)"
   ]
  },
  {
   "cell_type": "code",
   "execution_count": 132,
   "metadata": {},
   "outputs": [],
   "source": [
    "# Criando o modelo e realizando predição\n",
    "linear_model_100 = sm.OLS(y_train_100, X_train_100).fit()\n",
    "pred_linear_model_100 = linear_model_100.predict(X_test_100)"
   ]
  },
  {
   "cell_type": "code",
   "execution_count": 133,
   "metadata": {},
   "outputs": [
    {
     "name": "stdout",
     "output_type": "stream",
     "text": [
      "RMSE:  0.7525703952360024\n"
     ]
    }
   ],
   "source": [
    "# Cálculo do RMSE\n",
    "rms = root_mean_squared_error(y_test_100, pred_linear_model_100)\n",
    "print(\"RMSE: \", rms)"
   ]
  },
  {
   "cell_type": "code",
   "execution_count": 134,
   "metadata": {},
   "outputs": [
    {
     "name": "stdout",
     "output_type": "stream",
     "text": [
      "                            OLS Regression Results                            \n",
      "==============================================================================\n",
      "Dep. Variable:                      y   R-squared:                       0.625\n",
      "Model:                            OLS   Adj. R-squared:                  0.184\n",
      "Method:                 Least Squares   F-statistic:                     1.417\n",
      "Date:                Sun, 15 Jun 2025   Prob (F-statistic):             0.0498\n",
      "Time:                        17:26:49   Log-Likelihood:                -37.361\n",
      "No. Observations:                 186   AIC:                             276.7\n",
      "Df Residuals:                      85   BIC:                             602.5\n",
      "Df Model:                         100                                         \n",
      "Covariance Type:            nonrobust                                         \n",
      "==============================================================================\n",
      "                 coef    std err          t      P>|t|      [0.025      0.975]\n",
      "------------------------------------------------------------------------------\n",
      "const          1.9890      0.915      2.173      0.033       0.169       3.809\n",
      "x1             1.8543      1.608      1.153      0.252      -1.343       5.052\n",
      "x2             1.6218      1.564      1.037      0.303      -1.488       4.731\n",
      "x3             0.2719      1.805      0.151      0.881      -3.316       3.860\n",
      "x4             1.5198      1.890      0.804      0.424      -2.239       5.278\n",
      "x5            -0.6551      1.706     -0.384      0.702      -4.048       2.737\n",
      "x6            -2.0507      1.817     -1.129      0.262      -5.663       1.562\n",
      "x7            -0.4119      1.923     -0.214      0.831      -4.235       3.411\n",
      "x8            -1.0803      1.674     -0.645      0.520      -4.409       2.248\n",
      "x9             0.1982      1.575      0.126      0.900      -2.932       3.329\n",
      "x10           -0.5531      1.792     -0.309      0.758      -4.117       3.011\n",
      "x11            0.8280      1.799      0.460      0.646      -2.748       4.404\n",
      "x12           -1.5449      1.672     -0.924      0.358      -4.869       1.779\n",
      "x13           -0.3279      1.590     -0.206      0.837      -3.489       2.833\n",
      "x14           -1.3295      1.961     -0.678      0.500      -5.228       2.569\n",
      "x15            2.4148      1.704      1.417      0.160      -0.974       5.803\n",
      "x16            3.6637      1.733      2.114      0.037       0.217       7.110\n",
      "x17           -2.1259      1.693     -1.256      0.213      -5.491       1.239\n",
      "x18            0.3491      1.556      0.224      0.823      -2.745       3.443\n",
      "x19            2.2594      1.736      1.302      0.197      -1.192       5.710\n",
      "x20            3.2930      1.792      1.838      0.070      -0.269       6.855\n",
      "x21            0.1867      1.431      0.131      0.896      -2.658       3.031\n",
      "x22            2.1010      1.582      1.328      0.188      -1.044       5.246\n",
      "x23            2.8608      1.670      1.713      0.090      -0.459       6.181\n",
      "x24            0.3909      1.570      0.249      0.804      -2.732       3.513\n",
      "x25           -1.5566      1.626     -0.957      0.341      -4.789       1.676\n",
      "x26            2.8156      1.768      1.593      0.115      -0.699       6.330\n",
      "x27            1.7990      1.551      1.160      0.249      -1.284       4.882\n",
      "x28            1.1223      1.760      0.638      0.525      -2.377       4.622\n",
      "x29            3.5262      1.525      2.312      0.023       0.494       6.558\n",
      "x30           -0.6752      1.832     -0.369      0.713      -4.318       2.967\n",
      "x31            0.8787      1.504      0.584      0.561      -2.111       3.869\n",
      "x32           -0.9802      1.894     -0.517      0.606      -4.746       2.786\n",
      "x33           -2.3524      1.435     -1.639      0.105      -5.205       0.500\n",
      "x34           -0.5595      1.713     -0.327      0.745      -3.966       2.847\n",
      "x35           -0.6744      1.774     -0.380      0.705      -4.201       2.853\n",
      "x36           -3.3724      1.810     -1.864      0.066      -6.970       0.225\n",
      "x37           -2.3551      2.118     -1.112      0.269      -6.566       1.856\n",
      "x38           -0.5227      1.747     -0.299      0.765      -3.995       2.950\n",
      "x39           -0.0170      1.509     -0.011      0.991      -3.017       2.983\n",
      "x40           -0.1375      1.914     -0.072      0.943      -3.944       3.669\n",
      "x41            2.3553      1.787      1.318      0.191      -1.197       5.908\n",
      "x42            0.3000      1.700      0.176      0.860      -3.080       3.681\n",
      "x43            0.4681      2.071      0.226      0.822      -3.650       4.586\n",
      "x44            0.9661      1.521      0.635      0.527      -2.058       3.990\n",
      "x45            0.0805      1.426      0.056      0.955      -2.755       2.916\n",
      "x46            1.3961      1.458      0.957      0.341      -1.504       4.296\n",
      "x47           -1.7144      1.585     -1.081      0.283      -4.867       1.438\n",
      "x48            3.6729      1.701      2.160      0.034       0.292       7.054\n",
      "x49            0.7313      1.496      0.489      0.626      -2.243       3.705\n",
      "x50            0.7876      1.519      0.519      0.605      -2.232       3.807\n",
      "x51            1.6254      1.573      1.033      0.304      -1.503       4.753\n",
      "x52            2.2881      1.519      1.506      0.136      -0.733       5.309\n",
      "x53            1.5426      1.793      0.861      0.392      -2.022       5.107\n",
      "x54            1.4138      1.920      0.736      0.464      -2.404       5.231\n",
      "x55           -1.7761      1.682     -1.056      0.294      -5.121       1.568\n",
      "x56            2.2751      1.661      1.369      0.174      -1.028       5.578\n",
      "x57           -1.6299      1.725     -0.945      0.347      -5.060       1.800\n",
      "x58           -1.6007      1.675     -0.956      0.342      -4.930       1.729\n",
      "x59            1.6011      1.747      0.917      0.362      -1.872       5.074\n",
      "x60           -1.3867      1.587     -0.874      0.385      -4.542       1.768\n",
      "x61            2.1537      1.734      1.242      0.218      -1.294       5.601\n",
      "x62            1.2052      1.576      0.765      0.447      -1.929       4.340\n",
      "x63           -0.8327      1.491     -0.559      0.578      -3.797       2.131\n",
      "x64            3.3186      1.904      1.743      0.085      -0.467       7.104\n",
      "x65            1.6428      1.888      0.870      0.387      -2.112       5.397\n",
      "x66           -0.8273      1.508     -0.549      0.585      -3.825       2.170\n",
      "x67            0.1491      1.576      0.095      0.925      -2.984       3.282\n",
      "x68           -2.8506      1.879     -1.517      0.133      -6.586       0.885\n",
      "x69           -4.3935      1.881     -2.336      0.022      -8.133      -0.654\n",
      "x70            0.8105      1.535      0.528      0.599      -2.242       3.863\n",
      "x71           -2.2303      1.618     -1.378      0.172      -5.448       0.988\n",
      "x72            0.4903      1.686      0.291      0.772      -2.863       3.843\n",
      "x73            1.8595      1.974      0.942      0.349      -2.065       5.784\n",
      "x74            0.7625      1.934      0.394      0.694      -3.083       4.608\n",
      "x75           -0.0177      1.780     -0.010      0.992      -3.557       3.522\n",
      "x76           -1.8830      1.663     -1.132      0.261      -5.190       1.424\n",
      "x77            0.7330      1.547      0.474      0.637      -2.343       3.809\n",
      "x78           -1.5028      1.832     -0.820      0.414      -5.145       2.140\n",
      "x79           -0.5662      1.581     -0.358      0.721      -3.711       2.578\n",
      "x80           -0.8356      1.687     -0.495      0.622      -4.190       2.519\n",
      "x81            0.9685      1.619      0.598      0.551      -2.251       4.188\n",
      "x82           -0.5110      1.773     -0.288      0.774      -4.037       3.015\n",
      "x83           -1.2043      1.701     -0.708      0.481      -4.585       2.177\n",
      "x84           -2.2503      1.463     -1.538      0.128      -5.159       0.658\n",
      "x85           -1.1535      1.760     -0.655      0.514      -4.652       2.345\n",
      "x86           -1.3184      1.555     -0.848      0.399      -4.410       1.773\n",
      "x87            2.4903      2.002      1.244      0.217      -1.489       6.470\n",
      "x88            1.2243      1.653      0.741      0.461      -2.062       4.511\n",
      "x89            1.8955      1.659      1.143      0.256      -1.403       5.194\n",
      "x90            0.3877      1.799      0.216      0.830      -3.189       3.964\n",
      "x91            0.4972      1.634      0.304      0.762      -2.752       3.747\n",
      "x92            1.5641      1.614      0.969      0.335      -1.644       4.772\n",
      "x93           -0.4610      1.709     -0.270      0.788      -3.859       2.937\n",
      "x94           -1.3018      1.329     -0.979      0.330      -3.944       1.341\n",
      "x95            0.2758      1.567      0.176      0.861      -2.840       3.391\n",
      "x96           -0.3181      1.606     -0.198      0.843      -3.511       2.875\n",
      "x97           -0.3779      1.632     -0.232      0.817      -3.623       2.868\n",
      "x98            1.4398      1.539      0.936      0.352      -1.620       4.500\n",
      "x99           -1.2318      1.994     -0.618      0.538      -5.196       2.733\n",
      "x100          -2.5055      1.606     -1.560      0.122      -5.698       0.687\n",
      "==============================================================================\n",
      "Omnibus:                        0.747   Durbin-Watson:                   2.201\n",
      "Prob(Omnibus):                  0.688   Jarque-Bera (JB):                0.824\n",
      "Skew:                           0.034   Prob(JB):                        0.662\n",
      "Kurtosis:                       2.681   Cond. No.                         159.\n",
      "==============================================================================\n",
      "\n",
      "Notes:\n",
      "[1] Standard Errors assume that the covariance matrix of the errors is correctly specified.\n"
     ]
    }
   ],
   "source": [
    "# Visualização do modelo e resultados\n",
    "print(linear_model_100.summary(alpha=0.05))"
   ]
  },
  {
   "cell_type": "markdown",
   "metadata": {},
   "source": [
    "### 6.2.2. Regressão Lasso\n"
   ]
  },
  {
   "cell_type": "code",
   "execution_count": 135,
   "metadata": {},
   "outputs": [],
   "source": [
    "# Separando em conjunto de treino e teste\n",
    "X_train_100_lasso, X_test_100_lasso, y_train_100_lasso, y_test_100_lasso = (\n",
    "    train_test_split(X_100, y_100, test_size=0.3, random_state=42)\n",
    ")"
   ]
  },
  {
   "cell_type": "code",
   "execution_count": 136,
   "metadata": {},
   "outputs": [
    {
     "name": "stdout",
     "output_type": "stream",
     "text": [
      "Melhor R2 Score: 0.0\n",
      "Melhor Alpha: 10.0\n",
      "RMSE com o alpha escolhido: 0.49362604239339286\n"
     ]
    }
   ],
   "source": [
    "model_lasso = LassoCV(alphas=[0.0001, 0.001, 0.01, 0.1, 1, 10], random_state=0).fit(\n",
    "    X_train_100_lasso, y_train_100_lasso\n",
    ")\n",
    "pred_lasso = model_lasso.predict(X_test_100_lasso)\n",
    "\n",
    "print(\"Melhor R2 Score:\", model_lasso.score(X_train_100_lasso, y_train_100_lasso))\n",
    "print(\"Melhor Alpha:\", model_lasso.alpha_)\n",
    "print(\n",
    "    \"RMSE com o alpha escolhido:\", root_mean_squared_error(y_test_100_lasso, pred_lasso)\n",
    ")"
   ]
  },
  {
   "cell_type": "markdown",
   "metadata": {},
   "source": [
    "### 6.2.3. Regressões com Corte (-3,3)\n"
   ]
  },
  {
   "cell_type": "code",
   "execution_count": 137,
   "metadata": {},
   "outputs": [
    {
     "data": {
      "text/plain": [
       "count    263.000000\n",
       "mean       1.075595\n",
       "std        0.661348\n",
       "min       -0.726450\n",
       "25%        0.612925\n",
       "50%        1.051180\n",
       "75%        1.535350\n",
       "max        2.802770\n",
       "Name: nu_param_B, dtype: float64"
      ]
     },
     "execution_count": 137,
     "metadata": {},
     "output_type": "execute_result"
    }
   ],
   "source": [
    "# Aplicando corte de dificuldade sugerido pelo artigo motivador (-3, 3)\n",
    "enem_filtered = enem_data.copy()\n",
    "\n",
    "enem_filtered = enem_filtered[\n",
    "    (enem_filtered[\"nu_param_B\"] >= -3) & (enem_filtered[\"nu_param_B\"] <= 3)\n",
    "]\n",
    "enem_filtered[\"nu_param_B\"].describe()"
   ]
  },
  {
   "cell_type": "code",
   "execution_count": 138,
   "metadata": {},
   "outputs": [],
   "source": [
    "# Coletando os dados\n",
    "X_100_filtered = [\n",
    "    np.array(embedding)\n",
    "    for embedding in enem_filtered[\"enunciado_embbedings_word2vec_100\"]\n",
    "]\n",
    "y_100_filtered = enem_filtered[\"nu_param_B\"]"
   ]
  },
  {
   "cell_type": "code",
   "execution_count": 139,
   "metadata": {},
   "outputs": [
    {
     "name": "stdout",
     "output_type": "stream",
     "text": [
      "0.9332701631134968\n"
     ]
    }
   ],
   "source": [
    "# Aplicando Transformações\n",
    "add_list = [(y_100_filtered.min() * (-1)) + 1] * len(y_100_filtered)\n",
    "y_100_filtered = y_100_filtered + add_list\n",
    "\n",
    "# Aplicando Boxcox\n",
    "y_100_filtered, best_lambda = stats.boxcox(y_100_filtered)\n",
    "print(best_lambda)"
   ]
  },
  {
   "cell_type": "markdown",
   "metadata": {},
   "source": [
    "### 6.2.3.A) Regressão Linear\n"
   ]
  },
  {
   "cell_type": "code",
   "execution_count": 140,
   "metadata": {},
   "outputs": [],
   "source": [
    "# Dividindo os dados em treino e teste\n",
    "X_train_100_filtered, X_test_100_filtered, y_train_100_filtered, y_test_100_filtered = (\n",
    "    train_test_split(X_100_filtered, y_100_filtered, test_size=0.3, random_state=42)\n",
    ")"
   ]
  },
  {
   "cell_type": "code",
   "execution_count": 141,
   "metadata": {},
   "outputs": [],
   "source": [
    "# Adicionando constante\n",
    "X_train_100_filtered = sm.add_constant(X_train_100_filtered)\n",
    "X_test_100_filtered = sm.add_constant(X_test_100_filtered)"
   ]
  },
  {
   "cell_type": "code",
   "execution_count": 142,
   "metadata": {},
   "outputs": [],
   "source": [
    "# Criando o modelo e realizando a predição\n",
    "linear_model_100_filtered = sm.OLS(y_train_100_filtered, X_train_100_filtered).fit()\n",
    "pred_linear_model_100_filtered = linear_model_100_filtered.predict(X_test_100_filtered)"
   ]
  },
  {
   "cell_type": "code",
   "execution_count": 143,
   "metadata": {},
   "outputs": [
    {
     "name": "stdout",
     "output_type": "stream",
     "text": [
      "RMSE: 1.1116035092062138\n"
     ]
    }
   ],
   "source": [
    "# Cálculo do RMSE\n",
    "rms = root_mean_squared_error(y_test_100_filtered, pred_linear_model_100_filtered)\n",
    "print(\"RMSE:\", rms)"
   ]
  },
  {
   "cell_type": "code",
   "execution_count": 144,
   "metadata": {},
   "outputs": [
    {
     "name": "stdout",
     "output_type": "stream",
     "text": [
      "                            OLS Regression Results                            \n",
      "==============================================================================\n",
      "Dep. Variable:                      y   R-squared:                       0.639\n",
      "Model:                            OLS   Adj. R-squared:                  0.204\n",
      "Method:                 Least Squares   F-statistic:                     1.468\n",
      "Date:                Sun, 15 Jun 2025   Prob (F-statistic):             0.0360\n",
      "Time:                        17:26:50   Log-Likelihood:                -79.988\n",
      "No. Observations:                 184   AIC:                             362.0\n",
      "Df Residuals:                      83   BIC:                             686.7\n",
      "Df Model:                         100                                         \n",
      "Covariance Type:            nonrobust                                         \n",
      "==============================================================================\n",
      "                 coef    std err          t      P>|t|      [0.025      0.975]\n",
      "------------------------------------------------------------------------------\n",
      "const          3.4525      1.241      2.782      0.007       0.984       5.921\n",
      "x1             4.4265      2.226      1.988      0.050      -0.002       8.855\n",
      "x2            -1.2945      2.094     -0.618      0.538      -5.460       2.871\n",
      "x3             1.6676      2.253      0.740      0.461      -2.813       6.148\n",
      "x4             0.2861      2.085      0.137      0.891      -3.861       4.433\n",
      "x5            -1.6416      2.131     -0.771      0.443      -5.879       2.596\n",
      "x6            -1.9015      2.410     -0.789      0.432      -6.695       2.892\n",
      "x7            -1.3652      2.407     -0.567      0.572      -6.153       3.423\n",
      "x8             0.8577      2.096      0.409      0.683      -3.311       5.026\n",
      "x9             0.7197      1.873      0.384      0.702      -3.006       4.445\n",
      "x10           -1.0887      2.518     -0.432      0.667      -6.097       3.919\n",
      "x11           -2.1349      2.066     -1.033      0.305      -6.245       1.975\n",
      "x12            2.7577      2.408      1.145      0.255      -2.031       7.546\n",
      "x13            3.5403      2.092      1.692      0.094      -0.621       7.701\n",
      "x14           -3.9511      2.810     -1.406      0.163      -9.540       1.638\n",
      "x15           -0.3239      2.073     -0.156      0.876      -4.447       3.799\n",
      "x16            3.7947      2.204      1.722      0.089      -0.588       8.178\n",
      "x17           -0.2233      1.852     -0.121      0.904      -3.907       3.461\n",
      "x18           -0.3001      1.879     -0.160      0.874      -4.038       3.438\n",
      "x19           -0.1313      2.421     -0.054      0.957      -4.947       4.685\n",
      "x20            1.1492      1.985      0.579      0.564      -2.799       5.097\n",
      "x21           -0.7991      2.051     -0.390      0.698      -4.879       3.281\n",
      "x22            2.7858      2.159      1.291      0.200      -1.508       7.079\n",
      "x23            0.8827      2.355      0.375      0.709      -3.801       5.566\n",
      "x24           -1.3202      2.229     -0.592      0.555      -5.753       3.113\n",
      "x25            1.3148      1.897      0.693      0.490      -2.458       5.088\n",
      "x26            0.1541      1.904      0.081      0.936      -3.634       3.942\n",
      "x27            1.2629      2.017      0.626      0.533      -2.748       5.274\n",
      "x28            6.6468      2.258      2.943      0.004       2.155      11.139\n",
      "x29            4.0963      2.113      1.938      0.056      -0.107       8.300\n",
      "x30           -2.2756      2.416     -0.942      0.349      -7.082       2.531\n",
      "x31            0.0712      2.180      0.033      0.974      -4.265       4.407\n",
      "x32           -1.4688      2.499     -0.588      0.558      -6.438       3.501\n",
      "x33           -2.1187      1.672     -1.267      0.209      -5.445       1.207\n",
      "x34            2.3394      2.150      1.088      0.280      -1.937       6.616\n",
      "x35            0.0354      2.095      0.017      0.987      -4.131       4.201\n",
      "x36           -4.2296      2.255     -1.876      0.064      -8.715       0.256\n",
      "x37           -2.1796      2.544     -0.857      0.394      -7.239       2.880\n",
      "x38            3.7177      2.195      1.694      0.094      -0.648       8.083\n",
      "x39           -1.8305      2.109     -0.868      0.388      -6.025       2.364\n",
      "x40            0.3165      2.405      0.132      0.896      -4.466       5.099\n",
      "x41            4.9673      2.087      2.381      0.020       0.817       9.117\n",
      "x42            1.5278      1.955      0.781      0.437      -2.361       5.417\n",
      "x43            3.1603      2.687      1.176      0.243      -2.185       8.505\n",
      "x44            0.4712      1.969      0.239      0.811      -3.445       4.388\n",
      "x45           -1.2424      1.676     -0.741      0.461      -4.576       2.091\n",
      "x46           -0.2430      2.011     -0.121      0.904      -4.243       3.757\n",
      "x47           -3.3924      2.647     -1.282      0.204      -8.657       1.872\n",
      "x48            1.2855      2.106      0.610      0.543      -2.903       5.474\n",
      "x49            0.0209      1.821      0.011      0.991      -3.602       3.644\n",
      "x50            0.6033      2.067      0.292      0.771      -3.509       4.715\n",
      "x51           -1.9311      2.138     -0.903      0.369      -6.183       2.320\n",
      "x52            2.2068      1.899      1.162      0.249      -1.570       5.984\n",
      "x53           -1.0992      2.267     -0.485      0.629      -5.607       3.409\n",
      "x54           -3.3916      2.618     -1.296      0.199      -8.598       1.815\n",
      "x55           -0.7675      1.904     -0.403      0.688      -4.555       3.020\n",
      "x56            0.3287      1.855      0.177      0.860      -3.360       4.017\n",
      "x57           -2.5553      2.305     -1.109      0.271      -7.140       2.030\n",
      "x58            1.0261      1.963      0.523      0.603      -2.878       4.930\n",
      "x59            4.5008      2.844      1.582      0.117      -1.156      10.158\n",
      "x60           -1.7506      2.328     -0.752      0.454      -6.380       2.879\n",
      "x61           -1.9487      2.416     -0.806      0.422      -6.755       2.857\n",
      "x62            1.2262      2.141      0.573      0.568      -3.031       5.484\n",
      "x63           -0.1046      2.135     -0.049      0.961      -4.352       4.143\n",
      "x64            5.3795      2.402      2.240      0.028       0.602      10.157\n",
      "x65            0.2116      2.364      0.090      0.929      -4.490       4.913\n",
      "x66           -3.6855      1.861     -1.980      0.051      -7.388       0.017\n",
      "x67            3.5323      2.160      1.635      0.106      -0.765       7.829\n",
      "x68            0.0374      2.303      0.016      0.987      -4.543       4.618\n",
      "x69           -1.5463      1.937     -0.799      0.427      -5.398       2.305\n",
      "x70            3.1521      2.118      1.488      0.140      -1.061       7.365\n",
      "x71           -1.8952      1.830     -1.035      0.303      -5.536       1.745\n",
      "x72           -2.3118      2.041     -1.133      0.261      -6.371       1.748\n",
      "x73            1.2184      2.313      0.527      0.600      -3.382       5.819\n",
      "x74            0.4846      2.285      0.212      0.833      -4.060       5.029\n",
      "x75           -1.2074      2.439     -0.495      0.622      -6.058       3.643\n",
      "x76           -0.0805      2.245     -0.036      0.971      -4.546       4.385\n",
      "x77            3.0690      2.394      1.282      0.203      -1.692       7.830\n",
      "x78           -2.3388      2.301     -1.016      0.312      -6.916       2.238\n",
      "x79            0.5524      2.141      0.258      0.797      -3.707       4.811\n",
      "x80            2.9915      2.179      1.373      0.173      -1.342       7.325\n",
      "x81            1.7942      2.186      0.821      0.414      -2.553       6.141\n",
      "x82           -2.7594      2.198     -1.256      0.213      -7.131       1.612\n",
      "x83           -2.1109      2.103     -1.004      0.318      -6.293       2.071\n",
      "x84           -3.3496      1.975     -1.696      0.094      -7.277       0.578\n",
      "x85           -2.9609      2.171     -1.364      0.176      -7.278       1.357\n",
      "x86            1.7310      1.973      0.877      0.383      -2.193       5.655\n",
      "x87            1.2204      2.470      0.494      0.623      -3.692       6.133\n",
      "x88           -4.9279      2.179     -2.261      0.026      -9.263      -0.593\n",
      "x89            4.3851      2.122      2.066      0.042       0.164       8.606\n",
      "x90           -1.0861      2.265     -0.480      0.633      -5.590       3.418\n",
      "x91            2.2101      1.872      1.181      0.241      -1.513       5.933\n",
      "x92           -1.8360      1.926     -0.953      0.343      -5.667       1.995\n",
      "x93           -4.1423      2.194     -1.888      0.062      -8.505       0.220\n",
      "x94           -2.3033      1.986     -1.160      0.249      -6.253       1.647\n",
      "x95           -2.9304      2.319     -1.264      0.210      -7.542       1.681\n",
      "x96           -1.4109      2.219     -0.636      0.527      -5.825       3.003\n",
      "x97           -4.8880      2.012     -2.430      0.017      -8.889      -0.887\n",
      "x98           -0.0706      1.833     -0.039      0.969      -3.716       3.575\n",
      "x99           -1.4888      2.274     -0.655      0.515      -6.012       3.035\n",
      "x100           0.7666      2.081      0.368      0.714      -3.373       4.906\n",
      "==============================================================================\n",
      "Omnibus:                        0.133   Durbin-Watson:                   1.978\n",
      "Prob(Omnibus):                  0.936   Jarque-Bera (JB):                0.256\n",
      "Skew:                          -0.049   Prob(JB):                        0.880\n",
      "Kurtosis:                       2.846   Cond. No.                         173.\n",
      "==============================================================================\n",
      "\n",
      "Notes:\n",
      "[1] Standard Errors assume that the covariance matrix of the errors is correctly specified.\n"
     ]
    }
   ],
   "source": [
    "print(linear_model_100_filtered.summary(alpha=0.05))"
   ]
  },
  {
   "cell_type": "markdown",
   "metadata": {},
   "source": [
    "### 6.2.3.B) Regressão Lasso\n"
   ]
  },
  {
   "cell_type": "code",
   "execution_count": 145,
   "metadata": {},
   "outputs": [],
   "source": [
    "# Dividindo os dados em treino e teste\n",
    "(\n",
    "    X_train_100_filtered_lasso,\n",
    "    X_test_100_filtered_lasso,\n",
    "    y_train_100_filtered_lasso,\n",
    "    y_test_100_filtered_lasso,\n",
    ") = train_test_split(X_100_filtered, y_100_filtered, test_size=0.3, random_state=42)"
   ]
  },
  {
   "cell_type": "code",
   "execution_count": 146,
   "metadata": {},
   "outputs": [
    {
     "name": "stdout",
     "output_type": "stream",
     "text": [
      "Melhor R2 score: 0.4089702399339846\n",
      "Melhor Alpha: 0.001\n",
      "RMSE com o Alpha escolhido: 0.6878739383423418\n"
     ]
    }
   ],
   "source": [
    "lasso_model_100_filtered = LassoCV(\n",
    "    alphas=[0.0001, 0.001, 0.01, 0.1, 1, 10, 100], random_state=0, tol=0.1\n",
    ").fit(X_train_100_filtered_lasso, y_train_100_filtered_lasso)\n",
    "\n",
    "pred_lasso_filtered_100 = lasso_model_100_filtered.predict(X_test_100_filtered_lasso)\n",
    "\n",
    "print(\n",
    "    \"Melhor R2 score:\",\n",
    "    lasso_model_100_filtered.score(\n",
    "        X_train_100_filtered_lasso, y_train_100_filtered_lasso\n",
    "    ),\n",
    ")\n",
    "print(\"Melhor Alpha:\", lasso_model_100_filtered.alpha_)\n",
    "print(\n",
    "    \"RMSE com o Alpha escolhido:\",\n",
    "    root_mean_squared_error(y_test_100_filtered_lasso, pred_lasso_filtered_100),\n",
    ")"
   ]
  },
  {
   "cell_type": "markdown",
   "metadata": {},
   "source": [
    "### 6.2.4. LLM & Similaridade Features\n"
   ]
  },
  {
   "cell_type": "code",
   "execution_count": 147,
   "metadata": {},
   "outputs": [],
   "source": [
    "# Coletando os dados\n",
    "y_100_all_features = enem_data[\"nu_param_B\"]\n",
    "X_100_all_features = [\n",
    "    np.concatenate(\n",
    "        [\n",
    "            np.array(embedding),\n",
    "            [\n",
    "                acerto_deepseek,\n",
    "                acerto_llamma,\n",
    "                similaridade_enunciado_gabarito_100,\n",
    "                similaridade_enunciado_distratores_100,\n",
    "                similaridade_gabarito_distratores_100,\n",
    "            ],\n",
    "        ]\n",
    "    )\n",
    "    for acerto_deepseek, acerto_llamma, embedding, similaridade_enunciado_gabarito_100, similaridade_enunciado_distratores_100, similaridade_gabarito_distratores_100 in zip(\n",
    "        enem_data[\"acerto_deepseek\"],\n",
    "        enem_data[\"acerto_llamma\"],\n",
    "        enem_data[\"enunciado_embbedings_word2vec_100\"],\n",
    "        enem_data[\"similaridade_enunciado_gabarito_100\"],\n",
    "        enem_data[\"similaridade_enunciado_distratores_100\"],\n",
    "        enem_data[\"similaridade_gabarito_distratores_100\"],\n",
    "    )\n",
    "]"
   ]
  },
  {
   "cell_type": "code",
   "execution_count": 148,
   "metadata": {},
   "outputs": [
    {
     "name": "stdout",
     "output_type": "stream",
     "text": [
      "0.6304389864783265\n"
     ]
    }
   ],
   "source": [
    "# Aplicando Transformações\n",
    "add_list = [(y_100_all_features.min() * (-1)) + 1] * len(y_100_all_features)\n",
    "y_100_all_features = y_100_all_features + add_list\n",
    "\n",
    "# Aplicando Boxcox\n",
    "y_100_all_features, best_lambda = stats.boxcox(y_100_all_features)\n",
    "print(best_lambda)"
   ]
  },
  {
   "cell_type": "markdown",
   "metadata": {},
   "source": [
    "### 6.2.4.A) Regressão linear\n"
   ]
  },
  {
   "cell_type": "code",
   "execution_count": 149,
   "metadata": {},
   "outputs": [],
   "source": [
    "# Separando em conjunto de treino e teste\n",
    "\n",
    "(\n",
    "    X_train_100_all_features,\n",
    "    X_test_100_all_features,\n",
    "    y_train_100_all_features,\n",
    "    y_test_100_all_features,\n",
    ") = train_test_split(\n",
    "    X_100_all_features, y_100_all_features, test_size=0.3, random_state=42\n",
    ")"
   ]
  },
  {
   "cell_type": "code",
   "execution_count": 150,
   "metadata": {},
   "outputs": [],
   "source": [
    "# Adicionando constante\n",
    "X_train_100_all_features = sm.add_constant(X_train_100_all_features)\n",
    "X_test_100_all_features = sm.add_constant(X_test_100_all_features)"
   ]
  },
  {
   "cell_type": "code",
   "execution_count": 151,
   "metadata": {},
   "outputs": [],
   "source": [
    "# Criando o modelo e realizando predição\n",
    "linear_model_100_all_features = sm.OLS(\n",
    "    y_train_100_all_features, X_train_100_all_features\n",
    ").fit()\n",
    "pred_linear_model_100_all_features = linear_model_100_all_features.predict(\n",
    "    X_test_100_all_features\n",
    ")"
   ]
  },
  {
   "cell_type": "code",
   "execution_count": 152,
   "metadata": {},
   "outputs": [
    {
     "name": "stdout",
     "output_type": "stream",
     "text": [
      "RMSE 0.7301775694828514\n"
     ]
    }
   ],
   "source": [
    "# Cálculo do RMSE\n",
    "rms = root_mean_squared_error(y_test_100_all_features, pred_linear_model_100_all_features)\n",
    "print(\"RMSE\", rms)"
   ]
  },
  {
   "cell_type": "code",
   "execution_count": 153,
   "metadata": {},
   "outputs": [
    {
     "name": "stdout",
     "output_type": "stream",
     "text": [
      "                            OLS Regression Results                            \n",
      "==============================================================================\n",
      "Dep. Variable:                      y   R-squared:                       0.639\n",
      "Model:                            OLS   Adj. R-squared:                  0.165\n",
      "Method:                 Least Squares   F-statistic:                     1.347\n",
      "Date:                Sun, 15 Jun 2025   Prob (F-statistic):             0.0817\n",
      "Time:                        17:26:51   Log-Likelihood:                -33.892\n",
      "No. Observations:                 186   AIC:                             279.8\n",
      "Df Residuals:                      80   BIC:                             621.7\n",
      "Df Model:                         105                                         \n",
      "Covariance Type:            nonrobust                                         \n",
      "==============================================================================\n",
      "                 coef    std err          t      P>|t|      [0.025      0.975]\n",
      "------------------------------------------------------------------------------\n",
      "const          1.9024      0.964      1.974      0.052      -0.016       3.821\n",
      "x1             1.9799      1.649      1.201      0.233      -1.302       5.262\n",
      "x2             1.2951      1.629      0.795      0.429      -1.948       4.538\n",
      "x3             0.1656      1.902      0.087      0.931      -3.619       3.950\n",
      "x4             1.3382      2.033      0.658      0.512      -2.708       5.384\n",
      "x5            -0.6961      1.751     -0.398      0.692      -4.180       2.788\n",
      "x6            -1.7443      1.848     -0.944      0.348      -5.422       1.934\n",
      "x7            -0.6934      1.993     -0.348      0.729      -4.660       3.273\n",
      "x8            -0.6706      1.740     -0.385      0.701      -4.132       2.791\n",
      "x9            -0.3512      1.670     -0.210      0.834      -3.675       2.973\n",
      "x10           -0.6597      1.844     -0.358      0.721      -4.329       3.010\n",
      "x11            0.4970      1.929      0.258      0.797      -3.343       4.336\n",
      "x12           -1.7539      1.704     -1.029      0.306      -5.145       1.637\n",
      "x13           -0.1263      1.630     -0.078      0.938      -3.370       3.118\n",
      "x14           -1.1448      2.030     -0.564      0.574      -5.185       2.895\n",
      "x15            2.6494      1.849      1.432      0.156      -1.031       6.330\n",
      "x16            3.7671      1.825      2.065      0.042       0.136       7.398\n",
      "x17           -2.2429      1.791     -1.252      0.214      -5.808       1.322\n",
      "x18            0.5620      1.629      0.345      0.731      -2.681       3.805\n",
      "x19            2.3388      1.795      1.303      0.196      -1.233       5.911\n",
      "x20            3.1558      1.847      1.709      0.091      -0.520       6.831\n",
      "x21            0.0204      1.483      0.014      0.989      -2.930       2.971\n",
      "x22            1.8158      1.616      1.124      0.264      -1.399       5.031\n",
      "x23            2.9180      1.693      1.724      0.089      -0.451       6.287\n",
      "x24           -0.2242      1.671     -0.134      0.894      -3.550       3.101\n",
      "x25           -1.2317      1.711     -0.720      0.474      -4.637       2.174\n",
      "x26            2.2955      1.848      1.242      0.218      -1.383       5.974\n",
      "x27            1.2476      1.633      0.764      0.447      -2.002       4.497\n",
      "x28            0.8956      1.863      0.481      0.632      -2.811       4.603\n",
      "x29            3.1153      1.613      1.931      0.057      -0.095       6.326\n",
      "x30           -0.3787      1.881     -0.201      0.841      -4.122       3.364\n",
      "x31            0.5105      1.589      0.321      0.749      -2.651       3.672\n",
      "x32           -0.7578      2.010     -0.377      0.707      -4.758       3.243\n",
      "x33           -2.7093      1.485     -1.825      0.072      -5.664       0.245\n",
      "x34           -0.2205      1.756     -0.126      0.900      -3.716       3.275\n",
      "x35           -0.5909      1.823     -0.324      0.747      -4.218       3.036\n",
      "x36           -3.3991      1.852     -1.835      0.070      -7.085       0.287\n",
      "x37           -2.3243      2.161     -1.076      0.285      -6.624       1.976\n",
      "x38           -0.4957      1.788     -0.277      0.782      -4.054       3.062\n",
      "x39           -0.0821      1.555     -0.053      0.958      -3.178       3.013\n",
      "x40           -0.2630      2.003     -0.131      0.896      -4.249       3.723\n",
      "x41            1.9604      1.885      1.040      0.302      -1.792       5.713\n",
      "x42            0.1799      1.731      0.104      0.917      -3.265       3.625\n",
      "x43            0.2599      2.131      0.122      0.903      -3.980       4.500\n",
      "x44            0.9187      1.562      0.588      0.558      -2.191       4.028\n",
      "x45            0.2764      1.469      0.188      0.851      -2.647       3.200\n",
      "x46            1.5192      1.495      1.016      0.313      -1.457       4.495\n",
      "x47           -1.7101      1.671     -1.023      0.309      -5.036       1.615\n",
      "x48            3.6696      1.794      2.046      0.044       0.100       7.239\n",
      "x49            0.5698      1.519      0.375      0.709      -2.454       3.593\n",
      "x50            0.8718      1.564      0.557      0.579      -2.241       3.984\n",
      "x51            1.5148      1.603      0.945      0.348      -1.676       4.705\n",
      "x52            2.7247      1.580      1.724      0.089      -0.420       5.870\n",
      "x53            2.2980      1.925      1.194      0.236      -1.532       6.128\n",
      "x54            1.8865      1.995      0.946      0.347      -2.084       5.857\n",
      "x55           -1.7803      1.743     -1.021      0.310      -5.250       1.689\n",
      "x56            1.7826      1.739      1.025      0.309      -1.679       5.244\n",
      "x57           -1.3357      1.781     -0.750      0.456      -4.881       2.209\n",
      "x58           -1.4373      1.810     -0.794      0.430      -5.040       2.165\n",
      "x59            1.5745      1.868      0.843      0.402      -2.143       5.292\n",
      "x60           -1.5092      1.653     -0.913      0.364      -4.798       1.780\n",
      "x61            2.0751      1.769      1.173      0.244      -1.445       5.595\n",
      "x62            1.1432      1.676      0.682      0.497      -2.192       4.478\n",
      "x63           -0.6746      1.520     -0.444      0.658      -3.700       2.351\n",
      "x64            3.2586      1.940      1.679      0.097      -0.603       7.120\n",
      "x65            1.4609      1.965      0.744      0.459      -2.449       5.371\n",
      "x66           -1.1413      1.598     -0.714      0.477      -4.322       2.039\n",
      "x67            0.2527      1.600      0.158      0.875      -2.931       3.436\n",
      "x68           -2.7173      1.974     -1.377      0.173      -6.646       1.211\n",
      "x69           -3.8905      1.982     -1.963      0.053      -7.834       0.053\n",
      "x70            0.5497      1.577      0.349      0.728      -2.588       3.687\n",
      "x71           -2.2709      1.734     -1.309      0.194      -5.722       1.180\n",
      "x72            0.5165      1.726      0.299      0.766      -2.919       3.952\n",
      "x73            1.7872      2.041      0.876      0.384      -2.274       5.848\n",
      "x74            0.8768      2.007      0.437      0.663      -3.117       4.871\n",
      "x75           -0.0303      1.851     -0.016      0.987      -3.713       3.652\n",
      "x76           -2.0638      1.746     -1.182      0.241      -5.538       1.410\n",
      "x77            0.6394      1.604      0.399      0.691      -2.553       3.832\n",
      "x78           -1.4442      1.926     -0.750      0.455      -5.276       2.388\n",
      "x79           -0.5030      1.668     -0.302      0.764      -3.822       2.816\n",
      "x80           -0.4248      1.771     -0.240      0.811      -3.949       3.099\n",
      "x81            1.0323      1.651      0.625      0.533      -2.252       4.317\n",
      "x82           -0.3531      1.842     -0.192      0.848      -4.018       3.312\n",
      "x83           -1.1664      1.775     -0.657      0.513      -4.698       2.366\n",
      "x84           -1.9885      1.517     -1.311      0.194      -5.007       1.030\n",
      "x85           -0.8948      1.881     -0.476      0.636      -4.637       2.848\n",
      "x86           -1.6952      1.661     -1.020      0.311      -5.002       1.611\n",
      "x87            1.9106      2.106      0.907      0.367      -2.281       6.102\n",
      "x88            0.7903      1.703      0.464      0.644      -2.600       4.180\n",
      "x89            1.5468      1.742      0.888      0.377      -1.920       5.013\n",
      "x90            0.8462      1.940      0.436      0.664      -3.015       4.708\n",
      "x91            0.1797      1.677      0.107      0.915      -3.158       3.518\n",
      "x92            1.5032      1.682      0.894      0.374      -1.843       4.850\n",
      "x93           -0.1715      1.776     -0.097      0.923      -3.707       3.364\n",
      "x94           -1.3482      1.355     -0.995      0.323      -4.046       1.349\n",
      "x95            0.2916      1.623      0.180      0.858      -2.939       3.522\n",
      "x96           -0.7590      1.651     -0.460      0.647      -4.045       2.527\n",
      "x97           -0.3274      1.680     -0.195      0.846      -3.672       3.017\n",
      "x98            1.3702      1.571      0.872      0.386      -1.755       4.496\n",
      "x99           -1.0052      2.090     -0.481      0.632      -5.164       3.154\n",
      "x100          -2.0703      1.679     -1.233      0.221      -5.411       1.271\n",
      "x101          -0.0768      0.135     -0.567      0.572      -0.346       0.193\n",
      "x102          -0.1197      0.097     -1.235      0.221      -0.313       0.073\n",
      "x103           0.2721      0.660      0.412      0.681      -1.041       1.585\n",
      "x104          -0.1326      0.553     -0.240      0.811      -1.233       0.968\n",
      "x105           0.3914      0.527      0.743      0.459      -0.657       1.439\n",
      "==============================================================================\n",
      "Omnibus:                        1.902   Durbin-Watson:                   2.198\n",
      "Prob(Omnibus):                  0.386   Jarque-Bera (JB):                1.524\n",
      "Skew:                          -0.007   Prob(JB):                        0.467\n",
      "Kurtosis:                       2.557   Cond. No.                         268.\n",
      "==============================================================================\n",
      "\n",
      "Notes:\n",
      "[1] Standard Errors assume that the covariance matrix of the errors is correctly specified.\n"
     ]
    }
   ],
   "source": [
    "print(linear_model_100_all_features.summary(alpha=0.05))"
   ]
  },
  {
   "cell_type": "markdown",
   "metadata": {},
   "source": [
    "### 6.2.4.B) Lasso\n"
   ]
  },
  {
   "cell_type": "code",
   "execution_count": 154,
   "metadata": {},
   "outputs": [],
   "source": [
    "# Separando em conjunto de treino e teste\n",
    "(\n",
    "    X_train_100_lasso_all_features,\n",
    "    X_test_100_lasso_all_features,\n",
    "    y_train_100_lasso_all_features,\n",
    "    y_test_100_lasso_all_features,\n",
    ") = train_test_split(\n",
    "    X_100_all_features, y_100_all_features, test_size=0.3, random_state=42\n",
    ")"
   ]
  },
  {
   "cell_type": "code",
   "execution_count": 155,
   "metadata": {},
   "outputs": [
    {
     "name": "stdout",
     "output_type": "stream",
     "text": [
      "melhor r2 score: 0.0\n",
      "melhor alpha: 10.0\n",
      "RMSE com o alpha escolhido: 0.49362604239339286\n"
     ]
    }
   ],
   "source": [
    "lasso_model_all_features_100 = LassoCV(\n",
    "    alphas=[0.0001, 0.001, 0.01, 0.1, 1, 10], random_state=0\n",
    ").fit(X_train_100_lasso_all_features, y_train_100_lasso_all_features)\n",
    "\n",
    "pred_100_lasso_all_features = lasso_model_all_features_100.predict(\n",
    "    X_test_100_lasso_all_features\n",
    ")\n",
    "\n",
    "print(\n",
    "    \"melhor r2 score:\",\n",
    "    lasso_model_all_features_100.score(\n",
    "        X_train_100_lasso_all_features, y_train_100_lasso_all_features\n",
    "    ),\n",
    ")\n",
    "print(\"melhor alpha:\", lasso_model_all_features_100.alpha_)\n",
    "print(\n",
    "    \"RMSE com o alpha escolhido:\",\n",
    "    root_mean_squared_error(y_test_100_lasso_all_features, pred_100_lasso_all_features),\n",
    ")"
   ]
  },
  {
   "cell_type": "markdown",
   "metadata": {
    "id": "0RLy-LVuLfDd"
   },
   "source": [
    "---\n",
    "\n",
    "## 6.3. Embeddings de 50 Dimensões\n"
   ]
  },
  {
   "cell_type": "code",
   "execution_count": 156,
   "metadata": {},
   "outputs": [],
   "source": [
    "# Coletando os dados\n",
    "X_50 = [\n",
    "    np.array(embedding) for embedding in enem_data[\"enunciado_embbedings_word2vec_50\"]\n",
    "]  # Somente Embeddings 50\n",
    "\n",
    "y_50 = enem_data[\"nu_param_B\"]  # Parâmetro de Dificuldade (B)"
   ]
  },
  {
   "cell_type": "code",
   "execution_count": 157,
   "metadata": {},
   "outputs": [
    {
     "name": "stdout",
     "output_type": "stream",
     "text": [
      "0.6304389864783265\n"
     ]
    }
   ],
   "source": [
    "# Aplicando Transformações\n",
    "add_list = [(y_50.min() * (-1)) + 1] * len(y_50)\n",
    "y_50 = y_50 + add_list\n",
    "\n",
    "# Aplicando Box-Cox\n",
    "y_50, best_lambda = stats.boxcox(y_50)\n",
    "print(best_lambda)"
   ]
  },
  {
   "cell_type": "markdown",
   "metadata": {},
   "source": [
    "### 6.3.1. Regressão Linear\n"
   ]
  },
  {
   "cell_type": "code",
   "execution_count": 158,
   "metadata": {},
   "outputs": [],
   "source": [
    "# Separando em conjunto de treino e teste\n",
    "X_train_50, X_test_50, y_train_50, y_test_50 = train_test_split(\n",
    "    X_50, y_50, test_size=0.3, random_state=42\n",
    ")"
   ]
  },
  {
   "cell_type": "code",
   "execution_count": 159,
   "metadata": {},
   "outputs": [],
   "source": [
    "# Adicionando constante\n",
    "X_train_50 = sm.add_constant(X_train_50)\n",
    "X_test_50 = sm.add_constant(X_test_50)"
   ]
  },
  {
   "cell_type": "code",
   "execution_count": 160,
   "metadata": {},
   "outputs": [],
   "source": [
    "# Criando o modelo e realizando predição\n",
    "linear_model_50 = sm.OLS(y_train_50, X_train_50).fit()\n",
    "pred_linear_model_50 = linear_model_50.predict(X_test_50)"
   ]
  },
  {
   "cell_type": "code",
   "execution_count": 161,
   "metadata": {},
   "outputs": [
    {
     "name": "stdout",
     "output_type": "stream",
     "text": [
      "RMSE:  0.5394759971562638\n"
     ]
    }
   ],
   "source": [
    "# Cálculo do RMSE\n",
    "rms = root_mean_squared_error(y_test_50, pred_linear_model_50)\n",
    "print(\"RMSE: \", rms)"
   ]
  },
  {
   "cell_type": "code",
   "execution_count": 162,
   "metadata": {},
   "outputs": [
    {
     "name": "stdout",
     "output_type": "stream",
     "text": [
      "                            OLS Regression Results                            \n",
      "==============================================================================\n",
      "Dep. Variable:                      y   R-squared:                       0.316\n",
      "Model:                            OLS   Adj. R-squared:                  0.062\n",
      "Method:                 Least Squares   F-statistic:                     1.245\n",
      "Date:                Sun, 15 Jun 2025   Prob (F-statistic):              0.162\n",
      "Time:                        17:26:52   Log-Likelihood:                -93.299\n",
      "No. Observations:                 186   AIC:                             288.6\n",
      "Df Residuals:                     135   BIC:                             453.1\n",
      "Df Model:                          50                                         \n",
      "Covariance Type:            nonrobust                                         \n",
      "==============================================================================\n",
      "                 coef    std err          t      P>|t|      [0.025      0.975]\n",
      "------------------------------------------------------------------------------\n",
      "const          1.5116      0.659      2.292      0.023       0.207       2.816\n",
      "x1            -0.5058      1.302     -0.388      0.698      -3.081       2.069\n",
      "x2            -0.7416      1.128     -0.657      0.512      -2.972       1.489\n",
      "x3            -0.2089      1.280     -0.163      0.871      -2.740       2.322\n",
      "x4             0.4051      1.573      0.258      0.797      -2.705       3.515\n",
      "x5            -0.8981      1.322     -0.679      0.498      -3.513       1.717\n",
      "x6            -0.2494      1.102     -0.226      0.821      -2.428       1.929\n",
      "x7            -1.0232      1.165     -0.878      0.382      -3.328       1.282\n",
      "x8             0.0911      1.103      0.083      0.934      -2.090       2.272\n",
      "x9            -0.6941      1.310     -0.530      0.597      -3.285       1.897\n",
      "x10            1.0090      1.231      0.820      0.414      -1.425       3.443\n",
      "x11           -0.5831      1.199     -0.486      0.628      -2.954       1.788\n",
      "x12            1.3565      1.090      1.245      0.215      -0.799       3.512\n",
      "x13           -0.3649      1.141     -0.320      0.750      -2.621       1.891\n",
      "x14            0.2916      1.052      0.277      0.782      -1.789       2.372\n",
      "x15           -1.4154      1.310     -1.080      0.282      -4.007       1.176\n",
      "x16           -0.4425      1.202     -0.368      0.713      -2.819       1.934\n",
      "x17           -0.7143      0.986     -0.724      0.470      -2.664       1.236\n",
      "x18            0.5304      1.250      0.424      0.672      -1.942       3.003\n",
      "x19            1.3668      1.366      1.001      0.319      -1.334       4.068\n",
      "x20            1.1641      0.996      1.169      0.244      -0.805       3.134\n",
      "x21            0.0040      1.210      0.003      0.997      -2.389       2.397\n",
      "x22           -0.2627      0.989     -0.266      0.791      -2.218       1.693\n",
      "x23            0.4923      1.156      0.426      0.671      -1.794       2.778\n",
      "x24           -1.7630      1.064     -1.657      0.100      -3.867       0.341\n",
      "x25           -1.2883      1.210     -1.065      0.289      -3.681       1.104\n",
      "x26           -0.3236      1.181     -0.274      0.785      -2.660       2.013\n",
      "x27           -1.5771      1.036     -1.522      0.130      -3.626       0.472\n",
      "x28           -1.3193      0.982     -1.343      0.181      -3.261       0.623\n",
      "x29            0.1754      1.123      0.156      0.876      -2.046       2.396\n",
      "x30           -0.4335      1.224     -0.354      0.724      -2.854       1.987\n",
      "x31            0.3832      0.981      0.390      0.697      -1.557       2.324\n",
      "x32           -0.4402      1.113     -0.396      0.693      -2.641       1.760\n",
      "x33           -0.8155      1.050     -0.776      0.439      -2.893       1.262\n",
      "x34           -1.0184      1.208     -0.843      0.401      -3.408       1.371\n",
      "x35            0.1473      1.062      0.139      0.890      -1.953       2.248\n",
      "x36           -0.6661      1.100     -0.605      0.546      -2.842       1.510\n",
      "x37            0.2728      1.170      0.233      0.816      -2.040       2.586\n",
      "x38            0.7014      1.214      0.578      0.564      -1.699       3.101\n",
      "x39           -0.3565      1.088     -0.328      0.744      -2.508       1.795\n",
      "x40            0.4204      1.020      0.412      0.681      -1.596       2.437\n",
      "x41           -1.0108      0.999     -1.012      0.313      -2.986       0.964\n",
      "x42            2.4200      0.961      2.518      0.013       0.520       4.320\n",
      "x43           -2.1942      1.241     -1.768      0.079      -4.649       0.260\n",
      "x44            1.9773      1.128      1.753      0.082      -0.253       4.208\n",
      "x45            0.6689      1.063      0.630      0.530      -1.432       2.770\n",
      "x46           -0.5572      1.138     -0.490      0.625      -2.808       1.693\n",
      "x47           -1.1696      1.196     -0.978      0.330      -3.535       1.196\n",
      "x48            1.3958      1.162      1.201      0.232      -0.902       3.694\n",
      "x49           -0.0712      1.444     -0.049      0.961      -2.926       2.784\n",
      "x50            0.0463      1.081      0.043      0.966      -2.092       2.185\n",
      "==============================================================================\n",
      "Omnibus:                        1.205   Durbin-Watson:                   2.199\n",
      "Prob(Omnibus):                  0.547   Jarque-Bera (JB):                1.006\n",
      "Skew:                           0.178   Prob(JB):                        0.605\n",
      "Kurtosis:                       3.055   Cond. No.                         92.6\n",
      "==============================================================================\n",
      "\n",
      "Notes:\n",
      "[1] Standard Errors assume that the covariance matrix of the errors is correctly specified.\n"
     ]
    }
   ],
   "source": [
    "# Visualização do modelo e resultados\n",
    "print(linear_model_50.summary(alpha=0.05))"
   ]
  },
  {
   "cell_type": "markdown",
   "metadata": {},
   "source": [
    "### 6.3.2. Regressão Lasso\n"
   ]
  },
  {
   "cell_type": "code",
   "execution_count": 163,
   "metadata": {},
   "outputs": [],
   "source": [
    "# Separando em conjunto de treino e teste\n",
    "X_train_50_lasso, X_test_50_lasso, y_train_50_lasso, y_test_50_lasso = train_test_split(\n",
    "    X_50, y_50, test_size=0.3, random_state=42\n",
    ")"
   ]
  },
  {
   "cell_type": "code",
   "execution_count": 164,
   "metadata": {},
   "outputs": [
    {
     "name": "stdout",
     "output_type": "stream",
     "text": [
      "Melhor R2 Score: 0.0\n",
      "Melhor Alpha: 10.0\n",
      "RMSE com o alpha escolhido: 0.49362604239339286\n"
     ]
    }
   ],
   "source": [
    "lasso_model_50 = LassoCV(alphas=[0.0001, 0.001, 0.01, 0.1, 1, 10], random_state=0).fit(\n",
    "    X_train_50_lasso, y_train_50_lasso\n",
    ")\n",
    "pred_lasso_model_50 = lasso_model_50.predict(X_test_50_lasso)\n",
    "\n",
    "print(\"Melhor R2 Score:\", lasso_model_50.score(X_train_50_lasso, y_train_50_lasso))\n",
    "print(\"Melhor Alpha:\", lasso_model_50.alpha_)\n",
    "print(\n",
    "    \"RMSE com o alpha escolhido:\",\n",
    "    root_mean_squared_error(y_test_50_lasso, pred_lasso_model_50),\n",
    ")"
   ]
  },
  {
   "cell_type": "markdown",
   "metadata": {},
   "source": [
    "### 6.3.3. Regressões com Corte (-3,3)\n"
   ]
  },
  {
   "cell_type": "code",
   "execution_count": 165,
   "metadata": {},
   "outputs": [
    {
     "data": {
      "text/plain": [
       "count    263.000000\n",
       "mean       1.075595\n",
       "std        0.661348\n",
       "min       -0.726450\n",
       "25%        0.612925\n",
       "50%        1.051180\n",
       "75%        1.535350\n",
       "max        2.802770\n",
       "Name: nu_param_B, dtype: float64"
      ]
     },
     "execution_count": 165,
     "metadata": {},
     "output_type": "execute_result"
    }
   ],
   "source": [
    "# Aplicando corte de dificuldade sugerido pelo artigo motivador (-3, 3)\n",
    "enem_filtered = enem_data.copy()\n",
    "\n",
    "enem_filtered = enem_filtered[\n",
    "    (enem_filtered[\"nu_param_B\"] >= -3) & (enem_filtered[\"nu_param_B\"] <= 3)\n",
    "]\n",
    "enem_filtered[\"nu_param_B\"].describe()"
   ]
  },
  {
   "cell_type": "code",
   "execution_count": 166,
   "metadata": {},
   "outputs": [],
   "source": [
    "# Coletando os dados\n",
    "X_50_filtered = [\n",
    "    np.array(embedding)\n",
    "    for embedding in enem_filtered[\"enunciado_embbedings_word2vec_50\"]\n",
    "]\n",
    "y_50_filtered = enem_filtered[\"nu_param_B\"]"
   ]
  },
  {
   "cell_type": "code",
   "execution_count": 167,
   "metadata": {},
   "outputs": [
    {
     "name": "stdout",
     "output_type": "stream",
     "text": [
      "0.9332701631134968\n"
     ]
    }
   ],
   "source": [
    "# Aplicando Transformações\n",
    "add_list = [(y_50_filtered.min() * (-1)) + 1] * len(y_50_filtered)\n",
    "y_50_filtered = y_50_filtered + add_list\n",
    "\n",
    "# Aplicando Boxcox\n",
    "y_50_filtered, best_lambda = stats.boxcox(y_50_filtered)\n",
    "print(best_lambda)"
   ]
  },
  {
   "cell_type": "markdown",
   "metadata": {},
   "source": [
    "### 6.3.3.A) Regressão Linear\n"
   ]
  },
  {
   "cell_type": "code",
   "execution_count": 168,
   "metadata": {},
   "outputs": [],
   "source": [
    "# Dividindo os dados em treino e teste\n",
    "X_train_50_filtered, X_test_50_filtered, y_train_50_filtered, y_test_50_filtered = (\n",
    "    train_test_split(X_50_filtered, y_50_filtered, test_size=0.3, random_state=42)\n",
    ")"
   ]
  },
  {
   "cell_type": "code",
   "execution_count": 169,
   "metadata": {},
   "outputs": [],
   "source": [
    "# Adicionando constante\n",
    "X_train_50_filtered = sm.add_constant(X_train_50_filtered)\n",
    "X_test_50_filtered = sm.add_constant(X_test_50_filtered)"
   ]
  },
  {
   "cell_type": "code",
   "execution_count": 170,
   "metadata": {},
   "outputs": [],
   "source": [
    "# Criando o modelo e realizando a predição\n",
    "linear_model_50_filtered = sm.OLS(y_train_50_filtered, X_train_50_filtered).fit()\n",
    "pred_linear_model_50_filtered = linear_model_50_filtered.predict(X_test_50_filtered)"
   ]
  },
  {
   "cell_type": "code",
   "execution_count": 171,
   "metadata": {},
   "outputs": [
    {
     "name": "stdout",
     "output_type": "stream",
     "text": [
      "RMSE: 0.7040126990763843\n"
     ]
    }
   ],
   "source": [
    "# Cálculo do RMSE\n",
    "rms = root_mean_squared_error(y_test_50_filtered, pred_linear_model_50_filtered)\n",
    "print(\"RMSE:\", rms)"
   ]
  },
  {
   "cell_type": "code",
   "execution_count": 172,
   "metadata": {},
   "outputs": [
    {
     "name": "stdout",
     "output_type": "stream",
     "text": [
      "                            OLS Regression Results                            \n",
      "==============================================================================\n",
      "Dep. Variable:                      y   R-squared:                       0.299\n",
      "Model:                            OLS   Adj. R-squared:                  0.036\n",
      "Method:                 Least Squares   F-statistic:                     1.136\n",
      "Date:                Sun, 15 Jun 2025   Prob (F-statistic):              0.281\n",
      "Time:                        17:26:53   Log-Likelihood:                -140.96\n",
      "No. Observations:                 184   AIC:                             383.9\n",
      "Df Residuals:                     133   BIC:                             547.9\n",
      "Df Model:                          50                                         \n",
      "Covariance Type:            nonrobust                                         \n",
      "==============================================================================\n",
      "                 coef    std err          t      P>|t|      [0.025      0.975]\n",
      "------------------------------------------------------------------------------\n",
      "const          1.4396      0.858      1.679      0.096      -0.257       3.136\n",
      "x1             2.2921      1.818      1.260      0.210      -1.305       5.889\n",
      "x2            -3.0112      1.390     -2.166      0.032      -5.760      -0.262\n",
      "x3             0.0599      1.924      0.031      0.975      -3.746       3.865\n",
      "x4            -2.7289      1.987     -1.374      0.172      -6.658       1.201\n",
      "x5            -0.3064      1.709     -0.179      0.858      -3.687       3.074\n",
      "x6            -0.1509      1.401     -0.108      0.914      -2.923       2.621\n",
      "x7            -2.2802      1.470     -1.551      0.123      -5.187       0.627\n",
      "x8             1.7019      1.428      1.192      0.235      -1.123       4.527\n",
      "x9            -2.3111      1.649     -1.402      0.163      -5.573       0.951\n",
      "x10           -1.2703      1.580     -0.804      0.423      -4.396       1.855\n",
      "x11            0.0702      1.386      0.051      0.960      -2.672       2.813\n",
      "x12            2.8637      1.540      1.860      0.065      -0.182       5.909\n",
      "x13           -0.2643      1.521     -0.174      0.862      -3.273       2.744\n",
      "x14            0.8575      1.392      0.616      0.539      -1.895       3.610\n",
      "x15           -2.4201      1.794     -1.349      0.180      -5.969       1.129\n",
      "x16            2.3528      1.583      1.486      0.140      -0.778       5.484\n",
      "x17           -0.1356      1.242     -0.109      0.913      -2.592       2.320\n",
      "x18           -0.5256      1.645     -0.319      0.750      -3.780       2.729\n",
      "x19            0.5898      1.769      0.333      0.739      -2.910       4.089\n",
      "x20            0.4691      1.251      0.375      0.708      -2.005       2.943\n",
      "x21            0.6593      1.492      0.442      0.659      -2.292       3.610\n",
      "x22            0.0793      1.297      0.061      0.951      -2.486       2.644\n",
      "x23            0.6412      1.515      0.423      0.673      -2.356       3.639\n",
      "x24           -2.6005      1.346     -1.932      0.056      -5.263       0.062\n",
      "x25           -0.8933      1.612     -0.554      0.580      -4.081       2.294\n",
      "x26           -0.6781      1.607     -0.422      0.674      -3.856       2.500\n",
      "x27           -1.2344      1.292     -0.955      0.341      -3.791       1.322\n",
      "x28           -1.3457      1.237     -1.087      0.279      -3.793       1.102\n",
      "x29            1.6022      1.487      1.078      0.283      -1.339       4.543\n",
      "x30           -1.9808      1.616     -1.225      0.223      -5.178       1.216\n",
      "x31            2.8348      1.462      1.939      0.055      -0.057       5.726\n",
      "x32           -1.7524      1.574     -1.113      0.268      -4.867       1.362\n",
      "x33           -1.0204      1.361     -0.750      0.455      -3.712       1.671\n",
      "x34           -3.3310      1.617     -2.061      0.041      -6.529      -0.133\n",
      "x35            0.4217      1.318      0.320      0.750      -2.186       3.029\n",
      "x36            0.0637      1.507      0.042      0.966      -2.917       3.045\n",
      "x37            0.6844      1.547      0.442      0.659      -2.375       3.744\n",
      "x38            3.0742      1.714      1.794      0.075      -0.315       6.464\n",
      "x39           -0.8008      1.410     -0.568      0.571      -3.590       1.989\n",
      "x40           -0.8416      1.361     -0.619      0.537      -3.533       1.850\n",
      "x41            0.3762      1.350      0.279      0.781      -2.294       3.046\n",
      "x42            0.0930      1.381      0.067      0.946      -2.639       2.825\n",
      "x43           -2.0313      1.642     -1.237      0.218      -5.279       1.217\n",
      "x44            1.3068      1.474      0.887      0.377      -1.609       4.222\n",
      "x45            0.6235      1.530      0.407      0.684      -2.403       3.650\n",
      "x46            1.3863      1.537      0.902      0.369      -1.653       4.426\n",
      "x47           -1.8494      1.484     -1.246      0.215      -4.785       1.086\n",
      "x48            0.3458      1.506      0.230      0.819      -2.632       3.324\n",
      "x49           -2.9474      1.829     -1.611      0.109      -6.565       0.671\n",
      "x50           -0.3815      1.357     -0.281      0.779      -3.066       2.303\n",
      "==============================================================================\n",
      "Omnibus:                        4.525   Durbin-Watson:                   2.006\n",
      "Prob(Omnibus):                  0.104   Jarque-Bera (JB):                3.221\n",
      "Skew:                           0.175   Prob(JB):                        0.200\n",
      "Kurtosis:                       2.454   Cond. No.                         89.8\n",
      "==============================================================================\n",
      "\n",
      "Notes:\n",
      "[1] Standard Errors assume that the covariance matrix of the errors is correctly specified.\n"
     ]
    }
   ],
   "source": [
    "print(linear_model_50_filtered.summary(alpha=0.05))"
   ]
  },
  {
   "cell_type": "markdown",
   "metadata": {},
   "source": [
    "### 6.3.3.B) Regressão Lasso\n"
   ]
  },
  {
   "cell_type": "code",
   "execution_count": 173,
   "metadata": {},
   "outputs": [],
   "source": [
    "# Dividindo os dados em treino e teste\n",
    "(\n",
    "    X_train_50_filtered_lasso,\n",
    "    X_test_50_filtered_lasso,\n",
    "    y_train_50_filtered_lasso,\n",
    "    y_test_50_filtered_lasso,\n",
    ") = train_test_split(X_50_filtered, y_50_filtered, test_size=0.3, random_state=42)"
   ]
  },
  {
   "cell_type": "code",
   "execution_count": 174,
   "metadata": {},
   "outputs": [
    {
     "name": "stdout",
     "output_type": "stream",
     "text": [
      "Melhor R2 score: 0.0\n",
      "Melhor Alpha: 100.0\n",
      "RMSE com o Alpha escolhido: 0.608577671186741\n"
     ]
    }
   ],
   "source": [
    "lasso_model_50_filtered = LassoCV(\n",
    "    alphas=[0.0001, 0.001, 0.01, 0.1, 1, 10, 100], random_state=0, tol=0.1\n",
    ").fit(X_train_50_filtered_lasso, y_train_50_filtered_lasso)\n",
    "\n",
    "pred_lasso_model_50_filtered = lasso_model_50_filtered.predict(X_test_50_filtered_lasso)\n",
    "\n",
    "print(\n",
    "    \"Melhor R2 score:\",\n",
    "    lasso_model_50_filtered.score(X_train_50_filtered_lasso, y_train_50_filtered_lasso),\n",
    ")\n",
    "print(\"Melhor Alpha:\", lasso_model_50_filtered.alpha_)\n",
    "print(\n",
    "    \"RMSE com o Alpha escolhido:\",\n",
    "    root_mean_squared_error(y_test_50_filtered_lasso, pred_lasso_model_50_filtered),\n",
    ")"
   ]
  },
  {
   "cell_type": "markdown",
   "metadata": {},
   "source": [
    "### 6.3.4. LLM & Similaridade Features\n"
   ]
  },
  {
   "cell_type": "code",
   "execution_count": 175,
   "metadata": {},
   "outputs": [],
   "source": [
    "# Coletando os dados\n",
    "y_50_all_features = enem_data[\"nu_param_B\"]\n",
    "X_50_all_features = [\n",
    "    np.concatenate(\n",
    "        [\n",
    "            np.array(embedding),\n",
    "            [\n",
    "                acerto_deepseek,\n",
    "                acerto_llamma,\n",
    "                similaridade_enunciado_gabarito_50,\n",
    "                similaridade_enunciado_distratores_50,\n",
    "                similaridade_gabarito_distratores_50,\n",
    "            ],\n",
    "        ]\n",
    "    )\n",
    "    for acerto_deepseek, acerto_llamma, embedding, similaridade_enunciado_gabarito_50, similaridade_enunciado_distratores_50, similaridade_gabarito_distratores_50 in zip(\n",
    "        enem_data[\"acerto_deepseek\"],\n",
    "        enem_data[\"acerto_llamma\"],\n",
    "        enem_data[\"enunciado_embbedings_word2vec_50\"],\n",
    "        enem_data[\"similaridade_enunciado_gabarito_50\"],\n",
    "        enem_data[\"similaridade_enunciado_distratores_50\"],\n",
    "        enem_data[\"similaridade_gabarito_distratores_50\"],\n",
    "    )\n",
    "]"
   ]
  },
  {
   "cell_type": "code",
   "execution_count": 176,
   "metadata": {},
   "outputs": [
    {
     "name": "stdout",
     "output_type": "stream",
     "text": [
      "0.6304389864783265\n"
     ]
    }
   ],
   "source": [
    "# Aplicando Transformações\n",
    "add_list = [(y_50_all_features.min() * (-1)) + 1] * len(y_50_all_features)\n",
    "y_50_all_features = y_50_all_features + add_list\n",
    "\n",
    "# Aplicando Boxcox\n",
    "y_50_all_features, best_lambda = stats.boxcox(y_50_all_features)\n",
    "print(best_lambda)"
   ]
  },
  {
   "cell_type": "markdown",
   "metadata": {},
   "source": [
    "### 6.3.4.A) Regressão linear\n"
   ]
  },
  {
   "cell_type": "code",
   "execution_count": 177,
   "metadata": {},
   "outputs": [],
   "source": [
    "# Separando em conjunto de treino e teste\n",
    "\n",
    "(\n",
    "    X_train_50_all_features,\n",
    "    X_test_50_all_features,\n",
    "    y_train_50_all_features,\n",
    "    y_test_50_all_features,\n",
    ") = train_test_split(\n",
    "    X_50_all_features, y_50_all_features, test_size=0.3, random_state=42\n",
    ")"
   ]
  },
  {
   "cell_type": "code",
   "execution_count": 178,
   "metadata": {},
   "outputs": [],
   "source": [
    "# Adicionando constante\n",
    "X_train_50_all_features = sm.add_constant(X_train_50_all_features)\n",
    "X_test_50_all_features = sm.add_constant(X_test_50_all_features)"
   ]
  },
  {
   "cell_type": "code",
   "execution_count": 179,
   "metadata": {},
   "outputs": [],
   "source": [
    "# Criando o modelo e realizando predição\n",
    "linear_model_50_all_features = sm.OLS(\n",
    "    y_train_50_all_features, X_train_50_all_features\n",
    ").fit()\n",
    "pred_linear_model_50_all_features = linear_model_50_all_features.predict(\n",
    "    X_test_50_all_features\n",
    ")"
   ]
  },
  {
   "cell_type": "code",
   "execution_count": 180,
   "metadata": {},
   "outputs": [
    {
     "name": "stdout",
     "output_type": "stream",
     "text": [
      "RMSE 0.5409367161926952\n"
     ]
    }
   ],
   "source": [
    "# Cálculo do RMSE\n",
    "rms = root_mean_squared_error(y_test_50_all_features, pred_linear_model_50_all_features)\n",
    "print(\"RMSE\", rms)"
   ]
  },
  {
   "cell_type": "code",
   "execution_count": 181,
   "metadata": {},
   "outputs": [
    {
     "name": "stdout",
     "output_type": "stream",
     "text": [
      "                            OLS Regression Results                            \n",
      "==============================================================================\n",
      "Dep. Variable:                      y   R-squared:                       0.376\n",
      "Model:                            OLS   Adj. R-squared:                  0.112\n",
      "Method:                 Least Squares   F-statistic:                     1.423\n",
      "Date:                Sun, 15 Jun 2025   Prob (F-statistic):             0.0536\n",
      "Time:                        17:26:53   Log-Likelihood:                -84.746\n",
      "No. Observations:                 186   AIC:                             281.5\n",
      "Df Residuals:                     130   BIC:                             462.1\n",
      "Df Model:                          55                                         \n",
      "Covariance Type:            nonrobust                                         \n",
      "==============================================================================\n",
      "                 coef    std err          t      P>|t|      [0.025      0.975]\n",
      "------------------------------------------------------------------------------\n",
      "const          1.7942      0.697      2.576      0.011       0.416       3.172\n",
      "x1            -0.4362      1.276     -0.342      0.733      -2.961       2.089\n",
      "x2            -0.6617      1.114     -0.594      0.554      -2.866       1.543\n",
      "x3            -0.5921      1.277     -0.464      0.644      -3.118       1.934\n",
      "x4             0.4510      1.558      0.289      0.773      -2.632       3.534\n",
      "x5            -0.7199      1.310     -0.550      0.584      -3.311       1.871\n",
      "x6             0.1114      1.085      0.103      0.918      -2.035       2.258\n",
      "x7            -0.9558      1.144     -0.835      0.405      -3.220       1.308\n",
      "x8             0.2847      1.081      0.263      0.793      -1.853       2.422\n",
      "x9            -0.4709      1.287     -0.366      0.715      -3.018       2.076\n",
      "x10            1.1327      1.209      0.937      0.350      -1.258       3.524\n",
      "x11            0.2915      1.198      0.243      0.808      -2.078       2.661\n",
      "x12            1.3869      1.085      1.278      0.203      -0.760       3.533\n",
      "x13           -0.2947      1.137     -0.259      0.796      -2.545       1.955\n",
      "x14            0.3247      1.031      0.315      0.753      -1.714       2.364\n",
      "x15           -1.5326      1.306     -1.174      0.243      -4.116       1.050\n",
      "x16           -0.0337      1.186     -0.028      0.977      -2.381       2.313\n",
      "x17           -1.0195      0.966     -1.055      0.293      -2.931       0.892\n",
      "x18            0.2429      1.228      0.198      0.843      -2.186       2.672\n",
      "x19            2.0138      1.353      1.488      0.139      -0.663       4.691\n",
      "x20            1.0091      0.995      1.015      0.312      -0.959       2.977\n",
      "x21           -0.0778      1.228     -0.063      0.950      -2.507       2.352\n",
      "x22           -0.6130      0.986     -0.622      0.535      -2.564       1.338\n",
      "x23            0.1312      1.141      0.115      0.909      -2.126       2.389\n",
      "x24           -2.0917      1.055     -1.984      0.049      -4.178      -0.005\n",
      "x25           -1.4033      1.181     -1.188      0.237      -3.739       0.933\n",
      "x26           -0.7144      1.166     -0.613      0.541      -3.021       1.593\n",
      "x27           -1.5297      1.012     -1.511      0.133      -3.533       0.473\n",
      "x28           -1.5332      0.964     -1.590      0.114      -3.441       0.375\n",
      "x29            0.4394      1.122      0.392      0.696      -1.780       2.658\n",
      "x30           -0.2999      1.193     -0.251      0.802      -2.660       2.060\n",
      "x31            0.2559      0.967      0.264      0.792      -1.658       2.170\n",
      "x32           -0.8178      1.106     -0.739      0.461      -3.007       1.371\n",
      "x33           -0.8745      1.037     -0.843      0.401      -2.927       1.177\n",
      "x34           -1.1766      1.207     -0.975      0.332      -3.565       1.212\n",
      "x35           -0.2351      1.047     -0.224      0.823      -2.307       1.837\n",
      "x36           -0.4421      1.078     -0.410      0.682      -2.575       1.690\n",
      "x37            0.1018      1.148      0.089      0.930      -2.170       2.373\n",
      "x38            0.7896      1.207      0.654      0.514      -1.597       3.177\n",
      "x39           -0.4660      1.060     -0.439      0.661      -2.564       1.632\n",
      "x40            0.5947      0.996      0.597      0.552      -1.376       2.566\n",
      "x41           -1.6029      1.007     -1.592      0.114      -3.594       0.388\n",
      "x42            1.8345      0.967      1.897      0.060      -0.079       3.748\n",
      "x43           -2.6794      1.225     -2.188      0.030      -5.102      -0.257\n",
      "x44            1.9610      1.115      1.759      0.081      -0.245       4.167\n",
      "x45            0.2316      1.053      0.220      0.826      -1.852       2.316\n",
      "x46            0.0789      1.131      0.070      0.944      -2.159       2.317\n",
      "x47           -1.0068      1.177     -0.856      0.394      -3.335       1.321\n",
      "x48            1.6545      1.145      1.444      0.151      -0.612       3.921\n",
      "x49            0.4217      1.417      0.298      0.766      -2.381       3.224\n",
      "x50            0.4397      1.064      0.413      0.680      -1.665       2.545\n",
      "x51           -0.1610      0.109     -1.475      0.143      -0.377       0.055\n",
      "x52           -0.1117      0.082     -1.359      0.177      -0.274       0.051\n",
      "x53            1.0525      0.451      2.334      0.021       0.160       1.944\n",
      "x54           -0.8228      0.419     -1.961      0.052      -1.653       0.007\n",
      "x55            0.2399      0.387      0.620      0.536      -0.525       1.005\n",
      "==============================================================================\n",
      "Omnibus:                        0.063   Durbin-Watson:                   2.170\n",
      "Prob(Omnibus):                  0.969   Jarque-Bera (JB):                0.195\n",
      "Skew:                          -0.007   Prob(JB):                        0.907\n",
      "Kurtosis:                       2.842   Cond. No.                         155.\n",
      "==============================================================================\n",
      "\n",
      "Notes:\n",
      "[1] Standard Errors assume that the covariance matrix of the errors is correctly specified.\n"
     ]
    }
   ],
   "source": [
    "print(linear_model_50_all_features.summary(alpha=0.05))"
   ]
  },
  {
   "cell_type": "markdown",
   "metadata": {},
   "source": [
    "### 6.3.4.B) Lasso\n"
   ]
  },
  {
   "cell_type": "code",
   "execution_count": 182,
   "metadata": {},
   "outputs": [],
   "source": [
    "# Separando em conjunto de treino e teste\n",
    "(\n",
    "    X_train_50_lasso_all_features,\n",
    "    X_test_50_lasso_all_features,\n",
    "    y_train_50_lasso_all_features,\n",
    "    y_test_50_lasso_all_features,\n",
    ") = train_test_split(\n",
    "    X_50_all_features, y_50_all_features, test_size=0.3, random_state=42\n",
    ")"
   ]
  },
  {
   "cell_type": "code",
   "execution_count": 183,
   "metadata": {},
   "outputs": [
    {
     "name": "stdout",
     "output_type": "stream",
     "text": [
      "melhor r2 score: 0.0\n",
      "melhor alpha: 10.0\n",
      "RMSE com o alpha escolhido: 0.49362604239339286\n"
     ]
    }
   ],
   "source": [
    "lasso_model_all_features_50 = LassoCV(\n",
    "    alphas=[0.0001, 0.001, 0.01, 0.1, 1, 10], random_state=0\n",
    ").fit(X_train_50_lasso_all_features, y_train_50_lasso_all_features)\n",
    "\n",
    "pred_50_lasso_all_features = lasso_model_all_features_50.predict(\n",
    "    X_test_50_lasso_all_features\n",
    ")\n",
    "\n",
    "print(\n",
    "    \"melhor r2 score:\",\n",
    "    lasso_model_all_features_50.score(\n",
    "        X_train_50_lasso_all_features, y_train_50_lasso_all_features\n",
    "    ),\n",
    ")\n",
    "print(\"melhor alpha:\", lasso_model_all_features_50.alpha_)\n",
    "print(\n",
    "    \"RMSE com o alpha escolhido:\",\n",
    "    root_mean_squared_error(y_test_50_lasso_all_features, pred_50_lasso_all_features),\n",
    ")"
   ]
  },
  {
   "cell_type": "markdown",
   "metadata": {},
   "source": [
    "---\n"
   ]
  }
 ],
 "metadata": {
  "colab": {
   "collapsed_sections": [
    "9yDKd1I7nlzI",
    "6uh5vrIBPNVq",
    "ymuphfwXPQq1",
    "CLE-fGKvuTnZ",
    "6edr9mQUVh3I",
    "WDLOC6GVVlW-",
    "0RLy-LVuLfDd",
    "fKYYw-TpLjsh",
    "0u14YSafMheC",
    "qboxrbAcMzbW",
    "5Hg8TiduMzbX",
    "tVooDn3gMzbb",
    "CeOj7oAnP9tK",
    "1wt15xn5Ziea",
    "bzFrkmVlZiea",
    "ZpNHuWrrZied",
    "cYzwgqixanzG",
    "WDg1CempanzH",
    "j7YAJg9JanzJ",
    "YG2xX56Z2dGO",
    "RPLe9sjM2dGP",
    "dNs-8rBm2dGR",
    "z3MwTkspAIr6",
    "-GkVFw2WAIr6",
    "KqIYJSpvAIr7"
   ],
   "provenance": []
  },
  "kernelspec": {
   "display_name": ".venv",
   "language": "python",
   "name": "python3"
  },
  "language_info": {
   "codemirror_mode": {
    "name": "ipython",
    "version": 3
   },
   "file_extension": ".py",
   "mimetype": "text/x-python",
   "name": "python",
   "nbconvert_exporter": "python",
   "pygments_lexer": "ipython3",
   "version": "3.11.3"
  }
 },
 "nbformat": 4,
 "nbformat_minor": 4
}
