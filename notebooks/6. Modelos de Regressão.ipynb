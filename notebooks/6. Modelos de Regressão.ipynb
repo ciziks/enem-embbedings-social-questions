{
 "cells": [
  {
   "cell_type": "markdown",
   "metadata": {
    "id": "sifnSuHj0A11"
   },
   "source": [
    "# 6. Modelos de Regressão\n"
   ]
  },
  {
   "cell_type": "markdown",
   "metadata": {
    "id": "5T8z-sZV0ABt"
   },
   "source": [
    "Este notebook explora diferentes modelos de regressão para análise de dados, incluindo Regressão Linear e Lasso, utilizando técnicas de pré-processamento como transformação Box-Cox e seleção de variáveis. O objetivo é avaliar o desempenho dos modelos em termos de métricas como RMSE e R², tanto nos datasets completos quanto após a remoção de outliers das questões do Enem (vetorizadas).\n"
   ]
  },
  {
   "cell_type": "code",
   "execution_count": 1,
   "metadata": {
    "id": "_6w21yiNqr3R"
   },
   "outputs": [],
   "source": [
    "# Importando Dependências para Modelos de Regressão\n",
    "import pandas as pd\n",
    "import numpy as np\n",
    "from scipy import stats\n",
    "import statsmodels.api as sm\n",
    "\n",
    "from sklearn.model_selection import train_test_split\n",
    "from sklearn.metrics import root_mean_squared_error\n",
    "from sklearn.linear_model import LassoCV"
   ]
  },
  {
   "cell_type": "code",
   "execution_count": 2,
   "metadata": {
    "id": "_hnPhtdhq8zZ"
   },
   "outputs": [
    {
     "data": {
      "text/html": [
       "<div>\n",
       "<style scoped>\n",
       "    .dataframe tbody tr th:only-of-type {\n",
       "        vertical-align: middle;\n",
       "    }\n",
       "\n",
       "    .dataframe tbody tr th {\n",
       "        vertical-align: top;\n",
       "    }\n",
       "\n",
       "    .dataframe thead th {\n",
       "        text-align: right;\n",
       "    }\n",
       "</style>\n",
       "<table border=\"1\" class=\"dataframe\">\n",
       "  <thead>\n",
       "    <tr style=\"text-align: right;\">\n",
       "      <th></th>\n",
       "      <th>Unnamed: 0</th>\n",
       "      <th>numero_questao</th>\n",
       "      <th>gabarito</th>\n",
       "      <th>NU_PARAM_A</th>\n",
       "      <th>nu_param_B</th>\n",
       "      <th>NU_PARAM_C</th>\n",
       "      <th>ANO</th>\n",
       "      <th>enunciado</th>\n",
       "      <th>alternativas</th>\n",
       "      <th>gabarito_texto</th>\n",
       "      <th>...</th>\n",
       "      <th>enunciado_embbedings_word2vec_50</th>\n",
       "      <th>gabarito_embbedings_word2vec_50</th>\n",
       "      <th>distratores_embbedings_word2vec_50</th>\n",
       "      <th>similaridade_enunciado_gabarito_50</th>\n",
       "      <th>similaridade_enunciado_distratores_50</th>\n",
       "      <th>similaridade_gabarito_distratores_50</th>\n",
       "      <th>resposta_llama</th>\n",
       "      <th>acerto_llamma</th>\n",
       "      <th>resposta_deepseek</th>\n",
       "      <th>acerto_deepseek</th>\n",
       "    </tr>\n",
       "  </thead>\n",
       "  <tbody>\n",
       "    <tr>\n",
       "      <th>0</th>\n",
       "      <td>0</td>\n",
       "      <td>1</td>\n",
       "      <td>C</td>\n",
       "      <td>3.43894</td>\n",
       "      <td>0.97831</td>\n",
       "      <td>0.10855</td>\n",
       "      <td>2017</td>\n",
       "      <td>No império africano do Mali, no século XIV, To...</td>\n",
       "      <td>A:  isolamento geográﬁco do Saara ocidental; B...</td>\n",
       "      <td>posição relativa nas redes de circulação</td>\n",
       "      <td>...</td>\n",
       "      <td>[-1.73957720e-02 -4.40281304e-03 -4.69083376e-...</td>\n",
       "      <td>[-1.63012251e-01 -1.42375007e-01  1.21714994e-...</td>\n",
       "      <td>[-0.041816   -0.06492707  0.0900044  -0.049802...</td>\n",
       "      <td>0.141353</td>\n",
       "      <td>0.516898</td>\n",
       "      <td>0.151251</td>\n",
       "      <td>C</td>\n",
       "      <td>True</td>\n",
       "      <td>C</td>\n",
       "      <td>True</td>\n",
       "    </tr>\n",
       "    <tr>\n",
       "      <th>1</th>\n",
       "      <td>1</td>\n",
       "      <td>2</td>\n",
       "      <td>D</td>\n",
       "      <td>3.00837</td>\n",
       "      <td>0.49169</td>\n",
       "      <td>0.13877</td>\n",
       "      <td>2017</td>\n",
       "      <td>Após a Declaração Universal dos Direitos Human...</td>\n",
       "      <td>A:  ataque feito pelos japoneses à base milita...</td>\n",
       "      <td>execução de judeus e eslavos presos em guetos ...</td>\n",
       "      <td>...</td>\n",
       "      <td>[-5.19490764e-02  3.12845111e-02 -7.22410753e-...</td>\n",
       "      <td>[-0.18672037  0.04755275 -0.17406088 -0.039877...</td>\n",
       "      <td>[ 0.05533243 -0.03906671 -0.05943896  0.019810...</td>\n",
       "      <td>0.422576</td>\n",
       "      <td>0.313321</td>\n",
       "      <td>0.423611</td>\n",
       "      <td>D</td>\n",
       "      <td>True</td>\n",
       "      <td>D</td>\n",
       "      <td>True</td>\n",
       "    </tr>\n",
       "    <tr>\n",
       "      <th>2</th>\n",
       "      <td>2</td>\n",
       "      <td>3</td>\n",
       "      <td>D</td>\n",
       "      <td>0.60432</td>\n",
       "      <td>3.25992</td>\n",
       "      <td>0.08798</td>\n",
       "      <td>2017</td>\n",
       "      <td>A moralidade, Bentham exortava, não é uma ques...</td>\n",
       "      <td>A:  fundamentação cientíﬁca de viés positivist...</td>\n",
       "      <td>racionalidade de caráter pragmático</td>\n",
       "      <td>...</td>\n",
       "      <td>[ 0.02604909  0.04325113 -0.02975703 -0.001379...</td>\n",
       "      <td>[ 1.17409984e-02  7.59263411e-02 -1.61446687e-...</td>\n",
       "      <td>[ 6.66799322e-02  1.58033855e-02  2.94438470e-...</td>\n",
       "      <td>0.427063</td>\n",
       "      <td>0.471643</td>\n",
       "      <td>0.602545</td>\n",
       "      <td>D</td>\n",
       "      <td>True</td>\n",
       "      <td>D</td>\n",
       "      <td>True</td>\n",
       "    </tr>\n",
       "    <tr>\n",
       "      <th>3</th>\n",
       "      <td>3</td>\n",
       "      <td>4</td>\n",
       "      <td>E</td>\n",
       "      <td>1.85031</td>\n",
       "      <td>0.57925</td>\n",
       "      <td>0.11344</td>\n",
       "      <td>2017</td>\n",
       "      <td>Fala-se muito nos dias de hoje em direitos do ...</td>\n",
       "      <td>A: modernização da educação escolar; B: atuali...</td>\n",
       "      <td>universalização do princípio da igualdade civil</td>\n",
       "      <td>...</td>\n",
       "      <td>[-5.25127212e-03  3.98711637e-02 -1.80381946e-...</td>\n",
       "      <td>[-0.07366925  0.12609875  0.063628    0.126195...</td>\n",
       "      <td>[-0.07921684  0.10788742  0.10466367 -0.041218...</td>\n",
       "      <td>0.320939</td>\n",
       "      <td>0.482461</td>\n",
       "      <td>0.421501</td>\n",
       "      <td>E</td>\n",
       "      <td>True</td>\n",
       "      <td>E</td>\n",
       "      <td>True</td>\n",
       "    </tr>\n",
       "    <tr>\n",
       "      <th>4</th>\n",
       "      <td>4</td>\n",
       "      <td>5</td>\n",
       "      <td>C</td>\n",
       "      <td>2.46290</td>\n",
       "      <td>0.76307</td>\n",
       "      <td>0.17672</td>\n",
       "      <td>2017</td>\n",
       "      <td>Na Constituição da República Federativa do Bra...</td>\n",
       "      <td>A:  etnia e miscigenação racial; B:  sociedade...</td>\n",
       "      <td>espaço e sobrevivência cultural</td>\n",
       "      <td>...</td>\n",
       "      <td>[ 1.73867792e-02  3.37337283e-03 -2.72473246e-...</td>\n",
       "      <td>[ 0.11709199 -0.16062833  0.08286966 -0.119532...</td>\n",
       "      <td>[-2.20553298e-02  8.12978372e-02  1.06412418e-...</td>\n",
       "      <td>0.304050</td>\n",
       "      <td>0.501346</td>\n",
       "      <td>0.411802</td>\n",
       "      <td>C</td>\n",
       "      <td>True</td>\n",
       "      <td>C</td>\n",
       "      <td>True</td>\n",
       "    </tr>\n",
       "  </tbody>\n",
       "</table>\n",
       "<p>5 rows × 37 columns</p>\n",
       "</div>"
      ],
      "text/plain": [
       "   Unnamed: 0  numero_questao gabarito  NU_PARAM_A  nu_param_B  NU_PARAM_C  \\\n",
       "0           0               1        C     3.43894     0.97831     0.10855   \n",
       "1           1               2        D     3.00837     0.49169     0.13877   \n",
       "2           2               3        D     0.60432     3.25992     0.08798   \n",
       "3           3               4        E     1.85031     0.57925     0.11344   \n",
       "4           4               5        C     2.46290     0.76307     0.17672   \n",
       "\n",
       "    ANO                                          enunciado  \\\n",
       "0  2017  No império africano do Mali, no século XIV, To...   \n",
       "1  2017  Após a Declaração Universal dos Direitos Human...   \n",
       "2  2017  A moralidade, Bentham exortava, não é uma ques...   \n",
       "3  2017  Fala-se muito nos dias de hoje em direitos do ...   \n",
       "4  2017  Na Constituição da República Federativa do Bra...   \n",
       "\n",
       "                                        alternativas  \\\n",
       "0  A:  isolamento geográﬁco do Saara ocidental; B...   \n",
       "1  A:  ataque feito pelos japoneses à base milita...   \n",
       "2  A:  fundamentação cientíﬁca de viés positivist...   \n",
       "3  A: modernização da educação escolar; B: atuali...   \n",
       "4  A:  etnia e miscigenação racial; B:  sociedade...   \n",
       "\n",
       "                                      gabarito_texto  ...  \\\n",
       "0           posição relativa nas redes de circulação  ...   \n",
       "1  execução de judeus e eslavos presos em guetos ...  ...   \n",
       "2                racionalidade de caráter pragmático  ...   \n",
       "3    universalização do princípio da igualdade civil  ...   \n",
       "4                    espaço e sobrevivência cultural  ...   \n",
       "\n",
       "                    enunciado_embbedings_word2vec_50  \\\n",
       "0  [-1.73957720e-02 -4.40281304e-03 -4.69083376e-...   \n",
       "1  [-5.19490764e-02  3.12845111e-02 -7.22410753e-...   \n",
       "2  [ 0.02604909  0.04325113 -0.02975703 -0.001379...   \n",
       "3  [-5.25127212e-03  3.98711637e-02 -1.80381946e-...   \n",
       "4  [ 1.73867792e-02  3.37337283e-03 -2.72473246e-...   \n",
       "\n",
       "                     gabarito_embbedings_word2vec_50  \\\n",
       "0  [-1.63012251e-01 -1.42375007e-01  1.21714994e-...   \n",
       "1  [-0.18672037  0.04755275 -0.17406088 -0.039877...   \n",
       "2  [ 1.17409984e-02  7.59263411e-02 -1.61446687e-...   \n",
       "3  [-0.07366925  0.12609875  0.063628    0.126195...   \n",
       "4  [ 0.11709199 -0.16062833  0.08286966 -0.119532...   \n",
       "\n",
       "                  distratores_embbedings_word2vec_50  \\\n",
       "0  [-0.041816   -0.06492707  0.0900044  -0.049802...   \n",
       "1  [ 0.05533243 -0.03906671 -0.05943896  0.019810...   \n",
       "2  [ 6.66799322e-02  1.58033855e-02  2.94438470e-...   \n",
       "3  [-0.07921684  0.10788742  0.10466367 -0.041218...   \n",
       "4  [-2.20553298e-02  8.12978372e-02  1.06412418e-...   \n",
       "\n",
       "  similaridade_enunciado_gabarito_50 similaridade_enunciado_distratores_50  \\\n",
       "0                           0.141353                              0.516898   \n",
       "1                           0.422576                              0.313321   \n",
       "2                           0.427063                              0.471643   \n",
       "3                           0.320939                              0.482461   \n",
       "4                           0.304050                              0.501346   \n",
       "\n",
       "  similaridade_gabarito_distratores_50 resposta_llama acerto_llamma  \\\n",
       "0                             0.151251              C          True   \n",
       "1                             0.423611              D          True   \n",
       "2                             0.602545              D          True   \n",
       "3                             0.421501              E          True   \n",
       "4                             0.411802              C          True   \n",
       "\n",
       "   resposta_deepseek  acerto_deepseek  \n",
       "0                  C             True  \n",
       "1                  D             True  \n",
       "2                  D             True  \n",
       "3                  E             True  \n",
       "4                  C             True  \n",
       "\n",
       "[5 rows x 37 columns]"
      ]
     },
     "execution_count": 2,
     "metadata": {},
     "output_type": "execute_result"
    }
   ],
   "source": [
    "# Leitura dos dados\n",
    "enem_data = pd.read_csv(\"../data/final/enem_data_embeddings_v2.csv\")\n",
    "enem_data.head()"
   ]
  },
  {
   "cell_type": "code",
   "execution_count": 3,
   "metadata": {},
   "outputs": [],
   "source": [
    "enem_data = enem_data[enem_data[\"nu_param_B\"].notna()]"
   ]
  },
  {
   "cell_type": "markdown",
   "metadata": {
    "id": "9yDKd1I7nlzI"
   },
   "source": [
    "---\n",
    "\n",
    "## 6.1. Embeddings de 300 Dimensões\n"
   ]
  },
  {
   "cell_type": "code",
   "execution_count": 4,
   "metadata": {
    "id": "nqP2q7UJwiIy"
   },
   "outputs": [],
   "source": [
    "# Coletando os dados\n",
    "X_300 = [\n",
    "    np.array(embedding) for embedding in enem_data[\"enunciado_embbedings_word2vec_300\"]\n",
    "]  # Somente Embeddings 300\n",
    "\n",
    "y_300 = enem_data[\"nu_param_B\"]  # Parâmetro de Dificuldade (B)"
   ]
  },
  {
   "cell_type": "code",
   "execution_count": 5,
   "metadata": {
    "colab": {
     "base_uri": "https://localhost:8080/"
    },
    "id": "xNHc_uJjtwNE",
    "outputId": "37cfa564-e733-4ead-c9be-5dd387d0c6f4"
   },
   "outputs": [
    {
     "name": "stdout",
     "output_type": "stream",
     "text": [
      "0.6304389770836538\n"
     ]
    }
   ],
   "source": [
    "# Aplicando Transformações\n",
    "add_list = [(y_300.min() * (-1)) + 1] * len(y_300)\n",
    "y_300 = y_300 + add_list\n",
    "\n",
    "# Aplicando Box-Cox\n",
    "y_300, best_lambda = stats.boxcox(y_300)\n",
    "print(best_lambda)"
   ]
  },
  {
   "cell_type": "markdown",
   "metadata": {
    "id": "6uh5vrIBPNVq"
   },
   "source": [
    "### 6.1.1. Regressão Linear\n"
   ]
  },
  {
   "cell_type": "code",
   "execution_count": 6,
   "metadata": {
    "id": "NNt-aXkwuDJ3"
   },
   "outputs": [],
   "source": [
    "# Separando em conjunto de treino e teste\n",
    "X_train_300, X_test_300, y_train_300, y_test_300 = train_test_split(\n",
    "    X_300, y_300, test_size=0.3, random_state=42\n",
    ")"
   ]
  },
  {
   "cell_type": "code",
   "execution_count": 7,
   "metadata": {
    "id": "pMpG0hp4uXBT"
   },
   "outputs": [
    {
     "ename": "UFuncTypeError",
     "evalue": "ufunc 'maximum' did not contain a loop with signature matching types (dtype('<U4875'), dtype('<U4875')) -> None",
     "output_type": "error",
     "traceback": [
      "\u001b[0;31m---------------------------------------------------------------------------\u001b[0m",
      "\u001b[0;31mUFuncTypeError\u001b[0m                            Traceback (most recent call last)",
      "Cell \u001b[0;32mIn[7], line 2\u001b[0m\n\u001b[1;32m      1\u001b[0m \u001b[38;5;66;03m# Adicionando constante\u001b[39;00m\n\u001b[0;32m----> 2\u001b[0m X_train_300 \u001b[38;5;241m=\u001b[39m \u001b[43msm\u001b[49m\u001b[38;5;241;43m.\u001b[39;49m\u001b[43madd_constant\u001b[49m\u001b[43m(\u001b[49m\u001b[43mX_train_300\u001b[49m\u001b[43m)\u001b[49m\n\u001b[1;32m      3\u001b[0m X_test_300 \u001b[38;5;241m=\u001b[39m sm\u001b[38;5;241m.\u001b[39madd_constant(X_test_300)\n",
      "File \u001b[0;32m~/miniconda3/lib/python3.9/site-packages/statsmodels/tools/tools.py:270\u001b[0m, in \u001b[0;36madd_constant\u001b[0;34m(data, prepend, has_constant)\u001b[0m\n\u001b[1;32m    267\u001b[0m \u001b[38;5;28;01melif\u001b[39;00m x\u001b[38;5;241m.\u001b[39mndim \u001b[38;5;241m>\u001b[39m \u001b[38;5;241m2\u001b[39m:\n\u001b[1;32m    268\u001b[0m     \u001b[38;5;28;01mraise\u001b[39;00m \u001b[38;5;167;01mValueError\u001b[39;00m(\u001b[38;5;124m'\u001b[39m\u001b[38;5;124mOnly implemented for 2-dimensional arrays\u001b[39m\u001b[38;5;124m'\u001b[39m)\n\u001b[0;32m--> 270\u001b[0m is_nonzero_const \u001b[38;5;241m=\u001b[39m \u001b[43mnp\u001b[49m\u001b[38;5;241;43m.\u001b[39;49m\u001b[43mptp\u001b[49m\u001b[43m(\u001b[49m\u001b[43mx\u001b[49m\u001b[43m,\u001b[49m\u001b[43m \u001b[49m\u001b[43maxis\u001b[49m\u001b[38;5;241;43m=\u001b[39;49m\u001b[38;5;241;43m0\u001b[39;49m\u001b[43m)\u001b[49m \u001b[38;5;241m==\u001b[39m \u001b[38;5;241m0\u001b[39m\n\u001b[1;32m    271\u001b[0m is_nonzero_const \u001b[38;5;241m&\u001b[39m\u001b[38;5;241m=\u001b[39m np\u001b[38;5;241m.\u001b[39mall(x \u001b[38;5;241m!=\u001b[39m \u001b[38;5;241m0.0\u001b[39m, axis\u001b[38;5;241m=\u001b[39m\u001b[38;5;241m0\u001b[39m)\n\u001b[1;32m    272\u001b[0m \u001b[38;5;28;01mif\u001b[39;00m is_nonzero_const\u001b[38;5;241m.\u001b[39many():\n",
      "File \u001b[0;32m~/miniconda3/lib/python3.9/site-packages/numpy/core/fromnumeric.py:2684\u001b[0m, in \u001b[0;36mptp\u001b[0;34m(a, axis, out, keepdims)\u001b[0m\n\u001b[1;32m   2682\u001b[0m     \u001b[38;5;28;01melse\u001b[39;00m:\n\u001b[1;32m   2683\u001b[0m         \u001b[38;5;28;01mreturn\u001b[39;00m ptp(axis\u001b[38;5;241m=\u001b[39maxis, out\u001b[38;5;241m=\u001b[39mout, \u001b[38;5;241m*\u001b[39m\u001b[38;5;241m*\u001b[39mkwargs)\n\u001b[0;32m-> 2684\u001b[0m \u001b[38;5;28;01mreturn\u001b[39;00m \u001b[43m_methods\u001b[49m\u001b[38;5;241;43m.\u001b[39;49m\u001b[43m_ptp\u001b[49m\u001b[43m(\u001b[49m\u001b[43ma\u001b[49m\u001b[43m,\u001b[49m\u001b[43m \u001b[49m\u001b[43maxis\u001b[49m\u001b[38;5;241;43m=\u001b[39;49m\u001b[43maxis\u001b[49m\u001b[43m,\u001b[49m\u001b[43m \u001b[49m\u001b[43mout\u001b[49m\u001b[38;5;241;43m=\u001b[39;49m\u001b[43mout\u001b[49m\u001b[43m,\u001b[49m\u001b[43m \u001b[49m\u001b[38;5;241;43m*\u001b[39;49m\u001b[38;5;241;43m*\u001b[39;49m\u001b[43mkwargs\u001b[49m\u001b[43m)\u001b[49m\n",
      "File \u001b[0;32m~/miniconda3/lib/python3.9/site-packages/numpy/core/_methods.py:220\u001b[0m, in \u001b[0;36m_ptp\u001b[0;34m(a, axis, out, keepdims)\u001b[0m\n\u001b[1;32m    218\u001b[0m \u001b[38;5;28;01mdef\u001b[39;00m\u001b[38;5;250m \u001b[39m\u001b[38;5;21m_ptp\u001b[39m(a, axis\u001b[38;5;241m=\u001b[39m\u001b[38;5;28;01mNone\u001b[39;00m, out\u001b[38;5;241m=\u001b[39m\u001b[38;5;28;01mNone\u001b[39;00m, keepdims\u001b[38;5;241m=\u001b[39m\u001b[38;5;28;01mFalse\u001b[39;00m):\n\u001b[1;32m    219\u001b[0m     \u001b[38;5;28;01mreturn\u001b[39;00m um\u001b[38;5;241m.\u001b[39msubtract(\n\u001b[0;32m--> 220\u001b[0m         \u001b[43mumr_maximum\u001b[49m\u001b[43m(\u001b[49m\u001b[43ma\u001b[49m\u001b[43m,\u001b[49m\u001b[43m \u001b[49m\u001b[43maxis\u001b[49m\u001b[43m,\u001b[49m\u001b[43m \u001b[49m\u001b[38;5;28;43;01mNone\u001b[39;49;00m\u001b[43m,\u001b[49m\u001b[43m \u001b[49m\u001b[43mout\u001b[49m\u001b[43m,\u001b[49m\u001b[43m \u001b[49m\u001b[43mkeepdims\u001b[49m\u001b[43m)\u001b[49m,\n\u001b[1;32m    221\u001b[0m         umr_minimum(a, axis, \u001b[38;5;28;01mNone\u001b[39;00m, \u001b[38;5;28;01mNone\u001b[39;00m, keepdims),\n\u001b[1;32m    222\u001b[0m         out\n\u001b[1;32m    223\u001b[0m     )\n",
      "\u001b[0;31mUFuncTypeError\u001b[0m: ufunc 'maximum' did not contain a loop with signature matching types (dtype('<U4875'), dtype('<U4875')) -> None"
     ]
    }
   ],
   "source": [
    "# Adicionando constante\n",
    "X_train_300 = sm.add_constant(X_train_300)\n",
    "X_test_300 = sm.add_constant(X_test_300)"
   ]
  },
  {
   "cell_type": "code",
   "execution_count": null,
   "metadata": {
    "id": "dWMA06PvUH2h"
   },
   "outputs": [],
   "source": [
    "# Criando o modelo e realizando predição\n",
    "linear_model_300 = sm.OLS(y_train_300, X_train_300).fit()\n",
    "prediction_linear_model_300 = linear_model_300.predict(X_test_300)"
   ]
  },
  {
   "cell_type": "code",
   "execution_count": null,
   "metadata": {
    "colab": {
     "base_uri": "https://localhost:8080/"
    },
    "id": "KGLZb7OVXEat",
    "outputId": "da533f15-e011-46f8-ca87-164c6164593e"
   },
   "outputs": [],
   "source": [
    "# Cálculo do RMSE\n",
    "rmse_300 = root_mean_squared_error(y_test_300, prediction_linear_model_300)\n",
    "print(\"RMSE: \", rmse_300)"
   ]
  },
  {
   "cell_type": "code",
   "execution_count": null,
   "metadata": {
    "colab": {
     "base_uri": "https://localhost:8080/"
    },
    "id": "0B3Z6oieuaoY",
    "outputId": "0c4a5c5a-8908-4d5e-ff7f-e7c239b5290a"
   },
   "outputs": [],
   "source": [
    "# Visualização do modelo e resultados\n",
    "print(linear_model_300.summary(alpha=0.05))"
   ]
  },
  {
   "cell_type": "markdown",
   "metadata": {
    "id": "6edr9mQUVh3I"
   },
   "source": [
    "### 6.1.2. Regressão Lasso\n"
   ]
  },
  {
   "cell_type": "code",
   "execution_count": null,
   "metadata": {
    "id": "xELarPZWARUM"
   },
   "outputs": [],
   "source": [
    "# Separando em conjunto de treino e teste\n",
    "X_train_300_lasso, X_test_300_lasso, y_train_300_lasso, y_test_300_lasso = (\n",
    "    train_test_split(X_300, y_300, test_size=0.3, random_state=42)\n",
    ")"
   ]
  },
  {
   "cell_type": "code",
   "execution_count": null,
   "metadata": {
    "colab": {
     "base_uri": "https://localhost:8080/"
    },
    "id": "cZXzijAqAulu",
    "outputId": "7d3f9c03-0fe9-40b9-971c-6e953b56d4e0"
   },
   "outputs": [],
   "source": [
    "lasso_model_300 = LassoCV(alphas=[0.0001, 0.001, 0.01, 0.1, 1, 10], random_state=0).fit(\n",
    "    X_train_300_lasso, y_train_300_lasso\n",
    ")\n",
    "pred_lasso_model_300 = lasso_model_300.predict(X_test_300_lasso)\n",
    "\n",
    "print(\"Melhor R2 Score:\", lasso_model_300.score(X_train_300_lasso, y_train_300_lasso))\n",
    "print(\"Melhor Alpha:\", lasso_model_300.alpha_)\n",
    "print(\n",
    "    \"RMSE com o alpha escolhido:\",\n",
    "    root_mean_squared_error(y_test_300_lasso, pred_lasso_model_300),\n",
    ")"
   ]
  },
  {
   "cell_type": "markdown",
   "metadata": {
    "id": "ymuphfwXPQq1"
   },
   "source": [
    "### 6.1.3. Regressões com Corte (-3,3)\n"
   ]
  },
  {
   "cell_type": "code",
   "execution_count": null,
   "metadata": {
    "id": "wKhN77GlQFq7"
   },
   "outputs": [],
   "source": [
    "# Aplicando corte de dificuldade sugerido pelo artigo motivador (-3, 3)\n",
    "enem_filtered = enem_data.copy()\n",
    "\n",
    "enem_filtered = enem_filtered[\n",
    "    (enem_filtered[\"nu_param_B\"] >= -3) & (enem_filtered[\"nu_param_B\"] <= 3)\n",
    "]\n",
    "enem_filtered[\"nu_param_B\"].describe()"
   ]
  },
  {
   "cell_type": "code",
   "execution_count": null,
   "metadata": {
    "id": "GKo9iv3cPUOx"
   },
   "outputs": [],
   "source": [
    "# Coletando os dados\n",
    "X_300_filtered = [\n",
    "    np.array(embedding)\n",
    "    for embedding in enem_filtered[\"enunciado_embbedings_word2vec_300\"]\n",
    "]\n",
    "y_300_filtered = enem_filtered[\"nu_param_B\"]"
   ]
  },
  {
   "cell_type": "code",
   "execution_count": null,
   "metadata": {
    "colab": {
     "base_uri": "https://localhost:8080/"
    },
    "id": "1zSIVR6VQEZ8",
    "outputId": "5f14863d-5b54-4001-9a24-84eb1d000776"
   },
   "outputs": [],
   "source": [
    "# Aplicando Transformações\n",
    "add_list = [(y_300_filtered.min() * (-1)) + 1] * len(y_300_filtered)\n",
    "y_300_filtered = y_300_filtered + add_list\n",
    "\n",
    "# Aplicando Boxcox\n",
    "y_300_filtered, best_lambda = stats.boxcox(y_300_filtered)\n",
    "print(best_lambda)"
   ]
  },
  {
   "cell_type": "markdown",
   "metadata": {},
   "source": [
    "### 6.1.3.A) Regressão Linear\n"
   ]
  },
  {
   "cell_type": "code",
   "execution_count": null,
   "metadata": {
    "id": "W8FOsJOBRoe3"
   },
   "outputs": [],
   "source": [
    "# Dividindo os dados em treino e teste\n",
    "X_train_300_filtered, X_test_300_filtered, y_train_300_filtered, y_test_300_filtered = (\n",
    "    train_test_split(X_300_filtered, y_300_filtered, test_size=0.3, random_state=42)\n",
    ")"
   ]
  },
  {
   "cell_type": "code",
   "execution_count": null,
   "metadata": {
    "id": "9P30xp6VRs_j"
   },
   "outputs": [],
   "source": [
    "# Adicionando constante\n",
    "X_train_300_filtered = sm.add_constant(X_train_300_filtered)\n",
    "X_test_300_filtered = sm.add_constant(X_test_300_filtered)"
   ]
  },
  {
   "cell_type": "code",
   "execution_count": null,
   "metadata": {
    "id": "L1sR1TjVrGxk"
   },
   "outputs": [],
   "source": [
    "# Criando o modelo e realizando a predição\n",
    "linear_model_300_filtered = sm.OLS(y_train_300_filtered, X_train_300_filtered).fit()\n",
    "pred_linear_model_300_filtered = linear_model_300_filtered.predict(X_test_300_filtered)"
   ]
  },
  {
   "cell_type": "code",
   "execution_count": null,
   "metadata": {
    "colab": {
     "base_uri": "https://localhost:8080/"
    },
    "id": "wCFhymqgRvn8",
    "outputId": "1fbc8a0e-12fc-4a0b-9a7a-28dd2a41222d"
   },
   "outputs": [],
   "source": [
    "# Cálculo do RMSE\n",
    "rms = root_mean_squared_error(y_test_300_filtered, pred_linear_model_300_filtered)\n",
    "print(\"RMSE:\", rms)"
   ]
  },
  {
   "cell_type": "code",
   "execution_count": null,
   "metadata": {
    "colab": {
     "base_uri": "https://localhost:8080/"
    },
    "id": "5ZdKgcfgR9U3",
    "outputId": "a58e5f03-19b5-4b79-96df-3d5992daebf0"
   },
   "outputs": [],
   "source": [
    "print(linear_model_300_filtered.summary(alpha=0.05))"
   ]
  },
  {
   "cell_type": "markdown",
   "metadata": {},
   "source": [
    "### 6.1.3.B) Regressão Lasso\n"
   ]
  },
  {
   "cell_type": "code",
   "execution_count": null,
   "metadata": {},
   "outputs": [],
   "source": [
    "# Dividindo os dados em treino e teste\n",
    "(\n",
    "    X_train_300_filtered_lasso,\n",
    "    X_test_300_filtered_lasso,\n",
    "    y_train_300_filtered_lasso,\n",
    "    y_test_300_filtered_lasso,\n",
    ") = train_test_split(X_300_filtered, y_300_filtered, test_size=0.3, random_state=42)"
   ]
  },
  {
   "cell_type": "code",
   "execution_count": null,
   "metadata": {},
   "outputs": [],
   "source": [
    "lasso_model_300_filtered = LassoCV(\n",
    "    alphas=[0.0001, 0.001, 0.01, 0.1, 1, 10, 100], random_state=0, tol=0.1\n",
    ").fit(X_train_300_filtered_lasso, y_train_300_filtered_lasso)\n",
    "\n",
    "pred_300_lasso_filtered = lasso_model_300_filtered.predict(X_test_300_filtered_lasso)\n",
    "\n",
    "print(\n",
    "    \"Melhor R2 score:\",\n",
    "    lasso_model_300_filtered.score(\n",
    "        X_train_300_filtered_lasso, y_train_300_filtered_lasso\n",
    "    ),\n",
    ")\n",
    "print(\"Melhor Alpha:\", lasso_model_300_filtered.alpha_)\n",
    "print(\n",
    "    \"RMSE com o Alpha escolhido:\",\n",
    "    root_mean_squared_error(y_test_300_filtered_lasso, pred_300_lasso_filtered),\n",
    ")"
   ]
  },
  {
   "cell_type": "markdown",
   "metadata": {},
   "source": [
    "### 6.1.4. LLM & Similaridade Features\n"
   ]
  },
  {
   "cell_type": "code",
   "execution_count": null,
   "metadata": {},
   "outputs": [],
   "source": [
    "# Coletando os dados\n",
    "y_300_all_features = enem_data[\"nu_param_B\"]\n",
    "X_300_all_features = [\n",
    "    np.concatenate(\n",
    "        [\n",
    "            np.array(embedding),\n",
    "            [\n",
    "                acerto_deepseek,\n",
    "                acerto_llamma,\n",
    "                similaridade_enunciado_gabarito_300,\n",
    "                similaridade_enunciado_distratores_300,\n",
    "                similaridade_gabarito_distratores_300,\n",
    "            ],\n",
    "        ]\n",
    "    )\n",
    "    for embedding, similaridade_enunciado_gabarito_300, similaridade_enunciado_distratores_300, similaridade_gabarito_distratores_300 in zip(\n",
    "        enem_data[\"enunciado_embbedings_word2vec_300\"],\n",
    "        enem_data[\"similaridade_enunciado_gabarito_300\"],\n",
    "        enem_data[\"similaridade_enunciado_distratores_300\"],\n",
    "        enem_data[\"similaridade_gabarito_distratores_300\"],\n",
    "    )\n",
    "]"
   ]
  },
  {
   "cell_type": "code",
   "execution_count": null,
   "metadata": {},
   "outputs": [],
   "source": [
    "# Aplicando Transformações\n",
    "add_list = [(y_300_all_features.min() * (-1)) + 1] * len(y_300_all_features)\n",
    "y_300_all_features = y_300_all_features + add_list\n",
    "\n",
    "# Aplicando Boxcox\n",
    "y_300_all_features, best_lambda = stats.boxcox(y_300_all_features)\n",
    "print(best_lambda)"
   ]
  },
  {
   "cell_type": "markdown",
   "metadata": {},
   "source": [
    "### 6.1.4.A) Regressão linear\n"
   ]
  },
  {
   "cell_type": "code",
   "execution_count": null,
   "metadata": {},
   "outputs": [],
   "source": [
    "# Separando em conjunto de treino e teste\n",
    "\n",
    "(\n",
    "    X_train_300_all_features,\n",
    "    X_test_300_all_features,\n",
    "    y_train_300_all_features,\n",
    "    y_test_300_all_features,\n",
    ") = train_test_split(\n",
    "    X_300_all_features, y_300_all_features, test_size=0.3, random_state=42\n",
    ")"
   ]
  },
  {
   "cell_type": "code",
   "execution_count": null,
   "metadata": {},
   "outputs": [],
   "source": [
    "# Adicionando constante\n",
    "X_train_300_all_features = sm.add_constant(X_train_300_all_features)\n",
    "X_test_300_all_features = sm.add_constant(X_test_300_all_features)"
   ]
  },
  {
   "cell_type": "code",
   "execution_count": null,
   "metadata": {},
   "outputs": [],
   "source": [
    "# Criando o modelo e realizando predição\n",
    "linear_model_300_all_features = sm.OLS(\n",
    "    y_train_300_all_features, X_train_300_all_features\n",
    ").fit()\n",
    "pred_linear_model_300_all_features = linear_model_300_all_features.predict(\n",
    "    X_test_300_all_features\n",
    ")"
   ]
  },
  {
   "cell_type": "code",
   "execution_count": null,
   "metadata": {},
   "outputs": [],
   "source": [
    "# Cálculo do RMSE\n",
    "rms = root_mean_squared_error(y_test_300_all_features, pred_linear_model_300_all_features)\n",
    "print(\"RMSE\", rms)"
   ]
  },
  {
   "cell_type": "code",
   "execution_count": null,
   "metadata": {},
   "outputs": [],
   "source": [
    "print(linear_model_300_all_features.summary(alpha=0.05))"
   ]
  },
  {
   "cell_type": "markdown",
   "metadata": {},
   "source": [
    "### 6.1.4.B) Lasso\n"
   ]
  },
  {
   "cell_type": "code",
   "execution_count": null,
   "metadata": {},
   "outputs": [],
   "source": [
    "# Separando em conjunto de treino e teste\n",
    "(\n",
    "    X_train_300_lasso_all_features,\n",
    "    X_test_300_lasso_all_features,\n",
    "    y_train_300_lasso_all_features,\n",
    "    y_test_300_lasso_all_features,\n",
    ") = train_test_split(\n",
    "    X_300_all_features, y_300_all_features, test_size=0.3, random_state=42\n",
    ")"
   ]
  },
  {
   "cell_type": "code",
   "execution_count": null,
   "metadata": {},
   "outputs": [],
   "source": [
    "lasso_model_all_features_300 = LassoCV(\n",
    "    alphas=[0.0001, 0.001, 0.01, 0.1, 1, 10], random_state=0\n",
    ").fit(X_train_300_lasso_all_features, y_train_300_lasso_all_features)\n",
    "\n",
    "pred_300_lasso_all_features = lasso_model_all_features_300.predict(\n",
    "    X_test_300_lasso_all_features\n",
    ")\n",
    "\n",
    "print(\n",
    "    \"melhor r2 score:\",\n",
    "    lasso_model_all_features_300.score(\n",
    "        X_train_300_lasso_all_features, y_train_300_lasso_all_features\n",
    "    ),\n",
    ")\n",
    "print(\"melhor alpha:\", lasso_model_all_features_300.alpha_)\n",
    "print(\n",
    "    \"RMSE com o alpha escolhido:\",\n",
    "    root_mean_squared_error(y_test_300_lasso_all_features, pred_300_lasso_all_features),\n",
    ")"
   ]
  },
  {
   "cell_type": "markdown",
   "metadata": {},
   "source": [
    "---\n",
    "\n",
    "## 6.2. Embeddings de 100 Dimensões\n"
   ]
  },
  {
   "cell_type": "code",
   "execution_count": null,
   "metadata": {},
   "outputs": [],
   "source": [
    "# Coletando os dados\n",
    "X_100 = [\n",
    "    np.array(embedding) for embedding in enem_data[\"enunciado_embbedings_word2vec_100\"]\n",
    "]  # Somente Embeddings\n",
    "\n",
    "y_100 = enem_data[\"nu_param_B\"]  # Parâmetro de Dificuldade (B)"
   ]
  },
  {
   "cell_type": "code",
   "execution_count": null,
   "metadata": {},
   "outputs": [],
   "source": [
    "# Aplicando Transformações\n",
    "add_list = [(y_100.min() * (-1)) + 1] * len(y_100)\n",
    "y_100 = y_100 + add_list\n",
    "\n",
    "# Aplicando Box-Cox\n",
    "y_100, best_lambda = stats.boxcox(y_100)\n",
    "print(best_lambda)"
   ]
  },
  {
   "cell_type": "markdown",
   "metadata": {},
   "source": [
    "### 6.2.1. Regressão Linear\n"
   ]
  },
  {
   "cell_type": "code",
   "execution_count": null,
   "metadata": {},
   "outputs": [],
   "source": [
    "# Separando em conjunto de treino e teste\n",
    "X_train_100, X_test_100, y_train_100, y_test_100 = train_test_split(\n",
    "    X_100, y_100, test_size=0.3, random_state=42\n",
    ")"
   ]
  },
  {
   "cell_type": "code",
   "execution_count": null,
   "metadata": {},
   "outputs": [],
   "source": [
    "# Adicionando constante\n",
    "X_train_100 = sm.add_constant(X_train_100)\n",
    "X_test_100 = sm.add_constant(X_test_100)"
   ]
  },
  {
   "cell_type": "code",
   "execution_count": null,
   "metadata": {},
   "outputs": [],
   "source": [
    "# Criando o modelo e realizando predição\n",
    "linear_model_100 = sm.OLS(y_train_100, X_train_100).fit()\n",
    "pred_linear_model_100 = linear_model_100.predict(X_test_100)"
   ]
  },
  {
   "cell_type": "code",
   "execution_count": null,
   "metadata": {},
   "outputs": [],
   "source": [
    "# Cálculo do RMSE\n",
    "rms = root_mean_squared_error(y_test_100, pred_linear_model_100)\n",
    "print(\"RMSE: \", rms)"
   ]
  },
  {
   "cell_type": "code",
   "execution_count": null,
   "metadata": {},
   "outputs": [],
   "source": [
    "# Visualização do modelo e resultados\n",
    "print(linear_model_100.summary(alpha=0.05))"
   ]
  },
  {
   "cell_type": "markdown",
   "metadata": {},
   "source": [
    "### 6.2.2. Regressão Lasso\n"
   ]
  },
  {
   "cell_type": "code",
   "execution_count": null,
   "metadata": {},
   "outputs": [],
   "source": [
    "# Separando em conjunto de treino e teste\n",
    "X_train_100_lasso, X_test_100_lasso, y_train_100_lasso, y_test_100_lasso = (\n",
    "    train_test_split(X_100, y_100, test_size=0.3, random_state=42)\n",
    ")"
   ]
  },
  {
   "cell_type": "code",
   "execution_count": null,
   "metadata": {},
   "outputs": [],
   "source": [
    "model_lasso = LassoCV(alphas=[0.0001, 0.001, 0.01, 0.1, 1, 10], random_state=0).fit(\n",
    "    X_train_100_lasso, y_train_100_lasso\n",
    ")\n",
    "pred_lasso = model_lasso.predict(X_test_100_lasso)\n",
    "\n",
    "print(\"Melhor R2 Score:\", model_lasso.score(X_train_100_lasso, y_train_100_lasso))\n",
    "print(\"Melhor Alpha:\", model_lasso.alpha_)\n",
    "print(\n",
    "    \"RMSE com o alpha escolhido:\", root_mean_squared_error(y_test_100_lasso, pred_lasso)\n",
    ")"
   ]
  },
  {
   "cell_type": "markdown",
   "metadata": {},
   "source": [
    "### 6.2.3. Regressões com Corte (-3,3)\n"
   ]
  },
  {
   "cell_type": "code",
   "execution_count": null,
   "metadata": {},
   "outputs": [],
   "source": [
    "# Aplicando corte de dificuldade sugerido pelo artigo motivador (-3, 3)\n",
    "enem_filtered = enem_data.copy()\n",
    "\n",
    "enem_filtered = enem_filtered[\n",
    "    (enem_filtered[\"nu_param_B\"] >= -3) & (enem_filtered[\"nu_param_B\"] <= 3)\n",
    "]\n",
    "enem_filtered[\"nu_param_B\"].describe()"
   ]
  },
  {
   "cell_type": "code",
   "execution_count": null,
   "metadata": {},
   "outputs": [],
   "source": [
    "# Coletando os dados\n",
    "X_100_filtered = [\n",
    "    np.array(embedding)\n",
    "    for embedding in enem_filtered[\"enunciado_embbedings_word2vec_100\"]\n",
    "]\n",
    "y_100_filtered = enem_filtered[\"nu_param_B\"]"
   ]
  },
  {
   "cell_type": "code",
   "execution_count": null,
   "metadata": {},
   "outputs": [],
   "source": [
    "# Aplicando Transformações\n",
    "add_list = [(y_100_filtered.min() * (-1)) + 1] * len(y_100_filtered)\n",
    "y_100_filtered = y_100_filtered + add_list\n",
    "\n",
    "# Aplicando Boxcox\n",
    "y_100_filtered, best_lambda = stats.boxcox(y_100_filtered)\n",
    "print(best_lambda)"
   ]
  },
  {
   "cell_type": "markdown",
   "metadata": {},
   "source": [
    "### 6.2.3.A) Regressão Linear\n"
   ]
  },
  {
   "cell_type": "code",
   "execution_count": null,
   "metadata": {},
   "outputs": [],
   "source": [
    "# Dividindo os dados em treino e teste\n",
    "X_train_100_filtered, X_test_100_filtered, y_train_100_filtered, y_test_100_filtered = (\n",
    "    train_test_split(X_100_filtered, y_100_filtered, test_size=0.3, random_state=42)\n",
    ")"
   ]
  },
  {
   "cell_type": "code",
   "execution_count": null,
   "metadata": {},
   "outputs": [],
   "source": [
    "# Adicionando constante\n",
    "X_train_100_filtered = sm.add_constant(X_train_100_filtered)\n",
    "X_test_100_filtered = sm.add_constant(X_test_100_filtered)"
   ]
  },
  {
   "cell_type": "code",
   "execution_count": null,
   "metadata": {},
   "outputs": [],
   "source": [
    "# Criando o modelo e realizando a predição\n",
    "linear_model_100_filtered = sm.OLS(y_train_100_filtered, X_train_100_filtered).fit()\n",
    "pred_linear_model_100_filtered = linear_model_100_filtered.predict(X_test_100_filtered)"
   ]
  },
  {
   "cell_type": "code",
   "execution_count": null,
   "metadata": {},
   "outputs": [],
   "source": [
    "# Cálculo do RMSE\n",
    "rms = root_mean_squared_error(y_test_100_filtered, pred_linear_model_100_filtered)\n",
    "print(\"RMSE:\", rms)"
   ]
  },
  {
   "cell_type": "code",
   "execution_count": null,
   "metadata": {},
   "outputs": [],
   "source": [
    "print(linear_model_100_filtered.summary(alpha=0.05))"
   ]
  },
  {
   "cell_type": "markdown",
   "metadata": {},
   "source": [
    "### 6.2.3.B) Regressão Lasso\n"
   ]
  },
  {
   "cell_type": "code",
   "execution_count": null,
   "metadata": {},
   "outputs": [],
   "source": [
    "# Dividindo os dados em treino e teste\n",
    "(\n",
    "    X_train_100_filtered_lasso,\n",
    "    X_test_100_filtered_lasso,\n",
    "    y_train_100_filtered_lasso,\n",
    "    y_test_100_filtered_lasso,\n",
    ") = train_test_split(X_100_filtered, y_100_filtered, test_size=0.3, random_state=42)"
   ]
  },
  {
   "cell_type": "code",
   "execution_count": null,
   "metadata": {},
   "outputs": [],
   "source": [
    "lasso_model_100_filtered = LassoCV(\n",
    "    alphas=[0.0001, 0.001, 0.01, 0.1, 1, 10, 100], random_state=0, tol=0.1\n",
    ").fit(X_train_100_filtered_lasso, y_train_100_filtered_lasso)\n",
    "\n",
    "pred_lasso_filtered_100 = lasso_model_100_filtered.predict(X_test_100_filtered_lasso)\n",
    "\n",
    "print(\n",
    "    \"Melhor R2 score:\",\n",
    "    lasso_model_100_filtered.score(\n",
    "        X_train_100_filtered_lasso, y_train_100_filtered_lasso\n",
    "    ),\n",
    ")\n",
    "print(\"Melhor Alpha:\", lasso_model_100_filtered.alpha_)\n",
    "print(\n",
    "    \"RMSE com o Alpha escolhido:\",\n",
    "    root_mean_squared_error(y_test_100_filtered_lasso, pred_lasso_filtered_100),\n",
    ")"
   ]
  },
  {
   "cell_type": "markdown",
   "metadata": {},
   "source": [
    "### 6.2.4. LLM & Similaridade Features\n"
   ]
  },
  {
   "cell_type": "code",
   "execution_count": null,
   "metadata": {},
   "outputs": [],
   "source": [
    "# Coletando os dados\n",
    "y_100_all_features = enem_data[\"nu_param_B\"]\n",
    "X_100_all_features = [\n",
    "    np.concatenate(\n",
    "        [\n",
    "            np.array(embedding),\n",
    "            [\n",
    "                acerto_deepseek,\n",
    "                acerto_llamma,\n",
    "                similaridade_enunciado_gabarito_100,\n",
    "                similaridade_enunciado_distratores_100,\n",
    "                similaridade_gabarito_distratores_100,\n",
    "            ],\n",
    "        ]\n",
    "    )\n",
    "    for embedding, similaridade_enunciado_gabarito_100, similaridade_enunciado_distratores_100, similaridade_gabarito_distratores_100 in zip(\n",
    "        enem_data[\"enunciado_embbedings_word2vec_100\"],\n",
    "        enem_data[\"similaridade_enunciado_gabarito_100\"],\n",
    "        enem_data[\"similaridade_enunciado_distratores_100\"],\n",
    "        enem_data[\"similaridade_gabarito_distratores_100\"],\n",
    "    )\n",
    "]"
   ]
  },
  {
   "cell_type": "code",
   "execution_count": null,
   "metadata": {},
   "outputs": [],
   "source": [
    "# Aplicando Transformações\n",
    "add_list = [(y_100_all_features.min() * (-1)) + 1] * len(y_100_all_features)\n",
    "y_100_all_features = y_100_all_features + add_list\n",
    "\n",
    "# Aplicando Boxcox\n",
    "y_100_all_features, best_lambda = stats.boxcox(y_100_all_features)\n",
    "print(best_lambda)"
   ]
  },
  {
   "cell_type": "markdown",
   "metadata": {},
   "source": [
    "### 6.2.4.A) Regressão linear\n"
   ]
  },
  {
   "cell_type": "code",
   "execution_count": null,
   "metadata": {},
   "outputs": [],
   "source": [
    "# Separando em conjunto de treino e teste\n",
    "\n",
    "(\n",
    "    X_train_100_all_features,\n",
    "    X_test_100_all_features,\n",
    "    y_train_100_all_features,\n",
    "    y_test_100_all_features,\n",
    ") = train_test_split(\n",
    "    X_100_all_features, y_100_all_features, test_size=0.3, random_state=42\n",
    ")"
   ]
  },
  {
   "cell_type": "code",
   "execution_count": null,
   "metadata": {},
   "outputs": [],
   "source": [
    "# Adicionando constante\n",
    "X_train_100_all_features = sm.add_constant(X_train_100_all_features)\n",
    "X_test_100_all_features = sm.add_constant(X_test_100_all_features)"
   ]
  },
  {
   "cell_type": "code",
   "execution_count": null,
   "metadata": {},
   "outputs": [],
   "source": [
    "# Criando o modelo e realizando predição\n",
    "linear_model_100_all_features = sm.OLS(\n",
    "    y_train_100_all_features, X_train_100_all_features\n",
    ").fit()\n",
    "pred_linear_model_100_all_features = linear_model_100_all_features.predict(\n",
    "    X_test_100_all_features\n",
    ")"
   ]
  },
  {
   "cell_type": "code",
   "execution_count": null,
   "metadata": {},
   "outputs": [],
   "source": [
    "# Cálculo do RMSE\n",
    "rms = root_mean_squared_error(y_test_100_all_features, pred_linear_model_100_all_features)\n",
    "print(\"RMSE\", rms)"
   ]
  },
  {
   "cell_type": "code",
   "execution_count": null,
   "metadata": {},
   "outputs": [],
   "source": [
    "print(linear_model_100_all_features.summary(alpha=0.05))"
   ]
  },
  {
   "cell_type": "markdown",
   "metadata": {},
   "source": [
    "### 6.2.4.B) Lasso\n"
   ]
  },
  {
   "cell_type": "code",
   "execution_count": null,
   "metadata": {},
   "outputs": [],
   "source": [
    "# Separando em conjunto de treino e teste\n",
    "(\n",
    "    X_train_100_lasso_all_features,\n",
    "    X_test_100_lasso_all_features,\n",
    "    y_train_100_lasso_all_features,\n",
    "    y_test_100_lasso_all_features,\n",
    ") = train_test_split(\n",
    "    X_100_all_features, y_100_all_features, test_size=0.3, random_state=42\n",
    ")"
   ]
  },
  {
   "cell_type": "code",
   "execution_count": null,
   "metadata": {},
   "outputs": [],
   "source": [
    "lasso_model_all_features_100 = LassoCV(\n",
    "    alphas=[0.0001, 0.001, 0.01, 0.1, 1, 10], random_state=0\n",
    ").fit(X_train_100_lasso_all_features, y_train_100_lasso_all_features)\n",
    "\n",
    "pred_100_lasso_all_features = lasso_model_all_features_100.predict(\n",
    "    X_test_100_lasso_all_features\n",
    ")\n",
    "\n",
    "print(\n",
    "    \"melhor r2 score:\",\n",
    "    lasso_model_all_features_100.score(\n",
    "        X_train_100_lasso_all_features, y_train_100_lasso_all_features\n",
    "    ),\n",
    ")\n",
    "print(\"melhor alpha:\", lasso_model_all_features_100.alpha_)\n",
    "print(\n",
    "    \"RMSE com o alpha escolhido:\",\n",
    "    root_mean_squared_error(y_test_100_lasso_all_features, pred_100_lasso_all_features),\n",
    ")"
   ]
  },
  {
   "cell_type": "markdown",
   "metadata": {
    "id": "0RLy-LVuLfDd"
   },
   "source": [
    "---\n",
    "\n",
    "## 6.3. Embeddings de 50 Dimensões\n"
   ]
  },
  {
   "cell_type": "code",
   "execution_count": null,
   "metadata": {},
   "outputs": [],
   "source": [
    "# Coletando os dados\n",
    "X_50 = [\n",
    "    np.array(embedding) for embedding in enem_data[\"enunciado_embbedings_word2vec_50\"]\n",
    "]  # Somente Embeddings 50\n",
    "\n",
    "y_50 = enem_data[\"nu_param_B\"]  # Parâmetro de Dificuldade (B)"
   ]
  },
  {
   "cell_type": "code",
   "execution_count": null,
   "metadata": {},
   "outputs": [],
   "source": [
    "# Aplicando Transformações\n",
    "add_list = [(y_50.min() * (-1)) + 1] * len(y_50)\n",
    "y_50 = y_50 + add_list\n",
    "\n",
    "# Aplicando Box-Cox\n",
    "y_50, best_lambda = stats.boxcox(y_50)\n",
    "print(best_lambda)"
   ]
  },
  {
   "cell_type": "markdown",
   "metadata": {},
   "source": [
    "### 6.3.1. Regressão Linear\n"
   ]
  },
  {
   "cell_type": "code",
   "execution_count": null,
   "metadata": {},
   "outputs": [],
   "source": [
    "# Separando em conjunto de treino e teste\n",
    "X_train_50, X_test_50, y_train_50, y_test_50 = train_test_split(\n",
    "    X_50, y_50, test_size=0.3, random_state=42\n",
    ")"
   ]
  },
  {
   "cell_type": "code",
   "execution_count": null,
   "metadata": {},
   "outputs": [],
   "source": [
    "# Adicionando constante\n",
    "X_train_50 = sm.add_constant(X_train_50)\n",
    "X_test_50 = sm.add_constant(X_test_50)"
   ]
  },
  {
   "cell_type": "code",
   "execution_count": null,
   "metadata": {},
   "outputs": [],
   "source": [
    "# Criando o modelo e realizando predição\n",
    "linear_model_50 = sm.OLS(y_train_50, X_train_50).fit()\n",
    "pred_linear_model_50 = linear_model_50.predict(X_test_50)"
   ]
  },
  {
   "cell_type": "code",
   "execution_count": null,
   "metadata": {},
   "outputs": [],
   "source": [
    "# Cálculo do RMSE\n",
    "rms = root_mean_squared_error(y_test_50, pred_linear_model_50)\n",
    "print(\"RMSE: \", rms)"
   ]
  },
  {
   "cell_type": "code",
   "execution_count": null,
   "metadata": {},
   "outputs": [],
   "source": [
    "# Visualização do modelo e resultados\n",
    "print(linear_model_50.summary(alpha=0.05))"
   ]
  },
  {
   "cell_type": "markdown",
   "metadata": {},
   "source": [
    "### 6.3.2. Regressão Lasso\n"
   ]
  },
  {
   "cell_type": "code",
   "execution_count": null,
   "metadata": {},
   "outputs": [],
   "source": [
    "# Separando em conjunto de treino e teste\n",
    "X_train_50_lasso, X_test_50_lasso, y_train_50_lasso, y_test_50_lasso = train_test_split(\n",
    "    X_50, y_50, test_size=0.3, random_state=42\n",
    ")"
   ]
  },
  {
   "cell_type": "code",
   "execution_count": null,
   "metadata": {},
   "outputs": [],
   "source": [
    "lasso_model_50 = LassoCV(alphas=[0.0001, 0.001, 0.01, 0.1, 1, 10], random_state=0).fit(\n",
    "    X_train_50_lasso, y_train_50_lasso\n",
    ")\n",
    "pred_lasso_model_50 = lasso_model_50.predict(X_test_50_lasso)\n",
    "\n",
    "print(\"Melhor R2 Score:\", lasso_model_50.score(X_train_50_lasso, y_train_50_lasso))\n",
    "print(\"Melhor Alpha:\", lasso_model_50.alpha_)\n",
    "print(\n",
    "    \"RMSE com o alpha escolhido:\",\n",
    "    root_mean_squared_error(y_test_50_lasso, pred_lasso_model_50),\n",
    ")"
   ]
  },
  {
   "cell_type": "markdown",
   "metadata": {},
   "source": [
    "### 6.3.3. Regressões com Corte (-3,3)\n"
   ]
  },
  {
   "cell_type": "code",
   "execution_count": null,
   "metadata": {},
   "outputs": [],
   "source": [
    "# Aplicando corte de dificuldade sugerido pelo artigo motivador (-3, 3)\n",
    "enem_filtered = enem_data.copy()\n",
    "\n",
    "enem_filtered = enem_filtered[\n",
    "    (enem_filtered[\"nu_param_B\"] >= -3) & (enem_filtered[\"nu_param_B\"] <= 3)\n",
    "]\n",
    "enem_filtered[\"nu_param_B\"].describe()"
   ]
  },
  {
   "cell_type": "code",
   "execution_count": null,
   "metadata": {},
   "outputs": [],
   "source": [
    "# Coletando os dados\n",
    "X_50_filtered = [\n",
    "    np.array(embedding)\n",
    "    for embedding in enem_filtered[\"enunciado_embbedings_word2vec_50\"]\n",
    "]\n",
    "y_50_filtered = enem_filtered[\"nu_param_B\"]"
   ]
  },
  {
   "cell_type": "code",
   "execution_count": null,
   "metadata": {},
   "outputs": [],
   "source": [
    "# Aplicando Transformações\n",
    "add_list = [(y_50_filtered.min() * (-1)) + 1] * len(y_50_filtered)\n",
    "y_50_filtered = y_50_filtered + add_list\n",
    "\n",
    "# Aplicando Boxcox\n",
    "y_50_filtered, best_lambda = stats.boxcox(y_50_filtered)\n",
    "print(best_lambda)"
   ]
  },
  {
   "cell_type": "markdown",
   "metadata": {},
   "source": [
    "### 6.3.3.A) Regressão Linear\n"
   ]
  },
  {
   "cell_type": "code",
   "execution_count": null,
   "metadata": {},
   "outputs": [],
   "source": [
    "# Dividindo os dados em treino e teste\n",
    "X_train_50_filtered, X_test_50_filtered, y_train_50_filtered, y_test_50_filtered = (\n",
    "    train_test_split(X_50_filtered, y_50_filtered, test_size=0.3, random_state=42)\n",
    ")"
   ]
  },
  {
   "cell_type": "code",
   "execution_count": null,
   "metadata": {},
   "outputs": [],
   "source": [
    "# Adicionando constante\n",
    "X_train_50_filtered = sm.add_constant(X_train_50_filtered)\n",
    "X_test_50_filtered = sm.add_constant(X_test_50_filtered)"
   ]
  },
  {
   "cell_type": "code",
   "execution_count": null,
   "metadata": {},
   "outputs": [],
   "source": [
    "# Criando o modelo e realizando a predição\n",
    "linear_model_50_filtered = sm.OLS(y_train_50_filtered, X_train_50_filtered).fit()\n",
    "pred_linear_model_50_filtered = linear_model_50_filtered.predict(X_test_50_filtered)"
   ]
  },
  {
   "cell_type": "code",
   "execution_count": null,
   "metadata": {},
   "outputs": [],
   "source": [
    "# Cálculo do RMSE\n",
    "rms = root_mean_squared_error(y_test_50_filtered, pred_linear_model_50_filtered)\n",
    "print(\"RMSE:\", rms)"
   ]
  },
  {
   "cell_type": "code",
   "execution_count": null,
   "metadata": {},
   "outputs": [],
   "source": [
    "print(linear_model_50_filtered.summary(alpha=0.05))"
   ]
  },
  {
   "cell_type": "markdown",
   "metadata": {},
   "source": [
    "### 6.3.3.B) Regressão Lasso\n"
   ]
  },
  {
   "cell_type": "code",
   "execution_count": null,
   "metadata": {},
   "outputs": [],
   "source": [
    "# Dividindo os dados em treino e teste\n",
    "(\n",
    "    X_train_50_filtered_lasso,\n",
    "    X_test_50_filtered_lasso,\n",
    "    y_train_50_filtered_lasso,\n",
    "    y_test_50_filtered_lasso,\n",
    ") = train_test_split(X_50_filtered, y_50_filtered, test_size=0.3, random_state=42)"
   ]
  },
  {
   "cell_type": "code",
   "execution_count": null,
   "metadata": {},
   "outputs": [],
   "source": [
    "lasso_model_50_filtered = LassoCV(\n",
    "    alphas=[0.0001, 0.001, 0.01, 0.1, 1, 10, 100], random_state=0, tol=0.1\n",
    ").fit(X_train_50_filtered_lasso, y_train_50_filtered_lasso)\n",
    "\n",
    "pred_lasso_model_50_filtered = lasso_model_50_filtered.predict(X_test_50_filtered_lasso)\n",
    "\n",
    "print(\n",
    "    \"Melhor R2 score:\",\n",
    "    lasso_model_50_filtered.score(X_train_50_filtered_lasso, y_train_50_filtered_lasso),\n",
    ")\n",
    "print(\"Melhor Alpha:\", lasso_model_50_filtered.alpha_)\n",
    "print(\n",
    "    \"RMSE com o Alpha escolhido:\",\n",
    "    root_mean_squared_error(y_test_50_filtered_lasso, pred_lasso_model_50_filtered),\n",
    ")"
   ]
  },
  {
   "cell_type": "markdown",
   "metadata": {},
   "source": [
    "### 6.3.4. LLM & Similaridade Features\n"
   ]
  },
  {
   "cell_type": "code",
   "execution_count": null,
   "metadata": {},
   "outputs": [],
   "source": [
    "# Coletando os dados\n",
    "y_50_all_features = enem_data[\"nu_param_B\"]\n",
    "X_50_all_features = [\n",
    "    np.concatenate(\n",
    "        [\n",
    "            np.array(embedding),\n",
    "            [\n",
    "                acerto_deepseek,\n",
    "                acerto_llamma,\n",
    "                similaridade_enunciado_gabarito_50,\n",
    "                similaridade_enunciado_distratores_50,\n",
    "                similaridade_gabarito_distratores_50,\n",
    "            ],\n",
    "        ]\n",
    "    )\n",
    "    for embedding, similaridade_enunciado_gabarito_50, similaridade_enunciado_distratores_50, similaridade_gabarito_distratores_50 in zip(\n",
    "        enem_data[\"enunciado_embbedings_word2vec_50\"],\n",
    "        enem_data[\"similaridade_enunciado_gabarito_50\"],\n",
    "        enem_data[\"similaridade_enunciado_distratores_50\"],\n",
    "        enem_data[\"similaridade_gabarito_distratores_50\"],\n",
    "    )\n",
    "]"
   ]
  },
  {
   "cell_type": "code",
   "execution_count": null,
   "metadata": {},
   "outputs": [],
   "source": [
    "# Aplicando Transformações\n",
    "add_list = [(y_50_all_features.min() * (-1)) + 1] * len(y_50_all_features)\n",
    "y_50_all_features = y_50_all_features + add_list\n",
    "\n",
    "# Aplicando Boxcox\n",
    "y_50_all_features, best_lambda = stats.boxcox(y_50_all_features)\n",
    "print(best_lambda)"
   ]
  },
  {
   "cell_type": "markdown",
   "metadata": {},
   "source": [
    "### 6.3.4.A) Regressão linear\n"
   ]
  },
  {
   "cell_type": "code",
   "execution_count": null,
   "metadata": {},
   "outputs": [],
   "source": [
    "# Separando em conjunto de treino e teste\n",
    "\n",
    "(\n",
    "    X_train_50_all_features,\n",
    "    X_test_50_all_features,\n",
    "    y_train_50_all_features,\n",
    "    y_test_50_all_features,\n",
    ") = train_test_split(\n",
    "    X_50_all_features, y_50_all_features, test_size=0.3, random_state=42\n",
    ")"
   ]
  },
  {
   "cell_type": "code",
   "execution_count": null,
   "metadata": {},
   "outputs": [],
   "source": [
    "# Adicionando constante\n",
    "X_train_50_all_features = sm.add_constant(X_train_50_all_features)\n",
    "X_test_50_all_features = sm.add_constant(X_test_50_all_features)"
   ]
  },
  {
   "cell_type": "code",
   "execution_count": null,
   "metadata": {},
   "outputs": [],
   "source": [
    "# Criando o modelo e realizando predição\n",
    "linear_model_50_all_features = sm.OLS(\n",
    "    y_train_50_all_features, X_train_50_all_features\n",
    ").fit()\n",
    "pred_linear_model_50_all_features = linear_model_50_all_features.predict(\n",
    "    X_test_50_all_features\n",
    ")"
   ]
  },
  {
   "cell_type": "code",
   "execution_count": null,
   "metadata": {},
   "outputs": [],
   "source": [
    "# Cálculo do RMSE\n",
    "rms = root_mean_squared_error(y_test_50_all_features, pred_linear_model_50_all_features)\n",
    "print(\"RMSE\", rms)"
   ]
  },
  {
   "cell_type": "code",
   "execution_count": null,
   "metadata": {},
   "outputs": [],
   "source": [
    "print(linear_model_50_all_features.summary(alpha=0.05))"
   ]
  },
  {
   "cell_type": "markdown",
   "metadata": {},
   "source": [
    "### 6.3.4.B) Lasso\n"
   ]
  },
  {
   "cell_type": "code",
   "execution_count": null,
   "metadata": {},
   "outputs": [],
   "source": [
    "# Separando em conjunto de treino e teste\n",
    "(\n",
    "    X_train_50_lasso_all_features,\n",
    "    X_test_50_lasso_all_features,\n",
    "    y_train_50_lasso_all_features,\n",
    "    y_test_50_lasso_all_features,\n",
    ") = train_test_split(\n",
    "    X_50_all_features, y_50_all_features, test_size=0.3, random_state=42\n",
    ")"
   ]
  },
  {
   "cell_type": "code",
   "execution_count": null,
   "metadata": {},
   "outputs": [],
   "source": [
    "lasso_model_all_features_50 = LassoCV(\n",
    "    alphas=[0.0001, 0.001, 0.01, 0.1, 1, 10], random_state=0\n",
    ").fit(X_train_50_lasso_all_features, y_train_50_lasso_all_features)\n",
    "\n",
    "pred_50_lasso_all_features = lasso_model_all_features_50.predict(\n",
    "    X_test_50_lasso_all_features\n",
    ")\n",
    "\n",
    "print(\n",
    "    \"melhor r2 score:\",\n",
    "    lasso_model_all_features_50.score(\n",
    "        X_train_50_lasso_all_features, y_train_50_lasso_all_features\n",
    "    ),\n",
    ")\n",
    "print(\"melhor alpha:\", lasso_model_all_features_50.alpha_)\n",
    "print(\n",
    "    \"RMSE com o alpha escolhido:\",\n",
    "    root_mean_squared_error(y_test_50_lasso_all_features, pred_50_lasso_all_features),\n",
    ")"
   ]
  },
  {
   "cell_type": "markdown",
   "metadata": {},
   "source": [
    "---\n"
   ]
  }
 ],
 "metadata": {
  "colab": {
   "collapsed_sections": [
    "9yDKd1I7nlzI",
    "6uh5vrIBPNVq",
    "ymuphfwXPQq1",
    "CLE-fGKvuTnZ",
    "6edr9mQUVh3I",
    "WDLOC6GVVlW-",
    "0RLy-LVuLfDd",
    "fKYYw-TpLjsh",
    "0u14YSafMheC",
    "qboxrbAcMzbW",
    "5Hg8TiduMzbX",
    "tVooDn3gMzbb",
    "CeOj7oAnP9tK",
    "1wt15xn5Ziea",
    "bzFrkmVlZiea",
    "ZpNHuWrrZied",
    "cYzwgqixanzG",
    "WDg1CempanzH",
    "j7YAJg9JanzJ",
    "YG2xX56Z2dGO",
    "RPLe9sjM2dGP",
    "dNs-8rBm2dGR",
    "z3MwTkspAIr6",
    "-GkVFw2WAIr6",
    "KqIYJSpvAIr7"
   ],
   "provenance": []
  },
  "kernelspec": {
   "display_name": "Python 3 (ipykernel)",
   "language": "python",
   "name": "python3"
  },
  "language_info": {
   "codemirror_mode": {
    "name": "ipython",
    "version": 3
   },
   "file_extension": ".py",
   "mimetype": "text/x-python",
   "name": "python",
   "nbconvert_exporter": "python",
   "pygments_lexer": "ipython3",
   "version": "3.9.23"
  }
 },
 "nbformat": 4,
 "nbformat_minor": 4
}
