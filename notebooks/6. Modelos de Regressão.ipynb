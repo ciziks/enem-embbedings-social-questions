{
 "cells": [
  {
   "cell_type": "markdown",
   "metadata": {
    "id": "sifnSuHj0A11"
   },
   "source": [
    "# 6. Modelos de Regressão\n"
   ]
  },
  {
   "cell_type": "markdown",
   "metadata": {
    "id": "5T8z-sZV0ABt"
   },
   "source": [
    "Este notebook explora diferentes modelos de regressão para análise de dados, incluindo Regressão Linear e Lasso, utilizando técnicas de pré-processamento como transformação Box-Cox e seleção de variáveis. O objetivo é avaliar o desempenho dos modelos em termos de métricas como RMSE e R², tanto nos datasets completos quanto após a remoção de outliers das questões do Enem (vetorizadas).\n"
   ]
  },
  {
   "cell_type": "code",
   "execution_count": 7,
   "metadata": {
    "id": "_6w21yiNqr3R"
   },
   "outputs": [
    {
     "ename": "ImportError",
     "evalue": "cannot import name 'root_mean_squared_error' from 'sklearn.metrics' (/home/gustavo/miniconda3/lib/python3.9/site-packages/sklearn/metrics/__init__.py)",
     "output_type": "error",
     "traceback": [
      "\u001b[0;31m---------------------------------------------------------------------------\u001b[0m",
      "\u001b[0;31mImportError\u001b[0m                               Traceback (most recent call last)",
      "Input \u001b[0;32mIn [7]\u001b[0m, in \u001b[0;36m<cell line: 8>\u001b[0;34m()\u001b[0m\n\u001b[1;32m      5\u001b[0m \u001b[38;5;28;01mimport\u001b[39;00m \u001b[38;5;21;01mstatsmodels\u001b[39;00m\u001b[38;5;21;01m.\u001b[39;00m\u001b[38;5;21;01mapi\u001b[39;00m \u001b[38;5;28;01mas\u001b[39;00m \u001b[38;5;21;01msm\u001b[39;00m\n\u001b[1;32m      7\u001b[0m \u001b[38;5;28;01mfrom\u001b[39;00m \u001b[38;5;21;01msklearn\u001b[39;00m\u001b[38;5;21;01m.\u001b[39;00m\u001b[38;5;21;01mmodel_selection\u001b[39;00m \u001b[38;5;28;01mimport\u001b[39;00m train_test_split\n\u001b[0;32m----> 8\u001b[0m \u001b[38;5;28;01mfrom\u001b[39;00m \u001b[38;5;21;01msklearn\u001b[39;00m\u001b[38;5;21;01m.\u001b[39;00m\u001b[38;5;21;01mmetrics\u001b[39;00m \u001b[38;5;28;01mimport\u001b[39;00m root_mean_squared_error\n\u001b[1;32m      9\u001b[0m \u001b[38;5;28;01mfrom\u001b[39;00m \u001b[38;5;21;01msklearn\u001b[39;00m\u001b[38;5;21;01m.\u001b[39;00m\u001b[38;5;21;01mlinear_model\u001b[39;00m \u001b[38;5;28;01mimport\u001b[39;00m LassoCV\n",
      "\u001b[0;31mImportError\u001b[0m: cannot import name 'root_mean_squared_error' from 'sklearn.metrics' (/home/gustavo/miniconda3/lib/python3.9/site-packages/sklearn/metrics/__init__.py)"
     ]
    }
   ],
   "source": [
    "# Importando Dependências para Modelos de Regressão\n",
    "import pandas as pd\n",
    "import numpy as np\n",
    "from scipy import stats\n",
    "import statsmodels.api as sm\n",
    "\n",
    "from sklearn.model_selection import train_test_split\n",
    "from sklearn.metrics import root_mean_squared_error\n",
    "from sklearn.linear_model import LassoCV"
   ]
  },
  {
   "cell_type": "code",
   "execution_count": null,
   "metadata": {
    "id": "_hnPhtdhq8zZ"
   },
   "outputs": [],
   "source": [
    "# Leitura dos dados\n",
    "enem_data = pd.read_csv(\"../data/final/enem_data_embeddings_v2.csv\")\n",
    "enem_data.head()"
   ]
  },
  {
   "cell_type": "code",
   "execution_count": null,
   "metadata": {},
   "outputs": [],
   "source": [
    "enem_data = enem_data[enem_data[\"nu_param_B\"].notna()]"
   ]
  },
  {
   "cell_type": "markdown",
   "metadata": {
    "id": "9yDKd1I7nlzI"
   },
   "source": [
    "---\n",
    "\n",
    "## 6.1. Embeddings de 300 Dimensões\n"
   ]
  },
  {
   "cell_type": "code",
   "execution_count": null,
   "metadata": {
    "id": "nqP2q7UJwiIy"
   },
   "outputs": [],
   "source": [
    "# Coletando os dados\n",
    "X_300 = [\n",
    "    np.array(embedding) for embedding in enem_data[\"enunciado_embbedings_word2vec_300\"]\n",
    "]  # Somente Embeddings 300\n",
    "\n",
    "y_300 = enem_data[\"nu_param_B\"]  # Parâmetro de Dificuldade (B)"
   ]
  },
  {
   "cell_type": "code",
   "execution_count": null,
   "metadata": {
    "colab": {
     "base_uri": "https://localhost:8080/"
    },
    "id": "xNHc_uJjtwNE",
    "outputId": "37cfa564-e733-4ead-c9be-5dd387d0c6f4"
   },
   "outputs": [],
   "source": [
    "# Aplicando Transformações\n",
    "add_list = [(y_300.min() * (-1)) + 1] * len(y_300)\n",
    "y_300 = y_300 + add_list\n",
    "\n",
    "# Aplicando Box-Cox\n",
    "y_300, best_lambda = stats.boxcox(y_300)\n",
    "print(best_lambda)"
   ]
  },
  {
   "cell_type": "markdown",
   "metadata": {
    "id": "6uh5vrIBPNVq"
   },
   "source": [
    "### 6.1.1. Regressão Linear\n"
   ]
  },
  {
   "cell_type": "code",
   "execution_count": null,
   "metadata": {
    "id": "NNt-aXkwuDJ3"
   },
   "outputs": [],
   "source": [
    "# Separando em conjunto de treino e teste\n",
    "X_train_300, X_test_300, y_train_300, y_test_300 = train_test_split(\n",
    "    X_300, y_300, test_size=0.3, random_state=42\n",
    ")"
   ]
  },
  {
   "cell_type": "code",
   "execution_count": null,
   "metadata": {
    "id": "pMpG0hp4uXBT"
   },
   "outputs": [],
   "source": [
    "# Adicionando constante\n",
    "X_train_300 = sm.add_constant(X_train_300)\n",
    "X_test_300 = sm.add_constant(X_test_300)"
   ]
  },
  {
   "cell_type": "code",
   "execution_count": null,
   "metadata": {
    "id": "dWMA06PvUH2h"
   },
   "outputs": [],
   "source": [
    "# Criando o modelo e realizando predição\n",
    "linear_model_300 = sm.OLS(y_train_300, X_train_300).fit()\n",
    "prediction_linear_model_300 = linear_model_300.predict(X_test_300)"
   ]
  },
  {
   "cell_type": "code",
   "execution_count": null,
   "metadata": {
    "colab": {
     "base_uri": "https://localhost:8080/"
    },
    "id": "KGLZb7OVXEat",
    "outputId": "da533f15-e011-46f8-ca87-164c6164593e"
   },
   "outputs": [],
   "source": [
    "# Cálculo do RMSE\n",
    "rmse_300 = root_mean_squared_error(y_test_300, prediction_linear_model_300)\n",
    "print(\"RMSE: \", rmse_300)"
   ]
  },
  {
   "cell_type": "code",
   "execution_count": null,
   "metadata": {
    "colab": {
     "base_uri": "https://localhost:8080/"
    },
    "id": "0B3Z6oieuaoY",
    "outputId": "0c4a5c5a-8908-4d5e-ff7f-e7c239b5290a"
   },
   "outputs": [],
   "source": [
    "# Visualização do modelo e resultados\n",
    "print(linear_model_300.summary(alpha=0.05))"
   ]
  },
  {
   "cell_type": "markdown",
   "metadata": {
    "id": "6edr9mQUVh3I"
   },
   "source": [
    "### 6.1.2. Regressão Lasso\n"
   ]
  },
  {
   "cell_type": "code",
   "execution_count": null,
   "metadata": {
    "id": "xELarPZWARUM"
   },
   "outputs": [],
   "source": [
    "# Separando em conjunto de treino e teste\n",
    "X_train_300_lasso, X_test_300_lasso, y_train_300_lasso, y_test_300_lasso = (\n",
    "    train_test_split(X_300, y_300, test_size=0.3, random_state=42)\n",
    ")"
   ]
  },
  {
   "cell_type": "code",
   "execution_count": null,
   "metadata": {
    "colab": {
     "base_uri": "https://localhost:8080/"
    },
    "id": "cZXzijAqAulu",
    "outputId": "7d3f9c03-0fe9-40b9-971c-6e953b56d4e0"
   },
   "outputs": [],
   "source": [
    "lasso_model_300 = LassoCV(alphas=[0.0001, 0.001, 0.01, 0.1, 1, 10], random_state=0).fit(\n",
    "    X_train_300_lasso, y_train_300_lasso\n",
    ")\n",
    "pred_lasso_model_300 = lasso_model_300.predict(X_test_300_lasso)\n",
    "\n",
    "print(\"Melhor R2 Score:\", lasso_model_300.score(X_train_300_lasso, y_train_300_lasso))\n",
    "print(\"Melhor Alpha:\", lasso_model_300.alpha_)\n",
    "print(\n",
    "    \"RMSE com o alpha escolhido:\",\n",
    "    root_mean_squared_error(y_test_300_lasso, pred_lasso_model_300),\n",
    ")"
   ]
  },
  {
   "cell_type": "markdown",
   "metadata": {
    "id": "ymuphfwXPQq1"
   },
   "source": [
    "### 6.1.3. Regressões com Corte (-3,3)\n"
   ]
  },
  {
   "cell_type": "code",
   "execution_count": null,
   "metadata": {
    "id": "wKhN77GlQFq7"
   },
   "outputs": [],
   "source": [
    "# Aplicando corte de dificuldade sugerido pelo artigo motivador (-3, 3)\n",
    "enem_filtered = enem_data.copy()\n",
    "\n",
    "enem_filtered = enem_filtered[\n",
    "    (enem_filtered[\"nu_param_B\"] >= -3) & (enem_filtered[\"nu_param_B\"] <= 3)\n",
    "]\n",
    "enem_filtered[\"nu_param_B\"].describe()"
   ]
  },
  {
   "cell_type": "code",
   "execution_count": null,
   "metadata": {
    "id": "GKo9iv3cPUOx"
   },
   "outputs": [],
   "source": [
    "# Coletando os dados\n",
    "X_300_filtered = [\n",
    "    np.array(embedding)\n",
    "    for embedding in enem_filtered[\"enunciado_embbedings_word2vec_300\"]\n",
    "]\n",
    "y_300_filtered = enem_filtered[\"nu_param_B\"]"
   ]
  },
  {
   "cell_type": "code",
   "execution_count": null,
   "metadata": {
    "colab": {
     "base_uri": "https://localhost:8080/"
    },
    "id": "1zSIVR6VQEZ8",
    "outputId": "5f14863d-5b54-4001-9a24-84eb1d000776"
   },
   "outputs": [],
   "source": [
    "# Aplicando Transformações\n",
    "add_list = [(y_300_filtered.min() * (-1)) + 1] * len(y_300_filtered)\n",
    "y_300_filtered = y_300_filtered + add_list\n",
    "\n",
    "# Aplicando Boxcox\n",
    "y_300_filtered, best_lambda = stats.boxcox(y_300_filtered)\n",
    "print(best_lambda)"
   ]
  },
  {
   "cell_type": "markdown",
   "metadata": {},
   "source": [
    "### 6.1.3.A) Regressão Linear\n"
   ]
  },
  {
   "cell_type": "code",
   "execution_count": null,
   "metadata": {
    "id": "W8FOsJOBRoe3"
   },
   "outputs": [],
   "source": [
    "# Dividindo os dados em treino e teste\n",
    "X_train_300_filtered, X_test_300_filtered, y_train_300_filtered, y_test_300_filtered = (\n",
    "    train_test_split(X_300_filtered, y_300_filtered, test_size=0.3, random_state=42)\n",
    ")"
   ]
  },
  {
   "cell_type": "code",
   "execution_count": null,
   "metadata": {
    "id": "9P30xp6VRs_j"
   },
   "outputs": [],
   "source": [
    "# Adicionando constante\n",
    "X_train_300_filtered = sm.add_constant(X_train_300_filtered)\n",
    "X_test_300_filtered = sm.add_constant(X_test_300_filtered)"
   ]
  },
  {
   "cell_type": "code",
   "execution_count": null,
   "metadata": {
    "id": "L1sR1TjVrGxk"
   },
   "outputs": [],
   "source": [
    "# Criando o modelo e realizando a predição\n",
    "linear_model_300_filtered = sm.OLS(y_train_300_filtered, X_train_300_filtered).fit()\n",
    "pred_linear_model_300_filtered = linear_model_300_filtered.predict(X_test_300_filtered)"
   ]
  },
  {
   "cell_type": "code",
   "execution_count": null,
   "metadata": {
    "colab": {
     "base_uri": "https://localhost:8080/"
    },
    "id": "wCFhymqgRvn8",
    "outputId": "1fbc8a0e-12fc-4a0b-9a7a-28dd2a41222d"
   },
   "outputs": [],
   "source": [
    "# Cálculo do RMSE\n",
    "rms = root_mean_squared_error(y_test_300_filtered, pred_linear_model_300_filtered)\n",
    "print(\"RMSE:\", rms)"
   ]
  },
  {
   "cell_type": "code",
   "execution_count": null,
   "metadata": {
    "colab": {
     "base_uri": "https://localhost:8080/"
    },
    "id": "5ZdKgcfgR9U3",
    "outputId": "a58e5f03-19b5-4b79-96df-3d5992daebf0"
   },
   "outputs": [],
   "source": [
    "print(linear_model_300_filtered.summary(alpha=0.05))"
   ]
  },
  {
   "cell_type": "markdown",
   "metadata": {},
   "source": [
    "### 6.1.3.B) Regressão Lasso\n"
   ]
  },
  {
   "cell_type": "code",
   "execution_count": null,
   "metadata": {},
   "outputs": [],
   "source": [
    "# Dividindo os dados em treino e teste\n",
    "(\n",
    "    X_train_300_filtered_lasso,\n",
    "    X_test_300_filtered_lasso,\n",
    "    y_train_300_filtered_lasso,\n",
    "    y_test_300_filtered_lasso,\n",
    ") = train_test_split(X_300_filtered, y_300_filtered, test_size=0.3, random_state=42)"
   ]
  },
  {
   "cell_type": "code",
   "execution_count": null,
   "metadata": {},
   "outputs": [],
   "source": [
    "lasso_model_300_filtered = LassoCV(\n",
    "    alphas=[0.0001, 0.001, 0.01, 0.1, 1, 10, 100], random_state=0, tol=0.1\n",
    ").fit(X_train_300_filtered_lasso, y_train_300_filtered_lasso)\n",
    "\n",
    "pred_300_lasso_filtered = lasso_model_300_filtered.predict(X_test_300_filtered_lasso)\n",
    "\n",
    "print(\n",
    "    \"Melhor R2 score:\",\n",
    "    lasso_model_300_filtered.score(\n",
    "        X_train_300_filtered_lasso, y_train_300_filtered_lasso\n",
    "    ),\n",
    ")\n",
    "print(\"Melhor Alpha:\", lasso_model_300_filtered.alpha_)\n",
    "print(\n",
    "    \"RMSE com o Alpha escolhido:\",\n",
    "    root_mean_squared_error(y_test_300_filtered_lasso, pred_300_lasso_filtered),\n",
    ")"
   ]
  },
  {
   "cell_type": "markdown",
   "metadata": {},
   "source": [
    "### 6.1.4. LLM & Similaridade Features\n"
   ]
  },
  {
   "cell_type": "code",
   "execution_count": null,
   "metadata": {},
   "outputs": [],
   "source": [
    "# Coletando os dados\n",
    "y_300_all_features = enem_data[\"nu_param_B\"]\n",
    "X_300_all_features = [\n",
    "    np.concatenate(\n",
    "        [\n",
    "            np.array(embedding),\n",
    "            [\n",
    "                acerto_deepseek,\n",
    "                acerto_llamma,\n",
    "                similaridade_enunciado_gabarito_300,\n",
    "                similaridade_enunciado_distratores_300,\n",
    "                similaridade_gabarito_distratores_300,\n",
    "            ],\n",
    "        ]\n",
    "    )\n",
    "    for embedding, similaridade_enunciado_gabarito_300, similaridade_enunciado_distratores_300, similaridade_gabarito_distratores_300 in zip(\n",
    "        enem_data[\"enunciado_embbedings_word2vec_300\"],\n",
    "        enem_data[\"similaridade_enunciado_gabarito_300\"],\n",
    "        enem_data[\"similaridade_enunciado_distratores_300\"],\n",
    "        enem_data[\"similaridade_gabarito_distratores_300\"],\n",
    "    )\n",
    "]"
   ]
  },
  {
   "cell_type": "code",
   "execution_count": null,
   "metadata": {},
   "outputs": [],
   "source": [
    "# Aplicando Transformações\n",
    "add_list = [(y_300_all_features.min() * (-1)) + 1] * len(y_300_all_features)\n",
    "y_300_all_features = y_300_all_features + add_list\n",
    "\n",
    "# Aplicando Boxcox\n",
    "y_300_all_features, best_lambda = stats.boxcox(y_300_all_features)\n",
    "print(best_lambda)"
   ]
  },
  {
   "cell_type": "markdown",
   "metadata": {},
   "source": [
    "### 6.1.4.A) Regressão linear\n"
   ]
  },
  {
   "cell_type": "code",
   "execution_count": null,
   "metadata": {},
   "outputs": [],
   "source": [
    "# Separando em conjunto de treino e teste\n",
    "\n",
    "(\n",
    "    X_train_300_all_features,\n",
    "    X_test_300_all_features,\n",
    "    y_train_300_all_features,\n",
    "    y_test_300_all_features,\n",
    ") = train_test_split(\n",
    "    X_300_all_features, y_300_all_features, test_size=0.3, random_state=42\n",
    ")"
   ]
  },
  {
   "cell_type": "code",
   "execution_count": null,
   "metadata": {},
   "outputs": [],
   "source": [
    "# Adicionando constante\n",
    "X_train_300_all_features = sm.add_constant(X_train_300_all_features)\n",
    "X_test_300_all_features = sm.add_constant(X_test_300_all_features)"
   ]
  },
  {
   "cell_type": "code",
   "execution_count": null,
   "metadata": {},
   "outputs": [],
   "source": [
    "# Criando o modelo e realizando predição\n",
    "linear_model_300_all_features = sm.OLS(\n",
    "    y_train_300_all_features, X_train_300_all_features\n",
    ").fit()\n",
    "pred_linear_model_300_all_features = linear_model_300_all_features.predict(\n",
    "    X_test_300_all_features\n",
    ")"
   ]
  },
  {
   "cell_type": "code",
   "execution_count": null,
   "metadata": {},
   "outputs": [],
   "source": [
    "# Cálculo do RMSE\n",
    "rms = root_mean_squared_error(y_test_300_all_features, pred_linear_model_300_all_features)\n",
    "print(\"RMSE\", rms)"
   ]
  },
  {
   "cell_type": "code",
   "execution_count": null,
   "metadata": {},
   "outputs": [],
   "source": [
    "print(linear_model_300_all_features.summary(alpha=0.05))"
   ]
  },
  {
   "cell_type": "markdown",
   "metadata": {},
   "source": [
    "### 6.1.4.B) Lasso\n"
   ]
  },
  {
   "cell_type": "code",
   "execution_count": null,
   "metadata": {},
   "outputs": [],
   "source": [
    "# Separando em conjunto de treino e teste\n",
    "(\n",
    "    X_train_300_lasso_all_features,\n",
    "    X_test_300_lasso_all_features,\n",
    "    y_train_300_lasso_all_features,\n",
    "    y_test_300_lasso_all_features,\n",
    ") = train_test_split(\n",
    "    X_300_all_features, y_300_all_features, test_size=0.3, random_state=42\n",
    ")"
   ]
  },
  {
   "cell_type": "code",
   "execution_count": null,
   "metadata": {},
   "outputs": [],
   "source": [
    "lasso_model_all_features_300 = LassoCV(\n",
    "    alphas=[0.0001, 0.001, 0.01, 0.1, 1, 10], random_state=0\n",
    ").fit(X_train_300_lasso_all_features, y_train_300_lasso_all_features)\n",
    "\n",
    "pred_300_lasso_all_features = lasso_model_all_features_300.predict(\n",
    "    X_test_300_lasso_all_features\n",
    ")\n",
    "\n",
    "print(\n",
    "    \"melhor r2 score:\",\n",
    "    lasso_model_all_features_300.score(\n",
    "        X_train_300_lasso_all_features, y_train_300_lasso_all_features\n",
    "    ),\n",
    ")\n",
    "print(\"melhor alpha:\", lasso_model_all_features_300.alpha_)\n",
    "print(\n",
    "    \"RMSE com o alpha escolhido:\",\n",
    "    root_mean_squared_error(y_test_300_lasso_all_features, pred_300_lasso_all_features),\n",
    ")"
   ]
  },
  {
   "cell_type": "markdown",
   "metadata": {},
   "source": [
    "---\n",
    "\n",
    "## 6.2. Embeddings de 100 Dimensões\n"
   ]
  },
  {
   "cell_type": "code",
   "execution_count": null,
   "metadata": {},
   "outputs": [],
   "source": [
    "# Coletando os dados\n",
    "X_100 = [\n",
    "    np.array(embedding) for embedding in enem_data[\"enunciado_embbedings_word2vec_100\"]\n",
    "]  # Somente Embeddings\n",
    "\n",
    "y_100 = enem_data[\"nu_param_B\"]  # Parâmetro de Dificuldade (B)"
   ]
  },
  {
   "cell_type": "code",
   "execution_count": null,
   "metadata": {},
   "outputs": [],
   "source": [
    "# Aplicando Transformações\n",
    "add_list = [(y_100.min() * (-1)) + 1] * len(y_100)\n",
    "y_100 = y_100 + add_list\n",
    "\n",
    "# Aplicando Box-Cox\n",
    "y_100, best_lambda = stats.boxcox(y_100)\n",
    "print(best_lambda)"
   ]
  },
  {
   "cell_type": "markdown",
   "metadata": {},
   "source": [
    "### 6.2.1. Regressão Linear\n"
   ]
  },
  {
   "cell_type": "code",
   "execution_count": null,
   "metadata": {},
   "outputs": [],
   "source": [
    "# Separando em conjunto de treino e teste\n",
    "X_train_100, X_test_100, y_train_100, y_test_100 = train_test_split(\n",
    "    X_100, y_100, test_size=0.3, random_state=42\n",
    ")"
   ]
  },
  {
   "cell_type": "code",
   "execution_count": null,
   "metadata": {},
   "outputs": [],
   "source": [
    "# Adicionando constante\n",
    "X_train_100 = sm.add_constant(X_train_100)\n",
    "X_test_100 = sm.add_constant(X_test_100)"
   ]
  },
  {
   "cell_type": "code",
   "execution_count": null,
   "metadata": {},
   "outputs": [],
   "source": [
    "# Criando o modelo e realizando predição\n",
    "linear_model_100 = sm.OLS(y_train_100, X_train_100).fit()\n",
    "pred_linear_model_100 = linear_model_100.predict(X_test_100)"
   ]
  },
  {
   "cell_type": "code",
   "execution_count": null,
   "metadata": {},
   "outputs": [],
   "source": [
    "# Cálculo do RMSE\n",
    "rms = root_mean_squared_error(y_test_100, pred_linear_model_100)\n",
    "print(\"RMSE: \", rms)"
   ]
  },
  {
   "cell_type": "code",
   "execution_count": null,
   "metadata": {},
   "outputs": [],
   "source": [
    "# Visualização do modelo e resultados\n",
    "print(linear_model_100.summary(alpha=0.05))"
   ]
  },
  {
   "cell_type": "markdown",
   "metadata": {},
   "source": [
    "### 6.2.2. Regressão Lasso\n"
   ]
  },
  {
   "cell_type": "code",
   "execution_count": null,
   "metadata": {},
   "outputs": [],
   "source": [
    "# Separando em conjunto de treino e teste\n",
    "X_train_100_lasso, X_test_100_lasso, y_train_100_lasso, y_test_100_lasso = (\n",
    "    train_test_split(X_100, y_100, test_size=0.3, random_state=42)\n",
    ")"
   ]
  },
  {
   "cell_type": "code",
   "execution_count": null,
   "metadata": {},
   "outputs": [],
   "source": [
    "model_lasso = LassoCV(alphas=[0.0001, 0.001, 0.01, 0.1, 1, 10], random_state=0).fit(\n",
    "    X_train_100_lasso, y_train_100_lasso\n",
    ")\n",
    "pred_lasso = model_lasso.predict(X_test_100_lasso)\n",
    "\n",
    "print(\"Melhor R2 Score:\", model_lasso.score(X_train_100_lasso, y_train_100_lasso))\n",
    "print(\"Melhor Alpha:\", model_lasso.alpha_)\n",
    "print(\n",
    "    \"RMSE com o alpha escolhido:\", root_mean_squared_error(y_test_100_lasso, pred_lasso)\n",
    ")"
   ]
  },
  {
   "cell_type": "markdown",
   "metadata": {},
   "source": [
    "### 6.2.3. Regressões com Corte (-3,3)\n"
   ]
  },
  {
   "cell_type": "code",
   "execution_count": null,
   "metadata": {},
   "outputs": [],
   "source": [
    "# Aplicando corte de dificuldade sugerido pelo artigo motivador (-3, 3)\n",
    "enem_filtered = enem_data.copy()\n",
    "\n",
    "enem_filtered = enem_filtered[\n",
    "    (enem_filtered[\"nu_param_B\"] >= -3) & (enem_filtered[\"nu_param_B\"] <= 3)\n",
    "]\n",
    "enem_filtered[\"nu_param_B\"].describe()"
   ]
  },
  {
   "cell_type": "code",
   "execution_count": null,
   "metadata": {},
   "outputs": [],
   "source": [
    "# Coletando os dados\n",
    "X_100_filtered = [\n",
    "    np.array(embedding)\n",
    "    for embedding in enem_filtered[\"enunciado_embbedings_word2vec_100\"]\n",
    "]\n",
    "y_100_filtered = enem_filtered[\"nu_param_B\"]"
   ]
  },
  {
   "cell_type": "code",
   "execution_count": null,
   "metadata": {},
   "outputs": [],
   "source": [
    "# Aplicando Transformações\n",
    "add_list = [(y_100_filtered.min() * (-1)) + 1] * len(y_100_filtered)\n",
    "y_100_filtered = y_100_filtered + add_list\n",
    "\n",
    "# Aplicando Boxcox\n",
    "y_100_filtered, best_lambda = stats.boxcox(y_100_filtered)\n",
    "print(best_lambda)"
   ]
  },
  {
   "cell_type": "markdown",
   "metadata": {},
   "source": [
    "### 6.2.3.A) Regressão Linear\n"
   ]
  },
  {
   "cell_type": "code",
   "execution_count": null,
   "metadata": {},
   "outputs": [],
   "source": [
    "# Dividindo os dados em treino e teste\n",
    "X_train_100_filtered, X_test_100_filtered, y_train_100_filtered, y_test_100_filtered = (\n",
    "    train_test_split(X_100_filtered, y_100_filtered, test_size=0.3, random_state=42)\n",
    ")"
   ]
  },
  {
   "cell_type": "code",
   "execution_count": null,
   "metadata": {},
   "outputs": [],
   "source": [
    "# Adicionando constante\n",
    "X_train_100_filtered = sm.add_constant(X_train_100_filtered)\n",
    "X_test_100_filtered = sm.add_constant(X_test_100_filtered)"
   ]
  },
  {
   "cell_type": "code",
   "execution_count": null,
   "metadata": {},
   "outputs": [],
   "source": [
    "# Criando o modelo e realizando a predição\n",
    "linear_model_100_filtered = sm.OLS(y_train_100_filtered, X_train_100_filtered).fit()\n",
    "pred_linear_model_100_filtered = linear_model_100_filtered.predict(X_test_100_filtered)"
   ]
  },
  {
   "cell_type": "code",
   "execution_count": null,
   "metadata": {},
   "outputs": [],
   "source": [
    "# Cálculo do RMSE\n",
    "rms = root_mean_squared_error(y_test_100_filtered, pred_linear_model_100_filtered)\n",
    "print(\"RMSE:\", rms)"
   ]
  },
  {
   "cell_type": "code",
   "execution_count": null,
   "metadata": {},
   "outputs": [],
   "source": [
    "print(linear_model_100_filtered.summary(alpha=0.05))"
   ]
  },
  {
   "cell_type": "markdown",
   "metadata": {},
   "source": [
    "### 6.2.3.B) Regressão Lasso\n"
   ]
  },
  {
   "cell_type": "code",
   "execution_count": null,
   "metadata": {},
   "outputs": [],
   "source": [
    "# Dividindo os dados em treino e teste\n",
    "(\n",
    "    X_train_100_filtered_lasso,\n",
    "    X_test_100_filtered_lasso,\n",
    "    y_train_100_filtered_lasso,\n",
    "    y_test_100_filtered_lasso,\n",
    ") = train_test_split(X_100_filtered, y_100_filtered, test_size=0.3, random_state=42)"
   ]
  },
  {
   "cell_type": "code",
   "execution_count": null,
   "metadata": {},
   "outputs": [],
   "source": [
    "lasso_model_100_filtered = LassoCV(\n",
    "    alphas=[0.0001, 0.001, 0.01, 0.1, 1, 10, 100], random_state=0, tol=0.1\n",
    ").fit(X_train_100_filtered_lasso, y_train_100_filtered_lasso)\n",
    "\n",
    "pred_lasso_filtered_100 = lasso_model_100_filtered.predict(X_test_100_filtered_lasso)\n",
    "\n",
    "print(\n",
    "    \"Melhor R2 score:\",\n",
    "    lasso_model_100_filtered.score(\n",
    "        X_train_100_filtered_lasso, y_train_100_filtered_lasso\n",
    "    ),\n",
    ")\n",
    "print(\"Melhor Alpha:\", lasso_model_100_filtered.alpha_)\n",
    "print(\n",
    "    \"RMSE com o Alpha escolhido:\",\n",
    "    root_mean_squared_error(y_test_100_filtered_lasso, pred_lasso_filtered_100),\n",
    ")"
   ]
  },
  {
   "cell_type": "markdown",
   "metadata": {},
   "source": [
    "### 6.2.4. LLM & Similaridade Features\n"
   ]
  },
  {
   "cell_type": "code",
   "execution_count": null,
   "metadata": {},
   "outputs": [],
   "source": [
    "# Coletando os dados\n",
    "y_100_all_features = enem_data[\"nu_param_B\"]\n",
    "X_100_all_features = [\n",
    "    np.concatenate(\n",
    "        [\n",
    "            np.array(embedding),\n",
    "            [\n",
    "                acerto_deepseek,\n",
    "                acerto_llamma,\n",
    "                similaridade_enunciado_gabarito_100,\n",
    "                similaridade_enunciado_distratores_100,\n",
    "                similaridade_gabarito_distratores_100,\n",
    "            ],\n",
    "        ]\n",
    "    )\n",
    "    for embedding, similaridade_enunciado_gabarito_100, similaridade_enunciado_distratores_100, similaridade_gabarito_distratores_100 in zip(\n",
    "        enem_data[\"enunciado_embbedings_word2vec_100\"],\n",
    "        enem_data[\"similaridade_enunciado_gabarito_100\"],\n",
    "        enem_data[\"similaridade_enunciado_distratores_100\"],\n",
    "        enem_data[\"similaridade_gabarito_distratores_100\"],\n",
    "    )\n",
    "]"
   ]
  },
  {
   "cell_type": "code",
   "execution_count": null,
   "metadata": {},
   "outputs": [],
   "source": [
    "# Aplicando Transformações\n",
    "add_list = [(y_100_all_features.min() * (-1)) + 1] * len(y_100_all_features)\n",
    "y_100_all_features = y_100_all_features + add_list\n",
    "\n",
    "# Aplicando Boxcox\n",
    "y_100_all_features, best_lambda = stats.boxcox(y_100_all_features)\n",
    "print(best_lambda)"
   ]
  },
  {
   "cell_type": "markdown",
   "metadata": {},
   "source": [
    "### 6.2.4.A) Regressão linear\n"
   ]
  },
  {
   "cell_type": "code",
   "execution_count": null,
   "metadata": {},
   "outputs": [],
   "source": [
    "# Separando em conjunto de treino e teste\n",
    "\n",
    "(\n",
    "    X_train_100_all_features,\n",
    "    X_test_100_all_features,\n",
    "    y_train_100_all_features,\n",
    "    y_test_100_all_features,\n",
    ") = train_test_split(\n",
    "    X_100_all_features, y_100_all_features, test_size=0.3, random_state=42\n",
    ")"
   ]
  },
  {
   "cell_type": "code",
   "execution_count": null,
   "metadata": {},
   "outputs": [],
   "source": [
    "# Adicionando constante\n",
    "X_train_100_all_features = sm.add_constant(X_train_100_all_features)\n",
    "X_test_100_all_features = sm.add_constant(X_test_100_all_features)"
   ]
  },
  {
   "cell_type": "code",
   "execution_count": null,
   "metadata": {},
   "outputs": [],
   "source": [
    "# Criando o modelo e realizando predição\n",
    "linear_model_100_all_features = sm.OLS(\n",
    "    y_train_100_all_features, X_train_100_all_features\n",
    ").fit()\n",
    "pred_linear_model_100_all_features = linear_model_100_all_features.predict(\n",
    "    X_test_100_all_features\n",
    ")"
   ]
  },
  {
   "cell_type": "code",
   "execution_count": null,
   "metadata": {},
   "outputs": [],
   "source": [
    "# Cálculo do RMSE\n",
    "rms = root_mean_squared_error(y_test_100_all_features, pred_linear_model_100_all_features)\n",
    "print(\"RMSE\", rms)"
   ]
  },
  {
   "cell_type": "code",
   "execution_count": null,
   "metadata": {},
   "outputs": [],
   "source": [
    "print(linear_model_100_all_features.summary(alpha=0.05))"
   ]
  },
  {
   "cell_type": "markdown",
   "metadata": {},
   "source": [
    "### 6.2.4.B) Lasso\n"
   ]
  },
  {
   "cell_type": "code",
   "execution_count": null,
   "metadata": {},
   "outputs": [],
   "source": [
    "# Separando em conjunto de treino e teste\n",
    "(\n",
    "    X_train_100_lasso_all_features,\n",
    "    X_test_100_lasso_all_features,\n",
    "    y_train_100_lasso_all_features,\n",
    "    y_test_100_lasso_all_features,\n",
    ") = train_test_split(\n",
    "    X_100_all_features, y_100_all_features, test_size=0.3, random_state=42\n",
    ")"
   ]
  },
  {
   "cell_type": "code",
   "execution_count": null,
   "metadata": {},
   "outputs": [],
   "source": [
    "lasso_model_all_features_100 = LassoCV(\n",
    "    alphas=[0.0001, 0.001, 0.01, 0.1, 1, 10], random_state=0\n",
    ").fit(X_train_100_lasso_all_features, y_train_100_lasso_all_features)\n",
    "\n",
    "pred_100_lasso_all_features = lasso_model_all_features_100.predict(\n",
    "    X_test_100_lasso_all_features\n",
    ")\n",
    "\n",
    "print(\n",
    "    \"melhor r2 score:\",\n",
    "    lasso_model_all_features_100.score(\n",
    "        X_train_100_lasso_all_features, y_train_100_lasso_all_features\n",
    "    ),\n",
    ")\n",
    "print(\"melhor alpha:\", lasso_model_all_features_100.alpha_)\n",
    "print(\n",
    "    \"RMSE com o alpha escolhido:\",\n",
    "    root_mean_squared_error(y_test_100_lasso_all_features, pred_100_lasso_all_features),\n",
    ")"
   ]
  },
  {
   "cell_type": "markdown",
   "metadata": {
    "id": "0RLy-LVuLfDd"
   },
   "source": [
    "---\n",
    "\n",
    "## 6.3. Embeddings de 50 Dimensões\n"
   ]
  },
  {
   "cell_type": "code",
   "execution_count": null,
   "metadata": {},
   "outputs": [],
   "source": [
    "# Coletando os dados\n",
    "X_50 = [\n",
    "    np.array(embedding) for embedding in enem_data[\"enunciado_embbedings_word2vec_50\"]\n",
    "]  # Somente Embeddings 50\n",
    "\n",
    "y_50 = enem_data[\"nu_param_B\"]  # Parâmetro de Dificuldade (B)"
   ]
  },
  {
   "cell_type": "code",
   "execution_count": null,
   "metadata": {},
   "outputs": [],
   "source": [
    "# Aplicando Transformações\n",
    "add_list = [(y_50.min() * (-1)) + 1] * len(y_50)\n",
    "y_50 = y_50 + add_list\n",
    "\n",
    "# Aplicando Box-Cox\n",
    "y_50, best_lambda = stats.boxcox(y_50)\n",
    "print(best_lambda)"
   ]
  },
  {
   "cell_type": "markdown",
   "metadata": {},
   "source": [
    "### 6.3.1. Regressão Linear\n"
   ]
  },
  {
   "cell_type": "code",
   "execution_count": null,
   "metadata": {},
   "outputs": [],
   "source": [
    "# Separando em conjunto de treino e teste\n",
    "X_train_50, X_test_50, y_train_50, y_test_50 = train_test_split(\n",
    "    X_50, y_50, test_size=0.3, random_state=42\n",
    ")"
   ]
  },
  {
   "cell_type": "code",
   "execution_count": null,
   "metadata": {},
   "outputs": [],
   "source": [
    "# Adicionando constante\n",
    "X_train_50 = sm.add_constant(X_train_50)\n",
    "X_test_50 = sm.add_constant(X_test_50)"
   ]
  },
  {
   "cell_type": "code",
   "execution_count": null,
   "metadata": {},
   "outputs": [],
   "source": [
    "# Criando o modelo e realizando predição\n",
    "linear_model_50 = sm.OLS(y_train_50, X_train_50).fit()\n",
    "pred_linear_model_50 = linear_model_50.predict(X_test_50)"
   ]
  },
  {
   "cell_type": "code",
   "execution_count": null,
   "metadata": {},
   "outputs": [],
   "source": [
    "# Cálculo do RMSE\n",
    "rms = root_mean_squared_error(y_test_50, pred_linear_model_50)\n",
    "print(\"RMSE: \", rms)"
   ]
  },
  {
   "cell_type": "code",
   "execution_count": null,
   "metadata": {},
   "outputs": [],
   "source": [
    "# Visualização do modelo e resultados\n",
    "print(linear_model_50.summary(alpha=0.05))"
   ]
  },
  {
   "cell_type": "markdown",
   "metadata": {},
   "source": [
    "### 6.3.2. Regressão Lasso\n"
   ]
  },
  {
   "cell_type": "code",
   "execution_count": null,
   "metadata": {},
   "outputs": [],
   "source": [
    "# Separando em conjunto de treino e teste\n",
    "X_train_50_lasso, X_test_50_lasso, y_train_50_lasso, y_test_50_lasso = train_test_split(\n",
    "    X_50, y_50, test_size=0.3, random_state=42\n",
    ")"
   ]
  },
  {
   "cell_type": "code",
   "execution_count": null,
   "metadata": {},
   "outputs": [],
   "source": [
    "lasso_model_50 = LassoCV(alphas=[0.0001, 0.001, 0.01, 0.1, 1, 10], random_state=0).fit(\n",
    "    X_train_50_lasso, y_train_50_lasso\n",
    ")\n",
    "pred_lasso_model_50 = lasso_model_50.predict(X_test_50_lasso)\n",
    "\n",
    "print(\"Melhor R2 Score:\", lasso_model_50.score(X_train_50_lasso, y_train_50_lasso))\n",
    "print(\"Melhor Alpha:\", lasso_model_50.alpha_)\n",
    "print(\n",
    "    \"RMSE com o alpha escolhido:\",\n",
    "    root_mean_squared_error(y_test_50_lasso, pred_lasso_model_50),\n",
    ")"
   ]
  },
  {
   "cell_type": "markdown",
   "metadata": {},
   "source": [
    "### 6.3.3. Regressões com Corte (-3,3)\n"
   ]
  },
  {
   "cell_type": "code",
   "execution_count": null,
   "metadata": {},
   "outputs": [],
   "source": [
    "# Aplicando corte de dificuldade sugerido pelo artigo motivador (-3, 3)\n",
    "enem_filtered = enem_data.copy()\n",
    "\n",
    "enem_filtered = enem_filtered[\n",
    "    (enem_filtered[\"nu_param_B\"] >= -3) & (enem_filtered[\"nu_param_B\"] <= 3)\n",
    "]\n",
    "enem_filtered[\"nu_param_B\"].describe()"
   ]
  },
  {
   "cell_type": "code",
   "execution_count": null,
   "metadata": {},
   "outputs": [],
   "source": [
    "# Coletando os dados\n",
    "X_50_filtered = [\n",
    "    np.array(embedding)\n",
    "    for embedding in enem_filtered[\"enunciado_embbedings_word2vec_50\"]\n",
    "]\n",
    "y_50_filtered = enem_filtered[\"nu_param_B\"]"
   ]
  },
  {
   "cell_type": "code",
   "execution_count": null,
   "metadata": {},
   "outputs": [],
   "source": [
    "# Aplicando Transformações\n",
    "add_list = [(y_50_filtered.min() * (-1)) + 1] * len(y_50_filtered)\n",
    "y_50_filtered = y_50_filtered + add_list\n",
    "\n",
    "# Aplicando Boxcox\n",
    "y_50_filtered, best_lambda = stats.boxcox(y_50_filtered)\n",
    "print(best_lambda)"
   ]
  },
  {
   "cell_type": "markdown",
   "metadata": {},
   "source": [
    "### 6.3.3.A) Regressão Linear\n"
   ]
  },
  {
   "cell_type": "code",
   "execution_count": null,
   "metadata": {},
   "outputs": [],
   "source": [
    "# Dividindo os dados em treino e teste\n",
    "X_train_50_filtered, X_test_50_filtered, y_train_50_filtered, y_test_50_filtered = (\n",
    "    train_test_split(X_50_filtered, y_50_filtered, test_size=0.3, random_state=42)\n",
    ")"
   ]
  },
  {
   "cell_type": "code",
   "execution_count": null,
   "metadata": {},
   "outputs": [],
   "source": [
    "# Adicionando constante\n",
    "X_train_50_filtered = sm.add_constant(X_train_50_filtered)\n",
    "X_test_50_filtered = sm.add_constant(X_test_50_filtered)"
   ]
  },
  {
   "cell_type": "code",
   "execution_count": null,
   "metadata": {},
   "outputs": [],
   "source": [
    "# Criando o modelo e realizando a predição\n",
    "linear_model_50_filtered = sm.OLS(y_train_50_filtered, X_train_50_filtered).fit()\n",
    "pred_linear_model_50_filtered = linear_model_50_filtered.predict(X_test_50_filtered)"
   ]
  },
  {
   "cell_type": "code",
   "execution_count": null,
   "metadata": {},
   "outputs": [],
   "source": [
    "# Cálculo do RMSE\n",
    "rms = root_mean_squared_error(y_test_50_filtered, pred_linear_model_50_filtered)\n",
    "print(\"RMSE:\", rms)"
   ]
  },
  {
   "cell_type": "code",
   "execution_count": null,
   "metadata": {},
   "outputs": [],
   "source": [
    "print(linear_model_50_filtered.summary(alpha=0.05))"
   ]
  },
  {
   "cell_type": "markdown",
   "metadata": {},
   "source": [
    "### 6.3.3.B) Regressão Lasso\n"
   ]
  },
  {
   "cell_type": "code",
   "execution_count": null,
   "metadata": {},
   "outputs": [],
   "source": [
    "# Dividindo os dados em treino e teste\n",
    "(\n",
    "    X_train_50_filtered_lasso,\n",
    "    X_test_50_filtered_lasso,\n",
    "    y_train_50_filtered_lasso,\n",
    "    y_test_50_filtered_lasso,\n",
    ") = train_test_split(X_50_filtered, y_50_filtered, test_size=0.3, random_state=42)"
   ]
  },
  {
   "cell_type": "code",
   "execution_count": null,
   "metadata": {},
   "outputs": [],
   "source": [
    "lasso_model_50_filtered = LassoCV(\n",
    "    alphas=[0.0001, 0.001, 0.01, 0.1, 1, 10, 100], random_state=0, tol=0.1\n",
    ").fit(X_train_50_filtered_lasso, y_train_50_filtered_lasso)\n",
    "\n",
    "pred_lasso_model_50_filtered = lasso_model_50_filtered.predict(X_test_50_filtered_lasso)\n",
    "\n",
    "print(\n",
    "    \"Melhor R2 score:\",\n",
    "    lasso_model_50_filtered.score(X_train_50_filtered_lasso, y_train_50_filtered_lasso),\n",
    ")\n",
    "print(\"Melhor Alpha:\", lasso_model_50_filtered.alpha_)\n",
    "print(\n",
    "    \"RMSE com o Alpha escolhido:\",\n",
    "    root_mean_squared_error(y_test_50_filtered_lasso, pred_lasso_model_50_filtered),\n",
    ")"
   ]
  },
  {
   "cell_type": "markdown",
   "metadata": {},
   "source": [
    "### 6.3.4. LLM & Similaridade Features\n"
   ]
  },
  {
   "cell_type": "code",
   "execution_count": null,
   "metadata": {},
   "outputs": [],
   "source": [
    "# Coletando os dados\n",
    "y_50_all_features = enem_data[\"nu_param_B\"]\n",
    "X_50_all_features = [\n",
    "    np.concatenate(\n",
    "        [\n",
    "            np.array(embedding),\n",
    "            [\n",
    "                acerto_deepseek,\n",
    "                acerto_llamma,\n",
    "                similaridade_enunciado_gabarito_50,\n",
    "                similaridade_enunciado_distratores_50,\n",
    "                similaridade_gabarito_distratores_50,\n",
    "            ],\n",
    "        ]\n",
    "    )\n",
    "    for embedding, similaridade_enunciado_gabarito_50, similaridade_enunciado_distratores_50, similaridade_gabarito_distratores_50 in zip(\n",
    "        enem_data[\"enunciado_embbedings_word2vec_50\"],\n",
    "        enem_data[\"similaridade_enunciado_gabarito_50\"],\n",
    "        enem_data[\"similaridade_enunciado_distratores_50\"],\n",
    "        enem_data[\"similaridade_gabarito_distratores_50\"],\n",
    "    )\n",
    "]"
   ]
  },
  {
   "cell_type": "code",
   "execution_count": null,
   "metadata": {},
   "outputs": [],
   "source": [
    "# Aplicando Transformações\n",
    "add_list = [(y_50_all_features.min() * (-1)) + 1] * len(y_50_all_features)\n",
    "y_50_all_features = y_50_all_features + add_list\n",
    "\n",
    "# Aplicando Boxcox\n",
    "y_50_all_features, best_lambda = stats.boxcox(y_50_all_features)\n",
    "print(best_lambda)"
   ]
  },
  {
   "cell_type": "markdown",
   "metadata": {},
   "source": [
    "### 6.3.4.A) Regressão linear\n"
   ]
  },
  {
   "cell_type": "code",
   "execution_count": null,
   "metadata": {},
   "outputs": [],
   "source": [
    "# Separando em conjunto de treino e teste\n",
    "\n",
    "(\n",
    "    X_train_50_all_features,\n",
    "    X_test_50_all_features,\n",
    "    y_train_50_all_features,\n",
    "    y_test_50_all_features,\n",
    ") = train_test_split(\n",
    "    X_50_all_features, y_50_all_features, test_size=0.3, random_state=42\n",
    ")"
   ]
  },
  {
   "cell_type": "code",
   "execution_count": null,
   "metadata": {},
   "outputs": [],
   "source": [
    "# Adicionando constante\n",
    "X_train_50_all_features = sm.add_constant(X_train_50_all_features)\n",
    "X_test_50_all_features = sm.add_constant(X_test_50_all_features)"
   ]
  },
  {
   "cell_type": "code",
   "execution_count": null,
   "metadata": {},
   "outputs": [],
   "source": [
    "# Criando o modelo e realizando predição\n",
    "linear_model_50_all_features = sm.OLS(\n",
    "    y_train_50_all_features, X_train_50_all_features\n",
    ").fit()\n",
    "pred_linear_model_50_all_features = linear_model_50_all_features.predict(\n",
    "    X_test_50_all_features\n",
    ")"
   ]
  },
  {
   "cell_type": "code",
   "execution_count": null,
   "metadata": {},
   "outputs": [],
   "source": [
    "# Cálculo do RMSE\n",
    "rms = root_mean_squared_error(y_test_50_all_features, pred_linear_model_50_all_features)\n",
    "print(\"RMSE\", rms)"
   ]
  },
  {
   "cell_type": "code",
   "execution_count": null,
   "metadata": {},
   "outputs": [],
   "source": [
    "print(linear_model_50_all_features.summary(alpha=0.05))"
   ]
  },
  {
   "cell_type": "markdown",
   "metadata": {},
   "source": [
    "### 6.3.4.B) Lasso\n"
   ]
  },
  {
   "cell_type": "code",
   "execution_count": null,
   "metadata": {},
   "outputs": [],
   "source": [
    "# Separando em conjunto de treino e teste\n",
    "(\n",
    "    X_train_50_lasso_all_features,\n",
    "    X_test_50_lasso_all_features,\n",
    "    y_train_50_lasso_all_features,\n",
    "    y_test_50_lasso_all_features,\n",
    ") = train_test_split(\n",
    "    X_50_all_features, y_50_all_features, test_size=0.3, random_state=42\n",
    ")"
   ]
  },
  {
   "cell_type": "code",
   "execution_count": null,
   "metadata": {},
   "outputs": [],
   "source": [
    "lasso_model_all_features_50 = LassoCV(\n",
    "    alphas=[0.0001, 0.001, 0.01, 0.1, 1, 10], random_state=0\n",
    ").fit(X_train_50_lasso_all_features, y_train_50_lasso_all_features)\n",
    "\n",
    "pred_50_lasso_all_features = lasso_model_all_features_50.predict(\n",
    "    X_test_50_lasso_all_features\n",
    ")\n",
    "\n",
    "print(\n",
    "    \"melhor r2 score:\",\n",
    "    lasso_model_all_features_50.score(\n",
    "        X_train_50_lasso_all_features, y_train_50_lasso_all_features\n",
    "    ),\n",
    ")\n",
    "print(\"melhor alpha:\", lasso_model_all_features_50.alpha_)\n",
    "print(\n",
    "    \"RMSE com o alpha escolhido:\",\n",
    "    root_mean_squared_error(y_test_50_lasso_all_features, pred_50_lasso_all_features),\n",
    ")"
   ]
  },
  {
   "cell_type": "markdown",
   "metadata": {},
   "source": [
    "---\n"
   ]
  }
 ],
 "metadata": {
  "colab": {
   "collapsed_sections": [
    "9yDKd1I7nlzI",
    "6uh5vrIBPNVq",
    "ymuphfwXPQq1",
    "CLE-fGKvuTnZ",
    "6edr9mQUVh3I",
    "WDLOC6GVVlW-",
    "0RLy-LVuLfDd",
    "fKYYw-TpLjsh",
    "0u14YSafMheC",
    "qboxrbAcMzbW",
    "5Hg8TiduMzbX",
    "tVooDn3gMzbb",
    "CeOj7oAnP9tK",
    "1wt15xn5Ziea",
    "bzFrkmVlZiea",
    "ZpNHuWrrZied",
    "cYzwgqixanzG",
    "WDg1CempanzH",
    "j7YAJg9JanzJ",
    "YG2xX56Z2dGO",
    "RPLe9sjM2dGP",
    "dNs-8rBm2dGR",
    "z3MwTkspAIr6",
    "-GkVFw2WAIr6",
    "KqIYJSpvAIr7"
   ],
   "provenance": []
  },
  "kernelspec": {
   "display_name": "Python 3 (ipykernel)",
   "language": "python",
   "name": "python3"
  },
  "language_info": {
   "codemirror_mode": {
    "name": "ipython",
    "version": 3
   },
   "file_extension": ".py",
   "mimetype": "text/x-python",
   "name": "python",
   "nbconvert_exporter": "python",
   "pygments_lexer": "ipython3",
   "version": "3.9.12"
  }
 },
 "nbformat": 4,
 "nbformat_minor": 1
}
