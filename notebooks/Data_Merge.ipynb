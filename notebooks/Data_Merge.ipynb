{
 "cells": [
  {
   "cell_type": "markdown",
   "metadata": {},
   "source": [
    "## Cruzamento dos Dados (Enunciado Questões + Microdados)\n",
    "\n",
    "* **Input**: Local do CSV de Questões Extraídas + Local do CSV de Microdados\n",
    "\n",
    "* **Output**: CSV com as colunas -> *numero_questao*, *enunciado*, *alternativas*, *nu_param_B* e *gabarito*"
   ]
  },
  {
   "cell_type": "code",
   "execution_count": null,
   "metadata": {},
   "outputs": [],
   "source": [
    "import pandas as pd"
   ]
  },
  {
   "cell_type": "code",
   "execution_count": 2,
   "metadata": {},
   "outputs": [],
   "source": [
    "# Definição de Variáveis de Input e Output\n",
    "year = \"2020\"\n",
    "\n",
    "question_path = f\"../data/extracted_questions/enem_{year}.csv\"\n",
    "microdados_path = f\"../data/microdados/microdados_{year}.csv\"\n",
    "output_path = f\"../data/merged_data/enem_{year}.csv\""
   ]
  },
  {
   "cell_type": "code",
   "execution_count": 3,
   "metadata": {},
   "outputs": [],
   "source": [
    "# Ler o CSV extraído do PDF (resultado de Text_Extraction.ipynb)\n",
    "df_questions = pd.read_csv(question_path, encoding=\"utf-8\", quotechar='\"')\n",
    "\n",
    "# Ler o CSV de microdados\n",
    "df_microdados = pd.read_csv(microdados_path, delimiter=\";\", encoding=\"latin1\")"
   ]
  },
  {
   "cell_type": "code",
   "execution_count": 12,
   "metadata": {},
   "outputs": [],
   "source": [
    "co_prova = {\n",
    "    \"2015\": 275,\n",
    "    \"2016\": 351,\n",
    "    \"2017\": 391,\n",
    "    \"2020\": 597,\n",
    "    \"2009\": 49,\n",
    "    \"2010\": 89,\n",
    "    \"2011\": 121\n",
    "}"
   ]
  },
  {
   "cell_type": "code",
   "execution_count": 5,
   "metadata": {},
   "outputs": [],
   "source": [
    "# Filtrar os microdados para SG_AREA 'CN', TX_COR 'AZUL' e CO_PROVA 'X'\n",
    "# ATENÇÃO: O Código da Prova para a Aplicação Regular muda a cada ano\n",
    "df_microdados_filtrado = df_microdados[\n",
    "    (df_microdados[\"SG_AREA\"] == \"H\")  # Ciência das Naturezas\n",
    "    & (df_microdados[\"TX_COR\"].str.upper() == \"AZUL\")  # Apenas caderno azul\n",
    "    & (df_microdados[\"CO_PROVA\"] == co_prova[year])  # Aplicação Regular\n",
    "]\n",
    "\n",
    "# Selecionar apenas as colunas de interesse dos microdados\n",
    "df_microdados_sel = df_microdados_filtrado[\n",
    "    [\"CO_POSICAO\", \"NU_PARAM_B\", \"TX_GABARITO\"]\n",
    "].copy()\n",
    "\n",
    "if year == \"2016\":\n",
    "    df_microdados_sel[\"CO_POSICAO\"] = df_microdados_sel[\"CO_POSICAO\"] - 45\n",
    "elif year == \"2017\":\n",
    "    df_microdados_sel[\"CO_POSICAO\"] = df_microdados_sel[\"CO_POSICAO\"] + 90"
   ]
  },
  {
   "cell_type": "code",
   "execution_count": 6,
   "metadata": {},
   "outputs": [],
   "source": [
    "# Certificar que os tipos das chaves de junção são compatíveis\n",
    "df_questions[\"numero_questao\"] = df_questions[\"numero_questao\"].astype(str)\n",
    "df_microdados_sel[\"CO_POSICAO\"] = df_microdados_sel[\"CO_POSICAO\"].astype(str)\n",
    "\n",
    "# Fazer o cruzamento usando o número da questão (numero_questao e CO_POSICAO)\n",
    "df_merged = pd.merge(\n",
    "    df_questions,\n",
    "    df_microdados_sel,\n",
    "    left_on=\"numero_questao\",\n",
    "    right_on=\"CO_POSICAO\",\n",
    "    how=\"left\",\n",
    ")"
   ]
  },
  {
   "cell_type": "code",
   "execution_count": null,
   "metadata": {},
   "outputs": [],
   "source": [
    "# Remover a coluna CO_POSICAO (redundante)\n",
    "df_merged.drop(columns=[\"CO_POSICAO\"], inplace=True)\n",
    "\n",
    "# Renomeando colunas\n",
    "df_merged.rename(columns={\n",
    "    \"NU_PARAM_B\": \"nu_param_B\",\n",
    "    \"TX_GABARITO\": \"gabarito\"\n",
    "}, inplace=True)\n",
    "\n",
    "\n",
    "# Salvando DF resultante\n",
    "df_merged.to_csv(output_path, index=False, encoding=\"utf-8\")\n",
    "\n",
    "print(\"Merge concluído.\")"
   ]
  },
  {
   "cell_type": "code",
   "execution_count": null,
   "metadata": {},
   "outputs": [],
   "source": [
    "df = pd.read_csv(output_path)\n",
    "df.head()"
   ]
  },
  {
   "cell_type": "code",
   "execution_count": null,
   "metadata": {},
   "outputs": [],
   "source": []
  }
 ],
 "metadata": {
  "kernelspec": {
   "display_name": "Python 3.8.10 64-bit",
   "language": "python",
   "name": "python3"
  },
  "language_info": {
   "codemirror_mode": {
    "name": "ipython",
    "version": 3
   },
   "file_extension": ".py",
   "mimetype": "text/x-python",
   "name": "python",
   "nbconvert_exporter": "python",
   "pygments_lexer": "ipython3",
   "version": "3.11.3"
  },
  "vscode": {
   "interpreter": {
    "hash": "916dbcbb3f70747c44a77c7bcd40155683ae19c65e1c03b4aa3499c5328201f1"
   }
  }
 },
 "nbformat": 4,
 "nbformat_minor": 2
}
