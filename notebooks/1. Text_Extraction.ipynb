{
 "cells": [
  {
   "cell_type": "markdown",
   "metadata": {},
   "source": [
    "## 1. Extração do Texto das Provas do ENEM\n",
    "\n",
    "* **Input**: Local da Prova em formato PDF\n",
    "\n",
    "* **Output**: CSV com as colunas -> *numero_questao*, *enunciado* e *alternativas*"
   ]
  },
  {
   "cell_type": "code",
   "execution_count": 1,
   "metadata": {},
   "outputs": [],
   "source": [
    "import pymupdf\n",
    "import re\n",
    "import csv\n",
    "import pandas as pd"
   ]
  },
  {
   "cell_type": "code",
   "execution_count": 2,
   "metadata": {},
   "outputs": [],
   "source": [
    "# Definição de Variáveis de Input e Output\n",
    "year = 2023\n",
    "\n",
    "input_path = f\"../data/provas/ENEM_{year}.pdf\"\n",
    "output_path = f\"../data/extracted_questions/enem_{year}.csv\""
   ]
  },
  {
   "cell_type": "code",
   "execution_count": 8,
   "metadata": {},
   "outputs": [],
   "source": [
    "# Extraindo texto do ENEM\n",
    "document = pymupdf.open(input_path)\n",
    "total_text = \"\"\n",
    "\n",
    "for page in document.pages(1, 15):\n",
    "    text = page.get_text()\n",
    "    total_text += text + \"\\n\""
   ]
  },
  {
   "cell_type": "code",
   "execution_count": 13,
   "metadata": {},
   "outputs": [],
   "source": [
    "# Remover o rodapé\n",
    "rodape_pattern = r\"\\s+•\\s+2º\\s+DIA\\s+•\\s+CADERNO\\s+7\\s+•\\s+AZUL\"\n",
    "total_text = re.sub(rodape_pattern, \"\", total_text)\n",
    "\n",
    "# Remover códigos do rodapé, por exemplo: *020325AZ5*\n",
    "total_text = re.sub(r\"\\*\\w+\\*\", \"\", total_text)\n",
    "\n",
    "# Remover linhas que contenham apenas dígitos (possíveis números de página)\n",
    "total_text = re.sub(r\"\\n\\s*\\d+\\s*\\n\", \"\\n\", total_text)\n",
    "total_text = re.sub(r\"\\n\\s*\\d+\\s*$\", \"\", total_text)\n",
    "\n",
    "# Dividindo o texto em blocos de questões\n",
    "question_blocks = re.split(r\"QUESTÃO\\s+\", total_text)\n",
    "question_blocks = [block.strip() for block in question_blocks if block.strip()]\n",
    "\n",
    "results = []\n",
    "\n",
    "for block in question_blocks:\n",
    "    # Extraindo número da questão\n",
    "    m = re.match(r\"(\\d+)\", block)\n",
    "    if not m:\n",
    "        continue \n",
    "    num_quest = m.group(1)\n",
    "    \n",
    "    content = block[m.end():].strip()\n",
    "    \n",
    "    # Separando enunciado e alternativas.\n",
    "    parts = re.split(r\"\\nA\\s*\\n\", content, maxsplit=1)\n",
    "    if len(parts) == 2:\n",
    "        enunciado = parts[0].strip()\n",
    "        alt_text = \"A\\n\" + parts[1].strip()\n",
    "    else:\n",
    "        enunciado = content\n",
    "        alt_text = \"\"\n",
    "    \n",
    "    # Extraindo alternativas\n",
    "    alt_regex = r\"([A-E])\\s+[A-E]\\s+(.*?)(?=(?:\\n[A-E]\\s+[A-E]\\s+)|\\Z)\"\n",
    "    alt_raw = re.findall(alt_regex, alt_text, flags=re.DOTALL)\n",
    "    \n",
    "    # Formatando alternativas como \"A: texto\"\n",
    "    alternativas = \"; \".join([f\"{letter}: {text.strip()}\" for letter, text in alt_raw])\n",
    "    \n",
    "    results.append({\n",
    "        \"numero_questao\": num_quest,\n",
    "        \"enunciado\": enunciado,\n",
    "        \"alternativas\": alternativas\n",
    "    })"
   ]
  },
  {
   "cell_type": "code",
   "execution_count": null,
   "metadata": {},
   "outputs": [],
   "source": [
    "# Salvando em CSV\n",
    "with open(output_path, \"w\", newline=\"\", encoding=\"utf-8\") as csvfile:\n",
    "    fieldnames = [\"numero_questao\", \"enunciado\", \"alternativas\"]\n",
    "    writer = csv.DictWriter(csvfile, fieldnames=fieldnames)\n",
    "    writer.writeheader()\n",
    "    for row in results[1:]:\n",
    "        writer.writerow(row)\n",
    "\n",
    "print(\"Extração Finalizada\")"
   ]
  },
  {
   "cell_type": "code",
   "execution_count": null,
   "metadata": {},
   "outputs": [],
   "source": [
    "df = pd.read_csv(output_path)\n",
    "df.head()"
   ]
  },
  {
   "cell_type": "markdown",
   "metadata": {},
   "source": [
    "## Enem Digital (2021)"
   ]
  },
  {
   "cell_type": "code",
   "execution_count": 17,
   "metadata": {},
   "outputs": [],
   "source": [
    "# Definição de Variáveis de Input e Output\n",
    "year = 2021\n",
    "\n",
    "input_path = f\"../data/provas/ENEM_{year}.pdf\"\n",
    "output_path = f\"../data/extracted_questions/enem_{year}.csv\""
   ]
  },
  {
   "cell_type": "code",
   "execution_count": 22,
   "metadata": {},
   "outputs": [],
   "source": [
    "# Extraindo texto do ENEM\n",
    "document = pymupdf.open(input_path)\n",
    "total_text = \"\"\n",
    "\n",
    "for page in document.pages(5, 53):\n",
    "    text = page.get_text()\n",
    "    total_text += text + \"\\n\""
   ]
  },
  {
   "cell_type": "code",
   "execution_count": 23,
   "metadata": {},
   "outputs": [],
   "source": [
    "# Padrão do ENEM Digital\n",
    "question_pattern = r\"Questão\\s+(\\d+)\\s+-\\s+Ciências da Natureza e suas Tecnologias(.*?)(?=Questão\\s+\\d+\\s+-\\s+Ciências da Natureza e suas Tecnologias|$)\"\n",
    "question_matches = re.findall(question_pattern, total_text, flags=re.DOTALL)\n",
    "\n",
    "results = []\n",
    "\n",
    "# Padrão de formatação das alternativas do ENEM Digital\n",
    "alt_regex = r\"\\n(?:\\d+\\n)*([A-E])\\n([^\\n]+)\"\n",
    "\n",
    "for num_quest, block in question_matches:\n",
    "    content = block.strip()\n",
    "\n",
    "    alt_raw = re.findall(alt_regex, content)\n",
    "\n",
    "    enunciado = content\n",
    "    alt_match = re.search(alt_regex, content)\n",
    "    if alt_match:\n",
    "        enunciado = content[: alt_match.start()].strip()\n",
    "\n",
    "    # Formatando alternativas como \"A: texto\"\n",
    "    alternativas = \"; \".join([f\"{letter}: {text.strip()}\" for letter, text in alt_raw])\n",
    "\n",
    "    results.append(\n",
    "        {\n",
    "            \"numero_questao\": num_quest,\n",
    "            \"enunciado\": enunciado,\n",
    "            \"alternativas\": alternativas,\n",
    "        }\n",
    "    )"
   ]
  },
  {
   "cell_type": "code",
   "execution_count": null,
   "metadata": {},
   "outputs": [],
   "source": [
    "# Salvando em CSV\n",
    "with open(output_path, \"w\", newline=\"\", encoding=\"utf-8\") as csvfile:\n",
    "    fieldnames = [\"numero_questao\", \"enunciado\", \"alternativas\"]\n",
    "    writer = csv.DictWriter(csvfile, fieldnames=fieldnames)\n",
    "    writer.writeheader()\n",
    "    for row in results[1:]:\n",
    "        writer.writerow(row)\n",
    "\n",
    "print(\"Extração Finalizada\")"
   ]
  },
  {
   "cell_type": "code",
   "execution_count": null,
   "metadata": {},
   "outputs": [],
   "source": [
    "df = pd.read_csv(output_path)\n",
    "df.head()"
   ]
  },
  {
   "cell_type": "code",
   "execution_count": null,
   "metadata": {},
   "outputs": [],
   "source": []
  }
 ],
 "metadata": {
  "kernelspec": {
   "display_name": ".venv",
   "language": "python",
   "name": "python3"
  },
  "language_info": {
   "codemirror_mode": {
    "name": "ipython",
    "version": 3
   },
   "file_extension": ".py",
   "mimetype": "text/x-python",
   "name": "python",
   "nbconvert_exporter": "python",
   "pygments_lexer": "ipython3",
   "version": "3.11.3"
  }
 },
 "nbformat": 4,
 "nbformat_minor": 2
}
