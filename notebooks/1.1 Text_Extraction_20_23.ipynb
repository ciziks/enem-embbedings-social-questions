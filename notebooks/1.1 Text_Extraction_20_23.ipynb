{
 "cells": [
  {
   "cell_type": "markdown",
   "metadata": {},
   "source": [
    "## 1.1 Extração do Texto das Provas do ENEM 2020 - 2023\n",
    "\n",
    "* **Input**: Local da Prova em formato PDF + Se questões são maiúsculas ou não\n",
    "\n",
    "* **Output**: CSV com as colunas -> *numero_questao*, *enunciado* e *alternativas*"
   ]
  },
  {
   "cell_type": "code",
   "execution_count": 1,
   "metadata": {},
   "outputs": [],
   "source": [
    "import pymupdf\n",
    "import re\n",
    "import csv\n",
    "import pandas as pd"
   ]
  },
  {
   "cell_type": "code",
   "execution_count": 2,
   "metadata": {},
   "outputs": [],
   "source": [
    "# Definição de Variáveis de Input e Output\n",
    "year = 2023\n",
    "question_caps = True\n",
    "\n",
    "input_path = f\"../data/provas/ENEM_{year}.pdf\"\n",
    "output_path = f\"../data/extracted_questions/enem_{year}.csv\""
   ]
  },
  {
   "cell_type": "code",
   "execution_count": 3,
   "metadata": {},
   "outputs": [],
   "source": [
    "# Extraindo texto do ENEM\n",
    "document = pymupdf.open(input_path)\n",
    "total_text = \"\"\n",
    "keyword_found = False\n",
    "\n",
    "for page_num, page in enumerate(document.pages(2), start=0):\n",
    "    text = page.get_text()\n",
    "    \n",
    "    if keyword_found:\n",
    "        total_text += text + \"\\n\"\n",
    "    elif \"CIÊNCIAS HUMANAS E SUAS TECNOLOGIAS\" in text.upper():\n",
    "        total_text += text + \"\\n\"\n",
    "        keyword_found = True"
   ]
  },
  {
   "cell_type": "code",
   "execution_count": 4,
   "metadata": {},
   "outputs": [
    {
     "data": {
      "text/plain": [
       "'20\\n–CH • 1º DIA • CADERNO 1 • AZUL–\\nCIÊNCIAS HUMANAS E SUAS TECNOLOGIAS\\nQuestões de 46 a 90\\nQUESTÃO 46\\t\\nFotografia da avó bordada\\nSCARELI, G. A máquina de costura e os fios da memória. Revista Brasileira \\nde Pesquisa (Auto)Biográfica, n. 18, maio-ago. 2021.\\nA definição de Sertão descrita no bordado associa esse \\nrecorte espacial a \\nA\\t\\nA\\t percursos e roteiros turísticos.\\nB\\t\\nB\\t trajetos e movimentos holísticos.\\nC\\t\\nC\\t vivências e itinerários socioafetivos.\\nD\\t\\nD\\t fronteiras e demarcações territoriais.\\nE\\t\\nE\\t profissões e interesses econômicos.\\nQUESTÃO 47\\t\\nFelizes tempos eram esses! As moças iam à missa de \\nmadrugada. De dia ninguém as via e se alguma, em dia \\nde festa, queria passear com a avó ou a tia, havia de ir de \\ncadeirinhas. Bem razão têm os nossos velhos de chorar \\npor esses tempos, em que as filhas não sabiam escrever, \\ne por isso não mandavam nem recebiam bilhetinhos.\\nNovo Correio de Modas, 1853, apud DONEGÁ, A. L. Publicar ficção em \\nmeados do século XIX: um estudo das revistas femininas editadas \\npelos irmãos Laemmert. Campinas: Unicamp, 2013 (adaptado).\\nNa perspectiva do autor, as tradições e os costumes \\nsociofamiliares sofreram alterações, no século XIX, \\ndecorrentes de quais fatores?\\nA\\t\\nA\\t Hábitos de leitura e mobilidade regional.\\nB\\t\\nB\\t Circulação de impressos e trânsito religioso.\\nC\\t\\nC\\t Valorização da língua e imigração estrangeira.\\nD\\t\\nD\\t Práticas de letramento e transformação cultural.\\nE\\t\\nE\\t Flexibilização do ensino e reformismo pedagógico.\\nQUESTÃO 48\\t\\nNo Cerrado, o conhecimento local está sendo cada \\nvez mais subordinado à lógica do agronegócio. De um \\nlado, o capital impõe os conhecimentos biotecnológicos, \\ncomo mecanismo de universalização de práticas agrícolas \\ne de novas tecnologias, e de outro, o modelo capitalista \\nsubordina homens e mulheres à lógica do mercado. Assim, \\nas águas, as sementes, os minerais, as terras (bens \\ncomuns) tornam-se propriedade privada. Além do mais, \\nhá outros fatores negativos, como a mecanização pesada, \\na “pragatização” dos seres humanos e não humanos, a \\nviolência simbólica, a superexploração, as chuvas de \\nveneno e a violência contra a pessoa.\\nCALAÇA, M.; SILVA, E. B.; JESUS, J. N. Territorialização do agronegócio e subordinação \\ndo campesinato no Cerrado. Élisée, Rev. Geo. UEG, n. 1, jan.-jun. 2021 (adaptado).\\nOs elementos descritos no texto, a respeito da \\nterritorialização da produção, demonstram que há um\\nA\\t\\nA\\t cerco aos camponeses, inviabilizando a manutenção \\ndas condições para a vida.\\nB\\t\\nB\\t descaso aos latifundiários, impactando a plantação \\nde alimentos para a exportação.\\nC\\t\\nC\\t desprezo ao assalariado, afetando o engajamento dos \\nsindicatos para o trabalhador.\\nD\\t\\nD\\t desrespeito aos governantes, comprometendo a \\ncriação de empregos para o lavrador.\\nE\\t\\nE\\t assédio ao empresariado, dificultando o investimento \\nde maquinários para a produção.\\nQUESTÃO 49\\t\\nTEXTO I\\nCom uma população de 25 milhões de habitantes \\n(cerca de 60% de minorias muçulmanas, principalmente \\nda etnia Uigur), Xinjiang é uma região estratégica para a \\nChina. Faz fronteira com oito países, é uma artéria crucial \\ndo megaprojeto de infraestrutura chinês Cinturão e Rota e \\ntem as maiores reservas nacionais de carvão e gás natural.\\nNINIO, M. Disponível em: https://oglobo.globo.com. Acesso em: 5 out. 2021 (adaptado).\\nTEXTO II\\nDentre as províncias da Região Oeste, Xinjiang se \\ndestaca ao receber mais de 1,7 milhão de migrantes entre \\n2000 e 2010. O principal motivo desse fluxo migratório \\né que o governo fornece subsídios à população visando \\naumentar a proporção de chineses da etnia Han em \\nrelação à população local de etnias turca e muçulmana. \\nALVES, F.; TOYOSHIMA, S. Disparidade socioeconômica e fluxo migratório chinês: \\ninterpretação de eventos contemporâneos segundo os clássicos do desenvolvimento. \\nRevista de Economia Contemporânea, n. 1, jan.-abr. 2017 (adaptado).\\nA política demográfica para a província mencionada \\nnos textos é parte da seguinte ação estratégica do \\ngoverno chinês:\\nA\\t\\nA\\t Promover a ocupação rural.\\nB\\t\\nB\\t Favorecer a liberdade religiosa.\\nC\\t\\nC\\t Descentralizar a gestão pública.\\nD\\t\\nD\\t Incentivar a pluralidade cultural.\\nE\\t\\nE\\t Assegurar a integridade territorial.\\n*010175AZ20*\\n\\n21\\n–CH • 1º DIA • CADERNO 1 • AZUL–\\nQUESTÃO 50\\t\\nSuperar a história da escravidão como principal marca \\nda trajetória do negro no país tem sido uma tônica daqueles \\nque se dedicam a pesquisar as heranças de origem afro \\nà cultura brasileira. A esse esforço de reconstrução \\nda própria história do país, alia-se agora a criação da \\nplataforma digital Ancestralidades. “A história do negro \\nno Brasil vai continuar sendo contada, e cada passo que \\na gente dá para trás é um passo que a gente avança”, diz \\nMárcio Black, idealizador da plataforma, sobre o estudo \\nde figuras ainda encobertas pela perspectiva histórica \\nimposta pelos colonizadores da América.\\nFIORATI, G. Projeto joga luz sobre negros e revê perspectiva histórica. \\nDisponível em: www1.folha.uol.com.br. Acesso em: 10 nov. 2021 (adaptado).\\nEm relação ao conhecimento sobre a formação cultural \\nbrasileira, iniciativas como a descrita no texto favorecem o(a)\\nA\\t\\nA\\t recuperação do tradicionalismo.\\nB\\t\\nB\\t estímulo ao antropocentrismo.\\nC\\t\\nC\\t reforço do etnocentrismo.\\nD\\t\\nD\\t resgate do teocentrismo.\\nE\\t\\nE\\t crítica ao eurocentrismo.\\nQUESTÃO 51\\t\\nEscrito durante a Primeira Guerra Mundial, o seguinte \\ntrecho faz parte da carta enviada pelo secretário do exterior \\nbritânico, Sir Arthur James Balfour, ao banqueiro Lord \\nRotschild, presidente da Liga Sionista, em 2 de novembro \\nde 1917, a carta ficou conhecida como Declaração Balfour:\\n“O governo de Sua Majestade vê com aprovação o \\nestabelecimento na Palestina de um lar nacional para \\no povo judeu, e fará todos os esforços para facilitar tal \\nobjetivo. Nada será feito que possa prejudicar os direitos \\ncivis e religiosos das comunidades não judaicas na \\nPalestina.”\\nGATTAZ, A. A Guerra da Palestina. São Paulo: Usina do Livro, 2002 (adaptado).\\nA análise do resultado do processo em questão revela que \\no governo inglês foi incapaz de garantir seu objetivo de\\nA\\t\\nA\\t promover o bem-estar social.\\nB\\t\\nB\\t negociar o apoio muçulmano.\\nC\\t\\nC\\t mediar os conflitos territoriais.\\nD\\t\\nD\\t estimular a cooperação regional.\\nE\\t\\nE\\t combater os governos autocráticos.\\nQUESTÃO 52\\t\\nTEXTO I\\nComo presença consciente no mundo não posso \\nescapar à responsabilidade ética no meu mover-me no \\nmundo. Se sou puro produto da determinação genética ou \\ncultural ou de classe, sou irresponsável pelo que faço no \\nmeu mover-me no mundo e, se careço de responsabilidade, \\nnão posso falar em ética.\\nFREIRE, P. Pedagogia da autonomia: saberes necessários \\nà prática educativa. São Paulo: Paz e Terra, 1996.\\nTEXTO II\\nPaulo Freire construiu uma pedagogia da esperança. \\nNa sua concepção, a história não é algo pronto e acabado. \\nAs estruturas de opressão e as desigualdades, apesar \\nde serem naturalizadas, são sócio e historicamente \\nconstruídas. Daí a importância de os educandos tomarem \\nconsciência da sua realidade para, assim, transformá-la.\\nDEMARCHI, J. L. Paulo Freire. Disponível em: https://diplomatique.org.br. \\nAcesso em: 6 out. 2021 (adaptado).\\nCom base no conceito de ética pedagógica presente nos \\ntextos, os educandos tornam-se responsáveis pela\\nA\\t\\nA\\t participação sociopolítica.\\nB\\t\\nB\\t definição estético-cultural.\\nC\\t\\nC\\t competição econômica local.\\nD\\t\\nD\\t manutenção do sistema escolar. \\nE\\t\\nE\\t capacitação de mobilidade individual.\\nQUESTÃO 53\\t\\nA Cordilheira do Himalaia tem mais de 50 milhões de \\nanos, sendo classificada como a maior cordilheira do planeta. \\nOriginário da língua sânscrito, comum na região, seu nome \\nquer dizer “morada da neve”. É possível encontrar nessa \\ncordilheira as quinze maiores montanhas do mundo. Ao todo, \\nexistem mais de cem picos, que contam com altitudes bem \\nmaiores que 7\\xa0000 m. O Everest, considerado o ponto mais \\nalto da Terra, tem nada menos que 8\\xa0848 m de altitude, e \\ncontinua crescendo, aproximadamente, 0,8 mm a cada ano.\\nDisponível em: https://meioambiente.culturamix.com. Acesso em: 12 nov. 2021 (adaptado).\\nQual dinâmica natural é responsável pelo fenômeno \\napresentado?\\nA\\t\\nA\\t Derrame de lava vulcânica.\\nB\\t\\nB\\t Encontro de placas tectônicas.\\nC\\t\\nC\\t Ação do intemperismo químico.\\nD\\t\\nD\\t Sedimentação de erosão eólica.\\nE\\t\\nE\\t Derretimento de geleiras glaciais. \\nQUESTÃO 54\\t\\nEu poderia concluir que a raiva é um pensamento, que \\nestar com raiva é pensar que alguém é detestável, e que \\nesse pensamento, como todos os outros — assim como \\nDescartes o mostrou —, não poderia residir em nenhum \\nfragmento de matéria. A raiva seria, portanto, espírito. \\nPorém, quando me volto para minha própria experiência \\nda raiva, devo confessar que ela não estava fora do meu \\ncorpo, mas inexplicavelmente nele.\\nMERLEAU-PONTY, M. Quinta conversa: o homem visto de fora. \\nSão Paulo: Martins Fontes, 1948 (adaptado).\\nNo que se refere ao problema do corpo, a filosofia cartesiana \\napresenta-se como contraponto ao entendimento expresso \\nno texto por\\nA\\t\\nA\\t apresentar uma visão dualista.\\nB\\t\\nB\\t confirmar uma tese naturalista.\\nC\\t\\nC\\t demonstrar uma premissa realista.\\nD\\t\\nD\\t sustentar um argumento idealista.\\nE\\t\\nE\\t defender uma posição intencionalista.\\n*010175AZ21*\\n\\n22\\n–CH • 1º DIA • CADERNO 1 • AZUL–\\nQUESTÃO 55\\t\\nA diversão é o prolongamento do trabalho sob o capitalismo tardio. Ela é procurada por quem quer escapar \\nao processo de trabalho mecanizado para se pôr de novo em condições de enfrentá-lo. Mas, ao mesmo tempo, \\na mecanização atingiu um tal poderio sobre a pessoa em seu lazer e sobre a sua felicidade, ela determina tão \\nprofundamente a fabricação das mercadorias destinadas à diversão que essa pessoa não pode mais perceber outra \\ncoisa senão as cópias que reproduzem o próprio processo de trabalho. \\nADORNO, T.; HORKHEIMER, M. Dialética do esclarecimento. Rio de Janeiro: Zahar, 1997.\\nNo texto, o tempo livre é concebido como\\nA\\t\\nA\\t consumo de produtos culturais elaborados no mesmo sistema produtivo do capitalismo.\\nB\\t\\nB\\t forma de realizar as diversas potencialidades da natureza humana.\\nC\\t\\nC\\t alternativa para equilibrar tensões psicológicas do dia a dia.\\nD\\t\\nD\\t promoção da satisfação de necessidades artificiais.\\nE\\t\\nE\\t mecanismo de organização do ócio e do prazer.\\nQUESTÃO 56\\t\\nEU QUERIA\\nPODER.\\nFORÇA? VISÃO DE\\nRAIO X? TELECINESE?\\nTELEPATIA?\\nPODER\\nPOLÍTICO.\\nLAERTE. Disponível em: www.laerte.art.br. Acesso em: 23 nov. 2021 (adaptado).\\nA charge ilustra um anseio presente na sociedade contemporânea, que se caracteriza pela\\nA\\t\\nA\\t situação de revolta individual.\\nB\\t\\nB\\t satisfação de desejos pessoais.\\nC\\t\\nC\\t participação em ações decisórias.\\nD\\t\\nD\\t permanência em passividade social.\\nE\\t\\nE\\t conivência em interesses partidários. \\nQUESTÃO 57\\t\\nQuem se mete pelo caminho do pedido de perdão deve estar pronto a escutar uma palavra de recusa. Entrar na \\natmosfera do perdão é aceitar medir-se com a possibilidade sempre aberta do imperdoável. Perdão pedido não é \\nperdão a que se tem direito [devido]. É com o preço destas reservas que a grandeza do perdão se manifesta.\\nRICOEUR, P. O perdão pode curar. Disponível em: www.lusosofia.net. Acesso em: 14 out. 2019.\\nA reflexão sobre o perdão apresentada no texto encontra fundamento na(s)\\nA\\t\\nA\\t rejeição particular amparada pelo desejo de poder.\\nB\\t\\nB\\t decisão subjetiva determinada pela vontade divina.\\nC\\t\\nC\\t liberdade mitigada pela predestinação do espírito.\\nD\\t\\nD\\t escolhas humanas definidas pelo conhecimento empírico.\\nE\\t\\nE\\t relações interpessoais mediadas pela autonomia dos indivíduos.\\n \\n*010175AZ22*\\n\\n23\\n–CH • 1º DIA • CADERNO 1 • AZUL–\\nQUESTÃO 58\\t\\nA Cavalgada de Sant’Ana é uma expressão da devoção \\ndos vaqueiros à padroeira de Caicó (RN). Nas décadas de \\n1950 a 1970, esse evento, então denominado Cavalaria, \\nera celebrado pelas pessoas que residiam na zona rural \\ndo município de Caicó. Essas pessoas usavam os animais \\n(jegues, mulas e cavalos) como único meio de transporte, \\nsobretudo para se dirigirem à cidade nos dias de feiras, \\ntrazendo seus produtos para comercializarem. Estando em \\nCaicó no período da Festa de Sant’Ana, esses agricultores \\nse organizavam em cavalgada até o pátio da Catedral de \\nSant’Ana para louvar a santa e receber bênção para seus \\nanimais. Por volta da década de 1970, com a chegada do \\nautomóvel à zona rural do município, essa expressão cultural \\nfoi extinta. O meio de transporte utilizando os animais passou \\na ser substituído por carros, sobretudo caminhonetes e \\ncaminhões, que transportavam os camponeses para a \\ncidade em dias de feiras e festas. Desde 2002, um grupo de \\ncaicoenses retomou essa expressão cultural e, em conjunto \\ncom a associação dos vaqueiros, realiza no primeiro \\ndomingo da Festa a Cavalgada de Sant’Ana. O evento, além \\nde contar com a participação dos cavaleiros que residem \\nnas zonas rurais, atrai também pessoas que residem em \\nCaicó, cidades vizinhas e amantes das vaquejadas.\\nFESTA DE SANT’ANA. Disponível em: http://portal.iphan.gov.br. \\nAcesso em: 12 out. 2021 (adaptado).\\nAs \\nmudanças \\nculturais \\nmencionadas \\nno \\ntexto \\ncaracterizam-se pela presença de\\nA\\t\\nA\\t elementos tradicionais e modernos em torno de uma \\ncrença religiosa.\\nB\\t\\nB\\t argumentos teológicos e históricos em consequência \\nde uma ordem papal.\\nC\\t\\nC\\t fundamentos estéticos e etnográficos em função de \\numa cerimônia clerical.\\nD\\t\\nD\\t práticas corporais e esportivas em decorrência de uma \\nimposição eclesiástica.\\nE\\t\\nE\\t discursos filosóficos e antropológicos em resultado de \\numa determinação paroquial.\\nQUESTÃO 59\\t\\nDo século XVI em diante, pelo menos nas classes \\nmais altas, o garfo passou a ser usado como utensílio \\npara comer, chegando através da Itália primeiramente à \\nFrança e, em seguida, à Inglaterra e à Alemanha, depois \\nde ter servido, durante algum tempo, apenas para retirar \\nalimentos sólidos da travessa. Henrique III introduziu-o \\nna França, trazendo-o provavelmente de Veneza. Seus \\ncortesãos não foram pouco ridicularizados por essa \\nmaneira “afetada” de comer e, no princípio, não eram \\nmuito hábeis no uso do utensílio: pelo menos se dizia \\nque metade da comida caía do garfo no caminho do prato \\nà boca. Em data tão recente como o século XVII, o garfo \\nera ainda basicamente artigo de luxo, geralmente feito de \\nprata ou ouro.\\nELIAS, N. O processo civilizador: uma história dos costumes. \\nRio de Janeiro: Zahar, 1994.\\nO processo social relatado indica a formação de uma \\netiqueta que tem como princípio a\\nA\\t\\nA\\t distinção das classes sociais.\\nB\\t\\nB\\t valorização de hábitos de higiene.\\nC\\t\\nC\\t exaltação da cultura mediterrânea. \\nD\\t\\nD\\t consagração de tradições medievais.\\nE\\t\\nE\\t disseminação de produtos manufaturados.\\nQUESTÃO 60\\t\\nNegar o pedido por dinheiro indispensável para \\nnecessidades pessoais ou comprar bens usando o nome \\nda pessoa sem o consentimento dela. Ameaçar o corte \\nde recursos dependendo de atitudes pessoais, esconder \\ndocumentos ou trocar senhas do banco sem avisar. \\nOu, ainda, proibir a pessoa de trabalhar ou destruir seus \\npertences. As histórias são comuns, mas às vezes não são \\nreconhecidas como abuso. Mas é uma das cinco formas de \\nconduta contra a mulher previstas na Lei Maria da Penha.\\nLEWGOY, J. Conduta quase invisível destrói a vida de mulheres. Disponível em: \\nhttps://valorinveste.globo.com. Acesso em: 23 out. 2021 (adaptado).\\nO texto apresenta tipos de conduta sujeitos a punição, \\nconforme previsto na Lei Maria da Penha, porque \\nconsistem em formas de\\nA\\t\\nA\\t ação difamatória.\\nB\\t\\nB\\t desvio comportamental.\\nC\\t\\nC\\t expressão preconceituosa.\\nD\\t\\nD\\t violência patrimonial.\\nE\\t\\nE\\t desentendimento matrimonial.\\nQUESTÃO 61\\t\\nPor trás da “mágica” do Google Assistant de sua \\ncapacidade de interpretar 26 idiomas está uma enorme \\nequipe de linguistas distribuídos globalmente, trabalhando \\ncomo subcontratados, que devem rotular tediosamente os \\ndados de treinamento para que funcione. Eles ganham \\nbaixos salários e são rotineiramente forçados a trabalhar \\nhoras extras não remuneradas. A inteligência artificial não \\nfunciona com um pozinho mágico. Ela funciona por meio \\nde trabalhadores que treinam algoritmos incansavelmente \\naté que eles automatizem seus próprios trabalhos.\\nA Inteligência Artificial (IA) da economia freelancer está vindo atrás de você. \\nDisponível em: https://mittechreview.com.br. Acesso em: 6 out. 2021 (adaptado).\\nO texto critica a mudança tecnológica em razão da \\nseguinte consequência:\\nA\\t\\nA\\t Diversificação da função.\\nB\\t\\nB\\t Mobilidade da população.\\nC\\t\\nC\\t Autonomia do empregado.\\nD\\t\\nD\\t Concentração da produção.\\nE\\t\\nE\\t Invisibilidade do profissional.\\n*010175AZ23*\\n\\n24\\n–CH • 1º DIA • CADERNO 1 • AZUL–\\nQUESTÃO 62\\t\\nEnormes alto-falantes sul-coreanos instalados na \\nfronteira com o Norte costumavam transmitir desde \\ncanções em estilo K-pop (como é chamado o pop \\nsul-coreano) até boletins climáticos e noticiário crítico ao \\nvizinho comunista. O Norte costuma praticar atividade \\nsemelhante, transmitindo por seus alto-falantes discursos \\ncríticos a Seul e aliados. Durante os anos 1980, o governo \\nsul-coreano construiu um mastro de 97 metros de altura \\npara hastear sua bandeira no povoado de Daesong-dong, \\nna fronteira com o Norte. O Norte respondeu com a \\nconstrução de um mastro ainda mais alto (160 m) na \\ncidade fronteiriça de Gijung-dong. “Essas demonstrações \\nsão uma válvula de escape competitiva e importante entre \\nos dois lados, fora de um possível conflito militar”, diz o \\nanalista Ankit Panda.\\nTAN, Y. Disputa de mastros e alto-falantes com K-pop: as pequenas picuinhas do conflito \\nentre as Coreias. Disponível em: www.bbc.com. Acesso em: 7 nov. 2021 (adaptado).\\nOs atos de competição citados têm suas origens \\nhistóricas vinculadas a um contexto de\\nA\\t\\nA\\t domínio cultural-identitário de atores sociais.\\nB\\t\\nB\\t disputas étnico-raciais de povos tradicionais.\\nC\\t\\nC\\t divergências político-ideológicas de agentes estatais.\\nD\\t\\nD\\t imposição econômico-financeira de empresas \\nprivadas.\\nE\\t\\nE\\t protestos ecológico-sustentáveis de entidades \\nambientais.\\nQUESTÃO 63\\t\\nSeda, madeiras aromáticas e têxteis, obras de arte, \\nlã, cristais e muitas, muitas peças de porcelana chegaram \\nao Brasil ao longo dos séculos XVII e XVIII. A opulência \\nproporcionada pelo ouro fez com que esses itens fossem \\nainda mais presentes em cidades mineiras como Ouro Preto, \\nMariana e Sabará. Esses objetos inspiraram a criação das \\nchinesices, termo que designa um tipo de arte que evoca \\nmotivos chineses, presentes em várias igrejas barrocas de \\nMinas Gerais. No Brasil, é bem provável que a inspiração \\npara as pinturas nas igrejas barrocas com pássaros, \\nelefantes, tigres, mandarins e pagodes tenha sido tirada de \\ngravuras, tecidos, móveis e, principalmente, das porcelanas \\nchinesas que circulavam livremente em uma sociedade \\nenriquecida pelo comércio do ouro e pedras preciosas.\\nMARIUZZO, P. Estudos interdisciplinares ampliam conhecimento sobre \\nchinesice no barroco mineiro. Disponível em: http://cienciaecultura.bvs.br. \\nAcesso em: 23 nov. 2021 (adaptado).\\nO desenvolvimento do processo artístico descrito no \\ntexto foi possível pelo(a)\\nA\\t\\nA\\t representação arquitetônica.\\nB\\t\\nB\\t intercâmbio transcontinental.\\nC\\t\\nC\\t dependência econômica.\\nD\\t\\nD\\t intervenção estatal.\\nE\\t\\nE\\t padrão estético.\\nQUESTÃO 64\\t\\nTxai Suruí, liderança da Juventude Indígena, \\nprofere seu discurso na abertura da COP-26\\n“O clima está esquentando, os animais estão \\ndesaparecendo, os rios estão morrendo e nossas \\nplantações não florescem como no passado. A Terra está \\nfalando: ela nos diz que não temos mais tempo.”\\nVICK, M. Quais são as conquistas do movimento indígena na COP-26. \\nDisponível em: www.nexojornal.com.br. Acesso em: 10 nov. 2021 (adaptado).\\nO discurso da líder indígena explicita um problema global \\nrelacionado ao(à)\\nA\\t\\nA\\t manejo tradicional.\\nB\\t\\nB\\t reciclagem residual.\\nC\\t\\nC\\t consumo consciente.\\nD\\t\\nD\\t exploração predatória.\\nE\\t\\nE\\t reaproveitamento energético.\\nQUESTÃO 65\\t\\nNas reportagens publicadas sobre a inauguração do \\nMuseu de Arte de São Paulo, em 1947, quando ele ainda \\nocupava um edifício na rua Sete de Abril, Lina Bo Bardi não foi \\nmencionada nenhuma vez. A arquiteta era responsável pelo \\nprojeto do museu que mudaria para sempre a posição de São \\nPaulo no circuito mundial das artes. Mas não houve nenhum \\nregistro disso. O louvor se concentrou em seu marido e \\nparceiro profissional, o respeitado crítico de arte Pietro Maria \\nBardi. Passados 75 anos, a mulher então ignorada recebeu \\num Leão de Ouro póstumo, a maior homenagem da Bienal \\nde Arquitetura de Veneza, e tem agora sua história contada \\nem duas biografias de peso, que procuram destrinchar uma \\ncarreira marcada pela ousadia e pela contradição.\\nPORTO, W. Lina Bo Bardi tem sua arquitetura contraditória destrinchada em biografias. \\nDisponível em: www1.folha.uol.com.br. Acesso em: 10 nov. 2021 (adaptado).\\nAs transformações pelas quais passaram as sociedades \\nocidentais e que possibilitaram o reconhecimento recente \\ndo trabalho da arquiteta mencionada no texto foram \\nresultado das mobilizações sociais pela\\nA\\t\\nA\\t equidade de gênero.\\nB\\t\\nB\\t liberdade de expressão.\\nC\\t\\nC\\t admissibilidade de voto.\\nD\\t\\nD\\t igualdade de oportunidade.\\nE\\t\\nE\\t reciprocidade de tratamento.\\n*010175AZ24*\\n\\n25\\n–CH • 1º DIA • CADERNO 1 • AZUL–\\nQUESTÃO 66\\t\\nTEXTO I\\nComo é horrivel ver um filho comer e perguntar: “Tem \\nmais?” Esta palavra “tem mais” fica oscilando dentro do \\ncerebro de uma mãe que olha as panela e não tem mais.\\nJESUS, C. M. Quarto de despejo: diário de uma favelada. São Paulo: Ática, 2014.\\nTEXTO II\\nA experiência de ver os filhos com fome na década \\nde 1950, descrita por Carolina, é vivida no Brasil de 2021 \\npor uma moradora de Petrolândia, em Pernambuco. “Eu \\ntrabalhava de ajudante de cabeleireira, mas a moça que \\ntinha o salão fechou. Eu vinha me sustentando com o \\nauxílio que tinha, mas agora eu não fui contemplada. Às \\nvezes as pessoas me ajudam com alimentos para os meus \\nfilhos. De vez em quando, eu acho algum bico para fazer, \\nmas é muito raro. Tem dias que não tenho nem o leite da \\nminha bebê.”\\nCARRANÇA, T. “Até o feijão nos esqueceu”: o livro de 1960 que poderia ter sido escrito \\nnas favelas de 2021. Disponível em: www.bbc.com. Acesso em: 6 out. 2021 (adaptado).\\nConsiderando a realidade brasileira, os textos se \\naproximam ao apresentarem uma reflexão sobre o(a)\\nA\\t\\nA\\t recorrência da miséria.\\nB\\t\\nB\\t planejamento da saúde.\\nC\\t\\nC\\t superação da escassez.\\nD\\t\\nD\\t constância da economia.\\nE\\t\\nE\\t romantização da carência.\\nQUESTÃO 67\\t\\nNo sul da Bahia, desde o século XVIII, tem-se \\nregistros de um tipo de sistema agroflorestal. Até hoje, \\nesse sistema é característica marcante da paisagem \\nda região, conhecido como cabruca, que consiste no \\ncultivo do cacau à sombra do dossel da floresta nativa. \\nEsse sistema de cultivo do cacau (graças à tolerância \\nda espécie à sombra) é considerado amigável para a \\nvida silvestre, pois apresenta superioridade em termos \\nde conservação da biodiversidade quando comparado \\ncom outras plantações tropicais (monoculturas de dendê, \\nseringa ou café), agricultura ou pastagens.\\nSOLLBERG, I.; SCHIAVETTI, A.; MORAES, M. E. B. Manejo agrícola no \\nRefúgio de Vida Silvestre de Una: agroflorestas como uma perspectiva \\nde conservação. Revista Árvore, n. 2, 2014 (adaptado).\\nA prática produtiva apresentada é um exemplo de\\nA\\t\\nA\\t difusão comercial de lavouras temporárias.\\nB\\t\\nB\\t utilização sustentável dos recursos naturais.\\nC\\t\\nC\\t ampliação tecnológica da pecuária intensiva.\\nD\\t\\nD\\t padronização alimentar dos povos tradicionais.\\nE\\t\\nE\\t modernização logística de plantios convencionais.\\n \\nQUESTÃO 68\\t\\nO masseiro, a mulher, e quatro filhos, dormindo numa \\ntapera de quatro paredes de caixão, coberta de zinco. \\nA água do mangue, na maré cheia, ia dentro de casa. \\nOs maruins de noite encalombavam o corpo dos meninos. \\nO mangue tinha ocasião que fedia, e os urubus faziam \\nponto por ali atrás dos petiscos. Perto da rua lavavam \\ncouro de boi, pele de bode para o curtume de um espanhol. \\nMorria peixe envenenado, e quando a maré secava, os \\nurubus enchiam o papo, ciscavam a lama, passeando \\nbanzeiros pelas biqueiras dos mocambos no Recife.\\nRÊGO, J. L. O moleque Ricardo. Rio de Janeiro: J. Olympio, 1966 (adaptado).\\nA aglomeração urbana representada no texto resulta em \\nA\\t\\nA\\t conservação do meio rural.\\nB\\t\\nB\\t crescimento da vegetação ciliar.\\nC\\t\\nC\\t interferência do espaço geográfico.\\nD\\t\\nD\\t equilíbrio do ambiente das cidades.\\nE\\t\\nE\\t controle da proliferação dos animais. \\nQUESTÃO 69\\t\\nElas foram as pioneiras dos direitos das mulheres \\nno Afeganistão. Defensoras ferrenhas da lei, buscaram \\njustiça para os mais marginalizados. Mas, agora, mais \\nde 220 juízas afegãs estão escondidas por medo de \\nretaliação sob o regime do Talibã. Uma delas condenou \\ncentenas de homens por violência contra as mulheres, \\nincluindo estupro, assassinato e tortura. Mas poucos dias \\ndepois que o Talibã assumiu o controle de sua cidade \\ne milhares de criminosos condenados foram libertados \\nda prisão, as ameaças de morte começaram. O país \\nsempre foi considerado um dos lugares mais difíceis e \\nperigosos do mundo para as mulheres. De acordo com \\nestudos de organizações não governamentais, cerca de \\n87% das mulheres e meninas serão vítimas de abuso \\ndurante a vida.\\nDisponível em: https://g1.globo.com. Acesso em: 12 out. 2021 (adaptado).\\nO texto evidencia situação representativa de\\nA\\t\\nA\\t afronta às estruturas sociais.\\nB\\t\\nB\\t desprezo aos valores religiosos.\\nC\\t\\nC\\t transgressão às normas morais.\\nD\\t\\nD\\t desrespeito à dignidade humana.\\nE\\t\\nE\\t oposição aos princípios hierárquicos.\\n \\n*010175AZ25*\\n\\n26\\n–CH • 1º DIA • CADERNO 1 • AZUL–\\nQUESTÃO 70\\t\\nNo cemitério, a sociedade religiosa encarregada do \\nfuneral, aterrorizada, apressou a cerimônia de tal forma que \\na mãe de Herzog perdeu o momento em que o caixão do \\nfilho começou a ser coberto pela terra. Quatro jornalistas \\nque estavam presos no DOI chegaram para assistir ao \\nsepultamento. Um se afastara, chorando. Dizia: Eles matam, \\neles matam! Não pergunte nada. Não podemos dizer \\nnada. Eles matam mesmo. Falava-se baixo. Ouviram-se \\ndois curtos discursos. O primeiro, da atriz Ruth Escobar: \\nAté quando vamos suportar tanta violência? Até quando \\nvamos continuar enterrando nossos mortos em silêncio? \\nNo segundo, Audálio Dantas recitou o Navio negreiro, de \\nCastro Alves: Senhor Deus dos desgraçados / Dizei-me \\nVós, Senhor Deus / Se é mentira, se é verdade, / Tanto \\nhorror perante os céus.\\nGASPARI, E. A ditadura encurralada. São Paulo: Cia. das Letras, 2004.\\nO acontecimento descrito no texto, ocorrido em meados \\ndos anos 1970, atesta a seguinte característica do regime \\npolítico-institucional vigente: \\nA\\t\\nA\\t Incorporação da estética popular para justificar o ideal \\nde integração nacional.\\nB\\t\\nB\\t Afirmação da estratégia psicossocial para favorecer \\no objetivo de propaganda cívica. \\nC\\t\\nC\\t Institucionalização de mecanismos repressivos para \\neliminar os focos de resistência. \\nD\\t\\nD\\t Adoção de cerimoniais públicos para controlar as \\nmanifestações de grupos opositores. \\nE\\t\\nE\\t Estatização de meios de comunicação para selecionar \\na divulgação de atos governamentais.\\nQUESTÃO 71\\t\\nAlternativas logísticas estão servindo de instrumentos \\nque ativam os mercados especuladores de terras \\nnas diferentes regiões da Amazônia e constituem em \\nindicadores utilizados por diferentes atores para defender \\nou denunciar o avanço da cultura da soja na região e, \\ncom ela, a retomada do desmatamento. É evidente que \\no crescimento do desmatamento tem a ver também com \\na expansão da soja, porém atribuir a ela o fator principal \\nparece não totalmente correto. Parto da compreensão \\ncentral de que a lógica que gera o desmatamento está \\narticulada pelo tripé grileiros, madeireiros e pecuaristas.\\nOLIVEIRA, A. U. A Amazônia e a nova geografia da produção da soja. \\nTerra Livre, n. 26, jan.-jun. 2006 (adaptado).\\nNa visão do autor, o problema central da situação descrita \\né desencadeado pela \\nA\\t\\nA\\t apropriação de áreas devolutas.\\nB\\t\\nB\\t sonegação de impostos federais.\\nC\\t\\nC\\t incorporação de exportação ilegal.\\nD\\t\\nD\\t desoneração de setores produtivos.\\nE\\t\\nE\\t flexibilização de legislação ambiental.\\nQUESTÃO 72\\t\\nTEXTO I\\nPor hora, apenas os mais abastados poderão sonhar \\nem viajar ao espaço, seja por um foguete ou por um avião \\nhíbrido, mas toda a população global poderá sentir os \\nefeitos dessas viagens e avanços tecnológicos. Para uma \\naventura dessas, as empresas tiveram que criar novas \\ntecnologias que podem, em algum momento, voltar para a \\nsociedade. A câmera fotográfica, hoje comum no mundo, \\nantes foi uma invenção para ser usada em telescópios, e \\no titânio, usado até na medicina, foi desenvolvido para a \\nconstrução de foguetes.\\nORLANDO, G. Corrida espacial dos bilionários pode trazer vantagens para todos. \\nDisponível em: https://noticias.r7.com. Acesso em: 5 nov. 2021 (adaptado).\\nTEXTO II\\nACREDITE\\nEM MIM. NÃO\\nCONFIE NESSE\\nPESSOAL!\\nBILIONÁRIOS LANÇAM NOVA ERA DE VIAGENS AO ESPAÇO...\\nVIEMOS\\nEM PAZ!\\nCAZO. Disponível em: www.humorpolitico.com.br. Acesso em: 5 nov. 2021.\\nOs textos apresentam perspectivas da nova corrida \\nespacial que revelam, respectivamente:\\nA\\t\\nA\\t Dependência e progresso.\\nB\\t\\nB\\t Expectativa e desconfiança.\\nC\\t\\nC\\t Angústia e adaptação.\\nD\\t\\nD\\t Pioneirismo e retrocesso.\\nE\\t\\nE\\t Receio e civilidade.\\n \\n*010175AZ26*\\n\\n27\\n–CH • 1º DIA • CADERNO 1 • AZUL–\\nQUESTÃO 73\\t\\nOs séculos XV e XVI, quando se vão desmoronando \\nas estruturas socioeconômicas da Idade Média perante \\nos novos imperativos da Época moderna, constituem um \\nmomento-chave na história florestal de toda a Europa \\nOcidental. Abre-se, genericamente, um longo período \\nde “crise florestal”, que se manifesta com acuidade nos \\npaíses onde mais se desenvolvem as atividades industriais \\ne comerciais. As necessidades em produtos lenhosos \\naumentam drasticamente com o crescimento do consumo \\nnos mercados urbanos e nas regiões onde progridem a \\nmetalurgia e a construção naval, além da sua utilização \\nna vida quotidiana de toda a população.\\nDEVY-VARETA, N. Para uma geografia histórica da floresta portuguesa. \\nRevista da Faculdade de Letras — Geografia, n. 1, 1986 (adaptado).\\nQual acontecimento do período contribuiu diretamente \\npara o agravamento da situação descrita?\\nA\\t\\nA\\t O processo de expansão marítima.\\nB\\t\\nB\\t A eclosão do renascimento cultural.\\nC\\t\\nC\\t A concretização da centralização política.\\nD\\t\\nD\\t O movimento de reformas religiosas.\\nE\\t\\nE\\t A manutenção do sistema feudal.\\nQUESTÃO 74\\t\\nTahuantinsuyu — nome do Império Inca em quéchua — \\nera dividido em quatro partes ou suyus: Chinchaysuyu \\n(noroeste do Peru e Equador), Antisuyu (parte amazônica \\ndo império), Collasuyu (atual Bolívia) e Condesuyu (costa \\ndo Oceano Pacífico) e tinha Cuzco, no atual Peru, \\ncomo sua capital imperial. Oficialmente, todas as etnias \\ndominadas pelos incas deveriam adotar a língua quéchua, \\nadorar o Sapa Inca e o Sol e pagar taxas em forma de \\nhoras de trabalhos periódicos. No entanto, pode-se dizer \\nque o Império Inca era como um mosaico cultural em que \\nvários e diferentes grupos étnicos adoravam o Sapa Inca \\ne o Sol mas, simultaneamente, continuavam a adorar seus \\ndeuses locais e também a falar em suas línguas nativas.\\nMARTINS, C. Os incas e os tahuantinsuyu: apresentação. Disponível em: \\nhttp://antigo.anphlac.org. Acesso em: 6 out. 2021 (adaptado).\\nAo comparar, no texto, a vertente da dominação territorial \\ncom os aspectos culturais, os incas tinham uma postura\\nA\\t\\nA\\t aceitável no que alude aos direitos humanos.\\nB\\t\\nB\\t admissível no que remete às crenças coloniais.\\nC\\t\\nC\\t tolerável no que se refere aos regimes tributários.\\nD\\t\\nD\\t flexível no que diz respeito aos costumes religiosos.\\nE\\t\\nE\\t compreensível no que concerne às normas laborais.\\n \\nQUESTÃO 75\\t\\nA torcida do Fluminense inicia um movimento para \\nmudar a letra de uma das músicas mais populares das \\narquibancadas tricolores. Grupos pedem a remoção do \\ntermo “mulambo imundo”, em uma provocação direta ao \\nFlamengo. Mulambo é um termo que surgiu em Angola, \\nna época da escravatura, e eles eram chamados de \\nmulambos pelos senhores de engenho, os patrões \\ndas fazendas.\\nDisponível em: https://oglobo.globo.com. Acesso em: 23 nov. 2021.\\nQual mudança no comportamento social a proposta \\nreportada no texto reflete?\\nA\\t\\nA\\t Rejeição de costumes elitistas.\\nB\\t\\nB\\t Repulsão de condutas misóginas.\\nC\\t\\nC\\t Condenação do preconceito racial.\\nD\\t\\nD\\t Criminalização de práticas homofóbicas.\\nE\\t\\nE\\t Contestação do comportamento machista.\\nQUESTÃO 76\\t\\nFonte: IBGE\\nFilhos por mulher\\nDécadas\\nTaxa de fecundidade no Brasil\\nDe 1960 a 2020,\\nnúmero de filhos baixa de\\n6,3 para 1,5\\n0\\n1\\n2\\n3\\n4\\n5\\n6\\n7\\n1960 1970 1980 1990 2000 2010 2020 2030 2040 2050\\n6,3\\n5,8\\n4,1\\n2,8\\n2,4\\n1,8\\n1,5\\n1,5\\n1,5\\n1,5\\nDisponível em: www.insper.edu.br. Acesso em: 27 set. 2021 (adaptado).\\nQual fator foi determinante para a mudança do indicador \\napresentado no gráfico?\\nA\\t\\nA\\t Flexibilização legal da prática de aborto.\\nB\\t\\nB\\t Envelhecimento da população brasileira.\\nC\\t\\nC\\t Crescimento dos casos de gravidez precoce.\\nD\\t\\nD\\t Participação feminina no mercado de trabalho.\\nE\\t\\nE\\t Diminuição dos benefícios na licença-maternidade.\\n*010175AZ27*\\n\\n28\\n–CH • 1º DIA • CADERNO 1 • AZUL–\\nQUESTÃO 77\\t\\nHavia já muito tempo que a Europa desfrutava os \\nbenefícios da vacina e arrancava à morte milhares de \\ninocentes, condenados a serem vítimas do terrível flagelo \\ndas bexigas, e o governo de Portugal nunca se lembrara de \\ntransmitir ao Brasil a mais útil das descobertas humanas, \\nquando aliás nenhum país mais do que ele carecia deste \\nsalutar invento ou se atendesse às vantagens da população \\nou ao perdimento de imensas somas na mortandade \\ncontínua de escravos, que este flagelo devorava. O certo \\né que mais ocupado de seu ouro que de seus habitantes, \\nPortugal, como em outros muitos casos, esperou que o \\nBrasil por seu próprio impulso remediasse a este mal.\\nPEREIRA, J. C. 12 jan. 1828 apud LOPES, M. B.; POLITO, R. Para uma história \\nda vacina no Brasil: um manuscrito inédito de Norberto e Macedo. História, \\nCiências, Saúde — Manguinhos, n. 2, abr.-jun. 2007 (adaptado).\\nEscrito em 1828, o texto expressa a seguinte ideia de \\norigem iluminista:\\nA\\t\\nA\\t As leis observáveis regem o mundo material.\\nB\\t\\nB\\t O monarca racional promove a sociedade justa.\\nC\\t\\nC\\t O direito natural justifica a liberdade dos homens.\\nD\\t\\nD\\t A produção da terra garante a riqueza das nações.\\nE\\t\\nE\\t A responsabilidade dos governantes assegura a saúde \\ndos povos.\\nQUESTÃO 78\\t\\nOs movimentos da agricultura urbana no Rio de \\nJaneiro vêm crescendo nos últimos vinte anos, tanto \\npor meio de reproduções de modelos de vida antigos, \\nvinculados ao resgate dos próprios costumes, como — e \\ncada vez mais — são revelados hábitos inventivos nos \\nquais moradores urbanos de diferentes classes sociais, \\nsem nenhuma referência anterior com o campo, passam a \\nse dedicar a essas atividades. Ao possibilitar o acesso ao \\nplantio e, consequentemente, à alimentação, permite-se \\numa nova relação com o que se come, reduzindo o \\npercurso da cadeia produtiva e aproximando produtores \\nde consumidores, pois ambos se confundem nas \\nexperiências de agricultura urbana.\\nPORTILHO, M.; RODRIGUES, C. G. O.; FERNANDEZ, A. C. F. Cultivando relações no \\narranjo local da Penha: a mobilização de mulheres a partir das práticas de agricultura \\nurbana na favela. Cidades, Comunidades e Territórios, n. 42, jun. 2021.\\nA prática agrícola destacada no texto apresenta como \\nvantagem no espaço urbano a\\nA\\t\\nA\\t ocupação de lugares ociosos.\\nB\\t\\nB\\t densificação da área central.\\nC\\t\\nC\\t valorização do mercado externo.\\nD\\t\\nD\\t priorização de insumos químicos.\\nE\\t\\nE\\t mecanização de técnicas de cultivo.\\n \\nQUESTÃO 79\\t\\nTEXTO I\\nGerineldo dorme porque já está conformado com o \\nseu mundo. Porque já sabe tudo o que lhe pode acontecer \\napós haver submetido todos os objetos que o rodeiam a um \\nminucioso inventário de possibilidades. Seu apartamento, \\nmais que um apartamento, é uma teoria de sorte e de azar. \\nMelhor que ninguém, Gerineldo conhece o coeficiente \\nda dilatação de suas janelas e mantém marcado no \\ntermômetro, com uma linha vermelha, o ponto em que \\nse quebrarão os vidros, despedaçados em estilhaços \\nde morte. Sabe que os arquitetos e os engenheiros já \\npreviram tudo, menos o que nunca já aconteceu.\\nMÁRQUEZ, G. G. O pessimista. In: Textos do Caribe. Rio de Janeiro: Record, 1981.\\nTEXTO II\\nA situação é o sujeito inteiro (ele não é nada a não ser \\na sua situação) e é também a coisa inteira (nunca há mais \\nnada senão as coisas). É o sujeito a elucidar as coisas \\npela sua própria superação, se assim quisermos; ou são \\nas coisas a reenviar ao sujeito a imagem dele. É a total \\nfacticidade, a contingência absoluta do mundo, do meu \\nnascimento, do meu lugar, do meu passado, dos meus \\nredores — e é a minha liberdade sem limites que faz com \\nque haja para mim uma facticidade.\\nSARTRE, J.-P. O ser e o nada: ensaio de ontologia fenomenológica. \\nPetrópolis: Vozes, 1997 (adaptado).\\nA postura determinista adotada pelo personagem \\nGerineldo contrasta com a ideia existencialista contida \\nno pensamento filosófico de Sartre porque\\nA\\t\\nA\\t evidencia a manifestação do inconsciente.\\nB\\t\\nB\\t nega a possibilidade de transcendência.\\nC\\t\\nC\\t contraria o conhecimento difuso.\\nD\\t\\nD\\t sustenta a fugacidade da vida.\\nE\\t\\nE\\t refuta a evolução biológica.\\nQUESTÃO 80\\t\\nO Golpe Militar de 1964 foi implacável no combate \\nao que restava das Ligas Camponesas, generalizadas na \\ndécada anterior. No entanto, em relação aos sindicatos, \\nsua atitude foi ambígua. Por meio de acordos com os \\nEstados Unidos, foram concebidos centros sindicais e \\ncursos de liderança com base em princípios conservadores \\ne ministrados por membros da Igreja Católica.\\nDEL PRIORE, M.; VENÂNCIO, R. Uma história da vida rural no Brasil. \\nRio de Janeiro: Ediouro, 2006 (adaptado).\\nOs sindicatos rurais foram tratados da forma descrita no \\ntexto porque o governo pretendia utilizá-los para\\nA\\t\\nA\\t controlar as tensões políticas.\\nB\\t\\nB\\t limitar a legislação trabalhista.\\nC\\t\\nC\\t divulgar o programa populista.\\nD\\t\\nD\\t regularizar a propriedade da terra.\\nE\\t\\nE\\t estimular a oferta de mão de obra.\\n*010175AZ28*\\n\\n29\\n–CH • 1º DIA • CADERNO 1 • AZUL–\\nQUESTÃO 81\\t\\nA economia das ilegalidades se reestruturou com o \\ndesenvolvimento da sociedade capitalista. A ilegalidade dos \\nbens foi separada da ilegalidade dos direitos. Divisão que \\ncorresponde a uma oposição de classes, pois, de um lado, a \\nilegalidade mais acessível às classes populares será a dos \\nbens — transferência violenta das propriedades; de outro, \\nà burguesia, então, se reservará a ilegalidade dos direitos: \\na possibilidade de desviar seus próprios regulamentos \\ne suas próprias leis; e essa grande redistribuição das \\nilegalidades se traduzirá até por uma especialização dos \\ncircuitos judiciários; para as ilegalidades de bens — para \\no roubo — os tribunais ordinários e os castigos; para \\nas ilegalidades de direitos — fraudes, evasões fiscais, \\noperações comerciais irregulares — jurisdições especiais \\ncom transações, acomodações, multas atenuadas etc.\\nFOUCAULT, M. Vigiar e punir: nascimento da prisão. Petrópolis: Vozes, 1987.\\nO texto apresenta uma relação de cálculo político-econômico \\nque caracteriza o poder punitivo por meio da\\nA\\t\\nA\\t gestão das ilicitudes pelo sistema judicial.\\nB\\t\\nB\\t aplicação das sanções pelo modelo equânime.\\nC\\t\\nC\\t supressão dos crimes pela penalização severa.\\nD\\t\\nD\\t regulamentação dos privilégios pela justiça social.\\nE\\t\\nE\\t repartição de vantagens pela hierarquização cultural.\\nQUESTÃO 82\\t\\nOs vapores cruzavam os mares transportando \\npessoas, mercadorias e ideias, e ainda carregavam a mala \\npostal, repleta de mensagens. Múltiplas histórias escritas \\natravessavam o oceano buscando por notícias de filhos e \\npais, irmãos, maridos e esposas, noivos e noivas. As missivas \\ntraziam boas e más novas, comunicavam alegremente \\nnascimentos e casamentos, também doenças e mortes; \\nenviavam declarações de amor e fidelidade, fotos de família; \\nencaminhavam conselhos de velhos, pedidos de ajuda e de \\ndinheiro; expediam cartas bancárias e de chamada. Essa \\nliteratura epistolar possibilitava a transmissão e reconstrução \\ndas tradições. Os deslocamentos tornaram-se um dos mais \\npotentes produtores de escritura ao longo da história.\\nTRUZZI, O.; MATOS, I. Saudades: sensibilidades no epistolário de e/imigrantes \\nportugueses (Portugal-Brasil 1890-1930). Rev. Bras. Hist., n. 70, jul.-dez. 2015.\\nConforme o texto, as correspondências trocadas entre \\nimigrantes no Brasil com os seus países de procedência \\nconstituíam um dispositivo tecnológico que possibilitava o(a)\\nA\\t\\nA\\t disputa ideológica entre a comunidade de estrangeiros \\ne a de nativos.\\nB\\t\\nB\\t circularidade cultural entre a sociedade de partida e \\na de acolhimento.\\nC\\t\\nC\\t controle doutrinário das narrativas do cotidiano de \\norigem e de destino.\\nD\\t\\nD\\t fiscalização política dos fluxos de populações do Novo \\ne do Velho Mundo.\\nE\\t\\nE\\t monitoramento social dos grupos de trabalhadores da \\ncidade e do campo.\\nQUESTÃO 83\\t\\nDiversos são os fatores causadores da degradação \\ndo solo, atuando de forma direta ou indireta, mas quase \\nsempre a grande maioria das terras degradadas inicia esse \\nprocesso com o desmatamento, que pode ser seguido \\npor diversas formas de ocupação desordenada, como: \\ncorte de taludes para a construção de casas, rodovias e \\nferrovias, agricultura, com uso da queimada, vários tipos de \\nmineração, irrigação excessiva, crescimento desordenado \\ndas cidades, superpastoreio, uso do solo para diversos \\ntipos de despejos industriais e domésticos, sem tratamento \\nda área que recebe esses despejos; enfim, de uma forma \\nou de outra, os solos tornam-se degradados, sendo muitas \\nvezes difícil, ou quase impossível, a sua recuperação.\\nGUERRA, A. T. Degradação dos solos: conceitos e temas. In: GUERRA, A. T.; \\nJORGE, M. C. O. (Org.). Degradação dos solos no Brasil. \\nRio de Janeiro: Difel, 2018.\\nA partir da ocupação desordenada exposta no texto, o que \\nimpede a recuperação do recurso natural destacado é a\\nA\\t\\nA\\t elevação da biomassa.\\nB\\t\\nB\\t redução da salinização.\\nC\\t\\nC\\t diminuição da fertilidade.\\nD\\t\\nD\\t ampliação da microfauna. \\nE\\t\\nE\\t decomposição do substrato.\\nQUESTÃO 84\\t\\nA partir da década de 1930, começam a ser discutidos \\nno Brasil os princípios de racionalização do trabalho. \\nAs preocupações com a cozinha e o trabalho doméstico \\nforam introduzidas com a medicina sanitária e a oferta \\nde gás e eletricidade para uso doméstico no início do \\nséculo XX. A organização da cozinha visava atingir \\numa simplificação das tarefas, com a economia de \\nmovimentos, e o barateamento dos equipamentos, a \\npartir da produção em grande escala. A padronização e \\nracionalização da habitação e seus componentes visava \\numa radical transformação da casa, em especial da \\ncozinha, e apoiava-se tanto no desenvolvimento de novos \\nequipamentos quanto nos estudos de racionalização \\ndo trabalho doméstico. A principal preocupação era \\no desenvolvimento de um novo tipo de habitação, que \\ndeveria induzir um novo comportamento social.\\nSILVA, J. L. M. Transformações no espaço doméstico: o fogão a gás e a cozinha \\npaulistana, 1870-1930. Anais do Museu Paulista, n. 2, jul.-dez. 2007 (adaptado).\\nNo contexto descrito, as mudanças mencionadas \\nproporcionavam às mulheres o(a)\\nA\\t\\nA\\t controle do orçamento familiar.\\nB\\t\\nB\\t libertação das tradições religiosas.\\nC\\t\\nC\\t exercício da representatividade política.\\nD\\t\\nD\\t ampliação dos momentos de socialização.\\nE\\t\\nE\\t afastamento das atividades especializadas.\\n \\n*010175AZ29*\\n\\n30\\n–CH • 1º DIA • CADERNO 1 • AZUL–\\nQUESTÃO 85\\t\\nProdutores rurais europeus são antigos opositores \\nde um grande acordo com o Mercosul. Na visão deles, \\nexiste um nítido risco de concorrência desleal, pois, na \\nEuropa, é preciso seguir regras mais rígidas de produção, \\no que encarece o processo. Assim, eles não conseguiriam \\ncompetir com os preços, por exemplo, da carne brasileira \\ne teriam seus negócios ameaçados. Por outro lado, o setor \\nindustrial europeu se mobiliza a favor do acordo, uma \\nvez que as reduções de tarifas no comércio internacional \\ndariam maior acesso ao mercado sul-americano. Um \\nexemplo é o setor automotivo europeu, que prevê maior \\nparticipação e concorrência nos países do Mercosul caso \\no acordo siga em frente.\\nROUBICEK, M. Como o risco ambiental afeta o acordo entre Mercosul e União Europeia. \\nDisponível em: www.nexojornal.com.br. Acesso em: 25 out. 2021.\\nNo contexto do acordo citado, os dois grupos econômicos \\neuropeus defendem, respectivamente, a\\nA\\t\\nA\\t restrição dos fluxos migratórios e a maior atuação de \\nsindicatos.\\nB\\t\\nB\\t ampliação das leis trabalhistas e a plena importação \\nde manufaturados.\\nC\\t\\nC\\t proteção das florestas nacionais e a ampla \\ntransferência de tecnologias.\\nD\\t\\nD\\t manutenção das barreiras fitossanitárias e a livre \\ncirculação de mercadorias.\\nE\\t\\nE\\t remoção dos entraves alfandegários e a melhor \\nremuneração de empregados.\\nQUESTÃO 86\\t\\nDurante a Revolução Francesa, um certo padre Niollant \\nescondeu-se no pequeno castelo de L’Escarbas. Pagou \\namplamente a hospitalidade do velho fidalgo ocupando-se \\nda educação de sua filha, Anaïs. A presença da mãe em \\nnada modificou essa educação masculina dada a uma \\njovem criatura já muito inclinada à independência em \\nvirtude da vida no campo. O padre transmitiu à aluna sua \\nintrepidez de opiniões e sua facilidade de julgamento, \\nsem pensar que essas qualidades, tão necessárias num \\nhomem, se tornam defeitos numa mulher destinada aos \\nhumildes afazeres de mãe de família. Embora o padre \\nrecomendasse continuamente à aluna ser tanto mais \\ngraciosa e modesta quanto seu saber era mais extenso, \\na senhorita de Nègrepelisse ficou com excelente opinião \\nde si mesma.\\nBALZAC, H. Ilusões perdidas. São Paulo: Penguin Classics; \\nCia. das Letras, 2011 (adaptado).\\nO comportamento desenvolvido pela personagem \\nevidencia uma postura de\\nA\\t\\nA\\t abandono de laços afetivos.\\nB\\t\\nB\\t negação da ideia de subjetividade.\\nC\\t\\nC\\t aceitação da hierarquia de gênero.\\nD\\t\\nD\\t consolidação da estratificação social.\\nE\\t\\nE\\t ruptura de valores institucionalizados.\\nQUESTÃO 87\\t\\nTEXTO I\\nOriunda da Romênia, Genny Gleizer aportou no Brasil \\nem 1932. Assim como milhares de judeus do Leste Europeu, \\nsua vinda para o Brasil ocorreu em um momento de ascensão \\ndo antissemitismo na Europa que tornava precárias suas \\nvidas. O Brasil se colocava como uma possibilidade na \\nbusca por condições de sobrevivência e desenvolvimento.\\nANTÃO, A. C. C. B. Gênero, imigração e política: o caso da judia comunista Genny Gleizer \\nno Governo Vargas (1932-1935). Rio de Janeiro: Casa de Oswaldo Cruz, 2017 (adaptado).\\nTEXTO II\\nA presença judaica no Brasil foi criando aos poucos \\ncertas desconfianças que se refletiram em órgãos da \\nimprensa e em círculos intelectuais e políticos. Em parte, \\nessa imagem negativa adviria da onda nacionalista surgida \\nno final dos anos 1910, que concebia imigrantes como \\nconcorrentes dos trabalhadores brasileiros, ou como \\nseres improdutivos, exploradores da mão de obra e da \\nriqueza autóctone. Além disso, as elites políticas da época \\nacreditavam que os estrangeiros eram portadores das \\ndoutrinas anarquista e comunista, estranhas à “índole \\ndo povo brasileiro”. Esses “indesejáveis” seriam um mal \\nexterno que corromperia a nação.\\nMAIO, M. C.; CALAÇA, C. E. Um balanço da bibliografia sobre o antissemitismo \\nno Brasil. In: GRINBERG, K. (Org.). Os judeus no Brasil. \\nRio de Janeiro: Civilização Brasileira, 2005 (adaptado). \\nConforme descrito nos textos, o tratamento dispensado \\naos grupos mencionados se fundamentava em\\nA\\t\\nA\\t preceitos teológicos e religiosos.\\nB\\t\\nB\\t aspectos socioeconômicos e ideológicos.\\nC\\t\\nC\\t regulamentações territoriais e alfandegárias.\\nD\\t\\nD\\t orientações constitucionais e estatutárias.\\nE\\t\\nE\\t decretos legislativos e internacionais.\\nQUESTÃO 88\\t\\nConcorrer e competir não são a mesma coisa. \\nA concorrência pode até ser saudável sempre que a batalha \\nentre agentes, para melhor empreender uma tarefa e obter \\nmelhores resultados finais, exige o respeito a certas regras de \\nconvivência preestabelecidas ou não. Já a competitividade \\nse funda na invenção de novas armas de luta, num exercício \\nem que a única regra é a conquista da melhor posição. \\nA competitividade é uma espécie de guerra em que tudo \\nvale e, desse modo, sua prática provoca um afrouxamento \\ndos valores morais e um convite ao exercício da violência.\\nSANTOS, M. Por uma outra globalização: do pensamento único \\nà consciência universal. Rio de Janeiro: Record, 2006.\\nDe acordo com a diferenciação feita pelo autor, que prática \\neconômica é considerada moralmente condenável?\\nA\\t\\nA\\t Adoção do dumping comercial.\\nB\\t\\nB\\t Fusão da função administrativa.\\nC\\t\\nC\\t Criação de holding empresarial.\\nD\\t\\nD\\t Limitação do mercado monopolista.\\nE\\t\\nE\\t Modernização da produção industrial.\\n*010175AZ30*\\n\\n31\\n–CH • 1º DIA • CADERNO 1 • AZUL–\\nQUESTÃO 89\\t\\nSimulação de mudança da temperatura média anual em relação ao período pré-industrial em três cenários de aquecimento global\\nSimulação de mudança da pluviosidade média anual em relação ao período pré-industrial em três cenários de aquecimento global\\n1,5 °C de aquecimento global\\n2 °C de aquecimento global\\n4 °C de aquecimento global\\n1,5 °C de aquecimento global\\n2 °C de aquecimento global\\nVariação (°C)\\nMais seco\\nMais úmido\\nMais quente\\nVariação (%)\\n4 °C de aquecimento global\\n0\\n-40\\n-30\\n-20\\n-10\\n0\\n10\\n20\\n30\\n40\\nFonte: IPCC\\n0,5\\n1\\n1,5\\n2\\n2,5\\n3\\n3,5\\n4\\n4,5\\n5\\n5,5\\n6\\n6,5\\n7\\nPIVETTA, M. O clima no Antropoceno. Revista Pesquisa Fapesp, n. 307, set. 2021.\\nQual medida é capaz de minimizar as mudanças apresentadas nas simulações?\\nA\\t\\nA\\t Expandir o transporte marítimo.\\nB\\t\\nB\\t Incentivar os fluxos migratórios.\\nC\\t\\nC\\t Monitorar as atividades vulcânicas.\\nD\\t\\nD\\t Controlar as emissões de carbono.\\nE\\t\\nE\\t Priorizar a utilização de termoelétricas.\\nQUESTÃO 90\\t\\nNão tinha outra filosofia. Nem eu. Não digo que a Universidade me não tivesse ensinado alguma; mas eu decorei-lhe \\nsó as fórmulas, o vocabulário, o esqueleto. Tratei-a como tratei o latim; embolsei três versos de Virgílio, dois de \\nHorácio, uma dúzia de locuções morais e políticas, para as despesas da conversação. Tratei-os como tratei a história \\ne a jurisprudência. Colhi de todas as cousas a fraseologia, a casca, a ornamentação.\\nASSIS, M. Memórias póstumas de Brás Cubas. Belo Horizonte: Autêntica, 1999.\\nA descrição crítica do personagem de Machado de Assis assemelha-se às características dos sofistas, contestados \\npelos filósofos gregos da Antiguidade, porque se mostra alinhada à\\nA\\t\\nA\\t elaboração conceitual de entendimentos.\\nB\\t\\nB\\t utilização persuasiva do discurso.\\nC\\t\\nC\\t narração alegórica dos rapsodos.\\nD\\t\\nD\\t investigação empírica da physis.\\nE\\t\\nE\\t expressão pictográfica da pólis.\\n*010175AZ31*\\n\\nRASCUNHO\\nDA REDAÇÃO\\nTranscreva a sua Redação para a Folha de Redação.\\n1\\n2\\n3\\n4\\n5\\n6\\n7\\n8\\n9\\n10\\n11\\n12\\n13\\n14\\n15\\n16\\n17\\n18\\n19\\n20\\n21\\n22\\n23\\n24\\n25\\n26\\n27\\n28\\n29\\n30\\n32\\n–1º DIA • CADERNO 1 • AZUL–\\n01\\n01\\n*010175AZ32*\\n\\n'"
      ]
     },
     "execution_count": 4,
     "metadata": {},
     "output_type": "execute_result"
    }
   ],
   "source": [
    "total_text"
   ]
  },
  {
   "cell_type": "code",
   "execution_count": 5,
   "metadata": {},
   "outputs": [],
   "source": [
    "# Remover o rodapé\n",
    "rodape_pattern = r\"\\s+•\\s+2º\\s+DIA\\s+•\\s+CADERNO\\s+7\\s+•\\s+AZUL\"\n",
    "total_text = re.sub(rodape_pattern, \"\", total_text)\n",
    "\n",
    "# Remover códigos do rodapé, por exemplo: *020325AZ5*\n",
    "total_text = re.sub(r\"\\*\\w+\\*\", \"\", total_text)\n",
    "\n",
    "# Remover linhas que contenham apenas dígitos (possíveis números de página)\n",
    "total_text = re.sub(r\"\\n\\s*\\d+\\s*\\n\", \"\\n\", total_text)\n",
    "total_text = re.sub(r\"\\n\\s*\\d+\\s*$\", \"\", total_text)\n",
    "\n",
    "# Dividindo o texto em blocos de questões\n",
    "question_blocks = re.split(r\"QUESTÃO\\s+\" if question_caps else \"Questão\\s+\", total_text)\n",
    "question_blocks = [block.strip() for block in question_blocks if block.strip()]\n",
    "\n",
    "results = []\n",
    "\n",
    "for block in question_blocks:\n",
    "    # Extraindo número da questão\n",
    "    m = re.match(r\"(\\d+)\", block)\n",
    "    if not m:\n",
    "        continue \n",
    "    num_quest = m.group(1)\n",
    "    \n",
    "    content = block[m.end():].strip()\n",
    "    \n",
    "    # Separando enunciado e alternativas.\n",
    "    parts = re.split(r\"\\nA\\s*\\n\", content, maxsplit=1)\n",
    "    if len(parts) == 2:\n",
    "        enunciado = parts[0].strip()\n",
    "        alt_text = \"A\\n\" + parts[1].strip()\n",
    "    else:\n",
    "        enunciado = content\n",
    "        alt_text = \"\"\n",
    "    \n",
    "    # Extraindo alternativas\n",
    "    alt_regex = r\"([A-E])\\s+[A-E]\\s+(.*?)(?=(?:\\n[A-E]\\s+[A-E]\\s+)|\\Z)\"\n",
    "    alt_raw = re.findall(alt_regex, alt_text, flags=re.DOTALL)\n",
    "    \n",
    "    # Formatando alternativas como \"A: texto\"\n",
    "    alternativas = \"; \".join([f\"{letter}: {text.strip()}\" for letter, text in alt_raw])\n",
    "    \n",
    "    results.append({\n",
    "        \"numero_questao\": num_quest,\n",
    "        \"enunciado\": enunciado,\n",
    "        \"alternativas\": alternativas\n",
    "    })"
   ]
  },
  {
   "cell_type": "code",
   "execution_count": 11,
   "metadata": {},
   "outputs": [
    {
     "name": "stdout",
     "output_type": "stream",
     "text": [
      "Extração Finalizada\n"
     ]
    }
   ],
   "source": [
    "# Salvando em CSV\n",
    "with open(output_path, \"w\", newline=\"\", encoding=\"utf-8\") as csvfile:\n",
    "    fieldnames = [\"numero_questao\", \"enunciado\", \"alternativas\"]\n",
    "    writer = csv.DictWriter(csvfile, fieldnames=fieldnames)\n",
    "    writer.writeheader()\n",
    "    for row in results[1:]:\n",
    "        writer.writerow(row)\n",
    "\n",
    "print(\"Extração Finalizada\")"
   ]
  },
  {
   "cell_type": "code",
   "execution_count": 12,
   "metadata": {},
   "outputs": [
    {
     "data": {
      "text/html": [
       "<div>\n",
       "<style scoped>\n",
       "    .dataframe tbody tr th:only-of-type {\n",
       "        vertical-align: middle;\n",
       "    }\n",
       "\n",
       "    .dataframe tbody tr th {\n",
       "        vertical-align: top;\n",
       "    }\n",
       "\n",
       "    .dataframe thead th {\n",
       "        text-align: right;\n",
       "    }\n",
       "</style>\n",
       "<table border=\"1\" class=\"dataframe\">\n",
       "  <thead>\n",
       "    <tr style=\"text-align: right;\">\n",
       "      <th></th>\n",
       "      <th>numero_questao</th>\n",
       "      <th>enunciado</th>\n",
       "      <th>alternativas</th>\n",
       "    </tr>\n",
       "  </thead>\n",
       "  <tbody>\n",
       "    <tr>\n",
       "      <th>0</th>\n",
       "      <td>46</td>\n",
       "      <td>Fotografia da avó bordada\\nSCARELI, G. A máqui...</td>\n",
       "      <td>A: percursos e roteiros turísticos.; B: trajet...</td>\n",
       "    </tr>\n",
       "    <tr>\n",
       "      <th>1</th>\n",
       "      <td>47</td>\n",
       "      <td>Felizes tempos eram esses! As moças iam à miss...</td>\n",
       "      <td>A: Hábitos de leitura e mobilidade regional.; ...</td>\n",
       "    </tr>\n",
       "    <tr>\n",
       "      <th>2</th>\n",
       "      <td>48</td>\n",
       "      <td>No Cerrado, o conhecimento local está sendo ca...</td>\n",
       "      <td>A: cerco aos camponeses, inviabilizando a manu...</td>\n",
       "    </tr>\n",
       "    <tr>\n",
       "      <th>3</th>\n",
       "      <td>49</td>\n",
       "      <td>TEXTO I\\nCom uma população de 25 milhões de ha...</td>\n",
       "      <td>A: Promover a ocupação rural.; B: Favorecer a ...</td>\n",
       "    </tr>\n",
       "    <tr>\n",
       "      <th>4</th>\n",
       "      <td>50</td>\n",
       "      <td>Superar a história da escravidão como principa...</td>\n",
       "      <td>A: recuperação do tradicionalismo.; B: estímul...</td>\n",
       "    </tr>\n",
       "  </tbody>\n",
       "</table>\n",
       "</div>"
      ],
      "text/plain": [
       "   numero_questao                                          enunciado  \\\n",
       "0              46  Fotografia da avó bordada\\nSCARELI, G. A máqui...   \n",
       "1              47  Felizes tempos eram esses! As moças iam à miss...   \n",
       "2              48  No Cerrado, o conhecimento local está sendo ca...   \n",
       "3              49  TEXTO I\\nCom uma população de 25 milhões de ha...   \n",
       "4              50  Superar a história da escravidão como principa...   \n",
       "\n",
       "                                        alternativas  \n",
       "0  A: percursos e roteiros turísticos.; B: trajet...  \n",
       "1  A: Hábitos de leitura e mobilidade regional.; ...  \n",
       "2  A: cerco aos camponeses, inviabilizando a manu...  \n",
       "3  A: Promover a ocupação rural.; B: Favorecer a ...  \n",
       "4  A: recuperação do tradicionalismo.; B: estímul...  "
      ]
     },
     "execution_count": 12,
     "metadata": {},
     "output_type": "execute_result"
    }
   ],
   "source": [
    "df = pd.read_csv(output_path)\n",
    "df.head()"
   ]
  },
  {
   "cell_type": "markdown",
   "metadata": {},
   "source": [
    "## Enem Digital (2021)"
   ]
  },
  {
   "cell_type": "code",
   "execution_count": 20,
   "metadata": {},
   "outputs": [],
   "source": [
    "# Definição de Variáveis de Input e Output\n",
    "year = 2021\n",
    "\n",
    "input_path = f\"../data/provas/ENEM_{year}.pdf\"\n",
    "output_path = f\"../data/extracted_questions/enem_{year}.csv\""
   ]
  },
  {
   "cell_type": "code",
   "execution_count": 21,
   "metadata": {},
   "outputs": [],
   "source": [
    "# Extraindo texto do ENEM\n",
    "document = pymupdf.open(input_path)\n",
    "total_text = \"\"\n",
    "\n",
    "for page in document.pages(53,98):\n",
    "    text = page.get_text()\n",
    "    total_text += text + \"\\n\""
   ]
  },
  {
   "cell_type": "code",
   "execution_count": 22,
   "metadata": {},
   "outputs": [],
   "source": [
    "# Padrão do ENEM Digital\n",
    "question_pattern = r\"Questão\\s+(\\d+)\\s+-\\s+Ciências Humanas e suas Tecnologias(.*?)(?=Questão\\s+\\d+\\s+-\\s+Ciências Humanas e suas Tecnologias|$)\"\n",
    "question_matches = re.findall(question_pattern, total_text, flags=re.DOTALL)\n",
    "\n",
    "results = []\n",
    "\n",
    "# Padrão de formatação das alternativas do ENEM Digital\n",
    "alt_regex = r\"\\n(?:\\d+\\n)*([A-E])\\n([^\\n]+)\"\n",
    "\n",
    "for num_quest, block in question_matches:\n",
    "    content = block.strip()\n",
    "\n",
    "    alt_raw = re.findall(alt_regex, content)\n",
    "\n",
    "    enunciado = content\n",
    "    alt_match = re.search(alt_regex, content)\n",
    "    if alt_match:\n",
    "        enunciado = content[: alt_match.start()].strip()\n",
    "\n",
    "    # Formatando alternativas como \"A: texto\"\n",
    "    alternativas = \"; \".join([f\"{letter}: {text.strip()}\" for letter, text in alt_raw])\n",
    "\n",
    "    results.append(\n",
    "        {\n",
    "            \"numero_questao\": num_quest,\n",
    "            \"enunciado\": enunciado,\n",
    "            \"alternativas\": alternativas,\n",
    "        }\n",
    "    )"
   ]
  },
  {
   "cell_type": "code",
   "execution_count": 23,
   "metadata": {},
   "outputs": [
    {
     "name": "stdout",
     "output_type": "stream",
     "text": [
      "Extração Finalizada\n"
     ]
    }
   ],
   "source": [
    "# Salvando em CSV\n",
    "with open(output_path, \"w\", newline=\"\", encoding=\"utf-8\") as csvfile:\n",
    "    fieldnames = [\"numero_questao\", \"enunciado\", \"alternativas\"]\n",
    "    writer = csv.DictWriter(csvfile, fieldnames=fieldnames)\n",
    "    writer.writeheader()\n",
    "    for row in results:\n",
    "        writer.writerow(row)\n",
    "\n",
    "print(\"Extração Finalizada\")"
   ]
  },
  {
   "cell_type": "code",
   "execution_count": 24,
   "metadata": {},
   "outputs": [
    {
     "data": {
      "text/html": [
       "<div>\n",
       "<style scoped>\n",
       "    .dataframe tbody tr th:only-of-type {\n",
       "        vertical-align: middle;\n",
       "    }\n",
       "\n",
       "    .dataframe tbody tr th {\n",
       "        vertical-align: top;\n",
       "    }\n",
       "\n",
       "    .dataframe thead th {\n",
       "        text-align: right;\n",
       "    }\n",
       "</style>\n",
       "<table border=\"1\" class=\"dataframe\">\n",
       "  <thead>\n",
       "    <tr style=\"text-align: right;\">\n",
       "      <th></th>\n",
       "      <th>numero_questao</th>\n",
       "      <th>enunciado</th>\n",
       "      <th>alternativas</th>\n",
       "    </tr>\n",
       "  </thead>\n",
       "  <tbody>\n",
       "    <tr>\n",
       "      <th>0</th>\n",
       "      <td>46</td>\n",
       "      <td>Seu turno de trabalho acabou, você já está em ...</td>\n",
       "      <td>A: proteção da vida privada.; B: ampliação de ...</td>\n",
       "    </tr>\n",
       "    <tr>\n",
       "      <th>1</th>\n",
       "      <td>47</td>\n",
       "      <td>Quando a taxa de remuneração do capital excede...</td>\n",
       "      <td>A: ideologia do mérito.; B: direito de nascime...</td>\n",
       "    </tr>\n",
       "    <tr>\n",
       "      <th>2</th>\n",
       "      <td>48</td>\n",
       "      <td>Atualmente, o Programa de Melhoramento \"Uvas d...</td>\n",
       "      <td>A: espécies nativas ameaçadas.; B: cadeias eco...</td>\n",
       "    </tr>\n",
       "    <tr>\n",
       "      <th>3</th>\n",
       "      <td>49</td>\n",
       "      <td>TEXTO I\\nPortadoras de mensagem espiritual do ...</td>\n",
       "      <td>A: ampliação do comércio de imagens sacras.; B...</td>\n",
       "    </tr>\n",
       "    <tr>\n",
       "      <th>4</th>\n",
       "      <td>50</td>\n",
       "      <td>TEXTO I\\nEm 2016, foram gerados 44,7 milhões d...</td>\n",
       "      <td>A: Exercício pleno da cidadania.; B: Divisão i...</td>\n",
       "    </tr>\n",
       "  </tbody>\n",
       "</table>\n",
       "</div>"
      ],
      "text/plain": [
       "   numero_questao                                          enunciado  \\\n",
       "0              46  Seu turno de trabalho acabou, você já está em ...   \n",
       "1              47  Quando a taxa de remuneração do capital excede...   \n",
       "2              48  Atualmente, o Programa de Melhoramento \"Uvas d...   \n",
       "3              49  TEXTO I\\nPortadoras de mensagem espiritual do ...   \n",
       "4              50  TEXTO I\\nEm 2016, foram gerados 44,7 milhões d...   \n",
       "\n",
       "                                        alternativas  \n",
       "0  A: proteção da vida privada.; B: ampliação de ...  \n",
       "1  A: ideologia do mérito.; B: direito de nascime...  \n",
       "2  A: espécies nativas ameaçadas.; B: cadeias eco...  \n",
       "3  A: ampliação do comércio de imagens sacras.; B...  \n",
       "4  A: Exercício pleno da cidadania.; B: Divisão i...  "
      ]
     },
     "execution_count": 24,
     "metadata": {},
     "output_type": "execute_result"
    }
   ],
   "source": [
    "df = pd.read_csv(output_path)\n",
    "df.head()"
   ]
  },
  {
   "cell_type": "code",
   "execution_count": null,
   "metadata": {},
   "outputs": [],
   "source": []
  }
 ],
 "metadata": {
  "kernelspec": {
   "display_name": "Python 3 (ipykernel)",
   "language": "python",
   "name": "python3"
  },
  "language_info": {
   "codemirror_mode": {
    "name": "ipython",
    "version": 3
   },
   "file_extension": ".py",
   "mimetype": "text/x-python",
   "name": "python",
   "nbconvert_exporter": "python",
   "pygments_lexer": "ipython3",
   "version": "3.9.12"
  }
 },
 "nbformat": 4,
 "nbformat_minor": 2
}
