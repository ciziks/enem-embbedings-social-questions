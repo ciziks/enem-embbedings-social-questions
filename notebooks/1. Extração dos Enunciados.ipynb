{
 "cells": [
  {
   "cell_type": "markdown",
   "id": "36046665",
   "metadata": {},
   "source": [
    "# 1. Extração dos Enunciados das Provas do Enem LEDOR (2015-2023)\n",
    "\n",
    "Este notebook apresenta o processo de extração textual das provas do ENEM adaptadas para acessibilidade, conhecidas como provas LEDOR. Essas versões são destinadas a participantes com deficiência visual e trazem descrições detalhadas de imagens e gráficos, além de uma estrutura mais textual e padronizada.\n",
    "\n",
    "Optamos por utilizar as provas LEDOR ao invés da aplicação regular devido aos seguintes benefícios para a nossa tarefas de PLN e predição:\n",
    "\n",
    "- Enunciados mais completos e com menos dependência de elementos visuais;\n",
    "- Formato mais limpo, facilitando a tokenização, análise semântica e a modelagem textual;\n",
    "- Melhor desempenho na extração automática com bibliotecas como PyMuPDF, em conjunto com regex e revisão manual.\n"
   ]
  },
  {
   "cell_type": "code",
   "execution_count": 16,
   "id": "b73d7354",
   "metadata": {
    "scrolled": true
   },
   "outputs": [],
   "source": [
    "# Importando as bibliotecas necessárias para extração de texto\n",
    "import re\n",
    "import pandas as pd\n",
    "from PyPDF2 import PdfReader"
   ]
  },
  {
   "cell_type": "markdown",
   "id": "005f9de7",
   "metadata": {},
   "source": [
    "## 1.1. Funções Auxiliares"
   ]
  },
  {
   "cell_type": "code",
   "execution_count": 17,
   "id": "7eec2b24",
   "metadata": {},
   "outputs": [],
   "source": [
    "# Função que recebe o caminho do pdf, a página de início e a de fim e retorna as questões\n",
    "def extract_questions(full_text: str, caps_lock: bool = False) -> list[str]:\n",
    "    delimiter = \"QUESTÃO \" if caps_lock else \"Questão \"\n",
    "    sections = full_text.split(delimiter)\n",
    "    questions = [s[3:] for s in sections if s[:2].isnumeric()]\n",
    "    return questions\n",
    "\n",
    "# Extração dos enunciados\n",
    "def get_questions_text(pdf_path: str, start_page: int, end_page: int, caps_lock: bool = False) -> list[str]:\n",
    "    reader = PdfReader(pdf_path)\n",
    "    final_questions = []\n",
    "\n",
    "    for page_num in range(start_page, end_page):\n",
    "        full_text = reader.pages[page_num].extract_text() or \"\"\n",
    "        final_questions.extend(extract_questions(full_text, caps_lock))\n",
    "\n",
    "    return final_questions"
   ]
  },
  {
   "cell_type": "code",
   "execution_count": 18,
   "id": "ad459e67",
   "metadata": {},
   "outputs": [],
   "source": [
    "# Função que retorna as questões sem as alternativas e as alternativas formatadas\n",
    "def format_alternatives(alt: str) -> str:\n",
    "    match = re.search(r\"(A\\s.+?)(B\\s.+?)(C\\s.+?)(D\\s.+?)(E\\s.+)\", alt)\n",
    "    if match:\n",
    "        groups = match.groups()\n",
    "        return \"; \".join([f\"{item[0]}: {item[2:-1]}\" for item in groups])\n",
    "    return \"\"\n",
    "\n",
    "\n",
    "def get_alternatives(questions: list[str], filter: bool = False) -> tuple[list[str], list[str]]:\n",
    "    formatted_questions = []\n",
    "    formatted_alternatives = []\n",
    "\n",
    "    for question in questions:\n",
    "        parts = re.split(r\"(\\nA\\s.*\\n)\", question)\n",
    "\n",
    "        alternatives_text = \"\".join(parts[-2:]).replace(\"\\n\", \"\")\n",
    "        alternatives_text = re.sub(r\"\\*.*\\*\", \"\", alternatives_text)\n",
    "        alternatives_text = re.sub(r\"(CH).*\\d\", \"\", alternatives_text)\n",
    "        alternatives = format_alternatives(alternatives_text)\n",
    "\n",
    "        question_text = \"\".join(parts[:-2]).replace(\"\\n\", \"\")\n",
    "\n",
    "        formatted_questions.append(question_text)\n",
    "        formatted_alternatives.append(alternatives)\n",
    "\n",
    "    return formatted_questions, formatted_alternatives"
   ]
  },
  {
   "cell_type": "code",
   "execution_count": 19,
   "id": "9cc87bfb",
   "metadata": {},
   "outputs": [],
   "source": [
    "# Função que realiza a leitura dos microdados\n",
    "def reading_data(path_to_data: str, year: str, code: int) -> pd.DataFrame:\n",
    "\n",
    "    df = pd.read_csv(path_to_data, sep=';', encoding='latin-1')\n",
    "    \n",
    "    df = df[(df['SG_AREA'] == 'CH') & (df['TX_COR'].str.lower() == 'laranja')]\n",
    "    df = df[df['CO_PROVA'] == code]\n",
    "    df = df[['CO_POSICAO', 'TX_GABARITO', 'NU_PARAM_A', 'NU_PARAM_B', 'NU_PARAM_C']].copy()\n",
    "    \n",
    "    df['ANO'] = year\n",
    "\n",
    "    return df\n",
    "\n",
    "# Função auxiliar para criar o dataset com as novas colunas\n",
    "\n",
    "def merge_questions_alternatives(dataset: pd.DataFrame, questions: list[str], alts: list[str]) -> pd.DataFrame:\n",
    "    dataset['QUESTOES'] = questions\n",
    "    dataset['ALTERNATIVAS'] = alts\n",
    "\n",
    "    return dataset"
   ]
  },
  {
   "cell_type": "markdown",
   "id": "07778c8b",
   "metadata": {},
   "source": [
    "## 1.2. Extração do Texto e Cruzamento com Microdados"
   ]
  },
  {
   "cell_type": "code",
   "execution_count": 20,
   "id": "b992d913",
   "metadata": {},
   "outputs": [],
   "source": [
    "years = {\n",
    "    2017: (19, 32, True, 408),\n",
    "    2018: (19, 32, True, 464),\n",
    "    2019: (19, 32, False, 520),\n",
    "    2020: (19, 32, False, 574),\n",
    "    2021: (23, 36, False, 886),\n",
    "    2022: (20, 32, True, 1062),\n",
    "    2023: (19, 32, True, 1198),\n",
    "}"
   ]
  },
  {
   "cell_type": "code",
   "execution_count": 21,
   "id": "2bdc821c",
   "metadata": {},
   "outputs": [
    {
     "name": "stdout",
     "output_type": "stream",
     "text": [
      "Arquivo ../data/processed/enem_2017.csv criado com sucesso.\n",
      "Arquivo ../data/processed/enem_2018.csv criado com sucesso.\n",
      "Arquivo ../data/processed/enem_2019.csv criado com sucesso.\n",
      "Arquivo ../data/processed/enem_2020.csv criado com sucesso.\n",
      "Arquivo ../data/processed/enem_2021.csv criado com sucesso.\n",
      "Arquivo ../data/processed/enem_2022.csv criado com sucesso.\n",
      "Arquivo ../data/processed/enem_2023.csv criado com sucesso.\n"
     ]
    }
   ],
   "source": [
    "for year, (start_page, end_page, question_caps, code) in years.items():\n",
    "    path_to_microdados = f\"../data/raw/microdados/microdados_{year}.csv\"\n",
    "    path_to_prova = f\"../data/raw/provas/Enem_{year}.pdf\"\n",
    "    output_path = f\"../data/processed/enem_{year}.csv\"\n",
    "\n",
    "    questions = get_questions_text(path_to_prova, start_page, end_page, question_caps)\n",
    "    questions, alternatives = get_alternatives(questions)\n",
    "\n",
    "    dataset = reading_data(path_to_microdados, year, code)\n",
    "\n",
    "    if year in (2022, 2023):\n",
    "        questions = [question for question in questions if question]\n",
    "        alternatives = [alternative for alternative in alternatives if alternative]\n",
    "        \n",
    "    dataset = merge_questions_alternatives(dataset, questions, alternatives)\n",
    "\n",
    "    dataset = dataset.rename(\n",
    "        columns={\n",
    "            \"CO_POSICAO\": \"numero_questao\",\n",
    "            \"QUESTOES\": \"enunciado\",\n",
    "            \"ALTERNATIVAS\": \"alternativas\",\n",
    "            \"NU_PARAM_B\": \"nu_param_B\",\n",
    "            \"TX_GABARITO\": \"gabarito\",\n",
    "        }\n",
    "    )\n",
    "\n",
    "    dataset.to_csv(output_path, sep=\";\", index=False)\n",
    "    print(f\"Arquivo {output_path} criado com sucesso.\")"
   ]
  },
  {
   "cell_type": "markdown",
   "id": "4879548b",
   "metadata": {},
   "source": [
    "## 1.3. Unindo Todos os Dados em Único Arquivo"
   ]
  },
  {
   "cell_type": "code",
   "execution_count": 22,
   "id": "7652ade3",
   "metadata": {},
   "outputs": [],
   "source": [
    "dataframes = {}\n",
    "output_path = \"../data/final/enem_data.csv\"\n",
    "\n",
    "for year in years:\n",
    "    df_path = f\"../data/processed/enem_{year}.csv\"\n",
    "    df = pd.read_csv(df_path, encoding=\"utf-8\", quotechar='\"', sep=';', index_col=0)\n",
    "    dataframes[year] = df"
   ]
  },
  {
   "cell_type": "code",
   "execution_count": 23,
   "id": "d4616440",
   "metadata": {},
   "outputs": [],
   "source": [
    "df_final = pd.concat(dataframes.values(), axis=0)\n",
    "\n",
    "df_final.to_csv(output_path)"
   ]
  },
  {
   "cell_type": "code",
   "execution_count": 24,
   "id": "d8e098e3",
   "metadata": {},
   "outputs": [
    {
     "data": {
      "text/html": [
       "<div>\n",
       "<style scoped>\n",
       "    .dataframe tbody tr th:only-of-type {\n",
       "        vertical-align: middle;\n",
       "    }\n",
       "\n",
       "    .dataframe tbody tr th {\n",
       "        vertical-align: top;\n",
       "    }\n",
       "\n",
       "    .dataframe thead th {\n",
       "        text-align: right;\n",
       "    }\n",
       "</style>\n",
       "<table border=\"1\" class=\"dataframe\">\n",
       "  <thead>\n",
       "    <tr style=\"text-align: right;\">\n",
       "      <th></th>\n",
       "      <th>numero_questao</th>\n",
       "      <th>gabarito</th>\n",
       "      <th>NU_PARAM_A</th>\n",
       "      <th>nu_param_B</th>\n",
       "      <th>NU_PARAM_C</th>\n",
       "      <th>ANO</th>\n",
       "      <th>enunciado</th>\n",
       "      <th>alternativas</th>\n",
       "    </tr>\n",
       "  </thead>\n",
       "  <tbody>\n",
       "    <tr>\n",
       "      <th>0</th>\n",
       "      <td>1</td>\n",
       "      <td>C</td>\n",
       "      <td>3.43894</td>\n",
       "      <td>0.97831</td>\n",
       "      <td>0.10855</td>\n",
       "      <td>2017</td>\n",
       "      <td>No império africano do Mali, no século XIV, To...</td>\n",
       "      <td>A:  isolamento geográﬁco do Saara ocidental; B...</td>\n",
       "    </tr>\n",
       "    <tr>\n",
       "      <th>1</th>\n",
       "      <td>2</td>\n",
       "      <td>D</td>\n",
       "      <td>3.00837</td>\n",
       "      <td>0.49169</td>\n",
       "      <td>0.13877</td>\n",
       "      <td>2017</td>\n",
       "      <td>Após a Declaração Universal dos Direitos Human...</td>\n",
       "      <td>A:  ataque feito pelos japoneses à base milita...</td>\n",
       "    </tr>\n",
       "    <tr>\n",
       "      <th>2</th>\n",
       "      <td>3</td>\n",
       "      <td>D</td>\n",
       "      <td>0.60432</td>\n",
       "      <td>3.25992</td>\n",
       "      <td>0.08798</td>\n",
       "      <td>2017</td>\n",
       "      <td>A moralidade, Bentham exortava, não é uma ques...</td>\n",
       "      <td>A:  fundamentação cientíﬁca de viés positivist...</td>\n",
       "    </tr>\n",
       "    <tr>\n",
       "      <th>3</th>\n",
       "      <td>4</td>\n",
       "      <td>E</td>\n",
       "      <td>1.85031</td>\n",
       "      <td>0.57925</td>\n",
       "      <td>0.11344</td>\n",
       "      <td>2017</td>\n",
       "      <td>Fala-se muito nos dias de hoje em direitos do ...</td>\n",
       "      <td>A: modernização da educação escolar; B: atuali...</td>\n",
       "    </tr>\n",
       "    <tr>\n",
       "      <th>4</th>\n",
       "      <td>5</td>\n",
       "      <td>C</td>\n",
       "      <td>2.46290</td>\n",
       "      <td>0.76307</td>\n",
       "      <td>0.17672</td>\n",
       "      <td>2017</td>\n",
       "      <td>Na Constituição da República Federativa do Bra...</td>\n",
       "      <td>A:  etnia e miscigenação racial; B:  sociedade...</td>\n",
       "    </tr>\n",
       "  </tbody>\n",
       "</table>\n",
       "</div>"
      ],
      "text/plain": [
       "   numero_questao gabarito  NU_PARAM_A  nu_param_B  NU_PARAM_C   ANO  \\\n",
       "0               1        C     3.43894     0.97831     0.10855  2017   \n",
       "1               2        D     3.00837     0.49169     0.13877  2017   \n",
       "2               3        D     0.60432     3.25992     0.08798  2017   \n",
       "3               4        E     1.85031     0.57925     0.11344  2017   \n",
       "4               5        C     2.46290     0.76307     0.17672  2017   \n",
       "\n",
       "                                           enunciado  \\\n",
       "0  No império africano do Mali, no século XIV, To...   \n",
       "1  Após a Declaração Universal dos Direitos Human...   \n",
       "2  A moralidade, Bentham exortava, não é uma ques...   \n",
       "3  Fala-se muito nos dias de hoje em direitos do ...   \n",
       "4  Na Constituição da República Federativa do Bra...   \n",
       "\n",
       "                                        alternativas  \n",
       "0  A:  isolamento geográﬁco do Saara ocidental; B...  \n",
       "1  A:  ataque feito pelos japoneses à base milita...  \n",
       "2  A:  fundamentação cientíﬁca de viés positivist...  \n",
       "3  A: modernização da educação escolar; B: atuali...  \n",
       "4  A:  etnia e miscigenação racial; B:  sociedade...  "
      ]
     },
     "execution_count": 24,
     "metadata": {},
     "output_type": "execute_result"
    }
   ],
   "source": [
    "df_final = pd.read_csv(output_path)\n",
    "df_final.head()"
   ]
  },
  {
   "cell_type": "code",
   "execution_count": null,
   "id": "c9911ccd",
   "metadata": {},
   "outputs": [],
   "source": []
  }
 ],
 "metadata": {
  "kernelspec": {
   "display_name": "Python 3 (ipykernel)",
   "language": "python",
   "name": "python3"
  },
  "language_info": {
   "codemirror_mode": {
    "name": "ipython",
    "version": 3
   },
   "file_extension": ".py",
   "mimetype": "text/x-python",
   "name": "python",
   "nbconvert_exporter": "python",
   "pygments_lexer": "ipython3",
   "version": "3.9.12"
  }
 },
 "nbformat": 4,
 "nbformat_minor": 5
}
