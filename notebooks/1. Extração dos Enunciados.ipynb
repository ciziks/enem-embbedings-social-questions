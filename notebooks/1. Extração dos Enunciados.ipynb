{
 "cells": [
  {
   "cell_type": "markdown",
   "id": "36046665",
   "metadata": {},
   "source": [
    "# 1. Extração dos Enunciados das Provas do Enem LEDOR (2015-2023)\n",
    "\n",
    "Este notebook apresenta o processo de extração textual das provas do ENEM adaptadas para acessibilidade, conhecidas como provas LEDOR. Essas versões são destinadas a participantes com deficiência visual e trazem descrições detalhadas de imagens e gráficos, além de uma estrutura mais textual e padronizada.\n",
    "\n",
    "Optamos por utilizar as provas LEDOR ao invés da aplicação regular devido aos seguintes benefícios para a nossa tarefas de PLN e predição:\n",
    "\n",
    "- Enunciados mais completos e com menos dependência de elementos visuais;\n",
    "- Formato mais limpo, facilitando a tokenização, análise semântica e a modelagem textual;\n",
    "- Melhor desempenho na extração automática com bibliotecas como PyMuPDF, em conjunto com regex e revisão manual.\n"
   ]
  },
  {
   "cell_type": "code",
   "execution_count": 3,
   "id": "b73d7354",
   "metadata": {},
   "outputs": [],
   "source": [
    "# Importando as bibliotecas necessárias para extração de texto\n",
    "import re\n",
    "import pandas as pd\n",
    "from PyPDF2 import PdfReader"
   ]
  },
  {
   "cell_type": "markdown",
   "id": "005f9de7",
   "metadata": {},
   "source": [
    "## 1.1. Funções Auxiliares"
   ]
  },
  {
   "cell_type": "code",
   "execution_count": 4,
   "id": "7eec2b24",
   "metadata": {},
   "outputs": [],
   "source": [
    "# Função que recebe o caminho do pdf, a página de início e a de fim e retorna as questões\n",
    "def extract_questions(full_text: str, caps_lock: bool = False) -> list[str]:\n",
    "    delimiter = \"QUESTÃO \" if caps_lock else \"Questão \"\n",
    "    sections = full_text.split(delimiter)\n",
    "    questions = [s[3:] for s in sections if s[:2].isnumeric()]\n",
    "    return questions\n",
    "\n",
    "# Extração dos enunciados\n",
    "def get_questions_text(pdf_path: str, start_page: int, end_page: int, caps_lock: bool = False) -> list[str]:\n",
    "    reader = PdfReader(pdf_path)\n",
    "    final_questions = []\n",
    "\n",
    "    for page_num in range(start_page, end_page):\n",
    "        full_text = reader.pages[page_num].extract_text() or \"\"\n",
    "        final_questions.extend(extract_questions(full_text, caps_lock))\n",
    "\n",
    "    return final_questions"
   ]
  },
  {
   "cell_type": "code",
   "execution_count": 21,
   "id": "ad459e67",
   "metadata": {},
   "outputs": [],
   "source": [
    "# Função que retorna as questões sem as alternativas e as alternativas formatadas\n",
    "def format_alternatives(alt: str) -> str:\n",
    "    match = re.search(r\"(A\\s.+?)(B\\s.+?)(C\\s.+?)(D\\s.+?)(E\\s.+)\", alt)\n",
    "    if match:\n",
    "        groups = match.groups()\n",
    "        return \"; \".join([f\"{item[0]}: {item[2:-1]}\" for item in groups])\n",
    "    return \"\"\n",
    "\n",
    "\n",
    "def get_alternatives(questions: list[str], filter: bool = False) -> tuple[list[str], list[str]]:\n",
    "    formatted_questions = []\n",
    "    formatted_alternatives = []\n",
    "\n",
    "    for question in questions:\n",
    "        parts = re.split(r\"(\\nA\\s.*\\n)\", question)\n",
    "\n",
    "        alternatives_text = \"\".join(parts[-2:]).replace(\"\\n\", \"\")\n",
    "        alternatives_text = re.sub(r\"\\*.*\\*\", \"\", alternatives_text)\n",
    "        alternatives_text = re.sub(r\"(CH).*\\d\", \"\", alternatives_text)\n",
    "        alternatives = format_alternatives(alternatives_text)\n",
    "\n",
    "        question_text = \"\".join(parts[:-2]).replace(\"\\n\", \"\")\n",
    "\n",
    "        formatted_questions.append(question_text)\n",
    "        formatted_alternatives.append(alternatives)\n",
    "\n",
    "    return formatted_questions, formatted_alternatives"
   ]
  },
  {
   "cell_type": "code",
   "execution_count": 18,
   "id": "9cc87bfb",
   "metadata": {},
   "outputs": [],
   "source": [
    "# Função que realiza a leitura dos microdados\n",
    "def reading_data(path_to_data: str, year: str) -> pd.DataFrame:\n",
    "\n",
    "    df = pd.read_csv(path_to_data, sep=';', encoding='latin-1')\n",
    "    \n",
    "    df = df[(df['SG_AREA'] == 'CH') & (df['TX_COR'].str.lower() == 'azul')]\n",
    "    df = df[df['CO_PROVA'] == df['CO_PROVA'].min()] # Precisa Alterar\n",
    "    df = df[['CO_POSICAO', 'TX_GABARITO', 'NU_PARAM_A', 'NU_PARAM_B', 'NU_PARAM_C']].copy()\n",
    "    \n",
    "    df['ANO'] = year\n",
    "\n",
    "    return df\n",
    "\n",
    "# Função auxiliar para criar o dataset com as novas colunas\n",
    "\n",
    "def merge_questions_alternatives(dataset: pd.DataFrame, questions: list[str], alts: list[str]) -> pd.DataFrame:\n",
    "    dataset['QUESTOES'] = questions\n",
    "    dataset['ALTERNATIVAS'] = alts\n",
    "\n",
    "    return dataset"
   ]
  },
  {
   "cell_type": "markdown",
   "id": "07778c8b",
   "metadata": {},
   "source": [
    "## 1.2. Extração do Texto e Cruzamento com Microdados"
   ]
  },
  {
   "cell_type": "code",
   "execution_count": 24,
   "id": "b992d913",
   "metadata": {},
   "outputs": [],
   "source": [
    "years = {\n",
    "    2015: (1, 15, True),\n",
    "    2016: (1, 15, True),\n",
    "    2017: (19, 32, True),\n",
    "    2018: (19, 32, True),\n",
    "    2019: (19, 32, False),\n",
    "    2020: (19, 32, False),\n",
    "    2021: (23, 36, False),\n",
    "    2022: (20, 32, True),\n",
    "    2023: (19, 32, True),\n",
    "}"
   ]
  },
  {
   "cell_type": "code",
   "execution_count": 25,
   "id": "2bdc821c",
   "metadata": {},
   "outputs": [
    {
     "name": "stdout",
     "output_type": "stream",
     "text": [
      "Arquivo ../data/processed/enem_2015.csv criado com sucesso.\n",
      "Arquivo ../data/processed/enem_2016.csv criado com sucesso.\n",
      "Arquivo ../data/processed/enem_2017.csv criado com sucesso.\n",
      "Arquivo ../data/processed/enem_2018.csv criado com sucesso.\n",
      "Arquivo ../data/processed/enem_2019.csv criado com sucesso.\n",
      "Arquivo ../data/processed/enem_2020.csv criado com sucesso.\n",
      "Arquivo ../data/processed/enem_2021.csv criado com sucesso.\n",
      "Arquivo ../data/processed/enem_2022.csv criado com sucesso.\n",
      "Arquivo ../data/processed/enem_2023.csv criado com sucesso.\n"
     ]
    }
   ],
   "source": [
    "for year, (start_page, end_page, question_caps) in years.items():\n",
    "    path_to_microdados = f\"../data/raw/microdados/microdados_{year}.csv\"\n",
    "    path_to_prova = f\"../data/raw/provas/Enem_{year}.pdf\"\n",
    "    output_path = f\"../data/processed/enem_{year}.csv\"\n",
    "\n",
    "    questions = get_questions_text(path_to_prova, start_page, end_page, question_caps)\n",
    "    questions, alternatives = get_alternatives(questions)\n",
    "\n",
    "    dataset = reading_data(path_to_microdados, year)\n",
    "\n",
    "    if year in (2022, 2023):\n",
    "        questions = [question for question in questions if question]\n",
    "        alternatives = [alternative for alternative in alternatives if alternative]\n",
    "        \n",
    "    dataset = merge_questions_alternatives(dataset, questions, alternatives)\n",
    "\n",
    "    dataset = dataset.rename(\n",
    "        columns={\n",
    "            \"CO_POSICAO\": \"numero_questao\",\n",
    "            \"QUESTOES\": \"enunciado\",\n",
    "            \"ALTERNATIVAS\": \"alternativas\",\n",
    "            \"NU_PARAM_B\": \"nu_param_B\",\n",
    "            \"TX_GABARITO\": \"gabarito\",\n",
    "        }\n",
    "    )\n",
    "\n",
    "    dataset.to_csv(output_path, sep=\";\", index=False)\n",
    "    print(f\"Arquivo {output_path} criado com sucesso.\")"
   ]
  },
  {
   "cell_type": "markdown",
   "id": "4879548b",
   "metadata": {},
   "source": [
    "## 1.3. Unindo Todos os Dados em Único Arquivo"
   ]
  },
  {
   "cell_type": "code",
   "execution_count": 26,
   "id": "7652ade3",
   "metadata": {},
   "outputs": [],
   "source": [
    "dataframes = {}\n",
    "output_path = \"../data/final/enem_data.csv\"\n",
    "\n",
    "for year in years:\n",
    "    df_path = f\"../data/processed/enem_{year}.csv\"\n",
    "    df = pd.read_csv(df_path, encoding=\"utf-8\", quotechar='\"', sep=';', index_col=0)\n",
    "    dataframes[year] = df"
   ]
  },
  {
   "cell_type": "code",
   "execution_count": 27,
   "id": "d4616440",
   "metadata": {},
   "outputs": [],
   "source": [
    "df_final = pd.concat(dataframes.values(), axis=0)\n",
    "\n",
    "df_final.to_csv(output_path)"
   ]
  },
  {
   "cell_type": "code",
   "execution_count": 28,
   "id": "d8e098e3",
   "metadata": {},
   "outputs": [
    {
     "data": {
      "text/html": [
       "<div>\n",
       "<style scoped>\n",
       "    .dataframe tbody tr th:only-of-type {\n",
       "        vertical-align: middle;\n",
       "    }\n",
       "\n",
       "    .dataframe tbody tr th {\n",
       "        vertical-align: top;\n",
       "    }\n",
       "\n",
       "    .dataframe thead th {\n",
       "        text-align: right;\n",
       "    }\n",
       "</style>\n",
       "<table border=\"1\" class=\"dataframe\">\n",
       "  <thead>\n",
       "    <tr style=\"text-align: right;\">\n",
       "      <th></th>\n",
       "      <th>numero_questao</th>\n",
       "      <th>gabarito</th>\n",
       "      <th>NU_PARAM_A</th>\n",
       "      <th>nu_param_B</th>\n",
       "      <th>NU_PARAM_C</th>\n",
       "      <th>ANO</th>\n",
       "      <th>enunciado</th>\n",
       "      <th>alternativas</th>\n",
       "    </tr>\n",
       "  </thead>\n",
       "  <tbody>\n",
       "    <tr>\n",
       "      <th>0</th>\n",
       "      <td>36</td>\n",
       "      <td>B</td>\n",
       "      <td>1.48784</td>\n",
       "      <td>1.74819</td>\n",
       "      <td>0.25985</td>\n",
       "      <td>2015</td>\n",
       "      <td>As autoridades de Kiribati, arquipélago do Oce...</td>\n",
       "      <td>A: submersão de terras habitadas, decorrente d...</td>\n",
       "    </tr>\n",
       "    <tr>\n",
       "      <th>1</th>\n",
       "      <td>29</td>\n",
       "      <td>E</td>\n",
       "      <td>1.96986</td>\n",
       "      <td>0.66199</td>\n",
       "      <td>0.05233</td>\n",
       "      <td>2015</td>\n",
       "      <td>Energia de Noronha virá da força das águasA en...</td>\n",
       "      <td>A: escolha por essa nova matriz prioriza o(a)A...</td>\n",
       "    </tr>\n",
       "    <tr>\n",
       "      <th>2</th>\n",
       "      <td>22</td>\n",
       "      <td>E</td>\n",
       "      <td>1.71998</td>\n",
       "      <td>1.35820</td>\n",
       "      <td>0.19090</td>\n",
       "      <td>2015</td>\n",
       "      <td>No livro Por uma outra globalização , Milton S...</td>\n",
       "      <td>A: aumento do poder aquisitivo; B: estímulo à ...</td>\n",
       "    </tr>\n",
       "    <tr>\n",
       "      <th>3</th>\n",
       "      <td>7</td>\n",
       "      <td>E</td>\n",
       "      <td>4.05683</td>\n",
       "      <td>1.56767</td>\n",
       "      <td>0.21096</td>\n",
       "      <td>2015</td>\n",
       "      <td>Descrição da imagem: Cartum composto por três ...</td>\n",
       "      <td>A: participação política e formação profission...</td>\n",
       "    </tr>\n",
       "    <tr>\n",
       "      <th>4</th>\n",
       "      <td>20</td>\n",
       "      <td>C</td>\n",
       "      <td>3.12528</td>\n",
       "      <td>2.15381</td>\n",
       "      <td>0.15346</td>\n",
       "      <td>2015</td>\n",
       "      <td>Confidência do itabiranoDe Itabira trouxe pren...</td>\n",
       "      <td>A: pujança da natureza resistindo à ação human...</td>\n",
       "    </tr>\n",
       "  </tbody>\n",
       "</table>\n",
       "</div>"
      ],
      "text/plain": [
       "   numero_questao gabarito  NU_PARAM_A  nu_param_B  NU_PARAM_C   ANO  \\\n",
       "0              36        B     1.48784     1.74819     0.25985  2015   \n",
       "1              29        E     1.96986     0.66199     0.05233  2015   \n",
       "2              22        E     1.71998     1.35820     0.19090  2015   \n",
       "3               7        E     4.05683     1.56767     0.21096  2015   \n",
       "4              20        C     3.12528     2.15381     0.15346  2015   \n",
       "\n",
       "                                           enunciado  \\\n",
       "0  As autoridades de Kiribati, arquipélago do Oce...   \n",
       "1  Energia de Noronha virá da força das águasA en...   \n",
       "2  No livro Por uma outra globalização , Milton S...   \n",
       "3  Descrição da imagem: Cartum composto por três ...   \n",
       "4  Confidência do itabiranoDe Itabira trouxe pren...   \n",
       "\n",
       "                                        alternativas  \n",
       "0  A: submersão de terras habitadas, decorrente d...  \n",
       "1  A: escolha por essa nova matriz prioriza o(a)A...  \n",
       "2  A: aumento do poder aquisitivo; B: estímulo à ...  \n",
       "3  A: participação política e formação profission...  \n",
       "4  A: pujança da natureza resistindo à ação human...  "
      ]
     },
     "execution_count": 28,
     "metadata": {},
     "output_type": "execute_result"
    }
   ],
   "source": [
    "df_final = pd.read_csv(output_path)\n",
    "df_final.head()"
   ]
  },
  {
   "cell_type": "code",
   "execution_count": null,
   "id": "c9911ccd",
   "metadata": {},
   "outputs": [],
   "source": []
  }
 ],
 "metadata": {
  "kernelspec": {
   "display_name": ".venv",
   "language": "python",
   "name": "python3"
  },
  "language_info": {
   "codemirror_mode": {
    "name": "ipython",
    "version": 3
   },
   "file_extension": ".py",
   "mimetype": "text/x-python",
   "name": "python",
   "nbconvert_exporter": "python",
   "pygments_lexer": "ipython3",
   "version": "3.11.3"
  }
 },
 "nbformat": 4,
 "nbformat_minor": 5
}
