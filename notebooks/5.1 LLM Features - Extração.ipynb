{
 "cells": [
  {
   "cell_type": "markdown",
   "id": "f74bc09d",
   "metadata": {
    "id": "f74bc09d"
   },
   "source": [
    "# 5.1. Extraindo *Features* de LLMs\n",
    "\n",
    "* **Input**: PKL contendo todos os enunciados, alternativas e gabaritos\n",
    "\n",
    "* **Output**: CSV com as colunas referentes as respostas que os modelos Llama-3.2 e Deepseek-v3 deram para as questões do ENEM"
   ]
  },
  {
   "cell_type": "markdown",
   "id": "0a710ba3-d596-4adf-8739-382356f1a7df",
   "metadata": {},
   "source": [
    "## 5.1.1 Extração dos dados iniciais"
   ]
  },
  {
   "cell_type": "code",
   "execution_count": 2,
   "id": "a8fcc00c",
   "metadata": {
    "id": "a8fcc00c"
   },
   "outputs": [],
   "source": [
    "# Importando as bibliotecas para lidar com LLMs\n",
    "import pandas as pd\n",
    "import ollama\n",
    "import re\n",
    "import requests\n",
    "import time"
   ]
  },
  {
   "cell_type": "code",
   "execution_count": 85,
   "id": "35021e0a",
   "metadata": {
    "id": "35021e0a"
   },
   "outputs": [],
   "source": [
    "# Caminho do CSV original + outputs finais\n",
    "input_path = \"../data/final/enem_data_embeddings.pkl\"\n",
    "output_path_llama = \"llama_extraction_csv.csv\"\n",
    "output_path_deepseek = \"deepseek_extraction_csv.csv\""
   ]
  },
  {
   "cell_type": "code",
   "execution_count": 4,
   "id": "f5b620ac",
   "metadata": {
    "colab": {
     "base_uri": "https://localhost:8080/"
    },
    "collapsed": true,
    "id": "f5b620ac",
    "jupyter": {
     "outputs_hidden": true
    },
    "outputId": "40e14584-8bb9-425f-8381-dc5687a578a9"
   },
   "outputs": [
    {
     "data": {
      "text/plain": [
       "(270, 16)"
      ]
     },
     "execution_count": 4,
     "metadata": {},
     "output_type": "execute_result"
    }
   ],
   "source": [
    "# Carregar CSV\n",
    "df = pd.read_pickle(input_path)\n",
    "df.shape"
   ]
  },
  {
   "cell_type": "code",
   "execution_count": null,
   "id": "71Q5JidYXCkR",
   "metadata": {
    "colab": {
     "base_uri": "https://localhost:8080/"
    },
    "collapsed": true,
    "id": "71Q5JidYXCkR",
    "jupyter": {
     "outputs_hidden": true
    },
    "outputId": "d3a688b1-e6c9-4fa9-fb5d-6cfd87b10e67",
    "scrolled": true
   },
   "outputs": [],
   "source": [
    "# \"Quebrando\" os dados em batches de 45 questões para facilitar a extração\n",
    "\n",
    "n = 6\n",
    "tamanho = len(df) // n  # 45\n",
    "\n",
    "# Dividindo em 6 DataFrames separados\n",
    "df1 = df.iloc[0*tamanho : 1*tamanho].reset_index(drop=True)\n",
    "df2 = df.iloc[1*tamanho : 2*tamanho].reset_index(drop=True)\n",
    "df3 = df.iloc[2*tamanho : 3*tamanho].reset_index(drop=True)\n",
    "df4 = df.iloc[3*tamanho : 4*tamanho].reset_index(drop=True)\n",
    "df5 = df.iloc[4*tamanho : 5*tamanho].reset_index(drop=True)\n",
    "df6 = df.iloc[5*tamanho : 6*tamanho].reset_index(drop=True)"
   ]
  },
  {
   "cell_type": "markdown",
   "id": "1c2b5767",
   "metadata": {
    "id": "1c2b5767"
   },
   "source": [
    "---\n",
    "## 5.1.2. Configurando modelo LLM"
   ]
  },
  {
   "cell_type": "code",
   "execution_count": 6,
   "id": "9SAzoX_FV5cz",
   "metadata": {
    "id": "9SAzoX_FV5cz"
   },
   "outputs": [],
   "source": [
    "# Definindo prompt para o modelo\n",
    "prompt = \"\"\"Responda à seguinte questão:\n",
    "\n",
    "    Enunciado:\n",
    "    {enunciado}\n",
    "\n",
    "    Alternativas:\n",
    "    {alternativas}\n",
    "\n",
    "    Qual a alternativa correta? Responda explicitamente apenas com a respectiva letra (A, B, C, D ou E). (não inclua coisas como \"É a letra A\", quero apenas o caractere da letra)\"\"\""
   ]
  },
  {
   "cell_type": "markdown",
   "id": "Nswojhk9V22w",
   "metadata": {
    "id": "Nswojhk9V22w"
   },
   "source": [
    "### 5.1.2.1. LLama 3.2"
   ]
  },
  {
   "cell_type": "code",
   "execution_count": null,
   "id": "fY-0au_6YdUE",
   "metadata": {
    "id": "fY-0au_6YdUE"
   },
   "outputs": [],
   "source": [
    "# setando os parametros para extração\n",
    "\n",
    "LLAMA_API_KEY = \"generico\" \n",
    "LLAMA_API_URL = \"https://openrouter.ai/api/v1/chat/completions\"\n",
    "MODEL = \"meta-llama/llama-3.2-3b-instruct:free\""
   ]
  },
  {
   "cell_type": "code",
   "execution_count": null,
   "id": "a7064133",
   "metadata": {
    "id": "a7064133"
   },
   "outputs": [],
   "source": [
    "def ask_llama(enunciado, alternativas, stream=False):\n",
    "    \"\"\"\n",
    "    Envia a pergunta ao modelo Llama. Faz uma única requisição.\n",
    "\n",
    "    Parâmetros:\n",
    "    - enunciado: texto da pergunta\n",
    "    - alternativas: opções de resposta\n",
    "    - stream: se True, imprime chunks em tempo real\n",
    "    \"\"\"\n",
    "    headers = {\n",
    "        \"Authorization\": f\"Bearer {LLAMA_API_KEY}\",\n",
    "        \"Content-Type\": \"application/json\"\n",
    "    }\n",
    "    payload = {\n",
    "        \"model\": MODEL,\n",
    "        \"messages\": [\n",
    "            {\"role\": \"user\", \"content\": prompt.format(enunciado=enunciado, alternativas=alternativas)}\n",
    "        ],\n",
    "        \"stream\": stream,\n",
    "        \"max_tokens\": 2048\n",
    "    }\n",
    "\n",
    "    try:\n",
    "        response = requests.post(LLAMA_API_URL, headers=headers, json=payload)\n",
    "\n",
    "        if response.status_code == 429:\n",
    "            return f\"Erro 429: Rate limit excedido. Tente novamente mais tarde.\"\n",
    "\n",
    "        response.raise_for_status()\n",
    "\n",
    "        if stream:\n",
    "            for chunk in response.iter_lines():\n",
    "                if chunk:\n",
    "                    print(\"Chunk recebido:\", chunk.decode('utf-8'))\n",
    "            return None\n",
    "        else:\n",
    "            full_response = response.json()\n",
    "            return full_response['choices'][0]['message']['content']\n",
    "\n",
    "    except requests.exceptions.HTTPError as http_err:\n",
    "        return f\"Erro HTTP na API: {http_err}\"\n",
    "    except Exception as e:\n",
    "        return f\"Erro na API: {e}\"\n"
   ]
  },
  {
   "cell_type": "markdown",
   "id": "eYzFxdgEWA6o",
   "metadata": {
    "id": "eYzFxdgEWA6o"
   },
   "source": [
    "### 5.1.2.2. Deepseek-v3"
   ]
  },
  {
   "cell_type": "code",
   "execution_count": 74,
   "id": "CQovDvAHWxXa",
   "metadata": {
    "id": "CQovDvAHWxXa"
   },
   "outputs": [],
   "source": [
    "# setando os parametros para extração\n",
    "\n",
    "DEEPSEEK_API_KEY = \"generico\"\n",
    "DEEPSEEK_API_URL = \"https://openrouter.ai/api/v1/chat/completions\"\n",
    "MODEL = \"deepseek/deepseek-chat-v3-0324:free\""
   ]
  },
  {
   "cell_type": "code",
   "execution_count": 75,
   "id": "SarjnhzjTuEn",
   "metadata": {
    "id": "SarjnhzjTuEn"
   },
   "outputs": [],
   "source": [
    "def ask_deepseek(enunciado, alternativas, stream = False):\n",
    "    \"\"\"\n",
    "    Envia a pergunta ao modelo Deepseek. Faz uma única requisição.\n",
    "\n",
    "    Parâmetros:\n",
    "    - enunciado: texto da pergunta\n",
    "    - alternativas: opções de resposta\n",
    "    - stream: se True, imprime chunks em tempo real\n",
    "    \"\"\"\n",
    "    \n",
    "\n",
    "    \n",
    "    headers = {\n",
    "        \"Authorization\": f\"Bearer {DEEPSEEK_API_KEY}\",\n",
    "        \"Content-Type\": \"application/json\"\n",
    "    }\n",
    "    payload = {\n",
    "        \"model\": MODEL,\n",
    "        \"messages\": [\n",
    "            {\"role\": \"user\", \"content\": prompt.format(enunciado=enunciado, alternativas=alternativas)}\n",
    "        ],\n",
    "        \"stream\": stream,\n",
    "        \"max_tokens\": 2048\n",
    "    }\n",
    "\n",
    "    try:\n",
    "        response = requests.post(DEEPSEEK_API_URL, headers=headers, json=payload)\n",
    "\n",
    "        if response.status_code == 429:\n",
    "            return f\"Erro 429: Rate limit excedido. Tente novamente mais tarde.\"\n",
    "\n",
    "        response.raise_for_status()\n",
    "\n",
    "        if stream:\n",
    "            for chunk in response.iter_lines():\n",
    "                if chunk:\n",
    "                    print(\"Chunk recebido:\", chunk.decode('utf-8'))\n",
    "            return None\n",
    "        else:\n",
    "            full_response = response.json()\n",
    "            return full_response['choices'][0]['message']['content']\n",
    "\n",
    "    except requests.exceptions.HTTPError as http_err:\n",
    "        return f\"Erro HTTP na API: {http_err}\"\n",
    "    except Exception as e:\n",
    "        return f\"Erro na API: {e}\"\n"
   ]
  },
  {
   "cell_type": "markdown",
   "id": "0bcd7658",
   "metadata": {
    "id": "0bcd7658"
   },
   "source": [
    "---\n",
    "## 5.1.3. Aplicando Perguntas aos LLMs"
   ]
  },
  {
   "cell_type": "markdown",
   "id": "4e86d43c-ba7d-4cef-999c-36406a5dd66f",
   "metadata": {},
   "source": [
    "### 5.1.3.1. Coletando Llama"
   ]
  },
  {
   "cell_type": "code",
   "execution_count": null,
   "id": "tpKMsW9zXmnq",
   "metadata": {
    "id": "tpKMsW9zXmnq"
   },
   "outputs": [],
   "source": [
    "df1[\"resposta_llamma\"] = df1[[\"enunciado\", \"alternativas\"]].apply(\n",
    "    lambda row: ask_llama(row[\"enunciado\"], row[\"alternativas\"]), axis=1\n",
    ")"
   ]
  },
  {
   "cell_type": "code",
   "execution_count": null,
   "id": "j736jDJVasLr",
   "metadata": {
    "id": "j736jDJVasLr"
   },
   "outputs": [],
   "source": [
    "df2[\"resposta_llamma\"] = df2[[\"enunciado\", \"alternativas\"]].apply(\n",
    "    lambda row: ask_llama(row[\"enunciado\"], row[\"alternativas\"]), axis=1\n",
    ")"
   ]
  },
  {
   "cell_type": "code",
   "execution_count": null,
   "id": "WjlNIG6VnYhF",
   "metadata": {
    "id": "WjlNIG6VnYhF"
   },
   "outputs": [],
   "source": [
    "df3[\"resposta_llamma\"] = df3[[\"enunciado\", \"alternativas\"]].apply(\n",
    "    lambda row: ask_llama(row[\"enunciado\"], row[\"alternativas\"]), axis=1\n",
    ")"
   ]
  },
  {
   "cell_type": "code",
   "execution_count": null,
   "id": "n_RvK58ipBSE",
   "metadata": {
    "id": "n_RvK58ipBSE"
   },
   "outputs": [],
   "source": [
    "df4[\"resposta_llamma\"] = df4[[\"enunciado\", \"alternativas\"]].apply(\n",
    "    lambda row: ask_llama(row[\"enunciado\"], row[\"alternativas\"]), axis=1\n",
    ")"
   ]
  },
  {
   "cell_type": "code",
   "execution_count": null,
   "id": "ZmoqTNTSrcrg",
   "metadata": {
    "id": "ZmoqTNTSrcrg"
   },
   "outputs": [],
   "source": [
    "df5[\"resposta_llamma\"] = df5[[\"enunciado\", \"alternativas\"]].apply(\n",
    "    lambda row: ask_llama(row[\"enunciado\"], row[\"alternativas\"]), axis=1\n",
    ")"
   ]
  },
  {
   "cell_type": "code",
   "execution_count": null,
   "id": "yaJoi27ywieQ",
   "metadata": {
    "id": "yaJoi27ywieQ"
   },
   "outputs": [],
   "source": [
    "df6[\"resposta_llamma\"] = df6[[\"enunciado\", \"alternativas\"]].apply(\n",
    "    lambda row: ask_llama(row[\"enunciado\"], row[\"alternativas\"]), axis=1\n",
    ")"
   ]
  },
  {
   "cell_type": "markdown",
   "id": "6df2608d-2a53-42eb-97b8-54a9dfd67519",
   "metadata": {},
   "source": [
    "### 5.1.3.2. Coletando Deepseek"
   ]
  },
  {
   "cell_type": "code",
   "execution_count": 34,
   "id": "3kVdX779XaPD",
   "metadata": {
    "id": "3kVdX779XaPD"
   },
   "outputs": [],
   "source": [
    "df1[\"resposta_deepseek\"] = df1[[\"enunciado\", \"alternativas\"]].apply(\n",
    "    lambda row: ask_deepseek(row[\"enunciado\"], row[\"alternativas\"]), axis=1\n",
    ")\n"
   ]
  },
  {
   "cell_type": "code",
   "execution_count": 43,
   "id": "N_3CQIRthvhE",
   "metadata": {
    "id": "N_3CQIRthvhE"
   },
   "outputs": [],
   "source": [
    "df2[\"resposta_deepseek\"] = df2[[\"enunciado\", \"alternativas\"]].apply(\n",
    "    lambda row: ask_deepseek(row[\"enunciado\"], row[\"alternativas\"]), axis=1\n",
    ")"
   ]
  },
  {
   "cell_type": "code",
   "execution_count": 50,
   "id": "1ChWKhT8iq_L",
   "metadata": {
    "id": "1ChWKhT8iq_L"
   },
   "outputs": [],
   "source": [
    "df3[\"resposta_deepseek\"] = df3[[\"enunciado\", \"alternativas\"]].apply(\n",
    "    lambda row: ask_deepseek(row[\"enunciado\"], row[\"alternativas\"]), axis=1\n",
    ")"
   ]
  },
  {
   "cell_type": "code",
   "execution_count": 62,
   "id": "E8oVDDVXjvQj",
   "metadata": {
    "id": "E8oVDDVXjvQj"
   },
   "outputs": [],
   "source": [
    "df4[\"resposta_deepseek\"] = df4[[\"enunciado\", \"alternativas\"]].apply(\n",
    "    lambda row: ask_deepseek(row[\"enunciado\"], row[\"alternativas\"]), axis=1\n",
    ")"
   ]
  },
  {
   "cell_type": "code",
   "execution_count": 69,
   "id": "J6Z5i-orlKLA",
   "metadata": {
    "id": "J6Z5i-orlKLA"
   },
   "outputs": [],
   "source": [
    "df5[\"resposta_deepseek\"] = df5[[\"enunciado\", \"alternativas\"]].apply(\n",
    "    lambda row: ask_deepseek(row[\"enunciado\"], row[\"alternativas\"]), axis=1\n",
    ")"
   ]
  },
  {
   "cell_type": "code",
   "execution_count": 76,
   "id": "tsVc8NbdmJRl",
   "metadata": {
    "id": "tsVc8NbdmJRl"
   },
   "outputs": [],
   "source": [
    "df6[\"resposta_deepseek\"] = df6[[\"enunciado\", \"alternativas\"]].apply(\n",
    "    lambda row: ask_deepseek(row[\"enunciado\"], row[\"alternativas\"]), axis=1\n",
    ")"
   ]
  },
  {
   "cell_type": "markdown",
   "id": "435c60b0-efa4-4c68-bdcc-a14df1cf47f8",
   "metadata": {},
   "source": [
    "## 5.1.4. Armazenando resultado"
   ]
  },
  {
   "cell_type": "code",
   "execution_count": 78,
   "id": "CahgqS3Uzt-h",
   "metadata": {
    "id": "CahgqS3Uzt-h"
   },
   "outputs": [],
   "source": [
    "# concatenando novamente todos os batches\n",
    "\n",
    "df_completo = pd.concat([df1, df2, df3, df4, df5, df6], ignore_index=True)"
   ]
  },
  {
   "cell_type": "code",
   "execution_count": null,
   "id": "5sTJt13hz2tI",
   "metadata": {
    "id": "5sTJt13hz2tI"
   },
   "outputs": [],
   "source": [
    "# salvando tabela com os dados do llama\n",
    "\n",
    "df_llama = df_completo.drop(columns='resposta_deepseek')\n",
    "\n",
    "df_llama.to_csv('enem_llama_extraction.csv')"
   ]
  },
  {
   "cell_type": "code",
   "execution_count": 86,
   "id": "4976d746",
   "metadata": {
    "id": "4976d746"
   },
   "outputs": [],
   "source": [
    "# salvando tabela com os dados do deepseek\n",
    "\n",
    "df_deepseek = df_completo.drop(columns='resposta_llamma')\n",
    "\n",
    "df_deepseek.to_csv('enem_deepseek_extraction.csv')"
   ]
  },
  {
   "cell_type": "markdown",
   "id": "7dc0484b",
   "metadata": {
    "id": "7dc0484b"
   },
   "source": [
    "---"
   ]
  }
 ],
 "metadata": {
  "colab": {
   "provenance": []
  },
  "kernelspec": {
   "display_name": "Python 3 (ipykernel)",
   "language": "python",
   "name": "python3"
  },
  "language_info": {
   "codemirror_mode": {
    "name": "ipython",
    "version": 3
   },
   "file_extension": ".py",
   "mimetype": "text/x-python",
   "name": "python",
   "nbconvert_exporter": "python",
   "pygments_lexer": "ipython3",
   "version": "3.9.23"
  }
 },
 "nbformat": 4,
 "nbformat_minor": 5
}
