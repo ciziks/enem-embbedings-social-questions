{
  "cells": [
    {
      "cell_type": "markdown",
      "metadata": {
        "id": "3Ux4AL44jC9d"
      },
      "source": [
        "# 4. Tokenização\n",
        "Este notebook tem como objetivo aplicar vetorização e tokenização de enunciados e alternativas por meio de embeddings de palavras. O processo inclui etapas de pré-processamento textual, geração dos vetores e organização dos resultados para uso posterior em análises ou em modelos de aprendizado de máquina."
      ]
    },
    {
      "cell_type": "code",
      "execution_count": 1,
      "metadata": {
        "id": "cmpoVvMX2N1W"
      },
      "outputs": [],
      "source": [
        "# Importando Dependências para Vetorização\n",
        "import pandas as pd\n",
        "import numpy as np\n",
        "import re\n",
        "from gensim.models import KeyedVectors\n",
        "from sklearn.metrics.pairwise import cosine_similarity"
      ]
    },
    {
      "cell_type": "code",
      "execution_count": 2,
      "metadata": {
        "colab": {
          "base_uri": "https://localhost:8080/",
          "height": 363
        },
        "id": "9we4qNO88eyp",
        "outputId": "f3f55f09-6d5b-46d0-ccc2-218c27b3b573"
      },
      "outputs": [
        {
          "data": {
            "text/html": [
              "<div>\n",
              "<style scoped>\n",
              "    .dataframe tbody tr th:only-of-type {\n",
              "        vertical-align: middle;\n",
              "    }\n",
              "\n",
              "    .dataframe tbody tr th {\n",
              "        vertical-align: top;\n",
              "    }\n",
              "\n",
              "    .dataframe thead th {\n",
              "        text-align: right;\n",
              "    }\n",
              "</style>\n",
              "<table border=\"1\" class=\"dataframe\">\n",
              "  <thead>\n",
              "    <tr style=\"text-align: right;\">\n",
              "      <th></th>\n",
              "      <th>numero_questao</th>\n",
              "      <th>gabarito</th>\n",
              "      <th>NU_PARAM_A</th>\n",
              "      <th>nu_param_B</th>\n",
              "      <th>NU_PARAM_C</th>\n",
              "      <th>ANO</th>\n",
              "      <th>enunciado</th>\n",
              "      <th>alternativas</th>\n",
              "      <th>gabarito_texto</th>\n",
              "      <th>distratores</th>\n",
              "      <th>enunciado_limpo</th>\n",
              "      <th>alternativas_limpo</th>\n",
              "      <th>gabarito_texto_limpo</th>\n",
              "      <th>distratores_limpo</th>\n",
              "    </tr>\n",
              "  </thead>\n",
              "  <tbody>\n",
              "    <tr>\n",
              "      <th>0</th>\n",
              "      <td>1</td>\n",
              "      <td>C</td>\n",
              "      <td>3.43894</td>\n",
              "      <td>0.97831</td>\n",
              "      <td>0.10855</td>\n",
              "      <td>2017</td>\n",
              "      <td>No império africano do Mali, no século XIV, To...</td>\n",
              "      <td>A:  isolamento geográﬁco do Saara ocidental; B...</td>\n",
              "      <td>posição relativa nas redes de circulação</td>\n",
              "      <td>isolamento geográﬁco do Saara ocidental; explo...</td>\n",
              "      <td>africano além astronomia centro cidade comérci...</td>\n",
              "      <td>A: isolamento ocidental saara; B: exploração i...</td>\n",
              "      <td>circulação posição redes relativa</td>\n",
              "      <td>competição econômica exploração intensiva isol...</td>\n",
              "    </tr>\n",
              "    <tr>\n",
              "      <th>1</th>\n",
              "      <td>2</td>\n",
              "      <td>D</td>\n",
              "      <td>3.00837</td>\n",
              "      <td>0.49169</td>\n",
              "      <td>0.13877</td>\n",
              "      <td>2017</td>\n",
              "      <td>Após a Declaração Universal dos Direitos Human...</td>\n",
              "      <td>A:  ataque feito pelos japoneses à base milita...</td>\n",
              "      <td>execução de judeus e eslavos presos em guetos ...</td>\n",
              "      <td>ataque feito pelos japoneses à base militar am...</td>\n",
              "      <td>aberrações acontecimentos após assumida branco...</td>\n",
              "      <td>A: americana ataque base feito harbor japonese...</td>\n",
              "      <td>campos concentração eslavos execução guetos ju...</td>\n",
              "      <td>americana americanas ataque atômicas base bomb...</td>\n",
              "    </tr>\n",
              "    <tr>\n",
              "      <th>2</th>\n",
              "      <td>3</td>\n",
              "      <td>D</td>\n",
              "      <td>0.60432</td>\n",
              "      <td>3.25992</td>\n",
              "      <td>0.08798</td>\n",
              "      <td>2017</td>\n",
              "      <td>A moralidade, Bentham exortava, não é uma ques...</td>\n",
              "      <td>A:  fundamentação cientíﬁca de viés positivist...</td>\n",
              "      <td>racionalidade de caráter pragmático</td>\n",
              "      <td>fundamentação cientíﬁca de viés positivista; c...</td>\n",
              "      <td>abstratas afetados agradar ação bentham condut...</td>\n",
              "      <td>A: fundamentação positivista viés; B: convençã...</td>\n",
              "      <td>caráter pragmático racionalidade</td>\n",
              "      <td>comportamental convenção fundamentação inclina...</td>\n",
              "    </tr>\n",
              "    <tr>\n",
              "      <th>3</th>\n",
              "      <td>4</td>\n",
              "      <td>E</td>\n",
              "      <td>1.85031</td>\n",
              "      <td>0.57925</td>\n",
              "      <td>0.11344</td>\n",
              "      <td>2017</td>\n",
              "      <td>Fala-se muito nos dias de hoje em direitos do ...</td>\n",
              "      <td>A: modernização da educação escolar; B: atuali...</td>\n",
              "      <td>universalização do princípio da igualdade civil</td>\n",
              "      <td>modernização da educação escolar; atualização ...</td>\n",
              "      <td>apresenta assembleia bases bem cidadão concepç...</td>\n",
              "      <td>A: educação escolar modernização; B: atualizaç...</td>\n",
              "      <td>civil igualdade princípio universalização</td>\n",
              "      <td>aristocráticos atualização conhecimento costum...</td>\n",
              "    </tr>\n",
              "    <tr>\n",
              "      <th>4</th>\n",
              "      <td>5</td>\n",
              "      <td>C</td>\n",
              "      <td>2.46290</td>\n",
              "      <td>0.76307</td>\n",
              "      <td>0.17672</td>\n",
              "      <td>2017</td>\n",
              "      <td>Na Constituição da República Federativa do Bra...</td>\n",
              "      <td>A:  etnia e miscigenação racial; B:  sociedade...</td>\n",
              "      <td>espaço e sobrevivência cultural</td>\n",
              "      <td>etnia e miscigenação racial; sociedade e igual...</td>\n",
              "      <td>aplicação artigo bens brasil competindo consta...</td>\n",
              "      <td>A: etnia miscigenação racial; B: igualdade jur...</td>\n",
              "      <td>cultural espaço sobrevivência</td>\n",
              "      <td>ambiental bem econômica educação etnia igualda...</td>\n",
              "    </tr>\n",
              "  </tbody>\n",
              "</table>\n",
              "</div>"
            ],
            "text/plain": [
              "   numero_questao gabarito  NU_PARAM_A  nu_param_B  NU_PARAM_C   ANO  \\\n",
              "0               1        C     3.43894     0.97831     0.10855  2017   \n",
              "1               2        D     3.00837     0.49169     0.13877  2017   \n",
              "2               3        D     0.60432     3.25992     0.08798  2017   \n",
              "3               4        E     1.85031     0.57925     0.11344  2017   \n",
              "4               5        C     2.46290     0.76307     0.17672  2017   \n",
              "\n",
              "                                           enunciado  \\\n",
              "0  No império africano do Mali, no século XIV, To...   \n",
              "1  Após a Declaração Universal dos Direitos Human...   \n",
              "2  A moralidade, Bentham exortava, não é uma ques...   \n",
              "3  Fala-se muito nos dias de hoje em direitos do ...   \n",
              "4  Na Constituição da República Federativa do Bra...   \n",
              "\n",
              "                                        alternativas  \\\n",
              "0  A:  isolamento geográﬁco do Saara ocidental; B...   \n",
              "1  A:  ataque feito pelos japoneses à base milita...   \n",
              "2  A:  fundamentação cientíﬁca de viés positivist...   \n",
              "3  A: modernização da educação escolar; B: atuali...   \n",
              "4  A:  etnia e miscigenação racial; B:  sociedade...   \n",
              "\n",
              "                                      gabarito_texto  \\\n",
              "0           posição relativa nas redes de circulação   \n",
              "1  execução de judeus e eslavos presos em guetos ...   \n",
              "2                racionalidade de caráter pragmático   \n",
              "3    universalização do princípio da igualdade civil   \n",
              "4                    espaço e sobrevivência cultural   \n",
              "\n",
              "                                         distratores  \\\n",
              "0  isolamento geográﬁco do Saara ocidental; explo...   \n",
              "1  ataque feito pelos japoneses à base militar am...   \n",
              "2  fundamentação cientíﬁca de viés positivista; c...   \n",
              "3  modernização da educação escolar; atualização ...   \n",
              "4  etnia e miscigenação racial; sociedade e igual...   \n",
              "\n",
              "                                     enunciado_limpo  \\\n",
              "0  africano além astronomia centro cidade comérci...   \n",
              "1  aberrações acontecimentos após assumida branco...   \n",
              "2  abstratas afetados agradar ação bentham condut...   \n",
              "3  apresenta assembleia bases bem cidadão concepç...   \n",
              "4  aplicação artigo bens brasil competindo consta...   \n",
              "\n",
              "                                  alternativas_limpo  \\\n",
              "0  A: isolamento ocidental saara; B: exploração i...   \n",
              "1  A: americana ataque base feito harbor japonese...   \n",
              "2  A: fundamentação positivista viés; B: convençã...   \n",
              "3  A: educação escolar modernização; B: atualizaç...   \n",
              "4  A: etnia miscigenação racial; B: igualdade jur...   \n",
              "\n",
              "                                gabarito_texto_limpo  \\\n",
              "0                  circulação posição redes relativa   \n",
              "1  campos concentração eslavos execução guetos ju...   \n",
              "2                   caráter pragmático racionalidade   \n",
              "3          civil igualdade princípio universalização   \n",
              "4                      cultural espaço sobrevivência   \n",
              "\n",
              "                                   distratores_limpo  \n",
              "0  competição econômica exploração intensiva isol...  \n",
              "1  americana americanas ataque atômicas base bomb...  \n",
              "2  comportamental convenção fundamentação inclina...  \n",
              "3  aristocráticos atualização conhecimento costum...  \n",
              "4  ambiental bem econômica educação etnia igualda...  "
            ]
          },
          "execution_count": 2,
          "metadata": {},
          "output_type": "execute_result"
        }
      ],
      "source": [
        "# Leitura do dataset\n",
        "enem_df = pd.read_csv('../data/final/cleaned_data.csv')\n",
        "enem_df.head(5)"
      ]
    },
    {
      "cell_type": "code",
      "execution_count": 15,
      "metadata": {},
      "outputs": [],
      "source": [
        "# Função auxiliar que irá retornar os vetores de palavras\n",
        "def generate_word2vec_embeddings(data, model):\n",
        "  # Dicionário auxiliar que armazena palavras já encontradas\n",
        "  vetor_cache = {}\n",
        "  \n",
        "  not_found_words = set()\n",
        "  embeddings = []\n",
        "\n",
        "  for item in data:\n",
        "    word_vectors = []\n",
        "    words = re.sub(r'[^\\w\\s]', '', item.lower()).split()\n",
        "\n",
        "    for word in words:\n",
        "      try:\n",
        "        if word in vetor_cache:\n",
        "          word_vectors.append(vetor_cache[word])\n",
        "        else:\n",
        "          vetor_cache[word] = model[word]\n",
        "          word_vectors.append(model[word])\n",
        "      except KeyError:\n",
        "        not_found_words.add(word)\n",
        "\n",
        "    if word_vectors:\n",
        "          # Calcula a média dos vetores\n",
        "          mean_vector = np.mean(word_vectors, axis=0)\n",
        "          embeddings.append(mean_vector)\n",
        "    else:\n",
        "          # Se não encontrou nenhuma palavra, adiciona um vetor nulo\n",
        "          embeddings.append(np.zeros(model.vector_size))\n",
        "\n",
        "  return embeddings, not_found_words\n"
      ]
    },
    {
      "cell_type": "markdown",
      "metadata": {},
      "source": [
        "---\n",
        "\n",
        "## 4.1. Word2Vec - 300 Dimensões"
      ]
    },
    {
      "cell_type": "code",
      "execution_count": 5,
      "metadata": {},
      "outputs": [],
      "source": [
        "# Modelo de Embedding: Word2Vec NILC\n",
        "# Download disponível em:\n",
        "# http://nilc.icmc.usp.br/nilc/index.php/repositorio-de-word-embeddings-do-nilc\n",
        "model_300 = KeyedVectors.load_word2vec_format(\"../data/embeddings/cbow_s300.txt\")"
      ]
    },
    {
      "cell_type": "markdown",
      "metadata": {},
      "source": [
        "### 4.1.1. Vetorização dos Enunciados"
      ]
    },
    {
      "cell_type": "code",
      "execution_count": 16,
      "metadata": {},
      "outputs": [
        {
          "data": {
            "text/plain": [
              "191"
            ]
          },
          "execution_count": 16,
          "metadata": {},
          "output_type": "execute_result"
        }
      ],
      "source": [
        "enem_df[\"enunciado_embbedings_word2vec_300\"], not_found_words_enunciado = (\n",
        "    generate_word2vec_embeddings(enem_df[\"enunciado_limpo\"], model_300)\n",
        ")\n",
        "len(not_found_words_enunciado)"
      ]
    },
    {
      "cell_type": "markdown",
      "metadata": {},
      "source": [
        "### 4.1.2. Vetorização dos Gabaritos"
      ]
    },
    {
      "cell_type": "code",
      "execution_count": 17,
      "metadata": {},
      "outputs": [
        {
          "data": {
            "text/plain": [
              "{'biopolíticos',\n",
              " 'conduzireis',\n",
              " 'extrapeninsulares',\n",
              " 'multiescalares',\n",
              " 'socioafetivos'}"
            ]
          },
          "execution_count": 17,
          "metadata": {},
          "output_type": "execute_result"
        }
      ],
      "source": [
        "enem_df[\"gabarito_embbedings_word2vec_300\"], not_found_words_gabarito = (\n",
        "    generate_word2vec_embeddings(enem_df[\"gabarito_texto_limpo\"].astype(str), model_300)\n",
        ")\n",
        "not_found_words_gabarito"
      ]
    },
    {
      "cell_type": "markdown",
      "metadata": {},
      "source": [
        "### 4.1.3. Vetorização dos Distratores"
      ]
    },
    {
      "cell_type": "code",
      "execution_count": 18,
      "metadata": {},
      "outputs": [
        {
          "data": {
            "text/plain": [
              "11"
            ]
          },
          "execution_count": 18,
          "metadata": {},
          "output_type": "execute_result"
        }
      ],
      "source": [
        "enem_df[\"distratores_embbedings_word2vec_300\"], not_found_words_distratores = (\n",
        "    generate_word2vec_embeddings(enem_df[\"distratores_limpo\"], model_300)\n",
        ")\n",
        "len(not_found_words_distratores)"
      ]
    },
    {
      "cell_type": "markdown",
      "metadata": {},
      "source": [
        "### 4.1.4. Cálculo das Similaridades"
      ]
    },
    {
      "cell_type": "code",
      "execution_count": 19,
      "metadata": {},
      "outputs": [
        {
          "data": {
            "text/html": [
              "<div>\n",
              "<style scoped>\n",
              "    .dataframe tbody tr th:only-of-type {\n",
              "        vertical-align: middle;\n",
              "    }\n",
              "\n",
              "    .dataframe tbody tr th {\n",
              "        vertical-align: top;\n",
              "    }\n",
              "\n",
              "    .dataframe thead th {\n",
              "        text-align: right;\n",
              "    }\n",
              "</style>\n",
              "<table border=\"1\" class=\"dataframe\">\n",
              "  <thead>\n",
              "    <tr style=\"text-align: right;\">\n",
              "      <th></th>\n",
              "      <th>similaridade_enunciado_gabarito_300</th>\n",
              "      <th>similaridade_enunciado_distratores_300</th>\n",
              "      <th>similaridade_gabarito_distratores_300</th>\n",
              "    </tr>\n",
              "  </thead>\n",
              "  <tbody>\n",
              "    <tr>\n",
              "      <th>0</th>\n",
              "      <td>0.141353</td>\n",
              "      <td>0.516898</td>\n",
              "      <td>0.151251</td>\n",
              "    </tr>\n",
              "    <tr>\n",
              "      <th>1</th>\n",
              "      <td>0.422576</td>\n",
              "      <td>0.313321</td>\n",
              "      <td>0.423611</td>\n",
              "    </tr>\n",
              "    <tr>\n",
              "      <th>2</th>\n",
              "      <td>0.427063</td>\n",
              "      <td>0.471643</td>\n",
              "      <td>0.602545</td>\n",
              "    </tr>\n",
              "    <tr>\n",
              "      <th>3</th>\n",
              "      <td>0.320939</td>\n",
              "      <td>0.482462</td>\n",
              "      <td>0.421501</td>\n",
              "    </tr>\n",
              "    <tr>\n",
              "      <th>4</th>\n",
              "      <td>0.304050</td>\n",
              "      <td>0.501346</td>\n",
              "      <td>0.411802</td>\n",
              "    </tr>\n",
              "  </tbody>\n",
              "</table>\n",
              "</div>"
            ],
            "text/plain": [
              "   similaridade_enunciado_gabarito_300  \\\n",
              "0                             0.141353   \n",
              "1                             0.422576   \n",
              "2                             0.427063   \n",
              "3                             0.320939   \n",
              "4                             0.304050   \n",
              "\n",
              "   similaridade_enunciado_distratores_300  \\\n",
              "0                                0.516898   \n",
              "1                                0.313321   \n",
              "2                                0.471643   \n",
              "3                                0.482462   \n",
              "4                                0.501346   \n",
              "\n",
              "   similaridade_gabarito_distratores_300  \n",
              "0                               0.151251  \n",
              "1                               0.423611  \n",
              "2                               0.602545  \n",
              "3                               0.421501  \n",
              "4                               0.411802  "
            ]
          },
          "execution_count": 19,
          "metadata": {},
          "output_type": "execute_result"
        }
      ],
      "source": [
        "# Calculando a similaridade de cosseno entre os embeddings de 300 dim\n",
        "# Similaridade entre enunciado e gabarito\n",
        "enem_df[\"similaridade_enunciado_gabarito_300\"] = [\n",
        "    cosine_similarity([enunciado], [gabarito])[0][0]\n",
        "    for enunciado, gabarito in zip(\n",
        "        enem_df[\"enunciado_embbedings_word2vec_300\"],\n",
        "        enem_df[\"gabarito_embbedings_word2vec_300\"],\n",
        "    )\n",
        "]\n",
        "\n",
        "# Similaridade entre enunciado e distratores\n",
        "enem_df[\"similaridade_enunciado_distratores_300\"] = [\n",
        "    cosine_similarity([enunciado], [distratores])[0][0]\n",
        "    for enunciado, distratores in zip(\n",
        "        enem_df[\"enunciado_embbedings_word2vec_300\"],\n",
        "        enem_df[\"distratores_embbedings_word2vec_300\"],\n",
        "    )\n",
        "]\n",
        "\n",
        "# Similaridade entre gabarito e distratores\n",
        "enem_df[\"similaridade_gabarito_distratores_300\"] = [\n",
        "    cosine_similarity([gabarito], [distratores])[0][0]\n",
        "    for gabarito, distratores in zip(\n",
        "        enem_df[\"gabarito_embbedings_word2vec_300\"],\n",
        "        enem_df[\"distratores_embbedings_word2vec_300\"],\n",
        "    )\n",
        "]\n",
        "\n",
        "enem_df[\n",
        "    [\n",
        "        \"similaridade_enunciado_gabarito_300\",\n",
        "        \"similaridade_enunciado_distratores_300\",\n",
        "        \"similaridade_gabarito_distratores_300\",\n",
        "    ]\n",
        "].head()"
      ]
    },
    {
      "cell_type": "markdown",
      "metadata": {},
      "source": [
        "---\n",
        "\n",
        "## 4.2. Word2Vec - 100 Dimensões"
      ]
    },
    {
      "cell_type": "code",
      "execution_count": 10,
      "metadata": {},
      "outputs": [],
      "source": [
        "# Modelo de Embedding: Word2Vec NILC\n",
        "# Download disponível em:\n",
        "# http://nilc.icmc.usp.br/nilc/index.php/repositorio-de-word-embeddings-do-nilc\n",
        "model_100 = KeyedVectors.load_word2vec_format(\"../data/embeddings/cbow_s100.txt\")"
      ]
    },
    {
      "cell_type": "markdown",
      "metadata": {},
      "source": [
        "### 4.2.1. Vetorização dos Enunciados"
      ]
    },
    {
      "cell_type": "code",
      "execution_count": 20,
      "metadata": {},
      "outputs": [
        {
          "data": {
            "text/plain": [
              "191"
            ]
          },
          "execution_count": 20,
          "metadata": {},
          "output_type": "execute_result"
        }
      ],
      "source": [
        "enem_df[\"enunciado_embbedings_word2vec_100\"], not_found_words_enunciado_100 = (\n",
        "    generate_word2vec_embeddings(enem_df[\"enunciado_limpo\"], model_100)\n",
        ")\n",
        "len(not_found_words_enunciado_100)"
      ]
    },
    {
      "cell_type": "markdown",
      "metadata": {},
      "source": [
        "### 4.2.2. Vetorização dos Gabaritos"
      ]
    },
    {
      "cell_type": "code",
      "execution_count": 23,
      "metadata": {},
      "outputs": [
        {
          "data": {
            "text/plain": [
              "{'biopolíticos',\n",
              " 'conduzireis',\n",
              " 'extrapeninsulares',\n",
              " 'multiescalares',\n",
              " 'socioafetivos'}"
            ]
          },
          "execution_count": 23,
          "metadata": {},
          "output_type": "execute_result"
        }
      ],
      "source": [
        "enem_df[\"gabarito_embbedings_word2vec_100\"], not_found_words_gabarito_100 = (\n",
        "    generate_word2vec_embeddings(enem_df[\"gabarito_texto_limpo\"].astype(str), model_100)\n",
        ")\n",
        "not_found_words_gabarito_100"
      ]
    },
    {
      "cell_type": "markdown",
      "metadata": {},
      "source": [
        "### 4.2.3. Vetorização dos Distratores"
      ]
    },
    {
      "cell_type": "code",
      "execution_count": 24,
      "metadata": {},
      "outputs": [
        {
          "data": {
            "text/plain": [
              "11"
            ]
          },
          "execution_count": 24,
          "metadata": {},
          "output_type": "execute_result"
        }
      ],
      "source": [
        "enem_df[\"distratores_embbedings_word2vec_100\"], not_found_words_distratores_100 = (\n",
        "    generate_word2vec_embeddings(enem_df[\"distratores_limpo\"], model_100)\n",
        ")\n",
        "len(not_found_words_distratores_100)"
      ]
    },
    {
      "cell_type": "markdown",
      "metadata": {},
      "source": [
        "### 4.2.4. Cálculo das Similaridades"
      ]
    },
    {
      "cell_type": "code",
      "execution_count": 25,
      "metadata": {},
      "outputs": [
        {
          "data": {
            "text/html": [
              "<div>\n",
              "<style scoped>\n",
              "    .dataframe tbody tr th:only-of-type {\n",
              "        vertical-align: middle;\n",
              "    }\n",
              "\n",
              "    .dataframe tbody tr th {\n",
              "        vertical-align: top;\n",
              "    }\n",
              "\n",
              "    .dataframe thead th {\n",
              "        text-align: right;\n",
              "    }\n",
              "</style>\n",
              "<table border=\"1\" class=\"dataframe\">\n",
              "  <thead>\n",
              "    <tr style=\"text-align: right;\">\n",
              "      <th></th>\n",
              "      <th>similaridade_enunciado_gabarito_100</th>\n",
              "      <th>similaridade_enunciado_distratores_100</th>\n",
              "      <th>similaridade_gabarito_distratores_100</th>\n",
              "    </tr>\n",
              "  </thead>\n",
              "  <tbody>\n",
              "    <tr>\n",
              "      <th>0</th>\n",
              "      <td>0.236482</td>\n",
              "      <td>0.699529</td>\n",
              "      <td>0.379381</td>\n",
              "    </tr>\n",
              "    <tr>\n",
              "      <th>1</th>\n",
              "      <td>0.517151</td>\n",
              "      <td>0.449300</td>\n",
              "      <td>0.560128</td>\n",
              "    </tr>\n",
              "    <tr>\n",
              "      <th>2</th>\n",
              "      <td>0.546526</td>\n",
              "      <td>0.564335</td>\n",
              "      <td>0.681273</td>\n",
              "    </tr>\n",
              "    <tr>\n",
              "      <th>3</th>\n",
              "      <td>0.382210</td>\n",
              "      <td>0.558623</td>\n",
              "      <td>0.591672</td>\n",
              "    </tr>\n",
              "    <tr>\n",
              "      <th>4</th>\n",
              "      <td>0.435788</td>\n",
              "      <td>0.628210</td>\n",
              "      <td>0.611719</td>\n",
              "    </tr>\n",
              "  </tbody>\n",
              "</table>\n",
              "</div>"
            ],
            "text/plain": [
              "   similaridade_enunciado_gabarito_100  \\\n",
              "0                             0.236482   \n",
              "1                             0.517151   \n",
              "2                             0.546526   \n",
              "3                             0.382210   \n",
              "4                             0.435788   \n",
              "\n",
              "   similaridade_enunciado_distratores_100  \\\n",
              "0                                0.699529   \n",
              "1                                0.449300   \n",
              "2                                0.564335   \n",
              "3                                0.558623   \n",
              "4                                0.628210   \n",
              "\n",
              "   similaridade_gabarito_distratores_100  \n",
              "0                               0.379381  \n",
              "1                               0.560128  \n",
              "2                               0.681273  \n",
              "3                               0.591672  \n",
              "4                               0.611719  "
            ]
          },
          "execution_count": 25,
          "metadata": {},
          "output_type": "execute_result"
        }
      ],
      "source": [
        "# Calculando a similaridade de cosseno entre os embeddings de 100 dim\n",
        "# Similaridade entre enunciado e gabarito\n",
        "enem_df[\"similaridade_enunciado_gabarito_100\"] = [\n",
        "    cosine_similarity([enunciado], [gabarito])[0][0]\n",
        "    for enunciado, gabarito in zip(\n",
        "        enem_df[\"enunciado_embbedings_word2vec_100\"],\n",
        "        enem_df[\"gabarito_embbedings_word2vec_100\"],\n",
        "    )\n",
        "]\n",
        "\n",
        "# Similaridade entre enunciado e distratores\n",
        "enem_df[\"similaridade_enunciado_distratores_100\"] = [\n",
        "    cosine_similarity([enunciado], [distratores])[0][0]\n",
        "    for enunciado, distratores in zip(\n",
        "        enem_df[\"enunciado_embbedings_word2vec_100\"],\n",
        "        enem_df[\"distratores_embbedings_word2vec_100\"],\n",
        "    )\n",
        "]\n",
        "\n",
        "# Similaridade entre gabarito e distratores\n",
        "enem_df[\"similaridade_gabarito_distratores_100\"] = [\n",
        "    cosine_similarity([gabarito], [distratores])[0][0]\n",
        "    for gabarito, distratores in zip(\n",
        "        enem_df[\"gabarito_embbedings_word2vec_100\"],\n",
        "        enem_df[\"distratores_embbedings_word2vec_100\"],\n",
        "    )\n",
        "]\n",
        "\n",
        "enem_df[\n",
        "    [\n",
        "        \"similaridade_enunciado_gabarito_100\",\n",
        "        \"similaridade_enunciado_distratores_100\",\n",
        "        \"similaridade_gabarito_distratores_100\",\n",
        "    ]\n",
        "].head()"
      ]
    },
    {
      "cell_type": "markdown",
      "metadata": {},
      "source": [
        "---\n",
        "\n",
        "## 4.3. Word2Vec - 50 Dimensões\n"
      ]
    },
    {
      "cell_type": "code",
      "execution_count": 26,
      "metadata": {},
      "outputs": [],
      "source": [
        "# Modelo de Embedding: Word2Vec NILC\n",
        "# Download disponível em:\n",
        "# http://nilc.icmc.usp.br/nilc/index.php/repositorio-de-word-embeddings-do-nilc\n",
        "model_50 = KeyedVectors.load_word2vec_format(\"../data/embeddings/cbow_s50.txt\")"
      ]
    },
    {
      "cell_type": "markdown",
      "metadata": {},
      "source": [
        "### 4.3.1. Vetorização dos Enunciados"
      ]
    },
    {
      "cell_type": "code",
      "execution_count": 27,
      "metadata": {},
      "outputs": [
        {
          "data": {
            "text/plain": [
              "191"
            ]
          },
          "execution_count": 27,
          "metadata": {},
          "output_type": "execute_result"
        }
      ],
      "source": [
        "enem_df[\"enunciado_embbedings_word2vec_50\"], not_found_words_enunciado_50 = (\n",
        "    generate_word2vec_embeddings(enem_df[\"enunciado_limpo\"], model_50)\n",
        ")\n",
        "len(not_found_words_enunciado_50)"
      ]
    },
    {
      "cell_type": "markdown",
      "metadata": {},
      "source": [
        "### 4.3.2. Vetorização dos Gabaritos"
      ]
    },
    {
      "cell_type": "code",
      "execution_count": 28,
      "metadata": {},
      "outputs": [
        {
          "data": {
            "text/plain": [
              "{'biopolíticos',\n",
              " 'conduzireis',\n",
              " 'extrapeninsulares',\n",
              " 'multiescalares',\n",
              " 'socioafetivos'}"
            ]
          },
          "execution_count": 28,
          "metadata": {},
          "output_type": "execute_result"
        }
      ],
      "source": [
        "enem_df[\"gabarito_embbedings_word2vec_50\"], not_found_words_gabarito_50 = (\n",
        "    generate_word2vec_embeddings(enem_df[\"gabarito_texto_limpo\"].astype(str), model_50)\n",
        ")\n",
        "not_found_words_gabarito_50"
      ]
    },
    {
      "cell_type": "markdown",
      "metadata": {},
      "source": [
        "### 4.3.3. Vetorização dos Distratores"
      ]
    },
    {
      "cell_type": "code",
      "execution_count": 29,
      "metadata": {},
      "outputs": [
        {
          "data": {
            "text/plain": [
              "11"
            ]
          },
          "execution_count": 29,
          "metadata": {},
          "output_type": "execute_result"
        }
      ],
      "source": [
        "enem_df[\"distratores_embbedings_word2vec_50\"], not_found_words_distratores_50 = (\n",
        "    generate_word2vec_embeddings(enem_df[\"distratores_limpo\"], model_50)\n",
        ")\n",
        "len(not_found_words_distratores_50)"
      ]
    },
    {
      "cell_type": "markdown",
      "metadata": {},
      "source": [
        "### 4.3.4. Cálculo das Similaridades"
      ]
    },
    {
      "cell_type": "code",
      "execution_count": 31,
      "metadata": {},
      "outputs": [
        {
          "data": {
            "text/html": [
              "<div>\n",
              "<style scoped>\n",
              "    .dataframe tbody tr th:only-of-type {\n",
              "        vertical-align: middle;\n",
              "    }\n",
              "\n",
              "    .dataframe tbody tr th {\n",
              "        vertical-align: top;\n",
              "    }\n",
              "\n",
              "    .dataframe thead th {\n",
              "        text-align: right;\n",
              "    }\n",
              "</style>\n",
              "<table border=\"1\" class=\"dataframe\">\n",
              "  <thead>\n",
              "    <tr style=\"text-align: right;\">\n",
              "      <th></th>\n",
              "      <th>similaridade_enunciado_gabarito_50</th>\n",
              "      <th>similaridade_enunciado_distratores_50</th>\n",
              "      <th>similaridade_gabarito_distratores_50</th>\n",
              "    </tr>\n",
              "  </thead>\n",
              "  <tbody>\n",
              "    <tr>\n",
              "      <th>0</th>\n",
              "      <td>0.251504</td>\n",
              "      <td>0.736054</td>\n",
              "      <td>0.426387</td>\n",
              "    </tr>\n",
              "    <tr>\n",
              "      <th>1</th>\n",
              "      <td>0.634785</td>\n",
              "      <td>0.504648</td>\n",
              "      <td>0.587013</td>\n",
              "    </tr>\n",
              "    <tr>\n",
              "      <th>2</th>\n",
              "      <td>0.655402</td>\n",
              "      <td>0.634760</td>\n",
              "      <td>0.763059</td>\n",
              "    </tr>\n",
              "    <tr>\n",
              "      <th>3</th>\n",
              "      <td>0.485125</td>\n",
              "      <td>0.628863</td>\n",
              "      <td>0.766145</td>\n",
              "    </tr>\n",
              "    <tr>\n",
              "      <th>4</th>\n",
              "      <td>0.559584</td>\n",
              "      <td>0.707497</td>\n",
              "      <td>0.692311</td>\n",
              "    </tr>\n",
              "  </tbody>\n",
              "</table>\n",
              "</div>"
            ],
            "text/plain": [
              "   similaridade_enunciado_gabarito_50  similaridade_enunciado_distratores_50  \\\n",
              "0                            0.251504                               0.736054   \n",
              "1                            0.634785                               0.504648   \n",
              "2                            0.655402                               0.634760   \n",
              "3                            0.485125                               0.628863   \n",
              "4                            0.559584                               0.707497   \n",
              "\n",
              "   similaridade_gabarito_distratores_50  \n",
              "0                              0.426387  \n",
              "1                              0.587013  \n",
              "2                              0.763059  \n",
              "3                              0.766145  \n",
              "4                              0.692311  "
            ]
          },
          "execution_count": 31,
          "metadata": {},
          "output_type": "execute_result"
        }
      ],
      "source": [
        "# Calculando a similaridade de cosseno entre os embeddings de 50 dim\n",
        "# Similaridade entre enunciado e gabarito\n",
        "enem_df[\"similaridade_enunciado_gabarito_50\"] = [\n",
        "    cosine_similarity([enunciado], [gabarito])[0][0]\n",
        "    for enunciado, gabarito in zip(\n",
        "        enem_df[\"enunciado_embbedings_word2vec_50\"],\n",
        "        enem_df[\"gabarito_embbedings_word2vec_50\"],\n",
        "    )\n",
        "]\n",
        "\n",
        "# Similaridade entre enunciado e distratores\n",
        "enem_df[\"similaridade_enunciado_distratores_50\"] = [\n",
        "    cosine_similarity([enunciado], [distratores])[0][0]\n",
        "    for enunciado, distratores in zip(\n",
        "        enem_df[\"enunciado_embbedings_word2vec_50\"],\n",
        "        enem_df[\"distratores_embbedings_word2vec_50\"],\n",
        "    )\n",
        "]\n",
        "\n",
        "# Similaridade entre gabarito e distratores\n",
        "enem_df[\"similaridade_gabarito_distratores_50\"] = [\n",
        "    cosine_similarity([gabarito], [distratores])[0][0]\n",
        "    for gabarito, distratores in zip(\n",
        "        enem_df[\"gabarito_embbedings_word2vec_50\"],\n",
        "        enem_df[\"distratores_embbedings_word2vec_50\"],\n",
        "    )\n",
        "]\n",
        "\n",
        "enem_df[\n",
        "    [\n",
        "        \"similaridade_enunciado_gabarito_50\",\n",
        "        \"similaridade_enunciado_distratores_50\",\n",
        "        \"similaridade_gabarito_distratores_50\",\n",
        "    ]\n",
        "].head()"
      ]
    },
    {
      "cell_type": "markdown",
      "metadata": {},
      "source": [
        "---\n",
        "\n",
        "## 4.4. Salvando Resultados"
      ]
    },
    {
      "cell_type": "code",
      "execution_count": 36,
      "metadata": {},
      "outputs": [],
      "source": [
        "enem_df.to_pickle(\"../data/final/enem_data_embeddings.pkl\")"
      ]
    },
    {
      "cell_type": "code",
      "execution_count": 37,
      "metadata": {},
      "outputs": [
        {
          "data": {
            "text/html": [
              "<div>\n",
              "<style scoped>\n",
              "    .dataframe tbody tr th:only-of-type {\n",
              "        vertical-align: middle;\n",
              "    }\n",
              "\n",
              "    .dataframe tbody tr th {\n",
              "        vertical-align: top;\n",
              "    }\n",
              "\n",
              "    .dataframe thead th {\n",
              "        text-align: right;\n",
              "    }\n",
              "</style>\n",
              "<table border=\"1\" class=\"dataframe\">\n",
              "  <thead>\n",
              "    <tr style=\"text-align: right;\">\n",
              "      <th></th>\n",
              "      <th>numero_questao</th>\n",
              "      <th>gabarito</th>\n",
              "      <th>NU_PARAM_A</th>\n",
              "      <th>nu_param_B</th>\n",
              "      <th>NU_PARAM_C</th>\n",
              "      <th>ANO</th>\n",
              "      <th>enunciado</th>\n",
              "      <th>alternativas</th>\n",
              "      <th>gabarito_texto</th>\n",
              "      <th>distratores</th>\n",
              "      <th>...</th>\n",
              "      <th>distratores_embbedings_word2vec_100</th>\n",
              "      <th>similaridade_enunciado_gabarito_100</th>\n",
              "      <th>similaridade_enunciado_distratores_100</th>\n",
              "      <th>similaridade_gabarito_distratores_100</th>\n",
              "      <th>enunciado_embbedings_word2vec_50</th>\n",
              "      <th>gabarito_embbedings_word2vec_50</th>\n",
              "      <th>distratores_embbedings_word2vec_50</th>\n",
              "      <th>similaridade_enunciado_gabarito_50</th>\n",
              "      <th>similaridade_enunciado_distratores_50</th>\n",
              "      <th>similaridade_gabarito_distratores_50</th>\n",
              "    </tr>\n",
              "  </thead>\n",
              "  <tbody>\n",
              "    <tr>\n",
              "      <th>0</th>\n",
              "      <td>1</td>\n",
              "      <td>C</td>\n",
              "      <td>3.43894</td>\n",
              "      <td>0.97831</td>\n",
              "      <td>0.10855</td>\n",
              "      <td>2017</td>\n",
              "      <td>No império africano do Mali, no século XIV, To...</td>\n",
              "      <td>A:  isolamento geográﬁco do Saara ocidental; B...</td>\n",
              "      <td>posição relativa nas redes de circulação</td>\n",
              "      <td>isolamento geográﬁco do Saara ocidental; explo...</td>\n",
              "      <td>...</td>\n",
              "      <td>[0.041403063, -0.019931864, 0.13105607, -0.080...</td>\n",
              "      <td>0.236482</td>\n",
              "      <td>0.699529</td>\n",
              "      <td>0.379381</td>\n",
              "      <td>[0.09772969, 0.013166125, -0.032748703, 0.0580...</td>\n",
              "      <td>[-0.04434625, 0.2105245, -0.18144351, 0.030336...</td>\n",
              "      <td>[0.12940213, 0.22066694, 0.0586984, 0.03139533...</td>\n",
              "      <td>0.251504</td>\n",
              "      <td>0.736054</td>\n",
              "      <td>0.426387</td>\n",
              "    </tr>\n",
              "    <tr>\n",
              "      <th>1</th>\n",
              "      <td>2</td>\n",
              "      <td>D</td>\n",
              "      <td>3.00837</td>\n",
              "      <td>0.49169</td>\n",
              "      <td>0.13877</td>\n",
              "      <td>2017</td>\n",
              "      <td>Após a Declaração Universal dos Direitos Human...</td>\n",
              "      <td>A:  ataque feito pelos japoneses à base milita...</td>\n",
              "      <td>execução de judeus e eslavos presos em guetos ...</td>\n",
              "      <td>ataque feito pelos japoneses à base militar am...</td>\n",
              "      <td>...</td>\n",
              "      <td>[-0.008315361, 0.010459961, 0.008144858, 0.036...</td>\n",
              "      <td>0.517151</td>\n",
              "      <td>0.449300</td>\n",
              "      <td>0.560128</td>\n",
              "      <td>[-0.018823402, 0.07832528, -0.016192827, 0.027...</td>\n",
              "      <td>[0.21008351, 0.5248949, 0.03625112, 0.01772637...</td>\n",
              "      <td>[0.078055575, 0.19092263, -0.0076030395, -0.03...</td>\n",
              "      <td>0.634785</td>\n",
              "      <td>0.504648</td>\n",
              "      <td>0.587013</td>\n",
              "    </tr>\n",
              "    <tr>\n",
              "      <th>2</th>\n",
              "      <td>3</td>\n",
              "      <td>D</td>\n",
              "      <td>0.60432</td>\n",
              "      <td>3.25992</td>\n",
              "      <td>0.08798</td>\n",
              "      <td>2017</td>\n",
              "      <td>A moralidade, Bentham exortava, não é uma ques...</td>\n",
              "      <td>A:  fundamentação cientíﬁca de viés positivist...</td>\n",
              "      <td>racionalidade de caráter pragmático</td>\n",
              "      <td>fundamentação cientíﬁca de viés positivista; c...</td>\n",
              "      <td>...</td>\n",
              "      <td>[0.2935421, -0.019240078, 0.0034812312, 0.0143...</td>\n",
              "      <td>0.546526</td>\n",
              "      <td>0.564335</td>\n",
              "      <td>0.681273</td>\n",
              "      <td>[-0.013062097, 0.038470805, -0.020605344, 0.05...</td>\n",
              "      <td>[0.16413634, -0.035050992, 0.08454134, 0.23227...</td>\n",
              "      <td>[0.1313074, 0.058539692, 0.0961813, 0.17813754...</td>\n",
              "      <td>0.655402</td>\n",
              "      <td>0.634760</td>\n",
              "      <td>0.763059</td>\n",
              "    </tr>\n",
              "    <tr>\n",
              "      <th>3</th>\n",
              "      <td>4</td>\n",
              "      <td>E</td>\n",
              "      <td>1.85031</td>\n",
              "      <td>0.57925</td>\n",
              "      <td>0.11344</td>\n",
              "      <td>2017</td>\n",
              "      <td>Fala-se muito nos dias de hoje em direitos do ...</td>\n",
              "      <td>A: modernização da educação escolar; B: atuali...</td>\n",
              "      <td>universalização do princípio da igualdade civil</td>\n",
              "      <td>modernização da educação escolar; atualização ...</td>\n",
              "      <td>...</td>\n",
              "      <td>[0.05247575, 0.061523248, 0.010398333, 0.12163...</td>\n",
              "      <td>0.382210</td>\n",
              "      <td>0.558623</td>\n",
              "      <td>0.591672</td>\n",
              "      <td>[-0.042833664, -0.01434522, -0.002431296, 0.01...</td>\n",
              "      <td>[0.102909006, 0.06116425, -0.13846825, 0.33034...</td>\n",
              "      <td>[0.11364358, 0.071867414, 0.046681672, 0.18046...</td>\n",
              "      <td>0.485125</td>\n",
              "      <td>0.628863</td>\n",
              "      <td>0.766145</td>\n",
              "    </tr>\n",
              "    <tr>\n",
              "      <th>4</th>\n",
              "      <td>5</td>\n",
              "      <td>C</td>\n",
              "      <td>2.46290</td>\n",
              "      <td>0.76307</td>\n",
              "      <td>0.17672</td>\n",
              "      <td>2017</td>\n",
              "      <td>Na Constituição da República Federativa do Bra...</td>\n",
              "      <td>A:  etnia e miscigenação racial; B:  sociedade...</td>\n",
              "      <td>espaço e sobrevivência cultural</td>\n",
              "      <td>etnia e miscigenação racial; sociedade e igual...</td>\n",
              "      <td>...</td>\n",
              "      <td>[0.13021359, 0.0043819174, -0.019453753, 0.061...</td>\n",
              "      <td>0.435788</td>\n",
              "      <td>0.628210</td>\n",
              "      <td>0.611719</td>\n",
              "      <td>[0.010493249, 0.11095436, 0.017243173, 0.05319...</td>\n",
              "      <td>[0.267512, -0.081234336, 0.08019033, 0.1294613...</td>\n",
              "      <td>[0.13863416, 0.16260158, -0.0043905806, 0.2472...</td>\n",
              "      <td>0.559584</td>\n",
              "      <td>0.707497</td>\n",
              "      <td>0.692311</td>\n",
              "    </tr>\n",
              "  </tbody>\n",
              "</table>\n",
              "<p>5 rows × 32 columns</p>\n",
              "</div>"
            ],
            "text/plain": [
              "   numero_questao gabarito  NU_PARAM_A  nu_param_B  NU_PARAM_C   ANO  \\\n",
              "0               1        C     3.43894     0.97831     0.10855  2017   \n",
              "1               2        D     3.00837     0.49169     0.13877  2017   \n",
              "2               3        D     0.60432     3.25992     0.08798  2017   \n",
              "3               4        E     1.85031     0.57925     0.11344  2017   \n",
              "4               5        C     2.46290     0.76307     0.17672  2017   \n",
              "\n",
              "                                           enunciado  \\\n",
              "0  No império africano do Mali, no século XIV, To...   \n",
              "1  Após a Declaração Universal dos Direitos Human...   \n",
              "2  A moralidade, Bentham exortava, não é uma ques...   \n",
              "3  Fala-se muito nos dias de hoje em direitos do ...   \n",
              "4  Na Constituição da República Federativa do Bra...   \n",
              "\n",
              "                                        alternativas  \\\n",
              "0  A:  isolamento geográﬁco do Saara ocidental; B...   \n",
              "1  A:  ataque feito pelos japoneses à base milita...   \n",
              "2  A:  fundamentação cientíﬁca de viés positivist...   \n",
              "3  A: modernização da educação escolar; B: atuali...   \n",
              "4  A:  etnia e miscigenação racial; B:  sociedade...   \n",
              "\n",
              "                                      gabarito_texto  \\\n",
              "0           posição relativa nas redes de circulação   \n",
              "1  execução de judeus e eslavos presos em guetos ...   \n",
              "2                racionalidade de caráter pragmático   \n",
              "3    universalização do princípio da igualdade civil   \n",
              "4                    espaço e sobrevivência cultural   \n",
              "\n",
              "                                         distratores  ...  \\\n",
              "0  isolamento geográﬁco do Saara ocidental; explo...  ...   \n",
              "1  ataque feito pelos japoneses à base militar am...  ...   \n",
              "2  fundamentação cientíﬁca de viés positivista; c...  ...   \n",
              "3  modernização da educação escolar; atualização ...  ...   \n",
              "4  etnia e miscigenação racial; sociedade e igual...  ...   \n",
              "\n",
              "                 distratores_embbedings_word2vec_100  \\\n",
              "0  [0.041403063, -0.019931864, 0.13105607, -0.080...   \n",
              "1  [-0.008315361, 0.010459961, 0.008144858, 0.036...   \n",
              "2  [0.2935421, -0.019240078, 0.0034812312, 0.0143...   \n",
              "3  [0.05247575, 0.061523248, 0.010398333, 0.12163...   \n",
              "4  [0.13021359, 0.0043819174, -0.019453753, 0.061...   \n",
              "\n",
              "  similaridade_enunciado_gabarito_100 similaridade_enunciado_distratores_100  \\\n",
              "0                            0.236482                               0.699529   \n",
              "1                            0.517151                               0.449300   \n",
              "2                            0.546526                               0.564335   \n",
              "3                            0.382210                               0.558623   \n",
              "4                            0.435788                               0.628210   \n",
              "\n",
              "  similaridade_gabarito_distratores_100  \\\n",
              "0                              0.379381   \n",
              "1                              0.560128   \n",
              "2                              0.681273   \n",
              "3                              0.591672   \n",
              "4                              0.611719   \n",
              "\n",
              "                    enunciado_embbedings_word2vec_50  \\\n",
              "0  [0.09772969, 0.013166125, -0.032748703, 0.0580...   \n",
              "1  [-0.018823402, 0.07832528, -0.016192827, 0.027...   \n",
              "2  [-0.013062097, 0.038470805, -0.020605344, 0.05...   \n",
              "3  [-0.042833664, -0.01434522, -0.002431296, 0.01...   \n",
              "4  [0.010493249, 0.11095436, 0.017243173, 0.05319...   \n",
              "\n",
              "                     gabarito_embbedings_word2vec_50  \\\n",
              "0  [-0.04434625, 0.2105245, -0.18144351, 0.030336...   \n",
              "1  [0.21008351, 0.5248949, 0.03625112, 0.01772637...   \n",
              "2  [0.16413634, -0.035050992, 0.08454134, 0.23227...   \n",
              "3  [0.102909006, 0.06116425, -0.13846825, 0.33034...   \n",
              "4  [0.267512, -0.081234336, 0.08019033, 0.1294613...   \n",
              "\n",
              "                  distratores_embbedings_word2vec_50  \\\n",
              "0  [0.12940213, 0.22066694, 0.0586984, 0.03139533...   \n",
              "1  [0.078055575, 0.19092263, -0.0076030395, -0.03...   \n",
              "2  [0.1313074, 0.058539692, 0.0961813, 0.17813754...   \n",
              "3  [0.11364358, 0.071867414, 0.046681672, 0.18046...   \n",
              "4  [0.13863416, 0.16260158, -0.0043905806, 0.2472...   \n",
              "\n",
              "   similaridade_enunciado_gabarito_50  similaridade_enunciado_distratores_50  \\\n",
              "0                            0.251504                               0.736054   \n",
              "1                            0.634785                               0.504648   \n",
              "2                            0.655402                               0.634760   \n",
              "3                            0.485125                               0.628863   \n",
              "4                            0.559584                               0.707497   \n",
              "\n",
              "   similaridade_gabarito_distratores_50  \n",
              "0                              0.426387  \n",
              "1                              0.587013  \n",
              "2                              0.763059  \n",
              "3                              0.766145  \n",
              "4                              0.692311  \n",
              "\n",
              "[5 rows x 32 columns]"
            ]
          },
          "execution_count": 37,
          "metadata": {},
          "output_type": "execute_result"
        }
      ],
      "source": [
        "enem_df.head()"
      ]
    },
    {
      "cell_type": "markdown",
      "metadata": {},
      "source": [
        "---"
      ]
    }
  ],
  "metadata": {
    "colab": {
      "provenance": [],
      "toc_visible": true
    },
    "kernelspec": {
      "display_name": "projeto-enem-YISx0mk8-py3.11",
      "language": "python",
      "name": "python3"
    },
    "language_info": {
      "codemirror_mode": {
        "name": "ipython",
        "version": 3
      },
      "file_extension": ".py",
      "mimetype": "text/x-python",
      "name": "python",
      "nbconvert_exporter": "python",
      "pygments_lexer": "ipython3",
      "version": "3.11.2"
    }
  },
  "nbformat": 4,
  "nbformat_minor": 0
}
