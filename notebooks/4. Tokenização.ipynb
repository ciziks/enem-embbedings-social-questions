{
  "cells": [
    {
      "cell_type": "markdown",
      "metadata": {
        "id": "3Ux4AL44jC9d"
      },
      "source": [
        "# 4. Tokenização\n",
        "\n",
        "Este notebook tem como objetivo realizar a vetorização/tokenização de enunciados e alternativas de questões do ENEM utilizando diferentes modelos de *embeddings* de palavras (*Word2Vec* com 300, 100 e 50 dimensões). O fluxo inclui etapas de limpeza dos dados, geração dos vetores para enunciados, gabaritos e distratores, cálculo das similaridades de cosseno entre eles e visualização do espaço vetorial reduzido (PCA e t-SNE).\n"
      ]
    },
    {
      "cell_type": "code",
      "execution_count": 5,
      "metadata": {
        "id": "cmpoVvMX2N1W"
      },
      "outputs": [],
      "source": [
        "# Importando Dependências para Vetorização\n",
        "import pandas as pd\n",
        "import numpy as np\n",
        "import re\n",
        "import matplotlib.pyplot as plt\n",
        "import plotly.express as px\n",
        "from gensim.models import KeyedVectors\n",
        "from sklearn.metrics.pairwise import cosine_similarity\n",
        "from sklearn.decomposition import PCA\n",
        "from sklearn.manifold import TSNE\n",
        "from sklearn.decomposition import PCA"
      ]
    },
    {
      "cell_type": "code",
      "execution_count": null,
      "metadata": {
        "colab": {
          "base_uri": "https://localhost:8080/",
          "height": 363
        },
        "id": "9we4qNO88eyp",
        "outputId": "f3f55f09-6d5b-46d0-ccc2-218c27b3b573"
      },
      "outputs": [
        {
          "data": {
            "text/html": [
              "<div>\n",
              "<style scoped>\n",
              "    .dataframe tbody tr th:only-of-type {\n",
              "        vertical-align: middle;\n",
              "    }\n",
              "\n",
              "    .dataframe tbody tr th {\n",
              "        vertical-align: top;\n",
              "    }\n",
              "\n",
              "    .dataframe thead th {\n",
              "        text-align: right;\n",
              "    }\n",
              "</style>\n",
              "<table border=\"1\" class=\"dataframe\">\n",
              "  <thead>\n",
              "    <tr style=\"text-align: right;\">\n",
              "      <th></th>\n",
              "      <th>numero_questao</th>\n",
              "      <th>gabarito</th>\n",
              "      <th>NU_PARAM_A</th>\n",
              "      <th>nu_param_B</th>\n",
              "      <th>NU_PARAM_C</th>\n",
              "      <th>ANO</th>\n",
              "      <th>enunciado</th>\n",
              "      <th>alternativas</th>\n",
              "      <th>gabarito_texto</th>\n",
              "      <th>distratores</th>\n",
              "      <th>enunciado_limpo</th>\n",
              "      <th>alternativas_limpo</th>\n",
              "      <th>gabarito_texto_limpo</th>\n",
              "      <th>distratores_limpo</th>\n",
              "    </tr>\n",
              "  </thead>\n",
              "  <tbody>\n",
              "    <tr>\n",
              "      <th>0</th>\n",
              "      <td>1</td>\n",
              "      <td>C</td>\n",
              "      <td>3.43894</td>\n",
              "      <td>0.97831</td>\n",
              "      <td>0.10855</td>\n",
              "      <td>2017</td>\n",
              "      <td>No império africano do Mali, no século XIV, To...</td>\n",
              "      <td>A:  isolamento geográﬁco do Saara ocidental; B...</td>\n",
              "      <td>posição relativa nas redes de circulação</td>\n",
              "      <td>isolamento geográﬁco do Saara ocidental; explo...</td>\n",
              "      <td>africano além astronomia centro cidade comérci...</td>\n",
              "      <td>A: isolamento ocidental saara; B: exploração i...</td>\n",
              "      <td>circulação posição redes relativa</td>\n",
              "      <td>competição econômica exploração intensiva isol...</td>\n",
              "    </tr>\n",
              "    <tr>\n",
              "      <th>1</th>\n",
              "      <td>2</td>\n",
              "      <td>D</td>\n",
              "      <td>3.00837</td>\n",
              "      <td>0.49169</td>\n",
              "      <td>0.13877</td>\n",
              "      <td>2017</td>\n",
              "      <td>Após a Declaração Universal dos Direitos Human...</td>\n",
              "      <td>A:  ataque feito pelos japoneses à base milita...</td>\n",
              "      <td>execução de judeus e eslavos presos em guetos ...</td>\n",
              "      <td>ataque feito pelos japoneses à base militar am...</td>\n",
              "      <td>aberrações acontecimentos após assumida branco...</td>\n",
              "      <td>A: americana ataque base feito harbor japonese...</td>\n",
              "      <td>campos concentração eslavos execução guetos ju...</td>\n",
              "      <td>americana americanas ataque atômicas base bomb...</td>\n",
              "    </tr>\n",
              "    <tr>\n",
              "      <th>2</th>\n",
              "      <td>3</td>\n",
              "      <td>D</td>\n",
              "      <td>0.60432</td>\n",
              "      <td>3.25992</td>\n",
              "      <td>0.08798</td>\n",
              "      <td>2017</td>\n",
              "      <td>A moralidade, Bentham exortava, não é uma ques...</td>\n",
              "      <td>A:  fundamentação cientíﬁca de viés positivist...</td>\n",
              "      <td>racionalidade de caráter pragmático</td>\n",
              "      <td>fundamentação cientíﬁca de viés positivista; c...</td>\n",
              "      <td>abstratas afetados agradar ação bentham condut...</td>\n",
              "      <td>A: fundamentação positivista viés; B: convençã...</td>\n",
              "      <td>caráter pragmático racionalidade</td>\n",
              "      <td>comportamental convenção fundamentação inclina...</td>\n",
              "    </tr>\n",
              "    <tr>\n",
              "      <th>3</th>\n",
              "      <td>4</td>\n",
              "      <td>E</td>\n",
              "      <td>1.85031</td>\n",
              "      <td>0.57925</td>\n",
              "      <td>0.11344</td>\n",
              "      <td>2017</td>\n",
              "      <td>Fala-se muito nos dias de hoje em direitos do ...</td>\n",
              "      <td>A: modernização da educação escolar; B: atuali...</td>\n",
              "      <td>universalização do princípio da igualdade civil</td>\n",
              "      <td>modernização da educação escolar; atualização ...</td>\n",
              "      <td>apresenta assembleia bases bem cidadão concepç...</td>\n",
              "      <td>A: educação escolar modernização; B: atualizaç...</td>\n",
              "      <td>civil igualdade princípio universalização</td>\n",
              "      <td>aristocráticos atualização conhecimento costum...</td>\n",
              "    </tr>\n",
              "    <tr>\n",
              "      <th>4</th>\n",
              "      <td>5</td>\n",
              "      <td>C</td>\n",
              "      <td>2.46290</td>\n",
              "      <td>0.76307</td>\n",
              "      <td>0.17672</td>\n",
              "      <td>2017</td>\n",
              "      <td>Na Constituição da República Federativa do Bra...</td>\n",
              "      <td>A:  etnia e miscigenação racial; B:  sociedade...</td>\n",
              "      <td>espaço e sobrevivência cultural</td>\n",
              "      <td>etnia e miscigenação racial; sociedade e igual...</td>\n",
              "      <td>aplicação artigo bens brasil competindo consta...</td>\n",
              "      <td>A: etnia miscigenação racial; B: igualdade jur...</td>\n",
              "      <td>cultural espaço sobrevivência</td>\n",
              "      <td>ambiental bem econômica educação etnia igualda...</td>\n",
              "    </tr>\n",
              "  </tbody>\n",
              "</table>\n",
              "</div>"
            ],
            "text/plain": [
              "   numero_questao gabarito  NU_PARAM_A  nu_param_B  NU_PARAM_C   ANO  \\\n",
              "0               1        C     3.43894     0.97831     0.10855  2017   \n",
              "1               2        D     3.00837     0.49169     0.13877  2017   \n",
              "2               3        D     0.60432     3.25992     0.08798  2017   \n",
              "3               4        E     1.85031     0.57925     0.11344  2017   \n",
              "4               5        C     2.46290     0.76307     0.17672  2017   \n",
              "\n",
              "                                           enunciado  \\\n",
              "0  No império africano do Mali, no século XIV, To...   \n",
              "1  Após a Declaração Universal dos Direitos Human...   \n",
              "2  A moralidade, Bentham exortava, não é uma ques...   \n",
              "3  Fala-se muito nos dias de hoje em direitos do ...   \n",
              "4  Na Constituição da República Federativa do Bra...   \n",
              "\n",
              "                                        alternativas  \\\n",
              "0  A:  isolamento geográﬁco do Saara ocidental; B...   \n",
              "1  A:  ataque feito pelos japoneses à base milita...   \n",
              "2  A:  fundamentação cientíﬁca de viés positivist...   \n",
              "3  A: modernização da educação escolar; B: atuali...   \n",
              "4  A:  etnia e miscigenação racial; B:  sociedade...   \n",
              "\n",
              "                                      gabarito_texto  \\\n",
              "0           posição relativa nas redes de circulação   \n",
              "1  execução de judeus e eslavos presos em guetos ...   \n",
              "2                racionalidade de caráter pragmático   \n",
              "3    universalização do princípio da igualdade civil   \n",
              "4                    espaço e sobrevivência cultural   \n",
              "\n",
              "                                         distratores  \\\n",
              "0  isolamento geográﬁco do Saara ocidental; explo...   \n",
              "1  ataque feito pelos japoneses à base militar am...   \n",
              "2  fundamentação cientíﬁca de viés positivista; c...   \n",
              "3  modernização da educação escolar; atualização ...   \n",
              "4  etnia e miscigenação racial; sociedade e igual...   \n",
              "\n",
              "                                     enunciado_limpo  \\\n",
              "0  africano além astronomia centro cidade comérci...   \n",
              "1  aberrações acontecimentos após assumida branco...   \n",
              "2  abstratas afetados agradar ação bentham condut...   \n",
              "3  apresenta assembleia bases bem cidadão concepç...   \n",
              "4  aplicação artigo bens brasil competindo consta...   \n",
              "\n",
              "                                  alternativas_limpo  \\\n",
              "0  A: isolamento ocidental saara; B: exploração i...   \n",
              "1  A: americana ataque base feito harbor japonese...   \n",
              "2  A: fundamentação positivista viés; B: convençã...   \n",
              "3  A: educação escolar modernização; B: atualizaç...   \n",
              "4  A: etnia miscigenação racial; B: igualdade jur...   \n",
              "\n",
              "                                gabarito_texto_limpo  \\\n",
              "0                  circulação posição redes relativa   \n",
              "1  campos concentração eslavos execução guetos ju...   \n",
              "2                   caráter pragmático racionalidade   \n",
              "3          civil igualdade princípio universalização   \n",
              "4                      cultural espaço sobrevivência   \n",
              "\n",
              "                                   distratores_limpo  \n",
              "0  competição econômica exploração intensiva isol...  \n",
              "1  americana americanas ataque atômicas base bomb...  \n",
              "2  comportamental convenção fundamentação inclina...  \n",
              "3  aristocráticos atualização conhecimento costum...  \n",
              "4  ambiental bem econômica educação etnia igualda...  "
            ]
          },
          "execution_count": 2,
          "metadata": {},
          "output_type": "execute_result"
        }
      ],
      "source": [
        "# Leitura do dataset\n",
        "enem_df = pd.read_csv(\"../data/final/cleaned_data.csv\")\n",
        "enem_df.head(5)"
      ]
    },
    {
      "cell_type": "code",
      "execution_count": null,
      "metadata": {},
      "outputs": [],
      "source": [
        "# Função auxiliar que irá retornar os vetores de palavras\n",
        "def generate_word2vec_embeddings(data, model):\n",
        "    # Dicionário auxiliar que armazena palavras já encontradas\n",
        "    vetor_cache = {}\n",
        "\n",
        "    not_found_words = set()\n",
        "    embeddings = []\n",
        "\n",
        "    for item in data:\n",
        "        word_vectors = []\n",
        "        words = re.sub(r\"[^\\w\\s]\", \"\", item.lower()).split()\n",
        "\n",
        "        for word in words:\n",
        "            try:\n",
        "                if word in vetor_cache:\n",
        "                    word_vectors.append(vetor_cache[word])\n",
        "                else:\n",
        "                    vetor_cache[word] = model[word]\n",
        "                    word_vectors.append(model[word])\n",
        "            except KeyError:\n",
        "                not_found_words.add(word)\n",
        "\n",
        "        if word_vectors:\n",
        "            # Calcula a média dos vetores\n",
        "            mean_vector = np.mean(word_vectors, axis=0)\n",
        "            embeddings.append(mean_vector)\n",
        "        else:\n",
        "            # Se não encontrou nenhuma palavra, adiciona um vetor nulo\n",
        "            embeddings.append(np.zeros(model.vector_size))\n",
        "\n",
        "    return embeddings, not_found_words"
      ]
    },
    {
      "cell_type": "markdown",
      "metadata": {},
      "source": [
        "---\n",
        "\n",
        "## 4.1. Word2Vec - 300 Dimensões\n"
      ]
    },
    {
      "cell_type": "code",
      "execution_count": 5,
      "metadata": {},
      "outputs": [],
      "source": [
        "# Modelo de Embedding: Word2Vec NILC\n",
        "# Download disponível em:\n",
        "# http://nilc.icmc.usp.br/nilc/index.php/repositorio-de-word-embeddings-do-nilc\n",
        "model_300 = KeyedVectors.load_word2vec_format(\"../data/embeddings/cbow_s300.txt\")"
      ]
    },
    {
      "cell_type": "markdown",
      "metadata": {},
      "source": [
        "### 4.1.1. Vetorização dos Enunciados\n"
      ]
    },
    {
      "cell_type": "code",
      "execution_count": 16,
      "metadata": {},
      "outputs": [
        {
          "data": {
            "text/plain": [
              "191"
            ]
          },
          "execution_count": 16,
          "metadata": {},
          "output_type": "execute_result"
        }
      ],
      "source": [
        "enem_df[\"enunciado_embbedings_word2vec_300\"], not_found_words_enunciado = (\n",
        "    generate_word2vec_embeddings(enem_df[\"enunciado_limpo\"], model_300)\n",
        ")\n",
        "len(not_found_words_enunciado)"
      ]
    },
    {
      "cell_type": "markdown",
      "metadata": {},
      "source": [
        "### 4.1.2. Vetorização dos Gabaritos\n"
      ]
    },
    {
      "cell_type": "code",
      "execution_count": 17,
      "metadata": {},
      "outputs": [
        {
          "data": {
            "text/plain": [
              "{'biopolíticos',\n",
              " 'conduzireis',\n",
              " 'extrapeninsulares',\n",
              " 'multiescalares',\n",
              " 'socioafetivos'}"
            ]
          },
          "execution_count": 17,
          "metadata": {},
          "output_type": "execute_result"
        }
      ],
      "source": [
        "enem_df[\"gabarito_embbedings_word2vec_300\"], not_found_words_gabarito = (\n",
        "    generate_word2vec_embeddings(enem_df[\"gabarito_texto_limpo\"].astype(str), model_300)\n",
        ")\n",
        "not_found_words_gabarito"
      ]
    },
    {
      "cell_type": "markdown",
      "metadata": {},
      "source": [
        "### 4.1.3. Vetorização dos Distratores\n"
      ]
    },
    {
      "cell_type": "code",
      "execution_count": 18,
      "metadata": {},
      "outputs": [
        {
          "data": {
            "text/plain": [
              "11"
            ]
          },
          "execution_count": 18,
          "metadata": {},
          "output_type": "execute_result"
        }
      ],
      "source": [
        "enem_df[\"distratores_embbedings_word2vec_300\"], not_found_words_distratores = (\n",
        "    generate_word2vec_embeddings(enem_df[\"distratores_limpo\"], model_300)\n",
        ")\n",
        "len(not_found_words_distratores)"
      ]
    },
    {
      "cell_type": "markdown",
      "metadata": {},
      "source": [
        "### 4.1.4. Cálculo das Similaridades\n"
      ]
    },
    {
      "cell_type": "code",
      "execution_count": 19,
      "metadata": {},
      "outputs": [
        {
          "data": {
            "text/html": [
              "<div>\n",
              "<style scoped>\n",
              "    .dataframe tbody tr th:only-of-type {\n",
              "        vertical-align: middle;\n",
              "    }\n",
              "\n",
              "    .dataframe tbody tr th {\n",
              "        vertical-align: top;\n",
              "    }\n",
              "\n",
              "    .dataframe thead th {\n",
              "        text-align: right;\n",
              "    }\n",
              "</style>\n",
              "<table border=\"1\" class=\"dataframe\">\n",
              "  <thead>\n",
              "    <tr style=\"text-align: right;\">\n",
              "      <th></th>\n",
              "      <th>similaridade_enunciado_gabarito_300</th>\n",
              "      <th>similaridade_enunciado_distratores_300</th>\n",
              "      <th>similaridade_gabarito_distratores_300</th>\n",
              "    </tr>\n",
              "  </thead>\n",
              "  <tbody>\n",
              "    <tr>\n",
              "      <th>0</th>\n",
              "      <td>0.141353</td>\n",
              "      <td>0.516898</td>\n",
              "      <td>0.151251</td>\n",
              "    </tr>\n",
              "    <tr>\n",
              "      <th>1</th>\n",
              "      <td>0.422576</td>\n",
              "      <td>0.313321</td>\n",
              "      <td>0.423611</td>\n",
              "    </tr>\n",
              "    <tr>\n",
              "      <th>2</th>\n",
              "      <td>0.427063</td>\n",
              "      <td>0.471643</td>\n",
              "      <td>0.602545</td>\n",
              "    </tr>\n",
              "    <tr>\n",
              "      <th>3</th>\n",
              "      <td>0.320939</td>\n",
              "      <td>0.482462</td>\n",
              "      <td>0.421501</td>\n",
              "    </tr>\n",
              "    <tr>\n",
              "      <th>4</th>\n",
              "      <td>0.304050</td>\n",
              "      <td>0.501346</td>\n",
              "      <td>0.411802</td>\n",
              "    </tr>\n",
              "  </tbody>\n",
              "</table>\n",
              "</div>"
            ],
            "text/plain": [
              "   similaridade_enunciado_gabarito_300  \\\n",
              "0                             0.141353   \n",
              "1                             0.422576   \n",
              "2                             0.427063   \n",
              "3                             0.320939   \n",
              "4                             0.304050   \n",
              "\n",
              "   similaridade_enunciado_distratores_300  \\\n",
              "0                                0.516898   \n",
              "1                                0.313321   \n",
              "2                                0.471643   \n",
              "3                                0.482462   \n",
              "4                                0.501346   \n",
              "\n",
              "   similaridade_gabarito_distratores_300  \n",
              "0                               0.151251  \n",
              "1                               0.423611  \n",
              "2                               0.602545  \n",
              "3                               0.421501  \n",
              "4                               0.411802  "
            ]
          },
          "execution_count": 19,
          "metadata": {},
          "output_type": "execute_result"
        }
      ],
      "source": [
        "# Calculando a similaridade de cosseno entre os embeddings de 300 dim\n",
        "# Similaridade entre enunciado e gabarito\n",
        "enem_df[\"similaridade_enunciado_gabarito_300\"] = [\n",
        "    cosine_similarity([enunciado], [gabarito])[0][0]\n",
        "    for enunciado, gabarito in zip(\n",
        "        enem_df[\"enunciado_embbedings_word2vec_300\"],\n",
        "        enem_df[\"gabarito_embbedings_word2vec_300\"],\n",
        "    )\n",
        "]\n",
        "\n",
        "# Similaridade entre enunciado e distratores\n",
        "enem_df[\"similaridade_enunciado_distratores_300\"] = [\n",
        "    cosine_similarity([enunciado], [distratores])[0][0]\n",
        "    for enunciado, distratores in zip(\n",
        "        enem_df[\"enunciado_embbedings_word2vec_300\"],\n",
        "        enem_df[\"distratores_embbedings_word2vec_300\"],\n",
        "    )\n",
        "]\n",
        "\n",
        "# Similaridade entre gabarito e distratores\n",
        "enem_df[\"similaridade_gabarito_distratores_300\"] = [\n",
        "    cosine_similarity([gabarito], [distratores])[0][0]\n",
        "    for gabarito, distratores in zip(\n",
        "        enem_df[\"gabarito_embbedings_word2vec_300\"],\n",
        "        enem_df[\"distratores_embbedings_word2vec_300\"],\n",
        "    )\n",
        "]\n",
        "\n",
        "enem_df[\n",
        "    [\n",
        "        \"similaridade_enunciado_gabarito_300\",\n",
        "        \"similaridade_enunciado_distratores_300\",\n",
        "        \"similaridade_gabarito_distratores_300\",\n",
        "    ]\n",
        "].head()"
      ]
    },
    {
      "cell_type": "markdown",
      "metadata": {},
      "source": [
        "---\n",
        "\n",
        "## 4.2. Word2Vec - 100 Dimensões\n"
      ]
    },
    {
      "cell_type": "code",
      "execution_count": 10,
      "metadata": {},
      "outputs": [],
      "source": [
        "# Modelo de Embedding: Word2Vec NILC\n",
        "# Download disponível em:\n",
        "# http://nilc.icmc.usp.br/nilc/index.php/repositorio-de-word-embeddings-do-nilc\n",
        "model_100 = KeyedVectors.load_word2vec_format(\"../data/embeddings/cbow_s100.txt\")"
      ]
    },
    {
      "cell_type": "markdown",
      "metadata": {},
      "source": [
        "### 4.2.1. Vetorização dos Enunciados\n"
      ]
    },
    {
      "cell_type": "code",
      "execution_count": 20,
      "metadata": {},
      "outputs": [
        {
          "data": {
            "text/plain": [
              "191"
            ]
          },
          "execution_count": 20,
          "metadata": {},
          "output_type": "execute_result"
        }
      ],
      "source": [
        "enem_df[\"enunciado_embbedings_word2vec_100\"], not_found_words_enunciado_100 = (\n",
        "    generate_word2vec_embeddings(enem_df[\"enunciado_limpo\"], model_100)\n",
        ")\n",
        "len(not_found_words_enunciado_100)"
      ]
    },
    {
      "cell_type": "markdown",
      "metadata": {},
      "source": [
        "### 4.2.2. Vetorização dos Gabaritos\n"
      ]
    },
    {
      "cell_type": "code",
      "execution_count": 23,
      "metadata": {},
      "outputs": [
        {
          "data": {
            "text/plain": [
              "{'biopolíticos',\n",
              " 'conduzireis',\n",
              " 'extrapeninsulares',\n",
              " 'multiescalares',\n",
              " 'socioafetivos'}"
            ]
          },
          "execution_count": 23,
          "metadata": {},
          "output_type": "execute_result"
        }
      ],
      "source": [
        "enem_df[\"gabarito_embbedings_word2vec_100\"], not_found_words_gabarito_100 = (\n",
        "    generate_word2vec_embeddings(enem_df[\"gabarito_texto_limpo\"].astype(str), model_100)\n",
        ")\n",
        "not_found_words_gabarito_100"
      ]
    },
    {
      "cell_type": "markdown",
      "metadata": {},
      "source": [
        "### 4.2.3. Vetorização dos Distratores\n"
      ]
    },
    {
      "cell_type": "code",
      "execution_count": 24,
      "metadata": {},
      "outputs": [
        {
          "data": {
            "text/plain": [
              "11"
            ]
          },
          "execution_count": 24,
          "metadata": {},
          "output_type": "execute_result"
        }
      ],
      "source": [
        "enem_df[\"distratores_embbedings_word2vec_100\"], not_found_words_distratores_100 = (\n",
        "    generate_word2vec_embeddings(enem_df[\"distratores_limpo\"], model_100)\n",
        ")\n",
        "len(not_found_words_distratores_100)"
      ]
    },
    {
      "cell_type": "markdown",
      "metadata": {},
      "source": [
        "### 4.2.4. Cálculo das Similaridades\n"
      ]
    },
    {
      "cell_type": "code",
      "execution_count": 25,
      "metadata": {},
      "outputs": [
        {
          "data": {
            "text/html": [
              "<div>\n",
              "<style scoped>\n",
              "    .dataframe tbody tr th:only-of-type {\n",
              "        vertical-align: middle;\n",
              "    }\n",
              "\n",
              "    .dataframe tbody tr th {\n",
              "        vertical-align: top;\n",
              "    }\n",
              "\n",
              "    .dataframe thead th {\n",
              "        text-align: right;\n",
              "    }\n",
              "</style>\n",
              "<table border=\"1\" class=\"dataframe\">\n",
              "  <thead>\n",
              "    <tr style=\"text-align: right;\">\n",
              "      <th></th>\n",
              "      <th>similaridade_enunciado_gabarito_100</th>\n",
              "      <th>similaridade_enunciado_distratores_100</th>\n",
              "      <th>similaridade_gabarito_distratores_100</th>\n",
              "    </tr>\n",
              "  </thead>\n",
              "  <tbody>\n",
              "    <tr>\n",
              "      <th>0</th>\n",
              "      <td>0.236482</td>\n",
              "      <td>0.699529</td>\n",
              "      <td>0.379381</td>\n",
              "    </tr>\n",
              "    <tr>\n",
              "      <th>1</th>\n",
              "      <td>0.517151</td>\n",
              "      <td>0.449300</td>\n",
              "      <td>0.560128</td>\n",
              "    </tr>\n",
              "    <tr>\n",
              "      <th>2</th>\n",
              "      <td>0.546526</td>\n",
              "      <td>0.564335</td>\n",
              "      <td>0.681273</td>\n",
              "    </tr>\n",
              "    <tr>\n",
              "      <th>3</th>\n",
              "      <td>0.382210</td>\n",
              "      <td>0.558623</td>\n",
              "      <td>0.591672</td>\n",
              "    </tr>\n",
              "    <tr>\n",
              "      <th>4</th>\n",
              "      <td>0.435788</td>\n",
              "      <td>0.628210</td>\n",
              "      <td>0.611719</td>\n",
              "    </tr>\n",
              "  </tbody>\n",
              "</table>\n",
              "</div>"
            ],
            "text/plain": [
              "   similaridade_enunciado_gabarito_100  \\\n",
              "0                             0.236482   \n",
              "1                             0.517151   \n",
              "2                             0.546526   \n",
              "3                             0.382210   \n",
              "4                             0.435788   \n",
              "\n",
              "   similaridade_enunciado_distratores_100  \\\n",
              "0                                0.699529   \n",
              "1                                0.449300   \n",
              "2                                0.564335   \n",
              "3                                0.558623   \n",
              "4                                0.628210   \n",
              "\n",
              "   similaridade_gabarito_distratores_100  \n",
              "0                               0.379381  \n",
              "1                               0.560128  \n",
              "2                               0.681273  \n",
              "3                               0.591672  \n",
              "4                               0.611719  "
            ]
          },
          "execution_count": 25,
          "metadata": {},
          "output_type": "execute_result"
        }
      ],
      "source": [
        "# Calculando a similaridade de cosseno entre os embeddings de 100 dim\n",
        "# Similaridade entre enunciado e gabarito\n",
        "enem_df[\"similaridade_enunciado_gabarito_100\"] = [\n",
        "    cosine_similarity([enunciado], [gabarito])[0][0]\n",
        "    for enunciado, gabarito in zip(\n",
        "        enem_df[\"enunciado_embbedings_word2vec_100\"],\n",
        "        enem_df[\"gabarito_embbedings_word2vec_100\"],\n",
        "    )\n",
        "]\n",
        "\n",
        "# Similaridade entre enunciado e distratores\n",
        "enem_df[\"similaridade_enunciado_distratores_100\"] = [\n",
        "    cosine_similarity([enunciado], [distratores])[0][0]\n",
        "    for enunciado, distratores in zip(\n",
        "        enem_df[\"enunciado_embbedings_word2vec_100\"],\n",
        "        enem_df[\"distratores_embbedings_word2vec_100\"],\n",
        "    )\n",
        "]\n",
        "\n",
        "# Similaridade entre gabarito e distratores\n",
        "enem_df[\"similaridade_gabarito_distratores_100\"] = [\n",
        "    cosine_similarity([gabarito], [distratores])[0][0]\n",
        "    for gabarito, distratores in zip(\n",
        "        enem_df[\"gabarito_embbedings_word2vec_100\"],\n",
        "        enem_df[\"distratores_embbedings_word2vec_100\"],\n",
        "    )\n",
        "]\n",
        "\n",
        "enem_df[\n",
        "    [\n",
        "        \"similaridade_enunciado_gabarito_100\",\n",
        "        \"similaridade_enunciado_distratores_100\",\n",
        "        \"similaridade_gabarito_distratores_100\",\n",
        "    ]\n",
        "].head()"
      ]
    },
    {
      "cell_type": "markdown",
      "metadata": {},
      "source": [
        "---\n",
        "\n",
        "## 4.3. Word2Vec - 50 Dimensões\n"
      ]
    },
    {
      "cell_type": "code",
      "execution_count": 26,
      "metadata": {},
      "outputs": [],
      "source": [
        "# Modelo de Embedding: Word2Vec NILC\n",
        "# Download disponível em:\n",
        "# http://nilc.icmc.usp.br/nilc/index.php/repositorio-de-word-embeddings-do-nilc\n",
        "model_50 = KeyedVectors.load_word2vec_format(\"../data/embeddings/cbow_s50.txt\")"
      ]
    },
    {
      "cell_type": "markdown",
      "metadata": {},
      "source": [
        "### 4.3.1. Vetorização dos Enunciados\n"
      ]
    },
    {
      "cell_type": "code",
      "execution_count": 27,
      "metadata": {},
      "outputs": [
        {
          "data": {
            "text/plain": [
              "191"
            ]
          },
          "execution_count": 27,
          "metadata": {},
          "output_type": "execute_result"
        }
      ],
      "source": [
        "enem_df[\"enunciado_embbedings_word2vec_50\"], not_found_words_enunciado_50 = (\n",
        "    generate_word2vec_embeddings(enem_df[\"enunciado_limpo\"], model_50)\n",
        ")\n",
        "len(not_found_words_enunciado_50)"
      ]
    },
    {
      "cell_type": "markdown",
      "metadata": {},
      "source": [
        "### 4.3.2. Vetorização dos Gabaritos\n"
      ]
    },
    {
      "cell_type": "code",
      "execution_count": 28,
      "metadata": {},
      "outputs": [
        {
          "data": {
            "text/plain": [
              "{'biopolíticos',\n",
              " 'conduzireis',\n",
              " 'extrapeninsulares',\n",
              " 'multiescalares',\n",
              " 'socioafetivos'}"
            ]
          },
          "execution_count": 28,
          "metadata": {},
          "output_type": "execute_result"
        }
      ],
      "source": [
        "enem_df[\"gabarito_embbedings_word2vec_50\"], not_found_words_gabarito_50 = (\n",
        "    generate_word2vec_embeddings(enem_df[\"gabarito_texto_limpo\"].astype(str), model_50)\n",
        ")\n",
        "not_found_words_gabarito_50"
      ]
    },
    {
      "cell_type": "markdown",
      "metadata": {},
      "source": [
        "### 4.3.3. Vetorização dos Distratores\n"
      ]
    },
    {
      "cell_type": "code",
      "execution_count": 29,
      "metadata": {},
      "outputs": [
        {
          "data": {
            "text/plain": [
              "11"
            ]
          },
          "execution_count": 29,
          "metadata": {},
          "output_type": "execute_result"
        }
      ],
      "source": [
        "enem_df[\"distratores_embbedings_word2vec_50\"], not_found_words_distratores_50 = (\n",
        "    generate_word2vec_embeddings(enem_df[\"distratores_limpo\"], model_50)\n",
        ")\n",
        "len(not_found_words_distratores_50)"
      ]
    },
    {
      "cell_type": "markdown",
      "metadata": {},
      "source": [
        "### 4.3.4. Cálculo das Similaridades\n"
      ]
    },
    {
      "cell_type": "code",
      "execution_count": 31,
      "metadata": {},
      "outputs": [
        {
          "data": {
            "text/html": [
              "<div>\n",
              "<style scoped>\n",
              "    .dataframe tbody tr th:only-of-type {\n",
              "        vertical-align: middle;\n",
              "    }\n",
              "\n",
              "    .dataframe tbody tr th {\n",
              "        vertical-align: top;\n",
              "    }\n",
              "\n",
              "    .dataframe thead th {\n",
              "        text-align: right;\n",
              "    }\n",
              "</style>\n",
              "<table border=\"1\" class=\"dataframe\">\n",
              "  <thead>\n",
              "    <tr style=\"text-align: right;\">\n",
              "      <th></th>\n",
              "      <th>similaridade_enunciado_gabarito_50</th>\n",
              "      <th>similaridade_enunciado_distratores_50</th>\n",
              "      <th>similaridade_gabarito_distratores_50</th>\n",
              "    </tr>\n",
              "  </thead>\n",
              "  <tbody>\n",
              "    <tr>\n",
              "      <th>0</th>\n",
              "      <td>0.251504</td>\n",
              "      <td>0.736054</td>\n",
              "      <td>0.426387</td>\n",
              "    </tr>\n",
              "    <tr>\n",
              "      <th>1</th>\n",
              "      <td>0.634785</td>\n",
              "      <td>0.504648</td>\n",
              "      <td>0.587013</td>\n",
              "    </tr>\n",
              "    <tr>\n",
              "      <th>2</th>\n",
              "      <td>0.655402</td>\n",
              "      <td>0.634760</td>\n",
              "      <td>0.763059</td>\n",
              "    </tr>\n",
              "    <tr>\n",
              "      <th>3</th>\n",
              "      <td>0.485125</td>\n",
              "      <td>0.628863</td>\n",
              "      <td>0.766145</td>\n",
              "    </tr>\n",
              "    <tr>\n",
              "      <th>4</th>\n",
              "      <td>0.559584</td>\n",
              "      <td>0.707497</td>\n",
              "      <td>0.692311</td>\n",
              "    </tr>\n",
              "  </tbody>\n",
              "</table>\n",
              "</div>"
            ],
            "text/plain": [
              "   similaridade_enunciado_gabarito_50  similaridade_enunciado_distratores_50  \\\n",
              "0                            0.251504                               0.736054   \n",
              "1                            0.634785                               0.504648   \n",
              "2                            0.655402                               0.634760   \n",
              "3                            0.485125                               0.628863   \n",
              "4                            0.559584                               0.707497   \n",
              "\n",
              "   similaridade_gabarito_distratores_50  \n",
              "0                              0.426387  \n",
              "1                              0.587013  \n",
              "2                              0.763059  \n",
              "3                              0.766145  \n",
              "4                              0.692311  "
            ]
          },
          "execution_count": 31,
          "metadata": {},
          "output_type": "execute_result"
        }
      ],
      "source": [
        "# Calculando a similaridade de cosseno entre os embeddings de 50 dim\n",
        "# Similaridade entre enunciado e gabarito\n",
        "enem_df[\"similaridade_enunciado_gabarito_50\"] = [\n",
        "    cosine_similarity([enunciado], [gabarito])[0][0]\n",
        "    for enunciado, gabarito in zip(\n",
        "        enem_df[\"enunciado_embbedings_word2vec_50\"],\n",
        "        enem_df[\"gabarito_embbedings_word2vec_50\"],\n",
        "    )\n",
        "]\n",
        "\n",
        "# Similaridade entre enunciado e distratores\n",
        "enem_df[\"similaridade_enunciado_distratores_50\"] = [\n",
        "    cosine_similarity([enunciado], [distratores])[0][0]\n",
        "    for enunciado, distratores in zip(\n",
        "        enem_df[\"enunciado_embbedings_word2vec_50\"],\n",
        "        enem_df[\"distratores_embbedings_word2vec_50\"],\n",
        "    )\n",
        "]\n",
        "\n",
        "# Similaridade entre gabarito e distratores\n",
        "enem_df[\"similaridade_gabarito_distratores_50\"] = [\n",
        "    cosine_similarity([gabarito], [distratores])[0][0]\n",
        "    for gabarito, distratores in zip(\n",
        "        enem_df[\"gabarito_embbedings_word2vec_50\"],\n",
        "        enem_df[\"distratores_embbedings_word2vec_50\"],\n",
        "    )\n",
        "]\n",
        "\n",
        "enem_df[\n",
        "    [\n",
        "        \"similaridade_enunciado_gabarito_50\",\n",
        "        \"similaridade_enunciado_distratores_50\",\n",
        "        \"similaridade_gabarito_distratores_50\",\n",
        "    ]\n",
        "].head()"
      ]
    },
    {
      "cell_type": "markdown",
      "metadata": {},
      "source": [
        "---\n",
        "\n",
        "## 4.4. Visualização do Espaço Vetorial\n"
      ]
    },
    {
      "cell_type": "markdown",
      "metadata": {},
      "source": [
        "### 4.4.1. Análise de Componentes Principais (PCA)\n"
      ]
    },
    {
      "cell_type": "code",
      "execution_count": 7,
      "metadata": {},
      "outputs": [
        {
          "data": {
            "image/png": "[encoded data removed]",
            "text/plain": [
              "<Figure size 1200x1000 with 1 Axes>"
            ]
          },
          "metadata": {},
          "output_type": "display_data"
        }
      ],
      "source": [
        "# Coleta os vetores dos enunciados, gabaritos e distratores de 300 dimensões\n",
        "enunciados = np.vstack(enem_df[\"enunciado_embbedings_word2vec_300\"])\n",
        "gabaritos = np.vstack(enem_df[\"gabarito_embbedings_word2vec_300\"])\n",
        "distratores = np.vstack(enem_df[\"distratores_embbedings_word2vec_300\"])\n",
        "\n",
        "# Reduz para 2 dimensões usando PCA\n",
        "pca = PCA(n_components=2)\n",
        "all_vectors = np.vstack([enunciados, gabaritos, distratores])\n",
        "pca_result = pca.fit_transform(all_vectors)\n",
        "n = len(enem_df)\n",
        "\n",
        "plt.figure(figsize=(12, 10))\n",
        "plt.scatter(\n",
        "    pca_result[:n, 0], pca_result[:n, 1], c=\"blue\", label=\"Enunciado\", alpha=0.6\n",
        ")\n",
        "plt.scatter(\n",
        "    pca_result[n : 2 * n, 0],\n",
        "    pca_result[n : 2 * n, 1],\n",
        "    c=\"green\",\n",
        "    label=\"Gabarito\",\n",
        "    alpha=0.6,\n",
        ")\n",
        "plt.scatter(\n",
        "    pca_result[2 * n :, 0],\n",
        "    pca_result[2 * n :, 1],\n",
        "    c=\"red\",\n",
        "    label=\"Distratores\",\n",
        "    alpha=0.6,\n",
        ")\n",
        "plt.legend()\n",
        "plt.title(\"Espaço Semântico dos Embeddings (PCA 2D)\")\n",
        "plt.xlabel(\"Componente Principal 1\")\n",
        "plt.ylabel(\"Componente Principal 2\")\n",
        "plt.grid(True)\n",
        "plt.show()"
      ]
    },
    {
      "cell_type": "code",
      "execution_count": 8,
      "metadata": {},
      "outputs": [
        {
          "data": {
            "application/vnd.plotly.v1+json": {
              "config": {
                "plotlyServerURL": "https://plot.ly"
              },
              "data": [
                {
                  "hovertemplate": "<b>%{hovertext}</b><br><br>Categoria=Enunciado<br>PC1=%{x}<br>PC2=%{y}<br>PC3=%{z}<extra></extra>",
                  "hovertext": [
                    "Enunciado",
                    "Enunciado",
                    "Enunciado",
                    "Enunciado",
                    "Enunciado",
                    "Enunciado",
                    "Enunciado",
                    "Enunciado",
                    "Enunciado",
                    "Enunciado",
                    "Enunciado",
                    "Enunciado",
                    "Enunciado",
                    "Enunciado",
                    "Enunciado",
                    "Enunciado",
                    "Enunciado",
                    "Enunciado",
                    "Enunciado",
                    "Enunciado",
                    "Enunciado",
                    "Enunciado",
                    "Enunciado",
                    "Enunciado",
                    "Enunciado",
                    "Enunciado",
                    "Enunciado",
                    "Enunciado",
                    "Enunciado",
                    "Enunciado",
                    "Enunciado",
                    "Enunciado",
                    "Enunciado",
                    "Enunciado",
                    "Enunciado",
                    "Enunciado",
                    "Enunciado",
                    "Enunciado",
                    "Enunciado",
                    "Enunciado",
                    "Enunciado",
                    "Enunciado",
                    "Enunciado",
                    "Enunciado",
                    "Enunciado",
                    "Enunciado",
                    "Enunciado",
                    "Enunciado",
                    "Enunciado",
                    "Enunciado",
                    "Enunciado",
                    "Enunciado",
                    "Enunciado",
                    "Enunciado",
                    "Enunciado",
                    "Enunciado",
                    "Enunciado",
                    "Enunciado",
                    "Enunciado",
                    "Enunciado",
                    "Enunciado",
                    "Enunciado",
                    "Enunciado",
                    "Enunciado",
                    "Enunciado",
                    "Enunciado",
                    "Enunciado",
                    "Enunciado",
                    "Enunciado",
                    "Enunciado",
                    "Enunciado",
                    "Enunciado",
                    "Enunciado",
                    "Enunciado",
                    "Enunciado",
                    "Enunciado",
                    "Enunciado",
                    "Enunciado",
                    "Enunciado",
                    "Enunciado",
                    "Enunciado",
                    "Enunciado",
                    "Enunciado",
                    "Enunciado",
                    "Enunciado",
                    "Enunciado",
                    "Enunciado",
                    "Enunciado",
                    "Enunciado",
                    "Enunciado",
                    "Enunciado",
                    "Enunciado",
                    "Enunciado",
                    "Enunciado",
                    "Enunciado",
                    "Enunciado",
                    "Enunciado",
                    "Enunciado",
                    "Enunciado",
                    "Enunciado",
                    "Enunciado",
                    "Enunciado",
                    "Enunciado",
                    "Enunciado",
                    "Enunciado",
                    "Enunciado",
                    "Enunciado",
                    "Enunciado",
                    "Enunciado",
                    "Enunciado",
                    "Enunciado",
                    "Enunciado",
                    "Enunciado",
                    "Enunciado",
                    "Enunciado",
                    "Enunciado",
                    "Enunciado",
                    "Enunciado",
                    "Enunciado",
                    "Enunciado",
                    "Enunciado",
                    "Enunciado",
                    "Enunciado",
                    "Enunciado",
                    "Enunciado",
                    "Enunciado",
                    "Enunciado",
                    "Enunciado",
                    "Enunciado",
                    "Enunciado",
                    "Enunciado",
                    "Enunciado",
                    "Enunciado",
                    "Enunciado",
                    "Enunciado",
                    "Enunciado",
                    "Enunciado",
                    "Enunciado",
                    "Enunciado",
                    "Enunciado",
                    "Enunciado",
                    "Enunciado",
                    "Enunciado",
                    "Enunciado",
                    "Enunciado",
                    "Enunciado",
                    "Enunciado",
                    "Enunciado",
                    "Enunciado",
                    "Enunciado",
                    "Enunciado",
                    "Enunciado",
                    "Enunciado",
                    "Enunciado",
                    "Enunciado",
                    "Enunciado",
                    "Enunciado",
                    "Enunciado",
                    "Enunciado",
                    "Enunciado",
                    "Enunciado",
                    "Enunciado",
                    "Enunciado",
                    "Enunciado",
                    "Enunciado",
                    "Enunciado",
                    "Enunciado",
                    "Enunciado",
                    "Enunciado",
                    "Enunciado",
                    "Enunciado",
                    "Enunciado",
                    "Enunciado",
                    "Enunciado",
                    "Enunciado",
                    "Enunciado",
                    "Enunciado",
                    "Enunciado",
                    "Enunciado",
                    "Enunciado",
                    "Enunciado",
                    "Enunciado",
                    "Enunciado",
                    "Enunciado",
                    "Enunciado",
                    "Enunciado",
                    "Enunciado",
                    "Enunciado",
                    "Enunciado",
                    "Enunciado",
                    "Enunciado",
                    "Enunciado",
                    "Enunciado",
                    "Enunciado",
                    "Enunciado",
                    "Enunciado",
                    "Enunciado",
                    "Enunciado",
                    "Enunciado",
                    "Enunciado",
                    "Enunciado",
                    "Enunciado",
                    "Enunciado",
                    "Enunciado",
                    "Enunciado",
                    "Enunciado",
                    "Enunciado",
                    "Enunciado",
                    "Enunciado",
                    "Enunciado",
                    "Enunciado",
                    "Enunciado",
                    "Enunciado",
                    "Enunciado",
                    "Enunciado",
                    "Enunciado",
                    "Enunciado",
                    "Enunciado",
                    "Enunciado",
                    "Enunciado",
                    "Enunciado",
                    "Enunciado",
                    "Enunciado",
                    "Enunciado",
                    "Enunciado",
                    "Enunciado",
                    "Enunciado",
                    "Enunciado",
                    "Enunciado",
                    "Enunciado",
                    "Enunciado",
                    "Enunciado",
                    "Enunciado",
                    "Enunciado",
                    "Enunciado",
                    "Enunciado",
                    "Enunciado",
                    "Enunciado",
                    "Enunciado",
                    "Enunciado",
                    "Enunciado",
                    "Enunciado",
                    "Enunciado",
                    "Enunciado",
                    "Enunciado",
                    "Enunciado",
                    "Enunciado",
                    "Enunciado",
                    "Enunciado",
                    "Enunciado",
                    "Enunciado",
                    "Enunciado",
                    "Enunciado",
                    "Enunciado",
                    "Enunciado",
                    "Enunciado",
                    "Enunciado",
                    "Enunciado",
                    "Enunciado",
                    "Enunciado",
                    "Enunciado",
                    "Enunciado",
                    "Enunciado",
                    "Enunciado",
                    "Enunciado",
                    "Enunciado",
                    "Enunciado",
                    "Enunciado",
                    "Enunciado",
                    "Enunciado"
                  ],
                  "legendgroup": "Enunciado",
                  "marker": {
                    "color": "blue",
                    "opacity": 0.7,
                    "size": 3,
                    "symbol": "circle"
                  },
                  "mode": "markers",
                  "name": "Enunciado",
                  "scene": "scene",
                  "showlegend": true,
                  "type": "scatter3d",
                  "x": {
                    "bdata": "5WV4PkYXiD5LPC4+LoqoPup/PT7hGGo+9aqbPRDJmT5hE/Y9t3Z0Po1mUz6/F/M9OfuMPsMdNz7d5h0+CJptPsKQFT4Ar+U+RBpxPmD2OT7AtpU+j7cyPlzGMD7kBQU+SDVoPr1CZT55FOI9PgR1PhuyBj7+214+IQExPtZbNj5JKHs+XA5QPon8XD5EKOo+TLaSPlImEj4hD809+TiGPk4jiT5Xll4+6rWAPrpDVT5fcFQ+t3pbPukzHT5aaYc+w0GAPn6jqj7f2I0+p+J6Pi/ppj5gmrE+RmSMPqUjID4rbaI+r+uYPpE/FT5zfrM+6YvkPX6g3T2tW3k5OW9KPmzvOz4I2kk+eIBoPiNTpD5RCrM+22C4PdEBTj4gooc+KC1rPsA8fz0fVOE9zoZaPoK7az6v6IQ+55nCPqZ9qj2H5Hg+SuF3Pnvilz6qzKo+a5ObPrhH7D2fMoI+yXNvPp2Kmz4Jf0E+D8GFPrUMqT5ezSw+s4llPrYxjz7UO5U+KgnSPSw2TT533nE+7a0mPuGHmT40l6k+q0UBPjE8kz7xjrM+kUa5PvkyjD2pE9Q9r4bDPoHS8T3beY4+nLvdPfd1lD4bZX8+dZVhPrNx8T2YyzE+gAQQPoHAtT6ht0g+sMNSPSyTwj5sBIA+S2NNPhntuLxwU3Q+pNaBPl97hD67f9c931isPs/98T1m+Gg+fHdXPgGIXT5knnA++SrtPSSNpD2qvWi9fcc+PjmYsT4zhcg+eymsPlzkDj6LbjU+HA9jPhy8ZzxcwZk+KtABPvNURz7N+HM+qVgEPqAnlD6jc14+qu3TPirjvT6rTJc+TzedPt7crD6yABA+7n9APtvMTj5r5ik+HMrQPl9foT7Kw6E+diKePjg+dT61gM8+splLPntmGj5qVZU+3He1Pm2TQr26X7I8Af5mPndriz698jA9ux7/PT64GD7td3U+GeWZPlpGBz6hS48+y9CRPh4xJD79lFg+1BLCPnuWhD7CX2k+54wKPpyjoj4BFVw+P+c/PkEC+T2hhqQ+KMGBPmVPQj5Npqo+9+BUPiU1pj5Kdc498hy2PiughD6BdmE+aEAoPsu4Lj6Zo0I+RjcLPonqHj7Gv8m8nw2aPpk+tT6p4S0+jY+oPphdRj4woKE+MDSCPi5FZT46ZvE9lJ4vPlYjXz4Qx3E++8mwPie1lD61GBg9a8+DPokolj0WOZo+U/9hPstFqT7gfrQ+ZH2hPoDnhD6lHhk+fA+pPiuPKj5yBzM+WWiLPv7WhT6saDo+e5sEPrwFtj6sRpU+ljInPgtwnj6Oxf09jilLPpuUjD6gPHE+1YOFPooLkT5ZFYU+ZzYzPmVzXj54L1I8LHIgPpHopj5muzE+NlsVPV54xj5c/jk++B6pPp4K1j02nZ0+TNxWPgxr3j2RzIA+T22VPi8whT5R/Yg+",
                    "dtype": "f4"
                  },
                  "y": {
                    "bdata": "3BWsvRiNQb6ybPO9jONKvmQF7b0WPgC+UlYmPk1cTj1r9qc+oz1vPiahEj4ORBy9cMr5PCoKZD7Da9u9T86hvUDYAj3M0wU9Om9NvlrG2r1fcwS+jPf2vTaIiz4TDh0+8TAUvJbKXD53b28+o5LiPXgi7b0yMyy9yr0OvWiedz6bLvu9yyaxvfTMdb3T9kG+ZDWwvfeXGL7xDkS+64Q+vp6WMz5o15w+d18nvkLuqL36Xno7BT00vk7CBb6nRjS+YgdTvlKtA77d0D++T4oUvrvLgD3QvHC905usvZpp3ryqjQG+skpIvmGcnb3hJlG8hC6aPOUnnb0KyRs9yEn3vPxN5T0G4D++4lk6PpRWub2mZOa9y+HLvdsuFL3imcQ9/MUQPp4lOb7Jz1i9WzrMvQA6qD6YhSG+jD2uvfTQ3r1lp7S8tuBZPk4OE77AU0W9eHUsvXlE1zubdee9NYzSPYBsijyX2T6+uWtHvv48Pr6rvrE9YJC1vTUzEbxxs6S9BVohvg3/prwINss9OohdPZ6hvz1x6x69xFqtvUETh7yzgEE8MaSFvRupzj2g6WY+mpxCvvSrAj7NSKS9NSA3u4oVSbwUD1K9ji1RviA4k73Qsgu+GCWMO2df07ylzA+8ZcJSPWyMHj2deyG93UkVPPDAjj7T4hc9Fq0JPsxrjb1kkiS+HkX/vEht9rzsQQe+YYYvvqFgP75G+l89V4JXPgfMBT6KRKg+K013vdBI3Dx8/6A+ykf+vaahiL3RxwO+rhK0vZl7Qr2QlVC9oDhQPd+ptb3hTii+i3Auvozefb12BCO+OYvFvS1fJb5qcco8raPjvb9/HL6dx889VVtuvEXqND6bvoS8ot12vO7vkD3yiQO+j86hPrtLr72+92q+cWeGvXdM971lWZc7I2dCvlM9NL7ZcYe98cDFPadW6rxNyqm8OMYYvmgtxz3Nc048FVEtvXJ3AT6d8x2+q8h5u+Dt0D38uWY+BWiSvcyiGr4ItmG9DDwRPnn2Sb0Gxh6+Kk8gvdn6cj7d8sk7yqqZPVRusr3fDYg8ENzgvfIwez3dtyC+ufOovWD1Ab19gI09U97zvbFMOj2LKhq9p6iZvdwDAD9f+gq+UmqJvRYZKr1cGo09fZ70vL4FtL2wRMo+7tJTPJvhLzz2SOq7XECtvANXw71qZ/e71b0rvkNjIb5W14E+5hsdvTledj4sLRA+/27RvWnbIDuEcwQ+nEvMPH/gs72UHj88ZKoOvXX7fz3GX5w9QCuyveuDBb4eCMS9WEYLvraAJj5PMTa+r070vd0zF75wmaE+KcD2vbgoH71eEtk8MJqqvb5qrb07jEO85V/pvaoqr73CWAu+VQ3KvMgx6jxnaow+uKDKvNKP171NVl091ssoPV973j1XOps8Xl7RvYJtkj1qn1Q9mMFNuwJ9gr3Clwy8",
                    "dtype": "f4"
                  },
                  "z": {
                    "bdata": "Y7nNvbhB/r24JcG9Eg0FvmolkL2g6xK+3WKYvVHuNL0iSQ2+ViBZvbbIDL0ujEm9ML99vTMFS77wHZe9JIQdvn5xBb2GBre9x4nNvV9g2L2NJPG9qiG5vSpwU77/pf+9YkTfvZd6vr39ud29Q3gQvRI+1r3I7Q++IHz4vWMeHb5SgnW9EwsEvqh/sL2YIF+9RC5bvQdq9L23Yui9PYK6vaT7E74l1ji++D7rvWTgnL0Wdy6+nlADvkvejr2sy9u9+xkdvu4fHr12uga+FPauvZqRJr3Ilqe95V7xvam0u71X5wu8AWyAvbGLrL1Wzv+9IVzPvIEwEL5seW2+MaGcvSNckL3qseu9JLIKvlUFCb7Ztro68lYNvsH24L23Xiu+oYkKvjHePr7kxiS95y2KvfK5Dr6neX69nZwbvt5ahr3V8qu9+lwSvh7sMr3lgOq9T7GovcctIL1aDhK+1JbLvWyov72hvP293M/EvZC3jr1TtRu+SM6fvV/kWL1nF8K9jATgvfgCA77j1BO+XKf8vfNvzb0ug469rySnveWE0L2Phbu9H6vsvZ6uor33qHy+GXG6vSQD8717ksa9a9Tvu/vWtLzOrt29O3ucvYAgH755PPC9DgHJvVtykL2QrRS9QvoQvlBHob3Gl6i9Uwb+vcLIdb6mpwi++hI9vSnbBb7VMfe9vUmLvf+SCr6SorO9EgNsvdFYvr3toK69Rvr9vacN4r2H44S9fBDmvVyHar1XaAm+H1X1vZSo9L3XSMa9aKLivV3XLr7rzuS9aV+hvQzLQ71DLDy91BJ4vQb93L3xmLK9xVOHu7FDvb3DOP69SdG0vVOC8r1E2eW9P4CMva5n3b2epfu9I1sjvdGNqr3n9tG9U1YxvkkBHr6twnO9CwIYvZfxHL6+0em9zGZQvWpsBb4bM6G9dcGovWVN4r1mn/G9+O6/vdowor3Yy7a9RMLSvYrZh71eB8K9AOkJvvUyC77LpDS+mCaRvXIL4b2QNg2+sPN7vocNmb22NOS9zFYAPKTH1b0qE469QtC+vf7oEr4XASW9Fe6kvY/s4L3B3A++l7UZvRyKF72dK8y98iQ4voB5cb1in1K9dYfRvf47Ir7fQwW+i50LvcZEkr39wWw7rQOmvczETr3bBIi9pQXTvde2Hb5z1Vi9f5s9vuji2b0Xz/69cvXgvQogEb4b8iu+UpsCvqz6Yb7HTV29I1KBvVs59L2exHy9n1zFvdn3tr3MhHS+DonMvSP9fL2vtwO+lLeHvQQDB77zXxK+elnmvbkCWr7WGtS9OHXWvUeMk72iNbK9FRT/vdWDl720qHW9zbzOvdoH4L2lZ3W9Zc3kvSWIyL1itcG94wCNO+ZxybyQr+i9qymevR1PtL08d+q9TxT6vVm3zL1ZAOe950/aveJxHb5Qtru9xWENvoC4ib1gAha9",
                    "dtype": "f4"
                  }
                },
                {
                  "hovertemplate": "<b>%{hovertext}</b><br><br>Categoria=Gabarito<br>PC1=%{x}<br>PC2=%{y}<br>PC3=%{z}<extra></extra>",
                  "hovertext": [
                    "Gabarito",
                    "Gabarito",
                    "Gabarito",
                    "Gabarito",
                    "Gabarito",
                    "Gabarito",
                    "Gabarito",
                    "Gabarito",
                    "Gabarito",
                    "Gabarito",
                    "Gabarito",
                    "Gabarito",
                    "Gabarito",
                    "Gabarito",
                    "Gabarito",
                    "Gabarito",
                    "Gabarito",
                    "Gabarito",
                    "Gabarito",
                    "Gabarito",
                    "Gabarito",
                    "Gabarito",
                    "Gabarito",
                    "Gabarito",
                    "Gabarito",
                    "Gabarito",
                    "Gabarito",
                    "Gabarito",
                    "Gabarito",
                    "Gabarito",
                    "Gabarito",
                    "Gabarito",
                    "Gabarito",
                    "Gabarito",
                    "Gabarito",
                    "Gabarito",
                    "Gabarito",
                    "Gabarito",
                    "Gabarito",
                    "Gabarito",
                    "Gabarito",
                    "Gabarito",
                    "Gabarito",
                    "Gabarito",
                    "Gabarito",
                    "Gabarito",
                    "Gabarito",
                    "Gabarito",
                    "Gabarito",
                    "Gabarito",
                    "Gabarito",
                    "Gabarito",
                    "Gabarito",
                    "Gabarito",
                    "Gabarito",
                    "Gabarito",
                    "Gabarito",
                    "Gabarito",
                    "Gabarito",
                    "Gabarito",
                    "Gabarito",
                    "Gabarito",
                    "Gabarito",
                    "Gabarito",
                    "Gabarito",
                    "Gabarito",
                    "Gabarito",
                    "Gabarito",
                    "Gabarito",
                    "Gabarito",
                    "Gabarito",
                    "Gabarito",
                    "Gabarito",
                    "Gabarito",
                    "Gabarito",
                    "Gabarito",
                    "Gabarito",
                    "Gabarito",
                    "Gabarito",
                    "Gabarito",
                    "Gabarito",
                    "Gabarito",
                    "Gabarito",
                    "Gabarito",
                    "Gabarito",
                    "Gabarito",
                    "Gabarito",
                    "Gabarito",
                    "Gabarito",
                    "Gabarito",
                    "Gabarito",
                    "Gabarito",
                    "Gabarito",
                    "Gabarito",
                    "Gabarito",
                    "Gabarito",
                    "Gabarito",
                    "Gabarito",
                    "Gabarito",
                    "Gabarito",
                    "Gabarito",
                    "Gabarito",
                    "Gabarito",
                    "Gabarito",
                    "Gabarito",
                    "Gabarito",
                    "Gabarito",
                    "Gabarito",
                    "Gabarito",
                    "Gabarito",
                    "Gabarito",
                    "Gabarito",
                    "Gabarito",
                    "Gabarito",
                    "Gabarito",
                    "Gabarito",
                    "Gabarito",
                    "Gabarito",
                    "Gabarito",
                    "Gabarito",
                    "Gabarito",
                    "Gabarito",
                    "Gabarito",
                    "Gabarito",
                    "Gabarito",
                    "Gabarito",
                    "Gabarito",
                    "Gabarito",
                    "Gabarito",
                    "Gabarito",
                    "Gabarito",
                    "Gabarito",
                    "Gabarito",
                    "Gabarito",
                    "Gabarito",
                    "Gabarito",
                    "Gabarito",
                    "Gabarito",
                    "Gabarito",
                    "Gabarito",
                    "Gabarito",
                    "Gabarito",
                    "Gabarito",
                    "Gabarito",
                    "Gabarito",
                    "Gabarito",
                    "Gabarito",
                    "Gabarito",
                    "Gabarito",
                    "Gabarito",
                    "Gabarito",
                    "Gabarito",
                    "Gabarito",
                    "Gabarito",
                    "Gabarito",
                    "Gabarito",
                    "Gabarito",
                    "Gabarito",
                    "Gabarito",
                    "Gabarito",
                    "Gabarito",
                    "Gabarito",
                    "Gabarito",
                    "Gabarito",
                    "Gabarito",
                    "Gabarito",
                    "Gabarito",
                    "Gabarito",
                    "Gabarito",
                    "Gabarito",
                    "Gabarito",
                    "Gabarito",
                    "Gabarito",
                    "Gabarito",
                    "Gabarito",
                    "Gabarito",
                    "Gabarito",
                    "Gabarito",
                    "Gabarito",
                    "Gabarito",
                    "Gabarito",
                    "Gabarito",
                    "Gabarito",
                    "Gabarito",
                    "Gabarito",
                    "Gabarito",
                    "Gabarito",
                    "Gabarito",
                    "Gabarito",
                    "Gabarito",
                    "Gabarito",
                    "Gabarito",
                    "Gabarito",
                    "Gabarito",
                    "Gabarito",
                    "Gabarito",
                    "Gabarito",
                    "Gabarito",
                    "Gabarito",
                    "Gabarito",
                    "Gabarito",
                    "Gabarito",
                    "Gabarito",
                    "Gabarito",
                    "Gabarito",
                    "Gabarito",
                    "Gabarito",
                    "Gabarito",
                    "Gabarito",
                    "Gabarito",
                    "Gabarito",
                    "Gabarito",
                    "Gabarito",
                    "Gabarito",
                    "Gabarito",
                    "Gabarito",
                    "Gabarito",
                    "Gabarito",
                    "Gabarito",
                    "Gabarito",
                    "Gabarito",
                    "Gabarito",
                    "Gabarito",
                    "Gabarito",
                    "Gabarito",
                    "Gabarito",
                    "Gabarito",
                    "Gabarito",
                    "Gabarito",
                    "Gabarito",
                    "Gabarito",
                    "Gabarito",
                    "Gabarito",
                    "Gabarito",
                    "Gabarito",
                    "Gabarito",
                    "Gabarito",
                    "Gabarito",
                    "Gabarito",
                    "Gabarito",
                    "Gabarito",
                    "Gabarito",
                    "Gabarito",
                    "Gabarito",
                    "Gabarito",
                    "Gabarito",
                    "Gabarito",
                    "Gabarito",
                    "Gabarito",
                    "Gabarito",
                    "Gabarito",
                    "Gabarito",
                    "Gabarito",
                    "Gabarito",
                    "Gabarito",
                    "Gabarito",
                    "Gabarito",
                    "Gabarito",
                    "Gabarito",
                    "Gabarito",
                    "Gabarito",
                    "Gabarito",
                    "Gabarito",
                    "Gabarito",
                    "Gabarito",
                    "Gabarito",
                    "Gabarito",
                    "Gabarito",
                    "Gabarito",
                    "Gabarito"
                  ],
                  "legendgroup": "Gabarito",
                  "marker": {
                    "color": "green",
                    "opacity": 0.7,
                    "size": 3,
                    "symbol": "circle"
                  },
                  "mode": "markers",
                  "name": "Gabarito",
                  "scene": "scene",
                  "showlegend": true,
                  "type": "scatter3d",
                  "x": {
                    "bdata": "ZSRgvitjkD35O1O+4nrwvh6qEb7IU4i9oXbLvv1sJL7SFp6+5KScv30har6DVq++36kvvxbAjj3opDW/bqnZPhu+iL5QQBe/4+oQvxMFxz4fEKK8IEyBvpTbFT+RhO6+CGGnvtQw8T7wg5o+8WYpv9VdvT69uYu+y/pCvpMOaL5i/u09rTGdPNp7Eb9ma7Q8pikKviX2gL7S+bI+ZKwsPkneZT6ZsgM/rrkFvuquPb42yFi/NNdjPrbk/T66+ay+056Fvu1YyL5IaPa9dlmPvj0orL64Wrm9+OIJv/w7977NBv4+QYz/PbKYlj6Jo7A+JG06vpcDkD3Ehae+PO9GPrckir4sAd69I8X0vvK22z7a/ga+qDu+vsBFfL6cOAq/X7EDvRBWL7x6bCG/1eFWPp1RY7yMn0m/LB6Evf6sDL+cjpq9Rmjbvj1NQ7+WR1K9uw2OvtUKnT0t7W6/MGwSv1Ofwj7GJPa+DDBkvxr0h77pjxG+6zxCvtSIybzlVkG/hv8NOeJrvb5ICca+HndmvrX4g78Lpxo9VVvivQ0pgr75sFG9LP4Dv6HeLL8X8bK+5BE7vwhEfb7B1y08aA2KvjcotD7l6xO+UF4WvqFGFL4I0rg+gwrQvFb9zz4jRKY+vlU1v37Aob/8O/e+3ignPutD3z6Y6Vc+YXKtvs3leTyFHus+41TZPTlGzb2ekwe/2nF7PsZIjj2rWe2+JRg+PkAzF7/i5xC/x80pvhgYPr8AisA+inHCvRCbBr+WUEm+AAPHvGJ5lL+KKYc+v38iPccmbz4X95M+wqzYvlA1zz0Txxi++nrjvWZfMz6MbUQ8FX30vBYNcD5U6pO+272SvW1rwL0hMt6+TyzSviyB7j7rx8i9rniDPuEJPb538QE/0mwNv+r8Mb+iy/G9OCI+PsnRlD0f5nM8ZfVTvuAo3r4BzES+e32nvJZMp77f8wG+noo8PncCQb6qmJq+rLa8PlQUGb/5VK4+UD2fPjeywz3FZ9w76rqsPgHRoz6rKp897mnlvpL8/r0zk1Y+epALPZHBBD/gX4G9k8eXPNAOmz45TNO7WAyIvnNRTz4r9xS/dK6LPk4WAr8XTFU8i+I+PTrI9z7bUpK9mt78vo86Sz7IGRm+HvtMPZTACb3g4TU8NVQGv0ea2b3A4hi/PPkjvq/Wlz7JJ4Y+E3t2vwOq2j1Bs6E+3Rd/vw0ecb0pRWq9blslvgQ9uD61efg9pqqZvrMPvb42+n4+z3bFvWcEtb2PCNK+cA2WPm8g/r2LD/Y9xxEwvylwZDziIIq9515fPj4jfD5zfEY+RPw5vUDaqry7wp+9iLCJvoIHsj4W0N+99KYLvqb1xz4To+C+mK+fPEovk74pXzW/gSn6vulPv70d0ES+f5D3vsdf/r3SwYo+4MbMvQuXerxQHqY9I85Nu6qIer75/RW+",
                    "dtype": "f4"
                  },
                  "y": {
                    "bdata": "Xq6CPt4Q7D3k4Bu/lmDQvhTaNb7lny2+LPwnvlg0k72I44c/oQcsPzVgwD7/fDS+YWOjvm9jqT2jIb2+ecICvIiu3Txta7y+OkwIv/2G1jzPxZy+M1g3vlDtiT/TT+M+AaypvSFzHT7CPcw/oobUPYscXL4WywS+ZYMEvm3DFD92m66+rARPuwTczz768D2+wvYNv5oMDr77zym+f0ObvsGV4D4Bgy8/Pslmvtt4Eb03zX++ONGZPAeMFb4tkVG+tQbIvgdOaL46AfW+RBgovla15j3vL8s+6mM5vhC2NT6sV0O/RE5nvS/FHL6jsTc+1c7iPr9jTL4Q3Bc/QiGVPtLsdT7n0RS/8W4FP3fqHz6c3Pm9UQ2sPeITK77i4R09ApMevV2mq76lF2w+5CE0vqO0mz8GEMm9UUGuvqNUEj1DODo+b1L+PtfCD76CWfS+Kq6RPiVRBz75DHS+JcQJPwECpb7k7ay+50ysvjaZR76yh6g9cgWwvcDVI75RmLG974WvPdnlfDyHZeY+T3F9Pdosz77DGEm/PcyWve8KJb0GP8E+5VxCvgwcQj57ymw/J9CzvuQMTj78OdC9W9Yavjr8lL50iwU+GtpVvoWKOD6JxPS+tn1sPyGvTj6DFpw9niktvm4i2z8QtjU+IdzLPo4gpD4IURa/Ms7FPQXlZL5xc8U9p0YevtCSVr7OAom+0zg6vyHDlL6PH9a9zxYSP08mHL4/9vk++fJzPrzYir2ZXbQ/tmHFvrGFtr7kPgi+r7qYvtx2OD4zGCq9SsIMPy/2d73Khpy+whFbPgtJsr34MNi9ZDGfvtuwqL5ae7s9icYmPmoMT74yshk/NiPLvcAfmD3A4qI+GjiSvaIsED9c/7a+VO+yPlNWor3OYG6+OyqkvrhFL72KhCI7Rrduvl9JgL5LxKK9af5GvnLOG74xajC+UAxjPk6nrT40l1K+KLLavXwhG70/9ES+W+YkPUkmV73WG4w/FLoJPVXIEL4Itbg9Up7kPC6eF77y5I++Q862vrsIVT8iWpK+G1cjPn+Rorvh1By/9H0RviCc1Dy+5Ie+3dASvnO9a77ySqk8u0azvUbX2D2bRZs9IyC9vhnGvj+aX0G+GreAvgIVWL5XISM+tfOevaqu3b4k3c0+m/qCvrHgWb6Z/QI+iGasPRtI2b0OQBk+da25vSOA3764fEw+2e64vZQZAT9yzeg9/l+svn0pp71nKnM9M4nOPr/HJb/Qo/09EQ+QvY31jL1Oun6+wOTNPDKBm7udXRq+TulmvcHFpT6WM8q++I4kvn39gr6X+xU/AK/svSirJL7aB0o+sLZRvr+d/j0Z3T0+enqNvT5cgj0DxtS9of3Ruz1YH77eIN4+hQWBPbA1mD2zonk+M6xlPRYCJz7XtCm+Ln/1voqtqb0AIky+nFo3vhxGETzm1F2+",
                    "dtype": "f4"
                  },
                  "z": {
                    "bdata": "WuDqvf+Rwr0dtQm+xGfZvcAFvTz708u9X94ivnxksz3wR1a+ZaGhvruwAr6I0Kq9XR0KvRGb+70PMvs7Dff2vduluTy12G++nQWtvhYpbb4sJ4G9LfwWvleZM7+8sqI8VsDEvTuSHr63LoK7ys6QvQ2tsL123U+7/6g3Pcq00r7AbAW+JrSYvBXqlD2SHvm9TTQ0vo5VZbyj/wy9ZIruvQpN/L0Ytpy+KbX8vTSV/D0o3k2+V4ktPR+2jb4m3bO86NoMvs5SCb4+nBa+kbIjvhq35L1vCpW9uwlGvqyplL2nzQU+SxaEPfBzBbyUxIe9F43yPePBBr66Ika+2oZ4vhu7tL4/SKC+xEauvZZ51r2JOzu+zwkjvheiD74W8Ae+arh3vv4eD76g7Ry+g+/kvTH1077yNTi+7NF+vWd6Hb69ROo9X3V5vqyHFTyt7eK9WYJHvmPNI7wK5Ce+H3ATvgIl3L1BfKy+gweBvgZCNDzmYA29ooOSvav6vr3scdG9FeHgPDsZCb7eBqm+L7FRvbLTyb7LGxi+H1s/Pc2xqL4sxDy8T2I6vdDvXj0wQ/a9QqUmvTwUtL7jKYm9Df4OPhgExL2V8J+9vJfxvTJ+lT3P+h2+qA00vjVdoL2/uPw8E/dUvkW5Pb+sqZS96dfcPp/9Rj1looi+1XhzvWRx6r0UB0c+6lGoveSgcr3wWTS+A39OvkkoHb5WLrs9xJEovjV0pL5Hilg+n4YZPd3mpj37vVu8emsivnLYlb5Av6y8lZMivnsMt71/I2c9vJfKvjd4Or1GCCK+OqsMvgJ8YrwR7Mu9eU+XvpOl4rwB7Cq+YWnKvRbVIr09iT++C7V4voEKEr+U242+/WqYvhC8u74VGp+9elIWO4Eclb6449u9OaA9vj10Xb6X7I49wu7nPD81/7xqc9M9QVWGvsU3wjxngK09iyO2vUf6QT1n5ko9cZ4RP6p3gD4jyUy8TJ4CP2lg072loyE/JKjHP34OtT5NOw0/XbC8Pn6kLD40P+8+t3DKPtspWD/C5e49bhr4PsO/5T13qRC/o1JkPSUANT+rhyM/b6oIPyI+Gz+WrAA/1l8xvgl3Wby16TI/iLtuPfHgmr5YZDU/cZY+vv2qH77XXIU/U8YGP1aP472g+sk+W1AEPibswDsIAc29tqolP0V/BD11y6w+Rod0vgYp0D2ph4A/UkaovgvPHD/lsx8/2M4NPwBiBz+n7WQ/lj4yP88ie778C3Y/efzLPg8fo71Mh3k6cMJ1PQKvND9Q5do9qBU8Pr7kET9G2w6+oftHP9foHT6f5As/mLsGP8Jz470FuPC7svoYP7fn4D3pyNQ+mqeWvFqSUD8amxy+Ll2qvPzZtD56gxw/t9YGP0C5vj5u3Ia+jSYuP749Kr6RstE+zREmP04Ezj6OejK+TPa2Pau1Rz9JyAS+",
                    "dtype": "f4"
                  }
                },
                {
                  "hovertemplate": "<b>%{hovertext}</b><br><br>Categoria=Distrator<br>PC1=%{x}<br>PC2=%{y}<br>PC3=%{z}<extra></extra>",
                  "hovertext": [
                    "Distrator",
                    "Distrator",
                    "Distrator",
                    "Distrator",
                    "Distrator",
                    "Distrator",
                    "Distrator",
                    "Distrator",
                    "Distrator",
                    "Distrator",
                    "Distrator",
                    "Distrator",
                    "Distrator",
                    "Distrator",
                    "Distrator",
                    "Distrator",
                    "Distrator",
                    "Distrator",
                    "Distrator",
                    "Distrator",
                    "Distrator",
                    "Distrator",
                    "Distrator",
                    "Distrator",
                    "Distrator",
                    "Distrator",
                    "Distrator",
                    "Distrator",
                    "Distrator",
                    "Distrator",
                    "Distrator",
                    "Distrator",
                    "Distrator",
                    "Distrator",
                    "Distrator",
                    "Distrator",
                    "Distrator",
                    "Distrator",
                    "Distrator",
                    "Distrator",
                    "Distrator",
                    "Distrator",
                    "Distrator",
                    "Distrator",
                    "Distrator",
                    "Distrator",
                    "Distrator",
                    "Distrator",
                    "Distrator",
                    "Distrator",
                    "Distrator",
                    "Distrator",
                    "Distrator",
                    "Distrator",
                    "Distrator",
                    "Distrator",
                    "Distrator",
                    "Distrator",
                    "Distrator",
                    "Distrator",
                    "Distrator",
                    "Distrator",
                    "Distrator",
                    "Distrator",
                    "Distrator",
                    "Distrator",
                    "Distrator",
                    "Distrator",
                    "Distrator",
                    "Distrator",
                    "Distrator",
                    "Distrator",
                    "Distrator",
                    "Distrator",
                    "Distrator",
                    "Distrator",
                    "Distrator",
                    "Distrator",
                    "Distrator",
                    "Distrator",
                    "Distrator",
                    "Distrator",
                    "Distrator",
                    "Distrator",
                    "Distrator",
                    "Distrator",
                    "Distrator",
                    "Distrator",
                    "Distrator",
                    "Distrator",
                    "Distrator",
                    "Distrator",
                    "Distrator",
                    "Distrator",
                    "Distrator",
                    "Distrator",
                    "Distrator",
                    "Distrator",
                    "Distrator",
                    "Distrator",
                    "Distrator",
                    "Distrator",
                    "Distrator",
                    "Distrator",
                    "Distrator",
                    "Distrator",
                    "Distrator",
                    "Distrator",
                    "Distrator",
                    "Distrator",
                    "Distrator",
                    "Distrator",
                    "Distrator",
                    "Distrator",
                    "Distrator",
                    "Distrator",
                    "Distrator",
                    "Distrator",
                    "Distrator",
                    "Distrator",
                    "Distrator",
                    "Distrator",
                    "Distrator",
                    "Distrator",
                    "Distrator",
                    "Distrator",
                    "Distrator",
                    "Distrator",
                    "Distrator",
                    "Distrator",
                    "Distrator",
                    "Distrator",
                    "Distrator",
                    "Distrator",
                    "Distrator",
                    "Distrator",
                    "Distrator",
                    "Distrator",
                    "Distrator",
                    "Distrator",
                    "Distrator",
                    "Distrator",
                    "Distrator",
                    "Distrator",
                    "Distrator",
                    "Distrator",
                    "Distrator",
                    "Distrator",
                    "Distrator",
                    "Distrator",
                    "Distrator",
                    "Distrator",
                    "Distrator",
                    "Distrator",
                    "Distrator",
                    "Distrator",
                    "Distrator",
                    "Distrator",
                    "Distrator",
                    "Distrator",
                    "Distrator",
                    "Distrator",
                    "Distrator",
                    "Distrator",
                    "Distrator",
                    "Distrator",
                    "Distrator",
                    "Distrator",
                    "Distrator",
                    "Distrator",
                    "Distrator",
                    "Distrator",
                    "Distrator",
                    "Distrator",
                    "Distrator",
                    "Distrator",
                    "Distrator",
                    "Distrator",
                    "Distrator",
                    "Distrator",
                    "Distrator",
                    "Distrator",
                    "Distrator",
                    "Distrator",
                    "Distrator",
                    "Distrator",
                    "Distrator",
                    "Distrator",
                    "Distrator",
                    "Distrator",
                    "Distrator",
                    "Distrator",
                    "Distrator",
                    "Distrator",
                    "Distrator",
                    "Distrator",
                    "Distrator",
                    "Distrator",
                    "Distrator",
                    "Distrator",
                    "Distrator",
                    "Distrator",
                    "Distrator",
                    "Distrator",
                    "Distrator",
                    "Distrator",
                    "Distrator",
                    "Distrator",
                    "Distrator",
                    "Distrator",
                    "Distrator",
                    "Distrator",
                    "Distrator",
                    "Distrator",
                    "Distrator",
                    "Distrator",
                    "Distrator",
                    "Distrator",
                    "Distrator",
                    "Distrator",
                    "Distrator",
                    "Distrator",
                    "Distrator",
                    "Distrator",
                    "Distrator",
                    "Distrator",
                    "Distrator",
                    "Distrator",
                    "Distrator",
                    "Distrator",
                    "Distrator",
                    "Distrator",
                    "Distrator",
                    "Distrator",
                    "Distrator",
                    "Distrator",
                    "Distrator",
                    "Distrator",
                    "Distrator",
                    "Distrator",
                    "Distrator",
                    "Distrator",
                    "Distrator",
                    "Distrator",
                    "Distrator",
                    "Distrator",
                    "Distrator",
                    "Distrator",
                    "Distrator",
                    "Distrator",
                    "Distrator",
                    "Distrator",
                    "Distrator",
                    "Distrator",
                    "Distrator",
                    "Distrator",
                    "Distrator",
                    "Distrator",
                    "Distrator",
                    "Distrator",
                    "Distrator",
                    "Distrator",
                    "Distrator",
                    "Distrator",
                    "Distrator",
                    "Distrator",
                    "Distrator",
                    "Distrator",
                    "Distrator",
                    "Distrator"
                  ],
                  "legendgroup": "Distrator",
                  "marker": {
                    "color": "red",
                    "opacity": 0.7,
                    "size": 3,
                    "symbol": "circle"
                  },
                  "mode": "markers",
                  "name": "Distrator",
                  "scene": "scene",
                  "showlegend": true,
                  "type": "scatter3d",
                  "x": {
                    "bdata": "ozIBvVt2hD7Ipq6++M/Dvin60L6W4rq7M6n6vs2kKD6HKxC+ZQMVv0CQUTugu6C9RoOovp80TT6MhZO+w+UtPUtOZrwlQki+eSX/vB7ygj1mge++aWTdvdkc/j4TFQE9cUBfvk0lIj1kqr6+uCbyvoUG5Tx374G+B6pZvsgEwTz9ui89CjEmPtmm/77ieOI8hH1JPBx2Vz4MKyU+3ZUpPixL0j5K6SG+zUkkPoHFV761uCy+EcvUvTL4zb3/Us+9BPQNPhDa/b3zJA0+zQ7rvpTxOL7Wl+69rU5JvvZFr75CZqc+nNX+vW2ASj6BCZ49UQQJvy86vz0Sj+I9HD1WvZmXAb9Q76O+f1lTvvEdHj6X7SY9tKQbvmu3kj2FHS++QasFvqA9zj3Gic6++JxQPab+sT7YmQ++iDG4vUMdXL5bfMW+pv/0OFONg76Qsn090HN+vqP4nTsc+u+9+cuwvkqQbTruXH++XwNkv9oUE775UA++3z5OvuzZ1L43xwq/xsfEvk48ZL6D2Po97WA7vlD7hb/6n6Y+p8Q0vmC6Fr98cRC/xvIivcOMsb7rSkw9Sl2yPR83ib67Bk29i+C9vs83Dr7zuCW+kRkAv+AJBr/PNxI+mTigvvgIHT2VZMM97DmlvrFvLr/2Ra++7XvMPp3HWz3Ko28+cinhvvro2D2zDtQ+YDMzvu6jcj5IaxO/WH8svJm3Cr2COFQ+MIVLvkX8/L5pz7a94zhcvlyi2L3wi4s+FX4oPYRcP74kFPu8ROauvT6gur6C5eg9+k4fvFh92z1W2Hk+NpykvoxmSLtPvG++Du7rvY1Kh7z4lsI9AUuGvlC2ND4qtiy+fnXUvDMFF77enIS+eo3nvQNWgz36HJU9hFD9Pn5uNT31mT8+JosYvx8jUL4TomC+ch1HPr1qlD30QRm+pPuavsZNrr62eim+Jhz3vDa1o75hIqY9vVhDPp7otL4vgzm+sAinPuzzv76Va7M+oXCnPoZoBj3wXa+8UH0xPveiVT527gw+mABPvmXplL5eLzg+kXglOyDV2D5HC+C+FHSSvhtq670iWKI9XE7UvkR3h7zYBQq+N2lYPuoG1r6sHv2+y3gfPooiuj6my4C+SmOqvkwkYrxhv8S+9RUoPmbqhj2dc2g9nWVjvojCf75C/rq+1O4LvgYnCz4ByUY+/TbivuED0L6AO/c9k0sIv1nGAL5aXjq82G71PZC2Yz6FKVq+WaKXuh0u0L5lKbQ+60JtvijPaT1cERK+YmH+PCb5w7w8Ng0+GYIJvhH4OD7Nstw9zmijPMoiPD5CSCw+lvL8vbkD/T2ZGlq+FQnbPH0wub2FQJq9zWG/vo9Lsj5Nu72+mzGDvmXQtz1mUxa/i2/OO9WXl70XDWy+kZSEvrD7Nb5V5ck+cvAFvTl/mL4lAOk9+WRNvo6fPzxiKSi/",
                    "dtype": "f4"
                  },
                  "y": {
                    "bdata": "4iQsPjevSj1+78e+MQ+Yvqvhjb58yb29gJhuvXWZlD2czRg/cgkYP7jnPT4OqRs901RuviCwuz4lqO49TgsEvSb5yDrhfoe+ND7zvv6s973XYqS+j+/4Oxp1dj/Jx8w+uewOPZvlmT4nXH8/WUg5PrF8Nr4uZZS9hF9bvrhqHD9d3ue9dzhVvh8nczzLsEa+4vrcvsVTSL5mZeG9/bmhvYUIHz8fhQs/GWc1vod8zbxwtcG9TjVhvRu8QL6dxZS+0PCMvv3MY74V/bi+v+XsvmpRET67NcU+OEsOvNfLrz5XGgy/7mlYvcZtiLxReUS9vKwLPRHPOL3ObQc/syWBvhK5mj5nxqu+MqoZPxLqhD3aCEq+H51LvqckHr5ikG4+1toiPoYVcb6x0FA+27cIvqfIfD+NNBC+4mmJvsSZqz19Wao9QewXP9BFo754nty9FZxbvb0ETj6MyrG+tfuuPirxQr7cvc++uCmpvNIlHr4pLoa9xdSePuTABL4zsWa+X0juvZCxyz22a6E+PvJGvu69LL3FFwu+A3mhu5Y1dL5fMkU8CDQJvvMCGjutKuM+R2OjvuOstjyDbOW9bvEXvlnFw74vA449XbWsvjGd074Ti8M90mSbPjXs1jzMAQy9xR/1PYfEVT/Xy68+aUWUPgKVzT4j6Dy/4P3iPm0zX74swYa+k+SKvvzpXL75VMK+lIb5vhrEgL4D4PS6eFE7Piy8ez79OyA/N9WHPI+qNL4ne1g/7Z+XvupY9jz0/Qa+JyaWviofbz5Iw5y9oGoeP3fNmb58IsK+oomLvfbkPL4RWQe+TmTdvLu3gr7Po4w+algdvqEIPL4Cw9k+0+mGvg0bBT/FKLk+YzNWvhhUOT/RsE2+SiOKP7qICT7q+iK+Ji2CvT0ebL7XWFo9Mfn+PF49ib4JUgY5kER1Pk08hz4NfFC+8P/PPbg7Tj4033O+ePJ6vveLYD4k6Si+9STlu73xHT68sDs/ycYOPv6HXL6YHV++YVNgPp5gXb0V/AW+ghPNvTW1wT4fspa8OiORPjdTZj0lfPi8L8DPPYYNfD7b43q+APqFvpQ1qb3F2BI+jhIaPb5pAb0whbC8NmeyvSu6Cz9KOCu+6b8BvpXsCj377v084orIvHK1tL1hb6M+P60TvQOoCj58uoE+jZbSvKiPlD2JNG0+VsL5vfP88T1Ghb4+aPOlPepDGD4nlJI+fMM4vv/ENr37Zfq9PGVJPkn/Tb4sSV0+iiKrve7E+LuCSiK+LU3HvLmGW76gQIm+WwevvavWLz8H5VK+9LIbvpXxM72tO6g+b/oIvtSsrr1V5YA+z+IXvmogb72TgU0+BUaAvkuHo72IWbU8hqvEvZyYR70UZts++kUXvhbcF74dCt09mpEbvn97ML6Jo6+9Kxo5vo7Cmrylmyq+BeH2PN2jKL5Bp789",
                    "dtype": "f4"
                  },
                  "z": {
                    "bdata": "F3kevhzx173FRWG9ZWKVvQ0JcLy2M6m9I1fSvOrS9T0xHiy+kSpmvir1aj7lvqE9DULavfvJTr4UxgU9Qb0nviLhAj3PHRq+wwlwvtQ43r3zb5e+bGanvUHRm74VKn29E5vwu/uHCL0sNN292giFvKW7EL2yrBi+swEDPWHNYr0NcKC9vzrBvE3djTz0uJs93CwHvgKZq707jwW8xxkPvdfALr7eik6+aQmDvSdnvTvLwy6+7y1cvZmvN75QtR091GeLvTOrHb48XCa9xS5qvr8PxDumPCC+XM6IvT5Y0r1fYMQ9xxKwPOCF4b1+RLq9+PTMvNJNFzq8kzi+gjpFvgPtyL1sBxi+HTlpviaS870TEzo8weYcvvw5Br12mLS8UwiHvbaqYbzF9ey9gusZvhpvVL6+whq+HbjCvSnVWLzJRzS+eM5wvjbshL4eIYK9fz9Pvl8jkDwQRKe9kIcFvsxvpL3ZwGS+2sM5vkgBbjyu8JC9S1cwvcsaZLyckzQ9RAYovfQ8x733g2a8o3Y7vUEdWb5W+B29+oOYvXyDHL6T2uq8mBS7O03AtT0d00C+w7AtvrZdc72vn7G9G0dwvZobhb2cYbQ95ipBvugnDr5MUfY9ppMivpRZ+b22PYs9LXIDu4wNlr4+WNK9XapmuyY5JL5BF4290CGYvkL3aL0G3aU7FtJLvhdd5DxL0iW+0/EkvhMiRb4smCM9J8YkvVA6+L3l+yG9FWJkvXW+Q722u3a90b65vaZ2ab4Af108LhHvvfdCoL11hEE9xHpRvoOxu72Pxei95cfRvRqI5L01jIu9skQbvj7Z6LwfyKe9v6RQvOOwQb22OQ2+XuQ1vnRWnr5wHh296d/KvZgei74ESLy9NH9nvnqDAr1ru6+9HAwnvOEgCL4gN1a9ORbhPbJHBb7z36w98XKBvZO26b1U2PO8N0SbvCCw9L3sjMS9nOyEPglpmD436fo+OVBbPvZivz5NwpQ+Q/llPx0A2z1YvLw+LpUeQIDSvz5GvwM+/MqsPgd3jj72Es4+0gaYPtnGJT+UyQ0/iPW/PpBs6T7Ex4s+IC89PkPBvT4iROY+yhCAPnRTvD6+ubM+usAQPry8HD+n1s4+KczRPuqJaj6oo+E+GGF+PizACD/ljAY+6RgHP3YQdD5Hly4/POWrPjwZyz7L2eo9U9sGP2LnIz+h0oQ+MasiP+bjij7t4fI9uefIPhXVsT5Wlb0+KUn6PrH+GD9k6rs+/mOCPjyuZj40ewo/K3+MPiiTCz5SNUw+n/EFP0RxKT6IUc0+H1DAPhr2ED+bdd8+sk10PhvWiT5dLt0+0lpZPnPJzD6UgE0+Q3rDPkar/T46PvY+HFTOPsFJ1D2ST64+eiOqPiSgEz4zGQc/19OkPpF51D4mz7c+J72wPgUJHj5m7Uc+8qa8Pv/dDj+dDg4/",
                    "dtype": "f4"
                  }
                }
              ],
              "layout": {
                "legend": {
                  "title": {
                    "text": "Categoria"
                  },
                  "tracegroupgap": 0
                },
                "margin": {
                  "b": 0,
                  "l": 0,
                  "r": 0,
                  "t": 40
                },
                "scene": {
                  "domain": {
                    "x": [
                      0,
                      1
                    ],
                    "y": [
                      0,
                      1
                    ]
                  },
                  "xaxis": {
                    "title": {
                      "text": "PC1"
                    }
                  },
                  "yaxis": {
                    "title": {
                      "text": "PC2"
                    }
                  },
                  "zaxis": {
                    "title": {
                      "text": "PC3"
                    }
                  }
                },
                "template": {
                  "data": {
                    "bar": [
                      {
                        "error_x": {
                          "color": "#2a3f5f"
                        },
                        "error_y": {
                          "color": "#2a3f5f"
                        },
                        "marker": {
                          "line": {
                            "color": "#E5ECF6",
                            "width": 0.5
                          },
                          "pattern": {
                            "fillmode": "overlay",
                            "size": 10,
                            "solidity": 0.2
                          }
                        },
                        "type": "bar"
                      }
                    ],
                    "barpolar": [
                      {
                        "marker": {
                          "line": {
                            "color": "#E5ECF6",
                            "width": 0.5
                          },
                          "pattern": {
                            "fillmode": "overlay",
                            "size": 10,
                            "solidity": 0.2
                          }
                        },
                        "type": "barpolar"
                      }
                    ],
                    "carpet": [
                      {
                        "aaxis": {
                          "endlinecolor": "#2a3f5f",
                          "gridcolor": "white",
                          "linecolor": "white",
                          "minorgridcolor": "white",
                          "startlinecolor": "#2a3f5f"
                        },
                        "baxis": {
                          "endlinecolor": "#2a3f5f",
                          "gridcolor": "white",
                          "linecolor": "white",
                          "minorgridcolor": "white",
                          "startlinecolor": "#2a3f5f"
                        },
                        "type": "carpet"
                      }
                    ],
                    "choropleth": [
                      {
                        "colorbar": {
                          "outlinewidth": 0,
                          "ticks": ""
                        },
                        "type": "choropleth"
                      }
                    ],
                    "contour": [
                      {
                        "colorbar": {
                          "outlinewidth": 0,
                          "ticks": ""
                        },
                        "colorscale": [
                          [
                            0,
                            "#0d0887"
                          ],
                          [
                            0.1111111111111111,
                            "#46039f"
                          ],
                          [
                            0.2222222222222222,
                            "#7201a8"
                          ],
                          [
                            0.3333333333333333,
                            "#9c179e"
                          ],
                          [
                            0.4444444444444444,
                            "#bd3786"
                          ],
                          [
                            0.5555555555555556,
                            "#d8576b"
                          ],
                          [
                            0.6666666666666666,
                            "#ed7953"
                          ],
                          [
                            0.7777777777777778,
                            "#fb9f3a"
                          ],
                          [
                            0.8888888888888888,
                            "#fdca26"
                          ],
                          [
                            1,
                            "#f0f921"
                          ]
                        ],
                        "type": "contour"
                      }
                    ],
                    "contourcarpet": [
                      {
                        "colorbar": {
                          "outlinewidth": 0,
                          "ticks": ""
                        },
                        "type": "contourcarpet"
                      }
                    ],
                    "heatmap": [
                      {
                        "colorbar": {
                          "outlinewidth": 0,
                          "ticks": ""
                        },
                        "colorscale": [
                          [
                            0,
                            "#0d0887"
                          ],
                          [
                            0.1111111111111111,
                            "#46039f"
                          ],
                          [
                            0.2222222222222222,
                            "#7201a8"
                          ],
                          [
                            0.3333333333333333,
                            "#9c179e"
                          ],
                          [
                            0.4444444444444444,
                            "#bd3786"
                          ],
                          [
                            0.5555555555555556,
                            "#d8576b"
                          ],
                          [
                            0.6666666666666666,
                            "#ed7953"
                          ],
                          [
                            0.7777777777777778,
                            "#fb9f3a"
                          ],
                          [
                            0.8888888888888888,
                            "#fdca26"
                          ],
                          [
                            1,
                            "#f0f921"
                          ]
                        ],
                        "type": "heatmap"
                      }
                    ],
                    "histogram": [
                      {
                        "marker": {
                          "pattern": {
                            "fillmode": "overlay",
                            "size": 10,
                            "solidity": 0.2
                          }
                        },
                        "type": "histogram"
                      }
                    ],
                    "histogram2d": [
                      {
                        "colorbar": {
                          "outlinewidth": 0,
                          "ticks": ""
                        },
                        "colorscale": [
                          [
                            0,
                            "#0d0887"
                          ],
                          [
                            0.1111111111111111,
                            "#46039f"
                          ],
                          [
                            0.2222222222222222,
                            "#7201a8"
                          ],
                          [
                            0.3333333333333333,
                            "#9c179e"
                          ],
                          [
                            0.4444444444444444,
                            "#bd3786"
                          ],
                          [
                            0.5555555555555556,
                            "#d8576b"
                          ],
                          [
                            0.6666666666666666,
                            "#ed7953"
                          ],
                          [
                            0.7777777777777778,
                            "#fb9f3a"
                          ],
                          [
                            0.8888888888888888,
                            "#fdca26"
                          ],
                          [
                            1,
                            "#f0f921"
                          ]
                        ],
                        "type": "histogram2d"
                      }
                    ],
                    "histogram2dcontour": [
                      {
                        "colorbar": {
                          "outlinewidth": 0,
                          "ticks": ""
                        },
                        "colorscale": [
                          [
                            0,
                            "#0d0887"
                          ],
                          [
                            0.1111111111111111,
                            "#46039f"
                          ],
                          [
                            0.2222222222222222,
                            "#7201a8"
                          ],
                          [
                            0.3333333333333333,
                            "#9c179e"
                          ],
                          [
                            0.4444444444444444,
                            "#bd3786"
                          ],
                          [
                            0.5555555555555556,
                            "#d8576b"
                          ],
                          [
                            0.6666666666666666,
                            "#ed7953"
                          ],
                          [
                            0.7777777777777778,
                            "#fb9f3a"
                          ],
                          [
                            0.8888888888888888,
                            "#fdca26"
                          ],
                          [
                            1,
                            "#f0f921"
                          ]
                        ],
                        "type": "histogram2dcontour"
                      }
                    ],
                    "mesh3d": [
                      {
                        "colorbar": {
                          "outlinewidth": 0,
                          "ticks": ""
                        },
                        "type": "mesh3d"
                      }
                    ],
                    "parcoords": [
                      {
                        "line": {
                          "colorbar": {
                            "outlinewidth": 0,
                            "ticks": ""
                          }
                        },
                        "type": "parcoords"
                      }
                    ],
                    "pie": [
                      {
                        "automargin": true,
                        "type": "pie"
                      }
                    ],
                    "scatter": [
                      {
                        "fillpattern": {
                          "fillmode": "overlay",
                          "size": 10,
                          "solidity": 0.2
                        },
                        "type": "scatter"
                      }
                    ],
                    "scatter3d": [
                      {
                        "line": {
                          "colorbar": {
                            "outlinewidth": 0,
                            "ticks": ""
                          }
                        },
                        "marker": {
                          "colorbar": {
                            "outlinewidth": 0,
                            "ticks": ""
                          }
                        },
                        "type": "scatter3d"
                      }
                    ],
                    "scattercarpet": [
                      {
                        "marker": {
                          "colorbar": {
                            "outlinewidth": 0,
                            "ticks": ""
                          }
                        },
                        "type": "scattercarpet"
                      }
                    ],
                    "scattergeo": [
                      {
                        "marker": {
                          "colorbar": {
                            "outlinewidth": 0,
                            "ticks": ""
                          }
                        },
                        "type": "scattergeo"
                      }
                    ],
                    "scattergl": [
                      {
                        "marker": {
                          "colorbar": {
                            "outlinewidth": 0,
                            "ticks": ""
                          }
                        },
                        "type": "scattergl"
                      }
                    ],
                    "scattermap": [
                      {
                        "marker": {
                          "colorbar": {
                            "outlinewidth": 0,
                            "ticks": ""
                          }
                        },
                        "type": "scattermap"
                      }
                    ],
                    "scattermapbox": [
                      {
                        "marker": {
                          "colorbar": {
                            "outlinewidth": 0,
                            "ticks": ""
                          }
                        },
                        "type": "scattermapbox"
                      }
                    ],
                    "scatterpolar": [
                      {
                        "marker": {
                          "colorbar": {
                            "outlinewidth": 0,
                            "ticks": ""
                          }
                        },
                        "type": "scatterpolar"
                      }
                    ],
                    "scatterpolargl": [
                      {
                        "marker": {
                          "colorbar": {
                            "outlinewidth": 0,
                            "ticks": ""
                          }
                        },
                        "type": "scatterpolargl"
                      }
                    ],
                    "scatterternary": [
                      {
                        "marker": {
                          "colorbar": {
                            "outlinewidth": 0,
                            "ticks": ""
                          }
                        },
                        "type": "scatterternary"
                      }
                    ],
                    "surface": [
                      {
                        "colorbar": {
                          "outlinewidth": 0,
                          "ticks": ""
                        },
                        "colorscale": [
                          [
                            0,
                            "#0d0887"
                          ],
                          [
                            0.1111111111111111,
                            "#46039f"
                          ],
                          [
                            0.2222222222222222,
                            "#7201a8"
                          ],
                          [
                            0.3333333333333333,
                            "#9c179e"
                          ],
                          [
                            0.4444444444444444,
                            "#bd3786"
                          ],
                          [
                            0.5555555555555556,
                            "#d8576b"
                          ],
                          [
                            0.6666666666666666,
                            "#ed7953"
                          ],
                          [
                            0.7777777777777778,
                            "#fb9f3a"
                          ],
                          [
                            0.8888888888888888,
                            "#fdca26"
                          ],
                          [
                            1,
                            "#f0f921"
                          ]
                        ],
                        "type": "surface"
                      }
                    ],
                    "table": [
                      {
                        "cells": {
                          "fill": {
                            "color": "#EBF0F8"
                          },
                          "line": {
                            "color": "white"
                          }
                        },
                        "header": {
                          "fill": {
                            "color": "#C8D4E3"
                          },
                          "line": {
                            "color": "white"
                          }
                        },
                        "type": "table"
                      }
                    ]
                  },
                  "layout": {
                    "annotationdefaults": {
                      "arrowcolor": "#2a3f5f",
                      "arrowhead": 0,
                      "arrowwidth": 1
                    },
                    "autotypenumbers": "strict",
                    "coloraxis": {
                      "colorbar": {
                        "outlinewidth": 0,
                        "ticks": ""
                      }
                    },
                    "colorscale": {
                      "diverging": [
                        [
                          0,
                          "#8e0152"
                        ],
                        [
                          0.1,
                          "#c51b7d"
                        ],
                        [
                          0.2,
                          "#de77ae"
                        ],
                        [
                          0.3,
                          "#f1b6da"
                        ],
                        [
                          0.4,
                          "#fde0ef"
                        ],
                        [
                          0.5,
                          "#f7f7f7"
                        ],
                        [
                          0.6,
                          "#e6f5d0"
                        ],
                        [
                          0.7,
                          "#b8e186"
                        ],
                        [
                          0.8,
                          "#7fbc41"
                        ],
                        [
                          0.9,
                          "#4d9221"
                        ],
                        [
                          1,
                          "#276419"
                        ]
                      ],
                      "sequential": [
                        [
                          0,
                          "#0d0887"
                        ],
                        [
                          0.1111111111111111,
                          "#46039f"
                        ],
                        [
                          0.2222222222222222,
                          "#7201a8"
                        ],
                        [
                          0.3333333333333333,
                          "#9c179e"
                        ],
                        [
                          0.4444444444444444,
                          "#bd3786"
                        ],
                        [
                          0.5555555555555556,
                          "#d8576b"
                        ],
                        [
                          0.6666666666666666,
                          "#ed7953"
                        ],
                        [
                          0.7777777777777778,
                          "#fb9f3a"
                        ],
                        [
                          0.8888888888888888,
                          "#fdca26"
                        ],
                        [
                          1,
                          "#f0f921"
                        ]
                      ],
                      "sequentialminus": [
                        [
                          0,
                          "#0d0887"
                        ],
                        [
                          0.1111111111111111,
                          "#46039f"
                        ],
                        [
                          0.2222222222222222,
                          "#7201a8"
                        ],
                        [
                          0.3333333333333333,
                          "#9c179e"
                        ],
                        [
                          0.4444444444444444,
                          "#bd3786"
                        ],
                        [
                          0.5555555555555556,
                          "#d8576b"
                        ],
                        [
                          0.6666666666666666,
                          "#ed7953"
                        ],
                        [
                          0.7777777777777778,
                          "#fb9f3a"
                        ],
                        [
                          0.8888888888888888,
                          "#fdca26"
                        ],
                        [
                          1,
                          "#f0f921"
                        ]
                      ]
                    },
                    "colorway": [
                      "#636efa",
                      "#EF553B",
                      "#00cc96",
                      "#ab63fa",
                      "#FFA15A",
                      "#19d3f3",
                      "#FF6692",
                      "#B6E880",
                      "#FF97FF",
                      "#FECB52"
                    ],
                    "font": {
                      "color": "#2a3f5f"
                    },
                    "geo": {
                      "bgcolor": "white",
                      "lakecolor": "white",
                      "landcolor": "#E5ECF6",
                      "showlakes": true,
                      "showland": true,
                      "subunitcolor": "white"
                    },
                    "hoverlabel": {
                      "align": "left"
                    },
                    "hovermode": "closest",
                    "mapbox": {
                      "style": "light"
                    },
                    "paper_bgcolor": "white",
                    "plot_bgcolor": "#E5ECF6",
                    "polar": {
                      "angularaxis": {
                        "gridcolor": "white",
                        "linecolor": "white",
                        "ticks": ""
                      },
                      "bgcolor": "#E5ECF6",
                      "radialaxis": {
                        "gridcolor": "white",
                        "linecolor": "white",
                        "ticks": ""
                      }
                    },
                    "scene": {
                      "xaxis": {
                        "backgroundcolor": "#E5ECF6",
                        "gridcolor": "white",
                        "gridwidth": 2,
                        "linecolor": "white",
                        "showbackground": true,
                        "ticks": "",
                        "zerolinecolor": "white"
                      },
                      "yaxis": {
                        "backgroundcolor": "#E5ECF6",
                        "gridcolor": "white",
                        "gridwidth": 2,
                        "linecolor": "white",
                        "showbackground": true,
                        "ticks": "",
                        "zerolinecolor": "white"
                      },
                      "zaxis": {
                        "backgroundcolor": "#E5ECF6",
                        "gridcolor": "white",
                        "gridwidth": 2,
                        "linecolor": "white",
                        "showbackground": true,
                        "ticks": "",
                        "zerolinecolor": "white"
                      }
                    },
                    "shapedefaults": {
                      "line": {
                        "color": "#2a3f5f"
                      }
                    },
                    "ternary": {
                      "aaxis": {
                        "gridcolor": "white",
                        "linecolor": "white",
                        "ticks": ""
                      },
                      "baxis": {
                        "gridcolor": "white",
                        "linecolor": "white",
                        "ticks": ""
                      },
                      "bgcolor": "#E5ECF6",
                      "caxis": {
                        "gridcolor": "white",
                        "linecolor": "white",
                        "ticks": ""
                      }
                    },
                    "title": {
                      "x": 0.05
                    },
                    "xaxis": {
                      "automargin": true,
                      "gridcolor": "white",
                      "linecolor": "white",
                      "ticks": "",
                      "title": {
                        "standoff": 15
                      },
                      "zerolinecolor": "white",
                      "zerolinewidth": 2
                    },
                    "yaxis": {
                      "automargin": true,
                      "gridcolor": "white",
                      "linecolor": "white",
                      "ticks": "",
                      "title": {
                        "standoff": 15
                      },
                      "zerolinecolor": "white",
                      "zerolinewidth": 2
                    }
                  }
                },
                "title": {
                  "text": "Espaço Vetorial PCA 3D Interativo"
                }
              }
            }
          },
          "metadata": {},
          "output_type": "display_data"
        }
      ],
      "source": [
        "# PCA para 3 componentes\n",
        "pca = PCA(n_components=3)\n",
        "pca_result = pca.fit_transform(all_vectors)\n",
        "n = len(enem_df)\n",
        "labels = [\"Enunciado\"] * n + [\"Gabarito\"] * n + [\"Distrator\"] * n\n",
        "\n",
        "# Armazenando os resultados do PCA em um DataFrame\n",
        "df_pca = pd.DataFrame(data=pca_result, columns=[\"PC1\", \"PC2\", \"PC3\"])\n",
        "df_pca[\"Categoria\"] = labels\n",
        "\n",
        "# Criando o gráfico 3D interativo com Plotly\n",
        "fig = px.scatter_3d(\n",
        "    df_pca,\n",
        "    x=\"PC1\",\n",
        "    y=\"PC2\",\n",
        "    z=\"PC3\",\n",
        "    color=\"Categoria\",\n",
        "    title=\"Espaço Vetorial PCA 3D Interativo\",\n",
        "    color_discrete_map={\n",
        "        \"Enunciado\": \"blue\",\n",
        "        \"Gabarito\": \"green\",\n",
        "        \"Distrator\": \"red\",\n",
        "    },\n",
        "    hover_name=\"Categoria\",\n",
        ")\n",
        "\n",
        "fig.update_layout(margin=dict(l=0, r=0, b=0, t=40))  # Remove margens excessivas\n",
        "fig.update_traces(marker=dict(size=3, opacity=0.7))  # Diminui o tamanho dos pontos\n",
        "\n",
        "fig.show()"
      ]
    },
    {
      "cell_type": "code",
      "execution_count": null,
      "metadata": {},
      "outputs": [
        {
          "name": "stdout",
          "output_type": "stream",
          "text": [
            "\n",
            "Variância Total Explicada: 15.09%\n"
          ]
        },
        {
          "data": {
            "image/png": "[encoded data removed]",
            "text/plain": [
              "<Figure size 800x600 with 1 Axes>"
            ]
          },
          "metadata": {},
          "output_type": "display_data"
        }
      ],
      "source": [
        "# Analisando variância explicada pelos componentes principais\n",
        "explained_variance = pca.explained_variance_ratio_\n",
        "\n",
        "# Total explicada pelos 3 componentes\n",
        "print(f\"\\nVariância Total Explicada: {sum(explained_variance) * 100:.2f}%\")\n",
        "\n",
        "component_labels = [f\"Componente {i+1}\" for i in range(len(explained_variance))]\n",
        "plt.figure(figsize=(8, 6))\n",
        "bars = plt.bar(\n",
        "    component_labels, explained_variance * 100, color=[\"#1f77b4\", \"#ff7f0e\", \"#2ca02c\"]\n",
        ")\n",
        "\n",
        "# Adiciona os valores em cima das barras\n",
        "for bar in bars:\n",
        "    yval = bar.get_height()\n",
        "    plt.text(\n",
        "        bar.get_x() + bar.get_width() / 2.0,\n",
        "        yval,\n",
        "        f\"{yval:.2f}%\",\n",
        "        va=\"bottom\",\n",
        "        ha=\"center\",\n",
        "    )  # centralizado\n",
        "\n",
        "plt.ylabel(\"Porcentagem de Variância Explicada (%)\")\n",
        "plt.title(\"Importância de Cada Componente Principal\")\n",
        "plt.ylim(0, max(explained_variance * 100) * 1.15)\n",
        "plt.show()"
      ]
    },
    {
      "cell_type": "markdown",
      "metadata": {},
      "source": [
        "### 4.4.2. t-SNE\n"
      ]
    },
    {
      "cell_type": "code",
      "execution_count": 10,
      "metadata": {},
      "outputs": [
        {
          "data": {
            "image/png": "[encoded data removed]",
            "text/plain": [
              "<Figure size 1200x1000 with 1 Axes>"
            ]
          },
          "metadata": {},
          "output_type": "display_data"
        }
      ],
      "source": [
        "# Aplicando t-SNE para redução de dimensionalidade\n",
        "tsne = TSNE(n_components=2, perplexity=30, random_state=42, max_iter=300)\n",
        "tsne_results = tsne.fit_transform(all_vectors)\n",
        "n = len(enem_df)\n",
        "\n",
        "plt.figure(figsize=(12, 10))\n",
        "\n",
        "# Plotando Enunciados\n",
        "plt.scatter(\n",
        "    tsne_results[:n, 0], tsne_results[:n, 1], c=\"blue\", label=\"Enunciado\", alpha=0.6\n",
        ")\n",
        "\n",
        "# Plotando Gabaritos\n",
        "plt.scatter(\n",
        "    tsne_results[n : 2 * n, 0],\n",
        "    tsne_results[n : 2 * n, 1],\n",
        "    c=\"green\",\n",
        "    label=\"Gabarito\",\n",
        "    alpha=0.6,\n",
        ")\n",
        "\n",
        "# Plotando Distratores\n",
        "plt.scatter(\n",
        "    tsne_results[2 * n :, 0],\n",
        "    tsne_results[2 * n :, 1],\n",
        "    c=\"red\",\n",
        "    label=\"Distratores\",\n",
        "    alpha=0.6,\n",
        ")\n",
        "\n",
        "plt.title(\"Visualização do Espaço Vetorial com t-SNE (2D)\")\n",
        "plt.xlabel(\"Dimensão t-SNE 1\")\n",
        "plt.ylabel(\"Dimensão t-SNE 2\")\n",
        "plt.legend()\n",
        "plt.grid(True)\n",
        "plt.show()"
      ]
    },
    {
      "cell_type": "code",
      "execution_count": 11,
      "metadata": {},
      "outputs": [
        {
          "name": "stdout",
          "output_type": "stream",
          "text": [
            "A Divergência KL final do t-SNE foi: 1.8304\n"
          ]
        }
      ],
      "source": [
        "# Diverrgência KL do t-SNE\n",
        "final_kl_divergence = tsne.kl_divergence_\n",
        "\n",
        "print(f\"A Divergência KL final do t-SNE foi: {final_kl_divergence:.4f}\")"
      ]
    },
    {
      "cell_type": "markdown",
      "metadata": {},
      "source": [
        "---\n",
        "\n",
        "## 4.5. Salvando Resultados\n"
      ]
    },
    {
      "cell_type": "code",
      "execution_count": 36,
      "metadata": {},
      "outputs": [],
      "source": [
        "enem_df.to_pickle(\"../data/final/enem_data_embeddings.pkl\")"
      ]
    },
    {
      "cell_type": "code",
      "execution_count": 37,
      "metadata": {},
      "outputs": [
        {
          "data": {
            "text/html": [
              "<div>\n",
              "<style scoped>\n",
              "    .dataframe tbody tr th:only-of-type {\n",
              "        vertical-align: middle;\n",
              "    }\n",
              "\n",
              "    .dataframe tbody tr th {\n",
              "        vertical-align: top;\n",
              "    }\n",
              "\n",
              "    .dataframe thead th {\n",
              "        text-align: right;\n",
              "    }\n",
              "</style>\n",
              "<table border=\"1\" class=\"dataframe\">\n",
              "  <thead>\n",
              "    <tr style=\"text-align: right;\">\n",
              "      <th></th>\n",
              "      <th>numero_questao</th>\n",
              "      <th>gabarito</th>\n",
              "      <th>NU_PARAM_A</th>\n",
              "      <th>nu_param_B</th>\n",
              "      <th>NU_PARAM_C</th>\n",
              "      <th>ANO</th>\n",
              "      <th>enunciado</th>\n",
              "      <th>alternativas</th>\n",
              "      <th>gabarito_texto</th>\n",
              "      <th>distratores</th>\n",
              "      <th>...</th>\n",
              "      <th>distratores_embbedings_word2vec_100</th>\n",
              "      <th>similaridade_enunciado_gabarito_100</th>\n",
              "      <th>similaridade_enunciado_distratores_100</th>\n",
              "      <th>similaridade_gabarito_distratores_100</th>\n",
              "      <th>enunciado_embbedings_word2vec_50</th>\n",
              "      <th>gabarito_embbedings_word2vec_50</th>\n",
              "      <th>distratores_embbedings_word2vec_50</th>\n",
              "      <th>similaridade_enunciado_gabarito_50</th>\n",
              "      <th>similaridade_enunciado_distratores_50</th>\n",
              "      <th>similaridade_gabarito_distratores_50</th>\n",
              "    </tr>\n",
              "  </thead>\n",
              "  <tbody>\n",
              "    <tr>\n",
              "      <th>0</th>\n",
              "      <td>1</td>\n",
              "      <td>C</td>\n",
              "      <td>3.43894</td>\n",
              "      <td>0.97831</td>\n",
              "      <td>0.10855</td>\n",
              "      <td>2017</td>\n",
              "      <td>No império africano do Mali, no século XIV, To...</td>\n",
              "      <td>A:  isolamento geográﬁco do Saara ocidental; B...</td>\n",
              "      <td>posição relativa nas redes de circulação</td>\n",
              "      <td>isolamento geográﬁco do Saara ocidental; explo...</td>\n",
              "      <td>...</td>\n",
              "      <td>[0.041403063, -0.019931864, 0.13105607, -0.080...</td>\n",
              "      <td>0.236482</td>\n",
              "      <td>0.699529</td>\n",
              "      <td>0.379381</td>\n",
              "      <td>[0.09772969, 0.013166125, -0.032748703, 0.0580...</td>\n",
              "      <td>[-0.04434625, 0.2105245, -0.18144351, 0.030336...</td>\n",
              "      <td>[0.12940213, 0.22066694, 0.0586984, 0.03139533...</td>\n",
              "      <td>0.251504</td>\n",
              "      <td>0.736054</td>\n",
              "      <td>0.426387</td>\n",
              "    </tr>\n",
              "    <tr>\n",
              "      <th>1</th>\n",
              "      <td>2</td>\n",
              "      <td>D</td>\n",
              "      <td>3.00837</td>\n",
              "      <td>0.49169</td>\n",
              "      <td>0.13877</td>\n",
              "      <td>2017</td>\n",
              "      <td>Após a Declaração Universal dos Direitos Human...</td>\n",
              "      <td>A:  ataque feito pelos japoneses à base milita...</td>\n",
              "      <td>execução de judeus e eslavos presos em guetos ...</td>\n",
              "      <td>ataque feito pelos japoneses à base militar am...</td>\n",
              "      <td>...</td>\n",
              "      <td>[-0.008315361, 0.010459961, 0.008144858, 0.036...</td>\n",
              "      <td>0.517151</td>\n",
              "      <td>0.449300</td>\n",
              "      <td>0.560128</td>\n",
              "      <td>[-0.018823402, 0.07832528, -0.016192827, 0.027...</td>\n",
              "      <td>[0.21008351, 0.5248949, 0.03625112, 0.01772637...</td>\n",
              "      <td>[0.078055575, 0.19092263, -0.0076030395, -0.03...</td>\n",
              "      <td>0.634785</td>\n",
              "      <td>0.504648</td>\n",
              "      <td>0.587013</td>\n",
              "    </tr>\n",
              "    <tr>\n",
              "      <th>2</th>\n",
              "      <td>3</td>\n",
              "      <td>D</td>\n",
              "      <td>0.60432</td>\n",
              "      <td>3.25992</td>\n",
              "      <td>0.08798</td>\n",
              "      <td>2017</td>\n",
              "      <td>A moralidade, Bentham exortava, não é uma ques...</td>\n",
              "      <td>A:  fundamentação cientíﬁca de viés positivist...</td>\n",
              "      <td>racionalidade de caráter pragmático</td>\n",
              "      <td>fundamentação cientíﬁca de viés positivista; c...</td>\n",
              "      <td>...</td>\n",
              "      <td>[0.2935421, -0.019240078, 0.0034812312, 0.0143...</td>\n",
              "      <td>0.546526</td>\n",
              "      <td>0.564335</td>\n",
              "      <td>0.681273</td>\n",
              "      <td>[-0.013062097, 0.038470805, -0.020605344, 0.05...</td>\n",
              "      <td>[0.16413634, -0.035050992, 0.08454134, 0.23227...</td>\n",
              "      <td>[0.1313074, 0.058539692, 0.0961813, 0.17813754...</td>\n",
              "      <td>0.655402</td>\n",
              "      <td>0.634760</td>\n",
              "      <td>0.763059</td>\n",
              "    </tr>\n",
              "    <tr>\n",
              "      <th>3</th>\n",
              "      <td>4</td>\n",
              "      <td>E</td>\n",
              "      <td>1.85031</td>\n",
              "      <td>0.57925</td>\n",
              "      <td>0.11344</td>\n",
              "      <td>2017</td>\n",
              "      <td>Fala-se muito nos dias de hoje em direitos do ...</td>\n",
              "      <td>A: modernização da educação escolar; B: atuali...</td>\n",
              "      <td>universalização do princípio da igualdade civil</td>\n",
              "      <td>modernização da educação escolar; atualização ...</td>\n",
              "      <td>...</td>\n",
              "      <td>[0.05247575, 0.061523248, 0.010398333, 0.12163...</td>\n",
              "      <td>0.382210</td>\n",
              "      <td>0.558623</td>\n",
              "      <td>0.591672</td>\n",
              "      <td>[-0.042833664, -0.01434522, -0.002431296, 0.01...</td>\n",
              "      <td>[0.102909006, 0.06116425, -0.13846825, 0.33034...</td>\n",
              "      <td>[0.11364358, 0.071867414, 0.046681672, 0.18046...</td>\n",
              "      <td>0.485125</td>\n",
              "      <td>0.628863</td>\n",
              "      <td>0.766145</td>\n",
              "    </tr>\n",
              "    <tr>\n",
              "      <th>4</th>\n",
              "      <td>5</td>\n",
              "      <td>C</td>\n",
              "      <td>2.46290</td>\n",
              "      <td>0.76307</td>\n",
              "      <td>0.17672</td>\n",
              "      <td>2017</td>\n",
              "      <td>Na Constituição da República Federativa do Bra...</td>\n",
              "      <td>A:  etnia e miscigenação racial; B:  sociedade...</td>\n",
              "      <td>espaço e sobrevivência cultural</td>\n",
              "      <td>etnia e miscigenação racial; sociedade e igual...</td>\n",
              "      <td>...</td>\n",
              "      <td>[0.13021359, 0.0043819174, -0.019453753, 0.061...</td>\n",
              "      <td>0.435788</td>\n",
              "      <td>0.628210</td>\n",
              "      <td>0.611719</td>\n",
              "      <td>[0.010493249, 0.11095436, 0.017243173, 0.05319...</td>\n",
              "      <td>[0.267512, -0.081234336, 0.08019033, 0.1294613...</td>\n",
              "      <td>[0.13863416, 0.16260158, -0.0043905806, 0.2472...</td>\n",
              "      <td>0.559584</td>\n",
              "      <td>0.707497</td>\n",
              "      <td>0.692311</td>\n",
              "    </tr>\n",
              "  </tbody>\n",
              "</table>\n",
              "<p>5 rows × 32 columns</p>\n",
              "</div>"
            ],
            "text/plain": [
              "   numero_questao gabarito  NU_PARAM_A  nu_param_B  NU_PARAM_C   ANO  \\\n",
              "0               1        C     3.43894     0.97831     0.10855  2017   \n",
              "1               2        D     3.00837     0.49169     0.13877  2017   \n",
              "2               3        D     0.60432     3.25992     0.08798  2017   \n",
              "3               4        E     1.85031     0.57925     0.11344  2017   \n",
              "4               5        C     2.46290     0.76307     0.17672  2017   \n",
              "\n",
              "                                           enunciado  \\\n",
              "0  No império africano do Mali, no século XIV, To...   \n",
              "1  Após a Declaração Universal dos Direitos Human...   \n",
              "2  A moralidade, Bentham exortava, não é uma ques...   \n",
              "3  Fala-se muito nos dias de hoje em direitos do ...   \n",
              "4  Na Constituição da República Federativa do Bra...   \n",
              "\n",
              "                                        alternativas  \\\n",
              "0  A:  isolamento geográﬁco do Saara ocidental; B...   \n",
              "1  A:  ataque feito pelos japoneses à base milita...   \n",
              "2  A:  fundamentação cientíﬁca de viés positivist...   \n",
              "3  A: modernização da educação escolar; B: atuali...   \n",
              "4  A:  etnia e miscigenação racial; B:  sociedade...   \n",
              "\n",
              "                                      gabarito_texto  \\\n",
              "0           posição relativa nas redes de circulação   \n",
              "1  execução de judeus e eslavos presos em guetos ...   \n",
              "2                racionalidade de caráter pragmático   \n",
              "3    universalização do princípio da igualdade civil   \n",
              "4                    espaço e sobrevivência cultural   \n",
              "\n",
              "                                         distratores  ...  \\\n",
              "0  isolamento geográﬁco do Saara ocidental; explo...  ...   \n",
              "1  ataque feito pelos japoneses à base militar am...  ...   \n",
              "2  fundamentação cientíﬁca de viés positivista; c...  ...   \n",
              "3  modernização da educação escolar; atualização ...  ...   \n",
              "4  etnia e miscigenação racial; sociedade e igual...  ...   \n",
              "\n",
              "                 distratores_embbedings_word2vec_100  \\\n",
              "0  [0.041403063, -0.019931864, 0.13105607, -0.080...   \n",
              "1  [-0.008315361, 0.010459961, 0.008144858, 0.036...   \n",
              "2  [0.2935421, -0.019240078, 0.0034812312, 0.0143...   \n",
              "3  [0.05247575, 0.061523248, 0.010398333, 0.12163...   \n",
              "4  [0.13021359, 0.0043819174, -0.019453753, 0.061...   \n",
              "\n",
              "  similaridade_enunciado_gabarito_100 similaridade_enunciado_distratores_100  \\\n",
              "0                            0.236482                               0.699529   \n",
              "1                            0.517151                               0.449300   \n",
              "2                            0.546526                               0.564335   \n",
              "3                            0.382210                               0.558623   \n",
              "4                            0.435788                               0.628210   \n",
              "\n",
              "  similaridade_gabarito_distratores_100  \\\n",
              "0                              0.379381   \n",
              "1                              0.560128   \n",
              "2                              0.681273   \n",
              "3                              0.591672   \n",
              "4                              0.611719   \n",
              "\n",
              "                    enunciado_embbedings_word2vec_50  \\\n",
              "0  [0.09772969, 0.013166125, -0.032748703, 0.0580...   \n",
              "1  [-0.018823402, 0.07832528, -0.016192827, 0.027...   \n",
              "2  [-0.013062097, 0.038470805, -0.020605344, 0.05...   \n",
              "3  [-0.042833664, -0.01434522, -0.002431296, 0.01...   \n",
              "4  [0.010493249, 0.11095436, 0.017243173, 0.05319...   \n",
              "\n",
              "                     gabarito_embbedings_word2vec_50  \\\n",
              "0  [-0.04434625, 0.2105245, -0.18144351, 0.030336...   \n",
              "1  [0.21008351, 0.5248949, 0.03625112, 0.01772637...   \n",
              "2  [0.16413634, -0.035050992, 0.08454134, 0.23227...   \n",
              "3  [0.102909006, 0.06116425, -0.13846825, 0.33034...   \n",
              "4  [0.267512, -0.081234336, 0.08019033, 0.1294613...   \n",
              "\n",
              "                  distratores_embbedings_word2vec_50  \\\n",
              "0  [0.12940213, 0.22066694, 0.0586984, 0.03139533...   \n",
              "1  [0.078055575, 0.19092263, -0.0076030395, -0.03...   \n",
              "2  [0.1313074, 0.058539692, 0.0961813, 0.17813754...   \n",
              "3  [0.11364358, 0.071867414, 0.046681672, 0.18046...   \n",
              "4  [0.13863416, 0.16260158, -0.0043905806, 0.2472...   \n",
              "\n",
              "   similaridade_enunciado_gabarito_50  similaridade_enunciado_distratores_50  \\\n",
              "0                            0.251504                               0.736054   \n",
              "1                            0.634785                               0.504648   \n",
              "2                            0.655402                               0.634760   \n",
              "3                            0.485125                               0.628863   \n",
              "4                            0.559584                               0.707497   \n",
              "\n",
              "   similaridade_gabarito_distratores_50  \n",
              "0                              0.426387  \n",
              "1                              0.587013  \n",
              "2                              0.763059  \n",
              "3                              0.766145  \n",
              "4                              0.692311  \n",
              "\n",
              "[5 rows x 32 columns]"
            ]
          },
          "execution_count": 37,
          "metadata": {},
          "output_type": "execute_result"
        }
      ],
      "source": [
        "enem_df.head()"
      ]
    },
    {
      "cell_type": "markdown",
      "metadata": {},
      "source": [
        "---\n"
      ]
    }
  ],
  "metadata": {
    "colab": {
      "provenance": [],
      "toc_visible": true
    },
    "kernelspec": {
      "display_name": "projeto-enem-YISx0mk8-py3.11",
      "language": "python",
      "name": "python3"
    },
    "language_info": {
      "codemirror_mode": {
        "name": "ipython",
        "version": 3
      },
      "file_extension": ".py",
      "mimetype": "text/x-python",
      "name": "python",
      "nbconvert_exporter": "python",
      "pygments_lexer": "ipython3",
      "version": "3.11.2"
    }
  },
  "nbformat": 4,
  "nbformat_minor": 0
}
