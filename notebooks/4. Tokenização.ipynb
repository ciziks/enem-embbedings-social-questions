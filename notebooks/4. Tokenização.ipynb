{
  "cells": [
    {
      "cell_type": "markdown",
      "metadata": {
        "id": "3Ux4AL44jC9d"
      },
      "source": [
        "# Tokenização\n",
        "Este notebook tem como objetivo aplicar vetorização e tokenização de enunciados e alternativas por meio de embeddings de palavras. O processo inclui etapas de pré-processamento textual, geração dos vetores e organização dos resultados para uso posterior em análises ou em modelos de aprendizado de máquina."
      ]
    },
    {
      "cell_type": "markdown",
      "metadata": {
        "id": "h4oHQeOIlXj0"
      },
      "source": [
        "## Apoio"
      ]
    },
    {
      "cell_type": "code",
      "execution_count": 1,
      "metadata": {
        "id": "cmpoVvMX2N1W"
      },
      "outputs": [],
      "source": [
        "# Importando bibliotecas\n",
        "import pandas as pd\n",
        "import numpy as np\n",
        "import re\n",
        "from gensim.models import KeyedVectors"
      ]
    },
    {
      "cell_type": "code",
      "execution_count": 39,
      "metadata": {
        "colab": {
          "base_uri": "https://localhost:8080/",
          "height": 363
        },
        "id": "9we4qNO88eyp",
        "outputId": "f3f55f09-6d5b-46d0-ccc2-218c27b3b573"
      },
      "outputs": [
        {
          "data": {
            "text/html": [
              "<div>\n",
              "<style scoped>\n",
              "    .dataframe tbody tr th:only-of-type {\n",
              "        vertical-align: middle;\n",
              "    }\n",
              "\n",
              "    .dataframe tbody tr th {\n",
              "        vertical-align: top;\n",
              "    }\n",
              "\n",
              "    .dataframe thead th {\n",
              "        text-align: right;\n",
              "    }\n",
              "</style>\n",
              "<table border=\"1\" class=\"dataframe\">\n",
              "  <thead>\n",
              "    <tr style=\"text-align: right;\">\n",
              "      <th></th>\n",
              "      <th>numero_questao</th>\n",
              "      <th>gabarito</th>\n",
              "      <th>NU_PARAM_A</th>\n",
              "      <th>nu_param_B</th>\n",
              "      <th>NU_PARAM_C</th>\n",
              "      <th>ANO</th>\n",
              "      <th>enunciado</th>\n",
              "      <th>alternativas</th>\n",
              "      <th>gabarito_texto</th>\n",
              "      <th>distratores</th>\n",
              "      <th>enunciado_limpo</th>\n",
              "      <th>alternativas_limpo</th>\n",
              "      <th>gabarito_texto_limpo</th>\n",
              "      <th>distratores_limpo</th>\n",
              "    </tr>\n",
              "  </thead>\n",
              "  <tbody>\n",
              "    <tr>\n",
              "      <th>0</th>\n",
              "      <td>1</td>\n",
              "      <td>C</td>\n",
              "      <td>3.43894</td>\n",
              "      <td>0.97831</td>\n",
              "      <td>0.10855</td>\n",
              "      <td>2017</td>\n",
              "      <td>No império africano do Mali, no século XIV, To...</td>\n",
              "      <td>A:  isolamento geográﬁco do Saara ocidental; B...</td>\n",
              "      <td>posição relativa nas redes de circulação</td>\n",
              "      <td>isolamento geográﬁco do Saara ocidental; explo...</td>\n",
              "      <td>africano além astronomia centro cidade comérci...</td>\n",
              "      <td>A: isolamento ocidental saara; B: exploração i...</td>\n",
              "      <td>circulação posição redes relativa</td>\n",
              "      <td>competição econômica exploração intensiva isol...</td>\n",
              "    </tr>\n",
              "    <tr>\n",
              "      <th>1</th>\n",
              "      <td>2</td>\n",
              "      <td>D</td>\n",
              "      <td>3.00837</td>\n",
              "      <td>0.49169</td>\n",
              "      <td>0.13877</td>\n",
              "      <td>2017</td>\n",
              "      <td>Após a Declaração Universal dos Direitos Human...</td>\n",
              "      <td>A:  ataque feito pelos japoneses à base milita...</td>\n",
              "      <td>execução de judeus e eslavos presos em guetos ...</td>\n",
              "      <td>ataque feito pelos japoneses à base militar am...</td>\n",
              "      <td>aberrações acontecimentos após assumida branco...</td>\n",
              "      <td>A: americana ataque base feito harbor japonese...</td>\n",
              "      <td>campos concentração eslavos execução guetos ju...</td>\n",
              "      <td>americana americanas ataque atômicas base bomb...</td>\n",
              "    </tr>\n",
              "    <tr>\n",
              "      <th>2</th>\n",
              "      <td>3</td>\n",
              "      <td>D</td>\n",
              "      <td>0.60432</td>\n",
              "      <td>3.25992</td>\n",
              "      <td>0.08798</td>\n",
              "      <td>2017</td>\n",
              "      <td>A moralidade, Bentham exortava, não é uma ques...</td>\n",
              "      <td>A:  fundamentação cientíﬁca de viés positivist...</td>\n",
              "      <td>racionalidade de caráter pragmático</td>\n",
              "      <td>fundamentação cientíﬁca de viés positivista; c...</td>\n",
              "      <td>abstratas afetados agradar ação bentham condut...</td>\n",
              "      <td>A: fundamentação positivista viés; B: convençã...</td>\n",
              "      <td>caráter pragmático racionalidade</td>\n",
              "      <td>comportamental convenção fundamentação inclina...</td>\n",
              "    </tr>\n",
              "    <tr>\n",
              "      <th>3</th>\n",
              "      <td>4</td>\n",
              "      <td>E</td>\n",
              "      <td>1.85031</td>\n",
              "      <td>0.57925</td>\n",
              "      <td>0.11344</td>\n",
              "      <td>2017</td>\n",
              "      <td>Fala-se muito nos dias de hoje em direitos do ...</td>\n",
              "      <td>A: modernização da educação escolar; B: atuali...</td>\n",
              "      <td>universalização do princípio da igualdade civil</td>\n",
              "      <td>modernização da educação escolar; atualização ...</td>\n",
              "      <td>apresenta assembleia bases bem cidadão concepç...</td>\n",
              "      <td>A: educação escolar modernização; B: atualizaç...</td>\n",
              "      <td>civil igualdade princípio universalização</td>\n",
              "      <td>aristocráticos atualização conhecimento costum...</td>\n",
              "    </tr>\n",
              "    <tr>\n",
              "      <th>4</th>\n",
              "      <td>5</td>\n",
              "      <td>C</td>\n",
              "      <td>2.46290</td>\n",
              "      <td>0.76307</td>\n",
              "      <td>0.17672</td>\n",
              "      <td>2017</td>\n",
              "      <td>Na Constituição da República Federativa do Bra...</td>\n",
              "      <td>A:  etnia e miscigenação racial; B:  sociedade...</td>\n",
              "      <td>espaço e sobrevivência cultural</td>\n",
              "      <td>etnia e miscigenação racial; sociedade e igual...</td>\n",
              "      <td>aplicação artigo bens brasil competindo consta...</td>\n",
              "      <td>A: etnia miscigenação racial; B: igualdade jur...</td>\n",
              "      <td>cultural espaço sobrevivência</td>\n",
              "      <td>ambiental bem econômica educação etnia igualda...</td>\n",
              "    </tr>\n",
              "    <tr>\n",
              "      <th>5</th>\n",
              "      <td>6</td>\n",
              "      <td>A</td>\n",
              "      <td>2.04543</td>\n",
              "      <td>0.74139</td>\n",
              "      <td>0.20814</td>\n",
              "      <td>2017</td>\n",
              "      <td>Descrição da fotografia: É retratada uma mulhe...</td>\n",
              "      <td>A: ambiguidade do trabalho doméstico exercido ...</td>\n",
              "      <td>ambiguidade do trabalho doméstico exercido pel...</td>\n",
              "      <td>integração dos escravos aos valores das classe...</td>\n",
              "      <td>adornada ama ambos apoiadas augusto branco bra...</td>\n",
              "      <td>A: ama ambiguidade desenvolvendo doméstico exe...</td>\n",
              "      <td>ama ambiguidade desenvolvendo doméstico exerci...</td>\n",
              "      <td>associando cativos centralizando classes condi...</td>\n",
              "    </tr>\n",
              "    <tr>\n",
              "      <th>6</th>\n",
              "      <td>7</td>\n",
              "      <td>D</td>\n",
              "      <td>4.02261</td>\n",
              "      <td>0.96775</td>\n",
              "      <td>0.17554</td>\n",
              "      <td>2017</td>\n",
              "      <td>A conﬁguração do espaço urbano da região do En...</td>\n",
              "      <td>A:  expansão vertical; B:  polarização naciona...</td>\n",
              "      <td>segregação socioespacial</td>\n",
              "      <td>expansão vertical; polarização nacional.; eman...</td>\n",
              "      <td>acesso acumulação aglomerado aglomerações asse...</td>\n",
              "      <td>A: expansão vertical; B: nacional polarização;...</td>\n",
              "      <td>segregação socioespacial</td>\n",
              "      <td>comercial desregulamentação emancipação expans...</td>\n",
              "    </tr>\n",
              "    <tr>\n",
              "      <th>7</th>\n",
              "      <td>8</td>\n",
              "      <td>B</td>\n",
              "      <td>1.33884</td>\n",
              "      <td>2.80117</td>\n",
              "      <td>0.16665</td>\n",
              "      <td>2017</td>\n",
              "      <td>México, Colômbia, Peru e Chile decidiram segui...</td>\n",
              "      <td>A: promover a livre circulação de trabalhadore...</td>\n",
              "      <td>fomentar a competitividade no mercado externo</td>\n",
              "      <td>promover a livre circulação de trabalhadores; ...</td>\n",
              "      <td>acordo aduaneiras aliança caminho cento chile ...</td>\n",
              "      <td>A: circulação livre promover trabalhadores; B:...</td>\n",
              "      <td>competitividade externo fomentar mercado</td>\n",
              "      <td>adotar agrícola alfandegária cambiais circulaç...</td>\n",
              "    </tr>\n",
              "    <tr>\n",
              "      <th>8</th>\n",
              "      <td>9</td>\n",
              "      <td>E</td>\n",
              "      <td>3.15884</td>\n",
              "      <td>0.92459</td>\n",
              "      <td>0.09500</td>\n",
              "      <td>2017</td>\n",
              "      <td>Descrição da tabela: Indica a tipologia de áre...</td>\n",
              "      <td>A:  erosão laminar; B:  intemperismo físico; C...</td>\n",
              "      <td>recarga dos aquíferos</td>\n",
              "      <td>erosão laminar; intemperismo físico; enchente ...</td>\n",
              "      <td>agrícola apresentando bacias cento chuva cober...</td>\n",
              "      <td>A: erosão laminar; B: físico intemperismo; C: ...</td>\n",
              "      <td>aquíferos recarga</td>\n",
              "      <td>cidades compactação enchente erosão físico int...</td>\n",
              "    </tr>\n",
              "    <tr>\n",
              "      <th>9</th>\n",
              "      <td>10</td>\n",
              "      <td>A</td>\n",
              "      <td>0.67598</td>\n",
              "      <td>0.55190</td>\n",
              "      <td>0.00798</td>\n",
              "      <td>2017</td>\n",
              "      <td>O desgaste acelerado sempre existirá se o agri...</td>\n",
              "      <td>A:  Elevação da acidez; B:  Ampliação da salin...</td>\n",
              "      <td>Elevação da acidez</td>\n",
              "      <td>Ampliação da salinidade; Formação de voçorocas...</td>\n",
              "      <td>acelerado agricultor agricultável alumínio amb...</td>\n",
              "      <td>A: acidez elevação; B: ampliação salinidade; C...</td>\n",
              "      <td>acidez elevação</td>\n",
              "      <td>ampliação camada escoamento formação remoção s...</td>\n",
              "    </tr>\n",
              "  </tbody>\n",
              "</table>\n",
              "</div>"
            ],
            "text/plain": [
              "   numero_questao gabarito  NU_PARAM_A  nu_param_B  NU_PARAM_C   ANO  \\\n",
              "0               1        C     3.43894     0.97831     0.10855  2017   \n",
              "1               2        D     3.00837     0.49169     0.13877  2017   \n",
              "2               3        D     0.60432     3.25992     0.08798  2017   \n",
              "3               4        E     1.85031     0.57925     0.11344  2017   \n",
              "4               5        C     2.46290     0.76307     0.17672  2017   \n",
              "5               6        A     2.04543     0.74139     0.20814  2017   \n",
              "6               7        D     4.02261     0.96775     0.17554  2017   \n",
              "7               8        B     1.33884     2.80117     0.16665  2017   \n",
              "8               9        E     3.15884     0.92459     0.09500  2017   \n",
              "9              10        A     0.67598     0.55190     0.00798  2017   \n",
              "\n",
              "                                           enunciado  \\\n",
              "0  No império africano do Mali, no século XIV, To...   \n",
              "1  Após a Declaração Universal dos Direitos Human...   \n",
              "2  A moralidade, Bentham exortava, não é uma ques...   \n",
              "3  Fala-se muito nos dias de hoje em direitos do ...   \n",
              "4  Na Constituição da República Federativa do Bra...   \n",
              "5  Descrição da fotografia: É retratada uma mulhe...   \n",
              "6  A conﬁguração do espaço urbano da região do En...   \n",
              "7  México, Colômbia, Peru e Chile decidiram segui...   \n",
              "8  Descrição da tabela: Indica a tipologia de áre...   \n",
              "9  O desgaste acelerado sempre existirá se o agri...   \n",
              "\n",
              "                                        alternativas  \\\n",
              "0  A:  isolamento geográﬁco do Saara ocidental; B...   \n",
              "1  A:  ataque feito pelos japoneses à base milita...   \n",
              "2  A:  fundamentação cientíﬁca de viés positivist...   \n",
              "3  A: modernização da educação escolar; B: atuali...   \n",
              "4  A:  etnia e miscigenação racial; B:  sociedade...   \n",
              "5  A: ambiguidade do trabalho doméstico exercido ...   \n",
              "6  A:  expansão vertical; B:  polarização naciona...   \n",
              "7  A: promover a livre circulação de trabalhadore...   \n",
              "8  A:  erosão laminar; B:  intemperismo físico; C...   \n",
              "9  A:  Elevação da acidez; B:  Ampliação da salin...   \n",
              "\n",
              "                                      gabarito_texto  \\\n",
              "0           posição relativa nas redes de circulação   \n",
              "1  execução de judeus e eslavos presos em guetos ...   \n",
              "2                racionalidade de caráter pragmático   \n",
              "3    universalização do princípio da igualdade civil   \n",
              "4                    espaço e sobrevivência cultural   \n",
              "5  ambiguidade do trabalho doméstico exercido pel...   \n",
              "6                           segregação socioespacial   \n",
              "7      fomentar a competitividade no mercado externo   \n",
              "8                              recarga dos aquíferos   \n",
              "9                                 Elevação da acidez   \n",
              "\n",
              "                                         distratores  \\\n",
              "0  isolamento geográﬁco do Saara ocidental; explo...   \n",
              "1  ataque feito pelos japoneses à base militar am...   \n",
              "2  fundamentação cientíﬁca de viés positivista; c...   \n",
              "3  modernização da educação escolar; atualização ...   \n",
              "4  etnia e miscigenação racial; sociedade e igual...   \n",
              "5  integração dos escravos aos valores das classe...   \n",
              "6  expansão vertical; polarização nacional.; eman...   \n",
              "7  promover a livre circulação de trabalhadores; ...   \n",
              "8  erosão laminar; intemperismo físico; enchente ...   \n",
              "9  Ampliação da salinidade; Formação de voçorocas...   \n",
              "\n",
              "                                     enunciado_limpo  \\\n",
              "0  africano além astronomia centro cidade comérci...   \n",
              "1  aberrações acontecimentos após assumida branco...   \n",
              "2  abstratas afetados agradar ação bentham condut...   \n",
              "3  apresenta assembleia bases bem cidadão concepç...   \n",
              "4  aplicação artigo bens brasil competindo consta...   \n",
              "5  adornada ama ambos apoiadas augusto branco bra...   \n",
              "6  acesso acumulação aglomerado aglomerações asse...   \n",
              "7  acordo aduaneiras aliança caminho cento chile ...   \n",
              "8  agrícola apresentando bacias cento chuva cober...   \n",
              "9  acelerado agricultor agricultável alumínio amb...   \n",
              "\n",
              "                                  alternativas_limpo  \\\n",
              "0  A: isolamento ocidental saara; B: exploração i...   \n",
              "1  A: americana ataque base feito harbor japonese...   \n",
              "2  A: fundamentação positivista viés; B: convençã...   \n",
              "3  A: educação escolar modernização; B: atualizaç...   \n",
              "4  A: etnia miscigenação racial; B: igualdade jur...   \n",
              "5  A: ama ambiguidade desenvolvendo doméstico exe...   \n",
              "6  A: expansão vertical; B: nacional polarização;...   \n",
              "7  A: circulação livre promover trabalhadores; B:...   \n",
              "8  A: erosão laminar; B: físico intemperismo; C: ...   \n",
              "9  A: acidez elevação; B: ampliação salinidade; C...   \n",
              "\n",
              "                                gabarito_texto_limpo  \\\n",
              "0                  circulação posição redes relativa   \n",
              "1  campos concentração eslavos execução guetos ju...   \n",
              "2                   caráter pragmático racionalidade   \n",
              "3          civil igualdade princípio universalização   \n",
              "4                      cultural espaço sobrevivência   \n",
              "5  ama ambiguidade desenvolvendo doméstico exerci...   \n",
              "6                           segregação socioespacial   \n",
              "7           competitividade externo fomentar mercado   \n",
              "8                                  aquíferos recarga   \n",
              "9                                    acidez elevação   \n",
              "\n",
              "                                   distratores_limpo  \n",
              "0  competição econômica exploração intensiva isol...  \n",
              "1  americana americanas ataque atômicas base bomb...  \n",
              "2  comportamental convenção fundamentação inclina...  \n",
              "3  aristocráticos atualização conhecimento costum...  \n",
              "4  ambiental bem econômica educação etnia igualda...  \n",
              "5  associando cativos centralizando classes condi...  \n",
              "6  comercial desregulamentação emancipação expans...  \n",
              "7  adotar agrícola alfandegária cambiais circulaç...  \n",
              "8  cidades compactação enchente erosão físico int...  \n",
              "9  ampliação camada escoamento formação remoção s...  "
            ]
          },
          "execution_count": 39,
          "metadata": {},
          "output_type": "execute_result"
        }
      ],
      "source": [
        "# Leitura do dataset\n",
        "df_enem = pd.read_csv('../data/cleaned_data.csv')\n",
        "df_enem.head(10)"
      ]
    },
    {
      "cell_type": "markdown",
      "metadata": {
        "id": "0uoNCYkEjFRg"
      },
      "source": [
        "## Word Embedding com Word2Vec"
      ]
    },
    {
      "cell_type": "code",
      "execution_count": 38,
      "metadata": {
        "id": "D4k4Mj1UeW5p"
      },
      "outputs": [],
      "source": [
        "# Carregando o modelo de embedding com 300 dimensões\n",
        "model_300 = KeyedVectors.load_word2vec_format(\"/home/alesouza/USP/9_semestre/pcd-iii/projeto_enem/cbow_s300.txt\")"
      ]
    },
    {
      "cell_type": "code",
      "execution_count": 37,
      "metadata": {},
      "outputs": [],
      "source": [
        "# Carregando o modelo de embedding com 50 dimensões\n",
        "model_50 = KeyedVectors.load_word2vec_format(\"/home/alesouza/USP/9_semestre/pcd-iii/projeto_enem/cbow_s50.txt\")"
      ]
    },
    {
      "cell_type": "code",
      "execution_count": 61,
      "metadata": {},
      "outputs": [],
      "source": [
        "# Carregando o modelo de embedding com 100 dimensões\n",
        "model_100 = KeyedVectors.load_word2vec_format(\"/home/alesouza/USP/9_semestre/pcd-iii/projeto_enem/cbow_s100.txt\")"
      ]
    },
    {
      "cell_type": "code",
      "execution_count": 62,
      "metadata": {
        "id": "szRAz66WfsOS"
      },
      "outputs": [],
      "source": [
        "# Dicionário auxiliar que armazena palavras já encontradas\n",
        "vetor_cache = {}\n",
        "\n",
        "# Função auxiliar que irá retornar os vetores de palavras\n",
        "def generate_word2vec_embeddings(data, model):\n",
        "  not_found_words = set()\n",
        "  embeddings = []\n",
        "\n",
        "  for item in data:\n",
        "    word_vectors = []\n",
        "    words = re.sub(r'[^\\w\\s]', '', item.lower()).split()\n",
        "\n",
        "    for word in words:\n",
        "      try:\n",
        "        if word in vetor_cache:\n",
        "          word_vectors.append(vetor_cache[word])\n",
        "        else:\n",
        "          vetor_cache[word] = model[word]\n",
        "          word_vectors.append(model[word])\n",
        "      except KeyError:\n",
        "        not_found_words.add(word)\n",
        "\n",
        "    if word_vectors:\n",
        "          # Calcula a média dos vetores\n",
        "          mean_vector = np.mean(word_vectors, axis=0)\n",
        "          embeddings.append(mean_vector)\n",
        "    else:\n",
        "          # Se não encontrou nenhuma palavra, adiciona um vetor nulo\n",
        "          embeddings.append(np.zeros(model.vector_size))\n",
        "\n",
        "  return embeddings, not_found_words\n"
      ]
    },
    {
      "cell_type": "markdown",
      "metadata": {
        "id": "uarQXPirjMSb"
      },
      "source": [
        "### Vetorização dos enunciados"
      ]
    },
    {
      "cell_type": "markdown",
      "metadata": {},
      "source": [
        "#### 300 dimensões"
      ]
    },
    {
      "cell_type": "code",
      "execution_count": 40,
      "metadata": {},
      "outputs": [],
      "source": [
        "df_enem_300 = df_enem.copy()"
      ]
    },
    {
      "cell_type": "code",
      "execution_count": 41,
      "metadata": {
        "id": "Uirpws5shiSe"
      },
      "outputs": [],
      "source": [
        "df_enem_300[\"enunciado_embeddings_word2vec\"], not_found_words_enunciado = (\n",
        "    generate_word2vec_embeddings(df_enem_300[\"enunciado_limpo\"], model_300)\n",
        ")"
      ]
    },
    {
      "cell_type": "code",
      "execution_count": 42,
      "metadata": {
        "colab": {
          "base_uri": "https://localhost:8080/"
        },
        "id": "soMajBI1jTv3",
        "outputId": "f9e65e4e-0ba8-41f4-b9d4-135d6010bfce"
      },
      "outputs": [
        {
          "data": {
            "text/plain": [
              "191"
            ]
          },
          "execution_count": 42,
          "metadata": {},
          "output_type": "execute_result"
        }
      ],
      "source": [
        "len(not_found_words_enunciado)"
      ]
    },
    {
      "cell_type": "markdown",
      "metadata": {},
      "source": [
        "#### 50 dimensões"
      ]
    },
    {
      "cell_type": "code",
      "execution_count": 43,
      "metadata": {},
      "outputs": [],
      "source": [
        "df_enem_50 = df_enem.copy()"
      ]
    },
    {
      "cell_type": "code",
      "execution_count": 47,
      "metadata": {},
      "outputs": [],
      "source": [
        "df_enem_50[\"enunciado_embeddings_word2vec\"], not_found_words_enunciado = (\n",
        "    generate_word2vec_embeddings(df_enem_50[\"enunciado_limpo\"], model_50)\n",
        ")"
      ]
    },
    {
      "cell_type": "code",
      "execution_count": 48,
      "metadata": {},
      "outputs": [
        {
          "data": {
            "text/plain": [
              "191"
            ]
          },
          "execution_count": 48,
          "metadata": {},
          "output_type": "execute_result"
        }
      ],
      "source": [
        "len(not_found_words_enunciado)"
      ]
    },
    {
      "cell_type": "markdown",
      "metadata": {},
      "source": [
        "#### 100 dimensões"
      ]
    },
    {
      "cell_type": "code",
      "execution_count": 63,
      "metadata": {},
      "outputs": [],
      "source": [
        "df_enem_100 = df_enem.copy()"
      ]
    },
    {
      "cell_type": "code",
      "execution_count": 64,
      "metadata": {},
      "outputs": [],
      "source": [
        "df_enem_100[\"enunciado_embeddings_word2vec\"], not_found_words_enunciado = (\n",
        "    generate_word2vec_embeddings(df_enem_100[\"enunciado_limpo\"], model_100)\n",
        ")"
      ]
    },
    {
      "cell_type": "code",
      "execution_count": 65,
      "metadata": {},
      "outputs": [
        {
          "data": {
            "text/plain": [
              "191"
            ]
          },
          "execution_count": 65,
          "metadata": {},
          "output_type": "execute_result"
        }
      ],
      "source": [
        "len(not_found_words_enunciado)"
      ]
    },
    {
      "cell_type": "markdown",
      "metadata": {
        "id": "8wWIVmMfjYeD"
      },
      "source": [
        "### Vetorização das alternativas corretas"
      ]
    },
    {
      "cell_type": "markdown",
      "metadata": {},
      "source": [
        "#### 300 dimensões"
      ]
    },
    {
      "cell_type": "code",
      "execution_count": 53,
      "metadata": {
        "id": "XtvBvRt_9Ruo"
      },
      "outputs": [],
      "source": [
        "df_enem_300[\"gabarito_embeddings_word2vec\"], not_found_words_gabarito = (\n",
        "    generate_word2vec_embeddings(df_enem_300[\"gabarito_texto_limpo\"].astype(str), model_300)\n",
        ")"
      ]
    },
    {
      "cell_type": "code",
      "execution_count": 54,
      "metadata": {
        "colab": {
          "base_uri": "https://localhost:8080/"
        },
        "id": "joV4IfaJ9U6y",
        "outputId": "1ddb1f67-b9a2-49b8-85e3-8e23c499e479"
      },
      "outputs": [
        {
          "data": {
            "text/plain": [
              "5"
            ]
          },
          "execution_count": 54,
          "metadata": {},
          "output_type": "execute_result"
        }
      ],
      "source": [
        "len(not_found_words_gabarito)"
      ]
    },
    {
      "cell_type": "code",
      "execution_count": 55,
      "metadata": {},
      "outputs": [
        {
          "data": {
            "text/plain": [
              "{'biopolíticos',\n",
              " 'conduzireis',\n",
              " 'extrapeninsulares',\n",
              " 'multiescalares',\n",
              " 'socioafetivos'}"
            ]
          },
          "execution_count": 55,
          "metadata": {},
          "output_type": "execute_result"
        }
      ],
      "source": [
        "not_found_words_gabarito"
      ]
    },
    {
      "cell_type": "markdown",
      "metadata": {},
      "source": [
        "#### 50 dimensões"
      ]
    },
    {
      "cell_type": "code",
      "execution_count": 49,
      "metadata": {},
      "outputs": [],
      "source": [
        "df_enem_50[\"gabarito_embeddings_word2vec\"], not_found_words_gabarito = (\n",
        "    generate_word2vec_embeddings(df_enem_50[\"gabarito_texto_limpo\"].astype(str), model_50)\n",
        ")"
      ]
    },
    {
      "cell_type": "code",
      "execution_count": 50,
      "metadata": {},
      "outputs": [
        {
          "data": {
            "text/plain": [
              "5"
            ]
          },
          "execution_count": 50,
          "metadata": {},
          "output_type": "execute_result"
        }
      ],
      "source": [
        "len(not_found_words_gabarito)"
      ]
    },
    {
      "cell_type": "code",
      "execution_count": 51,
      "metadata": {},
      "outputs": [
        {
          "data": {
            "text/plain": [
              "{'biopolíticos',\n",
              " 'conduzireis',\n",
              " 'extrapeninsulares',\n",
              " 'multiescalares',\n",
              " 'socioafetivos'}"
            ]
          },
          "execution_count": 51,
          "metadata": {},
          "output_type": "execute_result"
        }
      ],
      "source": [
        "not_found_words_gabarito"
      ]
    },
    {
      "cell_type": "markdown",
      "metadata": {},
      "source": [
        "#### 100 dimensões"
      ]
    },
    {
      "cell_type": "code",
      "execution_count": 66,
      "metadata": {},
      "outputs": [],
      "source": [
        "df_enem_100[\"gabarito_embeddings_word2vec\"], not_found_words_gabarito = (\n",
        "    generate_word2vec_embeddings(df_enem_100[\"gabarito_texto_limpo\"].astype(str), model_100)\n",
        ")"
      ]
    },
    {
      "cell_type": "code",
      "execution_count": 67,
      "metadata": {},
      "outputs": [
        {
          "data": {
            "text/plain": [
              "5"
            ]
          },
          "execution_count": 67,
          "metadata": {},
          "output_type": "execute_result"
        }
      ],
      "source": [
        "len(not_found_words_gabarito)"
      ]
    },
    {
      "cell_type": "code",
      "execution_count": 56,
      "metadata": {
        "colab": {
          "base_uri": "https://localhost:8080/",
          "height": 1000
        },
        "id": "OWG2gQUTmL7P",
        "outputId": "654225ca-aa03-4b1d-ba00-0cb0942021e4"
      },
      "outputs": [
        {
          "data": {
            "text/html": [
              "<div>\n",
              "<style scoped>\n",
              "    .dataframe tbody tr th:only-of-type {\n",
              "        vertical-align: middle;\n",
              "    }\n",
              "\n",
              "    .dataframe tbody tr th {\n",
              "        vertical-align: top;\n",
              "    }\n",
              "\n",
              "    .dataframe thead th {\n",
              "        text-align: right;\n",
              "    }\n",
              "</style>\n",
              "<table border=\"1\" class=\"dataframe\">\n",
              "  <thead>\n",
              "    <tr style=\"text-align: right;\">\n",
              "      <th></th>\n",
              "      <th>numero_questao</th>\n",
              "      <th>gabarito</th>\n",
              "      <th>NU_PARAM_A</th>\n",
              "      <th>nu_param_B</th>\n",
              "      <th>NU_PARAM_C</th>\n",
              "      <th>ANO</th>\n",
              "      <th>enunciado</th>\n",
              "      <th>alternativas</th>\n",
              "      <th>gabarito_texto</th>\n",
              "      <th>distratores</th>\n",
              "      <th>enunciado_limpo</th>\n",
              "      <th>alternativas_limpo</th>\n",
              "      <th>gabarito_texto_limpo</th>\n",
              "      <th>distratores_limpo</th>\n",
              "      <th>enunciado_embeddings_word2vec</th>\n",
              "      <th>gabarito_embeddings_word2vec</th>\n",
              "    </tr>\n",
              "  </thead>\n",
              "  <tbody>\n",
              "    <tr>\n",
              "      <th>0</th>\n",
              "      <td>1</td>\n",
              "      <td>C</td>\n",
              "      <td>3.43894</td>\n",
              "      <td>0.97831</td>\n",
              "      <td>0.10855</td>\n",
              "      <td>2017</td>\n",
              "      <td>No império africano do Mali, no século XIV, To...</td>\n",
              "      <td>A:  isolamento geográﬁco do Saara ocidental; B...</td>\n",
              "      <td>posição relativa nas redes de circulação</td>\n",
              "      <td>isolamento geográﬁco do Saara ocidental; explo...</td>\n",
              "      <td>africano além astronomia centro cidade comérci...</td>\n",
              "      <td>A: isolamento ocidental saara; B: exploração i...</td>\n",
              "      <td>circulação posição redes relativa</td>\n",
              "      <td>competição econômica exploração intensiva isol...</td>\n",
              "      <td>[-0.017395772, -0.004402813, -0.046908338, 0.0...</td>\n",
              "      <td>[-0.16301225, -0.142375, 0.012171499, -0.00457...</td>\n",
              "    </tr>\n",
              "    <tr>\n",
              "      <th>1</th>\n",
              "      <td>2</td>\n",
              "      <td>D</td>\n",
              "      <td>3.00837</td>\n",
              "      <td>0.49169</td>\n",
              "      <td>0.13877</td>\n",
              "      <td>2017</td>\n",
              "      <td>Após a Declaração Universal dos Direitos Human...</td>\n",
              "      <td>A:  ataque feito pelos japoneses à base milita...</td>\n",
              "      <td>execução de judeus e eslavos presos em guetos ...</td>\n",
              "      <td>ataque feito pelos japoneses à base militar am...</td>\n",
              "      <td>aberrações acontecimentos após assumida branco...</td>\n",
              "      <td>A: americana ataque base feito harbor japonese...</td>\n",
              "      <td>campos concentração eslavos execução guetos ju...</td>\n",
              "      <td>americana americanas ataque atômicas base bomb...</td>\n",
              "      <td>[-0.051949076, 0.03128451, -0.072241075, 0.028...</td>\n",
              "      <td>[-0.18672037, 0.04755275, -0.17406088, -0.0398...</td>\n",
              "    </tr>\n",
              "    <tr>\n",
              "      <th>2</th>\n",
              "      <td>3</td>\n",
              "      <td>D</td>\n",
              "      <td>0.60432</td>\n",
              "      <td>3.25992</td>\n",
              "      <td>0.08798</td>\n",
              "      <td>2017</td>\n",
              "      <td>A moralidade, Bentham exortava, não é uma ques...</td>\n",
              "      <td>A:  fundamentação cientíﬁca de viés positivist...</td>\n",
              "      <td>racionalidade de caráter pragmático</td>\n",
              "      <td>fundamentação cientíﬁca de viés positivista; c...</td>\n",
              "      <td>abstratas afetados agradar ação bentham condut...</td>\n",
              "      <td>A: fundamentação positivista viés; B: convençã...</td>\n",
              "      <td>caráter pragmático racionalidade</td>\n",
              "      <td>comportamental convenção fundamentação inclina...</td>\n",
              "      <td>[0.026049094, 0.043251127, -0.029757027, -0.00...</td>\n",
              "      <td>[0.011740998, 0.07592634, -0.016144669, 0.1384...</td>\n",
              "    </tr>\n",
              "    <tr>\n",
              "      <th>3</th>\n",
              "      <td>4</td>\n",
              "      <td>E</td>\n",
              "      <td>1.85031</td>\n",
              "      <td>0.57925</td>\n",
              "      <td>0.11344</td>\n",
              "      <td>2017</td>\n",
              "      <td>Fala-se muito nos dias de hoje em direitos do ...</td>\n",
              "      <td>A: modernização da educação escolar; B: atuali...</td>\n",
              "      <td>universalização do princípio da igualdade civil</td>\n",
              "      <td>modernização da educação escolar; atualização ...</td>\n",
              "      <td>apresenta assembleia bases bem cidadão concepç...</td>\n",
              "      <td>A: educação escolar modernização; B: atualizaç...</td>\n",
              "      <td>civil igualdade princípio universalização</td>\n",
              "      <td>aristocráticos atualização conhecimento costum...</td>\n",
              "      <td>[-0.005251272, 0.039871164, -0.018038195, 0.06...</td>\n",
              "      <td>[-0.073669255, 0.12609875, 0.063628, 0.1261957...</td>\n",
              "    </tr>\n",
              "    <tr>\n",
              "      <th>4</th>\n",
              "      <td>5</td>\n",
              "      <td>C</td>\n",
              "      <td>2.46290</td>\n",
              "      <td>0.76307</td>\n",
              "      <td>0.17672</td>\n",
              "      <td>2017</td>\n",
              "      <td>Na Constituição da República Federativa do Bra...</td>\n",
              "      <td>A:  etnia e miscigenação racial; B:  sociedade...</td>\n",
              "      <td>espaço e sobrevivência cultural</td>\n",
              "      <td>etnia e miscigenação racial; sociedade e igual...</td>\n",
              "      <td>aplicação artigo bens brasil competindo consta...</td>\n",
              "      <td>A: etnia miscigenação racial; B: igualdade jur...</td>\n",
              "      <td>cultural espaço sobrevivência</td>\n",
              "      <td>ambiental bem econômica educação etnia igualda...</td>\n",
              "      <td>[0.01738678, 0.0033733728, -0.027247325, 0.002...</td>\n",
              "      <td>[0.11709199, -0.16062833, 0.082869664, -0.1195...</td>\n",
              "    </tr>\n",
              "  </tbody>\n",
              "</table>\n",
              "</div>"
            ],
            "text/plain": [
              "   numero_questao gabarito  NU_PARAM_A  nu_param_B  NU_PARAM_C   ANO  \\\n",
              "0               1        C     3.43894     0.97831     0.10855  2017   \n",
              "1               2        D     3.00837     0.49169     0.13877  2017   \n",
              "2               3        D     0.60432     3.25992     0.08798  2017   \n",
              "3               4        E     1.85031     0.57925     0.11344  2017   \n",
              "4               5        C     2.46290     0.76307     0.17672  2017   \n",
              "\n",
              "                                           enunciado  \\\n",
              "0  No império africano do Mali, no século XIV, To...   \n",
              "1  Após a Declaração Universal dos Direitos Human...   \n",
              "2  A moralidade, Bentham exortava, não é uma ques...   \n",
              "3  Fala-se muito nos dias de hoje em direitos do ...   \n",
              "4  Na Constituição da República Federativa do Bra...   \n",
              "\n",
              "                                        alternativas  \\\n",
              "0  A:  isolamento geográﬁco do Saara ocidental; B...   \n",
              "1  A:  ataque feito pelos japoneses à base milita...   \n",
              "2  A:  fundamentação cientíﬁca de viés positivist...   \n",
              "3  A: modernização da educação escolar; B: atuali...   \n",
              "4  A:  etnia e miscigenação racial; B:  sociedade...   \n",
              "\n",
              "                                      gabarito_texto  \\\n",
              "0           posição relativa nas redes de circulação   \n",
              "1  execução de judeus e eslavos presos em guetos ...   \n",
              "2                racionalidade de caráter pragmático   \n",
              "3    universalização do princípio da igualdade civil   \n",
              "4                    espaço e sobrevivência cultural   \n",
              "\n",
              "                                         distratores  \\\n",
              "0  isolamento geográﬁco do Saara ocidental; explo...   \n",
              "1  ataque feito pelos japoneses à base militar am...   \n",
              "2  fundamentação cientíﬁca de viés positivista; c...   \n",
              "3  modernização da educação escolar; atualização ...   \n",
              "4  etnia e miscigenação racial; sociedade e igual...   \n",
              "\n",
              "                                     enunciado_limpo  \\\n",
              "0  africano além astronomia centro cidade comérci...   \n",
              "1  aberrações acontecimentos após assumida branco...   \n",
              "2  abstratas afetados agradar ação bentham condut...   \n",
              "3  apresenta assembleia bases bem cidadão concepç...   \n",
              "4  aplicação artigo bens brasil competindo consta...   \n",
              "\n",
              "                                  alternativas_limpo  \\\n",
              "0  A: isolamento ocidental saara; B: exploração i...   \n",
              "1  A: americana ataque base feito harbor japonese...   \n",
              "2  A: fundamentação positivista viés; B: convençã...   \n",
              "3  A: educação escolar modernização; B: atualizaç...   \n",
              "4  A: etnia miscigenação racial; B: igualdade jur...   \n",
              "\n",
              "                                gabarito_texto_limpo  \\\n",
              "0                  circulação posição redes relativa   \n",
              "1  campos concentração eslavos execução guetos ju...   \n",
              "2                   caráter pragmático racionalidade   \n",
              "3          civil igualdade princípio universalização   \n",
              "4                      cultural espaço sobrevivência   \n",
              "\n",
              "                                   distratores_limpo  \\\n",
              "0  competição econômica exploração intensiva isol...   \n",
              "1  americana americanas ataque atômicas base bomb...   \n",
              "2  comportamental convenção fundamentação inclina...   \n",
              "3  aristocráticos atualização conhecimento costum...   \n",
              "4  ambiental bem econômica educação etnia igualda...   \n",
              "\n",
              "                       enunciado_embeddings_word2vec  \\\n",
              "0  [-0.017395772, -0.004402813, -0.046908338, 0.0...   \n",
              "1  [-0.051949076, 0.03128451, -0.072241075, 0.028...   \n",
              "2  [0.026049094, 0.043251127, -0.029757027, -0.00...   \n",
              "3  [-0.005251272, 0.039871164, -0.018038195, 0.06...   \n",
              "4  [0.01738678, 0.0033733728, -0.027247325, 0.002...   \n",
              "\n",
              "                        gabarito_embeddings_word2vec  \n",
              "0  [-0.16301225, -0.142375, 0.012171499, -0.00457...  \n",
              "1  [-0.18672037, 0.04755275, -0.17406088, -0.0398...  \n",
              "2  [0.011740998, 0.07592634, -0.016144669, 0.1384...  \n",
              "3  [-0.073669255, 0.12609875, 0.063628, 0.1261957...  \n",
              "4  [0.11709199, -0.16062833, 0.082869664, -0.1195...  "
            ]
          },
          "execution_count": 56,
          "metadata": {},
          "output_type": "execute_result"
        }
      ],
      "source": [
        "df_enem_300.head(5)"
      ]
    },
    {
      "cell_type": "code",
      "execution_count": 59,
      "metadata": {},
      "outputs": [
        {
          "data": {
            "text/plain": [
              "300"
            ]
          },
          "execution_count": 59,
          "metadata": {},
          "output_type": "execute_result"
        }
      ],
      "source": [
        "len(df_enem_300['gabarito_embeddings_word2vec'].iloc[0])"
      ]
    },
    {
      "cell_type": "code",
      "execution_count": 58,
      "metadata": {},
      "outputs": [
        {
          "data": {
            "text/plain": [
              "50"
            ]
          },
          "execution_count": 58,
          "metadata": {},
          "output_type": "execute_result"
        }
      ],
      "source": [
        "len(df_enem_50['gabarito_embeddings_word2vec'].iloc[0])"
      ]
    },
    {
      "cell_type": "code",
      "execution_count": 68,
      "metadata": {},
      "outputs": [
        {
          "data": {
            "text/plain": [
              "100"
            ]
          },
          "execution_count": 68,
          "metadata": {},
          "output_type": "execute_result"
        }
      ],
      "source": [
        "len(df_enem_100['gabarito_embeddings_word2vec'].iloc[0])"
      ]
    },
    {
      "cell_type": "markdown",
      "metadata": {
        "id": "_Bqmhxq6l3Vj"
      },
      "source": [
        "## Salvando os datasets"
      ]
    },
    {
      "cell_type": "code",
      "execution_count": 69,
      "metadata": {
        "id": "J0fY9kunl2yy"
      },
      "outputs": [],
      "source": [
        "df_enem_300.to_pickle('../data/final/enem_data_embeddings_300.pkl')\n",
        "df_enem_50.to_pickle('../data/final/enem_data_embeddings_50.pkl')\n",
        "df_enem_100.to_pickle('../data/final/enem_data_embeddings_100.pkl')"
      ]
    }
  ],
  "metadata": {
    "colab": {
      "provenance": [],
      "toc_visible": true
    },
    "kernelspec": {
      "display_name": "projeto-enem-YISx0mk8-py3.11",
      "language": "python",
      "name": "python3"
    },
    "language_info": {
      "codemirror_mode": {
        "name": "ipython",
        "version": 3
      },
      "file_extension": ".py",
      "mimetype": "text/x-python",
      "name": "python",
      "nbconvert_exporter": "python",
      "pygments_lexer": "ipython3",
      "version": "3.11.2"
    }
  },
  "nbformat": 4,
  "nbformat_minor": 0
}
