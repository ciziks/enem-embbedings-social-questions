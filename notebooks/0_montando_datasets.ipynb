{
 "cells": [
  {
   "cell_type": "code",
   "execution_count": 3,
   "metadata": {},
   "outputs": [],
   "source": [
    "import pandas as pd\n",
    "import numpy as np\n",
    "import re\n",
    "import pymupdf\n",
    "\n",
    "from PyPDF2 import PdfReader"
   ]
  },
  {
   "cell_type": "markdown",
   "metadata": {},
   "source": [
    "# Leitura dos Microdados"
   ]
  },
  {
   "cell_type": "code",
   "execution_count": 4,
   "metadata": {},
   "outputs": [],
   "source": [
    "# df = pd.read_csv('microdados_enem_2018/DADOS/MICRODADOS_ENEM_2018.csv', sep=';', encoding='latin-1', nrows=1000000)\n",
    "# df.head()"
   ]
  },
  {
   "cell_type": "markdown",
   "metadata": {},
   "source": [
    "**2018**"
   ]
  },
  {
   "cell_type": "code",
   "execution_count": null,
   "metadata": {},
   "outputs": [
    {
     "data": {
      "text/html": [
       "<div>\n",
       "<style scoped>\n",
       "    .dataframe tbody tr th:only-of-type {\n",
       "        vertical-align: middle;\n",
       "    }\n",
       "\n",
       "    .dataframe tbody tr th {\n",
       "        vertical-align: top;\n",
       "    }\n",
       "\n",
       "    .dataframe thead th {\n",
       "        text-align: right;\n",
       "    }\n",
       "</style>\n",
       "<table border=\"1\" class=\"dataframe\">\n",
       "  <thead>\n",
       "    <tr style=\"text-align: right;\">\n",
       "      <th></th>\n",
       "      <th>CO_POSICAO</th>\n",
       "      <th>TX_GABARITO</th>\n",
       "      <th>NU_PARAM_A</th>\n",
       "      <th>NU_PARAM_B</th>\n",
       "      <th>NU_PARAM_C</th>\n",
       "      <th>ANO</th>\n",
       "    </tr>\n",
       "  </thead>\n",
       "  <tbody>\n",
       "    <tr>\n",
       "      <th>501</th>\n",
       "      <td>46</td>\n",
       "      <td>C</td>\n",
       "      <td>5.10044</td>\n",
       "      <td>1.51100</td>\n",
       "      <td>0.13957</td>\n",
       "      <td>2018</td>\n",
       "    </tr>\n",
       "    <tr>\n",
       "      <th>516</th>\n",
       "      <td>47</td>\n",
       "      <td>A</td>\n",
       "      <td>3.21792</td>\n",
       "      <td>1.65990</td>\n",
       "      <td>0.14834</td>\n",
       "      <td>2018</td>\n",
       "    </tr>\n",
       "    <tr>\n",
       "      <th>527</th>\n",
       "      <td>48</td>\n",
       "      <td>C</td>\n",
       "      <td>3.46765</td>\n",
       "      <td>1.30736</td>\n",
       "      <td>0.15603</td>\n",
       "      <td>2018</td>\n",
       "    </tr>\n",
       "    <tr>\n",
       "      <th>536</th>\n",
       "      <td>49</td>\n",
       "      <td>D</td>\n",
       "      <td>2.67992</td>\n",
       "      <td>1.47683</td>\n",
       "      <td>0.11389</td>\n",
       "      <td>2018</td>\n",
       "    </tr>\n",
       "    <tr>\n",
       "      <th>547</th>\n",
       "      <td>50</td>\n",
       "      <td>D</td>\n",
       "      <td>4.00369</td>\n",
       "      <td>1.39940</td>\n",
       "      <td>0.16074</td>\n",
       "      <td>2018</td>\n",
       "    </tr>\n",
       "  </tbody>\n",
       "</table>\n",
       "</div>"
      ],
      "text/plain": [
       "     CO_POSICAO TX_GABARITO  NU_PARAM_A  NU_PARAM_B  NU_PARAM_C   ANO\n",
       "501          46           C     5.10044     1.51100     0.13957  2018\n",
       "516          47           A     3.21792     1.65990     0.14834  2018\n",
       "527          48           C     3.46765     1.30736     0.15603  2018\n",
       "536          49           D     2.67992     1.47683     0.11389  2018\n",
       "547          50           D     4.00369     1.39940     0.16074  2018"
      ]
     },
     "execution_count": 105,
     "metadata": {},
     "output_type": "execute_result"
    }
   ],
   "source": [
    "df_2018 = pd.read_csv('microdados_enem_2018/DADOS/ITENS_PROVA_2018.csv', sep=';', encoding='latin-1')\n",
    "\n",
    "df_ch_2018 = df_2018.loc[df_2018['SG_AREA'] == 'CH']\n",
    "\n",
    "df_ch_2018 = df_ch_2018.loc[df_ch_2018['TX_COR']=='Azul'].loc[df_ch_2018['CO_PROVA']==451][['CO_POSICAO', 'TX_GABARITO', 'NU_PARAM_A','NU_PARAM_B',\t'NU_PARAM_C']]\n",
    "df_ch_2018['ANO'] = '2018'\n",
    "df_ch_2018.head()"
   ]
  },
  {
   "cell_type": "markdown",
   "metadata": {},
   "source": [
    "**2019**\n"
   ]
  },
  {
   "cell_type": "code",
   "execution_count": null,
   "metadata": {},
   "outputs": [
    {
     "data": {
      "text/html": [
       "<div>\n",
       "<style scoped>\n",
       "    .dataframe tbody tr th:only-of-type {\n",
       "        vertical-align: middle;\n",
       "    }\n",
       "\n",
       "    .dataframe tbody tr th {\n",
       "        vertical-align: top;\n",
       "    }\n",
       "\n",
       "    .dataframe thead th {\n",
       "        text-align: right;\n",
       "    }\n",
       "</style>\n",
       "<table border=\"1\" class=\"dataframe\">\n",
       "  <thead>\n",
       "    <tr style=\"text-align: right;\">\n",
       "      <th></th>\n",
       "      <th>CO_POSICAO</th>\n",
       "      <th>TX_GABARITO</th>\n",
       "      <th>NU_PARAM_A</th>\n",
       "      <th>NU_PARAM_B</th>\n",
       "      <th>NU_PARAM_C</th>\n",
       "      <th>ANO</th>\n",
       "    </tr>\n",
       "  </thead>\n",
       "  <tbody>\n",
       "    <tr>\n",
       "      <th>559</th>\n",
       "      <td>46</td>\n",
       "      <td>B</td>\n",
       "      <td>2.21881</td>\n",
       "      <td>1.10809</td>\n",
       "      <td>0.13721</td>\n",
       "      <td>2019</td>\n",
       "    </tr>\n",
       "    <tr>\n",
       "      <th>570</th>\n",
       "      <td>47</td>\n",
       "      <td>A</td>\n",
       "      <td>2.07127</td>\n",
       "      <td>1.34720</td>\n",
       "      <td>0.07736</td>\n",
       "      <td>2019</td>\n",
       "    </tr>\n",
       "    <tr>\n",
       "      <th>582</th>\n",
       "      <td>48</td>\n",
       "      <td>C</td>\n",
       "      <td>NaN</td>\n",
       "      <td>NaN</td>\n",
       "      <td>NaN</td>\n",
       "      <td>2019</td>\n",
       "    </tr>\n",
       "    <tr>\n",
       "      <th>585</th>\n",
       "      <td>49</td>\n",
       "      <td>C</td>\n",
       "      <td>1.31749</td>\n",
       "      <td>0.44063</td>\n",
       "      <td>0.18259</td>\n",
       "      <td>2019</td>\n",
       "    </tr>\n",
       "    <tr>\n",
       "      <th>599</th>\n",
       "      <td>50</td>\n",
       "      <td>C</td>\n",
       "      <td>3.45284</td>\n",
       "      <td>1.65017</td>\n",
       "      <td>0.09484</td>\n",
       "      <td>2019</td>\n",
       "    </tr>\n",
       "  </tbody>\n",
       "</table>\n",
       "</div>"
      ],
      "text/plain": [
       "     CO_POSICAO TX_GABARITO  NU_PARAM_A  NU_PARAM_B  NU_PARAM_C   ANO\n",
       "559          46           B     2.21881     1.10809     0.13721  2019\n",
       "570          47           A     2.07127     1.34720     0.07736  2019\n",
       "582          48           C         NaN         NaN         NaN  2019\n",
       "585          49           C     1.31749     0.44063     0.18259  2019\n",
       "599          50           C     3.45284     1.65017     0.09484  2019"
      ]
     },
     "execution_count": 106,
     "metadata": {},
     "output_type": "execute_result"
    }
   ],
   "source": [
    "df_2019 = pd.read_csv('microdados_enem_2019/DADOS/ITENS_PROVA_2019.csv', sep=';', encoding='latin-1')\n",
    "\n",
    "df_ch_2019 = df_2019.loc[df_2019['SG_AREA'] == 'CH']\n",
    "df_ch_2019\n",
    "\n",
    "df_ch_2019 = df_ch_2019.loc[df_ch_2019['TX_COR']=='Azul'].loc[df_ch_2019['CO_PROVA']==507][['CO_POSICAO', 'TX_GABARITO', 'NU_PARAM_A','NU_PARAM_B',\t'NU_PARAM_C']]\n",
    "df_ch_2019['ANO'] = '2019'\n",
    "df_ch_2019.head()"
   ]
  },
  {
   "cell_type": "markdown",
   "metadata": {},
   "source": [
    "**2020**"
   ]
  },
  {
   "cell_type": "code",
   "execution_count": null,
   "metadata": {},
   "outputs": [
    {
     "data": {
      "text/html": [
       "<div>\n",
       "<style scoped>\n",
       "    .dataframe tbody tr th:only-of-type {\n",
       "        vertical-align: middle;\n",
       "    }\n",
       "\n",
       "    .dataframe tbody tr th {\n",
       "        vertical-align: top;\n",
       "    }\n",
       "\n",
       "    .dataframe thead th {\n",
       "        text-align: right;\n",
       "    }\n",
       "</style>\n",
       "<table border=\"1\" class=\"dataframe\">\n",
       "  <thead>\n",
       "    <tr style=\"text-align: right;\">\n",
       "      <th></th>\n",
       "      <th>CO_POSICAO</th>\n",
       "      <th>TX_GABARITO</th>\n",
       "      <th>NU_PARAM_A</th>\n",
       "      <th>NU_PARAM_B</th>\n",
       "      <th>NU_PARAM_C</th>\n",
       "      <th>ANO</th>\n",
       "    </tr>\n",
       "  </thead>\n",
       "  <tbody>\n",
       "    <tr>\n",
       "      <th>4141</th>\n",
       "      <td>46</td>\n",
       "      <td>D</td>\n",
       "      <td>3.53336</td>\n",
       "      <td>1.34087</td>\n",
       "      <td>0.13677</td>\n",
       "      <td>2020</td>\n",
       "    </tr>\n",
       "    <tr>\n",
       "      <th>4113</th>\n",
       "      <td>47</td>\n",
       "      <td>A</td>\n",
       "      <td>2.47767</td>\n",
       "      <td>1.82861</td>\n",
       "      <td>0.30933</td>\n",
       "      <td>2020</td>\n",
       "    </tr>\n",
       "    <tr>\n",
       "      <th>3787</th>\n",
       "      <td>48</td>\n",
       "      <td>B</td>\n",
       "      <td>2.15838</td>\n",
       "      <td>1.83008</td>\n",
       "      <td>0.13413</td>\n",
       "      <td>2020</td>\n",
       "    </tr>\n",
       "    <tr>\n",
       "      <th>1239</th>\n",
       "      <td>49</td>\n",
       "      <td>C</td>\n",
       "      <td>3.11394</td>\n",
       "      <td>1.33811</td>\n",
       "      <td>0.15766</td>\n",
       "      <td>2020</td>\n",
       "    </tr>\n",
       "    <tr>\n",
       "      <th>2447</th>\n",
       "      <td>50</td>\n",
       "      <td>B</td>\n",
       "      <td>1.33904</td>\n",
       "      <td>-0.24666</td>\n",
       "      <td>0.20167</td>\n",
       "      <td>2020</td>\n",
       "    </tr>\n",
       "  </tbody>\n",
       "</table>\n",
       "</div>"
      ],
      "text/plain": [
       "      CO_POSICAO TX_GABARITO  NU_PARAM_A  NU_PARAM_B  NU_PARAM_C   ANO\n",
       "4141          46           D     3.53336     1.34087     0.13677  2020\n",
       "4113          47           A     2.47767     1.82861     0.30933  2020\n",
       "3787          48           B     2.15838     1.83008     0.13413  2020\n",
       "1239          49           C     3.11394     1.33811     0.15766  2020\n",
       "2447          50           B     1.33904    -0.24666     0.20167  2020"
      ]
     },
     "execution_count": 107,
     "metadata": {},
     "output_type": "execute_result"
    }
   ],
   "source": [
    "df_2020 = pd.read_csv('microdados_enem_2020/DADOS/ITENS_PROVA_2020.csv', sep=';', encoding='latin-1')\n",
    "\n",
    "df_ch_2020 = df_2020.loc[df_2020['SG_AREA'] == 'CH']\n",
    "\n",
    "df_ch_2020 = df_ch_2020.loc[df_ch_2020['TX_COR']=='AZUL'].loc[df_ch_2020['CO_PROVA']==567][['CO_POSICAO', 'TX_GABARITO', 'NU_PARAM_A','NU_PARAM_B',\t'NU_PARAM_C']]\n",
    "df_ch_2020['ANO'] = '2020'\n",
    "df_ch_2020 = df_ch_2020.sort_values(by=['CO_POSICAO'])\n",
    "df_ch_2020.head()"
   ]
  },
  {
   "cell_type": "markdown",
   "metadata": {},
   "source": [
    "# Leituras da Provas"
   ]
  },
  {
   "cell_type": "code",
   "execution_count": 10,
   "metadata": {},
   "outputs": [],
   "source": [
    "# Caminho da prova ENEM 2018\n",
    "prova_2018 = 'provas/2018_PV_impresso_D1_CD1.pdf'\n",
    "\n",
    "# Caminho da prova ENEM 2019\n",
    "prova_2019 = 'provas/2019_PV_impresso_D1_CD1.pdf'\n",
    "\n",
    "# Caminho da prova ENEM 2020\n",
    "prova_2020 = 'provas/2020_PV_impresso_D1_CD1.pdf'"
   ]
  },
  {
   "cell_type": "code",
   "execution_count": null,
   "metadata": {},
   "outputs": [],
   "source": [
    "# Função que recebe o caminho do pdf, a página de início e a de fim e retorna as questões\n",
    "def get_questions(pdf_path: str, start_page: int, end_page: int, caps_lock: bool = False):\n",
    "    def extract_questions(full_text: str):\n",
    "        aux = full_text.split('QUESTÃO ') if caps_lock else full_text.split('Questão ')\n",
    "        questions = [question for question in aux if question[:2].isnumeric()]\n",
    "        final_questions = [question[3:] for question in questions]\n",
    "        return final_questions\n",
    "\n",
    "    reader = PdfReader(pdf_path)\n",
    "\n",
    "    final_questions = []\n",
    "    for i in range(start_page, end_page):\n",
    "        full_text = reader.pages[i].extract_text()\n",
    "        questions = extract_questions(full_text)\n",
    "        final_questions.extend(questions)\n",
    "\n",
    "    return final_questions"
   ]
  },
  {
   "cell_type": "code",
   "execution_count": 82,
   "metadata": {},
   "outputs": [
    {
     "data": {
      "text/plain": [
       "45"
      ]
     },
     "execution_count": 82,
     "metadata": {},
     "output_type": "execute_result"
    }
   ],
   "source": [
    "questoes_2018 = get_questions(prova_2018, 18, 32, True)\n",
    "len(questoes_2018)"
   ]
  },
  {
   "cell_type": "code",
   "execution_count": 83,
   "metadata": {},
   "outputs": [
    {
     "data": {
      "text/plain": [
       "45"
      ]
     },
     "execution_count": 83,
     "metadata": {},
     "output_type": "execute_result"
    }
   ],
   "source": [
    "questoes_2019 = get_questions(prova_2019, 20, 32)\n",
    "len(questoes_2019)"
   ]
  },
  {
   "cell_type": "code",
   "execution_count": 84,
   "metadata": {},
   "outputs": [
    {
     "data": {
      "text/plain": [
       "45"
      ]
     },
     "execution_count": 84,
     "metadata": {},
     "output_type": "execute_result"
    }
   ],
   "source": [
    "questoes_2020 = get_questions(prova_2020, 19, 32)\n",
    "len(questoes_2020)"
   ]
  },
  {
   "cell_type": "markdown",
   "metadata": {},
   "source": [
    "## Alternativas\n"
   ]
  },
  {
   "cell_type": "code",
   "execution_count": null,
   "metadata": {},
   "outputs": [],
   "source": [
    "# Função que retorna as questões sem as alternativas e as alternativas formatadas\n",
    "def get_alternatives(questions: list[str]) -> tuple[list[str], list[str]]:\n",
    "    # Função auxiliar que formata as quesões em formato de dicionário\n",
    "    def format_alt(alt: str) -> str:\n",
    "        search = re.search(r\"(A\\s.+?)(B\\s.+?)(C\\s.+?)(D\\s.+?)(E\\s.+)\", alt)\n",
    "        if search:\n",
    "            groups = search.groups()\n",
    "            alt = '; '.join([f\"{item[0]}: {item[2:-1]}\" for item in groups])\n",
    "        else:\n",
    "            alt = ''\n",
    "        return alt\n",
    "\n",
    "    # Pra cada questão separa a alternativa e a formata\n",
    "    alts = []\n",
    "    questions_new = []\n",
    "    for question in questions:\n",
    "        full_question = re.split(r\"(\\nA\\s.*\\n)\", question)\n",
    "\n",
    "        alt = ''.join(full_question[-2:])\n",
    "        alt = alt.replace('\\n', '')\n",
    "        alt = re.sub(r\"\\*.*\\*\", \"\", alt)\n",
    "        alt = re.sub(r\"(CH).*\\d\", \"\", alt)\n",
    "        alt = format_alt(alt)\n",
    "        \n",
    "        question_new = ''.join(full_question[:-2])\n",
    "        question_new = question_new.replace('\\n', \"\")\n",
    "\n",
    "        alts.append(alt)\n",
    "        questions_new.append(question_new)\n",
    "\n",
    "    return questions_new, alts"
   ]
  },
  {
   "cell_type": "markdown",
   "metadata": {},
   "source": [
    "**2018**"
   ]
  },
  {
   "cell_type": "code",
   "execution_count": 86,
   "metadata": {},
   "outputs": [
    {
     "data": {
      "text/plain": [
       "['A: preservação cultural dos territórios ocupados; B: formação humanitária da sociedade europeia; C: catalogação de dados úteis aos propósitos colonialistas; D: desenvolvimento de técnicas matemáticas de construção de cartas; E: consolidação do conhecimento topográfico como campo acadêmico',\n",
       " 'A: surgimento do monasticismo guerreiro, ocasionado pelas cruzadas; B: descentralização do poder eclesiástico, produzida pelo feudalismo; C: alastramento da peste bubônica, provocado pela expansão comercial; D: afirmação da fraternidade mendicante, estimulada pela reforma espiritual; E: criação das faculdades de medicina, promovida pelo renascimento urbano',\n",
       " 'A: Imposição ideológica e normas hierárquicas; B: Determinação divina e soberania monárquica; C: Intervenção consensual e autonomia comunitária; D: Mediação jurídica e regras contratualistas; E: Gestão coletiva e obrigações tributárias',\n",
       " 'A: reunir os antagonismos das opiniões ao método dialético; B: ajustar a clareza do conhecimento ao inatismo das ideias; C: associar a certeza do intelecto à imutabilidade da verdade; D: conciliar o rigor da investigação à inquietude do questionamento; E: compatibilizar as estruturas do pensamento aos princípios fundamentais',\n",
       " 'A: impacto do medo da corrida armamentista.; B: democratização do acesso à escola pública.; C: preconceito de gênero no transporte coletivo.; D: deflagração do movimento por igualdade civil.; E: eclosão da rebeldia no comportamento juvenil']"
      ]
     },
     "execution_count": 86,
     "metadata": {},
     "output_type": "execute_result"
    }
   ],
   "source": [
    "questoes_2018, alts_2018 = get_alternatives(questoes_2018)\n",
    "alts_2018[:5]"
   ]
  },
  {
   "cell_type": "markdown",
   "metadata": {},
   "source": [
    "**2019**"
   ]
  },
  {
   "cell_type": "code",
   "execution_count": 87,
   "metadata": {},
   "outputs": [
    {
     "data": {
      "text/plain": [
       "['A: concepção apresentada considera a existência de uma nova época geológica concebida a partir da capacidade de influência humana nos processosA eruptivos; B: exógenos; C: tectônicos; D: magmáticos; E: metamórficos',\n",
       " 'A: Albedo dos corpos físicos; B: Profundidade do lençol freático; C: Campo de magnetismo terrestre; D: Qualidade dos recursos minerais; E: Movimento de translaç ão planetária',\n",
       " 'A: relação entre ser humano e natureza ressaltada no texto refletia a permanência da seguinte corrente filosófica:A Relativismo cognitivo; B: Materialismo dialético; C: Racionalismo cartesiano; D: Pluralismo epistemológico; E: Existencialismo fenomenológico',\n",
       " 'A: Preservação da área de mata ciliar; B: Adoção da prática de adubação química; C: Utilização da técnica de controle biológico; D: Ampliação do modelo de monocultura tropical; E: Intensificação da drenagem do solo de várzea.SatéliteSolEnergia solarrefletidaEnergia solar incidenteFloresta Rio Pastagens RodoviaAtmosfer',\n",
       " 'A: anulação da diferença; B: cristalização da biografia; C: incorporação da alteridade; D: supressão da comunicação; E: verificação da proveniência']"
      ]
     },
     "execution_count": 87,
     "metadata": {},
     "output_type": "execute_result"
    }
   ],
   "source": [
    "questoes_2019, alts_2019 = get_alternatives(questoes_2019)\n",
    "alts_2019[:5]"
   ]
  },
  {
   "cell_type": "markdown",
   "metadata": {},
   "source": [
    "**2020**"
   ]
  },
  {
   "cell_type": "code",
   "execution_count": 88,
   "metadata": {},
   "outputs": [
    {
     "data": {
      "text/plain": [
       "['A:  expansão do setor extrativista; B:  incremento da atividade agrícola; C:  diversificação da matriz energética; D:  fortalecimento da pesquisa científica; E:  monitoramento do fluxo alfandegário',\n",
       " 'A:  heterogeneidade do modo de vida agrário; B:  redução do fluxo populacional nas cidades; C:  correlação entre força de trabalho e migração sazonal; D:  indissociabilidade entre local de moradia e acesso à renda; E:  desregulamentação das propriedades nas zonas de fronteira',\n",
       " 'A:  estagnação de direitos adquiridos e do anacronismo da legislação vigente; B:  manutenção do status quo gerencial e dos padrões de socialização familiar; C:  desestruturação da herança patriarcal e das mudanças do perfil ocupacional; D:  disputas na composição sindical e da presença na esfera político-partidária; E:  exigências de aperfeiçoamento profissional e de habilidades na competência diretiva',\n",
       " 'A:  reverter o processo de privatização fundiária; B:  ressaltar a inviabilidade da produção latifundiária; C:  defender a desapropriação dos espaços improdutivos; D:  impedir a produção exportadora nas terras agricultáveis; E:  coibir o funcionamento de empresas agroindustriais no campo',\n",
       " 'A:  valorização da escala local; B:  crescimento das áreas periféricas; C:  densificação do transporte ferroviário; D:  predomínio do planejamento estadual; E:  inibição de consórcios intermunicipais']"
      ]
     },
     "execution_count": 88,
     "metadata": {},
     "output_type": "execute_result"
    }
   ],
   "source": [
    "questoes_2020, alts_2020 = get_alternatives(questoes_2020)\n",
    "alts_2020[:5]"
   ]
  },
  {
   "cell_type": "markdown",
   "metadata": {},
   "source": [
    "# Montando o dataset final"
   ]
  },
  {
   "cell_type": "code",
   "execution_count": null,
   "metadata": {},
   "outputs": [],
   "source": [
    "# Função auxiliar para criar o dataset com as novas colunas\n",
    "def merge_quests_alts(dataset: pd.DataFrame, questions: list[str], alts: list[str]) -> pd.DataFrame:\n",
    "    dataset['QUESTOES'] = questions\n",
    "    dataset['ALTERNATIVAS'] = alts\n",
    "\n",
    "    return dataset"
   ]
  },
  {
   "cell_type": "code",
   "execution_count": 98,
   "metadata": {},
   "outputs": [
    {
     "data": {
      "text/html": [
       "<div>\n",
       "<style scoped>\n",
       "    .dataframe tbody tr th:only-of-type {\n",
       "        vertical-align: middle;\n",
       "    }\n",
       "\n",
       "    .dataframe tbody tr th {\n",
       "        vertical-align: top;\n",
       "    }\n",
       "\n",
       "    .dataframe thead th {\n",
       "        text-align: right;\n",
       "    }\n",
       "</style>\n",
       "<table border=\"1\" class=\"dataframe\">\n",
       "  <thead>\n",
       "    <tr style=\"text-align: right;\">\n",
       "      <th></th>\n",
       "      <th>CO_POSICAO</th>\n",
       "      <th>TX_GABARITO</th>\n",
       "      <th>NU_PARAM_A</th>\n",
       "      <th>NU_PARAM_B</th>\n",
       "      <th>NU_PARAM_C</th>\n",
       "      <th>ANO</th>\n",
       "      <th>QUESTOES</th>\n",
       "      <th>ALTERNATIVAS</th>\n",
       "    </tr>\n",
       "  </thead>\n",
       "  <tbody>\n",
       "    <tr>\n",
       "      <th>501</th>\n",
       "      <td>46</td>\n",
       "      <td>C</td>\n",
       "      <td>5.10044</td>\n",
       "      <td>1.51100</td>\n",
       "      <td>0.13957</td>\n",
       "      <td>2018</td>\n",
       "      <td>No Segundo Congresso Internacional de Ciências...</td>\n",
       "      <td>A: preservação cultural dos territórios ocupad...</td>\n",
       "    </tr>\n",
       "    <tr>\n",
       "      <th>516</th>\n",
       "      <td>47</td>\n",
       "      <td>A</td>\n",
       "      <td>3.21792</td>\n",
       "      <td>1.65990</td>\n",
       "      <td>0.14834</td>\n",
       "      <td>2018</td>\n",
       "      <td>A existência em Jerusalém de um hospital volta...</td>\n",
       "      <td>A: surgimento do monasticismo guerreiro, ocasi...</td>\n",
       "    </tr>\n",
       "    <tr>\n",
       "      <th>527</th>\n",
       "      <td>48</td>\n",
       "      <td>C</td>\n",
       "      <td>3.46765</td>\n",
       "      <td>1.30736</td>\n",
       "      <td>0.15603</td>\n",
       "      <td>2018</td>\n",
       "      <td>A tribo não possui um rei, mas um chefe que nã...</td>\n",
       "      <td>A: Imposição ideológica e normas hierárquicas;...</td>\n",
       "    </tr>\n",
       "    <tr>\n",
       "      <th>536</th>\n",
       "      <td>49</td>\n",
       "      <td>D</td>\n",
       "      <td>2.67992</td>\n",
       "      <td>1.47683</td>\n",
       "      <td>0.11389</td>\n",
       "      <td>2018</td>\n",
       "      <td>O filósofo reconhece-se pela posse inseparável...</td>\n",
       "      <td>A: reunir os antagonismos das opiniões ao méto...</td>\n",
       "    </tr>\n",
       "    <tr>\n",
       "      <th>547</th>\n",
       "      <td>50</td>\n",
       "      <td>D</td>\n",
       "      <td>4.00369</td>\n",
       "      <td>1.39940</td>\n",
       "      <td>0.16074</td>\n",
       "      <td>2018</td>\n",
       "      <td>Figura 1Disponível em: www.thehenryford.org. A...</td>\n",
       "      <td>A: impacto do medo da corrida armamentista.; B...</td>\n",
       "    </tr>\n",
       "    <tr>\n",
       "      <th>...</th>\n",
       "      <td>...</td>\n",
       "      <td>...</td>\n",
       "      <td>...</td>\n",
       "      <td>...</td>\n",
       "      <td>...</td>\n",
       "      <td>...</td>\n",
       "      <td>...</td>\n",
       "      <td>...</td>\n",
       "    </tr>\n",
       "    <tr>\n",
       "      <th>1302</th>\n",
       "      <td>86</td>\n",
       "      <td>D</td>\n",
       "      <td>3.55293</td>\n",
       "      <td>1.23410</td>\n",
       "      <td>0.18404</td>\n",
       "      <td>2020</td>\n",
       "      <td>Declaração de Direitos do Homem e do ...</td>\n",
       "      <td>A:  manutenção das terras comunais; B:  supres...</td>\n",
       "    </tr>\n",
       "    <tr>\n",
       "      <th>2674</th>\n",
       "      <td>87</td>\n",
       "      <td>E</td>\n",
       "      <td>3.71752</td>\n",
       "      <td>1.25879</td>\n",
       "      <td>0.16922</td>\n",
       "      <td>2020</td>\n",
       "      <td>Na Grécia, o conceito de povo abrange...</td>\n",
       "      <td>A:  competição para a escolha de representante...</td>\n",
       "    </tr>\n",
       "    <tr>\n",
       "      <th>4134</th>\n",
       "      <td>88</td>\n",
       "      <td>C</td>\n",
       "      <td>1.02685</td>\n",
       "      <td>0.10876</td>\n",
       "      <td>0.19583</td>\n",
       "      <td>2020</td>\n",
       "      <td>TEXTO I Rio Tietê, São Paulo (SP). Fo...</td>\n",
       "      <td>A:  valorização do sítio urbano; B:  extinção ...</td>\n",
       "    </tr>\n",
       "    <tr>\n",
       "      <th>3279</th>\n",
       "      <td>89</td>\n",
       "      <td>D</td>\n",
       "      <td>2.78486</td>\n",
       "      <td>0.55811</td>\n",
       "      <td>0.19808</td>\n",
       "      <td>2020</td>\n",
       "      <td>Adão, ainda que supuséssemos que suas...</td>\n",
       "      <td>A:  A potência inata da mente.; B:  A revelaçã...</td>\n",
       "    </tr>\n",
       "    <tr>\n",
       "      <th>3933</th>\n",
       "      <td>90</td>\n",
       "      <td>D</td>\n",
       "      <td>1.02714</td>\n",
       "      <td>0.71578</td>\n",
       "      <td>0.17357</td>\n",
       "      <td>2020</td>\n",
       "      <td>TEXTO IO aumento de casos suspeitos d...</td>\n",
       "      <td>A:  poluição dos rios locais; B:  identificaçã...</td>\n",
       "    </tr>\n",
       "  </tbody>\n",
       "</table>\n",
       "<p>135 rows × 8 columns</p>\n",
       "</div>"
      ],
      "text/plain": [
       "      CO_POSICAO TX_GABARITO  NU_PARAM_A  NU_PARAM_B  NU_PARAM_C   ANO  \\\n",
       "501           46           C     5.10044     1.51100     0.13957  2018   \n",
       "516           47           A     3.21792     1.65990     0.14834  2018   \n",
       "527           48           C     3.46765     1.30736     0.15603  2018   \n",
       "536           49           D     2.67992     1.47683     0.11389  2018   \n",
       "547           50           D     4.00369     1.39940     0.16074  2018   \n",
       "...          ...         ...         ...         ...         ...   ...   \n",
       "1302          86           D     3.55293     1.23410     0.18404  2020   \n",
       "2674          87           E     3.71752     1.25879     0.16922  2020   \n",
       "4134          88           C     1.02685     0.10876     0.19583  2020   \n",
       "3279          89           D     2.78486     0.55811     0.19808  2020   \n",
       "3933          90           D     1.02714     0.71578     0.17357  2020   \n",
       "\n",
       "                                               QUESTOES  \\\n",
       "501   No Segundo Congresso Internacional de Ciências...   \n",
       "516   A existência em Jerusalém de um hospital volta...   \n",
       "527   A tribo não possui um rei, mas um chefe que nã...   \n",
       "536   O filósofo reconhece-se pela posse inseparável...   \n",
       "547   Figura 1Disponível em: www.thehenryford.org. A...   \n",
       "...                                                 ...   \n",
       "1302           Declaração de Direitos do Homem e do ...   \n",
       "2674           Na Grécia, o conceito de povo abrange...   \n",
       "4134           TEXTO I Rio Tietê, São Paulo (SP). Fo...   \n",
       "3279           Adão, ainda que supuséssemos que suas...   \n",
       "3933           TEXTO IO aumento de casos suspeitos d...   \n",
       "\n",
       "                                           ALTERNATIVAS  \n",
       "501   A: preservação cultural dos territórios ocupad...  \n",
       "516   A: surgimento do monasticismo guerreiro, ocasi...  \n",
       "527   A: Imposição ideológica e normas hierárquicas;...  \n",
       "536   A: reunir os antagonismos das opiniões ao méto...  \n",
       "547   A: impacto do medo da corrida armamentista.; B...  \n",
       "...                                                 ...  \n",
       "1302  A:  manutenção das terras comunais; B:  supres...  \n",
       "2674  A:  competição para a escolha de representante...  \n",
       "4134  A:  valorização do sítio urbano; B:  extinção ...  \n",
       "3279  A:  A potência inata da mente.; B:  A revelaçã...  \n",
       "3933  A:  poluição dos rios locais; B:  identificaçã...  \n",
       "\n",
       "[135 rows x 8 columns]"
      ]
     },
     "execution_count": 98,
     "metadata": {},
     "output_type": "execute_result"
    }
   ],
   "source": [
    "df_final = pd.concat([merge_quests_alts(df_ch_2018, questoes_2018, alts_2018),\n",
    "                      merge_quests_alts(df_ch_2019, questoes_2019, alts_2019),\n",
    "                      merge_quests_alts(df_ch_2020, questoes_2020, alts_2020)], axis=0)\n",
    "\n",
    "df_final"
   ]
  }
 ],
 "metadata": {
  "kernelspec": {
   "display_name": "projeto-enem-YISx0mk8-py3.11",
   "language": "python",
   "name": "python3"
  },
  "language_info": {
   "codemirror_mode": {
    "name": "ipython",
    "version": 3
   },
   "file_extension": ".py",
   "mimetype": "text/x-python",
   "name": "python",
   "nbconvert_exporter": "python",
   "pygments_lexer": "ipython3",
   "version": "3.11.2"
  }
 },
 "nbformat": 4,
 "nbformat_minor": 2
}
