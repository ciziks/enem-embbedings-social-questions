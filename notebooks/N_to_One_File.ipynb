{
 "cells": [
  {
   "cell_type": "code",
   "execution_count": 1,
   "metadata": {},
   "outputs": [],
   "source": [
    "import os\n",
    "import pandas as pd\n",
    "import glob"
   ]
  },
  {
   "cell_type": "code",
   "execution_count": 2,
   "metadata": {},
   "outputs": [],
   "source": [
    "# Pastas contendo as pastas\n",
    "folder_path = '../data/merged_data'\n",
    "output_file = '../data/social_questions_enem_data.csv'"
   ]
  },
  {
   "cell_type": "code",
   "execution_count": null,
   "metadata": {},
   "outputs": [],
   "source": [
    "# Coletar todos os arquivos .csv\n",
    "csv_files = glob.glob(os.path.join(folder_path, 'enem_*.csv'))\n",
    "\n",
    "dfs = []\n",
    "for file in csv_files:\n",
    "    # Extrair ano do nome do arquivo\n",
    "    filename = os.path.basename(file)\n",
    "    ano = filename.split('_')[1].split('.')[0] \n",
    "\n",
    "    df = pd.read_csv(file)\n",
    "    \n",
    "    # Adicionar nova coluna com ano\n",
    "    df['ano'] = ano\n",
    "\n",
    "    dfs.append(df)\n",
    "\n",
    "merged_df = pd.concat(dfs, ignore_index=True)\n",
    "\n",
    "# Salvar arquivo único\n",
    "merged_df.to_csv(output_file, index=False)\n",
    "\n",
    "print(f'Merged CSV saved as {output_file}')\n"
   ]
  },
  {
   "cell_type": "code",
   "execution_count": null,
   "metadata": {},
   "outputs": [],
   "source": []
  }
 ],
 "metadata": {
  "kernelspec": {
   "display_name": ".venv",
   "language": "python",
   "name": "python3"
  },
  "language_info": {
   "codemirror_mode": {
    "name": "ipython",
    "version": 3
   },
   "file_extension": ".py",
   "mimetype": "text/x-python",
   "name": "python",
   "nbconvert_exporter": "python",
   "pygments_lexer": "ipython3",
   "version": "3.11.3"
  }
 },
 "nbformat": 4,
 "nbformat_minor": 2
}
