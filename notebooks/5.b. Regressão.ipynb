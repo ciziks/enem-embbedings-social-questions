{
 "cells": [
  {
   "cell_type": "markdown",
   "id": "b6f36cd0",
   "metadata": {},
   "source": [
    "1. Calcular correlações das features extraídas pelo Word2Vec\n",
    "2. Se observadas correlações altas, aplicar PCA\n",
    "3. Fazer uma Ridge Regression\n",
    "4. Fazer uma Árvore de Regressão (R)"
   ]
  },
  {
   "cell_type": "markdown",
   "id": "03ac68b2",
   "metadata": {},
   "source": [
    "# Apoio"
   ]
  },
  {
   "cell_type": "code",
   "execution_count": 105,
   "id": "d8ebdcad",
   "metadata": {},
   "outputs": [],
   "source": [
    "import pandas as pd\n",
    "import numpy as np\n",
    "import seaborn as sns\n",
    "\n",
    "import matplotlib.pyplot as plt\n",
    "from sklearn.model_selection import KFold\n",
    "from sklearn.metrics import mean_squared_error\n",
    "import statsmodels.api as sm\n",
    "from scipy import stats\n",
    "from sklearn.metrics import root_mean_squared_error\n",
    "from sklearn.model_selection import train_test_split"
   ]
  },
  {
   "cell_type": "markdown",
   "id": "983bf1b6",
   "metadata": {},
   "source": [
    "O dataset utilizado será o com 50 dimensões pois foi o que obteve os melhores resultados na Regressão Linear"
   ]
  },
  {
   "cell_type": "code",
   "execution_count": 83,
   "id": "05ee2ad7",
   "metadata": {},
   "outputs": [
    {
     "data": {
      "text/html": [
       "<div>\n",
       "<style scoped>\n",
       "    .dataframe tbody tr th:only-of-type {\n",
       "        vertical-align: middle;\n",
       "    }\n",
       "\n",
       "    .dataframe tbody tr th {\n",
       "        vertical-align: top;\n",
       "    }\n",
       "\n",
       "    .dataframe thead th {\n",
       "        text-align: right;\n",
       "    }\n",
       "</style>\n",
       "<table border=\"1\" class=\"dataframe\">\n",
       "  <thead>\n",
       "    <tr style=\"text-align: right;\">\n",
       "      <th></th>\n",
       "      <th>numero_questao</th>\n",
       "      <th>gabarito</th>\n",
       "      <th>NU_PARAM_A</th>\n",
       "      <th>nu_param_B</th>\n",
       "      <th>NU_PARAM_C</th>\n",
       "      <th>ANO</th>\n",
       "      <th>enunciado</th>\n",
       "      <th>alternativas</th>\n",
       "      <th>gabarito_texto</th>\n",
       "      <th>distratores</th>\n",
       "      <th>enunciado_limpo</th>\n",
       "      <th>alternativas_limpo</th>\n",
       "      <th>gabarito_texto_limpo</th>\n",
       "      <th>distratores_limpo</th>\n",
       "      <th>enunciado_embeddings_word2vec</th>\n",
       "      <th>gabarito_embeddings_word2vec</th>\n",
       "    </tr>\n",
       "  </thead>\n",
       "  <tbody>\n",
       "    <tr>\n",
       "      <th>0</th>\n",
       "      <td>1</td>\n",
       "      <td>C</td>\n",
       "      <td>3.43894</td>\n",
       "      <td>0.97831</td>\n",
       "      <td>0.10855</td>\n",
       "      <td>2017</td>\n",
       "      <td>No império africano do Mali, no século XIV, To...</td>\n",
       "      <td>A:  isolamento geográﬁco do Saara ocidental; B...</td>\n",
       "      <td>posição relativa nas redes de circulação</td>\n",
       "      <td>isolamento geográﬁco do Saara ocidental; explo...</td>\n",
       "      <td>africano além astronomia centro cidade comérci...</td>\n",
       "      <td>A: isolamento ocidental saara; B: exploração i...</td>\n",
       "      <td>circulação posição redes relativa</td>\n",
       "      <td>competição econômica exploração intensiva isol...</td>\n",
       "      <td>[0.09772969, 0.013166125, -0.032748703, 0.0580...</td>\n",
       "      <td>[-0.04434625, 0.2105245, -0.18144351, 0.030336...</td>\n",
       "    </tr>\n",
       "    <tr>\n",
       "      <th>1</th>\n",
       "      <td>2</td>\n",
       "      <td>D</td>\n",
       "      <td>3.00837</td>\n",
       "      <td>0.49169</td>\n",
       "      <td>0.13877</td>\n",
       "      <td>2017</td>\n",
       "      <td>Após a Declaração Universal dos Direitos Human...</td>\n",
       "      <td>A:  ataque feito pelos japoneses à base milita...</td>\n",
       "      <td>execução de judeus e eslavos presos em guetos ...</td>\n",
       "      <td>ataque feito pelos japoneses à base militar am...</td>\n",
       "      <td>aberrações acontecimentos após assumida branco...</td>\n",
       "      <td>A: americana ataque base feito harbor japonese...</td>\n",
       "      <td>campos concentração eslavos execução guetos ju...</td>\n",
       "      <td>americana americanas ataque atômicas base bomb...</td>\n",
       "      <td>[-0.018823402, 0.07832528, -0.016192827, 0.027...</td>\n",
       "      <td>[0.21008351, 0.5248949, 0.03625112, 0.01772637...</td>\n",
       "    </tr>\n",
       "    <tr>\n",
       "      <th>2</th>\n",
       "      <td>3</td>\n",
       "      <td>D</td>\n",
       "      <td>0.60432</td>\n",
       "      <td>3.25992</td>\n",
       "      <td>0.08798</td>\n",
       "      <td>2017</td>\n",
       "      <td>A moralidade, Bentham exortava, não é uma ques...</td>\n",
       "      <td>A:  fundamentação cientíﬁca de viés positivist...</td>\n",
       "      <td>racionalidade de caráter pragmático</td>\n",
       "      <td>fundamentação cientíﬁca de viés positivista; c...</td>\n",
       "      <td>abstratas afetados agradar ação bentham condut...</td>\n",
       "      <td>A: fundamentação positivista viés; B: convençã...</td>\n",
       "      <td>caráter pragmático racionalidade</td>\n",
       "      <td>comportamental convenção fundamentação inclina...</td>\n",
       "      <td>[-0.013062097, 0.038470805, -0.020605344, 0.05...</td>\n",
       "      <td>[0.16413634, -0.035050992, 0.08454134, 0.23227...</td>\n",
       "    </tr>\n",
       "    <tr>\n",
       "      <th>3</th>\n",
       "      <td>4</td>\n",
       "      <td>E</td>\n",
       "      <td>1.85031</td>\n",
       "      <td>0.57925</td>\n",
       "      <td>0.11344</td>\n",
       "      <td>2017</td>\n",
       "      <td>Fala-se muito nos dias de hoje em direitos do ...</td>\n",
       "      <td>A: modernização da educação escolar; B: atuali...</td>\n",
       "      <td>universalização do princípio da igualdade civil</td>\n",
       "      <td>modernização da educação escolar; atualização ...</td>\n",
       "      <td>apresenta assembleia bases bem cidadão concepç...</td>\n",
       "      <td>A: educação escolar modernização; B: atualizaç...</td>\n",
       "      <td>civil igualdade princípio universalização</td>\n",
       "      <td>aristocráticos atualização conhecimento costum...</td>\n",
       "      <td>[-0.042833664, -0.01434522, -0.002431296, 0.01...</td>\n",
       "      <td>[0.102909006, 0.06116425, -0.13846825, 0.33034...</td>\n",
       "    </tr>\n",
       "    <tr>\n",
       "      <th>4</th>\n",
       "      <td>5</td>\n",
       "      <td>C</td>\n",
       "      <td>2.46290</td>\n",
       "      <td>0.76307</td>\n",
       "      <td>0.17672</td>\n",
       "      <td>2017</td>\n",
       "      <td>Na Constituição da República Federativa do Bra...</td>\n",
       "      <td>A:  etnia e miscigenação racial; B:  sociedade...</td>\n",
       "      <td>espaço e sobrevivência cultural</td>\n",
       "      <td>etnia e miscigenação racial; sociedade e igual...</td>\n",
       "      <td>aplicação artigo bens brasil competindo consta...</td>\n",
       "      <td>A: etnia miscigenação racial; B: igualdade jur...</td>\n",
       "      <td>cultural espaço sobrevivência</td>\n",
       "      <td>ambiental bem econômica educação etnia igualda...</td>\n",
       "      <td>[0.010493249, 0.11095436, 0.017243173, 0.05319...</td>\n",
       "      <td>[0.267512, -0.081234336, 0.08019033, 0.1294613...</td>\n",
       "    </tr>\n",
       "  </tbody>\n",
       "</table>\n",
       "</div>"
      ],
      "text/plain": [
       "   numero_questao gabarito  NU_PARAM_A  nu_param_B  NU_PARAM_C   ANO  \\\n",
       "0               1        C     3.43894     0.97831     0.10855  2017   \n",
       "1               2        D     3.00837     0.49169     0.13877  2017   \n",
       "2               3        D     0.60432     3.25992     0.08798  2017   \n",
       "3               4        E     1.85031     0.57925     0.11344  2017   \n",
       "4               5        C     2.46290     0.76307     0.17672  2017   \n",
       "\n",
       "                                           enunciado  \\\n",
       "0  No império africano do Mali, no século XIV, To...   \n",
       "1  Após a Declaração Universal dos Direitos Human...   \n",
       "2  A moralidade, Bentham exortava, não é uma ques...   \n",
       "3  Fala-se muito nos dias de hoje em direitos do ...   \n",
       "4  Na Constituição da República Federativa do Bra...   \n",
       "\n",
       "                                        alternativas  \\\n",
       "0  A:  isolamento geográﬁco do Saara ocidental; B...   \n",
       "1  A:  ataque feito pelos japoneses à base milita...   \n",
       "2  A:  fundamentação cientíﬁca de viés positivist...   \n",
       "3  A: modernização da educação escolar; B: atuali...   \n",
       "4  A:  etnia e miscigenação racial; B:  sociedade...   \n",
       "\n",
       "                                      gabarito_texto  \\\n",
       "0           posição relativa nas redes de circulação   \n",
       "1  execução de judeus e eslavos presos em guetos ...   \n",
       "2                racionalidade de caráter pragmático   \n",
       "3    universalização do princípio da igualdade civil   \n",
       "4                    espaço e sobrevivência cultural   \n",
       "\n",
       "                                         distratores  \\\n",
       "0  isolamento geográﬁco do Saara ocidental; explo...   \n",
       "1  ataque feito pelos japoneses à base militar am...   \n",
       "2  fundamentação cientíﬁca de viés positivista; c...   \n",
       "3  modernização da educação escolar; atualização ...   \n",
       "4  etnia e miscigenação racial; sociedade e igual...   \n",
       "\n",
       "                                     enunciado_limpo  \\\n",
       "0  africano além astronomia centro cidade comérci...   \n",
       "1  aberrações acontecimentos após assumida branco...   \n",
       "2  abstratas afetados agradar ação bentham condut...   \n",
       "3  apresenta assembleia bases bem cidadão concepç...   \n",
       "4  aplicação artigo bens brasil competindo consta...   \n",
       "\n",
       "                                  alternativas_limpo  \\\n",
       "0  A: isolamento ocidental saara; B: exploração i...   \n",
       "1  A: americana ataque base feito harbor japonese...   \n",
       "2  A: fundamentação positivista viés; B: convençã...   \n",
       "3  A: educação escolar modernização; B: atualizaç...   \n",
       "4  A: etnia miscigenação racial; B: igualdade jur...   \n",
       "\n",
       "                                gabarito_texto_limpo  \\\n",
       "0                  circulação posição redes relativa   \n",
       "1  campos concentração eslavos execução guetos ju...   \n",
       "2                   caráter pragmático racionalidade   \n",
       "3          civil igualdade princípio universalização   \n",
       "4                      cultural espaço sobrevivência   \n",
       "\n",
       "                                   distratores_limpo  \\\n",
       "0  competição econômica exploração intensiva isol...   \n",
       "1  americana americanas ataque atômicas base bomb...   \n",
       "2  comportamental convenção fundamentação inclina...   \n",
       "3  aristocráticos atualização conhecimento costum...   \n",
       "4  ambiental bem econômica educação etnia igualda...   \n",
       "\n",
       "                       enunciado_embeddings_word2vec  \\\n",
       "0  [0.09772969, 0.013166125, -0.032748703, 0.0580...   \n",
       "1  [-0.018823402, 0.07832528, -0.016192827, 0.027...   \n",
       "2  [-0.013062097, 0.038470805, -0.020605344, 0.05...   \n",
       "3  [-0.042833664, -0.01434522, -0.002431296, 0.01...   \n",
       "4  [0.010493249, 0.11095436, 0.017243173, 0.05319...   \n",
       "\n",
       "                        gabarito_embeddings_word2vec  \n",
       "0  [-0.04434625, 0.2105245, -0.18144351, 0.030336...  \n",
       "1  [0.21008351, 0.5248949, 0.03625112, 0.01772637...  \n",
       "2  [0.16413634, -0.035050992, 0.08454134, 0.23227...  \n",
       "3  [0.102909006, 0.06116425, -0.13846825, 0.33034...  \n",
       "4  [0.267512, -0.081234336, 0.08019033, 0.1294613...  "
      ]
     },
     "execution_count": 83,
     "metadata": {},
     "output_type": "execute_result"
    }
   ],
   "source": [
    "# Leitura do dataset com 50 dimensões\n",
    "df = pd.read_pickle('../data/final/enem_data_embeddings_50.pkl')\n",
    "df.head()"
   ]
  },
  {
   "cell_type": "code",
   "execution_count": 84,
   "id": "e70c4e2d",
   "metadata": {},
   "outputs": [
    {
     "name": "stderr",
     "output_type": "stream",
     "text": [
      "/tmp/ipykernel_8377/480942482.py:2: SettingWithCopyWarning: \n",
      "A value is trying to be set on a copy of a slice from a DataFrame\n",
      "\n",
      "See the caveats in the documentation: https://pandas.pydata.org/pandas-docs/stable/user_guide/indexing.html#returning-a-view-versus-a-copy\n",
      "  df_final.rename(columns={'nu_param_B': 'y', 'enunciado_embeddings_word2vec':'X'}, inplace=True)\n"
     ]
    },
    {
     "data": {
      "text/html": [
       "<div>\n",
       "<style scoped>\n",
       "    .dataframe tbody tr th:only-of-type {\n",
       "        vertical-align: middle;\n",
       "    }\n",
       "\n",
       "    .dataframe tbody tr th {\n",
       "        vertical-align: top;\n",
       "    }\n",
       "\n",
       "    .dataframe thead th {\n",
       "        text-align: right;\n",
       "    }\n",
       "</style>\n",
       "<table border=\"1\" class=\"dataframe\">\n",
       "  <thead>\n",
       "    <tr style=\"text-align: right;\">\n",
       "      <th></th>\n",
       "      <th>X</th>\n",
       "      <th>y</th>\n",
       "    </tr>\n",
       "  </thead>\n",
       "  <tbody>\n",
       "    <tr>\n",
       "      <th>0</th>\n",
       "      <td>[0.09772969, 0.013166125, -0.032748703, 0.0580...</td>\n",
       "      <td>0.97831</td>\n",
       "    </tr>\n",
       "    <tr>\n",
       "      <th>1</th>\n",
       "      <td>[-0.018823402, 0.07832528, -0.016192827, 0.027...</td>\n",
       "      <td>0.49169</td>\n",
       "    </tr>\n",
       "    <tr>\n",
       "      <th>2</th>\n",
       "      <td>[-0.013062097, 0.038470805, -0.020605344, 0.05...</td>\n",
       "      <td>3.25992</td>\n",
       "    </tr>\n",
       "    <tr>\n",
       "      <th>3</th>\n",
       "      <td>[-0.042833664, -0.01434522, -0.002431296, 0.01...</td>\n",
       "      <td>0.57925</td>\n",
       "    </tr>\n",
       "    <tr>\n",
       "      <th>4</th>\n",
       "      <td>[0.010493249, 0.11095436, 0.017243173, 0.05319...</td>\n",
       "      <td>0.76307</td>\n",
       "    </tr>\n",
       "  </tbody>\n",
       "</table>\n",
       "</div>"
      ],
      "text/plain": [
       "                                                   X        y\n",
       "0  [0.09772969, 0.013166125, -0.032748703, 0.0580...  0.97831\n",
       "1  [-0.018823402, 0.07832528, -0.016192827, 0.027...  0.49169\n",
       "2  [-0.013062097, 0.038470805, -0.020605344, 0.05...  3.25992\n",
       "3  [-0.042833664, -0.01434522, -0.002431296, 0.01...  0.57925\n",
       "4  [0.010493249, 0.11095436, 0.017243173, 0.05319...  0.76307"
      ]
     },
     "execution_count": 84,
     "metadata": {},
     "output_type": "execute_result"
    }
   ],
   "source": [
    "df_final = df[['enunciado_embeddings_word2vec', 'nu_param_B']]\n",
    "df_final.rename(columns={'nu_param_B': 'y', 'enunciado_embeddings_word2vec':'X'}, inplace=True)\n",
    "df_final.head()"
   ]
  },
  {
   "cell_type": "code",
   "execution_count": 85,
   "id": "6a3e024d",
   "metadata": {},
   "outputs": [],
   "source": [
    "# Removendo observações Nan\n",
    "df_final = df_final[df_final['y'].notna()].reset_index()"
   ]
  },
  {
   "cell_type": "markdown",
   "id": "e4b93838",
   "metadata": {},
   "source": [
    "# Análise de correlação"
   ]
  },
  {
   "cell_type": "code",
   "execution_count": 86,
   "id": "5e123b66",
   "metadata": {},
   "outputs": [
    {
     "data": {
      "text/html": [
       "<div>\n",
       "<style scoped>\n",
       "    .dataframe tbody tr th:only-of-type {\n",
       "        vertical-align: middle;\n",
       "    }\n",
       "\n",
       "    .dataframe tbody tr th {\n",
       "        vertical-align: top;\n",
       "    }\n",
       "\n",
       "    .dataframe thead th {\n",
       "        text-align: right;\n",
       "    }\n",
       "</style>\n",
       "<table border=\"1\" class=\"dataframe\">\n",
       "  <thead>\n",
       "    <tr style=\"text-align: right;\">\n",
       "      <th></th>\n",
       "      <th>X1</th>\n",
       "      <th>X2</th>\n",
       "      <th>X3</th>\n",
       "      <th>X4</th>\n",
       "      <th>X5</th>\n",
       "      <th>X6</th>\n",
       "      <th>X7</th>\n",
       "      <th>X8</th>\n",
       "      <th>X9</th>\n",
       "      <th>X10</th>\n",
       "      <th>...</th>\n",
       "      <th>X41</th>\n",
       "      <th>X42</th>\n",
       "      <th>X43</th>\n",
       "      <th>X44</th>\n",
       "      <th>X45</th>\n",
       "      <th>X46</th>\n",
       "      <th>X47</th>\n",
       "      <th>X48</th>\n",
       "      <th>X49</th>\n",
       "      <th>X50</th>\n",
       "    </tr>\n",
       "  </thead>\n",
       "  <tbody>\n",
       "    <tr>\n",
       "      <th>0</th>\n",
       "      <td>0.097730</td>\n",
       "      <td>0.013166</td>\n",
       "      <td>-0.032749</td>\n",
       "      <td>0.058064</td>\n",
       "      <td>0.066659</td>\n",
       "      <td>0.055518</td>\n",
       "      <td>0.005533</td>\n",
       "      <td>-0.010803</td>\n",
       "      <td>0.124288</td>\n",
       "      <td>-0.010112</td>\n",
       "      <td>...</td>\n",
       "      <td>-0.058407</td>\n",
       "      <td>0.149049</td>\n",
       "      <td>-0.103425</td>\n",
       "      <td>0.085180</td>\n",
       "      <td>0.109060</td>\n",
       "      <td>0.018974</td>\n",
       "      <td>0.037986</td>\n",
       "      <td>0.010234</td>\n",
       "      <td>-0.070827</td>\n",
       "      <td>-0.104570</td>\n",
       "    </tr>\n",
       "    <tr>\n",
       "      <th>1</th>\n",
       "      <td>-0.018823</td>\n",
       "      <td>0.078325</td>\n",
       "      <td>-0.016193</td>\n",
       "      <td>0.027615</td>\n",
       "      <td>0.080563</td>\n",
       "      <td>-0.001443</td>\n",
       "      <td>-0.011481</td>\n",
       "      <td>-0.011694</td>\n",
       "      <td>0.046921</td>\n",
       "      <td>-0.053186</td>\n",
       "      <td>...</td>\n",
       "      <td>0.060602</td>\n",
       "      <td>0.106786</td>\n",
       "      <td>0.061356</td>\n",
       "      <td>0.139279</td>\n",
       "      <td>0.123225</td>\n",
       "      <td>-0.019229</td>\n",
       "      <td>0.167333</td>\n",
       "      <td>0.101951</td>\n",
       "      <td>-0.028866</td>\n",
       "      <td>-0.109328</td>\n",
       "    </tr>\n",
       "    <tr>\n",
       "      <th>2</th>\n",
       "      <td>-0.013062</td>\n",
       "      <td>0.038471</td>\n",
       "      <td>-0.020605</td>\n",
       "      <td>0.051806</td>\n",
       "      <td>0.062729</td>\n",
       "      <td>-0.029429</td>\n",
       "      <td>0.076300</td>\n",
       "      <td>0.081863</td>\n",
       "      <td>0.074962</td>\n",
       "      <td>0.029681</td>\n",
       "      <td>...</td>\n",
       "      <td>0.061806</td>\n",
       "      <td>0.264843</td>\n",
       "      <td>0.080967</td>\n",
       "      <td>0.118467</td>\n",
       "      <td>0.042564</td>\n",
       "      <td>-0.042368</td>\n",
       "      <td>0.108510</td>\n",
       "      <td>0.100451</td>\n",
       "      <td>-0.141360</td>\n",
       "      <td>-0.054252</td>\n",
       "    </tr>\n",
       "    <tr>\n",
       "      <th>3</th>\n",
       "      <td>-0.042834</td>\n",
       "      <td>-0.014345</td>\n",
       "      <td>-0.002431</td>\n",
       "      <td>0.015723</td>\n",
       "      <td>0.100305</td>\n",
       "      <td>0.023464</td>\n",
       "      <td>0.047759</td>\n",
       "      <td>0.088246</td>\n",
       "      <td>0.083725</td>\n",
       "      <td>-0.059424</td>\n",
       "      <td>...</td>\n",
       "      <td>-0.084707</td>\n",
       "      <td>0.104256</td>\n",
       "      <td>0.096123</td>\n",
       "      <td>0.056716</td>\n",
       "      <td>0.125574</td>\n",
       "      <td>-0.014302</td>\n",
       "      <td>0.038790</td>\n",
       "      <td>0.018908</td>\n",
       "      <td>-0.013034</td>\n",
       "      <td>-0.059200</td>\n",
       "    </tr>\n",
       "    <tr>\n",
       "      <th>4</th>\n",
       "      <td>0.010493</td>\n",
       "      <td>0.110954</td>\n",
       "      <td>0.017243</td>\n",
       "      <td>0.053193</td>\n",
       "      <td>0.005365</td>\n",
       "      <td>-0.082108</td>\n",
       "      <td>0.063029</td>\n",
       "      <td>-0.078666</td>\n",
       "      <td>-0.008422</td>\n",
       "      <td>0.028746</td>\n",
       "      <td>...</td>\n",
       "      <td>0.009678</td>\n",
       "      <td>0.141793</td>\n",
       "      <td>0.088591</td>\n",
       "      <td>0.131339</td>\n",
       "      <td>0.022100</td>\n",
       "      <td>0.004114</td>\n",
       "      <td>0.075874</td>\n",
       "      <td>0.088452</td>\n",
       "      <td>-0.058793</td>\n",
       "      <td>-0.005872</td>\n",
       "    </tr>\n",
       "  </tbody>\n",
       "</table>\n",
       "<p>5 rows × 50 columns</p>\n",
       "</div>"
      ],
      "text/plain": [
       "         X1        X2        X3        X4        X5        X6        X7  \\\n",
       "0  0.097730  0.013166 -0.032749  0.058064  0.066659  0.055518  0.005533   \n",
       "1 -0.018823  0.078325 -0.016193  0.027615  0.080563 -0.001443 -0.011481   \n",
       "2 -0.013062  0.038471 -0.020605  0.051806  0.062729 -0.029429  0.076300   \n",
       "3 -0.042834 -0.014345 -0.002431  0.015723  0.100305  0.023464  0.047759   \n",
       "4  0.010493  0.110954  0.017243  0.053193  0.005365 -0.082108  0.063029   \n",
       "\n",
       "         X8        X9       X10  ...       X41       X42       X43       X44  \\\n",
       "0 -0.010803  0.124288 -0.010112  ... -0.058407  0.149049 -0.103425  0.085180   \n",
       "1 -0.011694  0.046921 -0.053186  ...  0.060602  0.106786  0.061356  0.139279   \n",
       "2  0.081863  0.074962  0.029681  ...  0.061806  0.264843  0.080967  0.118467   \n",
       "3  0.088246  0.083725 -0.059424  ... -0.084707  0.104256  0.096123  0.056716   \n",
       "4 -0.078666 -0.008422  0.028746  ...  0.009678  0.141793  0.088591  0.131339   \n",
       "\n",
       "        X45       X46       X47       X48       X49       X50  \n",
       "0  0.109060  0.018974  0.037986  0.010234 -0.070827 -0.104570  \n",
       "1  0.123225 -0.019229  0.167333  0.101951 -0.028866 -0.109328  \n",
       "2  0.042564 -0.042368  0.108510  0.100451 -0.141360 -0.054252  \n",
       "3  0.125574 -0.014302  0.038790  0.018908 -0.013034 -0.059200  \n",
       "4  0.022100  0.004114  0.075874  0.088452 -0.058793 -0.005872  \n",
       "\n",
       "[5 rows x 50 columns]"
      ]
     },
     "execution_count": 86,
     "metadata": {},
     "output_type": "execute_result"
    }
   ],
   "source": [
    "# Explodindo a coluna X em várias colunas\n",
    "df_features = pd.DataFrame(df_final['X'].tolist(), index=df_final.index)\n",
    "\n",
    "df_features.columns = [f'X{i+1}' for i in range(df_features.shape[1])]\n",
    "\n",
    "df_features.head()"
   ]
  },
  {
   "cell_type": "code",
   "execution_count": 16,
   "id": "082df443",
   "metadata": {},
   "outputs": [
    {
     "data": {
      "text/plain": [
       "<Axes: >"
      ]
     },
     "execution_count": 16,
     "metadata": {},
     "output_type": "execute_result"
    },
    {
     "data": {
      "image/png": "[encoded data removed]",
      "text/plain": [
       "<Figure size 640x480 with 2 Axes>"
      ]
     },
     "metadata": {},
     "output_type": "display_data"
    }
   ],
   "source": [
    "sns.heatmap(df_features.corr())"
   ]
  },
  {
   "cell_type": "code",
   "execution_count": 22,
   "id": "1237940f",
   "metadata": {},
   "outputs": [
    {
     "data": {
      "text/plain": [
       "<Axes: >"
      ]
     },
     "execution_count": 22,
     "metadata": {},
     "output_type": "execute_result"
    },
    {
     "data": {
      "image/png": "[encoded data removed]",
      "text/plain": [
       "<Figure size 640x480 with 2 Axes>"
      ]
     },
     "metadata": {},
     "output_type": "display_data"
    }
   ],
   "source": [
    "sns.heatmap(df_features.corr() > 0.7)"
   ]
  },
  {
   "cell_type": "markdown",
   "id": "a31d2243",
   "metadata": {},
   "source": [
    "Como nenhuma correlação alta ou baixa foi encontrada, dar-se-á seguimento das análises com as 50 variáveis originais."
   ]
  },
  {
   "cell_type": "markdown",
   "id": "63c3fed3",
   "metadata": {},
   "source": [
    "# Ridge Regression"
   ]
  },
  {
   "cell_type": "code",
   "execution_count": 89,
   "id": "678138ae",
   "metadata": {},
   "outputs": [],
   "source": [
    "def cross_validate_ridge_rmse(X, y, alphas, cv=5):\n",
    "    kf = KFold(n_splits=cv, shuffle=True, random_state=42)\n",
    "    alpha_rmse = {}\n",
    "\n",
    "    for alpha in alphas:\n",
    "        rmse_list = []\n",
    "\n",
    "        for train_index, val_index in kf.split(X):\n",
    "            # print(train_index)\n",
    "            # print(val_index)\n",
    "            X_train, X_val = X.iloc[train_index], X.iloc[val_index]\n",
    "            # print('hi')\n",
    "            # print(list(train_index))\n",
    "            y_train, y_val = y.iloc[train_index], y.iloc[val_index]\n",
    "\n",
    "            # Adiciona o intercepto\n",
    "            X_train_const = sm.add_constant(X_train)\n",
    "            X_val_const = sm.add_constant(X_val)\n",
    "\n",
    "            # Ajusta o modelo com regularização L2 (Ridge)\n",
    "            model = sm.OLS(y_train, X_train_const)\n",
    "            result = model.fit_regularized(alpha=alpha, L1_wt=0.0)\n",
    "\n",
    "            # Predições\n",
    "            y_pred = np.dot(X_val_const, result.params)\n",
    "\n",
    "            # Calcula o RMSE\n",
    "            rmse = np.sqrt(mean_squared_error(y_val, y_pred))\n",
    "            rmse_list.append(rmse)\n",
    "\n",
    "        # Média dos RMSEs para o alpha atual\n",
    "        alpha_rmse[alpha] = np.mean(rmse_list)\n",
    "\n",
    "    return alpha_rmse\n"
   ]
  },
  {
   "cell_type": "code",
   "execution_count": 99,
   "id": "a99062cc",
   "metadata": {},
   "outputs": [],
   "source": [
    "# Separando os dados\n",
    "X = df_features\n",
    "y = df_final['y']\n",
    "\n",
    "\n",
    "# Aplicando Transformações\n",
    "add_list = [(y.min() * (-1)) + 1] * len(y)\n",
    "y = y + add_list\n",
    "\n",
    "# Aplicando Boxcox\n",
    "y, _ = stats.boxcox(y)\n",
    "y = pd.Series(y)"
   ]
  },
  {
   "cell_type": "code",
   "execution_count": 100,
   "id": "af54dfc8",
   "metadata": {},
   "outputs": [
    {
     "name": "stdout",
     "output_type": "stream",
     "text": [
      "Melhor alpha: 0.009102981779915217\n",
      "RMSE correspondente: 0.47799005456600874\n"
     ]
    }
   ],
   "source": [
    "# Adiciona o intercepto\n",
    "X = sm.add_constant(X)\n",
    "\n",
    "# Definindo uma lista de valores de alpha para testar\n",
    "alphas = np.logspace(-4, 4, 50)\n",
    "\n",
    "# Executando a validação cruzada\n",
    "alpha_rmse = cross_validate_ridge_rmse(X, y, alphas, cv=5)\n",
    "\n",
    "# Encontrando o alpha com o menor RMSE médio\n",
    "best_alpha = min(alpha_rmse, key=alpha_rmse.get)\n",
    "print(f\"Melhor alpha: {best_alpha}\")\n",
    "print(f\"RMSE correspondente: {alpha_rmse[best_alpha]}\")\n"
   ]
  },
  {
   "cell_type": "code",
   "execution_count": 106,
   "id": "ddde926b",
   "metadata": {},
   "outputs": [
    {
     "name": "stdout",
     "output_type": "stream",
     "text": [
      "[ 1.25707121e+00 -1.42655354e-01 -2.59478755e-01 -2.01702013e-01\n",
      "  2.72996336e-05 -1.55147305e-01 -5.69474744e-02 -1.03580406e-01\n",
      "  1.29743705e-01 -1.17004413e-02 -1.68058242e-02  5.72844879e-02\n",
      "  2.87853775e-01  1.99690063e-01  2.51081465e-01 -2.38477482e-02\n",
      "  7.74330956e-03 -2.60615428e-01  1.23398226e-01 -9.09202577e-02\n",
      "  6.63372338e-02 -2.05602199e-01 -4.05279205e-02  7.59542660e-02\n",
      " -5.87839865e-02 -1.69145969e-01  7.18930083e-02 -4.60227875e-01\n",
      " -2.46449484e-01 -8.09568826e-02  1.50454202e-01  2.32715888e-01\n",
      "  8.01975031e-02 -8.35857490e-02 -2.44431650e-01  2.99124339e-01\n",
      " -8.90382304e-02  7.33598206e-02  1.62731303e-01  2.83645583e-01\n",
      "  2.17306309e-01 -1.37642233e-01  4.05099611e-01 -9.34614134e-02\n",
      "  9.37897104e-02  3.80020959e-01 -7.53986819e-02  4.76793981e-02\n",
      "  2.51992589e-01 -1.33532414e-02 -1.51477503e-01]\n"
     ]
    }
   ],
   "source": [
    "# Separando em conjunto de treino e teste\n",
    "X_train, X_test, y_train, y_test = train_test_split(\n",
    "    X, y, test_size=0.3, random_state=42\n",
    ")\n",
    "\n",
    "# Adiciona o intercepto\n",
    "X_train = sm.add_constant(X_train)\n",
    "X_test = sm.add_constant(X_test)\n",
    "\n",
    "# Ajusta o modelo final com o melhor alpha encontrado\n",
    "final_model = sm.OLS(y_train, X_train)\n",
    "final_result = final_model.fit_regularized(alpha=best_alpha, L1_wt=0.0)\n",
    "\n",
    "# Exibe os coeficientes\n",
    "print(final_result.params)"
   ]
  },
  {
   "cell_type": "code",
   "execution_count": 108,
   "id": "3d6e0bad",
   "metadata": {},
   "outputs": [
    {
     "name": "stdout",
     "output_type": "stream",
     "text": [
      "RMSE no conjunto de Treino: 0.44086865153528965\n",
      "RMSE no conjunto de Teste: 0.4953540837547408\n"
     ]
    }
   ],
   "source": [
    "# Para o conjunto de treino\n",
    "y_train_pred = final_result.predict(X_train)\n",
    "\n",
    "# Para o conjunto de teste\n",
    "y_test_pred = final_result.predict(X_test)\n",
    "\n",
    "# Calculando os RMSE\n",
    "rmse_train = root_mean_squared_error(y_train, y_train_pred)\n",
    "rmse_test = root_mean_squared_error(y_test, y_test_pred)\n",
    "\n",
    "print(f'RMSE no conjunto de Treino: {rmse_train}')\n",
    "print(f'RMSE no conjunto de Teste: {rmse_test}')"
   ]
  },
  {
   "cell_type": "code",
   "execution_count": 111,
   "id": "8d3b4063",
   "metadata": {},
   "outputs": [
    {
     "data": {
      "text/plain": [
       "0      1.384018\n",
       "1      1.034893\n",
       "2      2.781651\n",
       "3      1.099655\n",
       "4      1.232730\n",
       "         ...   \n",
       "262    0.996316\n",
       "263    0.847299\n",
       "264    0.744515\n",
       "265    0.721424\n",
       "266    0.481873\n",
       "Length: 267, dtype: float64"
      ]
     },
     "execution_count": 111,
     "metadata": {},
     "output_type": "execute_result"
    }
   ],
   "source": [
    "y"
   ]
  },
  {
   "cell_type": "code",
   "execution_count": 118,
   "id": "9590f88e",
   "metadata": {},
   "outputs": [],
   "source": [
    "pd.concat([df_features, y], axis=1).rename(columns={0:'y'}).to_csv('enem_data_embeddings_50_exploded.csv', index=False)"
   ]
  },
  {
   "cell_type": "markdown",
   "id": "f56de5f0",
   "metadata": {},
   "source": [
    "# Árvore de Regressão"
   ]
  },
  {
   "cell_type": "code",
   "execution_count": null,
   "id": "3b5d2ce3",
   "metadata": {},
   "outputs": [
    {
     "name": "stderr",
     "output_type": "stream",
     "text": [
      "/home/alesouza/.cache/pypoetry/virtualenvs/projeto-enem-YISx0mk8-py3.11/lib/python3.11/site-packages/rpy2/rinterface/__init__.py:1185: UserWarning: Environment variable \"PWD\" redefined by R and overriding existing variable. Current: \"/mnt/c/Users/aleso/AppData/Local/Programs/Microsoft VS Code\", R: \"/home/alesouza/USP/9_semestre/pcd-iii/projeto_enem/enem-embbedings-social-questions/notebooks\"\n",
      "  warnings.warn(\n",
      "/home/alesouza/.cache/pypoetry/virtualenvs/projeto-enem-YISx0mk8-py3.11/lib/python3.11/site-packages/rpy2/rinterface/__init__.py:1185: UserWarning: Environment variable \"LD_LIBRARY_PATH\" redefined by R and overriding existing variable. Current: \"/usr/lib/R/lib:/usr/lib/x86_64-linux-gnu:/usr/lib/jvm/default-java/lib/server\", R: \"/usr/lib/R/lib:/usr/lib/x86_64-linux-gnu:/usr/lib/jvm/default-java/lib/server:/usr/lib/R/lib:/usr/lib/x86_64-linux-gnu:/usr/lib/jvm/default-java/lib/server\"\n",
      "  warnings.warn(\n",
      "/home/alesouza/.cache/pypoetry/virtualenvs/projeto-enem-YISx0mk8-py3.11/lib/python3.11/site-packages/rpy2/rinterface/__init__.py:1185: UserWarning: Environment variable \"R_PAPERSIZE_USER\" redefined by R and overriding existing variable. Current: \"a4\", R: \"letter\"\n",
      "  warnings.warn(\n",
      "/home/alesouza/.cache/pypoetry/virtualenvs/projeto-enem-YISx0mk8-py3.11/lib/python3.11/site-packages/rpy2/rinterface/__init__.py:1185: UserWarning: Environment variable \"R_SESSION_TMPDIR\" redefined by R and overriding existing variable. Current: \"/tmp/RtmpO1g79d\", R: \"/tmp/RtmpSpO2LC\"\n",
      "  warnings.warn(\n"
     ]
    }
   ],
   "source": [
    "# Célula necessária para rodar R no notebook -> dependência necessária: rpy2\n",
    "%load_ext rpy2.ipython"
   ]
  },
  {
   "cell_type": "code",
   "execution_count": 161,
   "id": "56a07867",
   "metadata": {},
   "outputs": [
    {
     "name": "stdout",
     "output_type": "stream",
     "text": [
      "           X1          X2           X3         X4          X5           X6\n",
      "1  0.09772969  0.01316613 -0.032748703 0.05806443 0.066659436  0.055518378\n",
      "2 -0.01882340  0.07832528 -0.016192827 0.02761456 0.080562994 -0.001443487\n",
      "3 -0.01306210  0.03847080 -0.020605344 0.05180575 0.062729254 -0.029428812\n",
      "4 -0.04283366 -0.01434522 -0.002431296 0.01572310 0.100305110  0.023463674\n",
      "5  0.01049325  0.11095436  0.017243173 0.05319270 0.005365026 -0.082108210\n",
      "6  0.04537390  0.08738215  0.032880560 0.02180354 0.056987580 -0.018176196\n",
      "            X7           X8           X9         X10          X11           X12\n",
      "1  0.005533437 -0.010802587  0.124287784 -0.01011208  0.018697912 -0.0003421853\n",
      "2 -0.011481154 -0.011693998  0.046920873 -0.05318647 -0.021356557  0.0619864130\n",
      "3  0.076300030  0.081862830  0.074962385  0.02968106  0.029135782  0.1245678400\n",
      "4  0.047758590  0.088245920  0.083724600 -0.05942424 -0.052274883  0.0051423777\n",
      "5  0.063029320 -0.078666046 -0.008422477  0.02874596  0.004533599  0.0350297760\n",
      "6  0.068393940  0.006121964  0.072588790  0.06805747 -0.112666140 -0.0491859200\n",
      "           X13        X14          X15        X16         X17          X18\n",
      "1  0.004238252 0.17983377  0.019092709 0.10614616  0.04123285 -0.103301470\n",
      "2  0.044205733 0.13708346 -0.019851198 0.08724967 -0.02632695  0.008255580\n",
      "3  0.002202280 0.11644215 -0.001276906 0.15125099 -0.09471791 -0.038001098\n",
      "4 -0.036770110 0.19115682 -0.033029600 0.10925673 -0.04494646  0.006556190\n",
      "5  0.089107650 0.16874940 -0.001141300 0.10236070  0.01597780 -0.075515850\n",
      "6 -0.148637090 0.03537753 -0.086816640 0.16082181  0.01871913  0.007449487\n",
      "         X19        X20         X21        X22         X23        X24\n",
      "1 -0.1605149 0.06874310 -0.09351373 0.20455028 -0.13472112 0.22530968\n",
      "2 -0.2596361 0.10183989 -0.13937433 0.08513920 -0.04367787 0.03735675\n",
      "3 -0.2170617 0.11901770 -0.18652916 0.06852931 -0.04221559 0.13375421\n",
      "4 -0.2291679 0.08795603 -0.19589525 0.15590887 -0.04613994 0.12456752\n",
      "5 -0.2539708 0.10223867 -0.16468868 0.10230966 -0.03126227 0.05214407\n",
      "6 -0.1319393 0.04523314 -0.16154980 0.07721832 -0.21650557 0.26597482\n",
      "          X25         X26          X27         X28           X29        X30\n",
      "1 -0.01748603 -0.06964416  0.057458910 -0.01743829  0.0603518370 0.11682356\n",
      "2  0.04967942 -0.01254884 -0.042414293 -0.03330638  0.1369851000 0.17263825\n",
      "3  0.11074143 -0.05002084 -0.006257215 -0.01574938 -0.0764433150 0.14935952\n",
      "4  0.07875865  0.04305594  0.024925347 -0.02233759  0.0008251877 0.09926031\n",
      "5 -0.01370660  0.00546920  0.030705016  0.02052423  0.0488035000 0.21021023\n",
      "6  0.12910496 -0.20717059  0.028091256  0.05654077  0.1004441700 0.16922265\n",
      "         X31          X32         X33         X34          X35          X36\n",
      "1 0.18720798 -0.036208040 0.138855890 -0.17355396  0.087641320 -0.017007876\n",
      "2 0.07172239 -0.040380630 0.069153690 -0.20133366  0.008956200  0.043646865\n",
      "3 0.06695141 -0.004664157 0.006604898 -0.23917247  0.003594999  0.017618753\n",
      "4 0.18622200 -0.152768250 0.099025436 -0.12856800  0.036570597  0.006724946\n",
      "5 0.17984927 -0.106297270 0.073753210 -0.12926376  0.022834500 -0.021796001\n",
      "6 0.09227441 -0.020658879 0.047153287 -0.05093869 -0.052206386  0.117698275\n",
      "         X37         X38          X39          X40          X41       X42\n",
      "1 0.15299879 -0.18585967 -0.070672080  0.033274803 -0.058407247 0.1490490\n",
      "2 0.07120423 -0.09117255  0.006620933 -0.101427734  0.060602000 0.1067865\n",
      "3 0.04220253 -0.03937947  0.041070938  0.005283533  0.061806023 0.2648430\n",
      "4 0.09649389 -0.13656989 -0.043952540 -0.016044920 -0.084706950 0.1042557\n",
      "5 0.01550539 -0.05768930  0.025580450 -0.049230250  0.009678174 0.1417929\n",
      "6 0.07298403 -0.04490586 -0.335241020  0.025139445  0.089758955 0.2146062\n",
      "          X43        X44         X45          X46        X47         X48\n",
      "1 -0.10342539 0.08518002 0.109059684  0.018974204 0.03798588  0.01023417\n",
      "2  0.06135638 0.13927872 0.123224540 -0.019229263 0.16733308  0.10195113\n",
      "3  0.08096668 0.11846737 0.042563938 -0.042368470 0.10851039  0.10045138\n",
      "4  0.09612259 0.05671584 0.125574380 -0.014301595 0.03878992  0.01890836\n",
      "5  0.08859105 0.13133890 0.022100348  0.004114224 0.07587424  0.08845159\n",
      "6  0.01670039 0.13538912 0.003036722 -0.009998553 0.05624574 -0.09369469\n",
      "          X49          X50        y\n",
      "1 -0.07082652 -0.104570370 1.384018\n",
      "2 -0.02886627 -0.109327600 1.034893\n",
      "3 -0.14135996 -0.054252163 2.781651\n",
      "4 -0.01303365 -0.059199810 1.099655\n",
      "5 -0.05879335 -0.005871875 1.232730\n",
      "6 -0.17414905 -0.074719430 1.217228\n"
     ]
    }
   ],
   "source": [
    "%%R \n",
    "\n",
    "# Lendo o dataset\n",
    "df = read.csv('../data/final/enem_data_embeddings_50_exploded.csv')\n",
    "head(df)"
   ]
  },
  {
   "cell_type": "code",
   "execution_count": 143,
   "id": "4c945a29",
   "metadata": {},
   "outputs": [],
   "source": [
    "%%R\n",
    "\n",
    "# Importando pacote necessário\n",
    "library(tree)\n",
    "\n",
    "# Inicializando uma seed\n",
    "set.seed(42)"
   ]
  },
  {
   "cell_type": "code",
   "execution_count": 144,
   "id": "a261dfd0",
   "metadata": {},
   "outputs": [],
   "source": [
    "%%R\n",
    "\n",
    "# Porcentagem do conjunto de teste\n",
    "alpha = 0.7\n",
    "inTrain = sample(1:nrow(df), alpha * nrow(df))\n",
    "\n",
    "# Dividindo os conjuntos\n",
    "train.set = df[inTrain,]\n",
    "test.set = df[-inTrain,]"
   ]
  },
  {
   "cell_type": "code",
   "execution_count": 146,
   "id": "b76843d3",
   "metadata": {},
   "outputs": [
    {
     "name": "stdout",
     "output_type": "stream",
     "text": [
      "node), split, n, deviance, yval\n",
      "      * denotes terminal node\n",
      "\n"
     ]
    },
    {
     "name": "stdout",
     "output_type": "stream",
     "text": [
      "  1) root 186 46.23000 1.4400  \n",
      "    2) X49 < -0.158059 21  3.05100 1.0120  \n",
      "      4) X41 < 0.0499021 10  0.55110 1.2580 *\n",
      "      5) X41 > 0.0499021 11  1.35000 0.7891  \n",
      "       10) X9 < 0.0652442 5  0.40400 0.4973 *\n",
      "       11) X9 > 0.0652442 6  0.16540 1.0320 *\n",
      "    3) X49 > -0.158059 165 38.85000 1.4940  \n",
      "      6) X17 < -0.0228147 96 24.88000 1.6130  \n",
      "       12) X42 < 0.23317 86 19.85000 1.5550  \n",
      "         24) X45 < 0.119825 46 11.05000 1.7060  \n",
      "           48) X2 < 0.0511796 20  2.94000 1.9660  \n",
      "             96) X38 < -0.0967825 6  0.69300 2.3380 *\n",
      "             97) X38 > -0.0967825 14  1.05700 1.8060  \n",
      "              194) X32 < -0.055316 7  0.07767 2.0220 *\n",
      "              195) X32 > -0.055316 7  0.32730 1.5900 *\n",
      "           49) X2 > 0.0511796 26  5.71800 1.5060  \n",
      "             98) X23 < -0.125038 5  1.12000 0.9593 *\n",
      "             99) X23 > -0.125038 21  2.74800 1.6360  \n",
      "              198) X34 < -0.16229 9  1.11700 1.8870 *\n",
      "              199) X34 > -0.16229 12  0.64370 1.4480 *\n",
      "         25) X45 > 0.119825 40  6.55600 1.3820  \n",
      "           50) X18 < -0.0200579 23  2.27900 1.5870  \n",
      "            100) X43 < 0.0155663 17  1.29900 1.4900  \n",
      "              200) X43 < -0.00924775 9  0.41940 1.6520 *\n",
      "              201) X43 > -0.00924775 8  0.38130 1.3090 *\n",
      "            101) X43 > 0.0155663 6  0.36880 1.8620 *\n",
      "           51) X18 > -0.0200579 17  1.99600 1.1040  \n",
      "            102) X37 < 0.0956049 12  0.96940 0.9690 *\n",
      "            103) X37 > 0.0956049 5  0.28080 1.4290 *\n",
      "       13) X42 > 0.23317 10  2.26000 2.1120  \n",
      "         26) X24 < 0.146158 5  0.96540 2.4120 *\n",
      "         27) X24 > 0.146158 5  0.39210 1.8110 *\n",
      "      7) X17 > -0.0228147 69 10.74000 1.3290  \n",
      "       14) X21 < -0.0965845 25  2.47700 1.5400  \n",
      "         28) X39 < -0.0808509 7  0.36900 1.2440 *\n",
      "         29) X39 > -0.0808509 18  1.25600 1.6550  \n",
      "           58) X49 < -0.0910179 10  0.41080 1.8380 *\n",
      "           59) X49 > -0.0910179 8  0.08909 1.4260 *\n",
      "       15) X21 > -0.0965845 44  6.52600 1.2100  \n",
      "         30) X14 < 0.162459 38  4.53600 1.2750  \n",
      "           60) X10 < 0.0864437 32  3.22300 1.3350  \n",
      "            120) X41 < 0.0177876 13  0.55630 1.1370 *\n",
      "            121) X41 > 0.0177876 19  1.80300 1.4710  \n",
      "              242) X46 < 0.0743528 10  0.57430 1.6850 *\n",
      "              243) X46 > 0.0743528 9  0.26140 1.2340 *\n",
      "           61) X10 > 0.0864437 6  0.57140 0.9525 *\n",
      "         31) X14 > 0.162459 6  0.80600 0.7969 *\n"
     ]
    }
   ],
   "source": [
    "%%R\n",
    "\n",
    "# Treinando o modelo com o conjunto de treino\n",
    "df.model = tree(y ~ ., data = train.set)\n",
    "df.model"
   ]
  },
  {
   "cell_type": "code",
   "execution_count": 147,
   "id": "2a281b9a",
   "metadata": {},
   "outputs": [
    {
     "name": "stdout",
     "output_type": "stream",
     "text": [
      "\n",
      "Regression tree:\n",
      "tree(formula = y ~ ., data = train.set)\n",
      "Variables actually used in tree construction:\n",
      " [1] \"X49\" \"X41\" \"X9\"  \"X17\" \"X42\" \"X45\" \"X2\"  \"X38\" \"X32\" \"X23\" \"X34\" \"X18\"\n",
      "[13] \"X43\" \"X37\" \"X24\" \"X21\" \"X39\" \"X14\" \"X10\" \"X46\"\n",
      "Number of terminal nodes:  24 \n",
      "Residual mean deviance:  0.07725 = 12.51 / 162 \n",
      "Distribution of residuals:\n",
      "     Min.   1st Qu.    Median      Mean   3rd Qu.      Max. \n",
      "-0.855000 -0.155700  0.002073  0.000000  0.164700  0.587200 \n"
     ]
    }
   ],
   "source": [
    "%%R \n",
    "\n",
    "summary(df.model)"
   ]
  },
  {
   "cell_type": "code",
   "execution_count": 149,
   "id": "81bf5e8e",
   "metadata": {},
   "outputs": [
    {
     "data": {
      "image/png": "[encoded data removed]",
      "text/plain": [
       "<IPython.core.display.Image object>"
      ]
     },
     "metadata": {},
     "output_type": "display_data"
    }
   ],
   "source": [
    "%%R \n",
    "\n",
    "# Utilizando validação cruzada para encontrar a melhor árvore\n",
    "cv.model = cv.tree(df.model)\n",
    "plot(cv.model); grid()"
   ]
  },
  {
   "cell_type": "code",
   "execution_count": 150,
   "id": "dcb543ed",
   "metadata": {},
   "outputs": [
    {
     "name": "stdout",
     "output_type": "stream",
     "text": [
      "[1] 1\n"
     ]
    }
   ],
   "source": [
    "%%R\n",
    "best.size = cv.model$size[which(cv.model$dev == min(cv.model$dev))]\n",
    "best.size"
   ]
  },
  {
   "cell_type": "code",
   "execution_count": 157,
   "id": "f80a08de",
   "metadata": {},
   "outputs": [
    {
     "name": "stdout",
     "output_type": "stream",
     "text": [
      "\n",
      "Regression tree:\n",
      "snip.tree(tree = df.model, nodes = 2:3)\n",
      "Variables actually used in tree construction:\n",
      "[1] \"X49\"\n",
      "Number of terminal nodes:  2 \n",
      "Residual mean deviance:  0.2277 = 41.9 / 184 \n",
      "Distribution of residuals:\n",
      "     Min.   1st Qu.    Median      Mean   3rd Qu.      Max. \n",
      "-1.390000 -0.293900  0.005155  0.000000  0.291500  1.428000 \n"
     ]
    }
   ],
   "source": [
    "%%R \n",
    "cv.model.pruned = prune.tree(df.model, best=2)\n",
    "summary(cv.model.pruned)"
   ]
  },
  {
   "cell_type": "markdown",
   "id": "36a32108",
   "metadata": {},
   "source": [
    "**Métricas da Árvore resultante da validação cruzada**"
   ]
  },
  {
   "cell_type": "code",
   "execution_count": 158,
   "id": "23d9e3d3",
   "metadata": {},
   "outputs": [
    {
     "name": "stdout",
     "output_type": "stream",
     "text": [
      "RMSE no conjunto de treinamento: 0.4746 \n",
      "RMSE no conjunto de teste: 0.455 \n"
     ]
    }
   ],
   "source": [
    "%%R\n",
    "library(Metrics)\n",
    "\n",
    "# Previsões no conjunto de treinamento\n",
    "pred_train <- predict(cv.model.pruned, newdata = train.set)\n",
    "\n",
    "# Previsões no conjunto de teste\n",
    "pred_test <- predict(cv.model.pruned, newdata = test.set)\n",
    "\n",
    "# Calcular o RMSE para os conjuntos de treinamento e teste\n",
    "rmse_train <- rmse(train.set$y, pred_train)\n",
    "rmse_test <- rmse(test.set$y, pred_test)\n",
    "\n",
    "# Exibir os resultados\n",
    "cat(\"RMSE no conjunto de treinamento:\", round(rmse_train, 4), \"\\n\")\n",
    "cat(\"RMSE no conjunto de teste:\", round(rmse_test, 4), \"\\n\")"
   ]
  },
  {
   "cell_type": "markdown",
   "id": "0542a131",
   "metadata": {},
   "source": [
    "**Métricas da Árvore calculada inicialmente**"
   ]
  },
  {
   "cell_type": "code",
   "execution_count": 160,
   "id": "3b79ca6d",
   "metadata": {},
   "outputs": [
    {
     "name": "stdout",
     "output_type": "stream",
     "text": [
      "RMSE no conjunto de treinamento: 0.2594 \n",
      "RMSE no conjunto de teste: 0.5772 \n"
     ]
    }
   ],
   "source": [
    "%%R\n",
    "# Previsões no conjunto de treinamento\n",
    "pred_train <- predict(df.model, newdata = train.set)\n",
    "\n",
    "# Previsões no conjunto de teste\n",
    "pred_test <- predict(df.model, newdata = test.set)\n",
    "\n",
    "# Calcular o RMSE para os conjuntos de treinamento e teste\n",
    "rmse_train <- rmse(train.set$y, pred_train)\n",
    "rmse_test <- rmse(test.set$y, pred_test)\n",
    "\n",
    "# Exibir os resultados\n",
    "cat(\"RMSE no conjunto de treinamento:\", round(rmse_train, 4), \"\\n\")\n",
    "cat(\"RMSE no conjunto de teste:\", round(rmse_test, 4), \"\\n\")"
   ]
  }
 ],
 "metadata": {
  "kernelspec": {
   "display_name": "projeto-enem-YISx0mk8-py3.11",
   "language": "python",
   "name": "python3"
  },
  "language_info": {
   "codemirror_mode": {
    "name": "ipython",
    "version": 3
   },
   "file_extension": ".py",
   "mimetype": "text/x-python",
   "name": "python",
   "nbconvert_exporter": "python",
   "pygments_lexer": "ipython3",
   "version": "3.11.2"
  }
 },
 "nbformat": 4,
 "nbformat_minor": 5
}
