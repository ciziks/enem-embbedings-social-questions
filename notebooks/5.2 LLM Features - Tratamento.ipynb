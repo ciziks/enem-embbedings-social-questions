{
 "cells": [
  {
   "cell_type": "markdown",
   "id": "de806674-5185-42da-84dd-0d84d92260ea",
   "metadata": {},
   "source": [
    "# 5.2. Tratando as *Features* extraídas\n",
    "\n",
    "* **Input**: Dados com as respostas de LLM não tratadas\n",
    "\n",
    "* **Output**: Respostas de LLM tratas + variável com True/False da alternativa"
   ]
  },
  {
   "cell_type": "markdown",
   "id": "a5f13019-076d-41f2-85bd-87e3592bd790",
   "metadata": {},
   "source": [
    "## 5.2.1. Extração da tabela original"
   ]
  },
  {
   "cell_type": "code",
   "execution_count": 2,
   "id": "f34063d2",
   "metadata": {},
   "outputs": [],
   "source": [
    "# Importando Dependências\n",
    "import pandas as pd\n",
    "import numpy as np\n",
    "from scipy import stats\n",
    "import statsmodels.api as sm"
   ]
  },
  {
   "cell_type": "code",
   "execution_count": 3,
   "id": "4a5ccdb4",
   "metadata": {},
   "outputs": [
    {
     "data": {
      "text/html": [
       "<div>\n",
       "<style scoped>\n",
       "    .dataframe tbody tr th:only-of-type {\n",
       "        vertical-align: middle;\n",
       "    }\n",
       "\n",
       "    .dataframe tbody tr th {\n",
       "        vertical-align: top;\n",
       "    }\n",
       "\n",
       "    .dataframe thead th {\n",
       "        text-align: right;\n",
       "    }\n",
       "</style>\n",
       "<table border=\"1\" class=\"dataframe\">\n",
       "  <thead>\n",
       "    <tr style=\"text-align: right;\">\n",
       "      <th></th>\n",
       "      <th>numero_questao</th>\n",
       "      <th>gabarito</th>\n",
       "      <th>NU_PARAM_A</th>\n",
       "      <th>nu_param_B</th>\n",
       "      <th>NU_PARAM_C</th>\n",
       "      <th>ANO</th>\n",
       "      <th>enunciado</th>\n",
       "      <th>alternativas</th>\n",
       "      <th>gabarito_texto</th>\n",
       "      <th>distratores</th>\n",
       "      <th>...</th>\n",
       "      <th>distratores_embbedings_word2vec_100</th>\n",
       "      <th>similaridade_enunciado_gabarito_100</th>\n",
       "      <th>similaridade_enunciado_distratores_100</th>\n",
       "      <th>similaridade_gabarito_distratores_100</th>\n",
       "      <th>enunciado_embbedings_word2vec_50</th>\n",
       "      <th>gabarito_embbedings_word2vec_50</th>\n",
       "      <th>distratores_embbedings_word2vec_50</th>\n",
       "      <th>similaridade_enunciado_gabarito_50</th>\n",
       "      <th>similaridade_enunciado_distratores_50</th>\n",
       "      <th>similaridade_gabarito_distratores_50</th>\n",
       "    </tr>\n",
       "  </thead>\n",
       "  <tbody>\n",
       "    <tr>\n",
       "      <th>0</th>\n",
       "      <td>1</td>\n",
       "      <td>C</td>\n",
       "      <td>3.43894</td>\n",
       "      <td>0.97831</td>\n",
       "      <td>0.10855</td>\n",
       "      <td>2017</td>\n",
       "      <td>No império africano do Mali, no século XIV, To...</td>\n",
       "      <td>A:  isolamento geográﬁco do Saara ocidental; B...</td>\n",
       "      <td>posição relativa nas redes de circulação</td>\n",
       "      <td>isolamento geográﬁco do Saara ocidental; explo...</td>\n",
       "      <td>...</td>\n",
       "      <td>[0.041403063, -0.019931864, 0.13105607, -0.080...</td>\n",
       "      <td>0.236482</td>\n",
       "      <td>0.699529</td>\n",
       "      <td>0.379381</td>\n",
       "      <td>[0.09772969, 0.013166125, -0.032748703, 0.0580...</td>\n",
       "      <td>[-0.04434625, 0.2105245, -0.18144351, 0.030336...</td>\n",
       "      <td>[0.12940213, 0.22066694, 0.0586984, 0.03139533...</td>\n",
       "      <td>0.251504</td>\n",
       "      <td>0.736054</td>\n",
       "      <td>0.426387</td>\n",
       "    </tr>\n",
       "    <tr>\n",
       "      <th>1</th>\n",
       "      <td>2</td>\n",
       "      <td>D</td>\n",
       "      <td>3.00837</td>\n",
       "      <td>0.49169</td>\n",
       "      <td>0.13877</td>\n",
       "      <td>2017</td>\n",
       "      <td>Após a Declaração Universal dos Direitos Human...</td>\n",
       "      <td>A:  ataque feito pelos japoneses à base milita...</td>\n",
       "      <td>execução de judeus e eslavos presos em guetos ...</td>\n",
       "      <td>ataque feito pelos japoneses à base militar am...</td>\n",
       "      <td>...</td>\n",
       "      <td>[-0.008315361, 0.010459961, 0.008144858, 0.036...</td>\n",
       "      <td>0.517151</td>\n",
       "      <td>0.449300</td>\n",
       "      <td>0.560128</td>\n",
       "      <td>[-0.018823402, 0.07832528, -0.016192827, 0.027...</td>\n",
       "      <td>[0.21008351, 0.5248949, 0.03625112, 0.01772637...</td>\n",
       "      <td>[0.078055575, 0.19092263, -0.0076030395, -0.03...</td>\n",
       "      <td>0.634785</td>\n",
       "      <td>0.504648</td>\n",
       "      <td>0.587013</td>\n",
       "    </tr>\n",
       "    <tr>\n",
       "      <th>2</th>\n",
       "      <td>3</td>\n",
       "      <td>D</td>\n",
       "      <td>0.60432</td>\n",
       "      <td>3.25992</td>\n",
       "      <td>0.08798</td>\n",
       "      <td>2017</td>\n",
       "      <td>A moralidade, Bentham exortava, não é uma ques...</td>\n",
       "      <td>A:  fundamentação cientíﬁca de viés positivist...</td>\n",
       "      <td>racionalidade de caráter pragmático</td>\n",
       "      <td>fundamentação cientíﬁca de viés positivista; c...</td>\n",
       "      <td>...</td>\n",
       "      <td>[0.2935421, -0.019240078, 0.0034812312, 0.0143...</td>\n",
       "      <td>0.546526</td>\n",
       "      <td>0.564335</td>\n",
       "      <td>0.681273</td>\n",
       "      <td>[-0.013062097, 0.038470805, -0.020605344, 0.05...</td>\n",
       "      <td>[0.16413634, -0.035050992, 0.08454134, 0.23227...</td>\n",
       "      <td>[0.1313074, 0.058539692, 0.0961813, 0.17813754...</td>\n",
       "      <td>0.655402</td>\n",
       "      <td>0.634760</td>\n",
       "      <td>0.763059</td>\n",
       "    </tr>\n",
       "    <tr>\n",
       "      <th>3</th>\n",
       "      <td>4</td>\n",
       "      <td>E</td>\n",
       "      <td>1.85031</td>\n",
       "      <td>0.57925</td>\n",
       "      <td>0.11344</td>\n",
       "      <td>2017</td>\n",
       "      <td>Fala-se muito nos dias de hoje em direitos do ...</td>\n",
       "      <td>A: modernização da educação escolar; B: atuali...</td>\n",
       "      <td>universalização do princípio da igualdade civil</td>\n",
       "      <td>modernização da educação escolar; atualização ...</td>\n",
       "      <td>...</td>\n",
       "      <td>[0.05247575, 0.061523248, 0.010398333, 0.12163...</td>\n",
       "      <td>0.382210</td>\n",
       "      <td>0.558623</td>\n",
       "      <td>0.591672</td>\n",
       "      <td>[-0.042833664, -0.01434522, -0.002431296, 0.01...</td>\n",
       "      <td>[0.102909006, 0.06116425, -0.13846825, 0.33034...</td>\n",
       "      <td>[0.11364358, 0.071867414, 0.046681672, 0.18046...</td>\n",
       "      <td>0.485125</td>\n",
       "      <td>0.628863</td>\n",
       "      <td>0.766145</td>\n",
       "    </tr>\n",
       "    <tr>\n",
       "      <th>4</th>\n",
       "      <td>5</td>\n",
       "      <td>C</td>\n",
       "      <td>2.46290</td>\n",
       "      <td>0.76307</td>\n",
       "      <td>0.17672</td>\n",
       "      <td>2017</td>\n",
       "      <td>Na Constituição da República Federativa do Bra...</td>\n",
       "      <td>A:  etnia e miscigenação racial; B:  sociedade...</td>\n",
       "      <td>espaço e sobrevivência cultural</td>\n",
       "      <td>etnia e miscigenação racial; sociedade e igual...</td>\n",
       "      <td>...</td>\n",
       "      <td>[0.13021359, 0.0043819174, -0.019453753, 0.061...</td>\n",
       "      <td>0.435788</td>\n",
       "      <td>0.628210</td>\n",
       "      <td>0.611719</td>\n",
       "      <td>[0.010493249, 0.11095436, 0.017243173, 0.05319...</td>\n",
       "      <td>[0.267512, -0.081234336, 0.08019033, 0.1294613...</td>\n",
       "      <td>[0.13863416, 0.16260158, -0.0043905806, 0.2472...</td>\n",
       "      <td>0.559584</td>\n",
       "      <td>0.707497</td>\n",
       "      <td>0.692311</td>\n",
       "    </tr>\n",
       "  </tbody>\n",
       "</table>\n",
       "<p>5 rows × 32 columns</p>\n",
       "</div>"
      ],
      "text/plain": [
       "   numero_questao gabarito  NU_PARAM_A  nu_param_B  NU_PARAM_C   ANO  \\\n",
       "0               1        C     3.43894     0.97831     0.10855  2017   \n",
       "1               2        D     3.00837     0.49169     0.13877  2017   \n",
       "2               3        D     0.60432     3.25992     0.08798  2017   \n",
       "3               4        E     1.85031     0.57925     0.11344  2017   \n",
       "4               5        C     2.46290     0.76307     0.17672  2017   \n",
       "\n",
       "                                           enunciado  \\\n",
       "0  No império africano do Mali, no século XIV, To...   \n",
       "1  Após a Declaração Universal dos Direitos Human...   \n",
       "2  A moralidade, Bentham exortava, não é uma ques...   \n",
       "3  Fala-se muito nos dias de hoje em direitos do ...   \n",
       "4  Na Constituição da República Federativa do Bra...   \n",
       "\n",
       "                                        alternativas  \\\n",
       "0  A:  isolamento geográﬁco do Saara ocidental; B...   \n",
       "1  A:  ataque feito pelos japoneses à base milita...   \n",
       "2  A:  fundamentação cientíﬁca de viés positivist...   \n",
       "3  A: modernização da educação escolar; B: atuali...   \n",
       "4  A:  etnia e miscigenação racial; B:  sociedade...   \n",
       "\n",
       "                                      gabarito_texto  \\\n",
       "0           posição relativa nas redes de circulação   \n",
       "1  execução de judeus e eslavos presos em guetos ...   \n",
       "2                racionalidade de caráter pragmático   \n",
       "3    universalização do princípio da igualdade civil   \n",
       "4                    espaço e sobrevivência cultural   \n",
       "\n",
       "                                         distratores  ...  \\\n",
       "0  isolamento geográﬁco do Saara ocidental; explo...  ...   \n",
       "1  ataque feito pelos japoneses à base militar am...  ...   \n",
       "2  fundamentação cientíﬁca de viés positivista; c...  ...   \n",
       "3  modernização da educação escolar; atualização ...  ...   \n",
       "4  etnia e miscigenação racial; sociedade e igual...  ...   \n",
       "\n",
       "                 distratores_embbedings_word2vec_100  \\\n",
       "0  [0.041403063, -0.019931864, 0.13105607, -0.080...   \n",
       "1  [-0.008315361, 0.010459961, 0.008144858, 0.036...   \n",
       "2  [0.2935421, -0.019240078, 0.0034812312, 0.0143...   \n",
       "3  [0.05247575, 0.061523248, 0.010398333, 0.12163...   \n",
       "4  [0.13021359, 0.0043819174, -0.019453753, 0.061...   \n",
       "\n",
       "  similaridade_enunciado_gabarito_100 similaridade_enunciado_distratores_100  \\\n",
       "0                            0.236482                               0.699529   \n",
       "1                            0.517151                               0.449300   \n",
       "2                            0.546526                               0.564335   \n",
       "3                            0.382210                               0.558623   \n",
       "4                            0.435788                               0.628210   \n",
       "\n",
       "  similaridade_gabarito_distratores_100  \\\n",
       "0                              0.379381   \n",
       "1                              0.560128   \n",
       "2                              0.681273   \n",
       "3                              0.591672   \n",
       "4                              0.611719   \n",
       "\n",
       "                    enunciado_embbedings_word2vec_50  \\\n",
       "0  [0.09772969, 0.013166125, -0.032748703, 0.0580...   \n",
       "1  [-0.018823402, 0.07832528, -0.016192827, 0.027...   \n",
       "2  [-0.013062097, 0.038470805, -0.020605344, 0.05...   \n",
       "3  [-0.042833664, -0.01434522, -0.002431296, 0.01...   \n",
       "4  [0.010493249, 0.11095436, 0.017243173, 0.05319...   \n",
       "\n",
       "                     gabarito_embbedings_word2vec_50  \\\n",
       "0  [-0.04434625, 0.2105245, -0.18144351, 0.030336...   \n",
       "1  [0.21008351, 0.5248949, 0.03625112, 0.01772637...   \n",
       "2  [0.16413634, -0.035050992, 0.08454134, 0.23227...   \n",
       "3  [0.102909006, 0.06116425, -0.13846825, 0.33034...   \n",
       "4  [0.267512, -0.081234336, 0.08019033, 0.1294613...   \n",
       "\n",
       "                  distratores_embbedings_word2vec_50  \\\n",
       "0  [0.12940213, 0.22066694, 0.0586984, 0.03139533...   \n",
       "1  [0.078055575, 0.19092263, -0.0076030395, -0.03...   \n",
       "2  [0.1313074, 0.058539692, 0.0961813, 0.17813754...   \n",
       "3  [0.11364358, 0.071867414, 0.046681672, 0.18046...   \n",
       "4  [0.13863416, 0.16260158, -0.0043905806, 0.2472...   \n",
       "\n",
       "   similaridade_enunciado_gabarito_50  similaridade_enunciado_distratores_50  \\\n",
       "0                            0.251504                               0.736054   \n",
       "1                            0.634785                               0.504648   \n",
       "2                            0.655402                               0.634760   \n",
       "3                            0.485125                               0.628863   \n",
       "4                            0.559584                               0.707497   \n",
       "\n",
       "   similaridade_gabarito_distratores_50  \n",
       "0                              0.426387  \n",
       "1                              0.587013  \n",
       "2                              0.763059  \n",
       "3                              0.766145  \n",
       "4                              0.692311  \n",
       "\n",
       "[5 rows x 32 columns]"
      ]
     },
     "execution_count": 3,
     "metadata": {},
     "output_type": "execute_result"
    }
   ],
   "source": [
    "# Leitura dos dados\n",
    "enem_data = pd.read_pickle(\"../data/final/enem_data_embeddings.pkl\")\n",
    "enem_data.head()"
   ]
  },
  {
   "cell_type": "markdown",
   "id": "f0d63718-33c3-4974-a3bd-5d5adfe1cc30",
   "metadata": {},
   "source": [
    "## 5.2.2. Extração das respostas do Llama"
   ]
  },
  {
   "cell_type": "code",
   "execution_count": 4,
   "id": "2cde3fcf",
   "metadata": {},
   "outputs": [
    {
     "data": {
      "text/html": [
       "<div>\n",
       "<style scoped>\n",
       "    .dataframe tbody tr th:only-of-type {\n",
       "        vertical-align: middle;\n",
       "    }\n",
       "\n",
       "    .dataframe tbody tr th {\n",
       "        vertical-align: top;\n",
       "    }\n",
       "\n",
       "    .dataframe thead th {\n",
       "        text-align: right;\n",
       "    }\n",
       "</style>\n",
       "<table border=\"1\" class=\"dataframe\">\n",
       "  <thead>\n",
       "    <tr style=\"text-align: right;\">\n",
       "      <th></th>\n",
       "      <th>Unnamed: 0</th>\n",
       "      <th>numero_questao</th>\n",
       "      <th>gabarito</th>\n",
       "      <th>NU_PARAM_A</th>\n",
       "      <th>nu_param_B</th>\n",
       "      <th>NU_PARAM_C</th>\n",
       "      <th>ANO</th>\n",
       "      <th>enunciado</th>\n",
       "      <th>alternativas</th>\n",
       "      <th>gabarito_texto</th>\n",
       "      <th>distratores</th>\n",
       "      <th>enunciado_limpo</th>\n",
       "      <th>alternativas_limpo</th>\n",
       "      <th>gabarito_texto_limpo</th>\n",
       "      <th>distratores_limpo</th>\n",
       "      <th>enunciado_embeddings_word2vec</th>\n",
       "      <th>gabarito_embeddings_word2vec</th>\n",
       "      <th>resposta_llamma</th>\n",
       "      <th>acerto_llamma</th>\n",
       "    </tr>\n",
       "  </thead>\n",
       "  <tbody>\n",
       "    <tr>\n",
       "      <th>0</th>\n",
       "      <td>0</td>\n",
       "      <td>1</td>\n",
       "      <td>C</td>\n",
       "      <td>3.43894</td>\n",
       "      <td>0.97831</td>\n",
       "      <td>0.10855</td>\n",
       "      <td>2017</td>\n",
       "      <td>No império africano do Mali, no século XIV, To...</td>\n",
       "      <td>A:  isolamento geográﬁco do Saara ocidental; B...</td>\n",
       "      <td>posição relativa nas redes de circulação</td>\n",
       "      <td>isolamento geográﬁco do Saara ocidental; explo...</td>\n",
       "      <td>africano além astronomia centro cidade comérci...</td>\n",
       "      <td>A: isolamento ocidental saara; B: exploração i...</td>\n",
       "      <td>circulação posição redes relativa</td>\n",
       "      <td>competição econômica exploração intensiva isol...</td>\n",
       "      <td>[ 6.11259453e-02 -4.80512679e-02 -5.90382852e-...</td>\n",
       "      <td>[ 0.0875405   0.14673425  0.17936975 -0.033228...</td>\n",
       "      <td>C</td>\n",
       "      <td>True</td>\n",
       "    </tr>\n",
       "    <tr>\n",
       "      <th>1</th>\n",
       "      <td>1</td>\n",
       "      <td>2</td>\n",
       "      <td>D</td>\n",
       "      <td>3.00837</td>\n",
       "      <td>0.49169</td>\n",
       "      <td>0.13877</td>\n",
       "      <td>2017</td>\n",
       "      <td>Após a Declaração Universal dos Direitos Human...</td>\n",
       "      <td>A:  ataque feito pelos japoneses à base milita...</td>\n",
       "      <td>execução de judeus e eslavos presos em guetos ...</td>\n",
       "      <td>ataque feito pelos japoneses à base militar am...</td>\n",
       "      <td>aberrações acontecimentos após assumida branco...</td>\n",
       "      <td>A: americana ataque base feito harbor japonese...</td>\n",
       "      <td>campos concentração eslavos execução guetos ju...</td>\n",
       "      <td>americana americanas ataque atômicas base bomb...</td>\n",
       "      <td>[ 9.6771289e-03  1.1954352e-01  2.1252066e-02 ...</td>\n",
       "      <td>[ 1.61291629e-01  2.37609118e-01  8.02588761e-...</td>\n",
       "      <td>D</td>\n",
       "      <td>True</td>\n",
       "    </tr>\n",
       "    <tr>\n",
       "      <th>2</th>\n",
       "      <td>2</td>\n",
       "      <td>3</td>\n",
       "      <td>D</td>\n",
       "      <td>0.60432</td>\n",
       "      <td>3.25992</td>\n",
       "      <td>0.08798</td>\n",
       "      <td>2017</td>\n",
       "      <td>A moralidade, Bentham exortava, não é uma ques...</td>\n",
       "      <td>A:  fundamentação cientíﬁca de viés positivist...</td>\n",
       "      <td>racionalidade de caráter pragmático</td>\n",
       "      <td>fundamentação cientíﬁca de viés positivista; c...</td>\n",
       "      <td>abstratas afetados agradar ação bentham condut...</td>\n",
       "      <td>A: fundamentação positivista viés; B: convençã...</td>\n",
       "      <td>caráter pragmático racionalidade</td>\n",
       "      <td>comportamental convenção fundamentação inclina...</td>\n",
       "      <td>[ 0.06814931 -0.02395453  0.02739678 -0.003347...</td>\n",
       "      <td>[ 0.26195732 -0.13758467 -0.16108766  0.071330...</td>\n",
       "      <td>D.</td>\n",
       "      <td>False</td>\n",
       "    </tr>\n",
       "    <tr>\n",
       "      <th>3</th>\n",
       "      <td>3</td>\n",
       "      <td>4</td>\n",
       "      <td>E</td>\n",
       "      <td>1.85031</td>\n",
       "      <td>0.57925</td>\n",
       "      <td>0.11344</td>\n",
       "      <td>2017</td>\n",
       "      <td>Fala-se muito nos dias de hoje em direitos do ...</td>\n",
       "      <td>A: modernização da educação escolar; B: atuali...</td>\n",
       "      <td>universalização do princípio da igualdade civil</td>\n",
       "      <td>modernização da educação escolar; atualização ...</td>\n",
       "      <td>apresenta assembleia bases bem cidadão concepç...</td>\n",
       "      <td>A: educação escolar modernização; B: atualizaç...</td>\n",
       "      <td>civil igualdade princípio universalização</td>\n",
       "      <td>aristocráticos atualização conhecimento costum...</td>\n",
       "      <td>[ 0.01932281 -0.03491368 -0.00591799  0.012698...</td>\n",
       "      <td>[ 0.253879   -0.00519249 -0.02825475  0.109827...</td>\n",
       "      <td>E.</td>\n",
       "      <td>False</td>\n",
       "    </tr>\n",
       "    <tr>\n",
       "      <th>4</th>\n",
       "      <td>4</td>\n",
       "      <td>5</td>\n",
       "      <td>C</td>\n",
       "      <td>2.46290</td>\n",
       "      <td>0.76307</td>\n",
       "      <td>0.17672</td>\n",
       "      <td>2017</td>\n",
       "      <td>Na Constituição da República Federativa do Bra...</td>\n",
       "      <td>A:  etnia e miscigenação racial; B:  sociedade...</td>\n",
       "      <td>espaço e sobrevivência cultural</td>\n",
       "      <td>etnia e miscigenação racial; sociedade e igual...</td>\n",
       "      <td>aplicação artigo bens brasil competindo consta...</td>\n",
       "      <td>A: etnia miscigenação racial; B: igualdade jur...</td>\n",
       "      <td>cultural espaço sobrevivência</td>\n",
       "      <td>ambiental bem econômica educação etnia igualda...</td>\n",
       "      <td>[-3.24988738e-02  8.80865678e-02 -4.07014266e-...</td>\n",
       "      <td>[ 0.248065   -0.15562867 -0.114118   -0.121275...</td>\n",
       "      <td>C</td>\n",
       "      <td>True</td>\n",
       "    </tr>\n",
       "  </tbody>\n",
       "</table>\n",
       "</div>"
      ],
      "text/plain": [
       "   Unnamed: 0  numero_questao gabarito  NU_PARAM_A  nu_param_B  NU_PARAM_C  \\\n",
       "0           0               1        C     3.43894     0.97831     0.10855   \n",
       "1           1               2        D     3.00837     0.49169     0.13877   \n",
       "2           2               3        D     0.60432     3.25992     0.08798   \n",
       "3           3               4        E     1.85031     0.57925     0.11344   \n",
       "4           4               5        C     2.46290     0.76307     0.17672   \n",
       "\n",
       "    ANO                                          enunciado  \\\n",
       "0  2017  No império africano do Mali, no século XIV, To...   \n",
       "1  2017  Após a Declaração Universal dos Direitos Human...   \n",
       "2  2017  A moralidade, Bentham exortava, não é uma ques...   \n",
       "3  2017  Fala-se muito nos dias de hoje em direitos do ...   \n",
       "4  2017  Na Constituição da República Federativa do Bra...   \n",
       "\n",
       "                                        alternativas  \\\n",
       "0  A:  isolamento geográﬁco do Saara ocidental; B...   \n",
       "1  A:  ataque feito pelos japoneses à base milita...   \n",
       "2  A:  fundamentação cientíﬁca de viés positivist...   \n",
       "3  A: modernização da educação escolar; B: atuali...   \n",
       "4  A:  etnia e miscigenação racial; B:  sociedade...   \n",
       "\n",
       "                                      gabarito_texto  \\\n",
       "0           posição relativa nas redes de circulação   \n",
       "1  execução de judeus e eslavos presos em guetos ...   \n",
       "2                racionalidade de caráter pragmático   \n",
       "3    universalização do princípio da igualdade civil   \n",
       "4                    espaço e sobrevivência cultural   \n",
       "\n",
       "                                         distratores  \\\n",
       "0  isolamento geográﬁco do Saara ocidental; explo...   \n",
       "1  ataque feito pelos japoneses à base militar am...   \n",
       "2  fundamentação cientíﬁca de viés positivista; c...   \n",
       "3  modernização da educação escolar; atualização ...   \n",
       "4  etnia e miscigenação racial; sociedade e igual...   \n",
       "\n",
       "                                     enunciado_limpo  \\\n",
       "0  africano além astronomia centro cidade comérci...   \n",
       "1  aberrações acontecimentos após assumida branco...   \n",
       "2  abstratas afetados agradar ação bentham condut...   \n",
       "3  apresenta assembleia bases bem cidadão concepç...   \n",
       "4  aplicação artigo bens brasil competindo consta...   \n",
       "\n",
       "                                  alternativas_limpo  \\\n",
       "0  A: isolamento ocidental saara; B: exploração i...   \n",
       "1  A: americana ataque base feito harbor japonese...   \n",
       "2  A: fundamentação positivista viés; B: convençã...   \n",
       "3  A: educação escolar modernização; B: atualizaç...   \n",
       "4  A: etnia miscigenação racial; B: igualdade jur...   \n",
       "\n",
       "                                gabarito_texto_limpo  \\\n",
       "0                  circulação posição redes relativa   \n",
       "1  campos concentração eslavos execução guetos ju...   \n",
       "2                   caráter pragmático racionalidade   \n",
       "3          civil igualdade princípio universalização   \n",
       "4                      cultural espaço sobrevivência   \n",
       "\n",
       "                                   distratores_limpo  \\\n",
       "0  competição econômica exploração intensiva isol...   \n",
       "1  americana americanas ataque atômicas base bomb...   \n",
       "2  comportamental convenção fundamentação inclina...   \n",
       "3  aristocráticos atualização conhecimento costum...   \n",
       "4  ambiental bem econômica educação etnia igualda...   \n",
       "\n",
       "                       enunciado_embeddings_word2vec  \\\n",
       "0  [ 6.11259453e-02 -4.80512679e-02 -5.90382852e-...   \n",
       "1  [ 9.6771289e-03  1.1954352e-01  2.1252066e-02 ...   \n",
       "2  [ 0.06814931 -0.02395453  0.02739678 -0.003347...   \n",
       "3  [ 0.01932281 -0.03491368 -0.00591799  0.012698...   \n",
       "4  [-3.24988738e-02  8.80865678e-02 -4.07014266e-...   \n",
       "\n",
       "                        gabarito_embeddings_word2vec resposta_llamma  \\\n",
       "0  [ 0.0875405   0.14673425  0.17936975 -0.033228...               C   \n",
       "1  [ 1.61291629e-01  2.37609118e-01  8.02588761e-...               D   \n",
       "2  [ 0.26195732 -0.13758467 -0.16108766  0.071330...              D.   \n",
       "3  [ 0.253879   -0.00519249 -0.02825475  0.109827...              E.   \n",
       "4  [ 0.248065   -0.15562867 -0.114118   -0.121275...               C   \n",
       "\n",
       "   acerto_llamma  \n",
       "0           True  \n",
       "1           True  \n",
       "2          False  \n",
       "3          False  \n",
       "4           True  "
      ]
     },
     "execution_count": 4,
     "metadata": {},
     "output_type": "execute_result"
    }
   ],
   "source": [
    "# leitura do csv\n",
    "\n",
    "df_llama = pd.read_csv('../data/final/llama_extraction_csv.csv') \n",
    "df_llama.head()"
   ]
  },
  {
   "cell_type": "code",
   "execution_count": 5,
   "id": "8b50386c",
   "metadata": {},
   "outputs": [],
   "source": [
    "# dropando coluna não utilizada\n",
    "\n",
    "df_llama.drop('acerto_llamma', axis=1, inplace = True) "
   ]
  },
  {
   "cell_type": "code",
   "execution_count": 6,
   "id": "3b224c9a",
   "metadata": {},
   "outputs": [],
   "source": [
    "# utilizando regex para padronizar respostas que a LLM deu\n",
    "\n",
    "df_llama['resposta_llamma_limpo'] = df_llama['resposta_llamma'].str.findall(r'\\b([A-E])\\b').str[-1]"
   ]
  },
  {
   "cell_type": "code",
   "execution_count": 7,
   "id": "20b39bbe",
   "metadata": {},
   "outputs": [],
   "source": [
    "# gerando variável true/false de acertos do modelo Llama\n",
    "\n",
    "df_llama[\"acerto_llamma\"] = df_llama[[\"gabarito\", \"resposta_llamma_limpo\"]].apply(\n",
    "    lambda row: row[\"gabarito\"] == row[\"resposta_llamma_limpo\"], axis=1\n",
    ")"
   ]
  },
  {
   "cell_type": "code",
   "execution_count": 8,
   "id": "0f9963b5",
   "metadata": {},
   "outputs": [
    {
     "data": {
      "text/plain": [
       "154"
      ]
     },
     "execution_count": 8,
     "metadata": {},
     "output_type": "execute_result"
    }
   ],
   "source": [
    "# quantidade de acertos do Llama\n",
    "\n",
    "df_llama[\"acerto_llamma\"].sum()"
   ]
  },
  {
   "cell_type": "code",
   "execution_count": 9,
   "id": "12eb0c57",
   "metadata": {},
   "outputs": [],
   "source": [
    "# pegando apenas as colunas de interesse e as necessárias para o merge\n",
    "\n",
    "df_llama = df_llama[['numero_questao','ANO','resposta_llamma_limpo','acerto_llamma']]"
   ]
  },
  {
   "cell_type": "code",
   "execution_count": 10,
   "id": "99f83de4",
   "metadata": {},
   "outputs": [],
   "source": [
    "# padronizando nome\n",
    "\n",
    "df_llama.rename(columns={'resposta_llamma_limpo': 'resposta_llama'}, inplace=True)\n"
   ]
  },
  {
   "cell_type": "code",
   "execution_count": 11,
   "id": "21f85531",
   "metadata": {
    "scrolled": true
   },
   "outputs": [
    {
     "data": {
      "text/html": [
       "<div>\n",
       "<style scoped>\n",
       "    .dataframe tbody tr th:only-of-type {\n",
       "        vertical-align: middle;\n",
       "    }\n",
       "\n",
       "    .dataframe tbody tr th {\n",
       "        vertical-align: top;\n",
       "    }\n",
       "\n",
       "    .dataframe thead th {\n",
       "        text-align: right;\n",
       "    }\n",
       "</style>\n",
       "<table border=\"1\" class=\"dataframe\">\n",
       "  <thead>\n",
       "    <tr style=\"text-align: right;\">\n",
       "      <th></th>\n",
       "      <th>numero_questao</th>\n",
       "      <th>ANO</th>\n",
       "      <th>resposta_llama</th>\n",
       "      <th>acerto_llamma</th>\n",
       "    </tr>\n",
       "  </thead>\n",
       "  <tbody>\n",
       "    <tr>\n",
       "      <th>0</th>\n",
       "      <td>1</td>\n",
       "      <td>2017</td>\n",
       "      <td>C</td>\n",
       "      <td>True</td>\n",
       "    </tr>\n",
       "    <tr>\n",
       "      <th>1</th>\n",
       "      <td>2</td>\n",
       "      <td>2017</td>\n",
       "      <td>D</td>\n",
       "      <td>True</td>\n",
       "    </tr>\n",
       "    <tr>\n",
       "      <th>2</th>\n",
       "      <td>3</td>\n",
       "      <td>2017</td>\n",
       "      <td>D</td>\n",
       "      <td>True</td>\n",
       "    </tr>\n",
       "    <tr>\n",
       "      <th>3</th>\n",
       "      <td>4</td>\n",
       "      <td>2017</td>\n",
       "      <td>E</td>\n",
       "      <td>True</td>\n",
       "    </tr>\n",
       "    <tr>\n",
       "      <th>4</th>\n",
       "      <td>5</td>\n",
       "      <td>2017</td>\n",
       "      <td>C</td>\n",
       "      <td>True</td>\n",
       "    </tr>\n",
       "  </tbody>\n",
       "</table>\n",
       "</div>"
      ],
      "text/plain": [
       "   numero_questao   ANO resposta_llama  acerto_llamma\n",
       "0               1  2017              C           True\n",
       "1               2  2017              D           True\n",
       "2               3  2017              D           True\n",
       "3               4  2017              E           True\n",
       "4               5  2017              C           True"
      ]
     },
     "execution_count": 11,
     "metadata": {},
     "output_type": "execute_result"
    }
   ],
   "source": [
    "# verificando tabela final\n",
    "\n",
    "df_llama.head()"
   ]
  },
  {
   "cell_type": "markdown",
   "id": "d364d157-be78-4a3e-bc75-f7d56cf3271c",
   "metadata": {},
   "source": [
    "## 5.2.3. Extração das respostas do Deepseek"
   ]
  },
  {
   "cell_type": "code",
   "execution_count": 12,
   "id": "8b178596",
   "metadata": {
    "scrolled": true
   },
   "outputs": [
    {
     "data": {
      "text/html": [
       "<div>\n",
       "<style scoped>\n",
       "    .dataframe tbody tr th:only-of-type {\n",
       "        vertical-align: middle;\n",
       "    }\n",
       "\n",
       "    .dataframe tbody tr th {\n",
       "        vertical-align: top;\n",
       "    }\n",
       "\n",
       "    .dataframe thead th {\n",
       "        text-align: right;\n",
       "    }\n",
       "</style>\n",
       "<table border=\"1\" class=\"dataframe\">\n",
       "  <thead>\n",
       "    <tr style=\"text-align: right;\">\n",
       "      <th></th>\n",
       "      <th>Unnamed: 0</th>\n",
       "      <th>numero_questao</th>\n",
       "      <th>gabarito</th>\n",
       "      <th>NU_PARAM_A</th>\n",
       "      <th>nu_param_B</th>\n",
       "      <th>NU_PARAM_C</th>\n",
       "      <th>ANO</th>\n",
       "      <th>enunciado</th>\n",
       "      <th>alternativas</th>\n",
       "      <th>gabarito_texto</th>\n",
       "      <th>distratores</th>\n",
       "      <th>enunciado_limpo</th>\n",
       "      <th>alternativas_limpo</th>\n",
       "      <th>gabarito_texto_limpo</th>\n",
       "      <th>distratores_limpo</th>\n",
       "      <th>enunciado_embeddings_word2vec</th>\n",
       "      <th>gabarito_embeddings_word2vec</th>\n",
       "      <th>resposta_deepseek</th>\n",
       "      <th>acerto_deepseek</th>\n",
       "    </tr>\n",
       "  </thead>\n",
       "  <tbody>\n",
       "    <tr>\n",
       "      <th>0</th>\n",
       "      <td>0</td>\n",
       "      <td>1</td>\n",
       "      <td>C</td>\n",
       "      <td>3.43894</td>\n",
       "      <td>0.97831</td>\n",
       "      <td>0.10855</td>\n",
       "      <td>2017</td>\n",
       "      <td>No império africano do Mali, no século XIV, To...</td>\n",
       "      <td>A:  isolamento geográﬁco do Saara ocidental; B...</td>\n",
       "      <td>posição relativa nas redes de circulação</td>\n",
       "      <td>isolamento geográﬁco do Saara ocidental; explo...</td>\n",
       "      <td>africano além astronomia centro cidade comérci...</td>\n",
       "      <td>A: isolamento ocidental saara; B: exploração i...</td>\n",
       "      <td>circulação posição redes relativa</td>\n",
       "      <td>competição econômica exploração intensiva isol...</td>\n",
       "      <td>[ 6.11259453e-02 -4.80512679e-02 -5.90382852e-...</td>\n",
       "      <td>[ 0.0875405   0.14673425  0.17936975 -0.033228...</td>\n",
       "      <td>A resposta correta é: C</td>\n",
       "      <td>False</td>\n",
       "    </tr>\n",
       "    <tr>\n",
       "      <th>1</th>\n",
       "      <td>1</td>\n",
       "      <td>2</td>\n",
       "      <td>D</td>\n",
       "      <td>3.00837</td>\n",
       "      <td>0.49169</td>\n",
       "      <td>0.13877</td>\n",
       "      <td>2017</td>\n",
       "      <td>Após a Declaração Universal dos Direitos Human...</td>\n",
       "      <td>A:  ataque feito pelos japoneses à base milita...</td>\n",
       "      <td>execução de judeus e eslavos presos em guetos ...</td>\n",
       "      <td>ataque feito pelos japoneses à base militar am...</td>\n",
       "      <td>aberrações acontecimentos após assumida branco...</td>\n",
       "      <td>A: americana ataque base feito harbor japonese...</td>\n",
       "      <td>campos concentração eslavos execução guetos ju...</td>\n",
       "      <td>americana americanas ataque atômicas base bomb...</td>\n",
       "      <td>[ 9.6771289e-03  1.1954352e-01  2.1252066e-02 ...</td>\n",
       "      <td>[ 1.61291629e-01  2.37609118e-01  8.02588761e-...</td>\n",
       "      <td>D</td>\n",
       "      <td>True</td>\n",
       "    </tr>\n",
       "    <tr>\n",
       "      <th>2</th>\n",
       "      <td>2</td>\n",
       "      <td>3</td>\n",
       "      <td>D</td>\n",
       "      <td>0.60432</td>\n",
       "      <td>3.25992</td>\n",
       "      <td>0.08798</td>\n",
       "      <td>2017</td>\n",
       "      <td>A moralidade, Bentham exortava, não é uma ques...</td>\n",
       "      <td>A:  fundamentação cientíﬁca de viés positivist...</td>\n",
       "      <td>racionalidade de caráter pragmático</td>\n",
       "      <td>fundamentação cientíﬁca de viés positivista; c...</td>\n",
       "      <td>abstratas afetados agradar ação bentham condut...</td>\n",
       "      <td>A: fundamentação positivista viés; B: convençã...</td>\n",
       "      <td>caráter pragmático racionalidade</td>\n",
       "      <td>comportamental convenção fundamentação inclina...</td>\n",
       "      <td>[ 0.06814931 -0.02395453  0.02739678 -0.003347...</td>\n",
       "      <td>[ 0.26195732 -0.13758467 -0.16108766  0.071330...</td>\n",
       "      <td>D</td>\n",
       "      <td>True</td>\n",
       "    </tr>\n",
       "    <tr>\n",
       "      <th>3</th>\n",
       "      <td>3</td>\n",
       "      <td>4</td>\n",
       "      <td>E</td>\n",
       "      <td>1.85031</td>\n",
       "      <td>0.57925</td>\n",
       "      <td>0.11344</td>\n",
       "      <td>2017</td>\n",
       "      <td>Fala-se muito nos dias de hoje em direitos do ...</td>\n",
       "      <td>A: modernização da educação escolar; B: atuali...</td>\n",
       "      <td>universalização do princípio da igualdade civil</td>\n",
       "      <td>modernização da educação escolar; atualização ...</td>\n",
       "      <td>apresenta assembleia bases bem cidadão concepç...</td>\n",
       "      <td>A: educação escolar modernização; B: atualizaç...</td>\n",
       "      <td>civil igualdade princípio universalização</td>\n",
       "      <td>aristocráticos atualização conhecimento costum...</td>\n",
       "      <td>[ 0.01932281 -0.03491368 -0.00591799  0.012698...</td>\n",
       "      <td>[ 0.253879   -0.00519249 -0.02825475  0.109827...</td>\n",
       "      <td>E</td>\n",
       "      <td>True</td>\n",
       "    </tr>\n",
       "    <tr>\n",
       "      <th>4</th>\n",
       "      <td>4</td>\n",
       "      <td>5</td>\n",
       "      <td>C</td>\n",
       "      <td>2.46290</td>\n",
       "      <td>0.76307</td>\n",
       "      <td>0.17672</td>\n",
       "      <td>2017</td>\n",
       "      <td>Na Constituição da República Federativa do Bra...</td>\n",
       "      <td>A:  etnia e miscigenação racial; B:  sociedade...</td>\n",
       "      <td>espaço e sobrevivência cultural</td>\n",
       "      <td>etnia e miscigenação racial; sociedade e igual...</td>\n",
       "      <td>aplicação artigo bens brasil competindo consta...</td>\n",
       "      <td>A: etnia miscigenação racial; B: igualdade jur...</td>\n",
       "      <td>cultural espaço sobrevivência</td>\n",
       "      <td>ambiental bem econômica educação etnia igualda...</td>\n",
       "      <td>[-3.24988738e-02  8.80865678e-02 -4.07014266e-...</td>\n",
       "      <td>[ 0.248065   -0.15562867 -0.114118   -0.121275...</td>\n",
       "      <td>C</td>\n",
       "      <td>True</td>\n",
       "    </tr>\n",
       "  </tbody>\n",
       "</table>\n",
       "</div>"
      ],
      "text/plain": [
       "   Unnamed: 0  numero_questao gabarito  NU_PARAM_A  nu_param_B  NU_PARAM_C  \\\n",
       "0           0               1        C     3.43894     0.97831     0.10855   \n",
       "1           1               2        D     3.00837     0.49169     0.13877   \n",
       "2           2               3        D     0.60432     3.25992     0.08798   \n",
       "3           3               4        E     1.85031     0.57925     0.11344   \n",
       "4           4               5        C     2.46290     0.76307     0.17672   \n",
       "\n",
       "    ANO                                          enunciado  \\\n",
       "0  2017  No império africano do Mali, no século XIV, To...   \n",
       "1  2017  Após a Declaração Universal dos Direitos Human...   \n",
       "2  2017  A moralidade, Bentham exortava, não é uma ques...   \n",
       "3  2017  Fala-se muito nos dias de hoje em direitos do ...   \n",
       "4  2017  Na Constituição da República Federativa do Bra...   \n",
       "\n",
       "                                        alternativas  \\\n",
       "0  A:  isolamento geográﬁco do Saara ocidental; B...   \n",
       "1  A:  ataque feito pelos japoneses à base milita...   \n",
       "2  A:  fundamentação cientíﬁca de viés positivist...   \n",
       "3  A: modernização da educação escolar; B: atuali...   \n",
       "4  A:  etnia e miscigenação racial; B:  sociedade...   \n",
       "\n",
       "                                      gabarito_texto  \\\n",
       "0           posição relativa nas redes de circulação   \n",
       "1  execução de judeus e eslavos presos em guetos ...   \n",
       "2                racionalidade de caráter pragmático   \n",
       "3    universalização do princípio da igualdade civil   \n",
       "4                    espaço e sobrevivência cultural   \n",
       "\n",
       "                                         distratores  \\\n",
       "0  isolamento geográﬁco do Saara ocidental; explo...   \n",
       "1  ataque feito pelos japoneses à base militar am...   \n",
       "2  fundamentação cientíﬁca de viés positivista; c...   \n",
       "3  modernização da educação escolar; atualização ...   \n",
       "4  etnia e miscigenação racial; sociedade e igual...   \n",
       "\n",
       "                                     enunciado_limpo  \\\n",
       "0  africano além astronomia centro cidade comérci...   \n",
       "1  aberrações acontecimentos após assumida branco...   \n",
       "2  abstratas afetados agradar ação bentham condut...   \n",
       "3  apresenta assembleia bases bem cidadão concepç...   \n",
       "4  aplicação artigo bens brasil competindo consta...   \n",
       "\n",
       "                                  alternativas_limpo  \\\n",
       "0  A: isolamento ocidental saara; B: exploração i...   \n",
       "1  A: americana ataque base feito harbor japonese...   \n",
       "2  A: fundamentação positivista viés; B: convençã...   \n",
       "3  A: educação escolar modernização; B: atualizaç...   \n",
       "4  A: etnia miscigenação racial; B: igualdade jur...   \n",
       "\n",
       "                                gabarito_texto_limpo  \\\n",
       "0                  circulação posição redes relativa   \n",
       "1  campos concentração eslavos execução guetos ju...   \n",
       "2                   caráter pragmático racionalidade   \n",
       "3          civil igualdade princípio universalização   \n",
       "4                      cultural espaço sobrevivência   \n",
       "\n",
       "                                   distratores_limpo  \\\n",
       "0  competição econômica exploração intensiva isol...   \n",
       "1  americana americanas ataque atômicas base bomb...   \n",
       "2  comportamental convenção fundamentação inclina...   \n",
       "3  aristocráticos atualização conhecimento costum...   \n",
       "4  ambiental bem econômica educação etnia igualda...   \n",
       "\n",
       "                       enunciado_embeddings_word2vec  \\\n",
       "0  [ 6.11259453e-02 -4.80512679e-02 -5.90382852e-...   \n",
       "1  [ 9.6771289e-03  1.1954352e-01  2.1252066e-02 ...   \n",
       "2  [ 0.06814931 -0.02395453  0.02739678 -0.003347...   \n",
       "3  [ 0.01932281 -0.03491368 -0.00591799  0.012698...   \n",
       "4  [-3.24988738e-02  8.80865678e-02 -4.07014266e-...   \n",
       "\n",
       "                        gabarito_embeddings_word2vec        resposta_deepseek  \\\n",
       "0  [ 0.0875405   0.14673425  0.17936975 -0.033228...  A resposta correta é: C   \n",
       "1  [ 1.61291629e-01  2.37609118e-01  8.02588761e-...                        D   \n",
       "2  [ 0.26195732 -0.13758467 -0.16108766  0.071330...                        D   \n",
       "3  [ 0.253879   -0.00519249 -0.02825475  0.109827...                        E   \n",
       "4  [ 0.248065   -0.15562867 -0.114118   -0.121275...                        C   \n",
       "\n",
       "   acerto_deepseek  \n",
       "0            False  \n",
       "1             True  \n",
       "2             True  \n",
       "3             True  \n",
       "4             True  "
      ]
     },
     "execution_count": 12,
     "metadata": {},
     "output_type": "execute_result"
    }
   ],
   "source": [
    "# leitura do csv\n",
    "\n",
    "df_deepseek = pd.read_csv('../data/final/deepseek_extraction_csv.csv') \n",
    "df_deepseek.head()"
   ]
  },
  {
   "cell_type": "code",
   "execution_count": 13,
   "id": "07e3ce73",
   "metadata": {},
   "outputs": [],
   "source": [
    "# dropando coluna não utilizada\n",
    "\n",
    "df_deepseek.drop('acerto_deepseek', axis=1, inplace = True) "
   ]
  },
  {
   "cell_type": "code",
   "execution_count": 14,
   "id": "8cf29359",
   "metadata": {},
   "outputs": [
    {
     "data": {
      "text/plain": [
       "'Vamos analisar cada alternativa em relação ao problema apresentado no texto, que é a ineficiência logística da soja, causada principalmente por gargalos na infraestrutura de transporte (filas de navios, caminhões e trens):\\n\\n**A. Isenção de impostos de transporte**  \\nNão resolve o problema estrutural de gargalos físicos (portos, ferrovias, etc.). A questão é a capacidade da infraestrutura, não o custo tributário.\\n\\n**B. Construção de terminais atracadouros**  \\nSolução direta para o problema citado. O texto menciona filas de navios por falta de infraestrutura portuária. Terminais ampliariam a capacidade de atracagem, reduzindo esperas e custos logísticos.  \\n\\n**C. Diversificação de parceiros comerciais**  \\nIrrelevante para o problema logístico interno. A questão é a infraestrutura física, não relações comerciais.  \\n\\n**D. Contratação de trabalhadores portuários**  \\nNão resolve gargalos estruturais (como falta de terminais). O problema não é falta de mão de obra, mas sim de infraestrutura.  \\n\\n**E. Intensificação do policiamento rodoviário**  \\nPode reduzir acidentes, mas não impacta os gargalos portuários e ferroviários citados no texto.  \\n\\n**Resposta correta: B** (a única que ataca diretamente a raiz do problema: a falta de infraestrutura portuária para escoamento da soja).'"
      ]
     },
     "execution_count": 14,
     "metadata": {},
     "output_type": "execute_result"
    }
   ],
   "source": [
    "# aqui visualizamos e tratamos manualmente algumas respostas mais complexas que o Deepseek forneceu\n",
    "\n",
    "df_deepseek.loc[10, 'resposta_deepseek']"
   ]
  },
  {
   "cell_type": "code",
   "execution_count": 15,
   "id": "9a4f9b8f",
   "metadata": {},
   "outputs": [],
   "source": [
    "df_deepseek.loc[10, 'resposta_deepseek'] = 'B'"
   ]
  },
  {
   "cell_type": "code",
   "execution_count": 16,
   "id": "40430067",
   "metadata": {},
   "outputs": [
    {
     "data": {
      "text/plain": [
       "'Vamos analisar as informações fornecidas e as alternativas:\\n\\n1. O enunciado descreve as temperaturas mínimas em diferentes regiões do Brasil e os índices de umidade relativa do ar.\\n2. A pergunta específica é sobre o fator climático determinante para explicar os altos índices de umidade nas regiões Nordeste e Sul.\\n\\nAnalisando as alternativas:\\n- A) Altitude: Não é o fator principal, pois ambas as regiões têm áreas de baixa altitude.\\n- B) Vegetação: Embora possa influenciar, não é o principal fator para a umidade nessas regiões.\\n- C) Massas de ar: Esta é a resposta correta, pois as massas de ar úmidas (como a massa Tropical Atlântica no Nordeste e a Polar Atlântica no Sul) são responsáveis pela alta umidade e precipitação nessas regiões.\\n- D) Correntes marítimas: Influenciam, mas não são o fator principal.\\n- E) Continentalidade: Não se aplica, pois ambas as regiões têm forte influência oceânica.\\n\\nA resposta correta é: C'"
      ]
     },
     "execution_count": 16,
     "metadata": {},
     "output_type": "execute_result"
    }
   ],
   "source": [
    "df_deepseek.loc[41, 'resposta_deepseek']"
   ]
  },
  {
   "cell_type": "code",
   "execution_count": 17,
   "id": "578c0116",
   "metadata": {},
   "outputs": [],
   "source": [
    "df_deepseek.loc[41, 'resposta_deepseek'] = 'C'"
   ]
  },
  {
   "cell_type": "code",
   "execution_count": 18,
   "id": "afd679d5",
   "metadata": {},
   "outputs": [
    {
     "data": {
      "text/plain": [
       "'Vamos analisar cada alternativa:\\n\\nA) Ciclo hidrológico - Não está relacionado à formação de continentes.\\nB) Processo erosivo - Também não explica a formação de um supercontinente.\\nC) Estrutura geológica - Esta é a correta, pois a formação e movimentação de continentes está diretamente relacionada aos processos geológicos e tectônicos.\\nD) Índice pluviométrico - Não tem relação com a formação de continentes.\\nE) Pressão atmosférica - Também não está relacionada.\\n\\nA resposta correta é: C'"
      ]
     },
     "execution_count": 18,
     "metadata": {},
     "output_type": "execute_result"
    }
   ],
   "source": [
    "df_deepseek.loc[98, 'resposta_deepseek']"
   ]
  },
  {
   "cell_type": "code",
   "execution_count": 19,
   "id": "3a004bce",
   "metadata": {},
   "outputs": [],
   "source": [
    "df_deepseek.loc[98, 'resposta_deepseek'] = 'C'"
   ]
  },
  {
   "cell_type": "code",
   "execution_count": 20,
   "id": "37f689f9",
   "metadata": {},
   "outputs": [
    {
     "data": {
      "text/plain": [
       "'Vamos analisar o enunciado e as alternativas:\\n\\nO texto descreve como Newton, ao observar a queda da maçã, passou de uma explicação superficial (animais derrubando) para uma busca por princípios fundamentais (força subjetiva causando a queda). Isso representa o núcleo do método científico moderno - ir além das aparências para descobrir leis universais.\\n\\nAnalisando as alternativas:\\nA) Falsificação - não é o foco (Newton não está testando/excluindo hipóteses)\\nB) Negação da observação - incorreto (ele parte da observação)\\nC) Proposição de hipóteses - parcialmente correto, mas não capta a essência\\nD) Contemplação - muito passivo (Newton está ativamente buscando princípios)\\nE) Universalização - CORRETO (ele busca uma lei geral a partir do caso específico)\\n\\nA resposta correta é: E'"
      ]
     },
     "execution_count": 20,
     "metadata": {},
     "output_type": "execute_result"
    }
   ],
   "source": [
    "df_deepseek.loc[103, 'resposta_deepseek']"
   ]
  },
  {
   "cell_type": "code",
   "execution_count": 21,
   "id": "5d17d974",
   "metadata": {},
   "outputs": [],
   "source": [
    "df_deepseek.loc[103, 'resposta_deepseek'] = 'E'"
   ]
  },
  {
   "cell_type": "code",
   "execution_count": 22,
   "id": "cdc17ad7",
   "metadata": {},
   "outputs": [
    {
     "data": {
      "text/plain": [
       "'Vamos analisar cada alternativa:\\n\\nA) \"promoção de atos ecumênicos\" - O texto não menciona reconciliação entre diferentes religiões.\\nB) \"fomento de orientações bíblicas\" - Embora haja adaptação, não é o foco principal.\\nC) \"apropriação de cerimônias seculares\" - Corresponde à absorção de rituais pagãos.\\nD) \"retomada de ensinamentos apostólicos\" - Não há referência a ensinos originais dos apóstolos.\\nE) \"ressignificação de rituais fundamentalistas\" - O termo \"fundamentalistas\" não se aplica ao contexto.\\n\\nA alternativa que melhor descreve o processo de assimilação de rituais pagãos (como as fogueiras) pela Igreja é:\\n\\nC'"
      ]
     },
     "execution_count": 22,
     "metadata": {},
     "output_type": "execute_result"
    }
   ],
   "source": [
    "df_deepseek.loc[127, 'resposta_deepseek']"
   ]
  },
  {
   "cell_type": "code",
   "execution_count": 23,
   "id": "ace186e3",
   "metadata": {},
   "outputs": [],
   "source": [
    "df_deepseek.loc[127, 'resposta_deepseek'] = 'C'"
   ]
  },
  {
   "cell_type": "code",
   "execution_count": 24,
   "id": "bb521ec7",
   "metadata": {},
   "outputs": [
    {
     "data": {
      "text/plain": [
       "'Vamos analisar o texto e as alternativas:\\n\\nO texto descreve um modelo de planejamento urbano que:\\n- Incentiva o crescimento urbano a qualquer custo\\n- Vê as cidades como máquinas de produzir riqueza\\n- Foca em \"apertar a máquina\" (otimização econômica)\\n\\nIsso caracteriza um modelo:\\n- Não participativo (exclui gestão popular - A)\\n- Não sustentável (exclui B)\\n- Não focado em bem-estar social (exclui C)\\n- Centralizado no poder econômico, não governamental (exclui D)\\n\\nA alternativa que melhor se encaixa é:\\nE - ampliação da participação empresarial (o texto enfatiza a lógica empresarial de produção de riqueza)\\n\\nResposta: E'"
      ]
     },
     "execution_count": 24,
     "metadata": {},
     "output_type": "execute_result"
    }
   ],
   "source": [
    "df_deepseek.loc[139, 'resposta_deepseek']"
   ]
  },
  {
   "cell_type": "code",
   "execution_count": 25,
   "id": "a1113956",
   "metadata": {},
   "outputs": [],
   "source": [
    "df_deepseek.loc[139, 'resposta_deepseek'] = 'E'"
   ]
  },
  {
   "cell_type": "code",
   "execution_count": 26,
   "id": "f900e7b9",
   "metadata": {},
   "outputs": [
    {
     "data": {
      "text/plain": [
       "'Vamos analisar o texto e as alternativas:\\n\\nO texto descreve a poluição do rio Tietê, especificamente mencionando:\\n1. A água não tem oxigênio suficiente para sustentar vida\\n2. A poluição ocorre ao longo de uma área urbana/metropolitana\\n3. A causa está relacionada com a falta de oxigênio na água\\n\\nAnalisando as alternativas:\\nA) Não menciona sítio urbano - irrelevante\\nB) Extinção da vegetação não é a causa direta da falta de oxigênio\\nC) Carga de dejetos (esgoto) é a principal causa da falta de oxigênio em rios urbanos\\nD) Captação de água pluvial não causa falta de oxigênio\\nE) Defensivos agrícolas não são mencionados como causa\\n\\nA causa mais direta para a falta de oxigênio em rios urbanos é o lançamento de esgoto (carga orgânica que consome oxigênio na decomposição).\\n\\nResposta correta: C'"
      ]
     },
     "execution_count": 26,
     "metadata": {},
     "output_type": "execute_result"
    }
   ],
   "source": [
    "df_deepseek.loc[158, 'resposta_deepseek']"
   ]
  },
  {
   "cell_type": "code",
   "execution_count": 27,
   "id": "a078af00",
   "metadata": {},
   "outputs": [],
   "source": [
    "df_deepseek.loc[158, 'resposta_deepseek'] = 'C'"
   ]
  },
  {
   "cell_type": "code",
   "execution_count": 28,
   "id": "13c7b379",
   "metadata": {},
   "outputs": [
    {
     "data": {
      "text/plain": [
       "'Vamos analisar cada alternativa:\\n\\nA) A estagnação de direitos adquiridos e o anacronismo da legislação vigente são mencionados, mas não explicam a desigualdade de oportunidades.\\n\\nB) A manutenção do status quo gerencial e dos padrões de socialização familiar são fatores que perpetuam a desigualdade de oportunidades, pois mantêm as estruturas que limitam as mulheres.\\n\\nC) A desestruturação da herança patriarcal e mudanças no perfil ocupacional seriam positivas, não explicando a desigualdade.\\n\\nD) A disputa na composição sindical e presença política são relevantes, mas não são a causa central da desigualdade de oportunidades.\\n\\nE) As exigências de aperfeiçoamento profissional e habilidades gerenciais são consequências, não causas da desigualdade.\\n\\nA alternativa que melhor explica a persistência da desigualdade de oportunidades é a B, pois aponta para a manutenção das estruturas sociais e gerenciais que perpetuam a desigualdade.\\n\\nB'"
      ]
     },
     "execution_count": 28,
     "metadata": {},
     "output_type": "execute_result"
    }
   ],
   "source": [
    "\n",
    "\n",
    "df_deepseek.loc[176, 'resposta_deepseek']"
   ]
  },
  {
   "cell_type": "code",
   "execution_count": 29,
   "id": "e36fb36a",
   "metadata": {},
   "outputs": [],
   "source": [
    "df_deepseek.loc[176, 'resposta_deepseek'] = 'B'"
   ]
  },
  {
   "cell_type": "code",
   "execution_count": 30,
   "id": "135cd9ff",
   "metadata": {},
   "outputs": [
    {
     "data": {
      "text/plain": [
       "'Pela análise do texto, a situação descrita refere-se a pessoas que não têm nacionalidade reconhecida por nenhum país, o que caracteriza a condição de apátrida. Portanto, a alternativa correta é:\\n\\nB'"
      ]
     },
     "execution_count": 30,
     "metadata": {},
     "output_type": "execute_result"
    }
   ],
   "source": [
    "df_deepseek.loc[186, 'resposta_deepseek']"
   ]
  },
  {
   "cell_type": "code",
   "execution_count": 31,
   "id": "747d856c",
   "metadata": {},
   "outputs": [],
   "source": [
    "df_deepseek.loc[186, 'resposta_deepseek'] = 'B'"
   ]
  },
  {
   "cell_type": "code",
   "execution_count": 32,
   "id": "c624d01d",
   "metadata": {},
   "outputs": [
    {
     "data": {
      "text/plain": [
       "'Analisando o enunciado, o fator determinante para a instalação das refinarias de petróleo é a proximidade a espaços com infraestrutura de circulação, pois isso facilita o transporte tanto da matéria-prima quanto dos produtos finais.\\n\\nA resposta correta é: E'"
      ]
     },
     "execution_count": 32,
     "metadata": {},
     "output_type": "execute_result"
    }
   ],
   "source": [
    "df_deepseek.loc[203, 'resposta_deepseek']"
   ]
  },
  {
   "cell_type": "code",
   "execution_count": 33,
   "id": "05b84122",
   "metadata": {},
   "outputs": [],
   "source": [
    "df_deepseek.loc[203, 'resposta_deepseek'] = 'E'"
   ]
  },
  {
   "cell_type": "code",
   "execution_count": 34,
   "id": "ed983356",
   "metadata": {},
   "outputs": [
    {
     "data": {
      "text/plain": [
       "'O texto discute a natureza do perdão, destacando que ele não é garantido e depende da autonomia de quem o concede. A alternativa que melhor reflete essa ideia é a que enfatiza a autonomia dos indivíduos nas relações interpessoais. Portanto, a resposta correta é:\\n\\nE'"
      ]
     },
     "execution_count": 34,
     "metadata": {},
     "output_type": "execute_result"
    }
   ],
   "source": [
    "df_deepseek.loc[239, 'resposta_deepseek']"
   ]
  },
  {
   "cell_type": "code",
   "execution_count": 35,
   "id": "3cbfaf67",
   "metadata": {},
   "outputs": [],
   "source": [
    "df_deepseek.loc[239, 'resposta_deepseek'] = 'E'"
   ]
  },
  {
   "cell_type": "code",
   "execution_count": 36,
   "id": "6ffd8f02",
   "metadata": {},
   "outputs": [
    {
     "data": {
      "text/plain": [
       "'Analisando o texto e o contexto histórico da Declaração Balfour, o objetivo declarado era estabelecer um lar nacional para o povo judeu na Palestina, sem prejudicar os direitos das comunidades não judias. No entanto, o processo resultou em conflitos territoriais entre judeus e árabes, demonstrando a incapacidade do governo britânico de mediar esses conflitos de forma efetiva.\\n\\nA alternativa correta é: C'"
      ]
     },
     "execution_count": 36,
     "metadata": {},
     "output_type": "execute_result"
    }
   ],
   "source": [
    "df_deepseek.loc[244, 'resposta_deepseek']"
   ]
  },
  {
   "cell_type": "code",
   "execution_count": 37,
   "id": "d2e8ec01",
   "metadata": {},
   "outputs": [],
   "source": [
    "df_deepseek.loc[244, 'resposta_deepseek'] = 'C'"
   ]
  },
  {
   "cell_type": "code",
   "execution_count": 38,
   "id": "d730c375",
   "metadata": {},
   "outputs": [],
   "source": [
    "# agora, tratamos de forma mais geral as respostas menos complexas\n",
    "\n",
    "df_deepseek['resposta_deepseek_limpo'] = df_deepseek['resposta_deepseek'].str.findall(r'\\b([A-E])\\b').str[-1]"
   ]
  },
  {
   "cell_type": "code",
   "execution_count": 39,
   "id": "d2ce34a2",
   "metadata": {},
   "outputs": [],
   "source": [
    "# gerando variável de true/false de acertos do modelo Deepseek\n",
    "\n",
    "df_deepseek[\"acerto_deepseek\"] = df_deepseek[[\"gabarito\", \"resposta_deepseek_limpo\"]].apply(\n",
    "    lambda row: row[\"gabarito\"] == row[\"resposta_deepseek_limpo\"], axis=1\n",
    ")"
   ]
  },
  {
   "cell_type": "code",
   "execution_count": 40,
   "id": "7d363c26",
   "metadata": {},
   "outputs": [
    {
     "data": {
      "text/plain": [
       "223"
      ]
     },
     "execution_count": 40,
     "metadata": {},
     "output_type": "execute_result"
    }
   ],
   "source": [
    "# quantidade de acertos do Deepseek\n",
    "\n",
    "df_deepseek[\"acerto_deepseek\"].sum()"
   ]
  },
  {
   "cell_type": "code",
   "execution_count": 41,
   "id": "7ac4427a",
   "metadata": {},
   "outputs": [],
   "source": [
    "# pegando apenas as colunas de interesse e as necessárias para o merge\n",
    "\n",
    "df_deepseek = df_deepseek[['numero_questao','ANO','resposta_deepseek_limpo','acerto_deepseek']]"
   ]
  },
  {
   "cell_type": "code",
   "execution_count": 42,
   "id": "f42e1b38",
   "metadata": {},
   "outputs": [],
   "source": [
    "# padronizando nome\n",
    "\n",
    "df_deepseek.rename(columns={'resposta_deepseek_limpo': 'resposta_deepseek'}, inplace=True)\n"
   ]
  },
  {
   "cell_type": "code",
   "execution_count": 43,
   "id": "02486d3c",
   "metadata": {},
   "outputs": [
    {
     "data": {
      "text/html": [
       "<div>\n",
       "<style scoped>\n",
       "    .dataframe tbody tr th:only-of-type {\n",
       "        vertical-align: middle;\n",
       "    }\n",
       "\n",
       "    .dataframe tbody tr th {\n",
       "        vertical-align: top;\n",
       "    }\n",
       "\n",
       "    .dataframe thead th {\n",
       "        text-align: right;\n",
       "    }\n",
       "</style>\n",
       "<table border=\"1\" class=\"dataframe\">\n",
       "  <thead>\n",
       "    <tr style=\"text-align: right;\">\n",
       "      <th></th>\n",
       "      <th>numero_questao</th>\n",
       "      <th>ANO</th>\n",
       "      <th>resposta_deepseek</th>\n",
       "      <th>acerto_deepseek</th>\n",
       "    </tr>\n",
       "  </thead>\n",
       "  <tbody>\n",
       "    <tr>\n",
       "      <th>0</th>\n",
       "      <td>1</td>\n",
       "      <td>2017</td>\n",
       "      <td>C</td>\n",
       "      <td>True</td>\n",
       "    </tr>\n",
       "    <tr>\n",
       "      <th>1</th>\n",
       "      <td>2</td>\n",
       "      <td>2017</td>\n",
       "      <td>D</td>\n",
       "      <td>True</td>\n",
       "    </tr>\n",
       "    <tr>\n",
       "      <th>2</th>\n",
       "      <td>3</td>\n",
       "      <td>2017</td>\n",
       "      <td>D</td>\n",
       "      <td>True</td>\n",
       "    </tr>\n",
       "    <tr>\n",
       "      <th>3</th>\n",
       "      <td>4</td>\n",
       "      <td>2017</td>\n",
       "      <td>E</td>\n",
       "      <td>True</td>\n",
       "    </tr>\n",
       "    <tr>\n",
       "      <th>4</th>\n",
       "      <td>5</td>\n",
       "      <td>2017</td>\n",
       "      <td>C</td>\n",
       "      <td>True</td>\n",
       "    </tr>\n",
       "  </tbody>\n",
       "</table>\n",
       "</div>"
      ],
      "text/plain": [
       "   numero_questao   ANO resposta_deepseek  acerto_deepseek\n",
       "0               1  2017                 C             True\n",
       "1               2  2017                 D             True\n",
       "2               3  2017                 D             True\n",
       "3               4  2017                 E             True\n",
       "4               5  2017                 C             True"
      ]
     },
     "execution_count": 43,
     "metadata": {},
     "output_type": "execute_result"
    }
   ],
   "source": [
    "# verificando tabela final\n",
    "\n",
    "df_deepseek.head()"
   ]
  },
  {
   "cell_type": "markdown",
   "id": "d5e7f3f6-5606-455b-a637-212eee54c032",
   "metadata": {},
   "source": [
    "## 5.2.4. Extração das respostas do Deepseek"
   ]
  },
  {
   "cell_type": "code",
   "execution_count": 44,
   "id": "7de8b6f6",
   "metadata": {},
   "outputs": [],
   "source": [
    "# inserindo as novas variáveis do Llama no dataset original\n",
    "\n",
    "df_merged = pd.merge(\n",
    "    enem_data,                 \n",
    "    df_llama,                 \n",
    "    on=['numero_questao', 'ANO'],  \n",
    "    how='left'           \n",
    ")"
   ]
  },
  {
   "cell_type": "code",
   "execution_count": 45,
   "id": "e5ed3d35",
   "metadata": {},
   "outputs": [],
   "source": [
    "# inserindo as novas variáveis do Deepseek no dataset original\n",
    "\n",
    "df_merged = pd.merge(\n",
    "    df_merged,                 \n",
    "    df_deepseek,                 \n",
    "    on=['numero_questao', 'ANO'],  \n",
    "    how='left'           \n",
    ")"
   ]
  },
  {
   "cell_type": "code",
   "execution_count": 46,
   "id": "a1ae2099",
   "metadata": {},
   "outputs": [
    {
     "data": {
      "text/html": [
       "<div>\n",
       "<style scoped>\n",
       "    .dataframe tbody tr th:only-of-type {\n",
       "        vertical-align: middle;\n",
       "    }\n",
       "\n",
       "    .dataframe tbody tr th {\n",
       "        vertical-align: top;\n",
       "    }\n",
       "\n",
       "    .dataframe thead th {\n",
       "        text-align: right;\n",
       "    }\n",
       "</style>\n",
       "<table border=\"1\" class=\"dataframe\">\n",
       "  <thead>\n",
       "    <tr style=\"text-align: right;\">\n",
       "      <th></th>\n",
       "      <th>numero_questao</th>\n",
       "      <th>gabarito</th>\n",
       "      <th>NU_PARAM_A</th>\n",
       "      <th>nu_param_B</th>\n",
       "      <th>NU_PARAM_C</th>\n",
       "      <th>ANO</th>\n",
       "      <th>enunciado</th>\n",
       "      <th>alternativas</th>\n",
       "      <th>gabarito_texto</th>\n",
       "      <th>distratores</th>\n",
       "      <th>...</th>\n",
       "      <th>enunciado_embbedings_word2vec_50</th>\n",
       "      <th>gabarito_embbedings_word2vec_50</th>\n",
       "      <th>distratores_embbedings_word2vec_50</th>\n",
       "      <th>similaridade_enunciado_gabarito_50</th>\n",
       "      <th>similaridade_enunciado_distratores_50</th>\n",
       "      <th>similaridade_gabarito_distratores_50</th>\n",
       "      <th>resposta_llama</th>\n",
       "      <th>acerto_llamma</th>\n",
       "      <th>resposta_deepseek</th>\n",
       "      <th>acerto_deepseek</th>\n",
       "    </tr>\n",
       "  </thead>\n",
       "  <tbody>\n",
       "    <tr>\n",
       "      <th>0</th>\n",
       "      <td>1</td>\n",
       "      <td>C</td>\n",
       "      <td>3.43894</td>\n",
       "      <td>0.97831</td>\n",
       "      <td>0.10855</td>\n",
       "      <td>2017</td>\n",
       "      <td>No império africano do Mali, no século XIV, To...</td>\n",
       "      <td>A:  isolamento geográﬁco do Saara ocidental; B...</td>\n",
       "      <td>posição relativa nas redes de circulação</td>\n",
       "      <td>isolamento geográﬁco do Saara ocidental; explo...</td>\n",
       "      <td>...</td>\n",
       "      <td>[0.09772969, 0.013166125, -0.032748703, 0.0580...</td>\n",
       "      <td>[-0.04434625, 0.2105245, -0.18144351, 0.030336...</td>\n",
       "      <td>[0.12940213, 0.22066694, 0.0586984, 0.03139533...</td>\n",
       "      <td>0.251504</td>\n",
       "      <td>0.736054</td>\n",
       "      <td>0.426387</td>\n",
       "      <td>C</td>\n",
       "      <td>True</td>\n",
       "      <td>C</td>\n",
       "      <td>True</td>\n",
       "    </tr>\n",
       "    <tr>\n",
       "      <th>1</th>\n",
       "      <td>2</td>\n",
       "      <td>D</td>\n",
       "      <td>3.00837</td>\n",
       "      <td>0.49169</td>\n",
       "      <td>0.13877</td>\n",
       "      <td>2017</td>\n",
       "      <td>Após a Declaração Universal dos Direitos Human...</td>\n",
       "      <td>A:  ataque feito pelos japoneses à base milita...</td>\n",
       "      <td>execução de judeus e eslavos presos em guetos ...</td>\n",
       "      <td>ataque feito pelos japoneses à base militar am...</td>\n",
       "      <td>...</td>\n",
       "      <td>[-0.018823402, 0.07832528, -0.016192827, 0.027...</td>\n",
       "      <td>[0.21008351, 0.5248949, 0.03625112, 0.01772637...</td>\n",
       "      <td>[0.078055575, 0.19092263, -0.0076030395, -0.03...</td>\n",
       "      <td>0.634785</td>\n",
       "      <td>0.504648</td>\n",
       "      <td>0.587013</td>\n",
       "      <td>D</td>\n",
       "      <td>True</td>\n",
       "      <td>D</td>\n",
       "      <td>True</td>\n",
       "    </tr>\n",
       "    <tr>\n",
       "      <th>2</th>\n",
       "      <td>3</td>\n",
       "      <td>D</td>\n",
       "      <td>0.60432</td>\n",
       "      <td>3.25992</td>\n",
       "      <td>0.08798</td>\n",
       "      <td>2017</td>\n",
       "      <td>A moralidade, Bentham exortava, não é uma ques...</td>\n",
       "      <td>A:  fundamentação cientíﬁca de viés positivist...</td>\n",
       "      <td>racionalidade de caráter pragmático</td>\n",
       "      <td>fundamentação cientíﬁca de viés positivista; c...</td>\n",
       "      <td>...</td>\n",
       "      <td>[-0.013062097, 0.038470805, -0.020605344, 0.05...</td>\n",
       "      <td>[0.16413634, -0.035050992, 0.08454134, 0.23227...</td>\n",
       "      <td>[0.1313074, 0.058539692, 0.0961813, 0.17813754...</td>\n",
       "      <td>0.655402</td>\n",
       "      <td>0.634760</td>\n",
       "      <td>0.763059</td>\n",
       "      <td>D</td>\n",
       "      <td>True</td>\n",
       "      <td>D</td>\n",
       "      <td>True</td>\n",
       "    </tr>\n",
       "    <tr>\n",
       "      <th>3</th>\n",
       "      <td>4</td>\n",
       "      <td>E</td>\n",
       "      <td>1.85031</td>\n",
       "      <td>0.57925</td>\n",
       "      <td>0.11344</td>\n",
       "      <td>2017</td>\n",
       "      <td>Fala-se muito nos dias de hoje em direitos do ...</td>\n",
       "      <td>A: modernização da educação escolar; B: atuali...</td>\n",
       "      <td>universalização do princípio da igualdade civil</td>\n",
       "      <td>modernização da educação escolar; atualização ...</td>\n",
       "      <td>...</td>\n",
       "      <td>[-0.042833664, -0.01434522, -0.002431296, 0.01...</td>\n",
       "      <td>[0.102909006, 0.06116425, -0.13846825, 0.33034...</td>\n",
       "      <td>[0.11364358, 0.071867414, 0.046681672, 0.18046...</td>\n",
       "      <td>0.485125</td>\n",
       "      <td>0.628863</td>\n",
       "      <td>0.766145</td>\n",
       "      <td>E</td>\n",
       "      <td>True</td>\n",
       "      <td>E</td>\n",
       "      <td>True</td>\n",
       "    </tr>\n",
       "    <tr>\n",
       "      <th>4</th>\n",
       "      <td>5</td>\n",
       "      <td>C</td>\n",
       "      <td>2.46290</td>\n",
       "      <td>0.76307</td>\n",
       "      <td>0.17672</td>\n",
       "      <td>2017</td>\n",
       "      <td>Na Constituição da República Federativa do Bra...</td>\n",
       "      <td>A:  etnia e miscigenação racial; B:  sociedade...</td>\n",
       "      <td>espaço e sobrevivência cultural</td>\n",
       "      <td>etnia e miscigenação racial; sociedade e igual...</td>\n",
       "      <td>...</td>\n",
       "      <td>[0.010493249, 0.11095436, 0.017243173, 0.05319...</td>\n",
       "      <td>[0.267512, -0.081234336, 0.08019033, 0.1294613...</td>\n",
       "      <td>[0.13863416, 0.16260158, -0.0043905806, 0.2472...</td>\n",
       "      <td>0.559584</td>\n",
       "      <td>0.707497</td>\n",
       "      <td>0.692311</td>\n",
       "      <td>C</td>\n",
       "      <td>True</td>\n",
       "      <td>C</td>\n",
       "      <td>True</td>\n",
       "    </tr>\n",
       "  </tbody>\n",
       "</table>\n",
       "<p>5 rows × 36 columns</p>\n",
       "</div>"
      ],
      "text/plain": [
       "   numero_questao gabarito  NU_PARAM_A  nu_param_B  NU_PARAM_C   ANO  \\\n",
       "0               1        C     3.43894     0.97831     0.10855  2017   \n",
       "1               2        D     3.00837     0.49169     0.13877  2017   \n",
       "2               3        D     0.60432     3.25992     0.08798  2017   \n",
       "3               4        E     1.85031     0.57925     0.11344  2017   \n",
       "4               5        C     2.46290     0.76307     0.17672  2017   \n",
       "\n",
       "                                           enunciado  \\\n",
       "0  No império africano do Mali, no século XIV, To...   \n",
       "1  Após a Declaração Universal dos Direitos Human...   \n",
       "2  A moralidade, Bentham exortava, não é uma ques...   \n",
       "3  Fala-se muito nos dias de hoje em direitos do ...   \n",
       "4  Na Constituição da República Federativa do Bra...   \n",
       "\n",
       "                                        alternativas  \\\n",
       "0  A:  isolamento geográﬁco do Saara ocidental; B...   \n",
       "1  A:  ataque feito pelos japoneses à base milita...   \n",
       "2  A:  fundamentação cientíﬁca de viés positivist...   \n",
       "3  A: modernização da educação escolar; B: atuali...   \n",
       "4  A:  etnia e miscigenação racial; B:  sociedade...   \n",
       "\n",
       "                                      gabarito_texto  \\\n",
       "0           posição relativa nas redes de circulação   \n",
       "1  execução de judeus e eslavos presos em guetos ...   \n",
       "2                racionalidade de caráter pragmático   \n",
       "3    universalização do princípio da igualdade civil   \n",
       "4                    espaço e sobrevivência cultural   \n",
       "\n",
       "                                         distratores  ...  \\\n",
       "0  isolamento geográﬁco do Saara ocidental; explo...  ...   \n",
       "1  ataque feito pelos japoneses à base militar am...  ...   \n",
       "2  fundamentação cientíﬁca de viés positivista; c...  ...   \n",
       "3  modernização da educação escolar; atualização ...  ...   \n",
       "4  etnia e miscigenação racial; sociedade e igual...  ...   \n",
       "\n",
       "                    enunciado_embbedings_word2vec_50  \\\n",
       "0  [0.09772969, 0.013166125, -0.032748703, 0.0580...   \n",
       "1  [-0.018823402, 0.07832528, -0.016192827, 0.027...   \n",
       "2  [-0.013062097, 0.038470805, -0.020605344, 0.05...   \n",
       "3  [-0.042833664, -0.01434522, -0.002431296, 0.01...   \n",
       "4  [0.010493249, 0.11095436, 0.017243173, 0.05319...   \n",
       "\n",
       "                     gabarito_embbedings_word2vec_50  \\\n",
       "0  [-0.04434625, 0.2105245, -0.18144351, 0.030336...   \n",
       "1  [0.21008351, 0.5248949, 0.03625112, 0.01772637...   \n",
       "2  [0.16413634, -0.035050992, 0.08454134, 0.23227...   \n",
       "3  [0.102909006, 0.06116425, -0.13846825, 0.33034...   \n",
       "4  [0.267512, -0.081234336, 0.08019033, 0.1294613...   \n",
       "\n",
       "                  distratores_embbedings_word2vec_50  \\\n",
       "0  [0.12940213, 0.22066694, 0.0586984, 0.03139533...   \n",
       "1  [0.078055575, 0.19092263, -0.0076030395, -0.03...   \n",
       "2  [0.1313074, 0.058539692, 0.0961813, 0.17813754...   \n",
       "3  [0.11364358, 0.071867414, 0.046681672, 0.18046...   \n",
       "4  [0.13863416, 0.16260158, -0.0043905806, 0.2472...   \n",
       "\n",
       "  similaridade_enunciado_gabarito_50 similaridade_enunciado_distratores_50  \\\n",
       "0                           0.251504                              0.736054   \n",
       "1                           0.634785                              0.504648   \n",
       "2                           0.655402                              0.634760   \n",
       "3                           0.485125                              0.628863   \n",
       "4                           0.559584                              0.707497   \n",
       "\n",
       "  similaridade_gabarito_distratores_50 resposta_llama  acerto_llamma  \\\n",
       "0                             0.426387              C           True   \n",
       "1                             0.587013              D           True   \n",
       "2                             0.763059              D           True   \n",
       "3                             0.766145              E           True   \n",
       "4                             0.692311              C           True   \n",
       "\n",
       "   resposta_deepseek  acerto_deepseek  \n",
       "0                  C             True  \n",
       "1                  D             True  \n",
       "2                  D             True  \n",
       "3                  E             True  \n",
       "4                  C             True  \n",
       "\n",
       "[5 rows x 36 columns]"
      ]
     },
     "execution_count": 46,
     "metadata": {},
     "output_type": "execute_result"
    }
   ],
   "source": [
    "# resultado final\n",
    "\n",
    "df_merged.head()"
   ]
  },
  {
   "cell_type": "code",
   "execution_count": 47,
   "id": "557e7868",
   "metadata": {},
   "outputs": [],
   "source": [
    "# salvando pickle\n",
    "df_merged.to_pickle(\"../data/final/enem_data_final.pkl\")"
   ]
  }
 ],
 "metadata": {
  "kernelspec": {
   "display_name": ".venv",
   "language": "python",
   "name": "python3"
  },
  "language_info": {
   "codemirror_mode": {
    "name": "ipython",
    "version": 3
   },
   "file_extension": ".py",
   "mimetype": "text/x-python",
   "name": "python",
   "nbconvert_exporter": "python",
   "pygments_lexer": "ipython3",
   "version": "3.11.3"
  }
 },
 "nbformat": 4,
 "nbformat_minor": 5
}
