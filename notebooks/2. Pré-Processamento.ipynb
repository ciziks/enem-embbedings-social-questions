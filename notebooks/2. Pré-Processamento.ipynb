{
 "cells": [
  {
   "cell_type": "markdown",
   "metadata": {},
   "source": [
    "## 2. Preparação para Tokenização (Pré-processamento)\n",
    "\n",
    "* **Input**: CSV contendo todos os enunciados, alternativas e gabaritos\n",
    "\n",
    "* **Output**: CSV com as colunas pré-processadas -> *numero_questao*, *enunciado*, *alternativas*,*nu_param_B*, *gabarito*, *ano*, *enunciado_limpo* e *alternativas_limpo*"
   ]
  },
  {
   "cell_type": "code",
   "execution_count": null,
   "metadata": {},
   "outputs": [],
   "source": [
    "!pip install nltk"
   ]
  },
  {
   "cell_type": "code",
   "execution_count": 6,
   "metadata": {},
   "outputs": [
    {
     "ename": "AttributeError",
     "evalue": "partially initialized module 'nltk' has no attribute 'data' (most likely due to a circular import)",
     "output_type": "error",
     "traceback": [
      "\u001b[0;31m---------------------------------------------------------------------------\u001b[0m",
      "\u001b[0;31mAttributeError\u001b[0m                            Traceback (most recent call last)",
      "Cell \u001b[0;32mIn[6], line 3\u001b[0m\n\u001b[1;32m      1\u001b[0m \u001b[38;5;28;01mimport\u001b[39;00m\u001b[38;5;250m \u001b[39m\u001b[38;5;21;01mpandas\u001b[39;00m\u001b[38;5;250m \u001b[39m\u001b[38;5;28;01mas\u001b[39;00m\u001b[38;5;250m \u001b[39m\u001b[38;5;21;01mpd\u001b[39;00m\n\u001b[1;32m      2\u001b[0m \u001b[38;5;28;01mimport\u001b[39;00m\u001b[38;5;250m \u001b[39m\u001b[38;5;21;01mre\u001b[39;00m\n\u001b[0;32m----> 3\u001b[0m \u001b[38;5;28;01mimport\u001b[39;00m\u001b[38;5;250m \u001b[39m\u001b[38;5;21;01mnltk\u001b[39;00m\n\u001b[1;32m      4\u001b[0m \u001b[38;5;28;01mfrom\u001b[39;00m\u001b[38;5;250m \u001b[39m\u001b[38;5;21;01mnltk\u001b[39;00m\u001b[38;5;21;01m.\u001b[39;00m\u001b[38;5;21;01mcorpus\u001b[39;00m\u001b[38;5;250m \u001b[39m\u001b[38;5;28;01mimport\u001b[39;00m stopwords\n",
      "File \u001b[0;32m~/miniconda3/lib/python3.9/site-packages/nltk/__init__.py:180\u001b[0m\n\u001b[1;32m    177\u001b[0m \u001b[38;5;28;01melse\u001b[39;00m:\n\u001b[1;32m    178\u001b[0m     \u001b[38;5;28;01mfrom\u001b[39;00m\u001b[38;5;250m \u001b[39m\u001b[38;5;21;01mnltk\u001b[39;00m\u001b[38;5;250m \u001b[39m\u001b[38;5;28;01mimport\u001b[39;00m cluster\n\u001b[0;32m--> 180\u001b[0m \u001b[38;5;28;01mfrom\u001b[39;00m\u001b[38;5;250m \u001b[39m\u001b[38;5;21;01mnltk\u001b[39;00m\u001b[38;5;21;01m.\u001b[39;00m\u001b[38;5;21;01mdownloader\u001b[39;00m\u001b[38;5;250m \u001b[39m\u001b[38;5;28;01mimport\u001b[39;00m download, download_shell\n\u001b[1;32m    182\u001b[0m \u001b[38;5;28;01mtry\u001b[39;00m:\n\u001b[1;32m    183\u001b[0m     \u001b[38;5;28;01mimport\u001b[39;00m\u001b[38;5;250m \u001b[39m\u001b[38;5;21;01mtkinter\u001b[39;00m\n",
      "File \u001b[0;32m~/miniconda3/lib/python3.9/site-packages/nltk/downloader.py:2475\u001b[0m\n\u001b[1;32m   2465\u001b[0m             \u001b[38;5;28;01mpass\u001b[39;00m\n\u001b[1;32m   2468\u001b[0m \u001b[38;5;66;03m######################################################################\u001b[39;00m\n\u001b[1;32m   2469\u001b[0m \u001b[38;5;66;03m# Main:\u001b[39;00m\n\u001b[1;32m   2470\u001b[0m \u001b[38;5;66;03m######################################################################\u001b[39;00m\n\u001b[0;32m   (...)\u001b[0m\n\u001b[1;32m   2473\u001b[0m \n\u001b[1;32m   2474\u001b[0m \u001b[38;5;66;03m# Aliases\u001b[39;00m\n\u001b[0;32m-> 2475\u001b[0m _downloader \u001b[38;5;241m=\u001b[39m \u001b[43mDownloader\u001b[49m\u001b[43m(\u001b[49m\u001b[43m)\u001b[49m\n\u001b[1;32m   2476\u001b[0m download \u001b[38;5;241m=\u001b[39m _downloader\u001b[38;5;241m.\u001b[39mdownload\n\u001b[1;32m   2479\u001b[0m \u001b[38;5;28;01mdef\u001b[39;00m\u001b[38;5;250m \u001b[39m\u001b[38;5;21mdownload_shell\u001b[39m():\n",
      "File \u001b[0;32m~/miniconda3/lib/python3.9/site-packages/nltk/downloader.py:515\u001b[0m, in \u001b[0;36mDownloader.__init__\u001b[0;34m(self, server_index_url, download_dir)\u001b[0m\n\u001b[1;32m    513\u001b[0m \u001b[38;5;66;03m# decide where we're going to save things to.\u001b[39;00m\n\u001b[1;32m    514\u001b[0m \u001b[38;5;28;01mif\u001b[39;00m \u001b[38;5;28mself\u001b[39m\u001b[38;5;241m.\u001b[39m_download_dir \u001b[38;5;129;01mis\u001b[39;00m \u001b[38;5;28;01mNone\u001b[39;00m:\n\u001b[0;32m--> 515\u001b[0m     \u001b[38;5;28mself\u001b[39m\u001b[38;5;241m.\u001b[39m_download_dir \u001b[38;5;241m=\u001b[39m \u001b[38;5;28;43mself\u001b[39;49m\u001b[38;5;241;43m.\u001b[39;49m\u001b[43mdefault_download_dir\u001b[49m\u001b[43m(\u001b[49m\u001b[43m)\u001b[49m\n",
      "File \u001b[0;32m~/miniconda3/lib/python3.9/site-packages/nltk/downloader.py:1068\u001b[0m, in \u001b[0;36mDownloader.default_download_dir\u001b[0;34m(self)\u001b[0m\n\u001b[1;32m   1064\u001b[0m     \u001b[38;5;28;01mreturn\u001b[39;00m\n\u001b[1;32m   1066\u001b[0m \u001b[38;5;66;03m# Check if we have sufficient permissions to install in a\u001b[39;00m\n\u001b[1;32m   1067\u001b[0m \u001b[38;5;66;03m# variety of system-wide locations.\u001b[39;00m\n\u001b[0;32m-> 1068\u001b[0m \u001b[38;5;28;01mfor\u001b[39;00m nltkdir \u001b[38;5;129;01min\u001b[39;00m \u001b[43mnltk\u001b[49m\u001b[38;5;241;43m.\u001b[39;49m\u001b[43mdata\u001b[49m\u001b[38;5;241m.\u001b[39mpath:\n\u001b[1;32m   1069\u001b[0m     \u001b[38;5;28;01mif\u001b[39;00m os\u001b[38;5;241m.\u001b[39mpath\u001b[38;5;241m.\u001b[39mexists(nltkdir) \u001b[38;5;129;01mand\u001b[39;00m nltk\u001b[38;5;241m.\u001b[39minternals\u001b[38;5;241m.\u001b[39mis_writable(nltkdir):\n\u001b[1;32m   1070\u001b[0m         \u001b[38;5;28;01mreturn\u001b[39;00m nltkdir\n",
      "\u001b[0;31mAttributeError\u001b[0m: partially initialized module 'nltk' has no attribute 'data' (most likely due to a circular import)"
     ]
    }
   ],
   "source": [
    "import pandas as pd\n",
    "import re\n",
    "import nltk\n",
    "from nltk.corpus import stopwords"
   ]
  },
  {
   "cell_type": "code",
   "execution_count": null,
   "metadata": {
    "scrolled": true
   },
   "outputs": [],
   "source": [
    "# Download stopwords (palavras de parada)\n",
    "nltk.download('stopwords')\n",
    "stop_words = set(stopwords.words('portuguese'))\n",
    "\n",
    "def clean_text(text):\n",
    "    \"\"\"Processando texto de acordo com o Protocolo Primi (2021), citado no artigo\"\"\"\n",
    "    if not isinstance(text, str):  # Garantir que texto é string\n",
    "        return \"\"\n",
    "    \n",
    "    words = re.findall(r'\\b[a-zA-Zà-úÀ-ÚüÜ]+\\b', text.lower())  # 1. Dividir item em palavras\n",
    "    words = [word for word in words if word not in stop_words]  # 2. Remover stopwords\n",
    "    return \" \".join(sorted(set(words)))  # 3. Remover palavras duplicadas\n",
    "\n",
    "def clean_alternatives(alt_text):\n",
    "    \"\"\"Processa as alternativas mantendo as letras (A:, B:, etc.) e limpando o conteúdo.\"\"\"\n",
    "    if not isinstance(alt_text, str):\n",
    "        return \"\"\n",
    "    \n",
    "    alternatives = re.split(r'(?=[A-E]: )', alt_text)  # Divide mantendo os identificadores\n",
    "    cleaned_alts = []\n",
    "    \n",
    "    for alt in alternatives:\n",
    "        if \": \" in alt:\n",
    "            key, value = alt.split(\": \", 1)  # Separa a letra da alternativa do conteúdo\n",
    "            cleaned_value = clean_text(value)  # Aplica limpeza somente no conteúdo\n",
    "            cleaned_alts.append(f\"{key}: {cleaned_value}\")  # Mantém o formato original\n",
    "    \n",
    "    return \"; \".join(cleaned_alts)  # Junta novamente as alternativas\n",
    "\n",
    "\n",
    "PADROES_DESCRICAO = [\n",
    "    r\"Descrição da Figura\",\n",
    "    r\"Descrição da imagem\",\n",
    "    r\"Descrição do mapa\",\n",
    "]\n",
    "\n",
    "regex_descricao = r\"(\" + \"|\".join(PADROES_DESCRICAO) + r\".*)\"\n",
    "\n",
    "def separar_descricao(row):\n",
    "    alternativas = row['alternativas']\n",
    "    \n",
    "    match = re.search(regex_descricao, alternativas, re.IGNORECASE)\n",
    "    \n",
    "    if match:\n",
    "        descricao = match.group(1).strip()\n",
    "        alt_limpa = alternativas[:match.start()].strip()\n",
    "        nova_questao = row['enunciado'].strip() + \" \" + descricao\n",
    "        return pd.Series([alt_limpa, nova_questao])\n",
    "    else:\n",
    "        return pd.Series([alternativas, row['enunciado']])\n",
    "\n",
    "\n",
    "\n",
    "\n",
    "def separate_distractors(row):\n",
    "    items: list = [\n",
    "        alternativa.strip()\n",
    "        for alternativa in row[\"alternativas\"].split(\";\")\n",
    "        if alternativa.strip()\n",
    "    ]\n",
    "\n",
    "    mapping_items = {}\n",
    "    for item in items:\n",
    "        letra, texto = item.split(\":\", 1)\n",
    "        mapping_items[letra.strip()] = texto.strip()\n",
    "\n",
    "    # Extraindo texto do gabarito\n",
    "    gabarito: str = row[\"gabarito\"]\n",
    "    row[\"gabarito_texto\"] = mapping_items.get(gabarito.strip(), \"\")\n",
    "\n",
    "    # Coletando alternativas distratoras\n",
    "    row[\"distratores\"] = \"; \".join(\n",
    "        [texto for letra, texto in mapping_items.items() if letra != gabarito]\n",
    "    )\n",
    "\n",
    "    return row"
   ]
  },
  {
   "cell_type": "code",
   "execution_count": null,
   "metadata": {
    "scrolled": true
   },
   "outputs": [],
   "source": [
    "# separa os casos onde as descrições estão nos enunciados\n",
    "\n",
    "df[['alternativas', 'enunciado']] = df.apply(separar_descricao, axis=1)"
   ]
  },
  {
   "cell_type": "code",
   "execution_count": null,
   "metadata": {},
   "outputs": [],
   "source": [
    "# separa os distratores\n",
    "\n",
    "df = df.apply(separate_distractors, axis=1)\n",
    "\n",
    "df.head()"
   ]
  },
  {
   "cell_type": "code",
   "execution_count": null,
   "metadata": {},
   "outputs": [],
   "source": [
    "# Aplicando pré-processamento no enunciado e alternativas\n",
    "df[\"enunciado_limpo\"] = df[\"enunciado\"].apply(clean_text)\n",
    "df[\"alternativas_limpo\"] = df[\"alternativas\"].apply(clean_alternatives)\n",
    "df[\"gabarito_texto_limpo\"] = df[\"gabarito_texto\"].apply(clean_text)\n",
    "df[\"distratores_limpo\"] = df[\"distratores\"].apply(clean_text)\n",
    "\n",
    "# Save cleaned CSV\n",
    "df.to_csv(\"../data/final/cleaned_data.csv\", index=False)\n",
    "print(\"Processing complete. File saved as 'cleaned_data.csv'.\")\n"
   ]
  }
 ],
 "metadata": {
  "kernelspec": {
   "display_name": "Python 3 (ipykernel)",
   "language": "python",
   "name": "python3"
  },
  "language_info": {
   "codemirror_mode": {
    "name": "ipython",
    "version": 3
   },
   "file_extension": ".py",
   "mimetype": "text/x-python",
   "name": "python",
   "nbconvert_exporter": "python",
   "pygments_lexer": "ipython3",
   "version": "3.9.23"
  }
 },
 "nbformat": 4,
 "nbformat_minor": 4
}
