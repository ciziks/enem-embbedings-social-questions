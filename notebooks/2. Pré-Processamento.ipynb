{
 "cells": [
  {
   "cell_type": "markdown",
   "metadata": {},
   "source": [
    "## 2. Preparação para Tokenização (Pré-processamento)\n",
    "\n",
    "Este notebook é responsável pelo pré-processamento dos dados do ENEM, incluindo a limpeza de texto, remoção de alternativas vazias, extração de gabaritos e distratores, aplicação de protocolos de normalização textual e preparação dos dados para etapas posteriores de vetorização e análise exploratória. O pré-processamento segue o fluxo:\n",
    "\n",
    "* **Input**: CSV contendo todos os enunciados, alternativas e gabaritos\n",
    "\n",
    "* **Output**: CSV com as colunas pré-processadas -> *numero_questao*, *enunciado*, *alternativas*,*nu_param_B*, *gabarito*, *ano*, *enunciado_limpo* e *alternativas_limpo*"
   ]
  },
  {
   "cell_type": "code",
   "execution_count": null,
   "metadata": {},
   "outputs": [],
   "source": [
    "# Importando dependências para o pré-processamento dos dados\n",
    "import pandas as pd\n",
    "import re\n",
    "import nltk\n",
    "from nltk.corpus import stopwords\n",
    "\n",
    "# Download stopwords (palavras de parada)\n",
    "nltk.download('stopwords')"
   ]
  },
  {
   "cell_type": "code",
   "execution_count": null,
   "metadata": {
    "scrolled": true
   },
   "outputs": [],
   "source": [
    "stop_words = set(stopwords.words('portuguese'))\n",
    "\n",
    "def clean_text(text):\n",
    "    \"\"\"Processando texto de acordo com o Protocolo Primi (2021), citado no artigo\"\"\"\n",
    "    if not isinstance(text, str):  # Garantir que texto é string\n",
    "        return \"\"\n",
    "    \n",
    "    words = re.findall(r'\\b[a-zA-Zà-úÀ-ÚüÜ]+\\b', text.lower())  # 1. Dividir item em palavras\n",
    "    words = [word for word in words if word not in stop_words]  # 2. Remover stopwords\n",
    "    return \" \".join(sorted(set(words)))  # 3. Remover palavras duplicadas\n",
    "\n",
    "def clean_alternatives(alt_text):\n",
    "    \"\"\"Processa as alternativas mantendo as letras (A:, B:, etc.) e limpando o conteúdo.\"\"\"\n",
    "    if not isinstance(alt_text, str):\n",
    "        return \"\"\n",
    "    \n",
    "    alternatives = re.split(r'(?=[A-E]: )', alt_text)  # Divide mantendo os identificadores\n",
    "    cleaned_alts = []\n",
    "    \n",
    "    for alt in alternatives:\n",
    "        if \": \" in alt:\n",
    "            key, value = alt.split(\": \", 1)  # Separa a letra da alternativa do conteúdo\n",
    "            cleaned_value = clean_text(value)  # Aplica limpeza somente no conteúdo\n",
    "            cleaned_alts.append(f\"{key}: {cleaned_value}\")  # Mantém o formato original\n",
    "    \n",
    "    return \"; \".join(cleaned_alts)  # Junta novamente as alternativas\n",
    "\n",
    "\n",
    "PADROES_DESCRICAO = [\n",
    "    r\"Descrição da Figura\",\n",
    "    r\"Descrição da imagem\",\n",
    "    r\"Descrição do mapa\",\n",
    "]\n",
    "\n",
    "regex_descricao = r\"(\" + \"|\".join(PADROES_DESCRICAO) + r\".*)\"\n",
    "\n",
    "def separar_descricao(row):\n",
    "    alternativas = row['alternativas']\n",
    "    \n",
    "    match = re.search(regex_descricao, alternativas, re.IGNORECASE)\n",
    "    \n",
    "    if match:\n",
    "        descricao = match.group(1).strip()\n",
    "        alt_limpa = alternativas[:match.start()].strip()\n",
    "        nova_questao = row['enunciado'].strip() + \" \" + descricao\n",
    "        return pd.Series([alt_limpa, nova_questao])\n",
    "    else:\n",
    "        return pd.Series([alternativas, row['enunciado']])\n",
    "\n",
    "\n",
    "\n",
    "\n",
    "def separate_distractors(row):\n",
    "    items: list = [\n",
    "        alternativa.strip()\n",
    "        for alternativa in row[\"alternativas\"].split(\";\")\n",
    "        if alternativa.strip()\n",
    "    ]\n",
    "\n",
    "    mapping_items = {}\n",
    "    for item in items:\n",
    "        letra, texto = item.split(\":\", 1)\n",
    "        mapping_items[letra.strip()] = texto.strip()\n",
    "\n",
    "    # Extraindo texto do gabarito\n",
    "    gabarito: str = row[\"gabarito\"]\n",
    "    row[\"gabarito_texto\"] = mapping_items.get(gabarito.strip(), \"\")\n",
    "\n",
    "    # Coletando alternativas distratoras\n",
    "    row[\"distratores\"] = \"; \".join(\n",
    "        [texto for letra, texto in mapping_items.items() if letra != gabarito]\n",
    "    )\n",
    "\n",
    "    return row"
   ]
  },
  {
   "cell_type": "code",
   "execution_count": null,
   "metadata": {
    "scrolled": true
   },
   "outputs": [],
   "source": [
    "# separa os casos onde as descrições estão nos enunciados\n",
    "\n",
    "df[['alternativas', 'enunciado']] = df.apply(separar_descricao, axis=1)"
   ]
  },
  {
   "cell_type": "code",
   "execution_count": null,
   "metadata": {},
   "outputs": [],
   "source": [
    "# separa os distratores\n",
    "\n",
    "df = df.apply(separate_distractors, axis=1)\n",
    "\n",
    "df.head()"
   ]
  },
  {
   "cell_type": "code",
   "execution_count": null,
   "metadata": {},
   "outputs": [],
   "source": [
    "# Aplicando pré-processamento no enunciado e alternativas\n",
    "df[\"enunciado_limpo\"] = df[\"enunciado\"].apply(clean_text)\n",
    "df[\"alternativas_limpo\"] = df[\"alternativas\"].apply(clean_alternatives)\n",
    "df[\"gabarito_texto_limpo\"] = df[\"gabarito_texto\"].apply(clean_text)\n",
    "df[\"distratores_limpo\"] = df[\"distratores\"].apply(clean_text)\n",
    "\n",
    "# Save cleaned CSV\n",
    "df.to_csv(\"../data/final/cleaned_data.csv\", index=False)\n",
    "print(\"Processing complete. File saved as 'cleaned_data.csv'.\")"
   ]
  }
 ],
 "metadata": {
  "kernelspec": {
   "display_name": ".venv",
   "language": "python",
   "name": "python3"
  },
  "language_info": {
   "codemirror_mode": {
    "name": "ipython",
    "version": 3
   },
   "file_extension": ".py",
   "mimetype": "text/x-python",
   "name": "python",
   "nbconvert_exporter": "python",
   "pygments_lexer": "ipython3",
   "version": "3.11.3"
  }
 },
 "nbformat": 4,
 "nbformat_minor": 4
}
