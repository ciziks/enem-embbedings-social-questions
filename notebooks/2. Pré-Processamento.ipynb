{
 "cells": [
  {
   "cell_type": "markdown",
   "metadata": {},
   "source": [
    "## 2. Preparação para Tokenização (Pré-processamento)\n",
    "\n",
    "* **Input**: CSV contendo todos os enunciados, alternativas e gabaritos\n",
    "\n",
    "* **Output**: CSV com as colunas pré-processadas -> *numero_questao*, *enunciado*, *alternativas*,*nu_param_B*, *gabarito*, *ano*, *enunciado_limpo* e *alternativas_limpo*"
   ]
  },
  {
   "cell_type": "code",
   "execution_count": 3,
   "metadata": {},
   "outputs": [],
   "source": [
    "import pandas as pd\n",
    "import re\n",
    "import nltk\n",
    "from nltk.corpus import stopwords"
   ]
  },
  {
   "cell_type": "code",
   "execution_count": 4,
   "metadata": {},
   "outputs": [
    {
     "name": "stderr",
     "output_type": "stream",
     "text": [
      "[nltk_data] Downloading package stopwords to\n",
      "[nltk_data]     /home/gustavo/nltk_data...\n",
      "[nltk_data]   Unzipping corpora/stopwords.zip.\n"
     ]
    }
   ],
   "source": [
    "# Download stopwords (palavras de parada)\n",
    "nltk.download('stopwords')\n",
    "stop_words = set(stopwords.words('portuguese'))\n",
    "\n",
    "def clean_text(text):\n",
    "    \"\"\"Processando texto de acordo com o Protocolo Primi (2021), citado no artigo\"\"\"\n",
    "    if not isinstance(text, str):  # Garantir que texto é string\n",
    "        return \"\"\n",
    "    \n",
    "    words = re.findall(r'\\b[a-zA-Zà-úÀ-ÚüÜ]+\\b', text.lower())  # 1. Dividir item em palavras\n",
    "    words = [word for word in words if word not in stop_words]  # 2. Remover stopwords\n",
    "    return \" \".join(sorted(set(words)))  # 3. Remover palavras duplicadas\n",
    "\n",
    "def clean_alternatives(alt_text):\n",
    "    \"\"\"Processa as alternativas mantendo as letras (A:, B:, etc.) e limpando o conteúdo.\"\"\"\n",
    "    if not isinstance(alt_text, str):\n",
    "        return \"\"\n",
    "    \n",
    "    alternatives = re.split(r'(?=[A-E]: )', alt_text)  # Divide mantendo os identificadores\n",
    "    cleaned_alts = []\n",
    "    \n",
    "    for alt in alternatives:\n",
    "        if \": \" in alt:\n",
    "            key, value = alt.split(\": \", 1)  # Separa a letra da alternativa do conteúdo\n",
    "            cleaned_value = clean_text(value)  # Aplica limpeza somente no conteúdo\n",
    "            cleaned_alts.append(f\"{key}: {cleaned_value}\")  # Mantém o formato original\n",
    "    \n",
    "    return \"; \".join(cleaned_alts)  # Junta novamente as alternativas"
   ]
  },
  {
   "cell_type": "code",
   "execution_count": null,
   "metadata": {},
   "outputs": [
    {
     "name": "stdout",
     "output_type": "stream",
     "text": [
      "Processing complete. File saved as 'cleaned_data.csv'.\n"
     ]
    }
   ],
   "source": [
    "df = pd.read_csv(\"../data/final/enem_data.csv\")\n",
    "\n",
    "# Aplicando pré-processamento no enunciado e alternativas\n",
    "df[\"enunciado_limpo\"] = df[\"enunciado\"].apply(clean_text)\n",
    "df[\"alternativas_limpo\"] = df[\"alternativas\"].apply(clean_alternatives)\n",
    "\n",
    "# Save cleaned CSV\n",
    "df.to_csv(\"../data/cleaned_data.csv\", index=False)\n",
    "print(\"Processing complete. File saved as 'cleaned_data.csv'.\")\n"
   ]
  },
  {
   "cell_type": "code",
   "execution_count": null,
   "metadata": {},
   "outputs": [],
   "source": []
  }
 ],
 "metadata": {
  "kernelspec": {
   "display_name": "Python 3 (ipykernel)",
   "language": "python",
   "name": "python3"
  },
  "language_info": {
   "codemirror_mode": {
    "name": "ipython",
    "version": 3
   },
   "file_extension": ".py",
   "mimetype": "text/x-python",
   "name": "python",
   "nbconvert_exporter": "python",
   "pygments_lexer": "ipython3",
   "version": "3.9.12"
  }
 },
 "nbformat": 4,
 "nbformat_minor": 2
}
